{
 "cells": [
  {
   "cell_type": "markdown",
   "metadata": {},
   "source": [
    "# Genomic Location of DMR"
   ]
  },
  {
   "cell_type": "markdown",
   "metadata": {},
   "source": [
    "In this notebook, I will identify the genomic locations of [DMR identified with `BAT_DMRcalling`](https://github.com/yaaminiv/killifish-hypoxia-RRBS/blob/main/code/06-DMR.sh). "
   ]
  },
  {
   "cell_type": "markdown",
   "metadata": {},
   "source": [
    "## 0. Set working directory"
   ]
  },
  {
   "cell_type": "code",
   "execution_count": 1,
   "metadata": {},
   "outputs": [
    {
     "data": {
      "text/plain": [
       "'/Users/yaaminivenkataraman/Documents/killifish-hypoxia-RRBS/code'"
      ]
     },
     "execution_count": 1,
     "metadata": {},
     "output_type": "execute_result"
    }
   ],
   "source": [
    "pwd"
   ]
  },
  {
   "cell_type": "code",
   "execution_count": 2,
   "metadata": {},
   "outputs": [
    {
     "name": "stdout",
     "output_type": "stream",
     "text": [
      "/Users/yaaminivenkataraman/Documents/killifish-hypoxia-RRBS/output\n"
     ]
    }
   ],
   "source": [
    "cd ../output/"
   ]
  },
  {
   "cell_type": "code",
   "execution_count": 3,
   "metadata": {},
   "outputs": [
    {
     "name": "stdout",
     "output_type": "stream",
     "text": [
      "mkdir: 08-annotate-DMR: File exists\r\n"
     ]
    }
   ],
   "source": [
    "!mkdir 08-annotate-DMR"
   ]
  },
  {
   "cell_type": "code",
   "execution_count": 3,
   "metadata": {},
   "outputs": [
    {
     "name": "stdout",
     "output_type": "stream",
     "text": [
      "/Users/yaaminivenkataraman/Documents/killifish-hypoxia-RRBS/output/08-annotate-DMR\n"
     ]
    }
   ],
   "source": [
    "cd 08-annotate-DMR/"
   ]
  },
  {
   "cell_type": "code",
   "execution_count": 79,
   "metadata": {},
   "outputs": [],
   "source": [
    "!mkdir new-genome"
   ]
  },
  {
   "cell_type": "code",
   "execution_count": 80,
   "metadata": {},
   "outputs": [
    {
     "name": "stdout",
     "output_type": "stream",
     "text": [
      "/Users/yaaminivenkataraman/Documents/killifish-hypoxia-RRBS/output/08-annotate-DMR/new-genome\n"
     ]
    }
   ],
   "source": [
    "cd new-genome/"
   ]
  },
  {
   "cell_type": "code",
   "execution_count": 4,
   "metadata": {},
   "outputs": [],
   "source": [
    "bedtoolsDirectory = \"/opt/homebrew/bin/\""
   ]
  },
  {
   "cell_type": "code",
   "execution_count": 82,
   "metadata": {},
   "outputs": [
    {
     "name": "stdout",
     "output_type": "stream",
     "text": [
      "../../06-DMR/new-genome/missing_1/20_5_N/20_5_N_qval.0.05.bed\r\n",
      "../../06-DMR/new-genome/missing_1/20_5_S/20_5_S_qval.0.05.bed\r\n",
      "../../06-DMR/new-genome/missing_1/20_OC_N/20_OC_N_qval.0.05.bed\r\n",
      "../../06-DMR/new-genome/missing_1/20_OC_S/20_OC_S_qval.0.05.bed\r\n",
      "../../06-DMR/new-genome/missing_1/20_pop_diff/20_pop_diff_qval.0.05.bed\r\n",
      "../../06-DMR/new-genome/missing_1/5_OC_N/5_OC_N_qval.0.05.bed\r\n",
      "../../06-DMR/new-genome/missing_1/5_OC_S/5_OC_S_qval.0.05.bed\r\n",
      "../../06-DMR/new-genome/missing_1/5_pop_diff/5_pop_diff_qval.0.05.bed\r\n",
      "../../06-DMR/new-genome/missing_1/OC_pop_diff/OC_pop_diff_qval.0.05.bed\r\n",
      "../../06-DMR/new-genome/missing_1/all_pop/all_pop_qval.0.05.bed\r\n"
     ]
    }
   ],
   "source": [
    "!find ../../06-DMR/new-genome/missing_1/*/*bed"
   ]
  },
  {
   "cell_type": "code",
   "execution_count": 84,
   "metadata": {},
   "outputs": [],
   "source": [
    "%%bash \n",
    "\n",
    "for f in ../../06-DMR/new-genome/missing_1/*/*bed\n",
    "do\n",
    "   /opt/homebrew/bin/sortBed \\\n",
    "   -i ${f} \\\n",
    "   -faidx ../../../genome-features/mummichog.chrom.length \\\n",
    "   > $(basename ${f%_qval.0.05.bed})_DMR.sort.bed\n",
    "done"
   ]
  },
  {
   "cell_type": "code",
   "execution_count": 85,
   "metadata": {},
   "outputs": [
    {
     "name": "stdout",
     "output_type": "stream",
     "text": [
      "==> 20_5_N_DMR.sort.bed <==\n",
      "NC_046361.1\t5411834\t5411929\tDMR_1\thypomethylated\n",
      "NC_046361.1\t5420132\t5420227\tDMR_2\thypomethylated\n",
      "NC_046365.1\t15020929\t15020962\tDMR_3\thypomethylated\n",
      "NC_046365.1\t15029545\t15029578\tDMR_4\thypomethylated\n",
      "NC_046369.1\t23714137\t23714467\tDMR_5\thypomethylated\n",
      "NC_046372.1\t4663541\t4663752\tDMR_6\thypermethylated\n",
      "NC_046373.1\t14583752\t14583847\tDMR_7\thypomethylated\n",
      "NC_046373.1\t14592138\t14592233\tDMR_8\thypomethylated\n",
      "NC_046373.1\t37115424\t37115457\tDMR_9\thypomethylated\n",
      "NC_046373.1\t38547588\t38547621\tDMR_10\thypomethylated\n",
      "\n",
      "==> 20_5_S_DMR.sort.bed <==\n",
      "\n",
      "==> 20_OC_N_DMR.sort.bed <==\n",
      "NC_046363.1\t3538100\t3538292\tDMR_1\thypermethylated\n",
      "NC_046364.1\t22883537\t22883766\tDMR_2\thypermethylated\n",
      "NC_046366.1\t7081208\t7081367\tDMR_3\thypermethylated\n",
      "NC_046367.1\t16770264\t16770423\tDMR_4\thypermethylated\n",
      "NC_046373.1\t281709\t281971\tDMR_5\thypermethylated\n",
      "NC_046376.1\t57649\t57779\tDMR_6\thypermethylated\n",
      "NC_046376.1\t37486144\t37486331\tDMR_7\thypermethylated\n",
      "NC_046381.1\t24998741\t24998900\tDMR_8\thypermethylated\n",
      "NC_046382.1\t24016650\t24016784\tDMR_9\thypermethylated\n",
      "NW_023397099.1\t1670533\t1670680\tDMR_10\thypermethylated\n",
      "\n",
      "==> 20_OC_S_DMR.sort.bed <==\n",
      "\n",
      "==> 20_pop_diff_DMR.sort.bed <==\n",
      "\n",
      "==> 5_OC_N_DMR.sort.bed <==\n",
      "NC_046361.1\t5411834\t5411928\tDMR_1\thypermethylated\n",
      "NC_046361.1\t5420132\t5420226\tDMR_2\thypermethylated\n",
      "NC_046361.1\t41997840\t41998004\tDMR_3\thypermethylated\n",
      "NC_046362.1\t18039751\t18039824\tDMR_4\thypermethylated\n",
      "NC_046363.1\t6052206\t6052595\tDMR_5\thypomethylated\n",
      "NC_046363.1\t17138613\t17138818\tDMR_6\thypermethylated\n",
      "NC_046363.1\t21695863\t21695936\tDMR_7\thypermethylated\n",
      "NC_046364.1\t33298295\t33298366\tDMR_8\thypermethylated\n",
      "NC_046364.1\t40892789\t40892994\tDMR_9\thypermethylated\n",
      "NC_046365.1\t15852888\t15853022\tDMR_10\thypermethylated\n",
      "\n",
      "==> 5_OC_S_DMR.sort.bed <==\n",
      "\n",
      "==> 5_pop_diff_DMR.sort.bed <==\n",
      "NC_046361.1\t10902397\t10902516\tDMR_1\thypomethylated\n",
      "NC_046362.1\t24575499\t24575593\tDMR_2\thypermethylated\n",
      "NC_046362.1\t24584027\t24584121\tDMR_3\thypermethylated\n",
      "NC_046362.1\t35470061\t35470157\tDMR_4\thypomethylated\n",
      "NC_046363.1\t203897\t205027\tDMR_5\thypomethylated\n",
      "NC_046369.1\t26223581\t26223702\tDMR_6\thypomethylated\n",
      "NC_046373.1\t14583736\t14583847\tDMR_7\thypermethylated\n",
      "NC_046373.1\t14592139\t14592233\tDMR_8\thypermethylated\n",
      "NC_046374.1\t20646131\t20646225\tDMR_9\thypermethylated\n",
      "NC_046374.1\t20654367\t20654461\tDMR_10\thypermethylated\n",
      "\n",
      "==> OC_pop_diff_DMR.sort.bed <==\n",
      "NC_046370.1\t21493874\t21493961\tDMR_1\thypermethylated\n",
      "\n",
      "==> all_pop_DMR.sort.bed <==\n",
      "NC_046362.1\t39864318\t39864358\tDMR_1\thypermethylated\n",
      "NC_046363.1\t203897\t205027\tDMR_2\thypomethylated\n",
      "NC_046363.1\t11482768\t11483020\tDMR_3\thypomethylated\n",
      "NC_046366.1\t15952916\t15953096\tDMR_4\thypermethylated\n",
      "NC_046366.1\t32856829\t32857009\tDMR_5\thypermethylated\n",
      "NC_046367.1\t32848978\t32849069\tDMR_6\thypomethylated\n",
      "NC_046372.1\t26908073\t26908253\tDMR_7\thypermethylated\n",
      "NC_046373.1\t7352980\t7353160\tDMR_8\thypermethylated\n",
      "NC_046381.1\t4397623\t4397714\tDMR_9\thypomethylated\n",
      "NW_023396868.1\t506268\t506448\tDMR_10\thypermethylated\n"
     ]
    }
   ],
   "source": [
    "!head *DMR.sort.bed"
   ]
  },
  {
   "cell_type": "code",
   "execution_count": 86,
   "metadata": {},
   "outputs": [],
   "source": [
    "#Remove empty files (no DMR in those contrasts)\n",
    "!rm 20_5_S_DMR.sort.bed \\\n",
    "20_OC_S_DMR.sort.bed \\\n",
    "20_pop_diff_DMR.sort.bed \\\n",
    "5_OC_S_DMR.sort.bed"
   ]
  },
  {
   "cell_type": "code",
   "execution_count": 87,
   "metadata": {
    "scrolled": false
   },
   "outputs": [
    {
     "name": "stdout",
     "output_type": "stream",
     "text": [
      "20_5_N_DMR.sort.bed      5_OC_N_DMR.sort.bed      OC_pop_diff_DMR.sort.bed\r\n",
      "20_OC_N_DMR.sort.bed     5_pop_diff_DMR.sort.bed  all_pop_DMR.sort.bed\r\n"
     ]
    }
   ],
   "source": [
    "!ls *sort.bed"
   ]
  },
  {
   "cell_type": "markdown",
   "metadata": {},
   "source": [
    "## 2. Identify overlaps between DML lists"
   ]
  },
  {
   "cell_type": "markdown",
   "metadata": {},
   "source": [
    "### 2a. Overlaps within NBH"
   ]
  },
  {
   "cell_type": "code",
   "execution_count": 138,
   "metadata": {},
   "outputs": [
    {
     "name": "stdout",
     "output_type": "stream",
     "text": [
      "20_5_N_DMR.sort.bed\r\n",
      "20_OC_N_DMR.sort.bed\r\n",
      "5_OC_N_DMR.sort.bed\r\n"
     ]
    }
   ],
   "source": [
    "!find *N_DMR.sort.bed"
   ]
  },
  {
   "cell_type": "code",
   "execution_count": 195,
   "metadata": {},
   "outputs": [],
   "source": [
    "#Assess overlaps between 20_OC_N and 5_OC_N\n",
    "!{bedtoolsDirectory}intersectBed \\\n",
    "-a 20_OC_N_DMR.sort.bed \\\n",
    "-b 5_OC_N_DMR.sort.bed \\\n",
    "-wa \\\n",
    "-wb \\\n",
    "> 20_OC_N_v_5_OC_N_DMR.bed"
   ]
  },
  {
   "cell_type": "code",
   "execution_count": 198,
   "metadata": {
    "scrolled": false
   },
   "outputs": [
    {
     "name": "stdout",
     "output_type": "stream",
     "text": [
      "NC_046382.1\t24016650\t24016784\tDMR_9\thypermethylated\tNC_046382.1\t24016638\t24016801\tDMR_45\thypermethylated\n",
      "NW_023397099.1\t1670533\t1670680\tDMR_10\thypermethylated\tNW_023397099.1\t1670517\t1670680\tDMR_57\thypermethylated\n",
      "       2 20_OC_N_v_5_OC_N_DMR.bed\n"
     ]
    }
   ],
   "source": [
    "!head 20_OC_N_v_5_OC_N_DMR.bed\n",
    "!wc -l 20_OC_N_v_5_OC_N_DMR.bed"
   ]
  },
  {
   "cell_type": "code",
   "execution_count": 149,
   "metadata": {},
   "outputs": [],
   "source": [
    "#Assess overlaps between 20_OC_N and 20_5_N\n",
    "!{bedtoolsDirectory}intersectBed \\\n",
    "-a 20_OC_N_DMR.sort.bed \\\n",
    "-b 20_5_N_DMR.sort.bed \\\n",
    "-wa \\\n",
    "-wb \\\n",
    "> 20_OC_N_v_20_5_N_DMR.bed"
   ]
  },
  {
   "cell_type": "code",
   "execution_count": 150,
   "metadata": {
    "scrolled": true
   },
   "outputs": [
    {
     "name": "stdout",
     "output_type": "stream",
     "text": [
      "       0 20_OC_N_v_20_5_N_DMR.bed\r\n"
     ]
    }
   ],
   "source": [
    "!head 20_OC_N_v_20_5_N_DMR.bed\n",
    "!wc -l 20_OC_N_v_20_5_N_DMR.bed"
   ]
  },
  {
   "cell_type": "code",
   "execution_count": 151,
   "metadata": {},
   "outputs": [],
   "source": [
    "#Remove file because there are no overlaps\n",
    "!rm 20_OC_N_v_20_5_N_DMR.bed"
   ]
  },
  {
   "cell_type": "code",
   "execution_count": 196,
   "metadata": {},
   "outputs": [],
   "source": [
    "#Assess overlaps between 20_5_N and 5_OC_N\n",
    "!{bedtoolsDirectory}intersectBed \\\n",
    "-a 20_5_N_DMR.sort.bed \\\n",
    "-b 5_OC_N_DMR.sort.bed \\\n",
    "-wa \\\n",
    "-wb \\\n",
    "> 20_5_N_v_5_OC_N_DMR.bed"
   ]
  },
  {
   "cell_type": "code",
   "execution_count": 197,
   "metadata": {
    "scrolled": false
   },
   "outputs": [
    {
     "name": "stdout",
     "output_type": "stream",
     "text": [
      "NC_046361.1\t5411834\t5411929\tDMR_1\thypomethylated\tNC_046361.1\t5411834\t5411928\tDMR_1\thypermethylated\n",
      "NC_046361.1\t5420132\t5420227\tDMR_2\thypomethylated\tNC_046361.1\t5420132\t5420226\tDMR_2\thypermethylated\n",
      "NC_046374.1\t27454661\t27454756\tDMR_13\thypomethylated\tNC_046374.1\t27454661\t27454755\tDMR_31\thypermethylated\n",
      "NC_046374.1\t27463307\t27463402\tDMR_14\thypomethylated\tNC_046374.1\t27463307\t27463401\tDMR_32\thypermethylated\n",
      "NC_046381.1\t2086896\t2086991\tDMR_15\thypomethylated\tNC_046381.1\t2086896\t2086990\tDMR_37\thypermethylated\n",
      "NC_046381.1\t2095296\t2095391\tDMR_16\thypomethylated\tNC_046381.1\t2095296\t2095390\tDMR_38\thypermethylated\n",
      "NC_046381.1\t2103821\t2103916\tDMR_17\thypomethylated\tNC_046381.1\t2103821\t2103915\tDMR_39\thypermethylated\n",
      "NW_023397202.1\t16469\t16564\tDMR_23\thypomethylated\tNW_023397202.1\t16469\t16563\tDMR_58\thypermethylated\n",
      "       8 20_5_N_v_5_OC_N_DMR.bed\n"
     ]
    }
   ],
   "source": [
    "!head 20_5_N_v_5_OC_N_DMR.bed\n",
    "!wc -l 20_5_N_v_5_OC_N_DMR.bed"
   ]
  },
  {
   "cell_type": "markdown",
   "metadata": {},
   "source": [
    "### 2b. Overlaps between population DMR"
   ]
  },
  {
   "cell_type": "code",
   "execution_count": 155,
   "metadata": {
    "scrolled": true
   },
   "outputs": [
    {
     "name": "stdout",
     "output_type": "stream",
     "text": [
      "5_pop_diff_DMR.sort.bed\r\n",
      "OC_pop_diff_DMR.sort.bed\r\n",
      "all_pop_DMR.sort.bed\r\n"
     ]
    }
   ],
   "source": [
    "!find *pop*.sort.bed"
   ]
  },
  {
   "cell_type": "code",
   "execution_count": 156,
   "metadata": {},
   "outputs": [],
   "source": [
    "#Assess overlaps between all population DMR and OC pop DMR\n",
    "!{bedtoolsDirectory}intersectBed \\\n",
    "-a all_pop_DMR.sort.bed \\\n",
    "-b OC_pop_diff_DMR.sort.bed \\\n",
    "-wa \\\n",
    "-wb \\\n",
    "> all_pop_v_OC_pop_DMR.bed"
   ]
  },
  {
   "cell_type": "code",
   "execution_count": 157,
   "metadata": {
    "scrolled": false
   },
   "outputs": [
    {
     "name": "stdout",
     "output_type": "stream",
     "text": [
      "       0 all_pop_v_OC_pop_DMR.bed\r\n"
     ]
    }
   ],
   "source": [
    "!head all_pop_v_OC_pop_DMR.bed\n",
    "!wc -l all_pop_v_OC_pop_DMR.bed"
   ]
  },
  {
   "cell_type": "code",
   "execution_count": 158,
   "metadata": {},
   "outputs": [],
   "source": [
    "#Remove file since there were no common DMR\n",
    "!rm all_pop_v_OC_pop_DMR.bed"
   ]
  },
  {
   "cell_type": "code",
   "execution_count": 199,
   "metadata": {},
   "outputs": [],
   "source": [
    "#Assess overlaps between all population DMR and 5 pop DMR\n",
    "!{bedtoolsDirectory}intersectBed \\\n",
    "-a all_pop_DMR.sort.bed \\\n",
    "-b 5_pop_diff_DMR.sort.bed \\\n",
    "-wa \\\n",
    "-wb \\\n",
    "> all_pop_v_5_pop_DMR.bed"
   ]
  },
  {
   "cell_type": "code",
   "execution_count": 200,
   "metadata": {
    "scrolled": false
   },
   "outputs": [
    {
     "name": "stdout",
     "output_type": "stream",
     "text": [
      "NC_046363.1\t203897\t205027\tDMR_2\thypomethylated\tNC_046363.1\t203897\t205027\tDMR_5\thypomethylated\n",
      "       1 all_pop_v_5_pop_DMR.bed\n"
     ]
    }
   ],
   "source": [
    "!head all_pop_v_5_pop_DMR.bed\n",
    "!wc -l all_pop_v_5_pop_DMR.bed"
   ]
  },
  {
   "cell_type": "code",
   "execution_count": 163,
   "metadata": {},
   "outputs": [],
   "source": [
    "#Assess overlaps between OC pop DMR and 5 pop DMR\n",
    "!{bedtoolsDirectory}intersectBed \\\n",
    "-a OC_pop_diff_DMR.sort.bed \\\n",
    "-b 5_pop_diff_DMR.sort.bed \\\n",
    "-wa \\\n",
    "-wb \\\n",
    "> OC_pop_v_5_pop_DMR.bed"
   ]
  },
  {
   "cell_type": "code",
   "execution_count": 164,
   "metadata": {
    "scrolled": false
   },
   "outputs": [
    {
     "name": "stdout",
     "output_type": "stream",
     "text": [
      "       0 OC_pop_v_5_pop_DMR.bed\r\n"
     ]
    }
   ],
   "source": [
    "!head OC_pop_v_5_pop_DMR.bed\n",
    "!wc -l OC_pop_v_5_pop_DMR.bed"
   ]
  },
  {
   "cell_type": "code",
   "execution_count": 165,
   "metadata": {},
   "outputs": [],
   "source": [
    "#Remove file since there were no common DMR\n",
    "!rm OC_pop_v_5_pop_DMR.bed"
   ]
  },
  {
   "cell_type": "markdown",
   "metadata": {},
   "source": [
    "### 2c. Overlaps with NBH and population DMR"
   ]
  },
  {
   "cell_type": "markdown",
   "metadata": {},
   "source": [
    "#### All samples"
   ]
  },
  {
   "cell_type": "code",
   "execution_count": 167,
   "metadata": {},
   "outputs": [],
   "source": [
    "#Assess overlaps between all population DMR and 20_5_N DMR\n",
    "!{bedtoolsDirectory}intersectBed \\\n",
    "-a all_pop_DMR.sort.bed \\\n",
    "-b 20_5_N_DMR.sort.bed \\\n",
    "-wa \\\n",
    "-wb \\\n",
    "> all_pop_v_20_5_N_DMR.bed"
   ]
  },
  {
   "cell_type": "code",
   "execution_count": 168,
   "metadata": {
    "scrolled": false
   },
   "outputs": [
    {
     "name": "stdout",
     "output_type": "stream",
     "text": [
      "       0 all_pop_v_20_5_N_DMR.bed\r\n"
     ]
    }
   ],
   "source": [
    "!head all_pop_v_20_5_N_DMR.bed\n",
    "!wc -l all_pop_v_20_5_N_DMR.bed"
   ]
  },
  {
   "cell_type": "code",
   "execution_count": 169,
   "metadata": {},
   "outputs": [],
   "source": [
    "#Remove empty file\n",
    "!rm all_pop_v_20_5_N_DMR.bed"
   ]
  },
  {
   "cell_type": "code",
   "execution_count": 170,
   "metadata": {},
   "outputs": [],
   "source": [
    "#Assess overlaps between all population DMR and 20_OC_N DMR\n",
    "!{bedtoolsDirectory}intersectBed \\\n",
    "-a all_pop_DMR.sort.bed \\\n",
    "-b 20_OC_N_DMR.sort.bed \\\n",
    "-wa \\\n",
    "-wb \\\n",
    "> all_pop_v_20_OC_N_DMR.bed"
   ]
  },
  {
   "cell_type": "code",
   "execution_count": 171,
   "metadata": {
    "scrolled": false
   },
   "outputs": [
    {
     "name": "stdout",
     "output_type": "stream",
     "text": [
      "       0 all_pop_v_20_OC_N_DMR.bed\r\n"
     ]
    }
   ],
   "source": [
    "!head all_pop_v_20_OC_N_DMR.bed\n",
    "!wc -l all_pop_v_20_OC_N_DMR.bed"
   ]
  },
  {
   "cell_type": "code",
   "execution_count": 172,
   "metadata": {},
   "outputs": [],
   "source": [
    "#Remove empty file\n",
    "!rm all_pop_v_20_OC_N_DMR.bed"
   ]
  },
  {
   "cell_type": "code",
   "execution_count": 173,
   "metadata": {},
   "outputs": [],
   "source": [
    "#Assess overlaps between all population DMR and 5_OC_N DMR\n",
    "!{bedtoolsDirectory}intersectBed \\\n",
    "-a all_pop_DMR.sort.bed \\\n",
    "-b 5_OC_N_DMR.sort.bed \\\n",
    "-wa \\\n",
    "-wb \\\n",
    "> all_pop_v_5_OC_N_DMR.bed"
   ]
  },
  {
   "cell_type": "code",
   "execution_count": 174,
   "metadata": {
    "scrolled": false
   },
   "outputs": [
    {
     "name": "stdout",
     "output_type": "stream",
     "text": [
      "       0 all_pop_v_5_OC_N_DMR.bed\r\n"
     ]
    }
   ],
   "source": [
    "!head all_pop_v_5_OC_N_DMR.bed\n",
    "!wc -l all_pop_v_5_OC_N_DMR.bed"
   ]
  },
  {
   "cell_type": "code",
   "execution_count": 175,
   "metadata": {},
   "outputs": [],
   "source": [
    "#Remove empty file\n",
    "!rm all_pop_v_5_OC_N_DMR.bed"
   ]
  },
  {
   "cell_type": "markdown",
   "metadata": {},
   "source": [
    "#### Outside control samples from all populations"
   ]
  },
  {
   "cell_type": "code",
   "execution_count": 176,
   "metadata": {},
   "outputs": [],
   "source": [
    "#Assess overlaps between OC population DMR and 20_5_N DMR\n",
    "!{bedtoolsDirectory}intersectBed \\\n",
    "-a OC_pop_diff_DMR.sort.bed \\\n",
    "-b 20_5_N_DMR.sort.bed \\\n",
    "-wa \\\n",
    "-wb \\\n",
    "> OC_pop_v_20_5_N_DMR.bed"
   ]
  },
  {
   "cell_type": "code",
   "execution_count": 177,
   "metadata": {
    "scrolled": false
   },
   "outputs": [
    {
     "name": "stdout",
     "output_type": "stream",
     "text": [
      "       0 OC_pop_v_20_5_N_DMR.bed\r\n"
     ]
    }
   ],
   "source": [
    "!head OC_pop_v_20_5_N_DMR.bed\n",
    "!wc -l OC_pop_v_20_5_N_DMR.bed"
   ]
  },
  {
   "cell_type": "code",
   "execution_count": 178,
   "metadata": {},
   "outputs": [],
   "source": [
    "#Remove empty file\n",
    "!rm OC_pop_v_20_5_N_DMR.bed"
   ]
  },
  {
   "cell_type": "code",
   "execution_count": 180,
   "metadata": {},
   "outputs": [],
   "source": [
    "#Assess overlaps between all normoxia samples DMR and 20_OC_N DMR\n",
    "!{bedtoolsDirectory}intersectBed \\\n",
    "-a OC_pop_diff_DMR.sort.bed \\\n",
    "-b 20_OC_N_DMR.sort.bed \\\n",
    "-wa \\\n",
    "-wb \\\n",
    "> OC_pop_v_20_OC_N_DMR.bed"
   ]
  },
  {
   "cell_type": "code",
   "execution_count": 181,
   "metadata": {
    "scrolled": false
   },
   "outputs": [
    {
     "name": "stdout",
     "output_type": "stream",
     "text": [
      "       0 OC_pop_v_20_OC_N_DMR.bed\r\n"
     ]
    }
   ],
   "source": [
    "!head OC_pop_v_20_OC_N_DMR.bed\n",
    "!wc -l OC_pop_v_20_OC_N_DMR.bed"
   ]
  },
  {
   "cell_type": "code",
   "execution_count": 182,
   "metadata": {},
   "outputs": [],
   "source": [
    "#Remove empty file\n",
    "!rm OC_pop_v_20_OC_N_DMR.bed"
   ]
  },
  {
   "cell_type": "code",
   "execution_count": 183,
   "metadata": {},
   "outputs": [],
   "source": [
    "#Assess overlaps between all normoxia samples DMR and 5_OC_N DMR\n",
    "!{bedtoolsDirectory}intersectBed \\\n",
    "-a OC_pop_diff_DMR.sort.bed \\\n",
    "-b 5_OC_N_DMR.sort.bed \\\n",
    "-wa \\\n",
    "-wb \\\n",
    "> OC_pop_v_5_OC_N_DMR.bed"
   ]
  },
  {
   "cell_type": "code",
   "execution_count": 184,
   "metadata": {
    "scrolled": false
   },
   "outputs": [
    {
     "name": "stdout",
     "output_type": "stream",
     "text": [
      "       0 OC_pop_v_5_OC_N_DMR.bed\r\n"
     ]
    }
   ],
   "source": [
    "!head OC_pop_v_5_OC_N_DMR.bed\n",
    "!wc -l OC_pop_v_5_OC_N_DMR.bed"
   ]
  },
  {
   "cell_type": "code",
   "execution_count": 185,
   "metadata": {},
   "outputs": [],
   "source": [
    "#Remove empty file\n",
    "!rm OC_pop_v_5_OC_N_DMR.bed"
   ]
  },
  {
   "cell_type": "markdown",
   "metadata": {},
   "source": [
    "#### Hypoxia samples from all populations"
   ]
  },
  {
   "cell_type": "code",
   "execution_count": 193,
   "metadata": {},
   "outputs": [],
   "source": [
    "#Assess overlaps between all hypoxia samples DMR and 20_5_N DMR\n",
    "!{bedtoolsDirectory}intersectBed \\\n",
    "-a 5_pop_diff_DMR.sort.bed \\\n",
    "-b 20_5_N_DMR.sort.bed \\\n",
    "-wa \\\n",
    "-wb \\\n",
    "> 5_pop_v_20_5_N_DMR.bed"
   ]
  },
  {
   "cell_type": "code",
   "execution_count": 194,
   "metadata": {},
   "outputs": [
    {
     "name": "stdout",
     "output_type": "stream",
     "text": [
      "NC_046373.1\t14583736\t14583847\tDMR_7\thypermethylated\tNC_046373.1\t14583752\t14583847\tDMR_7\thypomethylated\n",
      "NC_046373.1\t14592139\t14592233\tDMR_8\thypermethylated\tNC_046373.1\t14592138\t14592233\tDMR_8\thypomethylated\n",
      "NC_046374.1\t20646131\t20646225\tDMR_9\thypermethylated\tNC_046374.1\t20646130\t20646225\tDMR_11\thypomethylated\n",
      "NC_046374.1\t20654367\t20654461\tDMR_10\thypermethylated\tNC_046374.1\t20654366\t20654461\tDMR_12\thypomethylated\n",
      "NC_046381.1\t2490515\t2490609\tDMR_12\thypermethylated\tNC_046381.1\t2490514\t2490609\tDMR_18\thypomethylated\n",
      "NC_046381.1\t2499040\t2499134\tDMR_13\thypermethylated\tNC_046381.1\t2499039\t2499134\tDMR_19\thypomethylated\n",
      "       6 5_pop_v_20_5_N_DMR.bed\n"
     ]
    }
   ],
   "source": [
    "!head 5_pop_v_20_5_N_DMR.bed\n",
    "!wc -l 5_pop_v_20_5_N_DMR.bed"
   ]
  },
  {
   "cell_type": "code",
   "execution_count": 188,
   "metadata": {},
   "outputs": [],
   "source": [
    "#Assess overlaps between all hypoxia samples DMR and 20_OC_N DMR\n",
    "!{bedtoolsDirectory}intersectBed \\\n",
    "-a 5_pop_diff_DMR.sort.bed \\\n",
    "-b 20_OC_N_DMR.sort.bed \\\n",
    "-wa \\\n",
    "-wb \\\n",
    "> 5_pop_v_20_OC_N_DMR.bed"
   ]
  },
  {
   "cell_type": "code",
   "execution_count": 189,
   "metadata": {
    "scrolled": false
   },
   "outputs": [
    {
     "name": "stdout",
     "output_type": "stream",
     "text": [
      "       0 5_pop_v_20_OC_N_DMR.bed\r\n"
     ]
    }
   ],
   "source": [
    "!head 5_pop_v_20_OC_N_DMR.bed\n",
    "!wc -l 5_pop_v_20_OC_N_DMR.bed"
   ]
  },
  {
   "cell_type": "code",
   "execution_count": 190,
   "metadata": {},
   "outputs": [],
   "source": [
    "#Remove empty file\n",
    "!rm 5_pop_v_20_OC_N_DMR.bed"
   ]
  },
  {
   "cell_type": "code",
   "execution_count": 201,
   "metadata": {},
   "outputs": [],
   "source": [
    "#Assess overlaps between all hypoxia samples DMR and 5_OC_N DMR\n",
    "!{bedtoolsDirectory}intersectBed \\\n",
    "-a 5_pop_diff_DMR.sort.bed \\\n",
    "-b 5_OC_N_DMR.sort.bed \\\n",
    "-wa \\\n",
    "-wb \\\n",
    "> 5_pop_v_5_OC_N_DMR.bed"
   ]
  },
  {
   "cell_type": "code",
   "execution_count": 202,
   "metadata": {
    "scrolled": false
   },
   "outputs": [
    {
     "name": "stdout",
     "output_type": "stream",
     "text": [
      "NC_046369.1\t26223581\t26223702\tDMR_6\thypomethylated\tNC_046369.1\t26223581\t26223702\tDMR_21\thypomethylated\n",
      "       1 5_pop_v_5_OC_N_DMR.bed\n"
     ]
    }
   ],
   "source": [
    "!head 5_pop_v_5_OC_N_DMR.bed\n",
    "!wc -l 5_pop_v_5_OC_N_DMR.bed"
   ]
  },
  {
   "cell_type": "markdown",
   "metadata": {},
   "source": [
    "## 3. Characterize genomic locations of DML"
   ]
  },
  {
   "cell_type": "markdown",
   "metadata": {},
   "source": [
    "I will identify the closest genome feature to DMR identified using L4 samples, since there were overlaps between what was identified. To use `closestBed`, all input files need to be sorted in the same order as the genome file."
   ]
  },
  {
   "cell_type": "markdown",
   "metadata": {},
   "source": [
    "### 3a. Gene"
   ]
  },
  {
   "cell_type": "code",
   "execution_count": 88,
   "metadata": {},
   "outputs": [],
   "source": [
    "%%bash\n",
    "\n",
    "for f in *DMR.sort.bed\n",
    "do\n",
    "   /opt/homebrew/bin/closestBed \\\n",
    "   -D \"ref\" \\\n",
    "   -a ${f} \\\n",
    "   -b ../../../genome-features/GCF_011125445.2_MU-UCD_Fhet_4.1_genomic-gene.gff \\\n",
    "   -g ../../../genome-features/mummichog.chrom.length \\\n",
    "   > $(basename ${f%_DMR.sort.bed})_DMR.closestGene.bed\n",
    "done"
   ]
  },
  {
   "cell_type": "code",
   "execution_count": 89,
   "metadata": {},
   "outputs": [
    {
     "name": "stdout",
     "output_type": "stream",
     "text": [
      "20_5_N_DMR.closestGene.bed      5_pop_diff_DMR.closestGene.bed\r\n",
      "20_OC_N_DMR.closestGene.bed     OC_pop_diff_DMR.closestGene.bed\r\n",
      "5_OC_N_DMR.closestGene.bed      all_pop_DMR.closestGene.bed\r\n"
     ]
    }
   ],
   "source": [
    "!ls *DMR.closestGene.bed"
   ]
  },
  {
   "cell_type": "code",
   "execution_count": 90,
   "metadata": {},
   "outputs": [
    {
     "name": "stdout",
     "output_type": "stream",
     "text": [
      "==> 20_5_N_DMR.closestGene.bed <==\r\n",
      "NC_046361.1\t5411834\t5411929\tDMR_1\thypomethylated\tNC_046361.1\tGnomon\tgene\t5395097\t5431788\t.\t+\t.\tID=gene-LOC118556598;Dbxref=GeneID:118556598;Name=LOC118556598;gbkey=Gene;gene=LOC118556598;gene_biotype=protein_coding\t0\r\n",
      "NC_046361.1\t5420132\t5420227\tDMR_2\thypomethylated\tNC_046361.1\tGnomon\tgene\t5395097\t5431788\t.\t+\t.\tID=gene-LOC118556598;Dbxref=GeneID:118556598;Name=LOC118556598;gbkey=Gene;gene=LOC118556598;gene_biotype=protein_coding\t0\r\n",
      "NC_046365.1\t15020929\t15020962\tDMR_3\thypomethylated\tNC_046365.1\tGnomon\tgene\t15071098\t15449620\t.\t+\t.\tID=gene-ctnna2;Dbxref=GeneID:105936762;Name=ctnna2;gbkey=Gene;gene=ctnna2;gene_biotype=protein_coding\t50136\r\n",
      "NC_046365.1\t15029545\t15029578\tDMR_4\thypomethylated\tNC_046365.1\tGnomon\tgene\t15071098\t15449620\t.\t+\t.\tID=gene-ctnna2;Dbxref=GeneID:105936762;Name=ctnna2;gbkey=Gene;gene=ctnna2;gene_biotype=protein_coding\t41520\r\n",
      "NC_046369.1\t23714137\t23714467\tDMR_5\thypomethylated\tNC_046369.1\tGnomon\tgene\t23705412\t23710666\t.\t+\t.\tID=gene-sele;Dbxref=GeneID:105927885;Name=sele;gbkey=Gene;gene=sele;gene_biotype=protein_coding\t-3472\r\n",
      "NC_046372.1\t4663541\t4663752\tDMR_6\thypermethylated\tNC_046372.1\tGnomon\tgene\t4702043\t4702591\t.\t+\t.\tID=gene-LOC118565115;Dbxref=GeneID:118565115;Name=LOC118565115;gbkey=Gene;gene=LOC118565115;gene_biotype=lncRNA\t38291\r\n",
      "NC_046373.1\t14583752\t14583847\tDMR_7\thypomethylated\tNC_046373.1\tGnomon\tgene\t14538685\t14600827\t.\t-\t.\tID=gene-necab1;Dbxref=GeneID:105930380;Name=necab1;gbkey=Gene;gene=necab1;gene_biotype=protein_coding\t0\r\n",
      "NC_046373.1\t14592138\t14592233\tDMR_8\thypomethylated\tNC_046373.1\tGnomon\tgene\t14538685\t14600827\t.\t-\t.\tID=gene-necab1;Dbxref=GeneID:105930380;Name=necab1;gbkey=Gene;gene=necab1;gene_biotype=protein_coding\t0\r\n",
      "NC_046373.1\t37115424\t37115457\tDMR_9\thypomethylated\tNC_046373.1\tGnomon\tgene\t37097080\t37139864\t.\t-\t.\tID=gene-lipea;Dbxref=GeneID:105916897;Name=lipea;gbkey=Gene;gene=lipea;gene_biotype=protein_coding\t0\r\n",
      "NC_046373.1\t38547588\t38547621\tDMR_10\thypomethylated\tNC_046373.1\tGnomon\tgene\t38514008\t38552853\t.\t-\t.\tID=gene-crybg2;Dbxref=GeneID:105917380;Name=crybg2;gbkey=Gene;gene=crybg2;gene_biotype=protein_coding\t0\r\n",
      "\r\n",
      "==> 20_OC_N_DMR.closestGene.bed <==\r\n",
      "NC_046363.1\t3538100\t3538292\tDMR_1\thypermethylated\tNC_046363.1\tGnomon\tgene\t3636267\t3637000\t.\t-\t.\tID=gene-LOC118557730;Dbxref=GeneID:118557730;Name=LOC118557730;gbkey=Gene;gene=LOC118557730;gene_biotype=lncRNA\t97975\r\n",
      "NC_046364.1\t22883537\t22883766\tDMR_2\thypermethylated\tNC_046364.1\tGnomon\tgene\t23011589\t23126375\t.\t+\t.\tID=gene-cdh8;Dbxref=GeneID:118556404;Name=cdh8;gbkey=Gene;gene=cdh8;gene_biotype=protein_coding;partial=true\t127823\r\n",
      "NC_046366.1\t7081208\t7081367\tDMR_3\thypermethylated\tNC_046366.1\tGnomon\tgene\t7075099\t7105964\t.\t+\t.\tID=gene-fggy;Dbxref=GeneID:105925296;Name=fggy;gbkey=Gene;gene=fggy;gene_biotype=protein_coding\t0\r\n",
      "NC_046367.1\t16770264\t16770423\tDMR_4\thypermethylated\tNC_046367.1\tGnomon\tgene\t16711110\t16858206\t.\t+\t.\tID=gene-fgf14;Dbxref=GeneID:105927467;Name=fgf14;gbkey=Gene;gene=fgf14;gene_biotype=protein_coding\t0\r\n",
      "NC_046373.1\t281709\t281971\tDMR_5\thypermethylated\tNC_046373.1\tGnomon\tgene\t384334\t388914\t.\t-\t.\tID=gene-sox4a;Dbxref=GeneID:105931975;Name=sox4a;gbkey=Gene;gene=sox4a;gene_biotype=protein_coding\t102363\r\n",
      "NC_046376.1\t57649\t57779\tDMR_6\thypermethylated\tNC_046376.1\tGnomon\tgene\t60886\t64465\t.\t+\t.\tID=gene-LOC118566350;Dbxref=GeneID:118566350;Name=LOC118566350;gbkey=Gene;gene=LOC118566350;gene_biotype=protein_coding\t3107\r\n",
      "NC_046376.1\t37486144\t37486331\tDMR_7\thypermethylated\tNC_046376.1\tGnomon\tgene\t37491953\t37496611\t.\t-\t.\tID=gene-LOC110368333;Dbxref=GeneID:110368333;Name=LOC110368333;gbkey=Gene;gene=LOC110368333;gene_biotype=protein_coding\t5622\r\n",
      "NC_046381.1\t24998741\t24998900\tDMR_8\thypermethylated\tNC_046381.1\tGnomon\tgene\t24931191\t25003830\t.\t-\t.\tID=gene-vopp1;Dbxref=GeneID:110367442;Name=vopp1;gbkey=Gene;gene=vopp1;gene_biotype=protein_coding\t0\r\n",
      "NC_046382.1\t24016650\t24016784\tDMR_9\thypermethylated\tNC_046382.1\tGnomon\tgene\t24040371\t24080476\t.\t+\t.\tID=gene-pax2a;Dbxref=GeneID:105938650;Name=pax2a;gbkey=Gene;gene=pax2a;gene_biotype=protein_coding\t23587\r\n",
      "NW_023397099.1\t1670533\t1670680\tDMR_10\thypermethylated\tNW_023397099.1\tGnomon\tgene\t1746268\t1836170\t.\t+\t.\tID=gene-LOC118561538;Dbxref=GeneID:118561538;Name=LOC118561538;end_range=1836170,.;gbkey=Gene;gene=LOC118561538;gene_biotype=protein_coding;partial=true;start_range=.,1746268\t75588\r\n",
      "\r\n",
      "==> 5_OC_N_DMR.closestGene.bed <==\r\n",
      "NC_046361.1\t5411834\t5411928\tDMR_1\thypermethylated\tNC_046361.1\tGnomon\tgene\t5395097\t5431788\t.\t+\t.\tID=gene-LOC118556598;Dbxref=GeneID:118556598;Name=LOC118556598;gbkey=Gene;gene=LOC118556598;gene_biotype=protein_coding\t0\r\n",
      "NC_046361.1\t5420132\t5420226\tDMR_2\thypermethylated\tNC_046361.1\tGnomon\tgene\t5395097\t5431788\t.\t+\t.\tID=gene-LOC118556598;Dbxref=GeneID:118556598;Name=LOC118556598;gbkey=Gene;gene=LOC118556598;gene_biotype=protein_coding\t0\r\n",
      "NC_046361.1\t41997840\t41998004\tDMR_3\thypermethylated\tNC_046361.1\tGnomon\tgene\t42005043\t42038977\t.\t+\t.\tID=gene-LOC118563577;Dbxref=GeneID:118563577;Name=LOC118563577;gbkey=Gene;gene=LOC118563577;gene_biotype=protein_coding\t7039\r\n",
      "NC_046362.1\t18039751\t18039824\tDMR_4\thypermethylated\tNC_046362.1\tGnomon\tgene\t17995641\t18035437\t.\t-\t.\tID=gene-rasgrf1;Dbxref=GeneID:105932314;Name=rasgrf1;gbkey=Gene;gene=rasgrf1;gene_biotype=protein_coding\t-4315\r\n",
      "NC_046363.1\t6052206\t6052595\tDMR_5\thypomethylated\tNC_046363.1\tGnomon\tgene\t5953681\t6048047\t.\t+\t.\tID=gene-LOC110369139;Dbxref=GeneID:110369139;Name=LOC110369139;gbkey=Gene;gene=LOC110369139;gene_biotype=protein_coding\t-4160\r\n",
      "NC_046363.1\t17138613\t17138818\tDMR_6\thypermethylated\tNC_046363.1\tGnomon\tgene\t17087944\t17147660\t.\t+\t.\tID=gene-sntb1;Dbxref=GeneID:105918971;Name=sntb1;gbkey=Gene;gene=sntb1;gene_biotype=protein_coding\t0\r\n",
      "NC_046363.1\t21695863\t21695936\tDMR_7\thypermethylated\tNC_046363.1\tGnomon\tgene\t21651008\t21719990\t.\t-\t.\tID=gene-LOC105926375;Dbxref=GeneID:105926375;Name=LOC105926375;gbkey=Gene;gene=LOC105926375;gene_biotype=protein_coding;partial=true\t0\r\n",
      "NC_046364.1\t33298295\t33298366\tDMR_8\thypermethylated\tNC_046364.1\tGnomon\tgene\t33441440\t33481099\t.\t+\t.\tID=gene-LOC105919744;Dbxref=GeneID:105919744;Name=LOC105919744;gbkey=Gene;gene=LOC105919744;gene_biotype=protein_coding\t143074\r\n",
      "NC_046364.1\t40892789\t40892994\tDMR_9\thypermethylated\tNC_046364.1\tGnomon\tgene\t40890922\t40901638\t.\t-\t.\tID=gene-LOC105920405;Dbxref=GeneID:105920405;Name=LOC105920405;gbkey=Gene;gene=LOC105920405;gene_biotype=protein_coding\t0\r\n",
      "NC_046365.1\t15852888\t15853022\tDMR_10\thypermethylated\tNC_046365.1\tGnomon\tgene\t15962794\t15989532\t.\t-\t.\tID=gene-suclg1;Dbxref=GeneID:105936770;Name=suclg1;gbkey=Gene;gene=suclg1;gene_biotype=protein_coding\t109772\r\n",
      "\r\n",
      "==> 5_pop_diff_DMR.closestGene.bed <==\r\n",
      "NC_046361.1\t10902397\t10902516\tDMR_1\thypomethylated\tNC_046361.1\tGnomon\tgene\t10780262\t10850561\t.\t+\t.\tID=gene-ajap1;Dbxref=GeneID:105929102;Name=ajap1;gbkey=Gene;gene=ajap1;gene_biotype=protein_coding\t-51837\r\n",
      "NC_046362.1\t24575499\t24575593\tDMR_2\thypermethylated\tNC_046362.1\tGnomon\tgene\t24607920\t24616471\t.\t+\t.\tID=gene-ehf;Dbxref=GeneID:105918236;Name=ehf;gbkey=Gene;gene=ehf;gene_biotype=protein_coding\t32327\r\n",
      "NC_046362.1\t24584027\t24584121\tDMR_3\thypermethylated\tNC_046362.1\tGnomon\tgene\t24607920\t24616471\t.\t+\t.\tID=gene-ehf;Dbxref=GeneID:105918236;Name=ehf;gbkey=Gene;gene=ehf;gene_biotype=protein_coding\t23799\r\n",
      "NC_046362.1\t35470061\t35470157\tDMR_4\thypomethylated\tNC_046362.1\tGnomon\tgene\t35446252\t35526085\t.\t+\t.\tID=gene-LOC118557127;Dbxref=GeneID:118557127;Name=LOC118557127;end_range=35526085,.;gbkey=Gene;gene=LOC118557127;gene_biotype=protein_coding;partial=true\t0\r\n",
      "NC_046363.1\t203897\t205027\tDMR_5\thypomethylated\tNC_046363.1\tGnomon\tgene\t203450\t205473\t.\t-\t.\tID=gene-LOC118558079;Dbxref=GeneID:118558079;Name=LOC118558079;gbkey=Gene;gene=LOC118558079;gene_biotype=lncRNA\t0\r\n",
      "NC_046369.1\t26223581\t26223702\tDMR_6\thypomethylated\tNC_046369.1\tGnomon\tgene\t26226858\t26252573\t.\t+\t.\tID=gene-zbtb7a;Dbxref=GeneID:105938968;Name=zbtb7a;gbkey=Gene;gene=zbtb7a;gene_biotype=protein_coding\t3156\r\n",
      "NC_046373.1\t14583736\t14583847\tDMR_7\thypermethylated\tNC_046373.1\tGnomon\tgene\t14538685\t14600827\t.\t-\t.\tID=gene-necab1;Dbxref=GeneID:105930380;Name=necab1;gbkey=Gene;gene=necab1;gene_biotype=protein_coding\t0\r\n",
      "NC_046373.1\t14592139\t14592233\tDMR_8\thypermethylated\tNC_046373.1\tGnomon\tgene\t14538685\t14600827\t.\t-\t.\tID=gene-necab1;Dbxref=GeneID:105930380;Name=necab1;gbkey=Gene;gene=necab1;gene_biotype=protein_coding\t0\r\n",
      "NC_046374.1\t20646131\t20646225\tDMR_9\thypermethylated\tNC_046374.1\tGnomon\tgene\t20592178\t20713723\t.\t+\t.\tID=gene-LOC105927914;Dbxref=GeneID:105927914;Name=LOC105927914;gbkey=Gene;gene=LOC105927914;gene_biotype=protein_coding\t0\r\n",
      "NC_046374.1\t20654367\t20654461\tDMR_10\thypermethylated\tNC_046374.1\tGnomon\tgene\t20592178\t20713723\t.\t+\t.\tID=gene-LOC105927914;Dbxref=GeneID:105927914;Name=LOC105927914;gbkey=Gene;gene=LOC105927914;gene_biotype=protein_coding\t0\r\n",
      "\r\n",
      "==> OC_pop_diff_DMR.closestGene.bed <==\r\n",
      "NC_046370.1\t21493874\t21493961\tDMR_1\thypermethylated\tNC_046370.1\tGnomon\tgene\t21476925\t21514457\t.\t-\t.\tID=gene-LOC105920231;Dbxref=GeneID:105920231;Name=LOC105920231;gbkey=Gene;gene=LOC105920231;gene_biotype=protein_coding\t0\r\n",
      "\r\n",
      "==> all_pop_DMR.closestGene.bed <==\r\n",
      "NC_046362.1\t39864318\t39864358\tDMR_1\thypermethylated\tNC_046362.1\tGnomon\tgene\t39845359\t39876638\t.\t+\t.\tID=gene-znf276;Dbxref=GeneID:105931444;Name=znf276;gbkey=Gene;gene=znf276;gene_biotype=protein_coding\t0\r\n",
      "NC_046363.1\t203897\t205027\tDMR_2\thypomethylated\tNC_046363.1\tGnomon\tgene\t203450\t205473\t.\t-\t.\tID=gene-LOC118558079;Dbxref=GeneID:118558079;Name=LOC118558079;gbkey=Gene;gene=LOC118558079;gene_biotype=lncRNA\t0\r\n",
      "NC_046363.1\t11482768\t11483020\tDMR_3\thypomethylated\tNC_046363.1\tGnomon\tgene\t11522076\t11524507\t.\t-\t.\tID=gene-LOC118559404;Dbxref=GeneID:118559404;Name=LOC118559404;gbkey=Gene;gene=LOC118559404;gene_biotype=lncRNA\t39056\r\n",
      "NC_046366.1\t15952916\t15953096\tDMR_4\thypermethylated\tNC_046366.1\tGnomon\tgene\t15950377\t15964525\t.\t-\t.\tID=gene-LOC105937584;Dbxref=GeneID:105937584;Name=LOC105937584;gbkey=Gene;gene=LOC105937584;gene_biotype=protein_coding\t0\r\n",
      "NC_046366.1\t32856829\t32857009\tDMR_5\thypermethylated\tNC_046366.1\tGnomon\tgene\t32793873\t32940154\t.\t+\t.\tID=gene-LOC105930928;Dbxref=GeneID:105930928;Name=LOC105930928;gbkey=Gene;gene=LOC105930928;gene_biotype=protein_coding\t0\r\n",
      "NC_046367.1\t32848978\t32849069\tDMR_6\thypomethylated\tNC_046367.1\tGnomon\tgene\t32875070\t33003639\t.\t+\t.\tID=gene-epha3;Dbxref=GeneID:105936158;Name=epha3;gbkey=Gene;gene=epha3;gene_biotype=protein_coding\t26001\r\n",
      "NC_046372.1\t26908073\t26908253\tDMR_7\thypermethylated\tNC_046372.1\tGnomon\tgene\t26784506\t27015252\t.\t-\t.\tID=gene-adamts3;Dbxref=GeneID:105921104;Name=adamts3;gbkey=Gene;gene=adamts3;gene_biotype=protein_coding\t0\r\n",
      "NC_046373.1\t7352980\t7353160\tDMR_8\thypermethylated\tNC_046373.1\tGnomon\tgene\t7357911\t7474622\t.\t+\t.\tID=gene-col16a1;Dbxref=GeneID:105934472;Name=col16a1;gbkey=Gene;gene=col16a1;gene_biotype=protein_coding\t4751\r\n",
      "NC_046381.1\t4397623\t4397714\tDMR_9\thypomethylated\tNC_046381.1\tGnomon\tgene\t4297404\t4392946\t.\t-\t.\tID=gene-cnksr2a;Dbxref=GeneID:105919350;Name=cnksr2a;gbkey=Gene;gene=cnksr2a;gene_biotype=protein_coding\t-4678\r\n",
      "NW_023396868.1\t506268\t506448\tDMR_10\thypermethylated\tNW_023396868.1\tGnomon\tgene\t513149\t519541\t.\t-\t.\tID=gene-LOC118560570;Dbxref=GeneID:118560570;Name=LOC118560570;gbkey=Gene;gene=LOC118560570;gene_biotype=lncRNA\t6701\r\n"
     ]
    }
   ],
   "source": [
    "!head *DMR.closestGene.bed"
   ]
  },
  {
   "cell_type": "code",
   "execution_count": 91,
   "metadata": {
    "scrolled": true
   },
   "outputs": [
    {
     "name": "stdout",
     "output_type": "stream",
     "text": [
      "      24 20_5_N_DMR.closestGene.bed\r\n",
      "      10 20_OC_N_DMR.closestGene.bed\r\n",
      "      62 5_OC_N_DMR.closestGene.bed\r\n",
      "      13 5_pop_diff_DMR.closestGene.bed\r\n",
      "       1 OC_pop_diff_DMR.closestGene.bed\r\n",
      "      11 all_pop_DMR.closestGene.bed\r\n",
      "     121 total\r\n"
     ]
    }
   ],
   "source": [
    "!wc -l *DMR.closestGene.bed"
   ]
  },
  {
   "cell_type": "code",
   "execution_count": 128,
   "metadata": {},
   "outputs": [],
   "source": [
    "#Get line counts for each fine\n",
    "# Remove 7th line (total entries)\n",
    "#Ensure output is tab-delimited\n",
    "#Save output\n",
    "!wc -l *DMR.closestGene.bed \\\n",
    "| sed '7,$ d' \\\n",
    "| awk '{print $1\"\\t\"$2}' \\\n",
    "> closestGene-counts.txt"
   ]
  },
  {
   "cell_type": "markdown",
   "metadata": {},
   "source": [
    "#### Look for genes of interest"
   ]
  },
  {
   "cell_type": "markdown",
   "metadata": {},
   "source": [
    "I want to know if any DMR are found near AHR, HIF1a, AHRR, or EGLN3."
   ]
  },
  {
   "cell_type": "code",
   "execution_count": 231,
   "metadata": {},
   "outputs": [
    {
     "name": "stdout",
     "output_type": "stream",
     "text": [
      "LOC105923802\r\n",
      "LOC105927914\r\n",
      "LOC105931192\r\n",
      "LOC105935943\r\n",
      "LOC110369389\r\n",
      "LOC118556598\r\n",
      "LOC118556860\r\n",
      "LOC118556935\r\n",
      "LOC118560201\r\n",
      "LOC118565115\r\n",
      "LOC118565375\r\n",
      "crybg2\r\n",
      "ctnna2\r\n",
      "lipea\r\n",
      "necab1\r\n",
      "plpp4\r\n",
      "sele\r\n"
     ]
    }
   ],
   "source": [
    "#Extract the 14th column\n",
    "#Trim first 8 characters\n",
    "#Convert ; to \\t\n",
    "#Extract the first column\n",
    "#Sort and print unique entries\n",
    "!cut -f14 20_5_N_DMR.closestGene.bed \\\n",
    "| cut -c 9- \\\n",
    "| tr \";\" \"\\t\" \\\n",
    "| cut -f1 \\\n",
    "| sort | uniq"
   ]
  },
  {
   "cell_type": "code",
   "execution_count": 232,
   "metadata": {},
   "outputs": [
    {
     "name": "stdout",
     "output_type": "stream",
     "text": [
      "LOC110368333\r\n",
      "LOC118557730\r\n",
      "LOC118561538\r\n",
      "LOC118566350\r\n",
      "cdh8\r\n",
      "fgf14\r\n",
      "fggy\r\n",
      "pax2a\r\n",
      "sox4a\r\n",
      "vopp1\r\n"
     ]
    }
   ],
   "source": [
    "#Extract the 14th column\n",
    "#Trim first 8 characters\n",
    "#Convert ; to \\t\n",
    "#Extract the first column\n",
    "#Sort and print unique entries\n",
    "!cut -f14 20_OC_N_DMR.closestGene.bed \\\n",
    "| cut -c 9- \\\n",
    "| tr \";\" \"\\t\" \\\n",
    "| cut -f1 \\\n",
    "| sort | uniq"
   ]
  },
  {
   "cell_type": "code",
   "execution_count": 233,
   "metadata": {
    "scrolled": true
   },
   "outputs": [
    {
     "name": "stdout",
     "output_type": "stream",
     "text": [
      "LOC105918825\n",
      "LOC105919744\n",
      "LOC105919934\n",
      "LOC105920405\n",
      "LOC105921157\n",
      "LOC105923802\n",
      "LOC105926375\n",
      "LOC105927826\n",
      "LOC105935743\n",
      "LOC105935943\n",
      "LOC105937346\n",
      "LOC105939426\n",
      "LOC110367187\n",
      "LOC110367414\n",
      "LOC110367853\n",
      "LOC110369139\n",
      "LOC110369389\n",
      "LOC118556598\n",
      "LOC118556781\n",
      "LOC118556860\n",
      "LOC118556935\n",
      "LOC118556979\n",
      "LOC118560071\n",
      "LOC118560894\n",
      "LOC118561134\n",
      "LOC118561341\n",
      "LOC118561538\n",
      "LOC118563577\n",
      "LOC118563631\n",
      "LOC118563944\n",
      "LOC118564145\n",
      "LOC118564550\n",
      "LOC118565215\n",
      "LOC118565317\n",
      "LOC118565322\n",
      "LOC118565325\n",
      "LOC118565326\n",
      "anxa13l\n",
      "arhgap10\n",
      "arvcfb\n",
      "cacna1bb\n",
      "cpne3\n",
      "ctnna1\n",
      "dennd3a\n",
      "fbl\n",
      "fndc5b\n",
      "hspa8\n",
      "lhx1a\n",
      "pax2a\n",
      "rasgrf1\n",
      "sntb1\n",
      "st6galnac4\n",
      "stard13a\n",
      "stxbp5a\n",
      "suclg1\n",
      "trpm6\n",
      "zbtb7a\n",
      "zmp:0000001200\n"
     ]
    }
   ],
   "source": [
    "#Extract the 14th column\n",
    "#Trim first 8 characters\n",
    "#Convert ; to \\t\n",
    "#Extract the first column\n",
    "#Sort and print unique entries\n",
    "!cut -f14 5_OC_N_DMR.closestGene.bed \\\n",
    "| cut -c 9- \\\n",
    "| tr \";\" \"\\t\" \\\n",
    "| cut -f1 \\\n",
    "| sort | uniq"
   ]
  },
  {
   "cell_type": "code",
   "execution_count": 234,
   "metadata": {},
   "outputs": [
    {
     "name": "stdout",
     "output_type": "stream",
     "text": [
      "LOC105927914\r\n",
      "LOC105931192\r\n",
      "LOC118557127\r\n",
      "LOC118558079\r\n",
      "ajap1\r\n",
      "cfap20dc\r\n",
      "ehf\r\n",
      "necab1\r\n",
      "zbtb7a\r\n"
     ]
    }
   ],
   "source": [
    "#Extract the 14th column\n",
    "#Trim first 8 characters\n",
    "#Convert ; to \\t\n",
    "#Extract the first column\n",
    "#Sort and print unique entries\n",
    "!cut -f14 5_pop_diff_DMR.closestGene.bed \\\n",
    "| cut -c 9- \\\n",
    "| tr \";\" \"\\t\" \\\n",
    "| cut -f1 \\\n",
    "| sort | uniq"
   ]
  },
  {
   "cell_type": "code",
   "execution_count": 235,
   "metadata": {},
   "outputs": [
    {
     "name": "stdout",
     "output_type": "stream",
     "text": [
      "LOC105920231\r\n"
     ]
    }
   ],
   "source": [
    "#Extract the 14th column\n",
    "#Trim first 8 characters\n",
    "#Convert ; to \\t\n",
    "#Extract the first column\n",
    "#Sort and print unique entries\n",
    "!cut -f14 OC_pop_diff_DMR.closestGene.bed \\\n",
    "| cut -c 9- \\\n",
    "| tr \";\" \"\\t\" \\\n",
    "| cut -f1 \\\n",
    "| sort | uniq"
   ]
  },
  {
   "cell_type": "code",
   "execution_count": 236,
   "metadata": {},
   "outputs": [
    {
     "name": "stdout",
     "output_type": "stream",
     "text": [
      "LOC105930928\n",
      "LOC105937584\n",
      "LOC118558079\n",
      "LOC118559404\n",
      "LOC118560570\n",
      "LOC118561803\n",
      "adamts3\n",
      "cnksr2a\n",
      "col16a1\n",
      "epha3\n",
      "znf276\n"
     ]
    }
   ],
   "source": [
    "#Extract the 14th column\n",
    "#Trim first 8 characters\n",
    "#Convert ; to \\t\n",
    "#Extract the first column\n",
    "#Sort and print unique entries\n",
    "!cut -f14 all_pop_DMR.closestGene.bed \\\n",
    "| cut -c 9- \\\n",
    "| tr \";\" \"\\t\" \\\n",
    "| cut -f1 \\\n",
    "| sort | uniq"
   ]
  },
  {
   "cell_type": "markdown",
   "metadata": {},
   "source": [
    "### 3b. CDS"
   ]
  },
  {
   "cell_type": "code",
   "execution_count": 92,
   "metadata": {},
   "outputs": [],
   "source": [
    "%%bash\n",
    "\n",
    "for f in *DMR.sort.bed\n",
    "do\n",
    "   /opt/homebrew/bin/closestBed \\\n",
    "   -D \"ref\" \\\n",
    "   -a ${f} \\\n",
    "   -b ../../../genome-features/GCF_011125445.2_MU-UCD_Fhet_4.1_genomic-CDS.gff \\\n",
    "   -g ../../../genome-features/mummichog.chrom.length \\\n",
    "   > $(basename ${f%_DMR.sort.bed})_DMR.closestCDS.bed\n",
    "done"
   ]
  },
  {
   "cell_type": "code",
   "execution_count": 93,
   "metadata": {},
   "outputs": [
    {
     "name": "stdout",
     "output_type": "stream",
     "text": [
      "20_5_N_DMR.closestCDS.bed      5_pop_diff_DMR.closestCDS.bed\r\n",
      "20_OC_N_DMR.closestCDS.bed     OC_pop_diff_DMR.closestCDS.bed\r\n",
      "5_OC_N_DMR.closestCDS.bed      all_pop_DMR.closestCDS.bed\r\n"
     ]
    }
   ],
   "source": [
    "!ls *DMR.closestCDS.bed"
   ]
  },
  {
   "cell_type": "code",
   "execution_count": 94,
   "metadata": {},
   "outputs": [
    {
     "name": "stdout",
     "output_type": "stream",
     "text": [
      "==> 20_5_N_DMR.closestCDS.bed <==\r\n",
      "NC_046361.1\t5411834\t5411929\tDMR_1\thypomethylated\tNC_046361.1\tGnomon\tCDS\t5409245\t5409314\t.\t+\t0\tID=cds-XP_036006667.1;Parent=rna-XM_036150774.1;Dbxref=GeneID:118556598,Genbank:XP_036006667.1;Name=XP_036006667.1;gbkey=CDS;gene=LOC118556598;product=SLIT-ROBO Rho GTPase-activating protein 3-like;protein_id=XP_036006667.1\t-2521\r\n",
      "NC_046361.1\t5420132\t5420227\tDMR_2\thypomethylated\tNC_046361.1\tGnomon\tCDS\t5424366\t5424537\t.\t+\t2\tID=cds-XP_036006667.1;Parent=rna-XM_036150774.1;Dbxref=GeneID:118556598,Genbank:XP_036006667.1;Name=XP_036006667.1;gbkey=CDS;gene=LOC118556598;product=SLIT-ROBO Rho GTPase-activating protein 3-like;protein_id=XP_036006667.1\t4139\r\n",
      "NC_046365.1\t15020929\t15020962\tDMR_3\thypomethylated\tNC_046365.1\tGnomon\tCDS\t15103075\t15103176\t.\t+\t0\tID=cds-XP_035992884.1;Parent=rna-XM_036136991.1;Dbxref=GeneID:105936762,Genbank:XP_035992884.1;Name=XP_035992884.1;gbkey=CDS;gene=ctnna2;product=catenin alpha-2 isoform X1;protein_id=XP_035992884.1\t82113\r\n",
      "NC_046365.1\t15020929\t15020962\tDMR_3\thypomethylated\tNC_046365.1\tGnomon\tCDS\t15103075\t15103176\t.\t+\t0\tID=cds-XP_035992885.1;Parent=rna-XM_036136992.1;Dbxref=GeneID:105936762,Genbank:XP_035992885.1;Name=XP_035992885.1;gbkey=CDS;gene=ctnna2;product=catenin alpha-2 isoform X1;protein_id=XP_035992885.1\t82113\r\n",
      "NC_046365.1\t15029545\t15029578\tDMR_4\thypomethylated\tNC_046365.1\tGnomon\tCDS\t15103075\t15103176\t.\t+\t0\tID=cds-XP_035992884.1;Parent=rna-XM_036136991.1;Dbxref=GeneID:105936762,Genbank:XP_035992884.1;Name=XP_035992884.1;gbkey=CDS;gene=ctnna2;product=catenin alpha-2 isoform X1;protein_id=XP_035992884.1\t73497\r\n",
      "NC_046365.1\t15029545\t15029578\tDMR_4\thypomethylated\tNC_046365.1\tGnomon\tCDS\t15103075\t15103176\t.\t+\t0\tID=cds-XP_035992885.1;Parent=rna-XM_036136992.1;Dbxref=GeneID:105936762,Genbank:XP_035992885.1;Name=XP_035992885.1;gbkey=CDS;gene=ctnna2;product=catenin alpha-2 isoform X1;protein_id=XP_035992885.1\t73497\r\n",
      "NC_046369.1\t23714137\t23714467\tDMR_5\thypomethylated\tNC_046369.1\tGnomon\tCDS\t23710047\t23710107\t.\t+\t1\tID=cds-XP_035997169.1;Parent=rna-XM_036141276.1;Dbxref=GeneID:105927885,Genbank:XP_035997169.1;Name=XP_035997169.1;gbkey=CDS;gene=sele;product=E-selectin isoform X3;protein_id=XP_035997169.1\t-4031\r\n",
      "NC_046369.1\t23714137\t23714467\tDMR_5\thypomethylated\tNC_046369.1\tGnomon\tCDS\t23710047\t23710107\t.\t+\t1\tID=cds-XP_035997167.1;Parent=rna-XM_036141274.1;Dbxref=GeneID:105927885,Genbank:XP_035997167.1;Name=XP_035997167.1;gbkey=CDS;gene=sele;product=E-selectin isoform X1;protein_id=XP_035997167.1\t-4031\r\n",
      "NC_046369.1\t23714137\t23714467\tDMR_5\thypomethylated\tNC_046369.1\tGnomon\tCDS\t23710050\t23710107\t.\t+\t1\tID=cds-XP_035997168.1;Parent=rna-XM_036141275.1;Dbxref=GeneID:105927885,Genbank:XP_035997168.1;Name=XP_035997168.1;gbkey=CDS;gene=sele;product=E-selectin isoform X2;protein_id=XP_035997168.1\t-4031\r\n",
      "NC_046372.1\t4663541\t4663752\tDMR_6\thypermethylated\tNC_046372.1\tGnomon\tCDS\t4879913\t4880030\t.\t+\t0\tID=cds-XP_035999673.1;Parent=rna-XM_036143780.1;Dbxref=GeneID:105939939,Genbank:XP_035999673.1;Name=XP_035999673.1;gbkey=CDS;gene=LOC105939939;product=netrin receptor UNC5C isoform X3;protein_id=XP_035999673.1\t216161\r\n",
      "\r\n",
      "==> 20_OC_N_DMR.closestCDS.bed <==\r\n",
      "NC_046363.1\t3538100\t3538292\tDMR_1\thypermethylated\tNC_046363.1\tGnomon\tCDS\t3720408\t3720534\t.\t+\t0\tID=cds-XP_012714217.2;Parent=rna-XM_012858763.3;Dbxref=GeneID:105922838,Genbank:XP_012714217.2;Name=XP_012714217.2;gbkey=CDS;gene=LOC105922838;product=pituitary tumor-transforming gene 1 protein-interacting protein;protein_id=XP_012714217.2\t182116\r\n",
      "NC_046364.1\t22883537\t22883766\tDMR_2\thypermethylated\tNC_046364.1\tGnomon\tCDS\t23013831\t23014091\t.\t+\t0\tID=cds-XP_035992172.1;Parent=rna-XM_036136279.1;Dbxref=GeneID:118556404,Genbank:XP_035992172.1;Name=XP_035992172.1;Note=The sequence of the model RefSeq protein was modified relative to this genomic sequence to represent the inferred CDS: added 724 bases not found in genome assembly;exception=annotated by transcript or proteomic data;gbkey=CDS;gene=cdh8;inference=similar to RNA sequence (same species):INSD:GCES01125733.1;partial=true;product=cadherin-8-like;protein_id=XP_035992172.1\t130065\r\n",
      "NC_046366.1\t7081208\t7081367\tDMR_3\thypermethylated\tNC_046366.1\tGnomon\tCDS\t7079066\t7079194\t.\t+\t2\tID=cds-XP_021171352.2;Parent=rna-XM_021315677.2;Dbxref=GeneID:105925296,Genbank:XP_021171352.2;Name=XP_021171352.2;gbkey=CDS;gene=fggy;product=FGGY carbohydrate kinase domain-containing protein;protein_id=XP_021171352.2\t-2015\r\n",
      "NC_046366.1\t7081208\t7081367\tDMR_3\thypermethylated\tNC_046366.1\tGnomon\tCDS\t7079066\t7079194\t.\t+\t2\tID=cds-XP_012716518.2;Parent=rna-XM_012861064.3;Dbxref=GeneID:105925296,Genbank:XP_012716518.2;Name=XP_012716518.2;gbkey=CDS;gene=fggy;product=FGGY carbohydrate kinase domain-containing protein;protein_id=XP_012716518.2\t-2015\r\n",
      "NC_046367.1\t16770264\t16770423\tDMR_4\thypermethylated\tNC_046367.1\tGnomon\tCDS\t16801381\t16801573\t.\t+\t0\tID=cds-XP_012719673.1;Parent=rna-XM_012864219.3;Dbxref=GeneID:105927467,Genbank:XP_012719673.1;Name=XP_012719673.1;gbkey=CDS;gene=fgf14;product=fibroblast growth factor 14 isoform X2;protein_id=XP_012719673.1\t30958\r\n",
      "NC_046373.1\t281709\t281971\tDMR_5\thypermethylated\tNC_046373.1\tGnomon\tCDS\t387426\t388517\t.\t-\t0\tID=cds-XP_012726379.2;Parent=rna-XM_012870925.3;Dbxref=GeneID:105931975,Genbank:XP_012726379.2;Name=XP_012726379.2;gbkey=CDS;gene=sox4a;product=transcription factor SOX-4a;protein_id=XP_012726379.2\t105455\r\n",
      "NC_046376.1\t57649\t57779\tDMR_6\thypermethylated\tNC_046376.1\tGnomon\tCDS\t62340\t63866\t.\t+\t0\tID=cds-XP_036004038.1;Parent=rna-XM_036148145.1;Dbxref=GeneID:118566350,Genbank:XP_036004038.1;Name=XP_036004038.1;gbkey=CDS;gene=LOC118566350;product=uncharacterized protein LOC118566350;protein_id=XP_036004038.1\t4561\r\n",
      "NC_046376.1\t37486144\t37486331\tDMR_7\thypermethylated\tNC_046376.1\tGnomon\tCDS\t37492833\t37494944\t.\t-\t0\tID=cds-XP_036004519.1;Parent=rna-XM_036148626.1;Dbxref=GeneID:110368333,Genbank:XP_036004519.1;Name=XP_036004519.1;gbkey=CDS;gene=LOC110368333;product=uncharacterized protein LOC110368333;protein_id=XP_036004519.1\t6502\r\n",
      "NC_046381.1\t24998741\t24998900\tDMR_8\thypermethylated\tNC_046381.1\tGnomon\tCDS\t24997364\t24997393\t.\t-\t0\tID=cds-XP_035981045.1;Parent=rna-XM_036125152.1;Dbxref=GeneID:110367442,Genbank:XP_035981045.1;Name=XP_035981045.1;gbkey=CDS;gene=vopp1;product=vesicular%2C overexpressed in cancer%2C prosurvival protein 1 isoform X3;protein_id=XP_035981045.1\t-1349\r\n",
      "NC_046382.1\t24016650\t24016784\tDMR_9\thypermethylated\tNC_046382.1\tGnomon\tCDS\t24045856\t24045898\t.\t+\t0\tID=cds-XP_035982155.1;Parent=rna-XM_036126262.1;Dbxref=GeneID:105938650,Genbank:XP_035982155.1;Name=XP_035982155.1;gbkey=CDS;gene=pax2a;product=paired box protein Pax-2a isoform X7;protein_id=XP_035982155.1\t29072\r\n",
      "\r\n",
      "==> 5_OC_N_DMR.closestCDS.bed <==\r\n",
      "NC_046361.1\t5411834\t5411928\tDMR_1\thypermethylated\tNC_046361.1\tGnomon\tCDS\t5409245\t5409314\t.\t+\t0\tID=cds-XP_036006667.1;Parent=rna-XM_036150774.1;Dbxref=GeneID:118556598,Genbank:XP_036006667.1;Name=XP_036006667.1;gbkey=CDS;gene=LOC118556598;product=SLIT-ROBO Rho GTPase-activating protein 3-like;protein_id=XP_036006667.1\t-2521\r\n",
      "NC_046361.1\t5420132\t5420226\tDMR_2\thypermethylated\tNC_046361.1\tGnomon\tCDS\t5424366\t5424537\t.\t+\t2\tID=cds-XP_036006667.1;Parent=rna-XM_036150774.1;Dbxref=GeneID:118556598,Genbank:XP_036006667.1;Name=XP_036006667.1;gbkey=CDS;gene=LOC118556598;product=SLIT-ROBO Rho GTPase-activating protein 3-like;protein_id=XP_036006667.1\t4140\r\n",
      "NC_046361.1\t41997840\t41998004\tDMR_3\thypermethylated\tNC_046361.1\tGnomon\tCDS\t42005291\t42005359\t.\t+\t0\tID=cds-XP_035994576.1;Parent=rna-XM_036138683.1;Dbxref=GeneID:118563577,Genbank:XP_035994576.1;Name=XP_035994576.1;gbkey=CDS;gene=LOC118563577;product=C-type mannose receptor 2-like;protein_id=XP_035994576.1\t7287\r\n",
      "NC_046362.1\t18039751\t18039824\tDMR_4\thypermethylated\tNC_046362.1\tGnomon\tCDS\t18034764\t18035039\t.\t-\t0\tID=cds-XP_036005797.1;Parent=rna-XM_036149904.1;Dbxref=GeneID:105932314,Genbank:XP_036005797.1;Name=XP_036005797.1;gbkey=CDS;gene=rasgrf1;product=ras-specific guanine nucleotide-releasing factor 1;protein_id=XP_036005797.1\t-4713\r\n",
      "NC_046363.1\t6052206\t6052595\tDMR_5\thypomethylated\tNC_046363.1\tGnomon\tCDS\t6061632\t6061746\t.\t-\t1\tID=cds-XP_012727992.2;Parent=rna-XM_012872538.3;Dbxref=GeneID:105933138,Genbank:XP_012727992.2;Name=XP_012727992.2;gbkey=CDS;gene=LOC105933138;product=grainyhead-like protein 2 homolog;protein_id=XP_012727992.2\t9037\r\n",
      "NC_046363.1\t17138613\t17138818\tDMR_6\thypermethylated\tNC_046363.1\tGnomon\tCDS\t17141689\t17141918\t.\t+\t2\tID=cds-XP_012709632.2;Parent=rna-XM_012854178.3;Dbxref=GeneID:105918971,Genbank:XP_012709632.2;Name=XP_012709632.2;gbkey=CDS;gene=sntb1;product=beta-1-syntrophin;protein_id=XP_012709632.2\t2871\r\n",
      "NC_046363.1\t21695863\t21695936\tDMR_7\thypermethylated\tNC_046363.1\tGnomon\tCDS\t21697057\t21697108\t.\t-\t1\tID=cds-XP_035988668.1;Parent=rna-XM_036132775.1;Dbxref=GeneID:105926375,Genbank:XP_035988668.1;Name=XP_035988668.1;Note=The sequence of the model RefSeq protein was modified relative to this genomic sequence to represent the inferred CDS: added 120 bases not found in genome assembly;exception=annotated by transcript or proteomic data;gbkey=CDS;gene=LOC105926375;inference=similar to RNA sequence (same species):INSD:GCES01010742.1;partial=true;product=beta-chimaerin;protein_id=XP_035988668.1\t1121\r\n",
      "NC_046364.1\t33298295\t33298366\tDMR_8\thypermethylated\tNC_046364.1\tGnomon\tCDS\t33441733\t33441756\t.\t+\t0\tID=cds-XP_035991622.1;Parent=rna-XM_036135729.1;Dbxref=GeneID:105919744,Genbank:XP_035991622.1;Name=XP_035991622.1;gbkey=CDS;gene=LOC105919744;product=chromodomain Y-like protein 2;protein_id=XP_035991622.1\t143367\r\n",
      "NC_046364.1\t40892789\t40892994\tDMR_9\thypermethylated\tNC_046364.1\tGnomon\tCDS\t40891299\t40891682\t.\t-\t0\tID=cds-XP_035992483.1;Parent=rna-XM_036136590.1;Dbxref=GeneID:105920405,Genbank:XP_035992483.1;Name=XP_035992483.1;gbkey=CDS;gene=LOC105920405;product=protein-lysine methyltransferase METTL21C;protein_id=XP_035992483.1\t-1108\r\n",
      "NC_046365.1\t15852888\t15853022\tDMR_10\thypermethylated\tNC_046365.1\tGnomon\tCDS\t15963146\t15963172\t.\t-\t0\tID=cds-XP_012733196.1;Parent=rna-XM_012877742.3;Dbxref=GeneID:105936770,Genbank:XP_012733196.1;Name=XP_012733196.1;gbkey=CDS;gene=suclg1;product=succinate--CoA ligase [ADP/GDP-forming] subunit alpha%2C mitochondrial isoform X2;protein_id=XP_012733196.1\t110124\r\n",
      "\r\n",
      "==> 5_pop_diff_DMR.closestCDS.bed <==\r\n",
      "NC_046361.1\t10902397\t10902516\tDMR_1\thypomethylated\tNC_046361.1\tGnomon\tCDS\t10842617\t10842689\t.\t+\t1\tID=cds-XP_012722191.2;Parent=rna-XM_012866737.3;Dbxref=GeneID:105929102,Genbank:XP_012722191.2;Name=XP_012722191.2;gbkey=CDS;gene=ajap1;product=adherens junction-associated protein 1;protein_id=XP_012722191.2\t-59709\r\n",
      "NC_046362.1\t24575499\t24575593\tDMR_2\thypermethylated\tNC_046362.1\tGnomon\tCDS\t24610351\t24610426\t.\t+\t0\tID=cds-XP_012708733.1;Parent=rna-XM_012853279.3;Dbxref=GeneID:105918236,Genbank:XP_012708733.1;Name=XP_012708733.1;gbkey=CDS;gene=ehf;product=ETS homologous factor isoform X2;protein_id=XP_012708733.1\t34758\r\n",
      "NC_046362.1\t24575499\t24575593\tDMR_2\thypermethylated\tNC_046362.1\tGnomon\tCDS\t24610351\t24610426\t.\t+\t0\tID=cds-XP_012708732.1;Parent=rna-XM_012853278.3;Dbxref=GeneID:105918236,Genbank:XP_012708732.1;Name=XP_012708732.1;gbkey=CDS;gene=ehf;product=ETS homologous factor isoform X1;protein_id=XP_012708732.1\t34758\r\n",
      "NC_046362.1\t24584027\t24584121\tDMR_3\thypermethylated\tNC_046362.1\tGnomon\tCDS\t24610351\t24610426\t.\t+\t0\tID=cds-XP_012708733.1;Parent=rna-XM_012853279.3;Dbxref=GeneID:105918236,Genbank:XP_012708733.1;Name=XP_012708733.1;gbkey=CDS;gene=ehf;product=ETS homologous factor isoform X2;protein_id=XP_012708733.1\t26230\r\n",
      "NC_046362.1\t24584027\t24584121\tDMR_3\thypermethylated\tNC_046362.1\tGnomon\tCDS\t24610351\t24610426\t.\t+\t0\tID=cds-XP_012708732.1;Parent=rna-XM_012853278.3;Dbxref=GeneID:105918236,Genbank:XP_012708732.1;Name=XP_012708732.1;gbkey=CDS;gene=ehf;product=ETS homologous factor isoform X1;protein_id=XP_012708732.1\t26230\r\n",
      "NC_046362.1\t35470061\t35470157\tDMR_4\thypomethylated\tNC_046362.1\tGnomon\tCDS\t35456036\t35456056\t.\t+\t2\tID=cds-XP_035982281.1;Parent=rna-XM_036126388.1;Dbxref=GeneID:118557127,Genbank:XP_035982281.1;Name=XP_035982281.1;Note=The sequence of the model RefSeq protein was modified relative to this genomic sequence to represent the inferred CDS: added 30 bases not found in genome assembly;exception=annotated by transcript or proteomic data;gbkey=CDS;gene=LOC118557127;inference=similar to RNA sequence (same species):INSD:GCES01002675.1;partial=true;product=zinc finger protein 423-like;protein_id=XP_035982281.1\t-14006\r\n",
      "NC_046363.1\t203897\t205027\tDMR_5\thypomethylated\tNC_046363.1\tGnomon\tCDS\t180762\t185468\t.\t+\t0\tID=cds-XP_035983305.1;Parent=rna-XM_036127412.1;Dbxref=GeneID:110367904,Genbank:XP_035983305.1;Name=XP_035983305.1;gbkey=CDS;gene=LOC110367904;product=interferon-induced very large GTPase 1;protein_id=XP_035983305.1\t-18430\r\n",
      "NC_046369.1\t26223581\t26223702\tDMR_6\thypomethylated\tNC_046369.1\tGnomon\tCDS\t26210809\t26210919\t.\t+\t0\tID=cds-XP_012736372.1;Parent=rna-XM_012880918.3;Dbxref=GeneID:105938956,Genbank:XP_012736372.1;Name=XP_012736372.1;gbkey=CDS;gene=map2k2a;product=dual specificity mitogen-activated protein kinase kinase 2a;protein_id=XP_012736372.1\t-12663\r\n",
      "NC_046373.1\t14583736\t14583847\tDMR_7\thypermethylated\tNC_046373.1\tGnomon\tCDS\t14577168\t14577193\t.\t-\t1\tID=cds-XP_036001057.1;Parent=rna-XM_036145164.1;Dbxref=GeneID:105930380,Genbank:XP_036001057.1;Name=XP_036001057.1;gbkey=CDS;gene=necab1;product=N-terminal EF-hand calcium-binding protein 1 isoform X1;protein_id=XP_036001057.1\t-6544\r\n",
      "NC_046373.1\t14583736\t14583847\tDMR_7\thypermethylated\tNC_046373.1\tGnomon\tCDS\t14577168\t14577193\t.\t-\t1\tID=cds-XP_036001058.1;Parent=rna-XM_036145165.1;Dbxref=GeneID:105930380,Genbank:XP_036001058.1;Name=XP_036001058.1;gbkey=CDS;gene=necab1;product=N-terminal EF-hand calcium-binding protein 1 isoform X2;protein_id=XP_036001058.1\t-6544\r\n",
      "\r\n",
      "==> OC_pop_diff_DMR.closestCDS.bed <==\r\n",
      "NC_046370.1\t21493874\t21493961\tDMR_1\thypermethylated\tNC_046370.1\tGnomon\tCDS\t21489711\t21489773\t.\t-\t2\tID=cds-XP_035998483.1;Parent=rna-XM_036142590.1;Dbxref=GeneID:105920231,Genbank:XP_035998483.1;Name=XP_035998483.1;gbkey=CDS;gene=LOC105920231;product=protein shisa-6;protein_id=XP_035998483.1\t-4102\r\n",
      "\r\n",
      "==> all_pop_DMR.closestCDS.bed <==\r\n",
      "NC_046362.1\t39864318\t39864358\tDMR_1\thypermethylated\tNC_046362.1\tGnomon\tCDS\t39864796\t39864895\t.\t+\t2\tID=cds-XP_036001108.1;Parent=rna-XM_036145215.1;Dbxref=GeneID:105931444,Genbank:XP_036001108.1;Name=XP_036001108.1;gbkey=CDS;gene=znf276;product=zinc finger protein 276;protein_id=XP_036001108.1\t438\r\n",
      "NC_046363.1\t203897\t205027\tDMR_2\thypomethylated\tNC_046363.1\tGnomon\tCDS\t180762\t185468\t.\t+\t0\tID=cds-XP_035983305.1;Parent=rna-XM_036127412.1;Dbxref=GeneID:110367904,Genbank:XP_035983305.1;Name=XP_035983305.1;gbkey=CDS;gene=LOC110367904;product=interferon-induced very large GTPase 1;protein_id=XP_035983305.1\t-18430\r\n",
      "NC_046363.1\t11482768\t11483020\tDMR_3\thypomethylated\tNC_046363.1\tGnomon\tCDS\t11428006\t11431544\t.\t+\t2\tID=cds-XP_021177398.1;Parent=rna-XM_021321723.2;Dbxref=GeneID:105933420,Genbank:XP_021177398.1;Name=XP_021177398.1;gbkey=CDS;gene=LOC105933420;product=teashirt homolog 1;protein_id=XP_021177398.1\t-51225\r\n",
      "NC_046363.1\t11482768\t11483020\tDMR_3\thypomethylated\tNC_046363.1\tGnomon\tCDS\t11428006\t11431544\t.\t+\t2\tID=cds-XP_012728407.1;Parent=rna-XM_012872953.3;Dbxref=GeneID:105933420,Genbank:XP_012728407.1;Name=XP_012728407.1;gbkey=CDS;gene=LOC105933420;product=teashirt homolog 1;protein_id=XP_012728407.1\t-51225\r\n",
      "NC_046366.1\t15952916\t15953096\tDMR_4\thypermethylated\tNC_046366.1\tGnomon\tCDS\t15950801\t15952153\t.\t-\t0\tID=cds-XP_012734422.2;Parent=rna-XM_012878968.3;Dbxref=GeneID:105937584,Genbank:XP_012734422.2;Name=XP_012734422.2;gbkey=CDS;gene=LOC105937584;product=zinc finger protein 836 isoform X1;protein_id=XP_012734422.2\t-764\r\n",
      "NC_046366.1\t15952916\t15953096\tDMR_4\thypermethylated\tNC_046366.1\tGnomon\tCDS\t15950801\t15952153\t.\t-\t0\tID=cds-XP_012734423.2;Parent=rna-XM_012878969.3;Dbxref=GeneID:105937584,Genbank:XP_012734423.2;Name=XP_012734423.2;gbkey=CDS;gene=LOC105937584;product=zinc finger protein 420 isoform X2;protein_id=XP_012734423.2\t-764\r\n",
      "NC_046366.1\t32856829\t32857009\tDMR_5\thypermethylated\tNC_046366.1\tGnomon\tCDS\t32862686\t32862879\t.\t+\t2\tID=cds-XP_035994516.1;Parent=rna-XM_036138623.1;Dbxref=GeneID:105930928,Genbank:XP_035994516.1;Name=XP_035994516.1;gbkey=CDS;gene=LOC105930928;product=contactin-associated protein-like 4 isoform X2;protein_id=XP_035994516.1\t5677\r\n",
      "NC_046366.1\t32856829\t32857009\tDMR_5\thypermethylated\tNC_046366.1\tGnomon\tCDS\t32862686\t32862879\t.\t+\t2\tID=cds-XP_035994515.1;Parent=rna-XM_036138622.1;Dbxref=GeneID:105930928,Genbank:XP_035994515.1;Name=XP_035994515.1;gbkey=CDS;gene=LOC105930928;product=contactin-associated protein-like 4 isoform X1;protein_id=XP_035994515.1\t5677\r\n",
      "NC_046367.1\t32848978\t32849069\tDMR_6\thypomethylated\tNC_046367.1\tGnomon\tCDS\t32875164\t32875257\t.\t+\t0\tID=cds-XP_035995408.1;Parent=rna-XM_036139515.1;Dbxref=GeneID:105936158,Genbank:XP_035995408.1;Name=XP_035995408.1;gbkey=CDS;gene=epha3;product=ephrin type-A receptor 3 isoform X9;protein_id=XP_035995408.1\t26095\r\n"
     ]
    },
    {
     "name": "stdout",
     "output_type": "stream",
     "text": [
      "NC_046367.1\t32848978\t32849069\tDMR_6\thypomethylated\tNC_046367.1\tGnomon\tCDS\t32875164\t32875257\t.\t+\t0\tID=cds-XP_021179412.1;Parent=rna-XM_021323737.2;Dbxref=GeneID:105936158,Genbank:XP_021179412.1;Name=XP_021179412.1;gbkey=CDS;gene=epha3;product=ephrin type-A receptor 3 isoform X8;protein_id=XP_021179412.1\t26095\r\n"
     ]
    }
   ],
   "source": [
    "!head *DMR.closestCDS.bed"
   ]
  },
  {
   "cell_type": "code",
   "execution_count": 95,
   "metadata": {
    "scrolled": true
   },
   "outputs": [
    {
     "name": "stdout",
     "output_type": "stream",
     "text": [
      "      55 20_5_N_DMR.closestCDS.bed\r\n",
      "      33 20_OC_N_DMR.closestCDS.bed\r\n",
      "     146 5_OC_N_DMR.closestCDS.bed\r\n",
      "      36 5_pop_diff_DMR.closestCDS.bed\r\n",
      "       1 OC_pop_diff_DMR.closestCDS.bed\r\n",
      "      29 all_pop_DMR.closestCDS.bed\r\n",
      "     300 total\r\n"
     ]
    }
   ],
   "source": [
    "!wc -l *DMR.closestCDS.bed"
   ]
  },
  {
   "cell_type": "code",
   "execution_count": 129,
   "metadata": {},
   "outputs": [],
   "source": [
    "#Get line counts for each fine\n",
    "# Remove 7th line (total entries)\n",
    "#Ensure output is tab-delimited\n",
    "#Save output\n",
    "!wc -l *DMR.closestCDS.bed \\\n",
    "| sed '7,$ d' \\\n",
    "| awk '{print $1\"\\t\"$2}' \\\n",
    "> closestCDS-counts.txt"
   ]
  },
  {
   "cell_type": "markdown",
   "metadata": {},
   "source": [
    "### 3c. Exon"
   ]
  },
  {
   "cell_type": "code",
   "execution_count": 96,
   "metadata": {},
   "outputs": [],
   "source": [
    "%%bash\n",
    "\n",
    "for f in *DMR.sort.bed\n",
    "do\n",
    "   /opt/homebrew/bin/closestBed \\\n",
    "   -D \"ref\" \\\n",
    "   -a ${f} \\\n",
    "   -b ../../../genome-features/GCF_011125445.2_MU-UCD_Fhet_4.1_genomic-exon.gff \\\n",
    "   -g ../../../genome-features/mummichog.chrom.length \\\n",
    "   > $(basename ${f%_DMR.sort.bed})_DMR.closestExon.bed\n",
    "done"
   ]
  },
  {
   "cell_type": "code",
   "execution_count": 97,
   "metadata": {},
   "outputs": [
    {
     "name": "stdout",
     "output_type": "stream",
     "text": [
      "20_5_N_DMR.closestExon.bed      5_pop_diff_DMR.closestExon.bed\r\n",
      "20_OC_N_DMR.closestExon.bed     OC_pop_diff_DMR.closestExon.bed\r\n",
      "5_OC_N_DMR.closestExon.bed      all_pop_DMR.closestExon.bed\r\n"
     ]
    }
   ],
   "source": [
    "!ls *DMR.closestExon.bed"
   ]
  },
  {
   "cell_type": "code",
   "execution_count": 98,
   "metadata": {},
   "outputs": [
    {
     "name": "stdout",
     "output_type": "stream",
     "text": [
      "==> 20_5_N_DMR.closestExon.bed <==\r\n",
      "NC_046361.1\t5411834\t5411929\tDMR_1\thypomethylated\tNC_046361.1\tGnomon\texon\t5408990\t5409314\t.\t+\t.\tID=exon-XM_036150774.1-2;Parent=rna-XM_036150774.1;Dbxref=GeneID:118556598,Genbank:XM_036150774.1;gbkey=mRNA;gene=LOC118556598;product=SLIT-ROBO Rho GTPase-activating protein 3-like;transcript_id=XM_036150774.1\t-2521\r\n",
      "NC_046361.1\t5420132\t5420227\tDMR_2\thypomethylated\tNC_046361.1\tGnomon\texon\t5424366\t5424537\t.\t+\t.\tID=exon-XM_036150774.1-3;Parent=rna-XM_036150774.1;Dbxref=GeneID:118556598,Genbank:XM_036150774.1;gbkey=mRNA;gene=LOC118556598;product=SLIT-ROBO Rho GTPase-activating protein 3-like;transcript_id=XM_036150774.1\t4139\r\n",
      "NC_046365.1\t15020929\t15020962\tDMR_3\thypomethylated\tNC_046365.1\tGnomon\texon\t15071098\t15071430\t.\t+\t.\tID=exon-XM_036136991.1-1;Parent=rna-XM_036136991.1;Dbxref=GeneID:105936762,Genbank:XM_036136991.1;gbkey=mRNA;gene=ctnna2;product=catenin (cadherin-associated protein)%2C alpha 2%2C transcript variant X1;transcript_id=XM_036136991.1\t50136\r\n",
      "NC_046365.1\t15020929\t15020962\tDMR_3\thypomethylated\tNC_046365.1\tGnomon\texon\t15071098\t15071320\t.\t+\t.\tID=exon-XM_036136992.1-1;Parent=rna-XM_036136992.1;Dbxref=GeneID:105936762,Genbank:XM_036136992.1;gbkey=mRNA;gene=ctnna2;product=catenin (cadherin-associated protein)%2C alpha 2%2C transcript variant X2;transcript_id=XM_036136992.1\t50136\r\n",
      "NC_046365.1\t15029545\t15029578\tDMR_4\thypomethylated\tNC_046365.1\tGnomon\texon\t15071098\t15071430\t.\t+\t.\tID=exon-XM_036136991.1-1;Parent=rna-XM_036136991.1;Dbxref=GeneID:105936762,Genbank:XM_036136991.1;gbkey=mRNA;gene=ctnna2;product=catenin (cadherin-associated protein)%2C alpha 2%2C transcript variant X1;transcript_id=XM_036136991.1\t41520\r\n",
      "NC_046365.1\t15029545\t15029578\tDMR_4\thypomethylated\tNC_046365.1\tGnomon\texon\t15071098\t15071320\t.\t+\t.\tID=exon-XM_036136992.1-1;Parent=rna-XM_036136992.1;Dbxref=GeneID:105936762,Genbank:XM_036136992.1;gbkey=mRNA;gene=ctnna2;product=catenin (cadherin-associated protein)%2C alpha 2%2C transcript variant X2;transcript_id=XM_036136992.1\t41520\r\n",
      "NC_046369.1\t23714137\t23714467\tDMR_5\thypomethylated\tNC_046369.1\tGnomon\texon\t23710047\t23710666\t.\t+\t.\tID=exon-XM_036141274.1-17;Parent=rna-XM_036141274.1;Dbxref=GeneID:105927885,Genbank:XM_036141274.1;gbkey=mRNA;gene=sele;product=selectin E%2C transcript variant X1;transcript_id=XM_036141274.1\t-3472\r\n",
      "NC_046369.1\t23714137\t23714467\tDMR_5\thypomethylated\tNC_046369.1\tGnomon\texon\t23710047\t23710666\t.\t+\t.\tID=exon-XM_036141276.1-16;Parent=rna-XM_036141276.1;Dbxref=GeneID:105927885,Genbank:XM_036141276.1;gbkey=mRNA;gene=sele;product=selectin E%2C transcript variant X3;transcript_id=XM_036141276.1\t-3472\r\n",
      "NC_046369.1\t23714137\t23714467\tDMR_5\thypomethylated\tNC_046369.1\tGnomon\texon\t23710050\t23710666\t.\t+\t.\tID=exon-XM_036141275.1-17;Parent=rna-XM_036141275.1;Dbxref=GeneID:105927885,Genbank:XM_036141275.1;gbkey=mRNA;gene=sele;product=selectin E%2C transcript variant X2;transcript_id=XM_036141275.1\t-3472\r\n",
      "NC_046372.1\t4663541\t4663752\tDMR_6\thypermethylated\tNC_046372.1\tGnomon\texon\t4702043\t4702453\t.\t+\t.\tID=exon-XR_004932200.1-1;Parent=rna-XR_004932200.1;Dbxref=GeneID:118565115,Genbank:XR_004932200.1;gbkey=ncRNA;gene=LOC118565115;product=uncharacterized LOC118565115;transcript_id=XR_004932200.1\t38291\r\n",
      "\r\n",
      "==> 20_OC_N_DMR.closestExon.bed <==\r\n",
      "NC_046363.1\t3538100\t3538292\tDMR_1\thypermethylated\tNC_046363.1\tGnomon\texon\t3636267\t3636346\t.\t-\t.\tID=exon-XR_004927964.1-2;Parent=rna-XR_004927964.1;Dbxref=GeneID:118557730,Genbank:XR_004927964.1;gbkey=ncRNA;gene=LOC118557730;product=uncharacterized LOC118557730;transcript_id=XR_004927964.1\t97975\r\n",
      "NC_046364.1\t22883537\t22883766\tDMR_2\thypermethylated\tNC_046364.1\tGnomon\texon\t23011589\t23011907\t.\t+\t.\tID=exon-XM_036136279.1-1;Parent=rna-XM_036136279.1;Dbxref=GeneID:118556404,Genbank:XM_036136279.1;Note=The sequence of the model RefSeq transcript was modified relative to this genomic sequence to represent the inferred CDS: added 724 bases not found in genome assembly;exception=annotated by transcript or proteomic data;gbkey=mRNA;gene=cdh8;inference=similar to RNA sequence (same species):INSD:GCES01125733.1;partial=true;product=cadherin 8;transcript_id=XM_036136279.1\t127823\r\n",
      "NC_046366.1\t7081208\t7081367\tDMR_3\thypermethylated\tNC_046366.1\tGnomon\texon\t7079066\t7079194\t.\t+\t.\tID=exon-XM_012861064.3-7;Parent=rna-XM_012861064.3;Dbxref=GeneID:105925296,Genbank:XM_012861064.3;gbkey=mRNA;gene=fggy;product=FGGY carbohydrate kinase domain containing%2C transcript variant X1;transcript_id=XM_012861064.3\t-2015\r\n",
      "NC_046366.1\t7081208\t7081367\tDMR_3\thypermethylated\tNC_046366.1\tGnomon\texon\t7079066\t7079194\t.\t+\t.\tID=exon-XM_021315677.2-7;Parent=rna-XM_021315677.2;Dbxref=GeneID:105925296,Genbank:XM_021315677.2;gbkey=mRNA;gene=fggy;product=FGGY carbohydrate kinase domain containing%2C transcript variant X2;transcript_id=XM_021315677.2\t-2015\r\n",
      "NC_046367.1\t16770264\t16770423\tDMR_4\thypermethylated\tNC_046367.1\tGnomon\texon\t16800456\t16801573\t.\t+\t.\tID=exon-XM_012864219.3-1;Parent=rna-XM_012864219.3;Dbxref=GeneID:105927467,Genbank:XM_012864219.3;gbkey=mRNA;gene=fgf14;product=fibroblast growth factor 14%2C transcript variant X2;transcript_id=XM_012864219.3\t30033\r\n",
      "NC_046373.1\t281709\t281971\tDMR_5\thypermethylated\tNC_046373.1\tGnomon\texon\t384334\t388914\t.\t-\t.\tID=exon-XM_012870925.3-1;Parent=rna-XM_012870925.3;Dbxref=GeneID:105931975,Genbank:XM_012870925.3;gbkey=mRNA;gene=sox4a;product=SRY-box transcription factor 4a;transcript_id=XM_012870925.3\t102363\r\n",
      "NC_046376.1\t57649\t57779\tDMR_6\thypermethylated\tNC_046376.1\tGnomon\texon\t60886\t60955\t.\t+\t.\tID=exon-XM_036148145.1-1;Parent=rna-XM_036148145.1;Dbxref=GeneID:118566350,Genbank:XM_036148145.1;gbkey=mRNA;gene=LOC118566350;product=uncharacterized LOC118566350;transcript_id=XM_036148145.1\t3107\r\n",
      "NC_046376.1\t37486144\t37486331\tDMR_7\thypermethylated\tNC_046376.1\tGnomon\texon\t37491953\t37495058\t.\t-\t.\tID=exon-XM_036148626.1-5;Parent=rna-XM_036148626.1;Dbxref=GeneID:110368333,Genbank:XM_036148626.1;gbkey=mRNA;gene=LOC110368333;product=uncharacterized LOC110368333;transcript_id=XM_036148626.1\t5622\r\n",
      "NC_046381.1\t24998741\t24998900\tDMR_8\thypermethylated\tNC_046381.1\tGnomon\texon\t24997364\t24998294\t.\t-\t.\tID=exon-XM_036125152.1-1;Parent=rna-XM_036125152.1;Dbxref=GeneID:110367442,Genbank:XM_036125152.1;gbkey=mRNA;gene=vopp1;product=VOPP1 WW domain binding protein%2C transcript variant X3;transcript_id=XM_036125152.1\t-448\r\n",
      "NC_046382.1\t24016650\t24016784\tDMR_9\thypermethylated\tNC_046382.1\tGnomon\texon\t24040371\t24040478\t.\t+\t.\tID=exon-XM_036126275.1-1;Parent=rna-XM_036126275.1;Dbxref=GeneID:105938650,Genbank:XM_036126275.1;gbkey=mRNA;gene=pax2a;product=paired box 2a%2C transcript variant X23;transcript_id=XM_036126275.1\t23587\r\n",
      "\r\n",
      "==> 5_OC_N_DMR.closestExon.bed <==\r\n",
      "NC_046361.1\t5411834\t5411928\tDMR_1\thypermethylated\tNC_046361.1\tGnomon\texon\t5408990\t5409314\t.\t+\t.\tID=exon-XM_036150774.1-2;Parent=rna-XM_036150774.1;Dbxref=GeneID:118556598,Genbank:XM_036150774.1;gbkey=mRNA;gene=LOC118556598;product=SLIT-ROBO Rho GTPase-activating protein 3-like;transcript_id=XM_036150774.1\t-2521\r\n",
      "NC_046361.1\t5420132\t5420226\tDMR_2\thypermethylated\tNC_046361.1\tGnomon\texon\t5424366\t5424537\t.\t+\t.\tID=exon-XM_036150774.1-3;Parent=rna-XM_036150774.1;Dbxref=GeneID:118556598,Genbank:XM_036150774.1;gbkey=mRNA;gene=LOC118556598;product=SLIT-ROBO Rho GTPase-activating protein 3-like;transcript_id=XM_036150774.1\t4140\r\n",
      "NC_046361.1\t41997840\t41998004\tDMR_3\thypermethylated\tNC_046361.1\tGnomon\texon\t42005043\t42005071\t.\t+\t.\tID=exon-XM_036138683.1-1;Parent=rna-XM_036138683.1;Dbxref=GeneID:118563577,Genbank:XM_036138683.1;gbkey=mRNA;gene=LOC118563577;product=C-type mannose receptor 2-like;transcript_id=XM_036138683.1\t7039\r\n",
      "NC_046362.1\t18039751\t18039824\tDMR_4\thypermethylated\tNC_046362.1\tGnomon\texon\t18034764\t18035437\t.\t-\t.\tID=exon-XM_036149904.1-1;Parent=rna-XM_036149904.1;Dbxref=GeneID:105932314,Genbank:XM_036149904.1;gbkey=mRNA;gene=rasgrf1;product=Ras protein specific guanine nucleotide releasing factor 1;transcript_id=XM_036149904.1\t-4315\r\n",
      "NC_046363.1\t6052206\t6052595\tDMR_5\thypomethylated\tNC_046363.1\tGnomon\texon\t6046192\t6048047\t.\t+\t.\tID=exon-XM_036129072.1-5;Parent=rna-XM_036129072.1;Dbxref=GeneID:110369139,Genbank:XM_036129072.1;gbkey=mRNA;gene=LOC110369139;product=neurocalcin-delta A%2C transcript variant X1;transcript_id=XM_036129072.1\t-4160\r\n",
      "NC_046363.1\t6052206\t6052595\tDMR_5\thypomethylated\tNC_046363.1\tGnomon\texon\t6046192\t6048047\t.\t+\t.\tID=exon-XM_036129077.1-5;Parent=rna-XM_036129077.1;Dbxref=GeneID:110369139,Genbank:XM_036129077.1;gbkey=mRNA;gene=LOC110369139;product=neurocalcin-delta A%2C transcript variant X3;transcript_id=XM_036129077.1\t-4160\r\n",
      "NC_046363.1\t6052206\t6052595\tDMR_5\thypomethylated\tNC_046363.1\tGnomon\texon\t6046192\t6048047\t.\t+\t.\tID=exon-XM_036129080.1-5;Parent=rna-XM_036129080.1;Dbxref=GeneID:110369139,Genbank:XM_036129080.1;gbkey=mRNA;gene=LOC110369139;product=neurocalcin-delta A%2C transcript variant X4;transcript_id=XM_036129080.1\t-4160\r\n",
      "NC_046363.1\t6052206\t6052595\tDMR_5\thypomethylated\tNC_046363.1\tGnomon\texon\t6046192\t6048047\t.\t+\t.\tID=exon-XM_036129075.1-5;Parent=rna-XM_036129075.1;Dbxref=GeneID:110369139,Genbank:XM_036129075.1;gbkey=mRNA;gene=LOC110369139;product=neurocalcin-delta A%2C transcript variant X2;transcript_id=XM_036129075.1\t-4160\r\n",
      "NC_046363.1\t17138613\t17138818\tDMR_6\thypermethylated\tNC_046363.1\tGnomon\texon\t17141689\t17141918\t.\t+\t.\tID=exon-XM_012854178.3-7;Parent=rna-XM_012854178.3;Dbxref=GeneID:105918971,Genbank:XM_012854178.3;gbkey=mRNA;gene=sntb1;product=syntrophin%2C basic 1;transcript_id=XM_012854178.3\t2871\r\n",
      "NC_046363.1\t21695863\t21695936\tDMR_7\thypermethylated\tNC_046363.1\tGnomon\texon\t21697057\t21697108\t.\t-\t.\tID=exon-XM_036132775.1-6;Parent=rna-XM_036132775.1;Dbxref=GeneID:105926375,Genbank:XM_036132775.1;Note=The sequence of the model RefSeq transcript was modified relative to this genomic sequence to represent the inferred CDS: added 120 bases not found in genome assembly;exception=annotated by transcript or proteomic data;gbkey=mRNA;gene=LOC105926375;inference=similar to RNA sequence (same species):INSD:GCES01010742.1;partial=true;product=beta-chimaerin;transcript_id=XM_036132775.1\t1121\r\n",
      "\r\n",
      "==> 5_pop_diff_DMR.closestExon.bed <==\r\n",
      "NC_046361.1\t10902397\t10902516\tDMR_1\thypomethylated\tNC_046361.1\tGnomon\texon\t10844878\t10850561\t.\t+\t.\tID=exon-XM_012866737.3-6;Parent=rna-XM_012866737.3;Dbxref=GeneID:105929102,Genbank:XM_012866737.3;gbkey=mRNA;gene=ajap1;product=adherens junctions associated protein 1;transcript_id=XM_012866737.3\t-51837\r\n",
      "NC_046362.1\t24575499\t24575593\tDMR_2\thypermethylated\tNC_046362.1\tGnomon\texon\t24607920\t24608182\t.\t+\t.\tID=exon-XM_012853279.3-1;Parent=rna-XM_012853279.3;Dbxref=GeneID:105918236,Genbank:XM_012853279.3;gbkey=mRNA;gene=ehf;product=ets homologous factor%2C transcript variant X2;transcript_id=XM_012853279.3\t32327\r\n",
      "NC_046362.1\t24584027\t24584121\tDMR_3\thypermethylated\tNC_046362.1\tGnomon\texon\t24607920\t24608182\t.\t+\t.\tID=exon-XM_012853279.3-1;Parent=rna-XM_012853279.3;Dbxref=GeneID:105918236,Genbank:XM_012853279.3;gbkey=mRNA;gene=ehf;product=ets homologous factor%2C transcript variant X2;transcript_id=XM_012853279.3\t23799\r\n",
      "NC_046362.1\t35470061\t35470157\tDMR_4\thypomethylated\tNC_046362.1\tGnomon\texon\t35456036\t35456056\t.\t+\t.\tID=exon-XM_036126388.1-2;Parent=rna-XM_036126388.1;Dbxref=GeneID:118557127,Genbank:XM_036126388.1;Note=The sequence of the model RefSeq transcript was modified relative to this genomic sequence to represent the inferred CDS: added 684 bases not found in genome assembly;exception=annotated by transcript or proteomic data;gbkey=mRNA;gene=LOC118557127;inference=similar to RNA sequence (same species):INSD:GCES01002675.1;partial=true;product=zinc finger protein 423-like;transcript_id=XM_036126388.1\t-14006\r\n",
      "NC_046363.1\t203897\t205027\tDMR_5\thypomethylated\tNC_046363.1\tGnomon\texon\t203653\t203827\t.\t-\t.\tID=exon-XR_004928154.1-2;Parent=rna-XR_004928154.1;Dbxref=GeneID:118558079,Genbank:XR_004928154.1;gbkey=ncRNA;gene=LOC118558079;product=uncharacterized LOC118558079;transcript_id=XR_004928154.1\t-71\r\n",
      "NC_046369.1\t26223581\t26223702\tDMR_6\thypomethylated\tNC_046369.1\tGnomon\texon\t26226858\t26226868\t.\t+\t.\tID=exon-XM_036141341.1-1;Parent=rna-XM_036141341.1;Dbxref=GeneID:105938968,Genbank:XM_036141341.1;gbkey=mRNA;gene=zbtb7a;product=zinc finger and BTB domain containing 7a%2C transcript variant X2;transcript_id=XM_036141341.1\t3156\r\n",
      "NC_046373.1\t14583736\t14583847\tDMR_7\thypermethylated\tNC_046373.1\tGnomon\texon\t14577168\t14577193\t.\t-\t.\tID=exon-XM_036145164.1-4;Parent=rna-XM_036145164.1;Dbxref=GeneID:105930380,Genbank:XM_036145164.1;gbkey=mRNA;gene=necab1;product=N-terminal EF-hand calcium binding protein 1%2C transcript variant X1;transcript_id=XM_036145164.1\t-6544\r\n",
      "NC_046373.1\t14583736\t14583847\tDMR_7\thypermethylated\tNC_046373.1\tGnomon\texon\t14577168\t14577193\t.\t-\t.\tID=exon-XM_036145165.1-4;Parent=rna-XM_036145165.1;Dbxref=GeneID:105930380,Genbank:XM_036145165.1;gbkey=mRNA;gene=necab1;product=N-terminal EF-hand calcium binding protein 1%2C transcript variant X2;transcript_id=XM_036145165.1\t-6544\r\n",
      "NC_046373.1\t14592139\t14592233\tDMR_8\thypermethylated\tNC_046373.1\tGnomon\texon\t14592898\t14593006\t.\t-\t.\tID=exon-XM_036145164.1-3;Parent=rna-XM_036145164.1;Dbxref=GeneID:105930380,Genbank:XM_036145164.1;gbkey=mRNA;gene=necab1;product=N-terminal EF-hand calcium binding protein 1%2C transcript variant X1;transcript_id=XM_036145164.1\t665\r\n",
      "NC_046373.1\t14592139\t14592233\tDMR_8\thypermethylated\tNC_046373.1\tGnomon\texon\t14592898\t14593006\t.\t-\t.\tID=exon-XM_036145165.1-3;Parent=rna-XM_036145165.1;Dbxref=GeneID:105930380,Genbank:XM_036145165.1;gbkey=mRNA;gene=necab1;product=N-terminal EF-hand calcium binding protein 1%2C transcript variant X2;transcript_id=XM_036145165.1\t665\r\n",
      "\r\n",
      "==> OC_pop_diff_DMR.closestExon.bed <==\r\n",
      "NC_046370.1\t21493874\t21493961\tDMR_1\thypermethylated\tNC_046370.1\tGnomon\texon\t21489711\t21489773\t.\t-\t.\tID=exon-XM_036142590.1-4;Parent=rna-XM_036142590.1;Dbxref=GeneID:105920231,Genbank:XM_036142590.1;gbkey=mRNA;gene=LOC105920231;product=protein shisa-6;transcript_id=XM_036142590.1\t-4102\r\n",
      "\r\n",
      "==> all_pop_DMR.closestExon.bed <==\r\n",
      "NC_046362.1\t39864318\t39864358\tDMR_1\thypermethylated\tNC_046362.1\tGnomon\texon\t39864796\t39864895\t.\t+\t.\tID=exon-XM_036145215.1-16;Parent=rna-XM_036145215.1;Dbxref=GeneID:105931444,Genbank:XM_036145215.1;gbkey=mRNA;gene=znf276;product=zinc finger protein 276;transcript_id=XM_036145215.1\t438\r\n",
      "NC_046363.1\t203897\t205027\tDMR_2\thypomethylated\tNC_046363.1\tGnomon\texon\t203653\t203827\t.\t-\t.\tID=exon-XR_004928154.1-2;Parent=rna-XR_004928154.1;Dbxref=GeneID:118558079,Genbank:XR_004928154.1;gbkey=ncRNA;gene=LOC118558079;product=uncharacterized LOC118558079;transcript_id=XR_004928154.1\t-71\r\n",
      "NC_046363.1\t11482768\t11483020\tDMR_3\thypomethylated\tNC_046363.1\tGnomon\texon\t11522076\t11522137\t.\t-\t.\tID=exon-XR_004928841.1-3;Parent=rna-XR_004928841.1;Dbxref=GeneID:118559404,Genbank:XR_004928841.1;gbkey=ncRNA;gene=LOC118559404;product=uncharacterized LOC118559404;transcript_id=XR_004928841.1\t39056\r\n",
      "NC_046366.1\t15952916\t15953096\tDMR_4\thypermethylated\tNC_046366.1\tGnomon\texon\t15950377\t15952153\t.\t-\t.\tID=exon-XM_012878968.3-5;Parent=rna-XM_012878968.3;Dbxref=GeneID:105937584,Genbank:XM_012878968.3;gbkey=mRNA;gene=LOC105937584;product=zinc finger protein 420%2C transcript variant X1;transcript_id=XM_012878968.3\t-764\r\n",
      "NC_046366.1\t15952916\t15953096\tDMR_4\thypermethylated\tNC_046366.1\tGnomon\texon\t15950377\t15952153\t.\t-\t.\tID=exon-XM_012878969.3-5;Parent=rna-XM_012878969.3;Dbxref=GeneID:105937584,Genbank:XM_012878969.3;gbkey=mRNA;gene=LOC105937584;product=zinc finger protein 420%2C transcript variant X2;transcript_id=XM_012878969.3\t-764\r\n",
      "NC_046366.1\t32856829\t32857009\tDMR_5\thypermethylated\tNC_046366.1\tGnomon\texon\t32862686\t32862879\t.\t+\t.\tID=exon-XM_036138622.1-3;Parent=rna-XM_036138622.1;Dbxref=GeneID:105930928,Genbank:XM_036138622.1;gbkey=mRNA;gene=LOC105930928;product=contactin-associated protein-like 4%2C transcript variant X1;transcript_id=XM_036138622.1\t5677\r\n",
      "NC_046366.1\t32856829\t32857009\tDMR_5\thypermethylated\tNC_046366.1\tGnomon\texon\t32862686\t32862879\t.\t+\t.\tID=exon-XM_036138623.1-3;Parent=rna-XM_036138623.1;Dbxref=GeneID:105930928,Genbank:XM_036138623.1;gbkey=mRNA;gene=LOC105930928;product=contactin-associated protein-like 4%2C transcript variant X2;transcript_id=XM_036138623.1\t5677\r\n",
      "NC_046367.1\t32848978\t32849069\tDMR_6\thypomethylated\tNC_046367.1\tGnomon\texon\t32875070\t32875257\t.\t+\t.\tID=exon-XM_036139515.1-1;Parent=rna-XM_036139515.1;Dbxref=GeneID:105936158,Genbank:XM_036139515.1;gbkey=mRNA;gene=epha3;product=eph receptor A3%2C transcript variant X9;transcript_id=XM_036139515.1\t26001\r\n",
      "NC_046372.1\t26908073\t26908253\tDMR_7\thypermethylated\tNC_046372.1\tGnomon\texon\t26918141\t26918340\t.\t-\t.\tID=exon-XM_036144383.1-5;Parent=rna-XM_036144383.1;Dbxref=GeneID:105921104,Genbank:XM_036144383.1;gbkey=mRNA;gene=adamts3;product=ADAM metallopeptidase with thrombospondin type 1 motif%2C 3%2C transcript variant X3;transcript_id=XM_036144383.1\t9888\r\n",
      "NC_046372.1\t26908073\t26908253\tDMR_7\thypermethylated\tNC_046372.1\tGnomon\texon\t26918141\t26918340\t.\t-\t.\tID=exon-XM_036144382.1-5;Parent=rna-XM_036144382.1;Dbxref=GeneID:105921104,Genbank:XM_036144382.1;gbkey=mRNA;gene=adamts3;product=ADAM metallopeptidase with thrombospondin type 1 motif%2C 3%2C transcript variant X2;transcript_id=XM_036144382.1\t9888\r\n"
     ]
    }
   ],
   "source": [
    "!head *DMR.closestExon.bed"
   ]
  },
  {
   "cell_type": "code",
   "execution_count": 99,
   "metadata": {
    "scrolled": false
   },
   "outputs": [
    {
     "name": "stdout",
     "output_type": "stream",
     "text": [
      "      52 20_5_N_DMR.closestExon.bed\r\n",
      "      11 20_OC_N_DMR.closestExon.bed\r\n",
      "     105 5_OC_N_DMR.closestExon.bed\r\n",
      "      34 5_pop_diff_DMR.closestExon.bed\r\n",
      "       1 OC_pop_diff_DMR.closestExon.bed\r\n",
      "      23 all_pop_DMR.closestExon.bed\r\n",
      "     226 total\r\n"
     ]
    }
   ],
   "source": [
    "!wc -l *DMR.closestExon.bed"
   ]
  },
  {
   "cell_type": "code",
   "execution_count": 130,
   "metadata": {},
   "outputs": [],
   "source": [
    "#Get line counts for each fine\n",
    "# Remove 7th line (total entries)\n",
    "#Ensure output is tab-delimited\n",
    "#Save output\n",
    "!wc -l *DMR.closestExon.bed \\\n",
    "| sed '7,$ d' \\\n",
    "| awk '{print $1\"\\t\"$2}' \\\n",
    "> closestExon-counts.txt"
   ]
  },
  {
   "cell_type": "markdown",
   "metadata": {},
   "source": [
    "### 3d. lncRNA"
   ]
  },
  {
   "cell_type": "code",
   "execution_count": 100,
   "metadata": {},
   "outputs": [],
   "source": [
    "%%bash\n",
    "\n",
    "for f in *DMR.sort.bed\n",
    "do\n",
    "   /opt/homebrew/bin/closestBed \\\n",
    "   -D \"ref\" \\\n",
    "   -a ${f} \\\n",
    "   -b ../../../genome-features/GCF_011125445.2_MU-UCD_Fhet_4.1_genomic-lnc_RNA.gff \\\n",
    "   -g ../../../genome-features/mummichog.chrom.length \\\n",
    "   > $(basename ${f%_DMR.sort.bed})_DMR.closestlncRNA.bed\n",
    "done"
   ]
  },
  {
   "cell_type": "code",
   "execution_count": 101,
   "metadata": {},
   "outputs": [
    {
     "name": "stdout",
     "output_type": "stream",
     "text": [
      "20_5_N_DMR.closestlncRNA.bed      5_pop_diff_DMR.closestlncRNA.bed\r\n",
      "20_OC_N_DMR.closestlncRNA.bed     OC_pop_diff_DMR.closestlncRNA.bed\r\n",
      "5_OC_N_DMR.closestlncRNA.bed      all_pop_DMR.closestlncRNA.bed\r\n"
     ]
    }
   ],
   "source": [
    "!ls *DMR.closestlncRNA.bed"
   ]
  },
  {
   "cell_type": "code",
   "execution_count": 102,
   "metadata": {},
   "outputs": [
    {
     "name": "stdout",
     "output_type": "stream",
     "text": [
      "==> 20_5_N_DMR.closestlncRNA.bed <==\r\n",
      "NC_046361.1\t5411834\t5411929\tDMR_1\thypomethylated\tNC_046361.1\tGnomon\tlnc_RNA\t5077015\t5077609\t.\t-\t.\tID=rna-XR_004933334.1;Parent=gene-LOC118566824;Dbxref=GeneID:118566824,Genbank:XR_004933334.1;Name=XR_004933334.1;gbkey=ncRNA;gene=LOC118566824;model_evidence=Supporting evidence includes similarity to: 100%25 coverage of the annotated genomic feature by RNAseq alignments%2C including 1 sample with support for all annotated introns;product=uncharacterized LOC118566824;transcript_id=XR_004933334.1\t-334226\r\n",
      "NC_046361.1\t5420132\t5420227\tDMR_2\thypomethylated\tNC_046361.1\tGnomon\tlnc_RNA\t5077015\t5077609\t.\t-\t.\tID=rna-XR_004933334.1;Parent=gene-LOC118566824;Dbxref=GeneID:118566824,Genbank:XR_004933334.1;Name=XR_004933334.1;gbkey=ncRNA;gene=LOC118566824;model_evidence=Supporting evidence includes similarity to: 100%25 coverage of the annotated genomic feature by RNAseq alignments%2C including 1 sample with support for all annotated introns;product=uncharacterized LOC118566824;transcript_id=XR_004933334.1\t-342524\r\n",
      "NC_046365.1\t15020929\t15020962\tDMR_3\thypomethylated\tNC_046365.1\tGnomon\tlnc_RNA\t14513672\t14513918\t.\t-\t.\tID=rna-XR_004930977.1;Parent=gene-LOC110366865;Dbxref=GeneID:110366865,Genbank:XR_004930977.1;Name=XR_004930977.1;gbkey=ncRNA;gene=LOC110366865;model_evidence=Supporting evidence includes similarity to: 100%25 coverage of the annotated genomic feature by RNAseq alignments%2C including 17 samples with support for all annotated introns;product=uncharacterized LOC110366865;transcript_id=XR_004930977.1\t-507012\r\n",
      "NC_046365.1\t15029545\t15029578\tDMR_4\thypomethylated\tNC_046365.1\tGnomon\tlnc_RNA\t14513672\t14513918\t.\t-\t.\tID=rna-XR_004930977.1;Parent=gene-LOC110366865;Dbxref=GeneID:110366865,Genbank:XR_004930977.1;Name=XR_004930977.1;gbkey=ncRNA;gene=LOC110366865;model_evidence=Supporting evidence includes similarity to: 100%25 coverage of the annotated genomic feature by RNAseq alignments%2C including 17 samples with support for all annotated introns;product=uncharacterized LOC110366865;transcript_id=XR_004930977.1\t-515628\r\n",
      "NC_046369.1\t23714137\t23714467\tDMR_5\thypomethylated\tNC_046369.1\tGnomon\tlnc_RNA\t23756277\t23756662\t.\t+\t.\tID=rna-XR_004931693.1;Parent=gene-LOC105927824;Dbxref=GeneID:105927824,Genbank:XR_004931693.1;Name=XR_004931693.1;gbkey=ncRNA;gene=LOC105927824;model_evidence=Supporting evidence includes similarity to: 100%25 coverage of the annotated genomic feature by RNAseq alignments%2C including 2 samples with support for all annotated introns;product=uncharacterized LOC105927824;transcript_id=XR_004931693.1\t41810\r\n",
      "NC_046372.1\t4663541\t4663752\tDMR_6\thypermethylated\tNC_046372.1\tGnomon\tlnc_RNA\t4702043\t4702591\t.\t+\t.\tID=rna-XR_004932200.1;Parent=gene-LOC118565115;Dbxref=GeneID:118565115,Genbank:XR_004932200.1;Name=XR_004932200.1;gbkey=ncRNA;gene=LOC118565115;model_evidence=Supporting evidence includes similarity to: 100%25 coverage of the annotated genomic feature by RNAseq alignments%2C including 7 samples with support for all annotated introns;product=uncharacterized LOC118565115;transcript_id=XR_004932200.1\t38291\r\n",
      "NC_046373.1\t14583752\t14583847\tDMR_7\thypomethylated\tNC_046373.1\tGnomon\tlnc_RNA\t14638758\t14641443\t.\t-\t.\tID=rna-XR_004932422.1;Parent=gene-LOC118565533;Dbxref=GeneID:118565533,Genbank:XR_004932422.1;Name=XR_004932422.1;gbkey=ncRNA;gene=LOC118565533;model_evidence=Supporting evidence includes similarity to: 100%25 coverage of the annotated genomic feature by RNAseq alignments%2C including 16 samples with support for all annotated introns;product=uncharacterized LOC118565533;transcript_id=XR_004932422.1\t54911\r\n",
      "NC_046373.1\t14592138\t14592233\tDMR_8\thypomethylated\tNC_046373.1\tGnomon\tlnc_RNA\t14638758\t14641443\t.\t-\t.\tID=rna-XR_004932422.1;Parent=gene-LOC118565533;Dbxref=GeneID:118565533,Genbank:XR_004932422.1;Name=XR_004932422.1;gbkey=ncRNA;gene=LOC118565533;model_evidence=Supporting evidence includes similarity to: 100%25 coverage of the annotated genomic feature by RNAseq alignments%2C including 16 samples with support for all annotated introns;product=uncharacterized LOC118565533;transcript_id=XR_004932422.1\t46525\r\n",
      "NC_046373.1\t37115424\t37115457\tDMR_9\thypomethylated\tNC_046373.1\tGnomon\tlnc_RNA\t37297102\t37297356\t.\t-\t.\tID=rna-XR_004932347.1;Parent=gene-LOC118565367;Dbxref=GeneID:118565367,Genbank:XR_004932347.1;Name=XR_004932347.1;gbkey=ncRNA;gene=LOC118565367;model_evidence=Supporting evidence includes similarity to: 100%25 coverage of the annotated genomic feature by RNAseq alignments%2C including 37 samples with support for all annotated introns;product=uncharacterized LOC118565367;transcript_id=XR_004932347.1\t181645\r\n",
      "NC_046373.1\t38547588\t38547621\tDMR_10\thypomethylated\tNC_046373.1\tGnomon\tlnc_RNA\t38600179\t38600553\t.\t-\t.\tID=rna-XR_004932436.1;Parent=gene-LOC118565551;Dbxref=GeneID:118565551,Genbank:XR_004932436.1;Name=XR_004932436.1;gbkey=ncRNA;gene=LOC118565551;model_evidence=Supporting evidence includes similarity to: 100%25 coverage of the annotated genomic feature by RNAseq alignments%2C including 4 samples with support for all annotated introns;product=uncharacterized LOC118565551;transcript_id=XR_004932436.1\t52558\r\n",
      "\r\n",
      "==> 20_OC_N_DMR.closestlncRNA.bed <==\r\n",
      "NC_046363.1\t3538100\t3538292\tDMR_1\thypermethylated\tNC_046363.1\tGnomon\tlnc_RNA\t3636267\t3637000\t.\t-\t.\tID=rna-XR_004927964.1;Parent=gene-LOC118557730;Dbxref=GeneID:118557730,Genbank:XR_004927964.1;Name=XR_004927964.1;gbkey=ncRNA;gene=LOC118557730;model_evidence=Supporting evidence includes similarity to: 100%25 coverage of the annotated genomic feature by RNAseq alignments%2C including 13 samples with support for all annotated introns;product=uncharacterized LOC118557730;transcript_id=XR_004927964.1\t97975\r\n",
      "NC_046364.1\t22883537\t22883766\tDMR_2\thypermethylated\tNC_046364.1\tGnomon\tlnc_RNA\t22055754\t22060752\t.\t+\t.\tID=rna-XR_004930905.1;Parent=gene-LOC118556403;Dbxref=GeneID:118556403,Genbank:XR_004930905.1;Name=XR_004930905.1;gbkey=ncRNA;gene=LOC118556403;model_evidence=Supporting evidence includes similarity to: 2 ESTs%2C and 100%25 coverage of the annotated genomic feature by RNAseq alignments%2C including 65 samples with support for all annotated introns;product=uncharacterized LOC118556403%2C transcript variant X4;transcript_id=XR_004930905.1\t-822786\r\n",
      "NC_046364.1\t22883537\t22883766\tDMR_2\thypermethylated\tNC_046364.1\tGnomon\tlnc_RNA\t22055754\t22060752\t.\t+\t.\tID=rna-XR_004930904.1;Parent=gene-LOC118556403;Dbxref=GeneID:118556403,Genbank:XR_004930904.1;Name=XR_004930904.1;gbkey=ncRNA;gene=LOC118556403;model_evidence=Supporting evidence includes similarity to: 2 ESTs%2C and 100%25 coverage of the annotated genomic feature by RNAseq alignments%2C including 73 samples with support for all annotated introns;product=uncharacterized LOC118556403%2C transcript variant X3;transcript_id=XR_004930904.1\t-822786\r\n",
      "NC_046364.1\t22883537\t22883766\tDMR_2\thypermethylated\tNC_046364.1\tGnomon\tlnc_RNA\t22055755\t22060752\t.\t+\t.\tID=rna-XR_004930903.1;Parent=gene-LOC118556403;Dbxref=GeneID:118556403,Genbank:XR_004930903.1;Name=XR_004930903.1;gbkey=ncRNA;gene=LOC118556403;model_evidence=Supporting evidence includes similarity to: 2 ESTs%2C and 100%25 coverage of the annotated genomic feature by RNAseq alignments%2C including 70 samples with support for all annotated introns;product=uncharacterized LOC118556403%2C transcript variant X2;transcript_id=XR_004930903.1\t-822786\r\n",
      "NC_046364.1\t22883537\t22883766\tDMR_2\thypermethylated\tNC_046364.1\tGnomon\tlnc_RNA\t22055755\t22060752\t.\t+\t.\tID=rna-XR_004930902.1;Parent=gene-LOC118556403;Dbxref=GeneID:118556403,Genbank:XR_004930902.1;Name=XR_004930902.1;gbkey=ncRNA;gene=LOC118556403;model_evidence=Supporting evidence includes similarity to: 2 ESTs%2C and 100%25 coverage of the annotated genomic feature by RNAseq alignments%2C including 83 samples with support for all annotated introns;product=uncharacterized LOC118556403%2C transcript variant X1;transcript_id=XR_004930902.1\t-822786\r\n",
      "NC_046366.1\t7081208\t7081367\tDMR_3\thypermethylated\tNC_046366.1\tGnomon\tlnc_RNA\t7127386\t7131162\t.\t-\t.\tID=rna-XR_004931202.1;Parent=gene-LOC105915703;Dbxref=GeneID:105915703,Genbank:XR_004931202.1;Name=XR_004931202.1;gbkey=ncRNA;gene=LOC105915703;model_evidence=Supporting evidence includes similarity to: 100%25 coverage of the annotated genomic feature by RNAseq alignments%2C including 34 samples with support for all annotated introns;product=uncharacterized LOC105915703;transcript_id=XR_004931202.1\t46019\r\n",
      "NC_046367.1\t16770264\t16770423\tDMR_4\thypermethylated\tNC_046367.1\tGnomon\tlnc_RNA\t16524048\t16525926\t.\t-\t.\tID=rna-XR_004931298.1;Parent=gene-LOC118563608;Dbxref=GeneID:118563608,Genbank:XR_004931298.1;Name=XR_004931298.1;gbkey=ncRNA;gene=LOC118563608;model_evidence=Supporting evidence includes similarity to: 100%25 coverage of the annotated genomic feature by RNAseq alignments%2C including 1 sample with support for all annotated introns;product=uncharacterized LOC118563608;transcript_id=XR_004931298.1\t-244339\r\n",
      "NC_046373.1\t281709\t281971\tDMR_5\thypermethylated\tNC_046373.1\tGnomon\tlnc_RNA\t686644\t687992\t.\t-\t.\tID=rna-XR_004932214.1;Parent=gene-LOC118565151;Dbxref=GeneID:118565151,Genbank:XR_004932214.1;Name=XR_004932214.1;gbkey=ncRNA;gene=LOC118565151;model_evidence=Supporting evidence includes similarity to: 100%25 coverage of the annotated genomic feature by RNAseq alignments%2C including 38 samples with support for all annotated introns;product=uncharacterized LOC118565151;transcript_id=XR_004932214.1\t404673\r\n",
      "NC_046376.1\t57649\t57779\tDMR_6\thypermethylated\tNC_046376.1\tGnomon\tlnc_RNA\t161806\t164506\t.\t-\t.\tID=rna-XR_004932957.1;Parent=gene-LOC118566361;Dbxref=GeneID:118566361,Genbank:XR_004932957.1;Name=XR_004932957.1;gbkey=ncRNA;gene=LOC118566361;model_evidence=Supporting evidence includes similarity to: 100%25 coverage of the annotated genomic feature by RNAseq alignments;product=uncharacterized LOC118566361;transcript_id=XR_004932957.1\t104027\r\n",
      "NC_046376.1\t37486144\t37486331\tDMR_7\thypermethylated\tNC_046376.1\tGnomon\tlnc_RNA\t37588876\t37602964\t.\t+\t.\tID=rna-XR_002427293.2;Parent=gene-LOC110367187;Dbxref=GeneID:110367187,Genbank:XR_002427293.2;Name=XR_002427293.2;gbkey=ncRNA;gene=LOC110367187;model_evidence=Supporting evidence includes similarity to: 100%25 coverage of the annotated genomic feature by RNAseq alignments%2C including 72 samples with support for all annotated introns;product=uncharacterized LOC110367187;transcript_id=XR_002427293.2\t102545\r\n",
      "\r\n",
      "==> 5_OC_N_DMR.closestlncRNA.bed <==\r\n",
      "NC_046361.1\t5411834\t5411928\tDMR_1\thypermethylated\tNC_046361.1\tGnomon\tlnc_RNA\t5077015\t5077609\t.\t-\t.\tID=rna-XR_004933334.1;Parent=gene-LOC118566824;Dbxref=GeneID:118566824,Genbank:XR_004933334.1;Name=XR_004933334.1;gbkey=ncRNA;gene=LOC118566824;model_evidence=Supporting evidence includes similarity to: 100%25 coverage of the annotated genomic feature by RNAseq alignments%2C including 1 sample with support for all annotated introns;product=uncharacterized LOC118566824;transcript_id=XR_004933334.1\t-334226\r\n",
      "NC_046361.1\t5420132\t5420226\tDMR_2\thypermethylated\tNC_046361.1\tGnomon\tlnc_RNA\t5077015\t5077609\t.\t-\t.\tID=rna-XR_004933334.1;Parent=gene-LOC118566824;Dbxref=GeneID:118566824,Genbank:XR_004933334.1;Name=XR_004933334.1;gbkey=ncRNA;gene=LOC118566824;model_evidence=Supporting evidence includes similarity to: 100%25 coverage of the annotated genomic feature by RNAseq alignments%2C including 1 sample with support for all annotated introns;product=uncharacterized LOC118566824;transcript_id=XR_004933334.1\t-342524\r\n",
      "NC_046361.1\t41997840\t41998004\tDMR_3\thypermethylated\tNC_046361.1\tGnomon\tlnc_RNA\t42142526\t42143886\t.\t+\t.\tID=rna-XR_004931968.1;Parent=gene-LOC118564598;Dbxref=GeneID:118564598,Genbank:XR_004931968.1;Name=XR_004931968.1;gbkey=ncRNA;gene=LOC118564598;model_evidence=Supporting evidence includes similarity to: 100%25 coverage of the annotated genomic feature by RNAseq alignments%2C including 51 samples with support for all annotated introns;product=uncharacterized LOC118564598;transcript_id=XR_004931968.1\t144522\r\n",
      "NC_046362.1\t18039751\t18039824\tDMR_4\thypermethylated\tNC_046362.1\tGnomon\tlnc_RNA\t18152809\t18153764\t.\t+\t.\tID=rna-XR_002428667.2;Parent=gene-LOC110369071;Dbxref=GeneID:110369071,Genbank:XR_002428667.2;Name=XR_002428667.2;gbkey=ncRNA;gene=LOC110369071;model_evidence=Supporting evidence includes similarity to: 100%25 coverage of the annotated genomic feature by RNAseq alignments%2C including 33 samples with support for all annotated introns;product=uncharacterized LOC110369071;transcript_id=XR_002428667.2\t112985\r\n",
      "NC_046363.1\t6052206\t6052595\tDMR_5\thypomethylated\tNC_046363.1\tGnomon\tlnc_RNA\t6462620\t6503874\t.\t+\t.\tID=rna-XR_004928420.1;Parent=gene-LOC118558664;Dbxref=GeneID:118558664,Genbank:XR_004928420.1;Name=XR_004928420.1;gbkey=ncRNA;gene=LOC118558664;model_evidence=Supporting evidence includes similarity to: 100%25 coverage of the annotated genomic feature by RNAseq alignments%2C including 1 sample with support for all annotated introns;product=uncharacterized LOC118558664;transcript_id=XR_004928420.1\t410025\r\n",
      "NC_046363.1\t17138613\t17138818\tDMR_6\thypermethylated\tNC_046363.1\tGnomon\tlnc_RNA\t16896554\t16897532\t.\t-\t.\tID=rna-XR_004928004.1;Parent=gene-LOC118557781;Dbxref=GeneID:118557781,Genbank:XR_004928004.1;Name=XR_004928004.1;gbkey=ncRNA;gene=LOC118557781;model_evidence=Supporting evidence includes similarity to: 100%25 coverage of the annotated genomic feature by RNAseq alignments%2C including 1 sample with support for all annotated introns;product=uncharacterized LOC118557781;transcript_id=XR_004928004.1\t-241082\r\n",
      "NC_046363.1\t21695863\t21695936\tDMR_7\thypermethylated\tNC_046363.1\tGnomon\tlnc_RNA\t21739020\t21747611\t.\t+\t.\tID=rna-XR_004929744.1;Parent=gene-LOC118561048;Dbxref=GeneID:118561048,Genbank:XR_004929744.1;Name=XR_004929744.1;gbkey=ncRNA;gene=LOC118561048;model_evidence=Supporting evidence includes similarity to: 100%25 coverage of the annotated genomic feature by RNAseq alignments%2C including 1 sample with support for all annotated introns;product=uncharacterized LOC118561048;transcript_id=XR_004929744.1\t43084\r\n",
      "NC_046364.1\t33298295\t33298366\tDMR_8\thypermethylated\tNC_046364.1\tGnomon\tlnc_RNA\t33669773\t33671029\t.\t+\t.\tID=rna-XR_004930940.1;Parent=gene-LOC118562982;Dbxref=GeneID:118562982,Genbank:XR_004930940.1;Name=XR_004930940.1;gbkey=ncRNA;gene=LOC118562982;model_evidence=Supporting evidence includes similarity to: 100%25 coverage of the annotated genomic feature by RNAseq alignments%2C including 35 samples with support for all annotated introns;product=uncharacterized LOC118562982;transcript_id=XR_004930940.1\t371407\r\n",
      "NC_046364.1\t40892789\t40892994\tDMR_9\thypermethylated\tNC_046364.1\tGnomon\tlnc_RNA\t40973818\t40975686\t.\t+\t.\tID=rna-XR_004930959.1;Parent=gene-LOC118563009;Dbxref=GeneID:118563009,Genbank:XR_004930959.1;Name=XR_004930959.1;gbkey=ncRNA;gene=LOC118563009;model_evidence=Supporting evidence includes similarity to: 100%25 coverage of the annotated genomic feature by RNAseq alignments%2C including 22 samples with support for all annotated introns;product=uncharacterized LOC118563009;transcript_id=XR_004930959.1\t80824\r\n",
      "NC_046365.1\t15852888\t15853022\tDMR_10\thypermethylated\tNC_046365.1\tGnomon\tlnc_RNA\t15974845\t15975323\t.\t+\t.\tID=rna-XR_004931041.1;Parent=gene-LOC118563142;Dbxref=GeneID:118563142,Genbank:XR_004931041.1;Name=XR_004931041.1;gbkey=ncRNA;gene=LOC118563142;model_evidence=Supporting evidence includes similarity to: 100%25 coverage of the annotated genomic feature by RNAseq alignments%2C including 11 samples with support for all annotated introns;product=uncharacterized LOC118563142;transcript_id=XR_004931041.1\t121823\r\n",
      "\r\n",
      "==> 5_pop_diff_DMR.closestlncRNA.bed <==\r\n",
      "NC_046361.1\t10902397\t10902516\tDMR_1\thypomethylated\tNC_046361.1\tGnomon\tlnc_RNA\t10988409\t10989174\t.\t-\t.\tID=rna-XR_004930898.1;Parent=gene-LOC118562934;Dbxref=GeneID:118562934,Genbank:XR_004930898.1;Name=XR_004930898.1;gbkey=ncRNA;gene=LOC118562934;model_evidence=Supporting evidence includes similarity to: 100%25 coverage of the annotated genomic feature by RNAseq alignments%2C including 1 sample with support for all annotated introns;product=uncharacterized LOC118562934;transcript_id=XR_004930898.1\t85893\r\n",
      "NC_046362.1\t24575499\t24575593\tDMR_2\thypermethylated\tNC_046362.1\tGnomon\tlnc_RNA\t24743258\t24743942\t.\t+\t.\tID=rna-XR_004933507.1;Parent=gene-LOC118567134;Dbxref=GeneID:118567134,Genbank:XR_004933507.1;Name=XR_004933507.1;gbkey=ncRNA;gene=LOC118567134;model_evidence=Supporting evidence includes similarity to: 100%25 coverage of the annotated genomic feature by RNAseq alignments%2C including 98 samples with support for all annotated introns;product=uncharacterized LOC118567134;transcript_id=XR_004933507.1\t167665\r\n",
      "NC_046362.1\t24584027\t24584121\tDMR_3\thypermethylated\tNC_046362.1\tGnomon\tlnc_RNA\t24743258\t24743942\t.\t+\t.\tID=rna-XR_004933507.1;Parent=gene-LOC118567134;Dbxref=GeneID:118567134,Genbank:XR_004933507.1;Name=XR_004933507.1;gbkey=ncRNA;gene=LOC118567134;model_evidence=Supporting evidence includes similarity to: 100%25 coverage of the annotated genomic feature by RNAseq alignments%2C including 98 samples with support for all annotated introns;product=uncharacterized LOC118567134;transcript_id=XR_004933507.1\t159137\r\n",
      "NC_046362.1\t35470061\t35470157\tDMR_4\thypomethylated\tNC_046362.1\tGnomon\tlnc_RNA\t35222512\t35225184\t.\t-\t.\tID=rna-XR_004927606.1;Parent=gene-LOC118557108;Dbxref=GeneID:118557108,Genbank:XR_004927606.1;Name=XR_004927606.1;gbkey=ncRNA;gene=LOC118557108;model_evidence=Supporting evidence includes similarity to: 100%25 coverage of the annotated genomic feature by RNAseq alignments%2C including 11 samples with support for all annotated introns;product=uncharacterized LOC118557108;transcript_id=XR_004927606.1\t-244878\r\n",
      "NC_046363.1\t203897\t205027\tDMR_5\thypomethylated\tNC_046363.1\tGnomon\tlnc_RNA\t203450\t205473\t.\t-\t.\tID=rna-XR_004928154.1;Parent=gene-LOC118558079;Dbxref=GeneID:118558079,Genbank:XR_004928154.1;Name=XR_004928154.1;gbkey=ncRNA;gene=LOC118558079;model_evidence=Supporting evidence includes similarity to: 100%25 coverage of the annotated genomic feature by RNAseq alignments%2C including 46 samples with support for all annotated introns;product=uncharacterized LOC118558079;transcript_id=XR_004928154.1\t0\r\n",
      "NC_046369.1\t26223581\t26223702\tDMR_6\thypomethylated\tNC_046369.1\tGnomon\tlnc_RNA\t26136684\t26157891\t.\t+\t.\tID=rna-XR_002426725.2;Parent=gene-LOC110366489;Dbxref=GeneID:110366489,Genbank:XR_002426725.2;Name=XR_002426725.2;gbkey=ncRNA;gene=LOC110366489;model_evidence=Supporting evidence includes similarity to: 100%25 coverage of the annotated genomic feature by RNAseq alignments%2C including 1 sample with support for all annotated introns;product=uncharacterized LOC110366489;transcript_id=XR_002426725.2\t-65691\r\n",
      "NC_046373.1\t14583736\t14583847\tDMR_7\thypermethylated\tNC_046373.1\tGnomon\tlnc_RNA\t14638758\t14641443\t.\t-\t.\tID=rna-XR_004932422.1;Parent=gene-LOC118565533;Dbxref=GeneID:118565533,Genbank:XR_004932422.1;Name=XR_004932422.1;gbkey=ncRNA;gene=LOC118565533;model_evidence=Supporting evidence includes similarity to: 100%25 coverage of the annotated genomic feature by RNAseq alignments%2C including 16 samples with support for all annotated introns;product=uncharacterized LOC118565533;transcript_id=XR_004932422.1\t54911\r\n",
      "NC_046373.1\t14592139\t14592233\tDMR_8\thypermethylated\tNC_046373.1\tGnomon\tlnc_RNA\t14638758\t14641443\t.\t-\t.\tID=rna-XR_004932422.1;Parent=gene-LOC118565533;Dbxref=GeneID:118565533,Genbank:XR_004932422.1;Name=XR_004932422.1;gbkey=ncRNA;gene=LOC118565533;model_evidence=Supporting evidence includes similarity to: 100%25 coverage of the annotated genomic feature by RNAseq alignments%2C including 16 samples with support for all annotated introns;product=uncharacterized LOC118565533;transcript_id=XR_004932422.1\t46525\r\n",
      "NC_046374.1\t20646131\t20646225\tDMR_9\thypermethylated\tNC_046374.1\tGnomon\tlnc_RNA\t20119694\t20549261\t.\t+\t.\tID=rna-XR_004932543.1;Parent=gene-LOC118565711;Dbxref=GeneID:118565711,Genbank:XR_004932543.1;Name=XR_004932543.1;gbkey=ncRNA;gene=LOC118565711;model_evidence=Supporting evidence includes similarity to: 100%25 coverage of the annotated genomic feature by RNAseq alignments%2C including 5 samples with support for all annotated introns;product=uncharacterized LOC118565711%2C transcript variant X2;transcript_id=XR_004932543.1\t-96871\r\n",
      "NC_046374.1\t20646131\t20646225\tDMR_9\thypermethylated\tNC_046374.1\tGnomon\tlnc_RNA\t20119698\t20549261\t.\t+\t.\tID=rna-XR_004932542.1;Parent=gene-LOC118565711;Dbxref=GeneID:118565711,Genbank:XR_004932542.1;Name=XR_004932542.1;gbkey=ncRNA;gene=LOC118565711;model_evidence=Supporting evidence includes similarity to: 100%25 coverage of the annotated genomic feature by RNAseq alignments%2C including 6 samples with support for all annotated introns;product=uncharacterized LOC118565711%2C transcript variant X1;transcript_id=XR_004932542.1\t-96871\r\n",
      "\r\n",
      "==> OC_pop_diff_DMR.closestlncRNA.bed <==\r\n",
      "NC_046370.1\t21493874\t21493961\tDMR_1\thypermethylated\tNC_046370.1\tGnomon\tlnc_RNA\t20342166\t20342442\t.\t+\t.\tID=rna-XR_004931812.1;Parent=gene-LOC118564376;Dbxref=GeneID:118564376,Genbank:XR_004931812.1;Name=XR_004931812.1;gbkey=ncRNA;gene=LOC118564376;model_evidence=Supporting evidence includes similarity to: 100%25 coverage of the annotated genomic feature by RNAseq alignments%2C including 30 samples with support for all annotated introns;product=uncharacterized LOC118564376;transcript_id=XR_004931812.1\t-1151433\r\n",
      "\r\n",
      "==> all_pop_DMR.closestlncRNA.bed <==\r\n",
      "NC_046362.1\t39864318\t39864358\tDMR_1\thypermethylated\tNC_046362.1\tGnomon\tlnc_RNA\t39961552\t39963140\t.\t+\t.\tID=rna-XR_004932216.1;Parent=gene-LOC118565153;Dbxref=GeneID:118565153,Genbank:XR_004932216.1;Name=XR_004932216.1;gbkey=ncRNA;gene=LOC118565153;model_evidence=Supporting evidence includes similarity to: 100%25 coverage of the annotated genomic feature by RNAseq alignments%2C including 2 samples with support for all annotated introns;product=uncharacterized LOC118565153;transcript_id=XR_004932216.1\t97194\r\n",
      "NC_046363.1\t203897\t205027\tDMR_2\thypomethylated\tNC_046363.1\tGnomon\tlnc_RNA\t203450\t205473\t.\t-\t.\tID=rna-XR_004928154.1;Parent=gene-LOC118558079;Dbxref=GeneID:118558079,Genbank:XR_004928154.1;Name=XR_004928154.1;gbkey=ncRNA;gene=LOC118558079;model_evidence=Supporting evidence includes similarity to: 100%25 coverage of the annotated genomic feature by RNAseq alignments%2C including 46 samples with support for all annotated introns;product=uncharacterized LOC118558079;transcript_id=XR_004928154.1\t0\r\n",
      "NC_046363.1\t11482768\t11483020\tDMR_3\thypomethylated\tNC_046363.1\tGnomon\tlnc_RNA\t11522076\t11524507\t.\t-\t.\tID=rna-XR_004928841.1;Parent=gene-LOC118559404;Dbxref=GeneID:118559404,Genbank:XR_004928841.1;Name=XR_004928841.1;gbkey=ncRNA;gene=LOC118559404;model_evidence=Supporting evidence includes similarity to: 100%25 coverage of the annotated genomic feature by RNAseq alignments%2C including 11 samples with support for all annotated introns;product=uncharacterized LOC118559404;transcript_id=XR_004928841.1\t39056\r\n",
      "NC_046366.1\t15952916\t15953096\tDMR_4\thypermethylated\tNC_046366.1\tGnomon\tlnc_RNA\t16171977\t16176150\t.\t-\t.\tID=rna-XR_004931221.1;Parent=gene-LOC110369543;Dbxref=GeneID:110369543,Genbank:XR_004931221.1;Name=XR_004931221.1;gbkey=ncRNA;gene=LOC110369543;model_evidence=Supporting evidence includes similarity to: 100%25 coverage of the annotated genomic feature by RNAseq alignments%2C including 1 sample with support for all annotated introns;product=uncharacterized LOC110369543;transcript_id=XR_004931221.1\t218881\r\n",
      "NC_046366.1\t32856829\t32857009\tDMR_5\thypermethylated\tNC_046366.1\tGnomon\tlnc_RNA\t33286185\t33286819\t.\t-\t.\tID=rna-XR_004931163.1;Parent=gene-LOC118563348;Dbxref=GeneID:118563348,Genbank:XR_004931163.1;Name=XR_004931163.1;gbkey=ncRNA;gene=LOC118563348;model_evidence=Supporting evidence includes similarity to: 100%25 coverage of the annotated genomic feature by RNAseq alignments%2C including 1 sample with support for all annotated introns;product=uncharacterized LOC118563348;transcript_id=XR_004931163.1\t429176\r\n",
      "NC_046367.1\t32848978\t32849069\tDMR_6\thypomethylated\tNC_046367.1\tGnomon\tlnc_RNA\t33209715\t33210451\t.\t+\t.\tID=rna-XR_004931407.1;Parent=gene-LOC118563745;Dbxref=GeneID:118563745,Genbank:XR_004931407.1;Name=XR_004931407.1;gbkey=ncRNA;gene=LOC118563745;model_evidence=Supporting evidence includes similarity to: 100%25 coverage of the annotated genomic feature by RNAseq alignments%2C including 21 samples with support for all annotated introns;product=uncharacterized LOC118563745;transcript_id=XR_004931407.1\t360646\r\n",
      "NC_046372.1\t26908073\t26908253\tDMR_7\thypermethylated\tNC_046372.1\tGnomon\tlnc_RNA\t27791056\t27791321\t.\t+\t.\tID=rna-XR_004932097.1;Parent=gene-LOC118564940;Dbxref=GeneID:118564940,Genbank:XR_004932097.1;Name=XR_004932097.1;gbkey=ncRNA;gene=LOC118564940;model_evidence=Supporting evidence includes similarity to: 100%25 coverage of the annotated genomic feature by RNAseq alignments%2C including 9 samples with support for all annotated introns;product=uncharacterized LOC118564940;transcript_id=XR_004932097.1\t882803\r\n",
      "NC_046373.1\t7352980\t7353160\tDMR_8\thypermethylated\tNC_046373.1\tGnomon\tlnc_RNA\t7554347\t7564849\t.\t-\t.\tID=rna-XR_004932240.1;Parent=gene-LOC118565182;Dbxref=GeneID:118565182,Genbank:XR_004932240.1;Name=XR_004932240.1;gbkey=ncRNA;gene=LOC118565182;model_evidence=Supporting evidence includes similarity to: 100%25 coverage of the annotated genomic feature by RNAseq alignments%2C including 11 samples with support for all annotated introns;product=uncharacterized LOC118565182%2C transcript variant X2;transcript_id=XR_004932240.1\t201187\r\n",
      "NC_046373.1\t7352980\t7353160\tDMR_8\thypermethylated\tNC_046373.1\tGnomon\tlnc_RNA\t7554347\t7564179\t.\t-\t.\tID=rna-XR_004932239.1;Parent=gene-LOC118565182;Dbxref=GeneID:118565182,Genbank:XR_004932239.1;Name=XR_004932239.1;gbkey=ncRNA;gene=LOC118565182;model_evidence=Supporting evidence includes similarity to: 100%25 coverage of the annotated genomic feature by RNAseq alignments%2C including 15 samples with support for all annotated introns;product=uncharacterized LOC118565182%2C transcript variant X1;transcript_id=XR_004932239.1\t201187\r\n",
      "NC_046381.1\t4397623\t4397714\tDMR_9\thypomethylated\tNC_046381.1\tGnomon\tlnc_RNA\t3707337\t3710467\t.\t+\t.\tID=rna-XR_004927317.1;Parent=gene-LOC110368967;Dbxref=GeneID:110368967,Genbank:XR_004927317.1;Name=XR_004927317.1;gbkey=ncRNA;gene=LOC110368967;model_evidence=Supporting evidence includes similarity to: 100%25 coverage of the annotated genomic feature by RNAseq alignments%2C including 1 sample with support for all annotated introns;product=uncharacterized LOC110368967;transcript_id=XR_004927317.1\t-687157\r\n"
     ]
    }
   ],
   "source": [
    "!head *DMR.closestlncRNA.bed"
   ]
  },
  {
   "cell_type": "code",
   "execution_count": 103,
   "metadata": {
    "scrolled": true
   },
   "outputs": [
    {
     "name": "stdout",
     "output_type": "stream",
     "text": [
      "      26 20_5_N_DMR.closestlncRNA.bed\r\n",
      "      13 20_OC_N_DMR.closestlncRNA.bed\r\n",
      "      64 5_OC_N_DMR.closestlncRNA.bed\r\n",
      "      15 5_pop_diff_DMR.closestlncRNA.bed\r\n",
      "       1 OC_pop_diff_DMR.closestlncRNA.bed\r\n",
      "      14 all_pop_DMR.closestlncRNA.bed\r\n",
      "     133 total\r\n"
     ]
    }
   ],
   "source": [
    "!wc -l *DMR.closestlncRNA.bed"
   ]
  },
  {
   "cell_type": "code",
   "execution_count": 131,
   "metadata": {},
   "outputs": [],
   "source": [
    "#Get line counts for each fine\n",
    "# Remove 7th line (total entries)\n",
    "#Ensure output is tab-delimited\n",
    "#Save output\n",
    "!wc -l *DMR.closestlncRNA.bed \\\n",
    "| sed '7,$ d' \\\n",
    "| awk '{print $1\"\\t\"$2}' \\\n",
    "> closestlncRNA-counts.txt"
   ]
  },
  {
   "cell_type": "markdown",
   "metadata": {},
   "source": [
    "### 3e. mRNA"
   ]
  },
  {
   "cell_type": "code",
   "execution_count": 104,
   "metadata": {},
   "outputs": [],
   "source": [
    "%%bash\n",
    "\n",
    "for f in *DMR.sort.bed\n",
    "do\n",
    "   /opt/homebrew/bin/closestBed \\\n",
    "   -D \"ref\" \\\n",
    "   -a ${f} \\\n",
    "   -b ../../../genome-features/GCF_011125445.2_MU-UCD_Fhet_4.1_genomic-mRNA.gff \\\n",
    "   -g ../../../genome-features/mummichog.chrom.length \\\n",
    "   > $(basename ${f%_DMR.sort.bed})_DMR.closestmRNA.bed\n",
    "done"
   ]
  },
  {
   "cell_type": "code",
   "execution_count": 105,
   "metadata": {},
   "outputs": [
    {
     "name": "stdout",
     "output_type": "stream",
     "text": [
      "20_5_N_DMR.closestmRNA.bed      5_pop_diff_DMR.closestmRNA.bed\r\n",
      "20_OC_N_DMR.closestmRNA.bed     OC_pop_diff_DMR.closestmRNA.bed\r\n",
      "5_OC_N_DMR.closestmRNA.bed      all_pop_DMR.closestmRNA.bed\r\n"
     ]
    }
   ],
   "source": [
    "!ls *DMR.closestmRNA.bed"
   ]
  },
  {
   "cell_type": "code",
   "execution_count": 106,
   "metadata": {},
   "outputs": [
    {
     "name": "stdout",
     "output_type": "stream",
     "text": [
      "==> 20_5_N_DMR.closestmRNA.bed <==\r\n",
      "NC_046361.1\t5411834\t5411929\tDMR_1\thypomethylated\tNC_046361.1\tGnomon\tmRNA\t5395097\t5431788\t.\t+\t.\tID=rna-XM_036150774.1;Parent=gene-LOC118556598;Dbxref=GeneID:118556598,Genbank:XM_036150774.1;Name=XM_036150774.1;gbkey=mRNA;gene=LOC118556598;model_evidence=Supporting evidence includes similarity to: 6 Proteins%2C and 100%25 coverage of the annotated genomic feature by RNAseq alignments%2C including 40 samples with support for all annotated introns;product=SLIT-ROBO Rho GTPase-activating protein 3-like;transcript_id=XM_036150774.1\t0\r\n",
      "NC_046361.1\t5420132\t5420227\tDMR_2\thypomethylated\tNC_046361.1\tGnomon\tmRNA\t5395097\t5431788\t.\t+\t.\tID=rna-XM_036150774.1;Parent=gene-LOC118556598;Dbxref=GeneID:118556598,Genbank:XM_036150774.1;Name=XM_036150774.1;gbkey=mRNA;gene=LOC118556598;model_evidence=Supporting evidence includes similarity to: 6 Proteins%2C and 100%25 coverage of the annotated genomic feature by RNAseq alignments%2C including 40 samples with support for all annotated introns;product=SLIT-ROBO Rho GTPase-activating protein 3-like;transcript_id=XM_036150774.1\t0\r\n",
      "NC_046365.1\t15020929\t15020962\tDMR_3\thypomethylated\tNC_046365.1\tGnomon\tmRNA\t15071098\t15449620\t.\t+\t.\tID=rna-XM_036136991.1;Parent=gene-ctnna2;Dbxref=GeneID:105936762,Genbank:XM_036136991.1;Name=XM_036136991.1;gbkey=mRNA;gene=ctnna2;model_evidence=Supporting evidence includes similarity to: 48 Proteins%2C and 100%25 coverage of the annotated genomic feature by RNAseq alignments;product=catenin (cadherin-associated protein)%2C alpha 2%2C transcript variant X1;transcript_id=XM_036136991.1\t50136\r\n",
      "NC_046365.1\t15020929\t15020962\tDMR_3\thypomethylated\tNC_046365.1\tGnomon\tmRNA\t15071098\t15449620\t.\t+\t.\tID=rna-XM_036136992.1;Parent=gene-ctnna2;Dbxref=GeneID:105936762,Genbank:XM_036136992.1;Name=XM_036136992.1;gbkey=mRNA;gene=ctnna2;model_evidence=Supporting evidence includes similarity to: 48 Proteins%2C and 100%25 coverage of the annotated genomic feature by RNAseq alignments%2C including 93 samples with support for all annotated introns;product=catenin (cadherin-associated protein)%2C alpha 2%2C transcript variant X2;transcript_id=XM_036136992.1\t50136\r\n",
      "NC_046365.1\t15029545\t15029578\tDMR_4\thypomethylated\tNC_046365.1\tGnomon\tmRNA\t15071098\t15449620\t.\t+\t.\tID=rna-XM_036136991.1;Parent=gene-ctnna2;Dbxref=GeneID:105936762,Genbank:XM_036136991.1;Name=XM_036136991.1;gbkey=mRNA;gene=ctnna2;model_evidence=Supporting evidence includes similarity to: 48 Proteins%2C and 100%25 coverage of the annotated genomic feature by RNAseq alignments;product=catenin (cadherin-associated protein)%2C alpha 2%2C transcript variant X1;transcript_id=XM_036136991.1\t41520\r\n",
      "NC_046365.1\t15029545\t15029578\tDMR_4\thypomethylated\tNC_046365.1\tGnomon\tmRNA\t15071098\t15449620\t.\t+\t.\tID=rna-XM_036136992.1;Parent=gene-ctnna2;Dbxref=GeneID:105936762,Genbank:XM_036136992.1;Name=XM_036136992.1;gbkey=mRNA;gene=ctnna2;model_evidence=Supporting evidence includes similarity to: 48 Proteins%2C and 100%25 coverage of the annotated genomic feature by RNAseq alignments%2C including 93 samples with support for all annotated introns;product=catenin (cadherin-associated protein)%2C alpha 2%2C transcript variant X2;transcript_id=XM_036136992.1\t41520\r\n",
      "NC_046369.1\t23714137\t23714467\tDMR_5\thypomethylated\tNC_046369.1\tGnomon\tmRNA\t23705412\t23710666\t.\t+\t.\tID=rna-XM_036141274.1;Parent=gene-sele;Dbxref=GeneID:105927885,Genbank:XM_036141274.1;Name=XM_036141274.1;gbkey=mRNA;gene=sele;model_evidence=Supporting evidence includes similarity to: 8 ESTs%2C 33 Proteins%2C and 100%25 coverage of the annotated genomic feature by RNAseq alignments%2C including 1 sample with support for all annotated introns;product=selectin E%2C transcript variant X1;transcript_id=XM_036141274.1\t-3472\r\n",
      "NC_046369.1\t23714137\t23714467\tDMR_5\thypomethylated\tNC_046369.1\tGnomon\tmRNA\t23705412\t23710666\t.\t+\t.\tID=rna-XM_036141275.1;Parent=gene-sele;Dbxref=GeneID:105927885,Genbank:XM_036141275.1;Name=XM_036141275.1;gbkey=mRNA;gene=sele;model_evidence=Supporting evidence includes similarity to: 2 ESTs%2C 29 Proteins%2C and 100%25 coverage of the annotated genomic feature by RNAseq alignments%2C including 1 sample with support for all annotated introns;product=selectin E%2C transcript variant X2;transcript_id=XM_036141275.1\t-3472\r\n",
      "NC_046369.1\t23714137\t23714467\tDMR_5\thypomethylated\tNC_046369.1\tGnomon\tmRNA\t23705412\t23710666\t.\t+\t.\tID=rna-XM_036141276.1;Parent=gene-sele;Dbxref=GeneID:105927885,Genbank:XM_036141276.1;Name=XM_036141276.1;gbkey=mRNA;gene=sele;model_evidence=Supporting evidence includes similarity to: 7 ESTs%2C 33 Proteins%2C and 100%25 coverage of the annotated genomic feature by RNAseq alignments%2C including 1 sample with support for all annotated introns;product=selectin E%2C transcript variant X3;transcript_id=XM_036141276.1\t-3472\r\n",
      "NC_046372.1\t4663541\t4663752\tDMR_6\thypermethylated\tNC_046372.1\tGnomon\tmRNA\t4879640\t5139973\t.\t+\t.\tID=rna-XM_036143780.1;Parent=gene-LOC105939939;Dbxref=GeneID:105939939,Genbank:XM_036143780.1;Name=XM_036143780.1;gbkey=mRNA;gene=LOC105939939;model_evidence=Supporting evidence includes similarity to: 16 Proteins%2C and 100%25 coverage of the annotated genomic feature by RNAseq alignments%2C including 30 samples with support for all annotated introns;product=netrin receptor UNC5C%2C transcript variant X3;transcript_id=XM_036143780.1\t215888\r\n",
      "\r\n",
      "==> 20_OC_N_DMR.closestmRNA.bed <==\r\n",
      "NC_046363.1\t3538100\t3538292\tDMR_1\thypermethylated\tNC_046363.1\tGnomon\tmRNA\t3720298\t3732910\t.\t+\t.\tID=rna-XM_012858763.3;Parent=gene-LOC105922838;Dbxref=GeneID:105922838,Genbank:XM_012858763.3;Name=XM_012858763.3;gbkey=mRNA;gene=LOC105922838;model_evidence=Supporting evidence includes similarity to: 1 EST%2C 11 Proteins%2C and 100%25 coverage of the annotated genomic feature by RNAseq alignments%2C including 117 samples with support for all annotated introns;product=pituitary tumor-transforming gene 1 protein-interacting protein;transcript_id=XM_012858763.3\t182006\r\n",
      "NC_046364.1\t22883537\t22883766\tDMR_2\thypermethylated\tNC_046364.1\tGnomon\tmRNA\t23011589\t23126375\t.\t+\t.\tID=rna-XM_036136279.1;Parent=gene-cdh8;Dbxref=GeneID:118556404,Genbank:XM_036136279.1;Name=XM_036136279.1;Note=The sequence of the model RefSeq transcript was modified relative to this genomic sequence to represent the inferred CDS: added 724 bases not found in genome assembly;exception=annotated by transcript or proteomic data;gbkey=mRNA;gene=cdh8;inference=similar to RNA sequence (same species):INSD:GCES01125733.1;model_evidence=Supporting evidence includes similarity to: 1 EST%2C 78 Proteins%2C and 99%25 coverage of the annotated genomic feature by RNAseq alignments;partial=true;product=cadherin 8;transcript_id=XM_036136279.1\t127823\r\n",
      "NC_046366.1\t7081208\t7081367\tDMR_3\thypermethylated\tNC_046366.1\tGnomon\tmRNA\t7075099\t7105964\t.\t+\t.\tID=rna-XM_021315677.2;Parent=gene-fggy;Dbxref=GeneID:105925296,Genbank:XM_021315677.2;Name=XM_021315677.2;gbkey=mRNA;gene=fggy;model_evidence=Supporting evidence includes similarity to: 4 Proteins%2C and 100%25 coverage of the annotated genomic feature by RNAseq alignments%2C including 60 samples with support for all annotated introns;product=FGGY carbohydrate kinase domain containing%2C transcript variant X2;transcript_id=XM_021315677.2\t0\r\n",
      "NC_046366.1\t7081208\t7081367\tDMR_3\thypermethylated\tNC_046366.1\tGnomon\tmRNA\t7075132\t7105964\t.\t+\t.\tID=rna-XM_012861064.3;Parent=gene-fggy;Dbxref=GeneID:105925296,Genbank:XM_012861064.3;Name=XM_012861064.3;gbkey=mRNA;gene=fggy;model_evidence=Supporting evidence includes similarity to: 4 Proteins%2C and 100%25 coverage of the annotated genomic feature by RNAseq alignments%2C including 72 samples with support for all annotated introns;product=FGGY carbohydrate kinase domain containing%2C transcript variant X1;transcript_id=XM_012861064.3\t0\r\n",
      "NC_046367.1\t16770264\t16770423\tDMR_4\thypermethylated\tNC_046367.1\tGnomon\tmRNA\t16711110\t16858206\t.\t+\t.\tID=rna-XM_012864218.3;Parent=gene-fgf14;Dbxref=GeneID:105927467,Genbank:XM_012864218.3;Name=XM_012864218.3;gbkey=mRNA;gene=fgf14;model_evidence=Supporting evidence includes similarity to: 42 Proteins%2C and 100%25 coverage of the annotated genomic feature by RNAseq alignments%2C including 63 samples with support for all annotated introns;product=fibroblast growth factor 14%2C transcript variant X1;transcript_id=XM_012864218.3\t0\r\n",
      "NC_046373.1\t281709\t281971\tDMR_5\thypermethylated\tNC_046373.1\tGnomon\tmRNA\t384334\t388914\t.\t-\t.\tID=rna-XM_012870925.3;Parent=gene-sox4a;Dbxref=GeneID:105931975,Genbank:XM_012870925.3;Name=XM_012870925.3;gbkey=mRNA;gene=sox4a;model_evidence=Supporting evidence includes similarity to: 1 EST%2C 50 Proteins%2C and 100%25 coverage of the annotated genomic feature by RNAseq alignments;product=SRY-box transcription factor 4a;transcript_id=XM_012870925.3\t102363\r\n",
      "NC_046376.1\t57649\t57779\tDMR_6\thypermethylated\tNC_046376.1\tGnomon\tmRNA\t60886\t64465\t.\t+\t.\tID=rna-XM_036148145.1;Parent=gene-LOC118566350;Dbxref=GeneID:118566350,Genbank:XM_036148145.1;Name=XM_036148145.1;gbkey=mRNA;gene=LOC118566350;model_evidence=Supporting evidence includes similarity to: 100%25 coverage of the annotated genomic feature by RNAseq alignments%2C including 11 samples with support for all annotated introns;product=uncharacterized LOC118566350;transcript_id=XM_036148145.1\t3107\r\n",
      "NC_046376.1\t37486144\t37486331\tDMR_7\thypermethylated\tNC_046376.1\tGnomon\tmRNA\t37491953\t37496611\t.\t-\t.\tID=rna-XM_036148626.1;Parent=gene-LOC110368333;Dbxref=GeneID:110368333,Genbank:XM_036148626.1;Name=XM_036148626.1;gbkey=mRNA;gene=LOC110368333;model_evidence=Supporting evidence includes similarity to: 100%25 coverage of the annotated genomic feature by RNAseq alignments%2C including 7 samples with support for all annotated introns;product=uncharacterized LOC110368333;transcript_id=XM_036148626.1\t5622\r\n",
      "NC_046381.1\t24998741\t24998900\tDMR_8\thypermethylated\tNC_046381.1\tGnomon\tmRNA\t24931191\t25003830\t.\t-\t.\tID=rna-XM_036125151.1;Parent=gene-vopp1;Dbxref=GeneID:110367442,Genbank:XM_036125151.1;Name=XM_036125151.1;gbkey=mRNA;gene=vopp1;model_evidence=Supporting evidence includes similarity to: 10 Proteins%2C and 100%25 coverage of the annotated genomic feature by RNAseq alignments%2C including 94 samples with support for all annotated introns;product=VOPP1 WW domain binding protein%2C transcript variant X2;transcript_id=XM_036125151.1\t0\r\n",
      "NC_046381.1\t24998741\t24998900\tDMR_8\thypermethylated\tNC_046381.1\tGnomon\tmRNA\t24931191\t25003491\t.\t-\t.\tID=rna-XM_036125149.1;Parent=gene-vopp1;Dbxref=GeneID:110367442,Genbank:XM_036125149.1;Name=XM_036125149.1;gbkey=mRNA;gene=vopp1;model_evidence=Supporting evidence includes similarity to: 10 Proteins%2C and 100%25 coverage of the annotated genomic feature by RNAseq alignments%2C including 57 samples with support for all annotated introns;product=VOPP1 WW domain binding protein%2C transcript variant X1;transcript_id=XM_036125149.1\t0\r\n",
      "\r\n",
      "==> 5_OC_N_DMR.closestmRNA.bed <==\r\n",
      "NC_046361.1\t5411834\t5411928\tDMR_1\thypermethylated\tNC_046361.1\tGnomon\tmRNA\t5395097\t5431788\t.\t+\t.\tID=rna-XM_036150774.1;Parent=gene-LOC118556598;Dbxref=GeneID:118556598,Genbank:XM_036150774.1;Name=XM_036150774.1;gbkey=mRNA;gene=LOC118556598;model_evidence=Supporting evidence includes similarity to: 6 Proteins%2C and 100%25 coverage of the annotated genomic feature by RNAseq alignments%2C including 40 samples with support for all annotated introns;product=SLIT-ROBO Rho GTPase-activating protein 3-like;transcript_id=XM_036150774.1\t0\r\n",
      "NC_046361.1\t5420132\t5420226\tDMR_2\thypermethylated\tNC_046361.1\tGnomon\tmRNA\t5395097\t5431788\t.\t+\t.\tID=rna-XM_036150774.1;Parent=gene-LOC118556598;Dbxref=GeneID:118556598,Genbank:XM_036150774.1;Name=XM_036150774.1;gbkey=mRNA;gene=LOC118556598;model_evidence=Supporting evidence includes similarity to: 6 Proteins%2C and 100%25 coverage of the annotated genomic feature by RNAseq alignments%2C including 40 samples with support for all annotated introns;product=SLIT-ROBO Rho GTPase-activating protein 3-like;transcript_id=XM_036150774.1\t0\r\n",
      "NC_046361.1\t41997840\t41998004\tDMR_3\thypermethylated\tNC_046361.1\tGnomon\tmRNA\t42005043\t42038977\t.\t+\t.\tID=rna-XM_036138683.1;Parent=gene-LOC118563577;Dbxref=GeneID:118563577,Genbank:XM_036138683.1;Name=XM_036138683.1;gbkey=mRNA;gene=LOC118563577;model_evidence=Supporting evidence includes similarity to: 100%25 coverage of the annotated genomic feature by RNAseq alignments;product=C-type mannose receptor 2-like;transcript_id=XM_036138683.1\t7039\r\n",
      "NC_046362.1\t18039751\t18039824\tDMR_4\thypermethylated\tNC_046362.1\tGnomon\tmRNA\t17995641\t18035437\t.\t-\t.\tID=rna-XM_036149904.1;Parent=gene-rasgrf1;Dbxref=GeneID:105932314,Genbank:XM_036149904.1;Name=XM_036149904.1;gbkey=mRNA;gene=rasgrf1;model_evidence=Supporting evidence includes similarity to: 2 Proteins%2C and 100%25 coverage of the annotated genomic feature by RNAseq alignments%2C including 30 samples with support for all annotated introns;product=Ras protein specific guanine nucleotide releasing factor 1;transcript_id=XM_036149904.1\t-4315\r\n",
      "NC_046363.1\t6052206\t6052595\tDMR_5\thypomethylated\tNC_046363.1\tGnomon\tmRNA\t5953681\t6048047\t.\t+\t.\tID=rna-XM_036129077.1;Parent=gene-LOC110369139;Dbxref=GeneID:110369139,Genbank:XM_036129077.1;Name=XM_036129077.1;gbkey=mRNA;gene=LOC110369139;model_evidence=Supporting evidence includes similarity to: 83 Proteins%2C and 100%25 coverage of the annotated genomic feature by RNAseq alignments%2C including 72 samples with support for all annotated introns;product=neurocalcin-delta A%2C transcript variant X3;transcript_id=XM_036129077.1\t-4160\r\n",
      "NC_046363.1\t6052206\t6052595\tDMR_5\thypomethylated\tNC_046363.1\tGnomon\tmRNA\t5953705\t6048047\t.\t+\t.\tID=rna-XM_036129080.1;Parent=gene-LOC110369139;Dbxref=GeneID:110369139,Genbank:XM_036129080.1;Name=XM_036129080.1;gbkey=mRNA;gene=LOC110369139;model_evidence=Supporting evidence includes similarity to: 83 Proteins%2C and 100%25 coverage of the annotated genomic feature by RNAseq alignments%2C including 90 samples with support for all annotated introns;product=neurocalcin-delta A%2C transcript variant X4;transcript_id=XM_036129080.1\t-4160\r\n",
      "NC_046363.1\t6052206\t6052595\tDMR_5\thypomethylated\tNC_046363.1\tGnomon\tmRNA\t5993472\t6048047\t.\t+\t.\tID=rna-XM_036129072.1;Parent=gene-LOC110369139;Dbxref=GeneID:110369139,Genbank:XM_036129072.1;Name=XM_036129072.1;gbkey=mRNA;gene=LOC110369139;model_evidence=Supporting evidence includes similarity to: 83 Proteins%2C and 100%25 coverage of the annotated genomic feature by RNAseq alignments%2C including 112 samples with support for all annotated introns;product=neurocalcin-delta A%2C transcript variant X1;transcript_id=XM_036129072.1\t-4160\r\n",
      "NC_046363.1\t6052206\t6052595\tDMR_5\thypomethylated\tNC_046363.1\tGnomon\tmRNA\t5993472\t6048047\t.\t+\t.\tID=rna-XM_036129075.1;Parent=gene-LOC110369139;Dbxref=GeneID:110369139,Genbank:XM_036129075.1;Name=XM_036129075.1;gbkey=mRNA;gene=LOC110369139;model_evidence=Supporting evidence includes similarity to: 83 Proteins%2C and 100%25 coverage of the annotated genomic feature by RNAseq alignments%2C including 116 samples with support for all annotated introns;product=neurocalcin-delta A%2C transcript variant X2;transcript_id=XM_036129075.1\t-4160\r\n",
      "NC_046363.1\t17138613\t17138818\tDMR_6\thypermethylated\tNC_046363.1\tGnomon\tmRNA\t17087944\t17147660\t.\t+\t.\tID=rna-XM_012854178.3;Parent=gene-sntb1;Dbxref=GeneID:105918971,Genbank:XM_012854178.3;Name=XM_012854178.3;gbkey=mRNA;gene=sntb1;model_evidence=Supporting evidence includes similarity to: 14 Proteins%2C and 100%25 coverage of the annotated genomic feature by RNAseq alignments%2C including 65 samples with support for all annotated introns;product=syntrophin%2C basic 1;transcript_id=XM_012854178.3\t0\r\n",
      "NC_046363.1\t21695863\t21695936\tDMR_7\thypermethylated\tNC_046363.1\tGnomon\tmRNA\t21651008\t21719990\t.\t-\t.\tID=rna-XM_036132775.1;Parent=gene-LOC105926375;Dbxref=GeneID:105926375,Genbank:XM_036132775.1;Name=XM_036132775.1;Note=The sequence of the model RefSeq transcript was modified relative to this genomic sequence to represent the inferred CDS: added 120 bases not found in genome assembly;exception=annotated by transcript or proteomic data;gbkey=mRNA;gene=LOC105926375;inference=similar to RNA sequence (same species):INSD:GCES01010742.1;model_evidence=Supporting evidence includes similarity to: 7 Proteins%2C and 97%25 coverage of the annotated genomic feature by RNAseq alignments;partial=true;product=beta-chimaerin;transcript_id=XM_036132775.1\t0\r\n",
      "\r\n",
      "==> 5_pop_diff_DMR.closestmRNA.bed <==\r\n",
      "NC_046361.1\t10902397\t10902516\tDMR_1\thypomethylated\tNC_046361.1\tGnomon\tmRNA\t10780262\t10850561\t.\t+\t.\tID=rna-XM_012866737.3;Parent=gene-ajap1;Dbxref=GeneID:105929102,Genbank:XM_012866737.3;Name=XM_012866737.3;gbkey=mRNA;gene=ajap1;model_evidence=Supporting evidence includes similarity to: 2 ESTs%2C 3 Proteins%2C and 100%25 coverage of the annotated genomic feature by RNAseq alignments%2C including 72 samples with support for all annotated introns;product=adherens junctions associated protein 1;transcript_id=XM_012866737.3\t-51837\r\n",
      "NC_046362.1\t24575499\t24575593\tDMR_2\thypermethylated\tNC_046362.1\tGnomon\tmRNA\t24607920\t24616471\t.\t+\t.\tID=rna-XM_012853279.3;Parent=gene-ehf;Dbxref=GeneID:105918236,Genbank:XM_012853279.3;Name=XM_012853279.3;gbkey=mRNA;gene=ehf;model_evidence=Supporting evidence includes similarity to: 21 Proteins%2C and 100%25 coverage of the annotated genomic feature by RNAseq alignments%2C including 4 samples with support for all annotated introns;product=ets homologous factor%2C transcript variant X2;transcript_id=XM_012853279.3\t32327\r\n",
      "NC_046362.1\t24584027\t24584121\tDMR_3\thypermethylated\tNC_046362.1\tGnomon\tmRNA\t24607920\t24616471\t.\t+\t.\tID=rna-XM_012853279.3;Parent=gene-ehf;Dbxref=GeneID:105918236,Genbank:XM_012853279.3;Name=XM_012853279.3;gbkey=mRNA;gene=ehf;model_evidence=Supporting evidence includes similarity to: 21 Proteins%2C and 100%25 coverage of the annotated genomic feature by RNAseq alignments%2C including 4 samples with support for all annotated introns;product=ets homologous factor%2C transcript variant X2;transcript_id=XM_012853279.3\t23799\r\n",
      "NC_046362.1\t35470061\t35470157\tDMR_4\thypomethylated\tNC_046362.1\tGnomon\tmRNA\t35446252\t35526085\t.\t+\t.\tID=rna-XM_036126388.1;Parent=gene-LOC118557127;Dbxref=GeneID:118557127,Genbank:XM_036126388.1;Name=XM_036126388.1;Note=The sequence of the model RefSeq transcript was modified relative to this genomic sequence to represent the inferred CDS: added 684 bases not found in genome assembly;end_range=35526085,.;exception=annotated by transcript or proteomic data;gbkey=mRNA;gene=LOC118557127;inference=similar to RNA sequence (same species):INSD:GCES01002675.1;model_evidence=Supporting evidence includes similarity to: 100%25 coverage of the annotated genomic feature by RNAseq alignments%2C including 79 samples with support for all annotated introns;partial=true;product=zinc finger protein 423-like;transcript_id=XM_036126388.1\t0\r\n",
      "NC_046363.1\t203897\t205027\tDMR_5\thypomethylated\tNC_046363.1\tGnomon\tmRNA\t173345\t185747\t.\t+\t.\tID=rna-XM_036127412.1;Parent=gene-LOC110367904;Dbxref=GeneID:110367904,Genbank:XM_036127412.1;Name=XM_036127412.1;gbkey=mRNA;gene=LOC110367904;model_evidence=Supporting evidence includes similarity to: 9 Proteins%2C and 94%25 coverage of the annotated genomic feature by RNAseq alignments;product=interferon-induced very large GTPase 1;transcript_id=XM_036127412.1\t-18151\r\n",
      "NC_046369.1\t26223581\t26223702\tDMR_6\thypomethylated\tNC_046369.1\tGnomon\tmRNA\t26226858\t26252573\t.\t+\t.\tID=rna-XM_036141341.1;Parent=gene-zbtb7a;Dbxref=GeneID:105938968,Genbank:XM_036141341.1;Name=XM_036141341.1;gbkey=mRNA;gene=zbtb7a;model_evidence=Supporting evidence includes similarity to: 7 Proteins%2C and 100%25 coverage of the annotated genomic feature by RNAseq alignments%2C including 1 sample with support for all annotated introns;product=zinc finger and BTB domain containing 7a%2C transcript variant X2;transcript_id=XM_036141341.1\t3156\r\n",
      "NC_046373.1\t14583736\t14583847\tDMR_7\thypermethylated\tNC_046373.1\tGnomon\tmRNA\t14538685\t14600827\t.\t-\t.\tID=rna-XM_036145165.1;Parent=gene-necab1;Dbxref=GeneID:105930380,Genbank:XM_036145165.1;Name=XM_036145165.1;gbkey=mRNA;gene=necab1;model_evidence=Supporting evidence includes similarity to: 1 Protein%2C and 100%25 coverage of the annotated genomic feature by RNAseq alignments%2C including 14 samples with support for all annotated introns;product=N-terminal EF-hand calcium binding protein 1%2C transcript variant X2;transcript_id=XM_036145165.1\t0\r\n",
      "NC_046373.1\t14583736\t14583847\tDMR_7\thypermethylated\tNC_046373.1\tGnomon\tmRNA\t14538685\t14600824\t.\t-\t.\tID=rna-XM_036145164.1;Parent=gene-necab1;Dbxref=GeneID:105930380,Genbank:XM_036145164.1;Name=XM_036145164.1;gbkey=mRNA;gene=necab1;model_evidence=Supporting evidence includes similarity to: 1 EST%2C 10 Proteins%2C and 100%25 coverage of the annotated genomic feature by RNAseq alignments%2C including 95 samples with support for all annotated introns;product=N-terminal EF-hand calcium binding protein 1%2C transcript variant X1;transcript_id=XM_036145164.1\t0\r\n",
      "NC_046373.1\t14592139\t14592233\tDMR_8\thypermethylated\tNC_046373.1\tGnomon\tmRNA\t14538685\t14600827\t.\t-\t.\tID=rna-XM_036145165.1;Parent=gene-necab1;Dbxref=GeneID:105930380,Genbank:XM_036145165.1;Name=XM_036145165.1;gbkey=mRNA;gene=necab1;model_evidence=Supporting evidence includes similarity to: 1 Protein%2C and 100%25 coverage of the annotated genomic feature by RNAseq alignments%2C including 14 samples with support for all annotated introns;product=N-terminal EF-hand calcium binding protein 1%2C transcript variant X2;transcript_id=XM_036145165.1\t0\r\n",
      "NC_046373.1\t14592139\t14592233\tDMR_8\thypermethylated\tNC_046373.1\tGnomon\tmRNA\t14538685\t14600824\t.\t-\t.\tID=rna-XM_036145164.1;Parent=gene-necab1;Dbxref=GeneID:105930380,Genbank:XM_036145164.1;Name=XM_036145164.1;gbkey=mRNA;gene=necab1;model_evidence=Supporting evidence includes similarity to: 1 EST%2C 10 Proteins%2C and 100%25 coverage of the annotated genomic feature by RNAseq alignments%2C including 95 samples with support for all annotated introns;product=N-terminal EF-hand calcium binding protein 1%2C transcript variant X1;transcript_id=XM_036145164.1\t0\r\n",
      "\r\n",
      "==> OC_pop_diff_DMR.closestmRNA.bed <==\r\n",
      "NC_046370.1\t21493874\t21493961\tDMR_1\thypermethylated\tNC_046370.1\tGnomon\tmRNA\t21476925\t21514457\t.\t-\t.\tID=rna-XM_036142590.1;Parent=gene-LOC105920231;Dbxref=GeneID:105920231,Genbank:XM_036142590.1;Name=XM_036142590.1;gbkey=mRNA;gene=LOC105920231;model_evidence=Supporting evidence includes similarity to: 3 Proteins%2C and 97%25 coverage of the annotated genomic feature by RNAseq alignments;product=protein shisa-6;transcript_id=XM_036142590.1\t0\r\n"
     ]
    },
    {
     "name": "stdout",
     "output_type": "stream",
     "text": [
      "\r\n",
      "==> all_pop_DMR.closestmRNA.bed <==\r\n",
      "NC_046362.1\t39864318\t39864358\tDMR_1\thypermethylated\tNC_046362.1\tGnomon\tmRNA\t39845359\t39876638\t.\t+\t.\tID=rna-XM_036145215.1;Parent=gene-znf276;Dbxref=GeneID:105931444,Genbank:XM_036145215.1;Name=XM_036145215.1;gbkey=mRNA;gene=znf276;model_evidence=Supporting evidence includes similarity to: 7 Proteins%2C and 99%25 coverage of the annotated genomic feature by RNAseq alignments;product=zinc finger protein 276;transcript_id=XM_036145215.1\t0\r\n",
      "NC_046363.1\t203897\t205027\tDMR_2\thypomethylated\tNC_046363.1\tGnomon\tmRNA\t173345\t185747\t.\t+\t.\tID=rna-XM_036127412.1;Parent=gene-LOC110367904;Dbxref=GeneID:110367904,Genbank:XM_036127412.1;Name=XM_036127412.1;gbkey=mRNA;gene=LOC110367904;model_evidence=Supporting evidence includes similarity to: 9 Proteins%2C and 94%25 coverage of the annotated genomic feature by RNAseq alignments;product=interferon-induced very large GTPase 1;transcript_id=XM_036127412.1\t-18151\r\n",
      "NC_046363.1\t11482768\t11483020\tDMR_3\thypomethylated\tNC_046363.1\tGnomon\tmRNA\t11383916\t11432906\t.\t+\t.\tID=rna-XM_021321723.2;Parent=gene-LOC105933420;Dbxref=GeneID:105933420,Genbank:XM_021321723.2;Name=XM_021321723.2;gbkey=mRNA;gene=LOC105933420;model_evidence=Supporting evidence includes similarity to: 2 ESTs%2C 13 Proteins%2C and 100%25 coverage of the annotated genomic feature by RNAseq alignments%2C including 75 samples with support for all annotated introns;product=teashirt homolog 1%2C transcript variant X2;transcript_id=XM_021321723.2\t-49863\r\n",
      "NC_046363.1\t11482768\t11483020\tDMR_3\thypomethylated\tNC_046363.1\tGnomon\tmRNA\t11386159\t11432906\t.\t+\t.\tID=rna-XM_012872953.3;Parent=gene-LOC105933420;Dbxref=GeneID:105933420,Genbank:XM_012872953.3;Name=XM_012872953.3;gbkey=mRNA;gene=LOC105933420;model_evidence=Supporting evidence includes similarity to: 2 ESTs%2C 13 Proteins%2C and 100%25 coverage of the annotated genomic feature by RNAseq alignments%2C including 106 samples with support for all annotated introns;product=teashirt homolog 1%2C transcript variant X1;transcript_id=XM_012872953.3\t-49863\r",
      "\r\n",
      "NC_046366.1\t15952916\t15953096\tDMR_4\thypermethylated\tNC_046366.1\tGnomon\tmRNA\t15950377\t15964525\t.\t-\t.\tID=rna-XM_012878969.3;Parent=gene-LOC105937584;Dbxref=GeneID:105937584,Genbank:XM_012878969.3;Name=XM_012878969.3;gbkey=mRNA;gene=LOC105937584;model_evidence=Supporting evidence includes similarity to: 100%25 coverage of the annotated genomic feature by RNAseq alignments%2C including 64 samples with support for all annotated introns;product=zinc finger protein 420%2C transcript variant X2;transcript_id=XM_012878969.3\t0\r\n",
      "NC_046366.1\t15952916\t15953096\tDMR_4\thypermethylated\tNC_046366.1\tGnomon\tmRNA\t15950377\t15964525\t.\t-\t.\tID=rna-XM_012878968.3;Parent=gene-LOC105937584;Dbxref=GeneID:105937584,Genbank:XM_012878968.3;Name=XM_012878968.3;gbkey=mRNA;gene=LOC105937584;model_evidence=Supporting evidence includes similarity to: 100%25 coverage of the annotated genomic feature by RNAseq alignments%2C including 74 samples with support for all annotated introns;product=zinc finger protein 420%2C transcript variant X1;transcript_id=XM_012878968.3\t0\r\n",
      "NC_046366.1\t32856829\t32857009\tDMR_5\thypermethylated\tNC_046366.1\tGnomon\tmRNA\t32793873\t32940154\t.\t+\t.\tID=rna-XM_036138622.1;Parent=gene-LOC105930928;Dbxref=GeneID:105930928,Genbank:XM_036138622.1;Name=XM_036138622.1;gbkey=mRNA;gene=LOC105930928;model_evidence=Supporting evidence includes similarity to: 33 Proteins%2C and 100%25 coverage of the annotated genomic feature by RNAseq alignments%2C including 34 samples with support for all annotated introns;product=contactin-associated protein-like 4%2C transcript variant X1;transcript_id=XM_036138622.1\t0\r\n",
      "NC_046366.1\t32856829\t32857009\tDMR_5\thypermethylated\tNC_046366.1\tGnomon\tmRNA\t32793873\t32940154\t.\t+\t.\tID=rna-XM_036138623.1;Parent=gene-LOC105930928;Dbxref=GeneID:105930928,Genbank:XM_036138623.1;Name=XM_036138623.1;gbkey=mRNA;gene=LOC105930928;model_evidence=Supporting evidence includes similarity to: 15 Proteins%2C and 100%25 coverage of the annotated genomic feature by RNAseq alignments%2C including 9 samples with support for all annotated introns;product=contactin-associated protein-like 4%2C transcript variant X2;transcript_id=XM_036138623.1\t0\r\n",
      "NC_046367.1\t32848978\t32849069\tDMR_6\thypomethylated\tNC_046367.1\tGnomon\tmRNA\t32875070\t32971021\t.\t+\t.\tID=rna-XM_036139515.1;Parent=gene-epha3;Dbxref=GeneID:105936158,Genbank:XM_036139515.1;Name=XM_036139515.1;gbkey=mRNA;gene=epha3;model_evidence=Supporting evidence includes similarity to: 19 Proteins%2C and 100%25 coverage of the annotated genomic feature by RNAseq alignments%2C including 27 samples with support for all annotated introns;product=eph receptor A3%2C transcript variant X9;transcript_id=XM_036139515.1\t26001\r\n",
      "NC_046372.1\t26908073\t26908253\tDMR_7\thypermethylated\tNC_046372.1\tGnomon\tmRNA\t26784506\t27015252\t.\t-\t.\tID=rna-XM_036144383.1;Parent=gene-adamts3;Dbxref=GeneID:105921104,Genbank:XM_036144383.1;Name=XM_036144383.1;gbkey=mRNA;gene=adamts3;model_evidence=Supporting evidence includes similarity to: 5 Proteins%2C and 100%25 coverage of the annotated genomic feature by RNAseq alignments%2C including 8 samples with support for all annotated introns;product=ADAM metallopeptidase with thrombospondin type 1 motif%2C 3%2C transcript variant X3;transcript_id=XM_036144383.1\t0\r\n"
     ]
    }
   ],
   "source": [
    "!head *DMR.closestmRNA.bed"
   ]
  },
  {
   "cell_type": "code",
   "execution_count": 107,
   "metadata": {
    "scrolled": true
   },
   "outputs": [
    {
     "name": "stdout",
     "output_type": "stream",
     "text": [
      "      53 20_5_N_DMR.closestmRNA.bed\r\n",
      "      13 20_OC_N_DMR.closestmRNA.bed\r\n",
      "     118 5_OC_N_DMR.closestmRNA.bed\r\n",
      "      34 5_pop_diff_DMR.closestmRNA.bed\r\n",
      "       1 OC_pop_diff_DMR.closestmRNA.bed\r\n",
      "      22 all_pop_DMR.closestmRNA.bed\r\n",
      "     241 total\r\n"
     ]
    }
   ],
   "source": [
    "!wc -l *DMR.closestmRNA.bed"
   ]
  },
  {
   "cell_type": "code",
   "execution_count": 132,
   "metadata": {},
   "outputs": [],
   "source": [
    "#Get line counts for each fine\n",
    "# Remove 7th line (total entries)\n",
    "#Ensure output is tab-delimited\n",
    "#Save output\n",
    "!wc -l *DMR.closestmRNA.bed \\\n",
    "| sed '7,$ d' \\\n",
    "| awk '{print $1\"\\t\"$2}' \\\n",
    "> closestmRNA-counts.txt"
   ]
  },
  {
   "cell_type": "markdown",
   "metadata": {},
   "source": [
    "### 3f. Transcripts"
   ]
  },
  {
   "cell_type": "code",
   "execution_count": 108,
   "metadata": {},
   "outputs": [],
   "source": [
    "%%bash\n",
    "\n",
    "for f in *DMR.sort.bed\n",
    "do\n",
    "   /opt/homebrew/bin/closestBed \\\n",
    "   -D \"ref\" \\\n",
    "   -a ${f} \\\n",
    "   -b ../../../genome-features/GCF_011125445.2_MU-UCD_Fhet_4.1_genomic-transcript.gff \\\n",
    "   -g ../../../genome-features/mummichog.chrom.length \\\n",
    "   > $(basename ${f%_DMR.sort.bed})_DMR.closestTranscript.bed\n",
    "done"
   ]
  },
  {
   "cell_type": "code",
   "execution_count": 109,
   "metadata": {},
   "outputs": [
    {
     "name": "stdout",
     "output_type": "stream",
     "text": [
      "20_5_N_DMR.closestTranscript.bed      5_pop_diff_DMR.closestTranscript.bed\r\n",
      "20_OC_N_DMR.closestTranscript.bed     OC_pop_diff_DMR.closestTranscript.bed\r\n",
      "5_OC_N_DMR.closestTranscript.bed      all_pop_DMR.closestTranscript.bed\r\n"
     ]
    }
   ],
   "source": [
    "!ls *DMR.closestTranscript.bed"
   ]
  },
  {
   "cell_type": "code",
   "execution_count": 110,
   "metadata": {},
   "outputs": [
    {
     "name": "stdout",
     "output_type": "stream",
     "text": [
      "==> 20_5_N_DMR.closestTranscript.bed <==\r\n",
      "NC_046361.1\t5411834\t5411929\tDMR_1\thypomethylated\tNC_046361.1\tGnomon\ttranscript\t8139574\t8158125\t.\t-\t.\tID=rna-XR_004927622.1;Parent=gene-chrna4b;Dbxref=GeneID:105925915,Genbank:XR_004927622.1;Name=XR_004927622.1;gbkey=misc_RNA;gene=chrna4b;model_evidence=Supporting evidence includes similarity to: 120 Proteins%2C and 100%25 coverage of the annotated genomic feature by RNAseq alignments%2C including 3 samples with support for all annotated introns;product=cholinergic receptor%2C nicotinic%2C alpha 4b%2C transcript variant X2;transcript_id=XR_004927622.1\t2727645\r\n",
      "NC_046361.1\t5420132\t5420227\tDMR_2\thypomethylated\tNC_046361.1\tGnomon\ttranscript\t8139574\t8158125\t.\t-\t.\tID=rna-XR_004927622.1;Parent=gene-chrna4b;Dbxref=GeneID:105925915,Genbank:XR_004927622.1;Name=XR_004927622.1;gbkey=misc_RNA;gene=chrna4b;model_evidence=Supporting evidence includes similarity to: 120 Proteins%2C and 100%25 coverage of the annotated genomic feature by RNAseq alignments%2C including 3 samples with support for all annotated introns;product=cholinergic receptor%2C nicotinic%2C alpha 4b%2C transcript variant X2;transcript_id=XR_004927622.1\t2719347\r\n",
      "NC_046365.1\t15020929\t15020962\tDMR_3\thypomethylated\tNC_046365.1\tGnomon\ttranscript\t13662442\t13708154\t.\t+\t.\tID=rna-XR_004931036.1;Parent=gene-rbm47;Dbxref=GeneID:105928289,Genbank:XR_004931036.1;Name=XR_004931036.1;gbkey=misc_RNA;gene=rbm47;model_evidence=Supporting evidence includes similarity to: 6 ESTs%2C 49 Proteins%2C and 100%25 coverage of the annotated genomic feature by RNAseq alignments%2C including 14 samples with support for all annotated introns;product=RNA binding motif protein 47%2C transcript variant X4;transcript_id=XR_004931036.1\t-1312776\r\n",
      "NC_046365.1\t15029545\t15029578\tDMR_4\thypomethylated\tNC_046365.1\tGnomon\ttranscript\t13662442\t13708154\t.\t+\t.\tID=rna-XR_004931036.1;Parent=gene-rbm47;Dbxref=GeneID:105928289,Genbank:XR_004931036.1;Name=XR_004931036.1;gbkey=misc_RNA;gene=rbm47;model_evidence=Supporting evidence includes similarity to: 6 ESTs%2C 49 Proteins%2C and 100%25 coverage of the annotated genomic feature by RNAseq alignments%2C including 14 samples with support for all annotated introns;product=RNA binding motif protein 47%2C transcript variant X4;transcript_id=XR_004931036.1\t-1321392\r\n",
      "NC_046369.1\t23714137\t23714467\tDMR_5\thypomethylated\tNC_046369.1\tGnomon\ttranscript\t23937734\t23939645\t.\t-\t.\tID=rna-XR_002428279.2;Parent=gene-LOC105927822;Dbxref=GeneID:105927822,Genbank:XR_002428279.2;Name=XR_002428279.2;gbkey=misc_RNA;gene=LOC105927822;model_evidence=Supporting evidence includes similarity to: 100%25 coverage of the annotated genomic feature by RNAseq alignments%2C including 8 samples with support for all annotated introns;product=ferric-chelate reductase 1%2C transcript variant X2;transcript_id=XR_002428279.2\t223267\r\n",
      "NC_046372.1\t4663541\t4663752\tDMR_6\thypermethylated\tNC_046372.1\tGnomon\ttranscript\t3861653\t3874239\t.\t+\t.\tID=rna-XR_004932031.1;Parent=gene-LOC105919089;Dbxref=GeneID:105919089,Genbank:XR_004932031.1;Name=XR_004932031.1;gbkey=misc_RNA;gene=LOC105919089;model_evidence=Supporting evidence includes similarity to: 5 Proteins%2C and 100%25 coverage of the annotated genomic feature by RNAseq alignments%2C including 4 samples with support for all annotated introns;product=rab5 GDP/GTP exchange factor%2C transcript variant X1;transcript_id=XR_004932031.1\t-789303\r\n",
      "NC_046373.1\t14583752\t14583847\tDMR_7\thypomethylated\tNC_046373.1\tGnomon\ttranscript\t15580721\t15603655\t.\t-\t.\tID=rna-XR_004932264.1;Parent=gene-ptpn2b;Dbxref=GeneID:105935072,Genbank:XR_004932264.1;Name=XR_004932264.1;gbkey=misc_RNA;gene=ptpn2b;model_evidence=Supporting evidence includes similarity to: 29 Proteins%2C and 100%25 coverage of the annotated genomic feature by RNAseq alignments%2C including 60 samples with support for all annotated introns;product=protein tyrosine phosphatase non-receptor type 2b%2C transcript variant X1;transcript_id=XR_004932264.1\t996874\r\n",
      "NC_046373.1\t14592138\t14592233\tDMR_8\thypomethylated\tNC_046373.1\tGnomon\ttranscript\t15580721\t15603655\t.\t-\t.\tID=rna-XR_004932264.1;Parent=gene-ptpn2b;Dbxref=GeneID:105935072,Genbank:XR_004932264.1;Name=XR_004932264.1;gbkey=misc_RNA;gene=ptpn2b;model_evidence=Supporting evidence includes similarity to: 29 Proteins%2C and 100%25 coverage of the annotated genomic feature by RNAseq alignments%2C including 60 samples with support for all annotated introns;product=protein tyrosine phosphatase non-receptor type 2b%2C transcript variant X1;transcript_id=XR_004932264.1\t988488\r\n",
      "NC_046373.1\t37115424\t37115457\tDMR_9\thypomethylated\tNC_046373.1\tGnomon\ttranscript\t38227322\t38255987\t.\t-\t.\tID=rna-XR_004932357.1;Parent=gene-LOC105922017;Dbxref=GeneID:105922017,Genbank:XR_004932357.1;Name=XR_004932357.1;gbkey=misc_RNA;gene=LOC105922017;model_evidence=Supporting evidence includes similarity to: 2 Proteins%2C and 100%25 coverage of the annotated genomic feature by RNAseq alignments%2C including 46 samples with support for all annotated introns;product=MAP7 domain-containing protein 1%2C transcript variant X4;transcript_id=XR_004932357.1\t1111865\r\n",
      "NC_046373.1\t37115424\t37115457\tDMR_9\thypomethylated\tNC_046373.1\tGnomon\ttranscript\t38227322\t38255987\t.\t-\t.\tID=rna-XR_004932358.1;Parent=gene-LOC105922017;Dbxref=GeneID:105922017,Genbank:XR_004932358.1;Name=XR_004932358.1;gbkey=misc_RNA;gene=LOC105922017;model_evidence=Supporting evidence includes similarity to: 2 Proteins%2C and 100%25 coverage of the annotated genomic feature by RNAseq alignments%2C including 94 samples with support for all annotated introns;product=MAP7 domain-containing protein 1%2C transcript variant X5;transcript_id=XR_004932358.1\t1111865\r\n",
      "\r\n",
      "==> 20_OC_N_DMR.closestTranscript.bed <==\r\n",
      "NC_046363.1\t3538100\t3538292\tDMR_1\thypermethylated\tNC_046363.1\tGnomon\ttranscript\t3191320\t3195978\t.\t+\t.\tID=rna-XR_004928288.1;Parent=gene-LOC118558298;Dbxref=GeneID:118558298,Genbank:XR_004928288.1;Name=XR_004928288.1;gbkey=misc_RNA;gene=LOC118558298;model_evidence=Supporting evidence includes similarity to: 100%25 coverage of the annotated genomic feature by RNAseq alignments%2C including 5 samples with support for all annotated introns;product=uncharacterized LOC118558298%2C transcript variant X2;transcript_id=XR_004928288.1\t-342123\r\n",
      "NC_046364.1\t22883537\t22883766\tDMR_2\thypermethylated\tNC_046364.1\tGnomon\ttranscript\t19399347\t19402232\t.\t-\t.\tID=rna-XR_004930897.1;Parent=gene-LOC118562936;Dbxref=GeneID:118562936,Genbank:XR_004930897.1;Name=XR_004930897.1;gbkey=misc_RNA;gene=LOC118562936;model_evidence=Supporting evidence includes similarity to: 100%25 coverage of the annotated genomic feature by RNAseq alignments%2C including 34 samples with support for all annotated introns;product=tyrosyl-DNA phosphodiesterase 1-like%2C transcript variant X3;transcript_id=XR_004930897.1\t-3481306\r\n",
      "NC_046366.1\t7081208\t7081367\tDMR_3\thypermethylated\tNC_046366.1\tGnomon\ttranscript\t6816594\t6820817\t.\t-\t.\tID=rna-XR_004931194.1;Parent=gene-LOC110368443;Dbxref=GeneID:110368443,Genbank:XR_004931194.1;Name=XR_004931194.1;gbkey=misc_RNA;gene=LOC110368443;model_evidence=Supporting evidence includes similarity to: 100%25 coverage of the annotated genomic feature by RNAseq alignments%2C including 1 sample with support for all annotated introns;product=uncharacterized LOC110368443%2C transcript variant X2;transcript_id=XR_004931194.1\t-260392\r\n",
      "NC_046367.1\t16770264\t16770423\tDMR_4\thypermethylated\tNC_046367.1\tGnomon\ttranscript\t19438913\t19460752\t.\t+\t.\tID=rna-XR_002428257.2;Parent=gene-kpna3;Dbxref=GeneID:105927541,Genbank:XR_002428257.2;Name=XR_002428257.2;gbkey=misc_RNA;gene=kpna3;model_evidence=Supporting evidence includes similarity to: 65 Proteins%2C and 100%25 coverage of the annotated genomic feature by RNAseq alignments%2C including 9 samples with support for all annotated introns;product=karyopherin alpha 3 (importin alpha 4)%2C transcript variant X2;transcript_id=XR_002428257.2\t2668490\r\n",
      "NC_046373.1\t281709\t281971\tDMR_5\thypermethylated\tNC_046373.1\tGnomon\ttranscript\t1306019\t1313294\t.\t+\t.\tID=rna-XR_004932218.1;Parent=gene-zgc:91944;Dbxref=GeneID:105935399,Genbank:XR_004932218.1;Name=XR_004932218.1;gbkey=misc_RNA;gene=zgc:91944;model_evidence=Supporting evidence includes similarity to: 100%25 coverage of the annotated genomic feature by RNAseq alignments%2C including 1 sample with support for all annotated introns;product=HNF-1_N and homeodomain domain-containing protein%2C transcript variant X5;transcript_id=XR_004932218.1\t1024048\r\n",
      "NC_046373.1\t281709\t281971\tDMR_5\thypermethylated\tNC_046373.1\tGnomon\ttranscript\t1306019\t1313294\t.\t+\t.\tID=rna-XR_004932219.1;Parent=gene-zgc:91944;Dbxref=GeneID:105935399,Genbank:XR_004932219.1;Name=XR_004932219.1;gbkey=misc_RNA;gene=zgc:91944;model_evidence=Supporting evidence includes similarity to: 100%25 coverage of the annotated genomic feature by RNAseq alignments%2C including 1 sample with support for all annotated introns;product=HNF-1_N and homeodomain domain-containing protein%2C transcript variant X7;transcript_id=XR_004932219.1\t1024048\r\n",
      "NC_046376.1\t57649\t57779\tDMR_6\thypermethylated\tNC_046376.1\tGnomon\ttranscript\t432653\t439351\t.\t-\t.\tID=rna-XR_004932953.1;Parent=gene-LOC118566353;Dbxref=GeneID:118566353,Genbank:XR_004932953.1;Name=XR_004932953.1;gbkey=misc_RNA;gene=LOC118566353;model_evidence=Supporting evidence includes similarity to: 100%25 coverage of the annotated genomic feature by RNAseq alignments%2C including 3 samples with support for all annotated introns;product=uncharacterized LOC118566353%2C transcript variant X4;transcript_id=XR_004932953.1\t374874\r\n",
      "NC_046376.1\t37486144\t37486331\tDMR_7\thypermethylated\tNC_046376.1\tGnomon\ttranscript\t37010001\t37049189\t.\t-\t.\tID=rna-XR_004933025.1;Parent=gene-copz2;Dbxref=GeneID:105920978,Genbank:XR_004933025.1;Name=XR_004933025.1;gbkey=misc_RNA;gene=copz2;model_evidence=Supporting evidence includes similarity to: 2 Proteins%2C and 100%25 coverage of the annotated genomic feature by RNAseq alignments%2C including 11 samples with support for all annotated introns;product=COPI coat complex subunit zeta 2%2C transcript variant X3;transcript_id=XR_004933025.1\t-436956\r\n",
      "NC_046376.1\t37486144\t37486331\tDMR_7\thypermethylated\tNC_046376.1\tGnomon\ttranscript\t37011638\t37049189\t.\t-\t.\tID=rna-XR_004933026.1;Parent=gene-copz2;Dbxref=GeneID:105920978,Genbank:XR_004933026.1;Name=XR_004933026.1;gbkey=misc_RNA;gene=copz2;model_evidence=Supporting evidence includes similarity to: 2 Proteins%2C and 100%25 coverage of the annotated genomic feature by RNAseq alignments%2C including 6 samples with support for all annotated introns;product=COPI coat complex subunit zeta 2%2C transcript variant X4;transcript_id=XR_004933026.1\t-436956\r\n",
      "NC_046381.1\t24998741\t24998900\tDMR_8\thypermethylated\tNC_046381.1\tGnomon\ttranscript\t23847370\t23849405\t.\t+\t.\tID=rna-XR_004927429.1;Parent=gene-LOC118556866;Dbxref=GeneID:118556866,Genbank:XR_004927429.1;Name=XR_004927429.1;gbkey=misc_RNA;gene=LOC118556866;model_evidence=Supporting evidence includes similarity to: 100%25 coverage of the annotated genomic feature by RNAseq alignments%2C including 16 samples with support for all annotated introns;product=uncharacterized LOC118556866%2C transcript variant X2;transcript_id=XR_004927429.1\t-1149337\r\n",
      "\r\n",
      "==> 5_OC_N_DMR.closestTranscript.bed <==\r\n",
      "NC_046361.1\t5411834\t5411928\tDMR_1\thypermethylated\tNC_046361.1\tGnomon\ttranscript\t8139574\t8158125\t.\t-\t.\tID=rna-XR_004927622.1;Parent=gene-chrna4b;Dbxref=GeneID:105925915,Genbank:XR_004927622.1;Name=XR_004927622.1;gbkey=misc_RNA;gene=chrna4b;model_evidence=Supporting evidence includes similarity to: 120 Proteins%2C and 100%25 coverage of the annotated genomic feature by RNAseq alignments%2C including 3 samples with support for all annotated introns;product=cholinergic receptor%2C nicotinic%2C alpha 4b%2C transcript variant X2;transcript_id=XR_004927622.1\t2727646\r\n",
      "NC_046361.1\t5420132\t5420226\tDMR_2\thypermethylated\tNC_046361.1\tGnomon\ttranscript\t8139574\t8158125\t.\t-\t.\tID=rna-XR_004927622.1;Parent=gene-chrna4b;Dbxref=GeneID:105925915,Genbank:XR_004927622.1;Name=XR_004927622.1;gbkey=misc_RNA;gene=chrna4b;model_evidence=Supporting evidence includes similarity to: 120 Proteins%2C and 100%25 coverage of the annotated genomic feature by RNAseq alignments%2C including 3 samples with support for all annotated introns;product=cholinergic receptor%2C nicotinic%2C alpha 4b%2C transcript variant X2;transcript_id=XR_004927622.1\t2719348\r\n",
      "NC_046361.1\t41997840\t41998004\tDMR_3\thypermethylated\tNC_046361.1\tGnomon\ttranscript\t42064452\t42138761\t.\t+\t.\tID=rna-XR_004931963.1;Parent=gene-LOC110367737;Dbxref=GeneID:110367737,Genbank:XR_004931963.1;Name=XR_004931963.1;gbkey=misc_RNA;gene=LOC110367737;model_evidence=Supporting evidence includes similarity to: 100%25 coverage of the annotated genomic feature by RNAseq alignments%2C including 6 samples with support for all annotated introns;product=C-type lectin-like%2C transcript variant X2;transcript_id=XR_004931963.1\t66448\r\n",
      "NC_046362.1\t18039751\t18039824\tDMR_4\thypermethylated\tNC_046362.1\tGnomon\ttranscript\t17594822\t17601152\t.\t-\t.\tID=rna-XR_004933225.1;Parent=gene-LOC105932335;Dbxref=GeneID:105932335,Genbank:XR_004933225.1;Name=XR_004933225.1;gbkey=misc_RNA;gene=LOC105932335;model_evidence=Supporting evidence includes similarity to: 100%25 coverage of the annotated genomic feature by RNAseq alignments%2C including 3 samples with support for all annotated introns;product=uncharacterized LOC105932335%2C transcript variant X4;transcript_id=XR_004933225.1\t-438600\r\n",
      "NC_046363.1\t6052206\t6052595\tDMR_5\thypomethylated\tNC_046363.1\tGnomon\ttranscript\t5843051\t5846927\t.\t+\t.\tID=rna-XR_001166617.3;Parent=gene-id4;Dbxref=GeneID:105933135,Genbank:XR_001166617.3;Name=XR_001166617.3;gbkey=misc_RNA;gene=id4;model_evidence=Supporting evidence includes similarity to: 9 ESTs%2C 10 Proteins%2C and 100%25 coverage of the annotated genomic feature by RNAseq alignments%2C including 110 samples with support for all annotated introns;product=inhibitor of DNA binding 4%2C transcript variant X1;transcript_id=XR_001166617.3\t-205280\r\n",
      "NC_046363.1\t17138613\t17138818\tDMR_6\thypermethylated\tNC_046363.1\tGnomon\ttranscript\t17445584\t17459631\t.\t-\t.\tID=rna-XR_004929233.1;Parent=gene-LOC105917276;Dbxref=GeneID:105917276,Genbank:XR_004929233.1;Name=XR_004929233.1;gbkey=misc_RNA;gene=LOC105917276;model_evidence=Supporting evidence includes similarity to: 100%25 coverage of the annotated genomic feature by RNAseq alignments%2C including 32 samples with support for all annotated introns;product=THAP domain-containing protein 10%2C transcript variant X3;transcript_id=XR_004929233.1\t306766\r\n",
      "NC_046363.1\t21695863\t21695936\tDMR_7\thypermethylated\tNC_046363.1\tGnomon\ttranscript\t22091566\t22102833\t.\t-\t.\tID=rna-XR_004929764.1;Parent=gene-mpp6a;Dbxref=GeneID:105926377,Genbank:XR_004929764.1;Name=XR_004929764.1;gbkey=misc_RNA;gene=mpp6a;model_evidence=Supporting evidence includes similarity to: 1 Protein%2C and 100%25 coverage of the annotated genomic feature by RNAseq alignments%2C including 110 samples with support for all annotated introns;product=membrane protein%2C palmitoylated 6a (MAGUK p55 subfamily member 6)%2C transcript variant X2;transcript_id=XR_004929764.1\t395630\r\n",
      "NC_046364.1\t33298295\t33298366\tDMR_8\thypermethylated\tNC_046364.1\tGnomon\ttranscript\t34520553\t34658209\t.\t+\t.\tID=rna-XR_004930942.1;Parent=gene-LOC105919702;Dbxref=GeneID:105919702,Genbank:XR_004930942.1;Name=XR_004930942.1;gbkey=misc_RNA;gene=LOC105919702;model_evidence=Supporting evidence includes similarity to: 100%25 coverage of the annotated genomic feature by RNAseq alignments%2C including 2 samples with support for all annotated introns;product=transcription initiation factor TFIID subunit 4%2C transcript variant X4;transcript_id=XR_004930942.1\t1222187\r\n",
      "NC_046364.1\t40892789\t40892994\tDMR_9\thypermethylated\tNC_046364.1\tGnomon\ttranscript\t40492753\t40502253\t.\t+\t.\tID=rna-XR_004930956.1;Parent=gene-LOC105933790;Dbxref=GeneID:105933790,Genbank:XR_004930956.1;Name=XR_004930956.1;gbkey=misc_RNA;gene=LOC105933790;model_evidence=Supporting evidence includes similarity to: 100%25 coverage of the annotated genomic feature by RNAseq alignments%2C including 1 sample with support for all annotated introns;product=uncharacterized LOC105933790;transcript_id=XR_004930956.1\t-390537\r\n",
      "NC_046365.1\t15852888\t15853022\tDMR_10\thypermethylated\tNC_046365.1\tGnomon\ttranscript\t16421097\t16442243\t.\t+\t.\tID=rna-XR_004931040.1;Parent=gene-LOC118563136;Dbxref=GeneID:118563136,Genbank:XR_004931040.1;Name=XR_004931040.1;gbkey=misc_RNA;gene=LOC118563136;model_evidence=Supporting evidence includes similarity to: 18 Proteins%2C and 100%25 coverage of the annotated genomic feature by RNAseq alignments%2C including 1 sample with support for all annotated introns;product=solute carrier family 22 member 7-like%2C transcript variant X1;transcript_id=XR_004931040.1\t568075\r\n",
      "\r\n",
      "==> 5_pop_diff_DMR.closestTranscript.bed <==\r\n",
      "NC_046361.1\t10902397\t10902516\tDMR_1\thypomethylated\tNC_046361.1\tGnomon\ttranscript\t11583269\t11586855\t.\t-\t.\tID=rna-XR_004930530.1;Parent=gene-LOC110368767;Dbxref=GeneID:110368767,Genbank:XR_004930530.1;Name=XR_004930530.1;gbkey=misc_RNA;gene=LOC110368767;model_evidence=Supporting evidence includes similarity to: 100%25 coverage of the annotated genomic feature by RNAseq alignments%2C including 3 samples with support for all annotated introns;product=MAR-binding filament-like protein 1%2C transcript variant X2;transcript_id=XR_004930530.1\t680753\r\n",
      "NC_046361.1\t10902397\t10902516\tDMR_1\thypomethylated\tNC_046361.1\tGnomon\ttranscript\t11583269\t11586855\t.\t-\t.\tID=rna-XR_004930545.1;Parent=gene-LOC110368767;Dbxref=GeneID:110368767,Genbank:XR_004930545.1;Name=XR_004930545.1;gbkey=misc_RNA;gene=LOC110368767;model_evidence=Supporting evidence includes similarity to: 100%25 coverage of the annotated genomic feature by RNAseq alignments%2C including 2 samples with support for all annotated introns;product=MAR-binding filament-like protein 1%2C transcript variant X3;transcript_id=XR_004930545.1\t680753\r\n",
      "NC_046361.1\t10902397\t10902516\tDMR_1\thypomethylated\tNC_046361.1\tGnomon\ttranscript\t11583269\t11586855\t.\t-\t.\tID=rna-XR_004930513.1;Parent=gene-LOC110368767;Dbxref=GeneID:110368767,Genbank:XR_004930513.1;Name=XR_004930513.1;gbkey=misc_RNA;gene=LOC110368767;model_evidence=Supporting evidence includes similarity to: 100%25 coverage of the annotated genomic feature by RNAseq alignments%2C including 3 samples with support for all annotated introns;product=MAR-binding filament-like protein 1%2C transcript variant X1;transcript_id=XR_004930513.1\t680753\r\n",
      "NC_046362.1\t24575499\t24575593\tDMR_2\thypermethylated\tNC_046362.1\tGnomon\ttranscript\t24192539\t24277089\t.\t-\t.\tID=rna-XR_002427121.2;Parent=gene-lrrc4ca;Dbxref=GeneID:105918237,Genbank:XR_002427121.2;Name=XR_002427121.2;gbkey=misc_RNA;gene=lrrc4ca;model_evidence=Supporting evidence includes similarity to: 100%25 coverage of the annotated genomic feature by RNAseq alignments%2C including 37 samples with support for all annotated introns;product=leucine rich repeat containing 4C%2C genome duplicate a%2C transcript variant X5;transcript_id=XR_002427121.2\t-298411\r\n",
      "NC_046362.1\t24584027\t24584121\tDMR_3\thypermethylated\tNC_046362.1\tGnomon\ttranscript\t24192539\t24277089\t.\t-\t.\tID=rna-XR_002427121.2;Parent=gene-lrrc4ca;Dbxref=GeneID:105918237,Genbank:XR_002427121.2;Name=XR_002427121.2;gbkey=misc_RNA;gene=lrrc4ca;model_evidence=Supporting evidence includes similarity to: 100%25 coverage of the annotated genomic feature by RNAseq alignments%2C including 37 samples with support for all annotated introns;product=leucine rich repeat containing 4C%2C genome duplicate a%2C transcript variant X5;transcript_id=XR_002427121.2\t-306939\r\n",
      "NC_046362.1\t35470061\t35470157\tDMR_4\thypomethylated\tNC_046362.1\tGnomon\ttranscript\t33441438\t33447263\t.\t+\t.\tID=rna-XR_004927527.1;Parent=gene-dnaaf4;Dbxref=GeneID:105929639,Genbank:XR_004927527.1;Name=XR_004927527.1;gbkey=misc_RNA;gene=dnaaf4;model_evidence=Supporting evidence includes similarity to: 11 Proteins%2C and 100%25 coverage of the annotated genomic feature by RNAseq alignments%2C including 1 sample with support for all annotated introns;product=dynein axonemal assembly factor 4%2C transcript variant X2;transcript_id=XR_004927527.1\t-2022799\r\n",
      "NC_046363.1\t203897\t205027\tDMR_5\thypomethylated\tNC_046363.1\tGnomon\ttranscript\t658708\t1687593\t.\t-\t.\tID=rna-XR_004928158.1;Parent=gene-LOC105917636;Dbxref=GeneID:105917636,Genbank:XR_004928158.1;Name=XR_004928158.1;gbkey=misc_RNA;gene=LOC105917636;model_evidence=Supporting evidence includes similarity to: 5 Proteins%2C and 100%25 coverage of the annotated genomic feature by RNAseq alignments%2C including 6 samples with support for all annotated introns;product=glutamate receptor ionotropic%2C kainate 2%2C transcript variant X1;transcript_id=XR_004928158.1\t453681\r\n",
      "NC_046369.1\t26223581\t26223702\tDMR_6\thypomethylated\tNC_046369.1\tGnomon\ttranscript\t27081811\t27097108\t.\t-\t.\tID=rna-XR_004931698.1;Parent=gene-LOC118564181;Dbxref=GeneID:118564181,Genbank:XR_004931698.1;Name=XR_004931698.1;gbkey=misc_RNA;gene=LOC118564181;model_evidence=Supporting evidence includes similarity to: 100%25 coverage of the annotated genomic feature by RNAseq alignments%2C including 19 samples with support for all annotated introns;product=voltage-dependent calcium channel beta subunit-associated regulatory protein-like%2C transcript variant X2;transcript_id=XR_004931698.1\t858109\r\n",
      "NC_046373.1\t14583736\t14583847\tDMR_7\thypermethylated\tNC_046373.1\tGnomon\ttranscript\t15580721\t15603655\t.\t-\t.\tID=rna-XR_004932264.1;Parent=gene-ptpn2b;Dbxref=GeneID:105935072,Genbank:XR_004932264.1;Name=XR_004932264.1;gbkey=misc_RNA;gene=ptpn2b;model_evidence=Supporting evidence includes similarity to: 29 Proteins%2C and 100%25 coverage of the annotated genomic feature by RNAseq alignments%2C including 60 samples with support for all annotated introns;product=protein tyrosine phosphatase non-receptor type 2b%2C transcript variant X1;transcript_id=XR_004932264.1\t996874\r\n",
      "NC_046373.1\t14592139\t14592233\tDMR_8\thypermethylated\tNC_046373.1\tGnomon\ttranscript\t15580721\t15603655\t.\t-\t.\tID=rna-XR_004932264.1;Parent=gene-ptpn2b;Dbxref=GeneID:105935072,Genbank:XR_004932264.1;Name=XR_004932264.1;gbkey=misc_RNA;gene=ptpn2b;model_evidence=Supporting evidence includes similarity to: 29 Proteins%2C and 100%25 coverage of the annotated genomic feature by RNAseq alignments%2C including 60 samples with support for all annotated introns;product=protein tyrosine phosphatase non-receptor type 2b%2C transcript variant X1;transcript_id=XR_004932264.1\t988488\r\n",
      "\r\n",
      "==> OC_pop_diff_DMR.closestTranscript.bed <==\r\n",
      "NC_046370.1\t21493874\t21493961\tDMR_1\thypermethylated\tNC_046370.1\tGnomon\ttranscript\t20446456\t20467509\t.\t-\t.\tID=rna-XR_004931816.1;Parent=gene-plekha1b;Dbxref=GeneID:105920347,Genbank:XR_004931816.1;Name=XR_004931816.1;gbkey=misc_RNA;gene=plekha1b;model_evidence=Supporting evidence includes similarity to: 10 Proteins%2C and 100%25 coverage of the annotated genomic feature by RNAseq alignments%2C including 26 samples with support for all annotated introns;product=pleckstrin homology domain containing%2C family A (phosphoinositide binding specific) member 1b%2C transcript variant X9;transcript_id=XR_004931816.1\t-1026366\r\n",
      "NC_046370.1\t21493874\t21493961\tDMR_1\thypermethylated\tNC_046370.1\tGnomon\ttranscript\t20446456\t20467509\t.\t-\t.\tID=rna-XR_004931813.1;Parent=gene-plekha1b;Dbxref=GeneID:105920347,Genbank:XR_004931813.1;Name=XR_004931813.1;gbkey=misc_RNA;gene=plekha1b;model_evidence=Supporting evidence includes similarity to: 13 Proteins%2C and 100%25 coverage of the annotated genomic feature by RNAseq alignments%2C including 11 samples with support for all annotated introns;product=pleckstrin homology domain containing%2C family A (phosphoinositide binding specific) member 1b%2C transcript variant X5;transcript_id=XR_004931813.1\t-1026366\r\n",
      "NC_046370.1\t21493874\t21493961\tDMR_1\thypermethylated\tNC_046370.1\tGnomon\ttranscript\t20446540\t20467509\t.\t-\t.\tID=rna-XR_004931815.1;Parent=gene-plekha1b;Dbxref=GeneID:105920347,Genbank:XR_004931815.1;Name=XR_004931815.1;gbkey=misc_RNA;gene=plekha1b;model_evidence=Supporting evidence includes similarity to: 9 Proteins%2C and 100%25 coverage of the annotated genomic feature by RNAseq alignments%2C including 8 samples with support for all annotated introns;product=pleckstrin homology domain containing%2C family A (phosphoinositide binding specific) member 1b%2C transcript variant X7;transcript_id=XR_004931815.1\t-1026366\r\n",
      "NC_046370.1\t21493874\t21493961\tDMR_1\thypermethylated\tNC_046370.1\tGnomon\ttranscript\t20446558\t20467509\t.\t-\t.\tID=rna-XR_004931814.1;Parent=gene-plekha1b;Dbxref=GeneID:105920347,Genbank:XR_004931814.1;Name=XR_004931814.1;gbkey=misc_RNA;gene=plekha1b;model_evidence=Supporting evidence includes similarity to: 9 Proteins%2C and 100%25 coverage of the annotated genomic feature by RNAseq alignments%2C including 6 samples with support for all annotated introns;product=pleckstrin homology domain containing%2C family A (phosphoinositide binding specific) member 1b%2C transcript variant X6;transcript_id=XR_004931814.1\t-1026366\r\n",
      "\r\n",
      "==> all_pop_DMR.closestTranscript.bed <==\r\n",
      "NC_046362.1\t39864318\t39864358\tDMR_1\thypermethylated\tNC_046362.1\tGnomon\ttranscript\t38371296\t38423512\t.\t-\t.\tID=rna-XR_002428186.2;Parent=gene-si:dkey-246g23.2;Dbxref=GeneID:105926560,Genbank:XR_002428186.2;Name=XR_002428186.2;gbkey=misc_RNA;gene=si:dkey-246g23.2;model_evidence=Supporting evidence includes similarity to: 3 Proteins%2C and 100%25 coverage of the annotated genomic feature by RNAseq alignments%2C including 23 samples with support for all annotated introns;product=solute carrier family 66 member 2%2C transcript variant X2;transcript_id=XR_002428186.2\t-1440807\r\n",
      "NC_046363.1\t203897\t205027\tDMR_2\thypomethylated\tNC_046363.1\tGnomon\ttranscript\t658708\t1687593\t.\t-\t.\tID=rna-XR_004928158.1;Parent=gene-LOC105917636;Dbxref=GeneID:105917636,Genbank:XR_004928158.1;Name=XR_004928158.1;gbkey=misc_RNA;gene=LOC105917636;model_evidence=Supporting evidence includes similarity to: 5 Proteins%2C and 100%25 coverage of the annotated genomic feature by RNAseq alignments%2C including 6 samples with support for all annotated introns;product=glutamate receptor ionotropic%2C kainate 2%2C transcript variant X1;transcript_id=XR_004928158.1\t453681\r\n",
      "NC_046363.1\t11482768\t11483020\tDMR_3\thypomethylated\tNC_046363.1\tGnomon\ttranscript\t10691596\t10692364\t.\t+\t.\tID=rna-XR_004927971.1;Parent=gene-LOC110367159;Dbxref=GeneID:110367159,Genbank:XR_004927971.1;Name=XR_004927971.1;gbkey=misc_RNA;gene=LOC110367159;model_evidence=Supporting evidence includes similarity to: 100%25 coverage of the annotated genomic feature by RNAseq alignments%2C including 2 samples with support for all annotated introns;product=uncharacterized LOC110367159;transcript_id=XR_004927971.1\t-790405\r\n",
      "NC_046366.1\t15952916\t15953096\tDMR_4\thypermethylated\tNC_046366.1\tGnomon\ttranscript\t16612442\t16687503\t.\t+\t.\tID=rna-XR_004931224.1;Parent=gene-pbx1a;Dbxref=GeneID:105916687,Genbank:XR_004931224.1;Name=XR_004931224.1;gbkey=misc_RNA;gene=pbx1a;model_evidence=Supporting evidence includes similarity to: 22 Proteins%2C and 100%25 coverage of the annotated genomic feature by RNAseq alignments%2C including 70 samples with support for all annotated introns;product=pre-B-cell leukemia homeobox 1a%2C transcript variant X6;transcript_id=XR_004931224.1\t659346\r\n",
      "NC_046366.1\t15952916\t15953096\tDMR_4\thypermethylated\tNC_046366.1\tGnomon\ttranscript\t16612442\t16687451\t.\t+\t.\tID=rna-XR_004931225.1;Parent=gene-pbx1a;Dbxref=GeneID:105916687,Genbank:XR_004931225.1;Name=XR_004931225.1;gbkey=misc_RNA;gene=pbx1a;model_evidence=Supporting evidence includes similarity to: 22 Proteins%2C and 100%25 coverage of the annotated genomic feature by RNAseq alignments%2C including 64 samples with support for all annotated introns;product=pre-B-cell leukemia homeobox 1a%2C transcript variant X7;transcript_id=XR_004931225.1\t659346\r\n",
      "NC_046366.1\t32856829\t32857009\tDMR_5\thypermethylated\tNC_046366.1\tGnomon\ttranscript\t31737053\t31760946\t.\t-\t.\tID=rna-XR_004931250.1;Parent=gene-LOC118563489;Dbxref=GeneID:118563489,Genbank:XR_004931250.1;Name=XR_004931250.1;gbkey=misc_RNA;gene=LOC118563489;model_evidence=Supporting evidence includes similarity to: 10 Proteins%2C and 100%25 coverage of the annotated genomic feature by RNAseq alignments%2C including 67 samples with support for all annotated introns;product=type I phosphatidylinositol 4%2C5-bisphosphate 4-phosphatase-A-like%2C transcript variant X1;transcript_id=XR_004931250.1\t-1095884\r\n",
      "NC_046367.1\t32848978\t32849069\tDMR_6\thypomethylated\tNC_046367.1\tGnomon\ttranscript\t30050562\t30051245\t.\t-\t.\tID=rna-XR_004931403.1;Parent=gene-LOC105937180;Dbxref=GeneID:105937180,Genbank:XR_004931403.1;Name=XR_004931403.1;gbkey=misc_RNA;gene=LOC105937180;model_evidence=Supporting evidence includes similarity to: 3 ESTs%2C and 100%25 coverage of the annotated genomic feature by RNAseq alignments%2C including 118 samples with support for all annotated introns;product=X-ray repair complementing defective repair in Chinese hamster cells 5;transcript_id=XR_004931403.1\t-2797734\r\n",
      "NC_046372.1\t26908073\t26908253\tDMR_7\thypermethylated\tNC_046372.1\tGnomon\ttranscript\t27367475\t27376618\t.\t+\t.\tID=rna-XR_004932096.1;Parent=gene-LOC105938152;Dbxref=GeneID:105938152,Genbank:XR_004932096.1;Name=XR_004932096.1;gbkey=misc_RNA;gene=LOC105938152;model_evidence=Supporting evidence includes similarity to: 1 Protein%2C and 100%25 coverage of the annotated genomic feature by RNAseq alignments%2C including 12 samples with support for all annotated introns;product=cilia- and flagella-associated protein 157%2C transcript variant X2;transcript_id=XR_004932096.1\t459222\r\n",
      "NC_046373.1\t7352980\t7353160\tDMR_8\thypermethylated\tNC_046373.1\tGnomon\ttranscript\t9603290\t9620905\t.\t+\t.\tID=rna-XR_004932254.1;Parent=gene-sgce;Dbxref=GeneID:105917028,Genbank:XR_004932254.1;Name=XR_004932254.1;gbkey=misc_RNA;gene=sgce;model_evidence=Supporting evidence includes similarity to: 8 Proteins%2C and 100%25 coverage of the annotated genomic feature by RNAseq alignments%2C including 8 samples with support for all annotated introns;product=sarcoglycan%2C epsilon%2C transcript variant X1;transcript_id=XR_004932254.1\t2250130\r\n",
      "NC_046373.1\t7352980\t7353160\tDMR_8\thypermethylated\tNC_046373.1\tGnomon\ttranscript\t9603290\t9620905\t.\t+\t.\tID=rna-XR_004932259.1;Parent=gene-sgce;Dbxref=GeneID:105917028,Genbank:XR_004932259.1;Name=XR_004932259.1;gbkey=misc_RNA;gene=sgce;model_evidence=Supporting evidence includes similarity to: 5 Proteins%2C and 100%25 coverage of the annotated genomic feature by RNAseq alignments%2C including 3 samples with support for all annotated introns;product=sarcoglycan%2C epsilon%2C transcript variant X9;transcript_id=XR_004932259.1\t2250130\r\n"
     ]
    }
   ],
   "source": [
    "!head *DMR.closestTranscript.bed"
   ]
  },
  {
   "cell_type": "code",
   "execution_count": 111,
   "metadata": {
    "scrolled": true
   },
   "outputs": [
    {
     "name": "stdout",
     "output_type": "stream",
     "text": [
      "      37 20_5_N_DMR.closestTranscript.bed\r\n",
      "      12 20_OC_N_DMR.closestTranscript.bed\r\n",
      "      60 5_OC_N_DMR.closestTranscript.bed\r\n",
      "      19 5_pop_diff_DMR.closestTranscript.bed\r\n",
      "       4 OC_pop_diff_DMR.closestTranscript.bed\r\n",
      "      13 all_pop_DMR.closestTranscript.bed\r\n",
      "     145 total\r\n"
     ]
    }
   ],
   "source": [
    "!wc -l *DMR.closestTranscript.bed"
   ]
  },
  {
   "cell_type": "code",
   "execution_count": 133,
   "metadata": {},
   "outputs": [],
   "source": [
    "#Get line counts for each fine\n",
    "# Remove 7th line (total entries)\n",
    "#Ensure output is tab-delimited\n",
    "#Save output\n",
    "!wc -l *DMR.closestTranscript.bed \\\n",
    "| sed '7,$ d' \\\n",
    "| awk '{print $1\"\\t\"$2}' \\\n",
    "> closestTranscript-counts.txt"
   ]
  },
  {
   "cell_type": "markdown",
   "metadata": {},
   "source": [
    "### 3g. Non-coding sequences"
   ]
  },
  {
   "cell_type": "code",
   "execution_count": 112,
   "metadata": {},
   "outputs": [],
   "source": [
    "%%bash\n",
    "\n",
    "for f in *DMR.sort.bed\n",
    "do\n",
    "   /opt/homebrew/bin/closestBed \\\n",
    "   -D \"ref\" \\\n",
    "   -a ${f} \\\n",
    "   -b ../../../genome-features/GCF_011125445.2_MU-UCD_Fhet_4.1_genomic-nonCDS.bed \\\n",
    "   -g ../../../genome-features/mummichog.chrom.length \\\n",
    "   > $(basename ${f%_DMR.sort.bed})_DMR.closestnonCDS.bed\n",
    "done"
   ]
  },
  {
   "cell_type": "code",
   "execution_count": 113,
   "metadata": {},
   "outputs": [
    {
     "name": "stdout",
     "output_type": "stream",
     "text": [
      "20_5_N_DMR.closestnonCDS.bed      5_pop_diff_DMR.closestnonCDS.bed\r\n",
      "20_OC_N_DMR.closestnonCDS.bed     OC_pop_diff_DMR.closestnonCDS.bed\r\n",
      "5_OC_N_DMR.closestnonCDS.bed      all_pop_DMR.closestnonCDS.bed\r\n"
     ]
    }
   ],
   "source": [
    "!ls *DMR.closestnonCDS.bed"
   ]
  },
  {
   "cell_type": "code",
   "execution_count": 114,
   "metadata": {
    "scrolled": true
   },
   "outputs": [
    {
     "name": "stdout",
     "output_type": "stream",
     "text": [
      "==> 20_5_N_DMR.closestnonCDS.bed <==\n",
      "NC_046361.1\t5411834\t5411929\tDMR_1\thypomethylated\tNC_046361.1\t5409314\t5424365\t0\n",
      "NC_046361.1\t5420132\t5420227\tDMR_2\thypomethylated\tNC_046361.1\t5409314\t5424365\t0\n",
      "NC_046365.1\t15020929\t15020962\tDMR_3\thypomethylated\tNC_046365.1\t14881205\t15071097\t0\n",
      "NC_046365.1\t15029545\t15029578\tDMR_4\thypomethylated\tNC_046365.1\t14881205\t15071097\t0\n",
      "NC_046369.1\t23714137\t23714467\tDMR_5\thypomethylated\tNC_046369.1\t23710666\t23732323\t0\n",
      "NC_046372.1\t4663541\t4663752\tDMR_6\thypermethylated\tNC_046372.1\t4503759\t4702042\t0\n",
      "NC_046373.1\t14583752\t14583847\tDMR_7\thypomethylated\tNC_046373.1\t14577193\t14592897\t0\n",
      "NC_046373.1\t14592138\t14592233\tDMR_8\thypomethylated\tNC_046373.1\t14577193\t14592897\t0\n",
      "NC_046373.1\t37115424\t37115457\tDMR_9\thypomethylated\tNC_046373.1\t37110209\t37124996\t0\n",
      "NC_046373.1\t38547588\t38547621\tDMR_10\thypomethylated\tNC_046373.1\t38538047\t38552783\t0\n",
      "\n",
      "==> 20_OC_N_DMR.closestnonCDS.bed <==\n",
      "NC_046363.1\t3538100\t3538292\tDMR_1\thypermethylated\tNC_046363.1\t3407680\t3636266\t0\n",
      "NC_046364.1\t22883537\t22883766\tDMR_2\thypermethylated\tNC_046364.1\t22675765\t23011588\t0\n",
      "NC_046366.1\t7081208\t7081367\tDMR_3\thypermethylated\tNC_046366.1\t7079194\t7088424\t0\n",
      "NC_046367.1\t16770264\t16770423\tDMR_4\thypermethylated\tNC_046367.1\t16711987\t16800455\t0\n",
      "NC_046373.1\t281709\t281971\tDMR_5\thypermethylated\tNC_046373.1\t168454\t384333\t0\n",
      "NC_046376.1\t57649\t57779\tDMR_6\thypermethylated\tNC_046376.1\t18711\t60885\t0\n",
      "NC_046376.1\t37486144\t37486331\tDMR_7\thypermethylated\tNC_046376.1\t37474573\t37491952\t0\n",
      "NC_046381.1\t24998741\t24998900\tDMR_8\thypermethylated\tNC_046381.1\t24998294\t25003278\t0\n",
      "NC_046382.1\t24016650\t24016784\tDMR_9\thypermethylated\tNC_046382.1\t23883707\t24040370\t0\n",
      "NW_023397099.1\t1670533\t1670680\tDMR_10\thypermethylated\tNW_023397099.1\t1356550\t1746267\t0\n",
      "\n",
      "==> 5_OC_N_DMR.closestnonCDS.bed <==\n",
      "NC_046361.1\t5411834\t5411928\tDMR_1\thypermethylated\tNC_046361.1\t5409314\t5424365\t0\n",
      "NC_046361.1\t5420132\t5420226\tDMR_2\thypermethylated\tNC_046361.1\t5409314\t5424365\t0\n",
      "NC_046361.1\t41997840\t41998004\tDMR_3\thypermethylated\tNC_046361.1\t41985989\t42005042\t0\n",
      "NC_046362.1\t18039751\t18039824\tDMR_4\thypermethylated\tNC_046362.1\t18035437\t18099834\t0\n",
      "NC_046363.1\t6052206\t6052595\tDMR_5\thypomethylated\tNC_046363.1\t6048047\t6060648\t0\n",
      "NC_046363.1\t17138613\t17138818\tDMR_6\thypermethylated\tNC_046363.1\t17125085\t17141688\t0\n",
      "NC_046363.1\t21695863\t21695936\tDMR_7\thypermethylated\tNC_046363.1\t21685910\t21697056\t0\n",
      "NC_046364.1\t33298295\t33298366\tDMR_8\thypermethylated\tNC_046364.1\t33114315\t33441439\t0\n",
      "NC_046364.1\t40892789\t40892994\tDMR_9\thypermethylated\tNC_046364.1\t40891741\t40895643\t0\n",
      "NC_046365.1\t15852888\t15853022\tDMR_10\thypermethylated\tNC_046365.1\t15686924\t15962793\t0\n",
      "\n",
      "==> 5_pop_diff_DMR.closestnonCDS.bed <==\n",
      "NC_046361.1\t10902397\t10902516\tDMR_1\thypomethylated\tNC_046361.1\t10850561\t10988408\t0\n",
      "NC_046362.1\t24575499\t24575593\tDMR_2\thypermethylated\tNC_046362.1\t24289028\t24607919\t0\n",
      "NC_046362.1\t24584027\t24584121\tDMR_3\thypermethylated\tNC_046362.1\t24289028\t24607919\t0\n",
      "NC_046362.1\t35470061\t35470157\tDMR_4\thypomethylated\tNC_046362.1\t35456056\t35523014\t0\n",
      "NC_046363.1\t203897\t205027\tDMR_5\thypomethylated\tNC_046363.1\t203827\t205408\t0\n",
      "NC_046369.1\t26223581\t26223702\tDMR_6\thypomethylated\tNC_046369.1\t26212590\t26226857\t0\n",
      "NC_046373.1\t14583736\t14583847\tDMR_7\thypermethylated\tNC_046373.1\t14577193\t14592897\t0\n",
      "NC_046373.1\t14592139\t14592233\tDMR_8\thypermethylated\tNC_046373.1\t14577193\t14592897\t0\n",
      "NC_046374.1\t20646131\t20646225\tDMR_9\thypermethylated\tNC_046374.1\t20644770\t20656841\t0\n",
      "NC_046374.1\t20654367\t20654461\tDMR_10\thypermethylated\tNC_046374.1\t20644770\t20656841\t0\n",
      "\n",
      "==> OC_pop_diff_DMR.closestnonCDS.bed <==\n",
      "NC_046370.1\t21493874\t21493961\tDMR_1\thypermethylated\tNC_046370.1\t21489773\t21513736\t0\n",
      "\n",
      "==> all_pop_DMR.closestnonCDS.bed <==\n",
      "NC_046362.1\t39864318\t39864358\tDMR_1\thypermethylated\tNC_046362.1\t39862505\t39864795\t0\n",
      "NC_046363.1\t203897\t205027\tDMR_2\thypomethylated\tNC_046363.1\t203827\t205408\t0\n",
      "NC_046363.1\t11482768\t11483020\tDMR_3\thypomethylated\tNC_046363.1\t11432906\t11522075\t0\n",
      "NC_046366.1\t15952916\t15953096\tDMR_4\thypermethylated\tNC_046366.1\t15952153\t15959524\t0\n",
      "NC_046366.1\t32856829\t32857009\tDMR_5\thypermethylated\tNC_046366.1\t32843530\t32862685\t0\n",
      "NC_046367.1\t32848978\t32849069\tDMR_6\thypomethylated\tNC_046367.1\t32689270\t32875069\t0\n",
      "NC_046372.1\t26908073\t26908253\tDMR_7\thypermethylated\tNC_046372.1\t26895060\t26918140\t0\n",
      "NC_046373.1\t7352980\t7353160\tDMR_8\thypermethylated\tNC_046373.1\t7233867\t7357910\t0\n",
      "NC_046381.1\t4397623\t4397714\tDMR_9\thypomethylated\tNC_046381.1\t4392946\t4410746\t0\n",
      "NW_023396868.1\t506268\t506448\tDMR_10\thypermethylated\tNW_023396868.1\t491883\t513148\t0\n"
     ]
    }
   ],
   "source": [
    "!head *DMR.closestnonCDS.bed"
   ]
  },
  {
   "cell_type": "code",
   "execution_count": 115,
   "metadata": {
    "scrolled": false
   },
   "outputs": [
    {
     "name": "stdout",
     "output_type": "stream",
     "text": [
      "      23 20_5_N_DMR.closestnonCDS.bed\r\n",
      "      10 20_OC_N_DMR.closestnonCDS.bed\r\n",
      "      59 5_OC_N_DMR.closestnonCDS.bed\r\n",
      "      13 5_pop_diff_DMR.closestnonCDS.bed\r\n",
      "       1 OC_pop_diff_DMR.closestnonCDS.bed\r\n",
      "      11 all_pop_DMR.closestnonCDS.bed\r\n",
      "     117 total\r\n"
     ]
    }
   ],
   "source": [
    "!wc -l *DMR.closestnonCDS.bed"
   ]
  },
  {
   "cell_type": "code",
   "execution_count": 134,
   "metadata": {},
   "outputs": [],
   "source": [
    "#Get line counts for each fine\n",
    "# Remove 7th line (total entries)\n",
    "#Ensure output is tab-delimited\n",
    "#Save output\n",
    "!wc -l *DMR.closestnonCDS.bed \\\n",
    "| sed '7,$ d' \\\n",
    "| awk '{print $1\"\\t\"$2}' \\\n",
    "> closestnonCDS-counts.txt"
   ]
  },
  {
   "cell_type": "markdown",
   "metadata": {},
   "source": [
    "### 3h. Intron"
   ]
  },
  {
   "cell_type": "code",
   "execution_count": 116,
   "metadata": {},
   "outputs": [],
   "source": [
    "%%bash\n",
    "\n",
    "for f in *DMR.sort.bed\n",
    "do\n",
    "   /opt/homebrew/bin/closestBed \\\n",
    "   -D \"ref\" \\\n",
    "   -a ${f} \\\n",
    "   -b ../../../genome-features/GCF_011125445.2_MU-UCD_Fhet_4.1_genomic-intron.bed \\\n",
    "   -g ../../../genome-features/mummichog.chrom.length \\\n",
    "   > $(basename ${f%_DMR.sort.bed})_DMR.closestIntron.bed\n",
    "done"
   ]
  },
  {
   "cell_type": "code",
   "execution_count": 117,
   "metadata": {},
   "outputs": [
    {
     "name": "stdout",
     "output_type": "stream",
     "text": [
      "20_5_N_DMR.closestIntron.bed      5_pop_diff_DMR.closestIntron.bed\r\n",
      "20_OC_N_DMR.closestIntron.bed     OC_pop_diff_DMR.closestIntron.bed\r\n",
      "5_OC_N_DMR.closestIntron.bed      all_pop_DMR.closestIntron.bed\r\n"
     ]
    }
   ],
   "source": [
    "!ls *DMR.closestIntron.bed"
   ]
  },
  {
   "cell_type": "code",
   "execution_count": 118,
   "metadata": {
    "scrolled": true
   },
   "outputs": [
    {
     "name": "stdout",
     "output_type": "stream",
     "text": [
      "==> 20_5_N_DMR.closestIntron.bed <==\n",
      "NC_046361.1\t5411834\t5411929\tDMR_1\thypomethylated\tNC_046361.1\t5409314\t5424365\t0\n",
      "NC_046361.1\t5420132\t5420227\tDMR_2\thypomethylated\tNC_046361.1\t5409314\t5424365\t0\n",
      "NC_046365.1\t15020929\t15020962\tDMR_3\thypomethylated\tNC_046365.1\t15071430\t15103068\t50469\n",
      "NC_046365.1\t15029545\t15029578\tDMR_4\thypomethylated\tNC_046365.1\t15071430\t15103068\t41853\n",
      "NC_046369.1\t23714137\t23714467\tDMR_5\thypomethylated\tNC_046369.1\t23709945\t23710046\t-4092\n",
      "NC_046372.1\t4663541\t4663752\tDMR_6\thypermethylated\tNC_046372.1\t4702453\t4702527\t38702\n",
      "NC_046373.1\t14583752\t14583847\tDMR_7\thypomethylated\tNC_046373.1\t14577193\t14592897\t0\n",
      "NC_046373.1\t14592138\t14592233\tDMR_8\thypomethylated\tNC_046373.1\t14577193\t14592897\t0\n",
      "NC_046373.1\t37115424\t37115457\tDMR_9\thypomethylated\tNC_046373.1\t37110209\t37124996\t0\n",
      "NC_046373.1\t38547588\t38547621\tDMR_10\thypomethylated\tNC_046373.1\t38538047\t38552783\t0\n",
      "\n",
      "==> 20_OC_N_DMR.closestIntron.bed <==\n",
      "NC_046363.1\t3538100\t3538292\tDMR_1\thypermethylated\tNC_046363.1\t3636346\t3636418\t98055\n",
      "NC_046364.1\t22883537\t22883766\tDMR_2\thypermethylated\tNC_046364.1\t23011907\t23013535\t128142\n",
      "NC_046366.1\t7081208\t7081367\tDMR_3\thypermethylated\tNC_046366.1\t7079194\t7088424\t0\n",
      "NC_046367.1\t16770264\t16770423\tDMR_4\thypermethylated\tNC_046367.1\t16711987\t16800455\t0\n",
      "NC_046373.1\t281709\t281971\tDMR_5\thypermethylated\tNC_046373.1\t163354\t168225\t-113485\n",
      "NC_046376.1\t57649\t57779\tDMR_6\thypermethylated\tNC_046376.1\t60955\t62337\t3177\n",
      "NC_046376.1\t37486144\t37486331\tDMR_7\thypermethylated\tNC_046376.1\t37495058\t37495885\t8728\n",
      "NC_046381.1\t24998741\t24998900\tDMR_8\thypermethylated\tNC_046381.1\t24998294\t25003278\t0\n",
      "NC_046382.1\t24016650\t24016784\tDMR_9\thypermethylated\tNC_046382.1\t24040478\t24041035\t23695\n",
      "NW_023397099.1\t1670533\t1670680\tDMR_10\thypermethylated\tNW_023397099.1\t1746340\t1753956\t75661\n",
      "\n",
      "==> 5_OC_N_DMR.closestIntron.bed <==\n",
      "NC_046361.1\t5411834\t5411928\tDMR_1\thypermethylated\tNC_046361.1\t5409314\t5424365\t0\n",
      "NC_046361.1\t5420132\t5420226\tDMR_2\thypermethylated\tNC_046361.1\t5409314\t5424365\t0\n",
      "NC_046361.1\t41997840\t41998004\tDMR_3\thypermethylated\tNC_046361.1\t42005071\t42005168\t7068\n",
      "NC_046362.1\t18039751\t18039824\tDMR_4\thypermethylated\tNC_046362.1\t18026229\t18034763\t-4989\n",
      "NC_046363.1\t6052206\t6052595\tDMR_5\thypomethylated\tNC_046363.1\t6042268\t6046191\t-6016\n",
      "NC_046363.1\t17138613\t17138818\tDMR_6\thypermethylated\tNC_046363.1\t17125085\t17141688\t0\n",
      "NC_046363.1\t21695863\t21695936\tDMR_7\thypermethylated\tNC_046363.1\t21685910\t21697056\t0\n",
      "NC_046364.1\t33298295\t33298366\tDMR_8\thypermethylated\tNC_046364.1\t33441756\t33469545\t143391\n",
      "NC_046364.1\t40892789\t40892994\tDMR_9\thypermethylated\tNC_046364.1\t40891741\t40895643\t0\n",
      "NC_046365.1\t15852888\t15853022\tDMR_10\thypermethylated\tNC_046365.1\t15963172\t15970101\t110151\n",
      "\n",
      "==> 5_pop_diff_DMR.closestIntron.bed <==\n",
      "NC_046361.1\t10902397\t10902516\tDMR_1\thypomethylated\tNC_046361.1\t10842744\t10844877\t-57521\n",
      "NC_046362.1\t24575499\t24575593\tDMR_2\thypermethylated\tNC_046362.1\t24608182\t24610314\t32590\n",
      "NC_046362.1\t24584027\t24584121\tDMR_3\thypermethylated\tNC_046362.1\t24608182\t24610314\t24062\n",
      "NC_046362.1\t35470061\t35470157\tDMR_4\thypomethylated\tNC_046362.1\t35456056\t35523014\t0\n",
      "NC_046363.1\t203897\t205027\tDMR_5\thypomethylated\tNC_046363.1\t203827\t205408\t0\n",
      "NC_046369.1\t26223581\t26223702\tDMR_6\thypomethylated\tNC_046369.1\t26226868\t26231064\t3167\n",
      "NC_046373.1\t14583736\t14583847\tDMR_7\thypermethylated\tNC_046373.1\t14577193\t14592897\t0\n",
      "NC_046373.1\t14592139\t14592233\tDMR_8\thypermethylated\tNC_046373.1\t14577193\t14592897\t0\n",
      "NC_046374.1\t20646131\t20646225\tDMR_9\thypermethylated\tNC_046374.1\t20644770\t20656841\t0\n",
      "NC_046374.1\t20654367\t20654461\tDMR_10\thypermethylated\tNC_046374.1\t20644770\t20656841\t0\n",
      "\n",
      "==> OC_pop_diff_DMR.closestIntron.bed <==\n",
      "NC_046370.1\t21493874\t21493961\tDMR_1\thypermethylated\tNC_046370.1\t21489773\t21513736\t0\n",
      "\n",
      "==> all_pop_DMR.closestIntron.bed <==\n",
      "NC_046362.1\t39864318\t39864358\tDMR_1\thypermethylated\tNC_046362.1\t39862505\t39864795\t0\n",
      "NC_046363.1\t203897\t205027\tDMR_2\thypomethylated\tNC_046363.1\t203827\t205408\t0\n",
      "NC_046363.1\t11482768\t11483020\tDMR_3\thypomethylated\tNC_046363.1\t11522137\t11524230\t39118\n",
      "NC_046366.1\t15952916\t15953096\tDMR_4\thypermethylated\tNC_046366.1\t15952153\t15959524\t0\n",
      "NC_046366.1\t32856829\t32857009\tDMR_5\thypermethylated\tNC_046366.1\t32843530\t32862685\t0\n",
      "NC_046367.1\t32848978\t32849069\tDMR_6\thypomethylated\tNC_046367.1\t32875257\t32886170\t26189\n",
      "NC_046372.1\t26908073\t26908253\tDMR_7\thypermethylated\tNC_046372.1\t26895060\t26918140\t0\n",
      "NC_046373.1\t7352980\t7353160\tDMR_8\thypermethylated\tNC_046373.1\t7358110\t7369391\t4951\n",
      "NC_046381.1\t4397623\t4397714\tDMR_9\thypomethylated\tNC_046381.1\t4359621\t4392445\t-5179\n",
      "NW_023396868.1\t506268\t506448\tDMR_10\thypermethylated\tNW_023396868.1\t513410\t513588\t6963\n"
     ]
    }
   ],
   "source": [
    "!head *DMR.closestIntron.bed"
   ]
  },
  {
   "cell_type": "code",
   "execution_count": 119,
   "metadata": {
    "scrolled": true
   },
   "outputs": [
    {
     "name": "stdout",
     "output_type": "stream",
     "text": [
      "      24 20_5_N_DMR.closestIntron.bed\r\n",
      "      10 20_OC_N_DMR.closestIntron.bed\r\n",
      "      61 5_OC_N_DMR.closestIntron.bed\r\n",
      "      13 5_pop_diff_DMR.closestIntron.bed\r\n",
      "       1 OC_pop_diff_DMR.closestIntron.bed\r\n",
      "      11 all_pop_DMR.closestIntron.bed\r\n",
      "     120 total\r\n"
     ]
    }
   ],
   "source": [
    "!wc -l *DMR.closestIntron.bed"
   ]
  },
  {
   "cell_type": "code",
   "execution_count": 135,
   "metadata": {},
   "outputs": [],
   "source": [
    "#Get line counts for each fine\n",
    "# Remove 7th line (total entries)\n",
    "#Ensure output is tab-delimited\n",
    "#Save output\n",
    "!wc -l *DMR.closestIntron.bed \\\n",
    "| sed '7,$ d' \\\n",
    "| awk '{print $1\"\\t\"$2}' \\\n",
    "> closestIntron-counts.txt"
   ]
  },
  {
   "cell_type": "markdown",
   "metadata": {},
   "source": [
    "### 3i. Intergenic region"
   ]
  },
  {
   "cell_type": "code",
   "execution_count": 120,
   "metadata": {},
   "outputs": [],
   "source": [
    "%%bash\n",
    "\n",
    "for f in *DMR.sort.bed\n",
    "do\n",
    "   /opt/homebrew/bin/closestBed \\\n",
    "   -D \"ref\" \\\n",
    "   -a ${f} \\\n",
    "   -b ../../../genome-features/GCF_011125445.2_MU-UCD_Fhet_4.1_genomic-intergenic.bed \\\n",
    "   -g ../../../genome-features/mummichog.chrom.length \\\n",
    "   > $(basename ${f%_DMR.sort.bed})_DMR.closestIntergenic.bed\n",
    "done"
   ]
  },
  {
   "cell_type": "code",
   "execution_count": 121,
   "metadata": {},
   "outputs": [
    {
     "name": "stdout",
     "output_type": "stream",
     "text": [
      "20_5_N_DMR.closestIntergenic.bed      5_pop_diff_DMR.closestIntergenic.bed\r\n",
      "20_OC_N_DMR.closestIntergenic.bed     OC_pop_diff_DMR.closestIntergenic.bed\r\n",
      "5_OC_N_DMR.closestIntergenic.bed      all_pop_DMR.closestIntergenic.bed\r\n"
     ]
    }
   ],
   "source": [
    "!ls *DMR.closestIntergenic.bed"
   ]
  },
  {
   "cell_type": "code",
   "execution_count": 122,
   "metadata": {
    "scrolled": true
   },
   "outputs": [
    {
     "name": "stdout",
     "output_type": "stream",
     "text": [
      "==> 20_5_N_DMR.closestIntergenic.bed <==\r\n",
      "NC_046361.1\t5411834\t5411929\tDMR_1\thypomethylated\tNC_046361.1\t5392547\t5395096\t-16739\r\n",
      "NC_046361.1\t5420132\t5420227\tDMR_2\thypomethylated\tNC_046361.1\t5431788\t5432016\t11562\r\n",
      "NC_046365.1\t15020929\t15020962\tDMR_3\thypomethylated\tNC_046365.1\t14881205\t15071097\t0\r\n",
      "NC_046365.1\t15029545\t15029578\tDMR_4\thypomethylated\tNC_046365.1\t14881205\t15071097\t0\r\n",
      "NC_046369.1\t23714137\t23714467\tDMR_5\thypomethylated\tNC_046369.1\t23710666\t23732323\t0\r\n",
      "NC_046372.1\t4663541\t4663752\tDMR_6\thypermethylated\tNC_046372.1\t4503759\t4702042\t0\r\n",
      "NC_046373.1\t14583752\t14583847\tDMR_7\thypomethylated\tNC_046373.1\t14600827\t14603219\t16981\r\n",
      "NC_046373.1\t14592138\t14592233\tDMR_8\thypomethylated\tNC_046373.1\t14600827\t14603219\t8595\r\n",
      "NC_046373.1\t37115424\t37115457\tDMR_9\thypomethylated\tNC_046373.1\t37041850\t37097079\t-18346\r\n",
      "NC_046373.1\t38547588\t38547621\tDMR_10\thypomethylated\tNC_046373.1\t38558773\t38560037\t11153\r\n",
      "\r\n",
      "==> 20_OC_N_DMR.closestIntergenic.bed <==\r\n",
      "NC_046363.1\t3538100\t3538292\tDMR_1\thypermethylated\tNC_046363.1\t3407680\t3636266\t0\r\n",
      "NC_046364.1\t22883537\t22883766\tDMR_2\thypermethylated\tNC_046364.1\t22675765\t23011588\t0\r\n",
      "NC_046366.1\t7081208\t7081367\tDMR_3\thypermethylated\tNC_046366.1\t7067602\t7075098\t-6111\r\n",
      "NC_046367.1\t16770264\t16770423\tDMR_4\thypermethylated\tNC_046367.1\t16691789\t16711109\t-59156\r\n",
      "NC_046373.1\t281709\t281971\tDMR_5\thypermethylated\tNC_046373.1\t168454\t384333\t0\r\n",
      "NC_046376.1\t57649\t57779\tDMR_6\thypermethylated\tNC_046376.1\t18711\t60885\t0\r\n",
      "NC_046376.1\t37486144\t37486331\tDMR_7\thypermethylated\tNC_046376.1\t37474573\t37491952\t0\r\n",
      "NC_046381.1\t24998741\t24998900\tDMR_8\thypermethylated\tNC_046381.1\t25003830\t25043627\t4931\r\n",
      "NC_046382.1\t24016650\t24016784\tDMR_9\thypermethylated\tNC_046382.1\t23883707\t24040370\t0\r\n",
      "NW_023397099.1\t1670533\t1670680\tDMR_10\thypermethylated\tNW_023397099.1\t1356550\t1746267\t0\r\n",
      "\r\n",
      "==> 5_OC_N_DMR.closestIntergenic.bed <==\r\n",
      "NC_046361.1\t5411834\t5411928\tDMR_1\thypermethylated\tNC_046361.1\t5392547\t5395096\t-16739\r\n",
      "NC_046361.1\t5420132\t5420226\tDMR_2\thypermethylated\tNC_046361.1\t5431788\t5432016\t11563\r\n",
      "NC_046361.1\t41997840\t41998004\tDMR_3\thypermethylated\tNC_046361.1\t41985989\t42005042\t0\r\n",
      "NC_046362.1\t18039751\t18039824\tDMR_4\thypermethylated\tNC_046362.1\t18035437\t18099834\t0\r\n",
      "NC_046363.1\t6052206\t6052595\tDMR_5\thypomethylated\tNC_046363.1\t6048047\t6060648\t0\r\n",
      "NC_046363.1\t17138613\t17138818\tDMR_6\thypermethylated\tNC_046363.1\t17147660\t17166806\t8843\r\n",
      "NC_046363.1\t21695863\t21695936\tDMR_7\thypermethylated\tNC_046363.1\t21719990\t21722045\t24055\r\n",
      "NC_046364.1\t33298295\t33298366\tDMR_8\thypermethylated\tNC_046364.1\t33114315\t33441439\t0\r\n",
      "NC_046364.1\t40892789\t40892994\tDMR_9\thypermethylated\tNC_046364.1\t40888238\t40890921\t-1869\r\n",
      "NC_046365.1\t15852888\t15853022\tDMR_10\thypermethylated\tNC_046365.1\t15686924\t15962793\t0\r\n",
      "\r\n",
      "==> 5_pop_diff_DMR.closestIntergenic.bed <==\r\n",
      "NC_046361.1\t10902397\t10902516\tDMR_1\thypomethylated\tNC_046361.1\t10850561\t10988408\t0\r\n",
      "NC_046362.1\t24575499\t24575593\tDMR_2\thypermethylated\tNC_046362.1\t24289028\t24607919\t0\r\n",
      "NC_046362.1\t24584027\t24584121\tDMR_3\thypermethylated\tNC_046362.1\t24289028\t24607919\t0\r\n",
      "NC_046362.1\t35470061\t35470157\tDMR_4\thypomethylated\tNC_046362.1\t35431150\t35446251\t-23811\r\n",
      "NC_046363.1\t203897\t205027\tDMR_5\thypomethylated\tNC_046363.1\t205473\t281284\t447\r\n",
      "NC_046369.1\t26223581\t26223702\tDMR_6\thypomethylated\tNC_046369.1\t26212590\t26226857\t0\r\n",
      "NC_046373.1\t14583736\t14583847\tDMR_7\thypermethylated\tNC_046373.1\t14600827\t14603219\t16981\r\n",
      "NC_046373.1\t14592139\t14592233\tDMR_8\thypermethylated\tNC_046373.1\t14600827\t14603219\t8595\r\n",
      "NC_046374.1\t20646131\t20646225\tDMR_9\thypermethylated\tNC_046374.1\t20549261\t20592177\t-53955\r\n",
      "NC_046374.1\t20654367\t20654461\tDMR_10\thypermethylated\tNC_046374.1\t20713723\t20808184\t59263\r\n",
      "\r\n",
      "==> OC_pop_diff_DMR.closestIntergenic.bed <==\r\n",
      "NC_046370.1\t21493874\t21493961\tDMR_1\thypermethylated\tNC_046370.1\t21461617\t21476924\t-16951\r\n",
      "\r\n",
      "==> all_pop_DMR.closestIntergenic.bed <==\r\n",
      "NC_046362.1\t39864318\t39864358\tDMR_1\thypermethylated\tNC_046362.1\t39843845\t39845358\t-18961\r\n",
      "NC_046363.1\t203897\t205027\tDMR_2\thypomethylated\tNC_046363.1\t205473\t281284\t447\r\n",
      "NC_046363.1\t11482768\t11483020\tDMR_3\thypomethylated\tNC_046363.1\t11432906\t11522075\t0\r\n",
      "NC_046366.1\t15952916\t15953096\tDMR_4\thypermethylated\tNC_046366.1\t15850658\t15950376\t-2541\r\n",
      "NC_046366.1\t32856829\t32857009\tDMR_5\thypermethylated\tNC_046366.1\t32682524\t32793872\t-62958\r\n",
      "NC_046367.1\t32848978\t32849069\tDMR_6\thypomethylated\tNC_046367.1\t32689270\t32875069\t0\r\n",
      "NC_046372.1\t26908073\t26908253\tDMR_7\thypermethylated\tNC_046372.1\t27015252\t27110492\t107000\r\n",
      "NC_046373.1\t7352980\t7353160\tDMR_8\thypermethylated\tNC_046373.1\t7233867\t7357910\t0\r\n",
      "NC_046381.1\t4397623\t4397714\tDMR_9\thypomethylated\tNC_046381.1\t4392946\t4410746\t0\r\n",
      "NW_023396868.1\t506268\t506448\tDMR_10\thypermethylated\tNW_023396868.1\t491883\t513148\t0\r\n"
     ]
    }
   ],
   "source": [
    "!head *DMR.closestIntergenic.bed"
   ]
  },
  {
   "cell_type": "code",
   "execution_count": 123,
   "metadata": {
    "scrolled": false
   },
   "outputs": [
    {
     "name": "stdout",
     "output_type": "stream",
     "text": [
      "      23 20_5_N_DMR.closestIntergenic.bed\r\n",
      "      10 20_OC_N_DMR.closestIntergenic.bed\r\n",
      "      59 5_OC_N_DMR.closestIntergenic.bed\r\n",
      "      13 5_pop_diff_DMR.closestIntergenic.bed\r\n",
      "       1 OC_pop_diff_DMR.closestIntergenic.bed\r\n",
      "      11 all_pop_DMR.closestIntergenic.bed\r\n",
      "     117 total\r\n"
     ]
    }
   ],
   "source": [
    "!wc -l *DMR.closestIntergenic.bed"
   ]
  },
  {
   "cell_type": "code",
   "execution_count": 136,
   "metadata": {},
   "outputs": [],
   "source": [
    "#Get line counts for each fine\n",
    "# Remove 7th line (total entries)\n",
    "#Ensure output is tab-delimited\n",
    "#Save output\n",
    "!wc -l *DMR.closestIntergenic.bed \\\n",
    "| sed '7,$ d' \\\n",
    "| awk '{print $1\"\\t\"$2}' \\\n",
    "> closestIntergenic-counts.txt"
   ]
  },
  {
   "cell_type": "code",
   "execution_count": null,
   "metadata": {},
   "outputs": [],
   "source": []
  }
 ],
 "metadata": {
  "anaconda-cloud": {},
  "kernelspec": {
   "display_name": "Python 3",
   "language": "python",
   "name": "python3"
  },
  "language_info": {
   "codemirror_mode": {
    "name": "ipython",
    "version": 3
   },
   "file_extension": ".py",
   "mimetype": "text/x-python",
   "name": "python",
   "nbconvert_exporter": "python",
   "pygments_lexer": "ipython3",
   "version": "3.7.4"
  }
 },
 "nbformat": 4,
 "nbformat_minor": 1
}
