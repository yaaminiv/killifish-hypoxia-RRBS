{
 "cells": [
  {
   "cell_type": "markdown",
   "metadata": {},
   "source": [
    "# Methylation landscape analysis\n",
    "\n",
    "In this notebook, I'll characterize the methylation landscape using output from [`BAT_summarize`](https://github.com/yaaminiv/killifish-hypoxia-RRBS/tree/main/output/05-analysis/summarize)."
   ]
  },
  {
   "cell_type": "markdown",
   "metadata": {},
   "source": [
    "## 0. Prepare notebook for analysis"
   ]
  },
  {
   "cell_type": "code",
   "execution_count": 1,
   "metadata": {},
   "outputs": [
    {
     "name": "stdout",
     "output_type": "stream",
     "text": [
      "/Users/yaaminivenkataraman/Documents/killifish-hypoxia-RRBS/code\r\n"
     ]
    }
   ],
   "source": [
    "!pwd"
   ]
  },
  {
   "cell_type": "code",
   "execution_count": 2,
   "metadata": {},
   "outputs": [
    {
     "name": "stdout",
     "output_type": "stream",
     "text": [
      "/Users/yaaminivenkataraman/Documents/killifish-hypoxia-RRBS/output/05-analysis\n"
     ]
    }
   ],
   "source": [
    "cd ../output/05-analysis/"
   ]
  },
  {
   "cell_type": "code",
   "execution_count": 3,
   "metadata": {},
   "outputs": [
    {
     "name": "stdout",
     "output_type": "stream",
     "text": [
      "/Users/yaaminivenkataraman/Documents/killifish-hypoxia-RRBS/output/05-analysis/new-genome\n"
     ]
    }
   ],
   "source": [
    "cd new-genome/"
   ]
  },
  {
   "cell_type": "code",
   "execution_count": 4,
   "metadata": {},
   "outputs": [
    {
     "name": "stdout",
     "output_type": "stream",
     "text": [
      "mkdir: methylation-landscape: File exists\r\n"
     ]
    }
   ],
   "source": [
    "!mkdir methylation-landscape"
   ]
  },
  {
   "cell_type": "code",
   "execution_count": 5,
   "metadata": {},
   "outputs": [
    {
     "name": "stdout",
     "output_type": "stream",
     "text": [
      "/Users/yaaminivenkataraman/Documents/killifish-hypoxia-RRBS/output/05-analysis/new-genome/methylation-landscape\n"
     ]
    }
   ],
   "source": [
    "cd methylation-landscape/"
   ]
  },
  {
   "cell_type": "code",
   "execution_count": 6,
   "metadata": {},
   "outputs": [
    {
     "name": "stdout",
     "output_type": "stream",
     "text": [
      "mkdir: missing_1: File exists\r\n"
     ]
    }
   ],
   "source": [
    "!mkdir missing_1"
   ]
  },
  {
   "cell_type": "code",
   "execution_count": 7,
   "metadata": {},
   "outputs": [
    {
     "name": "stdout",
     "output_type": "stream",
     "text": [
      "/Users/yaaminivenkataraman/Documents/killifish-hypoxia-RRBS/output/05-analysis/new-genome/methylation-landscape/missing_1\n"
     ]
    }
   ],
   "source": [
    "cd missing_1"
   ]
  },
  {
   "cell_type": "code",
   "execution_count": 8,
   "metadata": {
    "scrolled": true
   },
   "outputs": [
    {
     "name": "stdout",
     "output_type": "stream",
     "text": [
      "/opt/homebrew/bin/bedtools\r\n"
     ]
    }
   ],
   "source": [
    "!which bedtools"
   ]
  },
  {
   "cell_type": "code",
   "execution_count": 9,
   "metadata": {},
   "outputs": [],
   "source": [
    "bedtoolsDirectory = \"/opt/homebrew/bin/\""
   ]
  },
  {
   "cell_type": "code",
   "execution_count": 10,
   "metadata": {},
   "outputs": [
    {
     "name": "stdout",
     "output_type": "stream",
     "text": [
      "0.25.1\n"
     ]
    }
   ],
   "source": [
    "#Install pandas for this notebook\n",
    "import pandas as pd\n",
    "print(pd.__version__)"
   ]
  },
  {
   "cell_type": "markdown",
   "metadata": {},
   "source": [
    "## 1. Create union file"
   ]
  },
  {
   "cell_type": "markdown",
   "metadata": {},
   "source": [
    "I want to understand the data in two different ways: one with missing values, and one without. I will use `unionBedGraphs` to create a file with missing data for methylation landscape analysis."
   ]
  },
  {
   "cell_type": "markdown",
   "metadata": {},
   "source": [
    "### 1a. Count the number of CpGs in the genome"
   ]
  },
  {
   "cell_type": "markdown",
   "metadata": {},
   "source": [
    "But first...I will count the number of CpGs in the *F. heteroclitus* genome."
   ]
  },
  {
   "cell_type": "code",
   "execution_count": null,
   "metadata": {},
   "outputs": [],
   "source": []
  },
  {
   "cell_type": "code",
   "execution_count": null,
   "metadata": {},
   "outputs": [],
   "source": []
  },
  {
   "cell_type": "code",
   "execution_count": null,
   "metadata": {},
   "outputs": [],
   "source": []
  },
  {
   "cell_type": "markdown",
   "metadata": {},
   "source": [
    "### 1b. Union file"
   ]
  },
  {
   "cell_type": "code",
   "execution_count": 17,
   "metadata": {
    "scrolled": true
   },
   "outputs": [
    {
     "name": "stdout",
     "output_type": "stream",
     "text": [
      "/Volumes/yaamini.venkataraman/killifish-hypoxia-RRBS/output/04-calling/new-genome/filtered/190626_I114_FCH7TVNBBXY_L2_20-N4_CG.sort.bedgraph\r\n",
      "/Volumes/yaamini.venkataraman/killifish-hypoxia-RRBS/output/04-calling/new-genome/filtered/190626_I114_FCH7TVNBBXY_L2_20-S1_CG.sort.bedgraph\r\n",
      "/Volumes/yaamini.venkataraman/killifish-hypoxia-RRBS/output/04-calling/new-genome/filtered/190626_I114_FCH7TVNBBXY_L2_20-S3_CG.sort.bedgraph\r\n",
      "/Volumes/yaamini.venkataraman/killifish-hypoxia-RRBS/output/04-calling/new-genome/filtered/190626_I114_FCH7TVNBBXY_L2_20-S4_CG.sort.bedgraph\r\n",
      "/Volumes/yaamini.venkataraman/killifish-hypoxia-RRBS/output/04-calling/new-genome/filtered/190626_I114_FCH7TVNBBXY_L2_5-N1_CG.sort.bedgraph\r\n",
      "/Volumes/yaamini.venkataraman/killifish-hypoxia-RRBS/output/04-calling/new-genome/filtered/190626_I114_FCH7TVNBBXY_L2_5-N2_CG.sort.bedgraph\r\n",
      "/Volumes/yaamini.venkataraman/killifish-hypoxia-RRBS/output/04-calling/new-genome/filtered/190626_I114_FCH7TVNBBXY_L2_5-S3_CG.sort.bedgraph\r\n",
      "/Volumes/yaamini.venkataraman/killifish-hypoxia-RRBS/output/04-calling/new-genome/filtered/190626_I114_FCH7TVNBBXY_L2_5-S4_CG.sort.bedgraph\r\n",
      "/Volumes/yaamini.venkataraman/killifish-hypoxia-RRBS/output/04-calling/new-genome/filtered/190626_I114_FCH7TVNBBXY_L2_OC-S1_CG.sort.bedgraph\r\n",
      "/Volumes/yaamini.venkataraman/killifish-hypoxia-RRBS/output/04-calling/new-genome/filtered/190626_I114_FCH7TVNBBXY_L3_20-N2_CG.sort.bedgraph\r\n",
      "/Volumes/yaamini.venkataraman/killifish-hypoxia-RRBS/output/04-calling/new-genome/filtered/190626_I114_FCH7TVNBBXY_L3_5-N3_CG.sort.bedgraph\r\n",
      "/Volumes/yaamini.venkataraman/killifish-hypoxia-RRBS/output/04-calling/new-genome/filtered/190626_I114_FCH7TVNBBXY_L3_5-S2_CG.sort.bedgraph\r\n",
      "/Volumes/yaamini.venkataraman/killifish-hypoxia-RRBS/output/04-calling/new-genome/filtered/190626_I114_FCH7TVNBBXY_L3_OC-N1_CG.sort.bedgraph\r\n",
      "/Volumes/yaamini.venkataraman/killifish-hypoxia-RRBS/output/04-calling/new-genome/filtered/190626_I114_FCH7TVNBBXY_L3_OC-N2_CG.sort.bedgraph\r\n",
      "/Volumes/yaamini.venkataraman/killifish-hypoxia-RRBS/output/04-calling/new-genome/filtered/190626_I114_FCH7TVNBBXY_L3_OC-N4_CG.sort.bedgraph\r\n",
      "/Volumes/yaamini.venkataraman/killifish-hypoxia-RRBS/output/04-calling/new-genome/filtered/190626_I114_FCH7TVNBBXY_L3_OC-N5_CG.sort.bedgraph\r\n",
      "/Volumes/yaamini.venkataraman/killifish-hypoxia-RRBS/output/04-calling/new-genome/filtered/190626_I114_FCH7TVNBBXY_L3_OC-S2_CG.sort.bedgraph\r\n",
      "/Volumes/yaamini.venkataraman/killifish-hypoxia-RRBS/output/04-calling/new-genome/filtered/190626_I114_FCH7TVNBBXY_L3_OC-S3_CG.sort.bedgraph\r\n",
      "/Volumes/yaamini.venkataraman/killifish-hypoxia-RRBS/output/04-calling/new-genome/filtered/190626_I114_FCH7TVNBBXY_L4_20-N1_CG.sort.bedgraph\r\n",
      "/Volumes/yaamini.venkataraman/killifish-hypoxia-RRBS/output/04-calling/new-genome/filtered/190626_I114_FCH7TVNBBXY_L4_20-S2_CG.sort.bedgraph\r\n",
      "/Volumes/yaamini.venkataraman/killifish-hypoxia-RRBS/output/04-calling/new-genome/filtered/190626_I114_FCH7TVNBBXY_L4_5-S1_CG.sort.bedgraph\r\n",
      "/Volumes/yaamini.venkataraman/killifish-hypoxia-RRBS/output/04-calling/new-genome/filtered/190626_I114_FCH7TVNBBXY_L4_OC-S5_CG.sort.bedgraph\r\n"
     ]
    }
   ],
   "source": [
    "#Find files to concatenate\n",
    "!find /Volumes/yaamini.venkataraman/killifish-hypoxia-RRBS/output/04-calling/new-genome/filtered/*sort.bedgraph"
   ]
  },
  {
   "cell_type": "code",
   "execution_count": 16,
   "metadata": {
    "scrolled": true
   },
   "outputs": [
    {
     "name": "stdout",
     "output_type": "stream",
     "text": [
      "NW_023397471.1\t20968\t20969\t0.00\r\n",
      "NW_023397471.1\t20977\t20978\t0.00\r\n",
      "NW_023397471.1\t22730\t22731\t0.50\r\n",
      "NW_023397471.1\t22762\t22763\t0.33\r\n",
      "NW_023397471.1\t22789\t22790\t0.94\r\n",
      "NW_023397471.1\t22797\t22798\t1.00\r\n",
      "NW_023397471.1\t22824\t22825\t0.78\r\n",
      "NW_023397471.1\t22879\t22880\t0.97\r\n",
      "NW_023397471.1\t22892\t22893\t0.99\r\n",
      "NW_023397471.1\t22914\t22915\t0.81\r\n"
     ]
    }
   ],
   "source": [
    "!tail /Volumes/yaamini.venkataraman/killifish-hypoxia-RRBS/output/04-calling/new-genome/filtered/190626_I114_FCH7TVNBBXY_L2_20-N4_CG.sort.bedgraph"
   ]
  },
  {
   "cell_type": "code",
   "execution_count": 18,
   "metadata": {},
   "outputs": [],
   "source": [
    "#Create a union bedGraph\n",
    "#Use N/A when there is no data for a CpG in a sample\n",
    "#Define sample IDs\n",
    "#Use sorted bedgraphs\n",
    "#Cound the number of lines (CpGs) with data\n",
    "!{bedtoolsDirectory}unionBedGraphs \\\n",
    "-header \\\n",
    "-filler N/A \\\n",
    "-names N_20-N4 N_5-N1 N_5-N2 N_20-N2 N_5-N3 N_20-N1 N_OC-N5 N_OC-N1 N_OC-N2 N_OC-N4 S_20-S1 S_20-S3 S_20-S4 S_5-S3 S_5-S4 S_5-S2 S_20-S2 S_5-S1 S_OC-S1 S_OC-S2 S_OC-S3 S_OC-S5 \\\n",
    "-i /Volumes/yaamini.venkataraman/killifish-hypoxia-RRBS/output/04-calling/new-genome/filtered/*sort.bedgraph \\\n",
    "> union_10x.bedgraph"
   ]
  },
  {
   "cell_type": "code",
   "execution_count": 12,
   "metadata": {
    "scrolled": true
   },
   "outputs": [
    {
     "name": "stdout",
     "output_type": "stream",
     "text": [
      "chrom\tstart\tend\tN_20-N4\tN_5-N1\tN_5-N2\tN_20-N2\tN_5-N3\tN_20-N1\tN_OC-N5\tN_OC-N1\tN_OC-N2\tN_OC-N4\tS_20-S1\tS_20-S3\tS_20-S4\tS_5-S3\tS_5-S4\tS_5-S2\tS_20-S2\tS_5-S1\tS_OC-S1\tS_OC-S2\tS_OC-S3\tS_OC-S5\n",
      "NC_012312.1\t60\t61\tN/A\tN/A\tN/A\tN/A\tN/A\tN/A\tN/A\tN/A\tN/A\t0.00\tN/A\t0.00\t0.00\tN/A\tN/A\tN/A\tN/A\tN/A\tN/A\tN/A\tN/A\tN/A\n",
      "NC_012312.1\t61\t62\t0.00\tN/A\tN/A\t0.00\tN/A\tN/A\tN/A\tN/A\tN/A\tN/A\tN/A\tN/A\tN/A\tN/A\tN/A\t0.00\tN/A\tN/A\tN/A\tN/A\tN/A\tN/A\n",
      "NC_012312.1\t126\t127\tN/A\t0.00\tN/A\t0.00\tN/A\tN/A\tN/A\tN/A\tN/A\tN/A\t0.00\tN/A\t0.00\tN/A\tN/A\tN/A\tN/A\tN/A\tN/A\tN/A\tN/A\tN/A\n",
      "NC_012312.1\t127\t128\tN/A\tN/A\t0.00\tN/A\tN/A\tN/A\t0.00\t0.00\tN/A\tN/A\tN/A\t0.00\t0.00\tN/A\tN/A\tN/A\t0.00\tN/A\tN/A\tN/A\tN/A\tN/A\n",
      "NC_012312.1\t296\t297\tN/A\tN/A\tN/A\tN/A\tN/A\tN/A\tN/A\tN/A\tN/A\t0.01\t0.01\t0.02\t0.05\t0.01\t0.02\t0.04\t0.03\t0.01\t0.01\t0.01\tN/A\t0.03\n",
      "NC_012312.1\t307\t308\tN/A\t0.00\tN/A\tN/A\t0.00\tN/A\tN/A\tN/A\t0.00\tN/A\tN/A\t0.55\t0.00\tN/A\tN/A\tN/A\t0.00\t0.00\tN/A\tN/A\t0.00\tN/A\n",
      "NC_012312.1\t308\t309\t0.00\t0.07\t0.00\t0.00\t0.00\t0.00\tN/A\t0.00\t0.00\tN/A\t0.00\tN/A\t0.00\tN/A\tN/A\t0.00\t0.00\tN/A\tN/A\t0.01\tN/A\tN/A\n",
      "NC_012312.1\t319\t320\tN/A\tN/A\tN/A\tN/A\t0.00\tN/A\tN/A\tN/A\t0.00\tN/A\tN/A\t0.00\t0.00\tN/A\tN/A\tN/A\t0.00\t0.00\tN/A\tN/A\t0.00\tN/A\n",
      "NC_012312.1\t320\t321\t0.00\t0.00\t0.00\t0.08\t0.00\t0.00\tN/A\t0.00\t0.00\tN/A\t0.00\tN/A\t0.00\tN/A\tN/A\t0.00\t0.00\tN/A\tN/A\t0.00\tN/A\tN/A\n",
      "  439470 ../union_10x.bedgraph\n"
     ]
    }
   ],
   "source": [
    "#Check output\n",
    "!head ../union_10x.bedgraph\n",
    "!wc -l ../union_10x.bedgraph"
   ]
  },
  {
   "cell_type": "code",
   "execution_count": 13,
   "metadata": {},
   "outputs": [
    {
     "data": {
      "text/html": [
       "<div>\n",
       "<style scoped>\n",
       "    .dataframe tbody tr th:only-of-type {\n",
       "        vertical-align: middle;\n",
       "    }\n",
       "\n",
       "    .dataframe tbody tr th {\n",
       "        vertical-align: top;\n",
       "    }\n",
       "\n",
       "    .dataframe thead th {\n",
       "        text-align: right;\n",
       "    }\n",
       "</style>\n",
       "<table border=\"1\" class=\"dataframe\">\n",
       "  <thead>\n",
       "    <tr style=\"text-align: right;\">\n",
       "      <th></th>\n",
       "      <th>chrom</th>\n",
       "      <th>start</th>\n",
       "      <th>end</th>\n",
       "      <th>N_20-N4</th>\n",
       "      <th>N_5-N1</th>\n",
       "      <th>N_5-N2</th>\n",
       "      <th>N_20-N2</th>\n",
       "      <th>N_5-N3</th>\n",
       "      <th>N_20-N1</th>\n",
       "      <th>N_OC-N5</th>\n",
       "      <th>...</th>\n",
       "      <th>S_20-S4</th>\n",
       "      <th>S_5-S3</th>\n",
       "      <th>S_5-S4</th>\n",
       "      <th>S_5-S2</th>\n",
       "      <th>S_20-S2</th>\n",
       "      <th>S_5-S1</th>\n",
       "      <th>S_OC-S1</th>\n",
       "      <th>S_OC-S2</th>\n",
       "      <th>S_OC-S3</th>\n",
       "      <th>S_OC-S5</th>\n",
       "    </tr>\n",
       "  </thead>\n",
       "  <tbody>\n",
       "    <tr>\n",
       "      <td>0</td>\n",
       "      <td>NC_012312.1</td>\n",
       "      <td>60</td>\n",
       "      <td>61</td>\n",
       "      <td>NaN</td>\n",
       "      <td>NaN</td>\n",
       "      <td>NaN</td>\n",
       "      <td>NaN</td>\n",
       "      <td>NaN</td>\n",
       "      <td>NaN</td>\n",
       "      <td>NaN</td>\n",
       "      <td>...</td>\n",
       "      <td>0.00</td>\n",
       "      <td>NaN</td>\n",
       "      <td>NaN</td>\n",
       "      <td>NaN</td>\n",
       "      <td>NaN</td>\n",
       "      <td>NaN</td>\n",
       "      <td>NaN</td>\n",
       "      <td>NaN</td>\n",
       "      <td>NaN</td>\n",
       "      <td>NaN</td>\n",
       "    </tr>\n",
       "    <tr>\n",
       "      <td>1</td>\n",
       "      <td>NC_012312.1</td>\n",
       "      <td>61</td>\n",
       "      <td>62</td>\n",
       "      <td>0.0</td>\n",
       "      <td>NaN</td>\n",
       "      <td>NaN</td>\n",
       "      <td>0.0</td>\n",
       "      <td>NaN</td>\n",
       "      <td>NaN</td>\n",
       "      <td>NaN</td>\n",
       "      <td>...</td>\n",
       "      <td>NaN</td>\n",
       "      <td>NaN</td>\n",
       "      <td>NaN</td>\n",
       "      <td>0.00</td>\n",
       "      <td>NaN</td>\n",
       "      <td>NaN</td>\n",
       "      <td>NaN</td>\n",
       "      <td>NaN</td>\n",
       "      <td>NaN</td>\n",
       "      <td>NaN</td>\n",
       "    </tr>\n",
       "    <tr>\n",
       "      <td>2</td>\n",
       "      <td>NC_012312.1</td>\n",
       "      <td>126</td>\n",
       "      <td>127</td>\n",
       "      <td>NaN</td>\n",
       "      <td>0.0</td>\n",
       "      <td>NaN</td>\n",
       "      <td>0.0</td>\n",
       "      <td>NaN</td>\n",
       "      <td>NaN</td>\n",
       "      <td>NaN</td>\n",
       "      <td>...</td>\n",
       "      <td>0.00</td>\n",
       "      <td>NaN</td>\n",
       "      <td>NaN</td>\n",
       "      <td>NaN</td>\n",
       "      <td>NaN</td>\n",
       "      <td>NaN</td>\n",
       "      <td>NaN</td>\n",
       "      <td>NaN</td>\n",
       "      <td>NaN</td>\n",
       "      <td>NaN</td>\n",
       "    </tr>\n",
       "    <tr>\n",
       "      <td>3</td>\n",
       "      <td>NC_012312.1</td>\n",
       "      <td>127</td>\n",
       "      <td>128</td>\n",
       "      <td>NaN</td>\n",
       "      <td>NaN</td>\n",
       "      <td>0.0</td>\n",
       "      <td>NaN</td>\n",
       "      <td>NaN</td>\n",
       "      <td>NaN</td>\n",
       "      <td>0.0</td>\n",
       "      <td>...</td>\n",
       "      <td>0.00</td>\n",
       "      <td>NaN</td>\n",
       "      <td>NaN</td>\n",
       "      <td>NaN</td>\n",
       "      <td>0.00</td>\n",
       "      <td>NaN</td>\n",
       "      <td>NaN</td>\n",
       "      <td>NaN</td>\n",
       "      <td>NaN</td>\n",
       "      <td>NaN</td>\n",
       "    </tr>\n",
       "    <tr>\n",
       "      <td>4</td>\n",
       "      <td>NC_012312.1</td>\n",
       "      <td>296</td>\n",
       "      <td>297</td>\n",
       "      <td>NaN</td>\n",
       "      <td>NaN</td>\n",
       "      <td>NaN</td>\n",
       "      <td>NaN</td>\n",
       "      <td>NaN</td>\n",
       "      <td>NaN</td>\n",
       "      <td>NaN</td>\n",
       "      <td>...</td>\n",
       "      <td>0.05</td>\n",
       "      <td>0.01</td>\n",
       "      <td>0.02</td>\n",
       "      <td>0.04</td>\n",
       "      <td>0.03</td>\n",
       "      <td>0.01</td>\n",
       "      <td>0.01</td>\n",
       "      <td>0.01</td>\n",
       "      <td>NaN</td>\n",
       "      <td>0.03</td>\n",
       "    </tr>\n",
       "  </tbody>\n",
       "</table>\n",
       "<p>5 rows × 25 columns</p>\n",
       "</div>"
      ],
      "text/plain": [
       "         chrom  start  end  N_20-N4  N_5-N1  N_5-N2  N_20-N2  N_5-N3  N_20-N1  \\\n",
       "0  NC_012312.1     60   61      NaN     NaN     NaN      NaN     NaN      NaN   \n",
       "1  NC_012312.1     61   62      0.0     NaN     NaN      0.0     NaN      NaN   \n",
       "2  NC_012312.1    126  127      NaN     0.0     NaN      0.0     NaN      NaN   \n",
       "3  NC_012312.1    127  128      NaN     NaN     0.0      NaN     NaN      NaN   \n",
       "4  NC_012312.1    296  297      NaN     NaN     NaN      NaN     NaN      NaN   \n",
       "\n",
       "   N_OC-N5  ...  S_20-S4  S_5-S3  S_5-S4  S_5-S2  S_20-S2  S_5-S1  S_OC-S1  \\\n",
       "0      NaN  ...     0.00     NaN     NaN     NaN      NaN     NaN      NaN   \n",
       "1      NaN  ...      NaN     NaN     NaN    0.00      NaN     NaN      NaN   \n",
       "2      NaN  ...     0.00     NaN     NaN     NaN      NaN     NaN      NaN   \n",
       "3      0.0  ...     0.00     NaN     NaN     NaN     0.00     NaN      NaN   \n",
       "4      NaN  ...     0.05    0.01    0.02    0.04     0.03    0.01     0.01   \n",
       "\n",
       "   S_OC-S2  S_OC-S3  S_OC-S5  \n",
       "0      NaN      NaN      NaN  \n",
       "1      NaN      NaN      NaN  \n",
       "2      NaN      NaN      NaN  \n",
       "3      NaN      NaN      NaN  \n",
       "4     0.01      NaN     0.03  \n",
       "\n",
       "[5 rows x 25 columns]"
      ]
     },
     "execution_count": 13,
     "metadata": {},
     "output_type": "execute_result"
    }
   ],
   "source": [
    "#Import data into pandas\n",
    "#Check head\n",
    "df = pd.read_table(\"../union_10x.bedgraph\")\n",
    "df.head(5)"
   ]
  },
  {
   "cell_type": "code",
   "execution_count": 14,
   "metadata": {
    "scrolled": true
   },
   "outputs": [
    {
     "data": {
      "text/html": [
       "<div>\n",
       "<style scoped>\n",
       "    .dataframe tbody tr th:only-of-type {\n",
       "        vertical-align: middle;\n",
       "    }\n",
       "\n",
       "    .dataframe tbody tr th {\n",
       "        vertical-align: top;\n",
       "    }\n",
       "\n",
       "    .dataframe thead th {\n",
       "        text-align: right;\n",
       "    }\n",
       "</style>\n",
       "<table border=\"1\" class=\"dataframe\">\n",
       "  <thead>\n",
       "    <tr style=\"text-align: right;\">\n",
       "      <th></th>\n",
       "      <th>chrom</th>\n",
       "      <th>start</th>\n",
       "      <th>end</th>\n",
       "      <th>N_20-N4</th>\n",
       "      <th>N_5-N1</th>\n",
       "      <th>N_5-N2</th>\n",
       "      <th>N_20-N2</th>\n",
       "      <th>N_5-N3</th>\n",
       "      <th>N_20-N1</th>\n",
       "      <th>N_OC-N5</th>\n",
       "      <th>...</th>\n",
       "      <th>S_5-S3</th>\n",
       "      <th>S_5-S4</th>\n",
       "      <th>S_5-S2</th>\n",
       "      <th>S_20-S2</th>\n",
       "      <th>S_5-S1</th>\n",
       "      <th>S_OC-S1</th>\n",
       "      <th>S_OC-S2</th>\n",
       "      <th>S_OC-S3</th>\n",
       "      <th>S_OC-S5</th>\n",
       "      <th>average</th>\n",
       "    </tr>\n",
       "  </thead>\n",
       "  <tbody>\n",
       "    <tr>\n",
       "      <td>0</td>\n",
       "      <td>NC_012312.1</td>\n",
       "      <td>60</td>\n",
       "      <td>61</td>\n",
       "      <td>NaN</td>\n",
       "      <td>NaN</td>\n",
       "      <td>NaN</td>\n",
       "      <td>NaN</td>\n",
       "      <td>NaN</td>\n",
       "      <td>NaN</td>\n",
       "      <td>NaN</td>\n",
       "      <td>...</td>\n",
       "      <td>NaN</td>\n",
       "      <td>NaN</td>\n",
       "      <td>NaN</td>\n",
       "      <td>NaN</td>\n",
       "      <td>NaN</td>\n",
       "      <td>NaN</td>\n",
       "      <td>NaN</td>\n",
       "      <td>NaN</td>\n",
       "      <td>NaN</td>\n",
       "      <td>0.000000</td>\n",
       "    </tr>\n",
       "    <tr>\n",
       "      <td>1</td>\n",
       "      <td>NC_012312.1</td>\n",
       "      <td>61</td>\n",
       "      <td>62</td>\n",
       "      <td>0.0</td>\n",
       "      <td>NaN</td>\n",
       "      <td>NaN</td>\n",
       "      <td>0.00</td>\n",
       "      <td>NaN</td>\n",
       "      <td>NaN</td>\n",
       "      <td>NaN</td>\n",
       "      <td>...</td>\n",
       "      <td>NaN</td>\n",
       "      <td>NaN</td>\n",
       "      <td>0.00</td>\n",
       "      <td>NaN</td>\n",
       "      <td>NaN</td>\n",
       "      <td>NaN</td>\n",
       "      <td>NaN</td>\n",
       "      <td>NaN</td>\n",
       "      <td>NaN</td>\n",
       "      <td>0.000000</td>\n",
       "    </tr>\n",
       "    <tr>\n",
       "      <td>2</td>\n",
       "      <td>NC_012312.1</td>\n",
       "      <td>126</td>\n",
       "      <td>127</td>\n",
       "      <td>NaN</td>\n",
       "      <td>0.00</td>\n",
       "      <td>NaN</td>\n",
       "      <td>0.00</td>\n",
       "      <td>NaN</td>\n",
       "      <td>NaN</td>\n",
       "      <td>NaN</td>\n",
       "      <td>...</td>\n",
       "      <td>NaN</td>\n",
       "      <td>NaN</td>\n",
       "      <td>NaN</td>\n",
       "      <td>NaN</td>\n",
       "      <td>NaN</td>\n",
       "      <td>NaN</td>\n",
       "      <td>NaN</td>\n",
       "      <td>NaN</td>\n",
       "      <td>NaN</td>\n",
       "      <td>0.000000</td>\n",
       "    </tr>\n",
       "    <tr>\n",
       "      <td>3</td>\n",
       "      <td>NC_012312.1</td>\n",
       "      <td>127</td>\n",
       "      <td>128</td>\n",
       "      <td>NaN</td>\n",
       "      <td>NaN</td>\n",
       "      <td>0.0</td>\n",
       "      <td>NaN</td>\n",
       "      <td>NaN</td>\n",
       "      <td>NaN</td>\n",
       "      <td>0.0</td>\n",
       "      <td>...</td>\n",
       "      <td>NaN</td>\n",
       "      <td>NaN</td>\n",
       "      <td>NaN</td>\n",
       "      <td>0.00</td>\n",
       "      <td>NaN</td>\n",
       "      <td>NaN</td>\n",
       "      <td>NaN</td>\n",
       "      <td>NaN</td>\n",
       "      <td>NaN</td>\n",
       "      <td>0.000000</td>\n",
       "    </tr>\n",
       "    <tr>\n",
       "      <td>4</td>\n",
       "      <td>NC_012312.1</td>\n",
       "      <td>296</td>\n",
       "      <td>297</td>\n",
       "      <td>NaN</td>\n",
       "      <td>NaN</td>\n",
       "      <td>NaN</td>\n",
       "      <td>NaN</td>\n",
       "      <td>NaN</td>\n",
       "      <td>NaN</td>\n",
       "      <td>NaN</td>\n",
       "      <td>...</td>\n",
       "      <td>0.01</td>\n",
       "      <td>0.02</td>\n",
       "      <td>0.04</td>\n",
       "      <td>0.03</td>\n",
       "      <td>0.01</td>\n",
       "      <td>0.01</td>\n",
       "      <td>0.01</td>\n",
       "      <td>NaN</td>\n",
       "      <td>0.03</td>\n",
       "      <td>0.020833</td>\n",
       "    </tr>\n",
       "    <tr>\n",
       "      <td>5</td>\n",
       "      <td>NC_012312.1</td>\n",
       "      <td>307</td>\n",
       "      <td>308</td>\n",
       "      <td>NaN</td>\n",
       "      <td>0.00</td>\n",
       "      <td>NaN</td>\n",
       "      <td>NaN</td>\n",
       "      <td>0.00</td>\n",
       "      <td>NaN</td>\n",
       "      <td>NaN</td>\n",
       "      <td>...</td>\n",
       "      <td>NaN</td>\n",
       "      <td>NaN</td>\n",
       "      <td>NaN</td>\n",
       "      <td>0.00</td>\n",
       "      <td>0.00</td>\n",
       "      <td>NaN</td>\n",
       "      <td>NaN</td>\n",
       "      <td>0.0</td>\n",
       "      <td>NaN</td>\n",
       "      <td>0.068750</td>\n",
       "    </tr>\n",
       "    <tr>\n",
       "      <td>6</td>\n",
       "      <td>NC_012312.1</td>\n",
       "      <td>308</td>\n",
       "      <td>309</td>\n",
       "      <td>0.0</td>\n",
       "      <td>0.07</td>\n",
       "      <td>0.0</td>\n",
       "      <td>0.00</td>\n",
       "      <td>0.00</td>\n",
       "      <td>0.0</td>\n",
       "      <td>NaN</td>\n",
       "      <td>...</td>\n",
       "      <td>NaN</td>\n",
       "      <td>NaN</td>\n",
       "      <td>0.00</td>\n",
       "      <td>0.00</td>\n",
       "      <td>NaN</td>\n",
       "      <td>NaN</td>\n",
       "      <td>0.01</td>\n",
       "      <td>NaN</td>\n",
       "      <td>NaN</td>\n",
       "      <td>0.006154</td>\n",
       "    </tr>\n",
       "    <tr>\n",
       "      <td>7</td>\n",
       "      <td>NC_012312.1</td>\n",
       "      <td>319</td>\n",
       "      <td>320</td>\n",
       "      <td>NaN</td>\n",
       "      <td>NaN</td>\n",
       "      <td>NaN</td>\n",
       "      <td>NaN</td>\n",
       "      <td>0.00</td>\n",
       "      <td>NaN</td>\n",
       "      <td>NaN</td>\n",
       "      <td>...</td>\n",
       "      <td>NaN</td>\n",
       "      <td>NaN</td>\n",
       "      <td>NaN</td>\n",
       "      <td>0.00</td>\n",
       "      <td>0.00</td>\n",
       "      <td>NaN</td>\n",
       "      <td>NaN</td>\n",
       "      <td>0.0</td>\n",
       "      <td>NaN</td>\n",
       "      <td>0.000000</td>\n",
       "    </tr>\n",
       "    <tr>\n",
       "      <td>8</td>\n",
       "      <td>NC_012312.1</td>\n",
       "      <td>320</td>\n",
       "      <td>321</td>\n",
       "      <td>0.0</td>\n",
       "      <td>0.00</td>\n",
       "      <td>0.0</td>\n",
       "      <td>0.08</td>\n",
       "      <td>0.00</td>\n",
       "      <td>0.0</td>\n",
       "      <td>NaN</td>\n",
       "      <td>...</td>\n",
       "      <td>NaN</td>\n",
       "      <td>NaN</td>\n",
       "      <td>0.00</td>\n",
       "      <td>0.00</td>\n",
       "      <td>NaN</td>\n",
       "      <td>NaN</td>\n",
       "      <td>0.00</td>\n",
       "      <td>NaN</td>\n",
       "      <td>NaN</td>\n",
       "      <td>0.006154</td>\n",
       "    </tr>\n",
       "    <tr>\n",
       "      <td>9</td>\n",
       "      <td>NC_012312.1</td>\n",
       "      <td>321</td>\n",
       "      <td>322</td>\n",
       "      <td>NaN</td>\n",
       "      <td>NaN</td>\n",
       "      <td>NaN</td>\n",
       "      <td>NaN</td>\n",
       "      <td>0.01</td>\n",
       "      <td>NaN</td>\n",
       "      <td>NaN</td>\n",
       "      <td>...</td>\n",
       "      <td>NaN</td>\n",
       "      <td>NaN</td>\n",
       "      <td>NaN</td>\n",
       "      <td>0.03</td>\n",
       "      <td>0.00</td>\n",
       "      <td>NaN</td>\n",
       "      <td>NaN</td>\n",
       "      <td>0.0</td>\n",
       "      <td>NaN</td>\n",
       "      <td>0.005714</td>\n",
       "    </tr>\n",
       "  </tbody>\n",
       "</table>\n",
       "<p>10 rows × 26 columns</p>\n",
       "</div>"
      ],
      "text/plain": [
       "         chrom  start  end  N_20-N4  N_5-N1  N_5-N2  N_20-N2  N_5-N3  N_20-N1  \\\n",
       "0  NC_012312.1     60   61      NaN     NaN     NaN      NaN     NaN      NaN   \n",
       "1  NC_012312.1     61   62      0.0     NaN     NaN     0.00     NaN      NaN   \n",
       "2  NC_012312.1    126  127      NaN    0.00     NaN     0.00     NaN      NaN   \n",
       "3  NC_012312.1    127  128      NaN     NaN     0.0      NaN     NaN      NaN   \n",
       "4  NC_012312.1    296  297      NaN     NaN     NaN      NaN     NaN      NaN   \n",
       "5  NC_012312.1    307  308      NaN    0.00     NaN      NaN    0.00      NaN   \n",
       "6  NC_012312.1    308  309      0.0    0.07     0.0     0.00    0.00      0.0   \n",
       "7  NC_012312.1    319  320      NaN     NaN     NaN      NaN    0.00      NaN   \n",
       "8  NC_012312.1    320  321      0.0    0.00     0.0     0.08    0.00      0.0   \n",
       "9  NC_012312.1    321  322      NaN     NaN     NaN      NaN    0.01      NaN   \n",
       "\n",
       "   N_OC-N5  ...  S_5-S3  S_5-S4  S_5-S2  S_20-S2  S_5-S1  S_OC-S1  S_OC-S2  \\\n",
       "0      NaN  ...     NaN     NaN     NaN      NaN     NaN      NaN      NaN   \n",
       "1      NaN  ...     NaN     NaN    0.00      NaN     NaN      NaN      NaN   \n",
       "2      NaN  ...     NaN     NaN     NaN      NaN     NaN      NaN      NaN   \n",
       "3      0.0  ...     NaN     NaN     NaN     0.00     NaN      NaN      NaN   \n",
       "4      NaN  ...    0.01    0.02    0.04     0.03    0.01     0.01     0.01   \n",
       "5      NaN  ...     NaN     NaN     NaN     0.00    0.00      NaN      NaN   \n",
       "6      NaN  ...     NaN     NaN    0.00     0.00     NaN      NaN     0.01   \n",
       "7      NaN  ...     NaN     NaN     NaN     0.00    0.00      NaN      NaN   \n",
       "8      NaN  ...     NaN     NaN    0.00     0.00     NaN      NaN     0.00   \n",
       "9      NaN  ...     NaN     NaN     NaN     0.03    0.00      NaN      NaN   \n",
       "\n",
       "   S_OC-S3  S_OC-S5   average  \n",
       "0      NaN      NaN  0.000000  \n",
       "1      NaN      NaN  0.000000  \n",
       "2      NaN      NaN  0.000000  \n",
       "3      NaN      NaN  0.000000  \n",
       "4      NaN     0.03  0.020833  \n",
       "5      0.0      NaN  0.068750  \n",
       "6      NaN      NaN  0.006154  \n",
       "7      0.0      NaN  0.000000  \n",
       "8      NaN      NaN  0.006154  \n",
       "9      0.0      NaN  0.005714  \n",
       "\n",
       "[10 rows x 26 columns]"
      ]
     },
     "execution_count": 14,
     "metadata": {},
     "output_type": "execute_result"
    }
   ],
   "source": [
    "#Average all samples for total genome methylation information and save as a new column\n",
    "#NA are not included in averages\n",
    "#Check output\n",
    "df['average'] = df[['N_20-N4', 'N_5-N1', 'N_5-N2', 'N_20-N2', 'N_5-N3', 'N_20-N1', 'N_OC-N5', 'N_OC-N1', 'N_OC-N2', 'N_OC-N4', 'S_20-S1', 'S_20-S3', 'S_20-S4', 'S_5-S3', 'S_5-S4', 'S_5-S2', 'S_20-S2', 'S_5-S1', 'S_OC-S1', 'S_OC-S2', 'S_OC-S3', 'S_OC-S5']].mean(axis=1)\n",
    "df.head(10)"
   ]
  },
  {
   "cell_type": "code",
   "execution_count": 15,
   "metadata": {},
   "outputs": [
    {
     "data": {
      "text/html": [
       "<div>\n",
       "<style scoped>\n",
       "    .dataframe tbody tr th:only-of-type {\n",
       "        vertical-align: middle;\n",
       "    }\n",
       "\n",
       "    .dataframe tbody tr th {\n",
       "        vertical-align: top;\n",
       "    }\n",
       "\n",
       "    .dataframe thead th {\n",
       "        text-align: right;\n",
       "    }\n",
       "</style>\n",
       "<table border=\"1\" class=\"dataframe\">\n",
       "  <thead>\n",
       "    <tr style=\"text-align: right;\">\n",
       "      <th></th>\n",
       "      <th>chrom</th>\n",
       "      <th>start</th>\n",
       "      <th>end</th>\n",
       "      <th>N_20-N4</th>\n",
       "      <th>N_5-N1</th>\n",
       "      <th>N_5-N2</th>\n",
       "      <th>N_20-N2</th>\n",
       "      <th>N_5-N3</th>\n",
       "      <th>N_20-N1</th>\n",
       "      <th>N_OC-N5</th>\n",
       "      <th>...</th>\n",
       "      <th>S_5-S1</th>\n",
       "      <th>S_OC-S1</th>\n",
       "      <th>S_OC-S2</th>\n",
       "      <th>S_OC-S3</th>\n",
       "      <th>S_OC-S5</th>\n",
       "      <th>average</th>\n",
       "      <th>NBH.average</th>\n",
       "      <th>NBH.OC.average</th>\n",
       "      <th>NBH.NO.average</th>\n",
       "      <th>NBH.HY.average</th>\n",
       "    </tr>\n",
       "  </thead>\n",
       "  <tbody>\n",
       "    <tr>\n",
       "      <td>0</td>\n",
       "      <td>NC_012312.1</td>\n",
       "      <td>60</td>\n",
       "      <td>61</td>\n",
       "      <td>NaN</td>\n",
       "      <td>NaN</td>\n",
       "      <td>NaN</td>\n",
       "      <td>NaN</td>\n",
       "      <td>NaN</td>\n",
       "      <td>NaN</td>\n",
       "      <td>NaN</td>\n",
       "      <td>...</td>\n",
       "      <td>NaN</td>\n",
       "      <td>NaN</td>\n",
       "      <td>NaN</td>\n",
       "      <td>NaN</td>\n",
       "      <td>NaN</td>\n",
       "      <td>0.000000</td>\n",
       "      <td>0.00000</td>\n",
       "      <td>0.00</td>\n",
       "      <td>NaN</td>\n",
       "      <td>NaN</td>\n",
       "    </tr>\n",
       "    <tr>\n",
       "      <td>1</td>\n",
       "      <td>NC_012312.1</td>\n",
       "      <td>61</td>\n",
       "      <td>62</td>\n",
       "      <td>0.0</td>\n",
       "      <td>NaN</td>\n",
       "      <td>NaN</td>\n",
       "      <td>0.00</td>\n",
       "      <td>NaN</td>\n",
       "      <td>NaN</td>\n",
       "      <td>NaN</td>\n",
       "      <td>...</td>\n",
       "      <td>NaN</td>\n",
       "      <td>NaN</td>\n",
       "      <td>NaN</td>\n",
       "      <td>NaN</td>\n",
       "      <td>NaN</td>\n",
       "      <td>0.000000</td>\n",
       "      <td>0.00000</td>\n",
       "      <td>NaN</td>\n",
       "      <td>0.000000</td>\n",
       "      <td>NaN</td>\n",
       "    </tr>\n",
       "    <tr>\n",
       "      <td>2</td>\n",
       "      <td>NC_012312.1</td>\n",
       "      <td>126</td>\n",
       "      <td>127</td>\n",
       "      <td>NaN</td>\n",
       "      <td>0.00</td>\n",
       "      <td>NaN</td>\n",
       "      <td>0.00</td>\n",
       "      <td>NaN</td>\n",
       "      <td>NaN</td>\n",
       "      <td>NaN</td>\n",
       "      <td>...</td>\n",
       "      <td>NaN</td>\n",
       "      <td>NaN</td>\n",
       "      <td>NaN</td>\n",
       "      <td>NaN</td>\n",
       "      <td>NaN</td>\n",
       "      <td>0.000000</td>\n",
       "      <td>0.00000</td>\n",
       "      <td>NaN</td>\n",
       "      <td>0.000000</td>\n",
       "      <td>0.000000</td>\n",
       "    </tr>\n",
       "    <tr>\n",
       "      <td>3</td>\n",
       "      <td>NC_012312.1</td>\n",
       "      <td>127</td>\n",
       "      <td>128</td>\n",
       "      <td>NaN</td>\n",
       "      <td>NaN</td>\n",
       "      <td>0.0</td>\n",
       "      <td>NaN</td>\n",
       "      <td>NaN</td>\n",
       "      <td>NaN</td>\n",
       "      <td>0.0</td>\n",
       "      <td>...</td>\n",
       "      <td>NaN</td>\n",
       "      <td>NaN</td>\n",
       "      <td>NaN</td>\n",
       "      <td>NaN</td>\n",
       "      <td>NaN</td>\n",
       "      <td>0.000000</td>\n",
       "      <td>0.00000</td>\n",
       "      <td>0.00</td>\n",
       "      <td>NaN</td>\n",
       "      <td>0.000000</td>\n",
       "    </tr>\n",
       "    <tr>\n",
       "      <td>4</td>\n",
       "      <td>NC_012312.1</td>\n",
       "      <td>296</td>\n",
       "      <td>297</td>\n",
       "      <td>NaN</td>\n",
       "      <td>NaN</td>\n",
       "      <td>NaN</td>\n",
       "      <td>NaN</td>\n",
       "      <td>NaN</td>\n",
       "      <td>NaN</td>\n",
       "      <td>NaN</td>\n",
       "      <td>...</td>\n",
       "      <td>0.01</td>\n",
       "      <td>0.01</td>\n",
       "      <td>0.01</td>\n",
       "      <td>NaN</td>\n",
       "      <td>0.03</td>\n",
       "      <td>0.020833</td>\n",
       "      <td>0.01000</td>\n",
       "      <td>0.01</td>\n",
       "      <td>NaN</td>\n",
       "      <td>NaN</td>\n",
       "    </tr>\n",
       "    <tr>\n",
       "      <td>5</td>\n",
       "      <td>NC_012312.1</td>\n",
       "      <td>307</td>\n",
       "      <td>308</td>\n",
       "      <td>NaN</td>\n",
       "      <td>0.00</td>\n",
       "      <td>NaN</td>\n",
       "      <td>NaN</td>\n",
       "      <td>0.00</td>\n",
       "      <td>NaN</td>\n",
       "      <td>NaN</td>\n",
       "      <td>...</td>\n",
       "      <td>0.00</td>\n",
       "      <td>NaN</td>\n",
       "      <td>NaN</td>\n",
       "      <td>0.0</td>\n",
       "      <td>NaN</td>\n",
       "      <td>0.068750</td>\n",
       "      <td>0.00000</td>\n",
       "      <td>0.00</td>\n",
       "      <td>NaN</td>\n",
       "      <td>0.000000</td>\n",
       "    </tr>\n",
       "    <tr>\n",
       "      <td>6</td>\n",
       "      <td>NC_012312.1</td>\n",
       "      <td>308</td>\n",
       "      <td>309</td>\n",
       "      <td>0.0</td>\n",
       "      <td>0.07</td>\n",
       "      <td>0.0</td>\n",
       "      <td>0.00</td>\n",
       "      <td>0.00</td>\n",
       "      <td>0.0</td>\n",
       "      <td>NaN</td>\n",
       "      <td>...</td>\n",
       "      <td>NaN</td>\n",
       "      <td>NaN</td>\n",
       "      <td>0.01</td>\n",
       "      <td>NaN</td>\n",
       "      <td>NaN</td>\n",
       "      <td>0.006154</td>\n",
       "      <td>0.00875</td>\n",
       "      <td>0.00</td>\n",
       "      <td>0.000000</td>\n",
       "      <td>0.023333</td>\n",
       "    </tr>\n",
       "    <tr>\n",
       "      <td>7</td>\n",
       "      <td>NC_012312.1</td>\n",
       "      <td>319</td>\n",
       "      <td>320</td>\n",
       "      <td>NaN</td>\n",
       "      <td>NaN</td>\n",
       "      <td>NaN</td>\n",
       "      <td>NaN</td>\n",
       "      <td>0.00</td>\n",
       "      <td>NaN</td>\n",
       "      <td>NaN</td>\n",
       "      <td>...</td>\n",
       "      <td>0.00</td>\n",
       "      <td>NaN</td>\n",
       "      <td>NaN</td>\n",
       "      <td>0.0</td>\n",
       "      <td>NaN</td>\n",
       "      <td>0.000000</td>\n",
       "      <td>0.00000</td>\n",
       "      <td>0.00</td>\n",
       "      <td>NaN</td>\n",
       "      <td>0.000000</td>\n",
       "    </tr>\n",
       "    <tr>\n",
       "      <td>8</td>\n",
       "      <td>NC_012312.1</td>\n",
       "      <td>320</td>\n",
       "      <td>321</td>\n",
       "      <td>0.0</td>\n",
       "      <td>0.00</td>\n",
       "      <td>0.0</td>\n",
       "      <td>0.08</td>\n",
       "      <td>0.00</td>\n",
       "      <td>0.0</td>\n",
       "      <td>NaN</td>\n",
       "      <td>...</td>\n",
       "      <td>NaN</td>\n",
       "      <td>NaN</td>\n",
       "      <td>0.00</td>\n",
       "      <td>NaN</td>\n",
       "      <td>NaN</td>\n",
       "      <td>0.006154</td>\n",
       "      <td>0.01000</td>\n",
       "      <td>0.00</td>\n",
       "      <td>0.026667</td>\n",
       "      <td>0.000000</td>\n",
       "    </tr>\n",
       "    <tr>\n",
       "      <td>9</td>\n",
       "      <td>NC_012312.1</td>\n",
       "      <td>321</td>\n",
       "      <td>322</td>\n",
       "      <td>NaN</td>\n",
       "      <td>NaN</td>\n",
       "      <td>NaN</td>\n",
       "      <td>NaN</td>\n",
       "      <td>0.01</td>\n",
       "      <td>NaN</td>\n",
       "      <td>NaN</td>\n",
       "      <td>...</td>\n",
       "      <td>0.00</td>\n",
       "      <td>NaN</td>\n",
       "      <td>NaN</td>\n",
       "      <td>0.0</td>\n",
       "      <td>NaN</td>\n",
       "      <td>0.005714</td>\n",
       "      <td>0.00500</td>\n",
       "      <td>0.00</td>\n",
       "      <td>NaN</td>\n",
       "      <td>0.010000</td>\n",
       "    </tr>\n",
       "  </tbody>\n",
       "</table>\n",
       "<p>10 rows × 30 columns</p>\n",
       "</div>"
      ],
      "text/plain": [
       "         chrom  start  end  N_20-N4  N_5-N1  N_5-N2  N_20-N2  N_5-N3  N_20-N1  \\\n",
       "0  NC_012312.1     60   61      NaN     NaN     NaN      NaN     NaN      NaN   \n",
       "1  NC_012312.1     61   62      0.0     NaN     NaN     0.00     NaN      NaN   \n",
       "2  NC_012312.1    126  127      NaN    0.00     NaN     0.00     NaN      NaN   \n",
       "3  NC_012312.1    127  128      NaN     NaN     0.0      NaN     NaN      NaN   \n",
       "4  NC_012312.1    296  297      NaN     NaN     NaN      NaN     NaN      NaN   \n",
       "5  NC_012312.1    307  308      NaN    0.00     NaN      NaN    0.00      NaN   \n",
       "6  NC_012312.1    308  309      0.0    0.07     0.0     0.00    0.00      0.0   \n",
       "7  NC_012312.1    319  320      NaN     NaN     NaN      NaN    0.00      NaN   \n",
       "8  NC_012312.1    320  321      0.0    0.00     0.0     0.08    0.00      0.0   \n",
       "9  NC_012312.1    321  322      NaN     NaN     NaN      NaN    0.01      NaN   \n",
       "\n",
       "   N_OC-N5  ...  S_5-S1  S_OC-S1  S_OC-S2  S_OC-S3  S_OC-S5   average  \\\n",
       "0      NaN  ...     NaN      NaN      NaN      NaN      NaN  0.000000   \n",
       "1      NaN  ...     NaN      NaN      NaN      NaN      NaN  0.000000   \n",
       "2      NaN  ...     NaN      NaN      NaN      NaN      NaN  0.000000   \n",
       "3      0.0  ...     NaN      NaN      NaN      NaN      NaN  0.000000   \n",
       "4      NaN  ...    0.01     0.01     0.01      NaN     0.03  0.020833   \n",
       "5      NaN  ...    0.00      NaN      NaN      0.0      NaN  0.068750   \n",
       "6      NaN  ...     NaN      NaN     0.01      NaN      NaN  0.006154   \n",
       "7      NaN  ...    0.00      NaN      NaN      0.0      NaN  0.000000   \n",
       "8      NaN  ...     NaN      NaN     0.00      NaN      NaN  0.006154   \n",
       "9      NaN  ...    0.00      NaN      NaN      0.0      NaN  0.005714   \n",
       "\n",
       "   NBH.average  NBH.OC.average  NBH.NO.average  NBH.HY.average  \n",
       "0      0.00000            0.00             NaN             NaN  \n",
       "1      0.00000             NaN        0.000000             NaN  \n",
       "2      0.00000             NaN        0.000000        0.000000  \n",
       "3      0.00000            0.00             NaN        0.000000  \n",
       "4      0.01000            0.01             NaN             NaN  \n",
       "5      0.00000            0.00             NaN        0.000000  \n",
       "6      0.00875            0.00        0.000000        0.023333  \n",
       "7      0.00000            0.00             NaN        0.000000  \n",
       "8      0.01000            0.00        0.026667        0.000000  \n",
       "9      0.00500            0.00             NaN        0.010000  \n",
       "\n",
       "[10 rows x 30 columns]"
      ]
     },
     "execution_count": 15,
     "metadata": {},
     "output_type": "execute_result"
    }
   ],
   "source": [
    "#Average all NBH samples and NBH x treatment samples\n",
    "#NA are not included in averages\n",
    "#Check output\n",
    "df['NBH.average'] = df[['N_20-N4', 'N_5-N1', 'N_5-N2', 'N_20-N2', 'N_5-N3', 'N_20-N1', 'N_OC-N5', 'N_OC-N1', 'N_OC-N2', 'N_OC-N4']].mean(axis=1)\n",
    "df['NBH.OC.average'] = df[['N_OC-N5', 'N_OC-N1', 'N_OC-N2', 'N_OC-N4']].mean(axis=1)\n",
    "df['NBH.NO.average'] = df[['N_20-N4', 'N_20-N2', 'N_20-N1']].mean(axis=1)\n",
    "df['NBH.HY.average'] = df[['N_5-N1', 'N_5-N2', 'N_5-N3']].mean(axis=1)\n",
    "df.head(10)"
   ]
  },
  {
   "cell_type": "code",
   "execution_count": 16,
   "metadata": {},
   "outputs": [
    {
     "data": {
      "text/html": [
       "<div>\n",
       "<style scoped>\n",
       "    .dataframe tbody tr th:only-of-type {\n",
       "        vertical-align: middle;\n",
       "    }\n",
       "\n",
       "    .dataframe tbody tr th {\n",
       "        vertical-align: top;\n",
       "    }\n",
       "\n",
       "    .dataframe thead th {\n",
       "        text-align: right;\n",
       "    }\n",
       "</style>\n",
       "<table border=\"1\" class=\"dataframe\">\n",
       "  <thead>\n",
       "    <tr style=\"text-align: right;\">\n",
       "      <th></th>\n",
       "      <th>chrom</th>\n",
       "      <th>start</th>\n",
       "      <th>end</th>\n",
       "      <th>N_20-N4</th>\n",
       "      <th>N_5-N1</th>\n",
       "      <th>N_5-N2</th>\n",
       "      <th>N_20-N2</th>\n",
       "      <th>N_5-N3</th>\n",
       "      <th>N_20-N1</th>\n",
       "      <th>N_OC-N5</th>\n",
       "      <th>...</th>\n",
       "      <th>S_OC-S5</th>\n",
       "      <th>average</th>\n",
       "      <th>NBH.average</th>\n",
       "      <th>NBH.OC.average</th>\n",
       "      <th>NBH.NO.average</th>\n",
       "      <th>NBH.HY.average</th>\n",
       "      <th>SC.average</th>\n",
       "      <th>SC.OC.average</th>\n",
       "      <th>SC.NO.average</th>\n",
       "      <th>SC.HY.average</th>\n",
       "    </tr>\n",
       "  </thead>\n",
       "  <tbody>\n",
       "    <tr>\n",
       "      <td>0</td>\n",
       "      <td>NC_012312.1</td>\n",
       "      <td>60</td>\n",
       "      <td>61</td>\n",
       "      <td>NaN</td>\n",
       "      <td>NaN</td>\n",
       "      <td>NaN</td>\n",
       "      <td>NaN</td>\n",
       "      <td>NaN</td>\n",
       "      <td>NaN</td>\n",
       "      <td>NaN</td>\n",
       "      <td>...</td>\n",
       "      <td>NaN</td>\n",
       "      <td>0.000000</td>\n",
       "      <td>0.00000</td>\n",
       "      <td>0.00</td>\n",
       "      <td>NaN</td>\n",
       "      <td>NaN</td>\n",
       "      <td>0.000000</td>\n",
       "      <td>NaN</td>\n",
       "      <td>0.000000</td>\n",
       "      <td>NaN</td>\n",
       "    </tr>\n",
       "    <tr>\n",
       "      <td>1</td>\n",
       "      <td>NC_012312.1</td>\n",
       "      <td>61</td>\n",
       "      <td>62</td>\n",
       "      <td>0.0</td>\n",
       "      <td>NaN</td>\n",
       "      <td>NaN</td>\n",
       "      <td>0.00</td>\n",
       "      <td>NaN</td>\n",
       "      <td>NaN</td>\n",
       "      <td>NaN</td>\n",
       "      <td>...</td>\n",
       "      <td>NaN</td>\n",
       "      <td>0.000000</td>\n",
       "      <td>0.00000</td>\n",
       "      <td>NaN</td>\n",
       "      <td>0.000000</td>\n",
       "      <td>NaN</td>\n",
       "      <td>0.000000</td>\n",
       "      <td>NaN</td>\n",
       "      <td>NaN</td>\n",
       "      <td>0.00</td>\n",
       "    </tr>\n",
       "    <tr>\n",
       "      <td>2</td>\n",
       "      <td>NC_012312.1</td>\n",
       "      <td>126</td>\n",
       "      <td>127</td>\n",
       "      <td>NaN</td>\n",
       "      <td>0.00</td>\n",
       "      <td>NaN</td>\n",
       "      <td>0.00</td>\n",
       "      <td>NaN</td>\n",
       "      <td>NaN</td>\n",
       "      <td>NaN</td>\n",
       "      <td>...</td>\n",
       "      <td>NaN</td>\n",
       "      <td>0.000000</td>\n",
       "      <td>0.00000</td>\n",
       "      <td>NaN</td>\n",
       "      <td>0.000000</td>\n",
       "      <td>0.000000</td>\n",
       "      <td>0.000000</td>\n",
       "      <td>NaN</td>\n",
       "      <td>0.000000</td>\n",
       "      <td>NaN</td>\n",
       "    </tr>\n",
       "    <tr>\n",
       "      <td>3</td>\n",
       "      <td>NC_012312.1</td>\n",
       "      <td>127</td>\n",
       "      <td>128</td>\n",
       "      <td>NaN</td>\n",
       "      <td>NaN</td>\n",
       "      <td>0.0</td>\n",
       "      <td>NaN</td>\n",
       "      <td>NaN</td>\n",
       "      <td>NaN</td>\n",
       "      <td>0.0</td>\n",
       "      <td>...</td>\n",
       "      <td>NaN</td>\n",
       "      <td>0.000000</td>\n",
       "      <td>0.00000</td>\n",
       "      <td>0.00</td>\n",
       "      <td>NaN</td>\n",
       "      <td>0.000000</td>\n",
       "      <td>0.000000</td>\n",
       "      <td>NaN</td>\n",
       "      <td>0.000000</td>\n",
       "      <td>NaN</td>\n",
       "    </tr>\n",
       "    <tr>\n",
       "      <td>4</td>\n",
       "      <td>NC_012312.1</td>\n",
       "      <td>296</td>\n",
       "      <td>297</td>\n",
       "      <td>NaN</td>\n",
       "      <td>NaN</td>\n",
       "      <td>NaN</td>\n",
       "      <td>NaN</td>\n",
       "      <td>NaN</td>\n",
       "      <td>NaN</td>\n",
       "      <td>NaN</td>\n",
       "      <td>...</td>\n",
       "      <td>0.03</td>\n",
       "      <td>0.020833</td>\n",
       "      <td>0.01000</td>\n",
       "      <td>0.01</td>\n",
       "      <td>NaN</td>\n",
       "      <td>NaN</td>\n",
       "      <td>0.021818</td>\n",
       "      <td>0.016667</td>\n",
       "      <td>0.027500</td>\n",
       "      <td>0.02</td>\n",
       "    </tr>\n",
       "    <tr>\n",
       "      <td>5</td>\n",
       "      <td>NC_012312.1</td>\n",
       "      <td>307</td>\n",
       "      <td>308</td>\n",
       "      <td>NaN</td>\n",
       "      <td>0.00</td>\n",
       "      <td>NaN</td>\n",
       "      <td>NaN</td>\n",
       "      <td>0.00</td>\n",
       "      <td>NaN</td>\n",
       "      <td>NaN</td>\n",
       "      <td>...</td>\n",
       "      <td>NaN</td>\n",
       "      <td>0.068750</td>\n",
       "      <td>0.00000</td>\n",
       "      <td>0.00</td>\n",
       "      <td>NaN</td>\n",
       "      <td>0.000000</td>\n",
       "      <td>0.110000</td>\n",
       "      <td>0.000000</td>\n",
       "      <td>0.183333</td>\n",
       "      <td>0.00</td>\n",
       "    </tr>\n",
       "    <tr>\n",
       "      <td>6</td>\n",
       "      <td>NC_012312.1</td>\n",
       "      <td>308</td>\n",
       "      <td>309</td>\n",
       "      <td>0.0</td>\n",
       "      <td>0.07</td>\n",
       "      <td>0.0</td>\n",
       "      <td>0.00</td>\n",
       "      <td>0.00</td>\n",
       "      <td>0.0</td>\n",
       "      <td>NaN</td>\n",
       "      <td>...</td>\n",
       "      <td>NaN</td>\n",
       "      <td>0.006154</td>\n",
       "      <td>0.00875</td>\n",
       "      <td>0.00</td>\n",
       "      <td>0.000000</td>\n",
       "      <td>0.023333</td>\n",
       "      <td>0.002000</td>\n",
       "      <td>0.010000</td>\n",
       "      <td>0.000000</td>\n",
       "      <td>0.00</td>\n",
       "    </tr>\n",
       "    <tr>\n",
       "      <td>7</td>\n",
       "      <td>NC_012312.1</td>\n",
       "      <td>319</td>\n",
       "      <td>320</td>\n",
       "      <td>NaN</td>\n",
       "      <td>NaN</td>\n",
       "      <td>NaN</td>\n",
       "      <td>NaN</td>\n",
       "      <td>0.00</td>\n",
       "      <td>NaN</td>\n",
       "      <td>NaN</td>\n",
       "      <td>...</td>\n",
       "      <td>NaN</td>\n",
       "      <td>0.000000</td>\n",
       "      <td>0.00000</td>\n",
       "      <td>0.00</td>\n",
       "      <td>NaN</td>\n",
       "      <td>0.000000</td>\n",
       "      <td>0.000000</td>\n",
       "      <td>0.000000</td>\n",
       "      <td>0.000000</td>\n",
       "      <td>0.00</td>\n",
       "    </tr>\n",
       "    <tr>\n",
       "      <td>8</td>\n",
       "      <td>NC_012312.1</td>\n",
       "      <td>320</td>\n",
       "      <td>321</td>\n",
       "      <td>0.0</td>\n",
       "      <td>0.00</td>\n",
       "      <td>0.0</td>\n",
       "      <td>0.08</td>\n",
       "      <td>0.00</td>\n",
       "      <td>0.0</td>\n",
       "      <td>NaN</td>\n",
       "      <td>...</td>\n",
       "      <td>NaN</td>\n",
       "      <td>0.006154</td>\n",
       "      <td>0.01000</td>\n",
       "      <td>0.00</td>\n",
       "      <td>0.026667</td>\n",
       "      <td>0.000000</td>\n",
       "      <td>0.000000</td>\n",
       "      <td>0.000000</td>\n",
       "      <td>0.000000</td>\n",
       "      <td>0.00</td>\n",
       "    </tr>\n",
       "    <tr>\n",
       "      <td>9</td>\n",
       "      <td>NC_012312.1</td>\n",
       "      <td>321</td>\n",
       "      <td>322</td>\n",
       "      <td>NaN</td>\n",
       "      <td>NaN</td>\n",
       "      <td>NaN</td>\n",
       "      <td>NaN</td>\n",
       "      <td>0.01</td>\n",
       "      <td>NaN</td>\n",
       "      <td>NaN</td>\n",
       "      <td>...</td>\n",
       "      <td>NaN</td>\n",
       "      <td>0.005714</td>\n",
       "      <td>0.00500</td>\n",
       "      <td>0.00</td>\n",
       "      <td>NaN</td>\n",
       "      <td>0.010000</td>\n",
       "      <td>0.006000</td>\n",
       "      <td>0.000000</td>\n",
       "      <td>0.010000</td>\n",
       "      <td>0.00</td>\n",
       "    </tr>\n",
       "  </tbody>\n",
       "</table>\n",
       "<p>10 rows × 34 columns</p>\n",
       "</div>"
      ],
      "text/plain": [
       "         chrom  start  end  N_20-N4  N_5-N1  N_5-N2  N_20-N2  N_5-N3  N_20-N1  \\\n",
       "0  NC_012312.1     60   61      NaN     NaN     NaN      NaN     NaN      NaN   \n",
       "1  NC_012312.1     61   62      0.0     NaN     NaN     0.00     NaN      NaN   \n",
       "2  NC_012312.1    126  127      NaN    0.00     NaN     0.00     NaN      NaN   \n",
       "3  NC_012312.1    127  128      NaN     NaN     0.0      NaN     NaN      NaN   \n",
       "4  NC_012312.1    296  297      NaN     NaN     NaN      NaN     NaN      NaN   \n",
       "5  NC_012312.1    307  308      NaN    0.00     NaN      NaN    0.00      NaN   \n",
       "6  NC_012312.1    308  309      0.0    0.07     0.0     0.00    0.00      0.0   \n",
       "7  NC_012312.1    319  320      NaN     NaN     NaN      NaN    0.00      NaN   \n",
       "8  NC_012312.1    320  321      0.0    0.00     0.0     0.08    0.00      0.0   \n",
       "9  NC_012312.1    321  322      NaN     NaN     NaN      NaN    0.01      NaN   \n",
       "\n",
       "   N_OC-N5  ...  S_OC-S5   average  NBH.average  NBH.OC.average  \\\n",
       "0      NaN  ...      NaN  0.000000      0.00000            0.00   \n",
       "1      NaN  ...      NaN  0.000000      0.00000             NaN   \n",
       "2      NaN  ...      NaN  0.000000      0.00000             NaN   \n",
       "3      0.0  ...      NaN  0.000000      0.00000            0.00   \n",
       "4      NaN  ...     0.03  0.020833      0.01000            0.01   \n",
       "5      NaN  ...      NaN  0.068750      0.00000            0.00   \n",
       "6      NaN  ...      NaN  0.006154      0.00875            0.00   \n",
       "7      NaN  ...      NaN  0.000000      0.00000            0.00   \n",
       "8      NaN  ...      NaN  0.006154      0.01000            0.00   \n",
       "9      NaN  ...      NaN  0.005714      0.00500            0.00   \n",
       "\n",
       "   NBH.NO.average  NBH.HY.average  SC.average  SC.OC.average  SC.NO.average  \\\n",
       "0             NaN             NaN    0.000000            NaN       0.000000   \n",
       "1        0.000000             NaN    0.000000            NaN            NaN   \n",
       "2        0.000000        0.000000    0.000000            NaN       0.000000   \n",
       "3             NaN        0.000000    0.000000            NaN       0.000000   \n",
       "4             NaN             NaN    0.021818       0.016667       0.027500   \n",
       "5             NaN        0.000000    0.110000       0.000000       0.183333   \n",
       "6        0.000000        0.023333    0.002000       0.010000       0.000000   \n",
       "7             NaN        0.000000    0.000000       0.000000       0.000000   \n",
       "8        0.026667        0.000000    0.000000       0.000000       0.000000   \n",
       "9             NaN        0.010000    0.006000       0.000000       0.010000   \n",
       "\n",
       "   SC.HY.average  \n",
       "0            NaN  \n",
       "1           0.00  \n",
       "2            NaN  \n",
       "3            NaN  \n",
       "4           0.02  \n",
       "5           0.00  \n",
       "6           0.00  \n",
       "7           0.00  \n",
       "8           0.00  \n",
       "9           0.00  \n",
       "\n",
       "[10 rows x 34 columns]"
      ]
     },
     "execution_count": 16,
     "metadata": {},
     "output_type": "execute_result"
    }
   ],
   "source": [
    "#Average all SC samples and SC x treatment samples\n",
    "#NA are not included in averages\n",
    "#Check output\n",
    "df['SC.average'] = df[['S_20-S1', 'S_20-S3', 'S_20-S4', 'S_5-S3', 'S_5-S4', 'S_5-S2', 'S_20-S2', 'S_5-S1', 'S_OC-S1', 'S_OC-S2', 'S_OC-S3', 'S_OC-S5']].mean(axis=1)\n",
    "df['SC.OC.average'] = df[['S_OC-S1', 'S_OC-S2', 'S_OC-S3', 'S_OC-S5']].mean(axis=1)\n",
    "df['SC.NO.average'] = df[['S_20-S1', 'S_20-S3', 'S_20-S4', 'S_20-S2']].mean(axis=1)\n",
    "df['SC.HY.average'] = df[['S_5-S3', 'S_5-S4', 'S_5-S2', 'S_5-S1']].mean(axis=1)\n",
    "df.head(10)"
   ]
  },
  {
   "cell_type": "code",
   "execution_count": 17,
   "metadata": {},
   "outputs": [],
   "source": [
    "#Save dataframe in a tabular format and include N/As. Do not include quotes.\n",
    "df.to_csv(\"all-samples-averages-union.bedgraph\", sep = \"\\t\", na_rep = \"N/A\", quoting = 3)"
   ]
  },
  {
   "cell_type": "code",
   "execution_count": 18,
   "metadata": {
    "scrolled": true
   },
   "outputs": [
    {
     "name": "stdout",
     "output_type": "stream",
     "text": [
      "\tchrom\tstart\tend\tN_20-N4\tN_5-N1\tN_5-N2\tN_20-N2\tN_5-N3\tN_20-N1\tN_OC-N5\tN_OC-N1\tN_OC-N2\tN_OC-N4\tS_20-S1\tS_20-S3\tS_20-S4\tS_5-S3\tS_5-S4\tS_5-S2\tS_20-S2\tS_5-S1\tS_OC-S1\tS_OC-S2\tS_OC-S3\tS_OC-S5\taverage\tNBH.average\tNBH.OC.average\tNBH.NO.average\tNBH.HY.average\tSC.average\tSC.OC.average\tSC.NO.average\tSC.HY.average\n",
      "0\tNC_012312.1\t60\t61\tN/A\tN/A\tN/A\tN/A\tN/A\tN/A\tN/A\tN/A\tN/A\t0.0\tN/A\t0.0\t0.0\tN/A\tN/A\tN/A\tN/A\tN/A\tN/A\tN/A\tN/A\tN/A\t0.0\t0.0\t0.0\tN/A\tN/A\t0.0\tN/A\t0.0\tN/A\n",
      "1\tNC_012312.1\t61\t62\t0.0\tN/A\tN/A\t0.0\tN/A\tN/A\tN/A\tN/A\tN/A\tN/A\tN/A\tN/A\tN/A\tN/A\tN/A\t0.0\tN/A\tN/A\tN/A\tN/A\tN/A\tN/A\t0.0\t0.0\tN/A\t0.0\tN/A\t0.0\tN/A\tN/A\t0.0\n",
      "2\tNC_012312.1\t126\t127\tN/A\t0.0\tN/A\t0.0\tN/A\tN/A\tN/A\tN/A\tN/A\tN/A\t0.0\tN/A\t0.0\tN/A\tN/A\tN/A\tN/A\tN/A\tN/A\tN/A\tN/A\tN/A\t0.0\t0.0\tN/A\t0.0\t0.0\t0.0\tN/A\t0.0\tN/A\n",
      "3\tNC_012312.1\t127\t128\tN/A\tN/A\t0.0\tN/A\tN/A\tN/A\t0.0\t0.0\tN/A\tN/A\tN/A\t0.0\t0.0\tN/A\tN/A\tN/A\t0.0\tN/A\tN/A\tN/A\tN/A\tN/A\t0.0\t0.0\t0.0\tN/A\t0.0\t0.0\tN/A\t0.0\tN/A\n",
      "4\tNC_012312.1\t296\t297\tN/A\tN/A\tN/A\tN/A\tN/A\tN/A\tN/A\tN/A\tN/A\t0.01\t0.01\t0.02\t0.05\t0.01\t0.02\t0.04\t0.03\t0.01\t0.01\t0.01\tN/A\t0.03\t0.020833333333333332\t0.01\t0.01\tN/A\tN/A\t0.02181818181818182\t0.016666666666666666\t0.0275\t0.02\n",
      "5\tNC_012312.1\t307\t308\tN/A\t0.0\tN/A\tN/A\t0.0\tN/A\tN/A\tN/A\t0.0\tN/A\tN/A\t0.55\t0.0\tN/A\tN/A\tN/A\t0.0\t0.0\tN/A\tN/A\t0.0\tN/A\t0.06875\t0.0\t0.0\tN/A\t0.0\t0.11000000000000001\t0.0\t0.18333333333333335\t0.0\n",
      "6\tNC_012312.1\t308\t309\t0.0\t0.07\t0.0\t0.0\t0.0\t0.0\tN/A\t0.0\t0.0\tN/A\t0.0\tN/A\t0.0\tN/A\tN/A\t0.0\t0.0\tN/A\tN/A\t0.01\tN/A\tN/A\t0.006153846153846154\t0.00875\t0.0\t0.0\t0.023333333333333334\t0.002\t0.01\t0.0\t0.0\n",
      "7\tNC_012312.1\t319\t320\tN/A\tN/A\tN/A\tN/A\t0.0\tN/A\tN/A\tN/A\t0.0\tN/A\tN/A\t0.0\t0.0\tN/A\tN/A\tN/A\t0.0\t0.0\tN/A\tN/A\t0.0\tN/A\t0.0\t0.0\t0.0\tN/A\t0.0\t0.0\t0.0\t0.0\t0.0\n",
      "8\tNC_012312.1\t320\t321\t0.0\t0.0\t0.0\t0.08\t0.0\t0.0\tN/A\t0.0\t0.0\tN/A\t0.0\tN/A\t0.0\tN/A\tN/A\t0.0\t0.0\tN/A\tN/A\t0.0\tN/A\tN/A\t0.006153846153846154\t0.01\t0.0\t0.02666666666666667\t0.0\t0.0\t0.0\t0.0\t0.0\n",
      "  439470 all-samples-averages-union.bedgraph\n"
     ]
    }
   ],
   "source": [
    "!head all-samples-averages-union.bedgraph\n",
    "!wc -l all-samples-averages-union.bedgraph"
   ]
  },
  {
   "cell_type": "code",
   "execution_count": 19,
   "metadata": {},
   "outputs": [
    {
     "name": "stdout",
     "output_type": "stream",
     "text": [
      "average\n",
      "0.0\n",
      "0.0\n",
      "0.0\n",
      "0.0\n",
      "0.020833333333333332\n",
      "0.06875\n",
      "0.006153846153846154\n",
      "0.0\n",
      "0.006153846153846154\n",
      "cut: stdout: Broken pipe\n"
     ]
    }
   ],
   "source": [
    "#Confirm column number with average methylation information\n",
    "!cut -f27 all-samples-averages-union.bedgraph | head"
   ]
  },
  {
   "cell_type": "code",
   "execution_count": 25,
   "metadata": {},
   "outputs": [
    {
     "name": "stdout",
     "output_type": "stream",
     "text": [
      "  354151\r\n"
     ]
    }
   ],
   "source": [
    "#Remove header\n",
    "#Find CpGs with > 0% methylation\n",
    "#Count number of CpGs\n",
    "! tail -n+2 all-samples-averages-union.bedgraph \\\n",
    "| awk -F'\\t' -v OFS='\\t' '{if ($27 > 0) { print $27 }}' ${f} \\\n",
    "| wc -l"
   ]
  },
  {
   "cell_type": "code",
   "execution_count": 26,
   "metadata": {
    "scrolled": true
   },
   "outputs": [
    {
     "data": {
      "text/plain": [
       "85319"
      ]
     },
     "execution_count": 26,
     "metadata": {},
     "output_type": "execute_result"
    }
   ],
   "source": [
    "#Number of unmethylated CpGs\n",
    "#Total CpGs with data (line count of file) - CpGs with > 0% methylation\n",
    "439470 - 354151"
   ]
  },
  {
   "cell_type": "code",
   "execution_count": 27,
   "metadata": {},
   "outputs": [
    {
     "data": {
      "text/plain": [
       "average    0.603309\n",
       "dtype: float64"
      ]
     },
     "execution_count": 27,
     "metadata": {},
     "output_type": "execute_result"
    }
   ],
   "source": [
    "#Import data into pandas\n",
    "#Calculate average methylation (pandas ignores NAs)\n",
    "df = pd.read_table(\"all-samples-averages-union.bedgraph\")\n",
    "df[['average']].mean()"
   ]
  },
  {
   "cell_type": "code",
   "execution_count": 28,
   "metadata": {},
   "outputs": [
    {
     "name": "stdout",
     "output_type": "stream",
     "text": [
      "0.603309\r\n"
     ]
    }
   ],
   "source": [
    "#Calculate average methylation using awk\n",
    "#Answer matches with pandas, so awk also ignores NAs\n",
    "! tail -n+2 all-samples-averages-union.bedgraph \\\n",
    "| awk '{ total += $27; count++ } END { print total/count }'"
   ]
  },
  {
   "cell_type": "markdown",
   "metadata": {},
   "source": [
    "## 2. Methylation by population"
   ]
  },
  {
   "cell_type": "markdown",
   "metadata": {},
   "source": [
    "### 2a. Create summary file"
   ]
  },
  {
   "cell_type": "markdown",
   "metadata": {},
   "source": [
    "The union bedgraph is helpful for knowing how many unique loci were included in the analysis. To be conservative with my measurements of average methylation, I will only consider all common loci between all samples."
   ]
  },
  {
   "cell_type": "code",
   "execution_count": 9,
   "metadata": {
    "scrolled": true
   },
   "outputs": [
    {
     "name": "stdout",
     "output_type": "stream",
     "text": [
      "\u001b[31mall_pop_20-N1.bedgraph\u001b[m\u001b[m       \u001b[31mall_pop_5-S4.bedgraph\u001b[m\u001b[m\r\n",
      "\u001b[31mall_pop_20-N1.bw\u001b[m\u001b[m             \u001b[31mall_pop_5-S4.bw\u001b[m\u001b[m\r\n",
      "\u001b[31mall_pop_20-N2.bedgraph\u001b[m\u001b[m       \u001b[31mall_pop_OC-N1.bedgraph\u001b[m\u001b[m\r\n",
      "\u001b[31mall_pop_20-N2.bw\u001b[m\u001b[m             \u001b[31mall_pop_OC-N1.bw\u001b[m\u001b[m\r\n",
      "\u001b[31mall_pop_20-N4.bedgraph\u001b[m\u001b[m       \u001b[31mall_pop_OC-N2.bedgraph\u001b[m\u001b[m\r\n",
      "\u001b[31mall_pop_20-N4.bw\u001b[m\u001b[m             \u001b[31mall_pop_OC-N2.bw\u001b[m\u001b[m\r\n",
      "\u001b[31mall_pop_20-S1.bedgraph\u001b[m\u001b[m       \u001b[31mall_pop_OC-N4.bedgraph\u001b[m\u001b[m\r\n",
      "\u001b[31mall_pop_20-S1.bw\u001b[m\u001b[m             \u001b[31mall_pop_OC-N4.bw\u001b[m\u001b[m\r\n",
      "\u001b[31mall_pop_20-S2.bedgraph\u001b[m\u001b[m       \u001b[31mall_pop_OC-N5.bedgraph\u001b[m\u001b[m\r\n",
      "\u001b[31mall_pop_20-S2.bw\u001b[m\u001b[m             \u001b[31mall_pop_OC-N5.bw\u001b[m\u001b[m\r\n",
      "\u001b[31mall_pop_20-S3.bedgraph\u001b[m\u001b[m       \u001b[31mall_pop_OC-S1.bedgraph\u001b[m\u001b[m\r\n",
      "\u001b[31mall_pop_20-S3.bw\u001b[m\u001b[m             \u001b[31mall_pop_OC-S1.bw\u001b[m\u001b[m\r\n",
      "\u001b[31mall_pop_20-S4.bedgraph\u001b[m\u001b[m       \u001b[31mall_pop_OC-S2.bedgraph\u001b[m\u001b[m\r\n",
      "\u001b[31mall_pop_20-S4.bw\u001b[m\u001b[m             \u001b[31mall_pop_OC-S2.bw\u001b[m\u001b[m\r\n",
      "\u001b[31mall_pop_5-N1.bedgraph\u001b[m\u001b[m        \u001b[31mall_pop_OC-S3.bedgraph\u001b[m\u001b[m\r\n",
      "\u001b[31mall_pop_5-N1.bw\u001b[m\u001b[m              \u001b[31mall_pop_OC-S3.bw\u001b[m\u001b[m\r\n",
      "\u001b[31mall_pop_5-N2.bedgraph\u001b[m\u001b[m        \u001b[31mall_pop_OC-S5.bedgraph\u001b[m\u001b[m\r\n",
      "\u001b[31mall_pop_5-N2.bw\u001b[m\u001b[m              \u001b[31mall_pop_OC-S5.bw\u001b[m\u001b[m\r\n",
      "\u001b[31mall_pop_5-N3.bedgraph\u001b[m\u001b[m        \u001b[31mall_pop_diff_N_S.bedgraph\u001b[m\u001b[m\r\n",
      "\u001b[31mall_pop_5-N3.bw\u001b[m\u001b[m              \u001b[31mall_pop_diff_N_S.bw\u001b[m\u001b[m\r\n",
      "\u001b[31mall_pop_5-S1.bedgraph\u001b[m\u001b[m        \u001b[31mall_pop_mean_N.bedgraph\u001b[m\u001b[m\r\n",
      "\u001b[31mall_pop_5-S1.bw\u001b[m\u001b[m              \u001b[31mall_pop_mean_N.bw\u001b[m\u001b[m\r\n",
      "\u001b[31mall_pop_5-S2.bedgraph\u001b[m\u001b[m        \u001b[31mall_pop_mean_S.bedgraph\u001b[m\u001b[m\r\n",
      "\u001b[31mall_pop_5-S2.bw\u001b[m\u001b[m              \u001b[31mall_pop_mean_S.bw\u001b[m\u001b[m\r\n",
      "\u001b[31mall_pop_5-S3.bedgraph\u001b[m\u001b[m        \u001b[31mall_pop_metilene_N_S.txt\u001b[m\u001b[m\r\n",
      "\u001b[31mall_pop_5-S3.bw\u001b[m\u001b[m              \u001b[31mall_pop_summary_N_S.bedgraph\u001b[m\u001b[m\r\n"
     ]
    }
   ],
   "source": [
    "!ls ../../summarize/missing_1/all_pop/"
   ]
  },
  {
   "cell_type": "code",
   "execution_count": 10,
   "metadata": {
    "scrolled": true
   },
   "outputs": [
    {
     "name": "stdout",
     "output_type": "stream",
     "text": [
      "chr\tpos\tN_20-N4\tN_5-N1\tN_5-N2\tN_20-N2\tN_5-N3\tN_20-N1\tN_OC-N5\tN_OC-N1\tN_OC-N2\tN_OC-N4\tS_20-S1\tS_20-S3\tS_20-S4\tS_5-S3\tS_5-S4\tS_5-S2\tS_20-S2\tS_5-S1\tS_OC-S1\tS_OC-S2\tS_OC-S3\tS_OC-S5\n",
      "NC_012312.1\t1062\t0.00\t0.00\t0.00\t0.00\t0.00\t0.00\t0.02\t0.08\t0.00\t0.04\t0.00\t0.02\t0.00\t0.04\t0.00\t0.09\t0.03\t0.06\t0.00\t0.02\t0.04\t0.04\n",
      "NC_012312.1\t1063\t0.00\t0.00\t0.00\t0.00\t0.00\t0.00\t0.33\t0.00\t0.00\t0.00\t0.00\t0.00\t0.00\t0.00\t0.00\t0.00\t0.04\t0.00\t0.00\t0.03\t0.00\tNA\n",
      "NC_012312.1\t1073\t0.04\t0.05\t0.04\t0.06\t0.08\t0.09\t0.03\t0.41\t0.05\t0.04\t0.00\t0.14\t0.06\t0.07\t0.00\t0.00\t0.17\t0.00\t0.04\t0.02\t0.03\tNA\n",
      "NC_012312.1\t1999\t0.00\t0.00\t0.02\t0.00\t0.00\t0.03\t0.00\t0.00\t0.02\t0.02\t0.00\t0.00\t0.02\t0.00\t0.01\t0.02\tNA\t0.00\t0.00\t0.03\t0.04\t0.00\n",
      "NC_012312.1\t7746\t0.00\t0.00\t0.00\t0.01\t0.04\tNA\t0.01\t0.01\t0.02\t0.01\t0.01\t0.05\t0.01\t0.01\t0.00\t0.01\t0.00\t0.00\t0.08\t0.00\t0.03\t0.00\n",
      "NC_046361.1\t905\t0.02\t0.30\t0.28\t0.00\t0.33\t0.00\t0.02\t0.01\t0.16\t0.72\t0.34\t0.06\t0.07\t0.45\t0.22\t0.37\t0.08\tNA\t0.02\t0.07\t0.09\t0.18\n",
      "NC_046361.1\t924\t0.80\t0.43\t0.88\t0.14\t0.75\t0.99\t0.40\t0.62\t0.71\t0.70\t0.77\t0.83\t0.69\t0.68\t0.76\t0.34\t0.62\tNA\t0.62\t0.83\t0.43\t0.57\n",
      "NC_046361.1\t931\t0.95\t0.99\t0.99\t0.20\t1.00\t0.99\t0.97\t0.79\t0.76\t1.00\t0.99\t0.83\t0.73\t0.83\t0.98\t0.82\t0.94\tNA\t0.96\t0.92\t0.63\t0.57\n",
      "NC_046361.1\t3080\t0.85\t0.72\t0.69\t0.77\t0.75\t0.27\t0.76\t0.73\t0.67\t0.89\t0.84\t0.64\t0.84\t0.75\t0.69\t0.79\t0.92\t0.80\t0.77\t0.52\t0.79\t0.52\n",
      "  148753 ../../summarize/missing_1/all_pop/all_pop_metilene_N_S.txt\n"
     ]
    }
   ],
   "source": [
    "#metilene output from all population comparison of NBH and SC samples\n",
    "!head ../../summarize/missing_1/all_pop/all_pop_metilene_N_S.txt\n",
    "!wc -l ../../summarize/missing_1/all_pop/all_pop_metilene_N_S.txt"
   ]
  },
  {
   "cell_type": "code",
   "execution_count": 11,
   "metadata": {},
   "outputs": [
    {
     "data": {
      "text/html": [
       "<div>\n",
       "<style scoped>\n",
       "    .dataframe tbody tr th:only-of-type {\n",
       "        vertical-align: middle;\n",
       "    }\n",
       "\n",
       "    .dataframe tbody tr th {\n",
       "        vertical-align: top;\n",
       "    }\n",
       "\n",
       "    .dataframe thead th {\n",
       "        text-align: right;\n",
       "    }\n",
       "</style>\n",
       "<table border=\"1\" class=\"dataframe\">\n",
       "  <thead>\n",
       "    <tr style=\"text-align: right;\">\n",
       "      <th></th>\n",
       "      <th>chr</th>\n",
       "      <th>pos</th>\n",
       "      <th>N_20-N4</th>\n",
       "      <th>N_5-N1</th>\n",
       "      <th>N_5-N2</th>\n",
       "      <th>N_20-N2</th>\n",
       "      <th>N_5-N3</th>\n",
       "      <th>N_20-N1</th>\n",
       "      <th>N_OC-N5</th>\n",
       "      <th>N_OC-N1</th>\n",
       "      <th>...</th>\n",
       "      <th>S_20-S4</th>\n",
       "      <th>S_5-S3</th>\n",
       "      <th>S_5-S4</th>\n",
       "      <th>S_5-S2</th>\n",
       "      <th>S_20-S2</th>\n",
       "      <th>S_5-S1</th>\n",
       "      <th>S_OC-S1</th>\n",
       "      <th>S_OC-S2</th>\n",
       "      <th>S_OC-S3</th>\n",
       "      <th>S_OC-S5</th>\n",
       "    </tr>\n",
       "  </thead>\n",
       "  <tbody>\n",
       "    <tr>\n",
       "      <td>0</td>\n",
       "      <td>NC_012312.1</td>\n",
       "      <td>1062</td>\n",
       "      <td>0.00</td>\n",
       "      <td>0.00</td>\n",
       "      <td>0.00</td>\n",
       "      <td>0.00</td>\n",
       "      <td>0.00</td>\n",
       "      <td>0.00</td>\n",
       "      <td>0.02</td>\n",
       "      <td>0.08</td>\n",
       "      <td>...</td>\n",
       "      <td>0.00</td>\n",
       "      <td>0.04</td>\n",
       "      <td>0.00</td>\n",
       "      <td>0.09</td>\n",
       "      <td>0.03</td>\n",
       "      <td>0.06</td>\n",
       "      <td>0.00</td>\n",
       "      <td>0.02</td>\n",
       "      <td>0.04</td>\n",
       "      <td>0.04</td>\n",
       "    </tr>\n",
       "    <tr>\n",
       "      <td>1</td>\n",
       "      <td>NC_012312.1</td>\n",
       "      <td>1063</td>\n",
       "      <td>0.00</td>\n",
       "      <td>0.00</td>\n",
       "      <td>0.00</td>\n",
       "      <td>0.00</td>\n",
       "      <td>0.00</td>\n",
       "      <td>0.00</td>\n",
       "      <td>0.33</td>\n",
       "      <td>0.00</td>\n",
       "      <td>...</td>\n",
       "      <td>0.00</td>\n",
       "      <td>0.00</td>\n",
       "      <td>0.00</td>\n",
       "      <td>0.00</td>\n",
       "      <td>0.04</td>\n",
       "      <td>0.00</td>\n",
       "      <td>0.00</td>\n",
       "      <td>0.03</td>\n",
       "      <td>0.00</td>\n",
       "      <td>NaN</td>\n",
       "    </tr>\n",
       "    <tr>\n",
       "      <td>2</td>\n",
       "      <td>NC_012312.1</td>\n",
       "      <td>1073</td>\n",
       "      <td>0.04</td>\n",
       "      <td>0.05</td>\n",
       "      <td>0.04</td>\n",
       "      <td>0.06</td>\n",
       "      <td>0.08</td>\n",
       "      <td>0.09</td>\n",
       "      <td>0.03</td>\n",
       "      <td>0.41</td>\n",
       "      <td>...</td>\n",
       "      <td>0.06</td>\n",
       "      <td>0.07</td>\n",
       "      <td>0.00</td>\n",
       "      <td>0.00</td>\n",
       "      <td>0.17</td>\n",
       "      <td>0.00</td>\n",
       "      <td>0.04</td>\n",
       "      <td>0.02</td>\n",
       "      <td>0.03</td>\n",
       "      <td>NaN</td>\n",
       "    </tr>\n",
       "    <tr>\n",
       "      <td>3</td>\n",
       "      <td>NC_012312.1</td>\n",
       "      <td>1999</td>\n",
       "      <td>0.00</td>\n",
       "      <td>0.00</td>\n",
       "      <td>0.02</td>\n",
       "      <td>0.00</td>\n",
       "      <td>0.00</td>\n",
       "      <td>0.03</td>\n",
       "      <td>0.00</td>\n",
       "      <td>0.00</td>\n",
       "      <td>...</td>\n",
       "      <td>0.02</td>\n",
       "      <td>0.00</td>\n",
       "      <td>0.01</td>\n",
       "      <td>0.02</td>\n",
       "      <td>NaN</td>\n",
       "      <td>0.00</td>\n",
       "      <td>0.00</td>\n",
       "      <td>0.03</td>\n",
       "      <td>0.04</td>\n",
       "      <td>0.00</td>\n",
       "    </tr>\n",
       "    <tr>\n",
       "      <td>4</td>\n",
       "      <td>NC_012312.1</td>\n",
       "      <td>7746</td>\n",
       "      <td>0.00</td>\n",
       "      <td>0.00</td>\n",
       "      <td>0.00</td>\n",
       "      <td>0.01</td>\n",
       "      <td>0.04</td>\n",
       "      <td>NaN</td>\n",
       "      <td>0.01</td>\n",
       "      <td>0.01</td>\n",
       "      <td>...</td>\n",
       "      <td>0.01</td>\n",
       "      <td>0.01</td>\n",
       "      <td>0.00</td>\n",
       "      <td>0.01</td>\n",
       "      <td>0.00</td>\n",
       "      <td>0.00</td>\n",
       "      <td>0.08</td>\n",
       "      <td>0.00</td>\n",
       "      <td>0.03</td>\n",
       "      <td>0.00</td>\n",
       "    </tr>\n",
       "  </tbody>\n",
       "</table>\n",
       "<p>5 rows × 24 columns</p>\n",
       "</div>"
      ],
      "text/plain": [
       "           chr   pos  N_20-N4  N_5-N1  N_5-N2  N_20-N2  N_5-N3  N_20-N1  \\\n",
       "0  NC_012312.1  1062     0.00    0.00    0.00     0.00    0.00     0.00   \n",
       "1  NC_012312.1  1063     0.00    0.00    0.00     0.00    0.00     0.00   \n",
       "2  NC_012312.1  1073     0.04    0.05    0.04     0.06    0.08     0.09   \n",
       "3  NC_012312.1  1999     0.00    0.00    0.02     0.00    0.00     0.03   \n",
       "4  NC_012312.1  7746     0.00    0.00    0.00     0.01    0.04      NaN   \n",
       "\n",
       "   N_OC-N5  N_OC-N1  ...  S_20-S4  S_5-S3  S_5-S4  S_5-S2  S_20-S2  S_5-S1  \\\n",
       "0     0.02     0.08  ...     0.00    0.04    0.00    0.09     0.03    0.06   \n",
       "1     0.33     0.00  ...     0.00    0.00    0.00    0.00     0.04    0.00   \n",
       "2     0.03     0.41  ...     0.06    0.07    0.00    0.00     0.17    0.00   \n",
       "3     0.00     0.00  ...     0.02    0.00    0.01    0.02      NaN    0.00   \n",
       "4     0.01     0.01  ...     0.01    0.01    0.00    0.01     0.00    0.00   \n",
       "\n",
       "   S_OC-S1  S_OC-S2  S_OC-S3  S_OC-S5  \n",
       "0     0.00     0.02     0.04     0.04  \n",
       "1     0.00     0.03     0.00      NaN  \n",
       "2     0.04     0.02     0.03      NaN  \n",
       "3     0.00     0.03     0.04     0.00  \n",
       "4     0.08     0.00     0.03     0.00  \n",
       "\n",
       "[5 rows x 24 columns]"
      ]
     },
     "execution_count": 11,
     "metadata": {},
     "output_type": "execute_result"
    }
   ],
   "source": [
    "#Import data into pandas\n",
    "#Check head\n",
    "df = pd.read_table(\"../../summarize/missing_1/all_pop/all_pop_metilene_N_S.txt\")\n",
    "df.head(5)"
   ]
  },
  {
   "cell_type": "code",
   "execution_count": 14,
   "metadata": {
    "scrolled": true
   },
   "outputs": [
    {
     "data": {
      "text/html": [
       "<div>\n",
       "<style scoped>\n",
       "    .dataframe tbody tr th:only-of-type {\n",
       "        vertical-align: middle;\n",
       "    }\n",
       "\n",
       "    .dataframe tbody tr th {\n",
       "        vertical-align: top;\n",
       "    }\n",
       "\n",
       "    .dataframe thead th {\n",
       "        text-align: right;\n",
       "    }\n",
       "</style>\n",
       "<table border=\"1\" class=\"dataframe\">\n",
       "  <thead>\n",
       "    <tr style=\"text-align: right;\">\n",
       "      <th></th>\n",
       "      <th>chr</th>\n",
       "      <th>pos</th>\n",
       "      <th>N_20-N4</th>\n",
       "      <th>N_5-N1</th>\n",
       "      <th>N_5-N2</th>\n",
       "      <th>N_20-N2</th>\n",
       "      <th>N_5-N3</th>\n",
       "      <th>N_20-N1</th>\n",
       "      <th>N_OC-N5</th>\n",
       "      <th>N_OC-N1</th>\n",
       "      <th>...</th>\n",
       "      <th>S_20-S2</th>\n",
       "      <th>S_5-S1</th>\n",
       "      <th>S_OC-S1</th>\n",
       "      <th>S_OC-S2</th>\n",
       "      <th>S_OC-S3</th>\n",
       "      <th>S_OC-S5</th>\n",
       "      <th>NBH.average</th>\n",
       "      <th>NBH.OC.average</th>\n",
       "      <th>NBH.NO.average</th>\n",
       "      <th>NBH.HY.average</th>\n",
       "    </tr>\n",
       "  </thead>\n",
       "  <tbody>\n",
       "    <tr>\n",
       "      <td>0</td>\n",
       "      <td>NC_012312.1</td>\n",
       "      <td>1062</td>\n",
       "      <td>0.00</td>\n",
       "      <td>0.00</td>\n",
       "      <td>0.00</td>\n",
       "      <td>0.00</td>\n",
       "      <td>0.00</td>\n",
       "      <td>0.00</td>\n",
       "      <td>0.02</td>\n",
       "      <td>0.08</td>\n",
       "      <td>...</td>\n",
       "      <td>0.03</td>\n",
       "      <td>0.06</td>\n",
       "      <td>0.00</td>\n",
       "      <td>0.02</td>\n",
       "      <td>0.04</td>\n",
       "      <td>0.04</td>\n",
       "      <td>0.014000</td>\n",
       "      <td>0.0350</td>\n",
       "      <td>0.000000</td>\n",
       "      <td>0.000000</td>\n",
       "    </tr>\n",
       "    <tr>\n",
       "      <td>1</td>\n",
       "      <td>NC_012312.1</td>\n",
       "      <td>1063</td>\n",
       "      <td>0.00</td>\n",
       "      <td>0.00</td>\n",
       "      <td>0.00</td>\n",
       "      <td>0.00</td>\n",
       "      <td>0.00</td>\n",
       "      <td>0.00</td>\n",
       "      <td>0.33</td>\n",
       "      <td>0.00</td>\n",
       "      <td>...</td>\n",
       "      <td>0.04</td>\n",
       "      <td>0.00</td>\n",
       "      <td>0.00</td>\n",
       "      <td>0.03</td>\n",
       "      <td>0.00</td>\n",
       "      <td>NaN</td>\n",
       "      <td>0.033000</td>\n",
       "      <td>0.0825</td>\n",
       "      <td>0.000000</td>\n",
       "      <td>0.000000</td>\n",
       "    </tr>\n",
       "    <tr>\n",
       "      <td>2</td>\n",
       "      <td>NC_012312.1</td>\n",
       "      <td>1073</td>\n",
       "      <td>0.04</td>\n",
       "      <td>0.05</td>\n",
       "      <td>0.04</td>\n",
       "      <td>0.06</td>\n",
       "      <td>0.08</td>\n",
       "      <td>0.09</td>\n",
       "      <td>0.03</td>\n",
       "      <td>0.41</td>\n",
       "      <td>...</td>\n",
       "      <td>0.17</td>\n",
       "      <td>0.00</td>\n",
       "      <td>0.04</td>\n",
       "      <td>0.02</td>\n",
       "      <td>0.03</td>\n",
       "      <td>NaN</td>\n",
       "      <td>0.089000</td>\n",
       "      <td>0.1325</td>\n",
       "      <td>0.063333</td>\n",
       "      <td>0.056667</td>\n",
       "    </tr>\n",
       "    <tr>\n",
       "      <td>3</td>\n",
       "      <td>NC_012312.1</td>\n",
       "      <td>1999</td>\n",
       "      <td>0.00</td>\n",
       "      <td>0.00</td>\n",
       "      <td>0.02</td>\n",
       "      <td>0.00</td>\n",
       "      <td>0.00</td>\n",
       "      <td>0.03</td>\n",
       "      <td>0.00</td>\n",
       "      <td>0.00</td>\n",
       "      <td>...</td>\n",
       "      <td>NaN</td>\n",
       "      <td>0.00</td>\n",
       "      <td>0.00</td>\n",
       "      <td>0.03</td>\n",
       "      <td>0.04</td>\n",
       "      <td>0.00</td>\n",
       "      <td>0.009000</td>\n",
       "      <td>0.0100</td>\n",
       "      <td>0.010000</td>\n",
       "      <td>0.006667</td>\n",
       "    </tr>\n",
       "    <tr>\n",
       "      <td>4</td>\n",
       "      <td>NC_012312.1</td>\n",
       "      <td>7746</td>\n",
       "      <td>0.00</td>\n",
       "      <td>0.00</td>\n",
       "      <td>0.00</td>\n",
       "      <td>0.01</td>\n",
       "      <td>0.04</td>\n",
       "      <td>NaN</td>\n",
       "      <td>0.01</td>\n",
       "      <td>0.01</td>\n",
       "      <td>...</td>\n",
       "      <td>0.00</td>\n",
       "      <td>0.00</td>\n",
       "      <td>0.08</td>\n",
       "      <td>0.00</td>\n",
       "      <td>0.03</td>\n",
       "      <td>0.00</td>\n",
       "      <td>0.011111</td>\n",
       "      <td>0.0125</td>\n",
       "      <td>0.005000</td>\n",
       "      <td>0.013333</td>\n",
       "    </tr>\n",
       "    <tr>\n",
       "      <td>5</td>\n",
       "      <td>NC_046361.1</td>\n",
       "      <td>905</td>\n",
       "      <td>0.02</td>\n",
       "      <td>0.30</td>\n",
       "      <td>0.28</td>\n",
       "      <td>0.00</td>\n",
       "      <td>0.33</td>\n",
       "      <td>0.00</td>\n",
       "      <td>0.02</td>\n",
       "      <td>0.01</td>\n",
       "      <td>...</td>\n",
       "      <td>0.08</td>\n",
       "      <td>NaN</td>\n",
       "      <td>0.02</td>\n",
       "      <td>0.07</td>\n",
       "      <td>0.09</td>\n",
       "      <td>0.18</td>\n",
       "      <td>0.184000</td>\n",
       "      <td>0.2275</td>\n",
       "      <td>0.006667</td>\n",
       "      <td>0.303333</td>\n",
       "    </tr>\n",
       "    <tr>\n",
       "      <td>6</td>\n",
       "      <td>NC_046361.1</td>\n",
       "      <td>924</td>\n",
       "      <td>0.80</td>\n",
       "      <td>0.43</td>\n",
       "      <td>0.88</td>\n",
       "      <td>0.14</td>\n",
       "      <td>0.75</td>\n",
       "      <td>0.99</td>\n",
       "      <td>0.40</td>\n",
       "      <td>0.62</td>\n",
       "      <td>...</td>\n",
       "      <td>0.62</td>\n",
       "      <td>NaN</td>\n",
       "      <td>0.62</td>\n",
       "      <td>0.83</td>\n",
       "      <td>0.43</td>\n",
       "      <td>0.57</td>\n",
       "      <td>0.642000</td>\n",
       "      <td>0.6075</td>\n",
       "      <td>0.643333</td>\n",
       "      <td>0.686667</td>\n",
       "    </tr>\n",
       "    <tr>\n",
       "      <td>7</td>\n",
       "      <td>NC_046361.1</td>\n",
       "      <td>931</td>\n",
       "      <td>0.95</td>\n",
       "      <td>0.99</td>\n",
       "      <td>0.99</td>\n",
       "      <td>0.20</td>\n",
       "      <td>1.00</td>\n",
       "      <td>0.99</td>\n",
       "      <td>0.97</td>\n",
       "      <td>0.79</td>\n",
       "      <td>...</td>\n",
       "      <td>0.94</td>\n",
       "      <td>NaN</td>\n",
       "      <td>0.96</td>\n",
       "      <td>0.92</td>\n",
       "      <td>0.63</td>\n",
       "      <td>0.57</td>\n",
       "      <td>0.864000</td>\n",
       "      <td>0.8800</td>\n",
       "      <td>0.713333</td>\n",
       "      <td>0.993333</td>\n",
       "    </tr>\n",
       "    <tr>\n",
       "      <td>8</td>\n",
       "      <td>NC_046361.1</td>\n",
       "      <td>3080</td>\n",
       "      <td>0.85</td>\n",
       "      <td>0.72</td>\n",
       "      <td>0.69</td>\n",
       "      <td>0.77</td>\n",
       "      <td>0.75</td>\n",
       "      <td>0.27</td>\n",
       "      <td>0.76</td>\n",
       "      <td>0.73</td>\n",
       "      <td>...</td>\n",
       "      <td>0.92</td>\n",
       "      <td>0.80</td>\n",
       "      <td>0.77</td>\n",
       "      <td>0.52</td>\n",
       "      <td>0.79</td>\n",
       "      <td>0.52</td>\n",
       "      <td>0.710000</td>\n",
       "      <td>0.7625</td>\n",
       "      <td>0.630000</td>\n",
       "      <td>0.720000</td>\n",
       "    </tr>\n",
       "    <tr>\n",
       "      <td>9</td>\n",
       "      <td>NC_046361.1</td>\n",
       "      <td>3088</td>\n",
       "      <td>0.89</td>\n",
       "      <td>0.86</td>\n",
       "      <td>0.85</td>\n",
       "      <td>0.82</td>\n",
       "      <td>0.87</td>\n",
       "      <td>0.93</td>\n",
       "      <td>0.50</td>\n",
       "      <td>0.80</td>\n",
       "      <td>...</td>\n",
       "      <td>0.91</td>\n",
       "      <td>0.83</td>\n",
       "      <td>0.70</td>\n",
       "      <td>0.75</td>\n",
       "      <td>0.74</td>\n",
       "      <td>0.76</td>\n",
       "      <td>0.795000</td>\n",
       "      <td>0.6825</td>\n",
       "      <td>0.880000</td>\n",
       "      <td>0.860000</td>\n",
       "    </tr>\n",
       "  </tbody>\n",
       "</table>\n",
       "<p>10 rows × 28 columns</p>\n",
       "</div>"
      ],
      "text/plain": [
       "           chr   pos  N_20-N4  N_5-N1  N_5-N2  N_20-N2  N_5-N3  N_20-N1  \\\n",
       "0  NC_012312.1  1062     0.00    0.00    0.00     0.00    0.00     0.00   \n",
       "1  NC_012312.1  1063     0.00    0.00    0.00     0.00    0.00     0.00   \n",
       "2  NC_012312.1  1073     0.04    0.05    0.04     0.06    0.08     0.09   \n",
       "3  NC_012312.1  1999     0.00    0.00    0.02     0.00    0.00     0.03   \n",
       "4  NC_012312.1  7746     0.00    0.00    0.00     0.01    0.04      NaN   \n",
       "5  NC_046361.1   905     0.02    0.30    0.28     0.00    0.33     0.00   \n",
       "6  NC_046361.1   924     0.80    0.43    0.88     0.14    0.75     0.99   \n",
       "7  NC_046361.1   931     0.95    0.99    0.99     0.20    1.00     0.99   \n",
       "8  NC_046361.1  3080     0.85    0.72    0.69     0.77    0.75     0.27   \n",
       "9  NC_046361.1  3088     0.89    0.86    0.85     0.82    0.87     0.93   \n",
       "\n",
       "   N_OC-N5  N_OC-N1  ...  S_20-S2  S_5-S1  S_OC-S1  S_OC-S2  S_OC-S3  S_OC-S5  \\\n",
       "0     0.02     0.08  ...     0.03    0.06     0.00     0.02     0.04     0.04   \n",
       "1     0.33     0.00  ...     0.04    0.00     0.00     0.03     0.00      NaN   \n",
       "2     0.03     0.41  ...     0.17    0.00     0.04     0.02     0.03      NaN   \n",
       "3     0.00     0.00  ...      NaN    0.00     0.00     0.03     0.04     0.00   \n",
       "4     0.01     0.01  ...     0.00    0.00     0.08     0.00     0.03     0.00   \n",
       "5     0.02     0.01  ...     0.08     NaN     0.02     0.07     0.09     0.18   \n",
       "6     0.40     0.62  ...     0.62     NaN     0.62     0.83     0.43     0.57   \n",
       "7     0.97     0.79  ...     0.94     NaN     0.96     0.92     0.63     0.57   \n",
       "8     0.76     0.73  ...     0.92    0.80     0.77     0.52     0.79     0.52   \n",
       "9     0.50     0.80  ...     0.91    0.83     0.70     0.75     0.74     0.76   \n",
       "\n",
       "   NBH.average  NBH.OC.average  NBH.NO.average  NBH.HY.average  \n",
       "0     0.014000          0.0350        0.000000        0.000000  \n",
       "1     0.033000          0.0825        0.000000        0.000000  \n",
       "2     0.089000          0.1325        0.063333        0.056667  \n",
       "3     0.009000          0.0100        0.010000        0.006667  \n",
       "4     0.011111          0.0125        0.005000        0.013333  \n",
       "5     0.184000          0.2275        0.006667        0.303333  \n",
       "6     0.642000          0.6075        0.643333        0.686667  \n",
       "7     0.864000          0.8800        0.713333        0.993333  \n",
       "8     0.710000          0.7625        0.630000        0.720000  \n",
       "9     0.795000          0.6825        0.880000        0.860000  \n",
       "\n",
       "[10 rows x 28 columns]"
      ]
     },
     "execution_count": 14,
     "metadata": {},
     "output_type": "execute_result"
    }
   ],
   "source": [
    "#Average all NBH samples for total genome methylation information and save as a new column\n",
    "#Average all OC samples and save as a new column\n",
    "#Average all NO samples and save as a new column\n",
    "#Average all HY samples and save as a new column\n",
    "#NA are not included in averages\n",
    "#Check output\n",
    "df['NBH.average'] = df[['N_OC-N5' ,'N_OC-N1' ,'N_OC-N2', 'N_OC-N4', 'N_20-N4', 'N_20-N2', 'N_20-N1', 'N_5-N1', 'N_5-N2', 'N_5-N3']].mean(axis=1)\n",
    "df['NBH.OC.average'] = df[['N_OC-N5' ,'N_OC-N1' ,'N_OC-N2', 'N_OC-N4']].mean(axis=1)\n",
    "df['NBH.NO.average'] = df[['N_20-N4', 'N_20-N2', 'N_20-N1']].mean(axis=1)\n",
    "df['NBH.HY.average'] = df[['N_5-N1', 'N_5-N2', 'N_5-N3']].mean(axis=1)\n",
    "df.head(10)"
   ]
  },
  {
   "cell_type": "code",
   "execution_count": 19,
   "metadata": {},
   "outputs": [
    {
     "data": {
      "text/html": [
       "<div>\n",
       "<style scoped>\n",
       "    .dataframe tbody tr th:only-of-type {\n",
       "        vertical-align: middle;\n",
       "    }\n",
       "\n",
       "    .dataframe tbody tr th {\n",
       "        vertical-align: top;\n",
       "    }\n",
       "\n",
       "    .dataframe thead th {\n",
       "        text-align: right;\n",
       "    }\n",
       "</style>\n",
       "<table border=\"1\" class=\"dataframe\">\n",
       "  <thead>\n",
       "    <tr style=\"text-align: right;\">\n",
       "      <th></th>\n",
       "      <th>chr</th>\n",
       "      <th>pos</th>\n",
       "      <th>N_20-N4</th>\n",
       "      <th>N_5-N1</th>\n",
       "      <th>N_5-N2</th>\n",
       "      <th>N_20-N2</th>\n",
       "      <th>N_5-N3</th>\n",
       "      <th>N_20-N1</th>\n",
       "      <th>N_OC-N5</th>\n",
       "      <th>N_OC-N1</th>\n",
       "      <th>...</th>\n",
       "      <th>S_OC-S5</th>\n",
       "      <th>NBH.average</th>\n",
       "      <th>NBH.OC.average</th>\n",
       "      <th>NBH.NO.average</th>\n",
       "      <th>NBH.HY.average</th>\n",
       "      <th>SC.average</th>\n",
       "      <th>average</th>\n",
       "      <th>SC.OC.average</th>\n",
       "      <th>SC.NO.average</th>\n",
       "      <th>SC.HY.average</th>\n",
       "    </tr>\n",
       "  </thead>\n",
       "  <tbody>\n",
       "    <tr>\n",
       "      <td>0</td>\n",
       "      <td>NC_012312.1</td>\n",
       "      <td>1062</td>\n",
       "      <td>0.00</td>\n",
       "      <td>0.00</td>\n",
       "      <td>0.00</td>\n",
       "      <td>0.00</td>\n",
       "      <td>0.00</td>\n",
       "      <td>0.00</td>\n",
       "      <td>0.02</td>\n",
       "      <td>0.08</td>\n",
       "      <td>...</td>\n",
       "      <td>0.04</td>\n",
       "      <td>0.014000</td>\n",
       "      <td>0.0350</td>\n",
       "      <td>0.000000</td>\n",
       "      <td>0.000000</td>\n",
       "      <td>0.028333</td>\n",
       "      <td>0.028333</td>\n",
       "      <td>0.0250</td>\n",
       "      <td>0.012500</td>\n",
       "      <td>0.047500</td>\n",
       "    </tr>\n",
       "    <tr>\n",
       "      <td>1</td>\n",
       "      <td>NC_012312.1</td>\n",
       "      <td>1063</td>\n",
       "      <td>0.00</td>\n",
       "      <td>0.00</td>\n",
       "      <td>0.00</td>\n",
       "      <td>0.00</td>\n",
       "      <td>0.00</td>\n",
       "      <td>0.00</td>\n",
       "      <td>0.33</td>\n",
       "      <td>0.00</td>\n",
       "      <td>...</td>\n",
       "      <td>NaN</td>\n",
       "      <td>0.033000</td>\n",
       "      <td>0.0825</td>\n",
       "      <td>0.000000</td>\n",
       "      <td>0.000000</td>\n",
       "      <td>0.006364</td>\n",
       "      <td>0.006364</td>\n",
       "      <td>0.0100</td>\n",
       "      <td>0.010000</td>\n",
       "      <td>0.000000</td>\n",
       "    </tr>\n",
       "    <tr>\n",
       "      <td>2</td>\n",
       "      <td>NC_012312.1</td>\n",
       "      <td>1073</td>\n",
       "      <td>0.04</td>\n",
       "      <td>0.05</td>\n",
       "      <td>0.04</td>\n",
       "      <td>0.06</td>\n",
       "      <td>0.08</td>\n",
       "      <td>0.09</td>\n",
       "      <td>0.03</td>\n",
       "      <td>0.41</td>\n",
       "      <td>...</td>\n",
       "      <td>NaN</td>\n",
       "      <td>0.089000</td>\n",
       "      <td>0.1325</td>\n",
       "      <td>0.063333</td>\n",
       "      <td>0.056667</td>\n",
       "      <td>0.048182</td>\n",
       "      <td>0.048182</td>\n",
       "      <td>0.0300</td>\n",
       "      <td>0.092500</td>\n",
       "      <td>0.017500</td>\n",
       "    </tr>\n",
       "    <tr>\n",
       "      <td>3</td>\n",
       "      <td>NC_012312.1</td>\n",
       "      <td>1999</td>\n",
       "      <td>0.00</td>\n",
       "      <td>0.00</td>\n",
       "      <td>0.02</td>\n",
       "      <td>0.00</td>\n",
       "      <td>0.00</td>\n",
       "      <td>0.03</td>\n",
       "      <td>0.00</td>\n",
       "      <td>0.00</td>\n",
       "      <td>...</td>\n",
       "      <td>0.00</td>\n",
       "      <td>0.009000</td>\n",
       "      <td>0.0100</td>\n",
       "      <td>0.010000</td>\n",
       "      <td>0.006667</td>\n",
       "      <td>0.010909</td>\n",
       "      <td>0.010909</td>\n",
       "      <td>0.0175</td>\n",
       "      <td>0.006667</td>\n",
       "      <td>0.007500</td>\n",
       "    </tr>\n",
       "    <tr>\n",
       "      <td>4</td>\n",
       "      <td>NC_012312.1</td>\n",
       "      <td>7746</td>\n",
       "      <td>0.00</td>\n",
       "      <td>0.00</td>\n",
       "      <td>0.00</td>\n",
       "      <td>0.01</td>\n",
       "      <td>0.04</td>\n",
       "      <td>NaN</td>\n",
       "      <td>0.01</td>\n",
       "      <td>0.01</td>\n",
       "      <td>...</td>\n",
       "      <td>0.00</td>\n",
       "      <td>0.011111</td>\n",
       "      <td>0.0125</td>\n",
       "      <td>0.005000</td>\n",
       "      <td>0.013333</td>\n",
       "      <td>0.016667</td>\n",
       "      <td>0.016667</td>\n",
       "      <td>0.0275</td>\n",
       "      <td>0.017500</td>\n",
       "      <td>0.005000</td>\n",
       "    </tr>\n",
       "    <tr>\n",
       "      <td>5</td>\n",
       "      <td>NC_046361.1</td>\n",
       "      <td>905</td>\n",
       "      <td>0.02</td>\n",
       "      <td>0.30</td>\n",
       "      <td>0.28</td>\n",
       "      <td>0.00</td>\n",
       "      <td>0.33</td>\n",
       "      <td>0.00</td>\n",
       "      <td>0.02</td>\n",
       "      <td>0.01</td>\n",
       "      <td>...</td>\n",
       "      <td>0.18</td>\n",
       "      <td>0.184000</td>\n",
       "      <td>0.2275</td>\n",
       "      <td>0.006667</td>\n",
       "      <td>0.303333</td>\n",
       "      <td>0.177273</td>\n",
       "      <td>0.177273</td>\n",
       "      <td>0.0900</td>\n",
       "      <td>0.137500</td>\n",
       "      <td>0.346667</td>\n",
       "    </tr>\n",
       "    <tr>\n",
       "      <td>6</td>\n",
       "      <td>NC_046361.1</td>\n",
       "      <td>924</td>\n",
       "      <td>0.80</td>\n",
       "      <td>0.43</td>\n",
       "      <td>0.88</td>\n",
       "      <td>0.14</td>\n",
       "      <td>0.75</td>\n",
       "      <td>0.99</td>\n",
       "      <td>0.40</td>\n",
       "      <td>0.62</td>\n",
       "      <td>...</td>\n",
       "      <td>0.57</td>\n",
       "      <td>0.642000</td>\n",
       "      <td>0.6075</td>\n",
       "      <td>0.643333</td>\n",
       "      <td>0.686667</td>\n",
       "      <td>0.649091</td>\n",
       "      <td>0.649091</td>\n",
       "      <td>0.6125</td>\n",
       "      <td>0.727500</td>\n",
       "      <td>0.593333</td>\n",
       "    </tr>\n",
       "    <tr>\n",
       "      <td>7</td>\n",
       "      <td>NC_046361.1</td>\n",
       "      <td>931</td>\n",
       "      <td>0.95</td>\n",
       "      <td>0.99</td>\n",
       "      <td>0.99</td>\n",
       "      <td>0.20</td>\n",
       "      <td>1.00</td>\n",
       "      <td>0.99</td>\n",
       "      <td>0.97</td>\n",
       "      <td>0.79</td>\n",
       "      <td>...</td>\n",
       "      <td>0.57</td>\n",
       "      <td>0.864000</td>\n",
       "      <td>0.8800</td>\n",
       "      <td>0.713333</td>\n",
       "      <td>0.993333</td>\n",
       "      <td>0.836364</td>\n",
       "      <td>0.836364</td>\n",
       "      <td>0.7700</td>\n",
       "      <td>0.872500</td>\n",
       "      <td>0.876667</td>\n",
       "    </tr>\n",
       "    <tr>\n",
       "      <td>8</td>\n",
       "      <td>NC_046361.1</td>\n",
       "      <td>3080</td>\n",
       "      <td>0.85</td>\n",
       "      <td>0.72</td>\n",
       "      <td>0.69</td>\n",
       "      <td>0.77</td>\n",
       "      <td>0.75</td>\n",
       "      <td>0.27</td>\n",
       "      <td>0.76</td>\n",
       "      <td>0.73</td>\n",
       "      <td>...</td>\n",
       "      <td>0.52</td>\n",
       "      <td>0.710000</td>\n",
       "      <td>0.7625</td>\n",
       "      <td>0.630000</td>\n",
       "      <td>0.720000</td>\n",
       "      <td>0.739167</td>\n",
       "      <td>0.739167</td>\n",
       "      <td>0.6500</td>\n",
       "      <td>0.810000</td>\n",
       "      <td>0.757500</td>\n",
       "    </tr>\n",
       "    <tr>\n",
       "      <td>9</td>\n",
       "      <td>NC_046361.1</td>\n",
       "      <td>3088</td>\n",
       "      <td>0.89</td>\n",
       "      <td>0.86</td>\n",
       "      <td>0.85</td>\n",
       "      <td>0.82</td>\n",
       "      <td>0.87</td>\n",
       "      <td>0.93</td>\n",
       "      <td>0.50</td>\n",
       "      <td>0.80</td>\n",
       "      <td>...</td>\n",
       "      <td>0.76</td>\n",
       "      <td>0.795000</td>\n",
       "      <td>0.6825</td>\n",
       "      <td>0.880000</td>\n",
       "      <td>0.860000</td>\n",
       "      <td>0.834167</td>\n",
       "      <td>0.834167</td>\n",
       "      <td>0.7375</td>\n",
       "      <td>0.877500</td>\n",
       "      <td>0.887500</td>\n",
       "    </tr>\n",
       "  </tbody>\n",
       "</table>\n",
       "<p>10 rows × 33 columns</p>\n",
       "</div>"
      ],
      "text/plain": [
       "           chr   pos  N_20-N4  N_5-N1  N_5-N2  N_20-N2  N_5-N3  N_20-N1  \\\n",
       "0  NC_012312.1  1062     0.00    0.00    0.00     0.00    0.00     0.00   \n",
       "1  NC_012312.1  1063     0.00    0.00    0.00     0.00    0.00     0.00   \n",
       "2  NC_012312.1  1073     0.04    0.05    0.04     0.06    0.08     0.09   \n",
       "3  NC_012312.1  1999     0.00    0.00    0.02     0.00    0.00     0.03   \n",
       "4  NC_012312.1  7746     0.00    0.00    0.00     0.01    0.04      NaN   \n",
       "5  NC_046361.1   905     0.02    0.30    0.28     0.00    0.33     0.00   \n",
       "6  NC_046361.1   924     0.80    0.43    0.88     0.14    0.75     0.99   \n",
       "7  NC_046361.1   931     0.95    0.99    0.99     0.20    1.00     0.99   \n",
       "8  NC_046361.1  3080     0.85    0.72    0.69     0.77    0.75     0.27   \n",
       "9  NC_046361.1  3088     0.89    0.86    0.85     0.82    0.87     0.93   \n",
       "\n",
       "   N_OC-N5  N_OC-N1  ...  S_OC-S5  NBH.average  NBH.OC.average  \\\n",
       "0     0.02     0.08  ...     0.04     0.014000          0.0350   \n",
       "1     0.33     0.00  ...      NaN     0.033000          0.0825   \n",
       "2     0.03     0.41  ...      NaN     0.089000          0.1325   \n",
       "3     0.00     0.00  ...     0.00     0.009000          0.0100   \n",
       "4     0.01     0.01  ...     0.00     0.011111          0.0125   \n",
       "5     0.02     0.01  ...     0.18     0.184000          0.2275   \n",
       "6     0.40     0.62  ...     0.57     0.642000          0.6075   \n",
       "7     0.97     0.79  ...     0.57     0.864000          0.8800   \n",
       "8     0.76     0.73  ...     0.52     0.710000          0.7625   \n",
       "9     0.50     0.80  ...     0.76     0.795000          0.6825   \n",
       "\n",
       "   NBH.NO.average  NBH.HY.average  SC.average   average  SC.OC.average  \\\n",
       "0        0.000000        0.000000    0.028333  0.028333         0.0250   \n",
       "1        0.000000        0.000000    0.006364  0.006364         0.0100   \n",
       "2        0.063333        0.056667    0.048182  0.048182         0.0300   \n",
       "3        0.010000        0.006667    0.010909  0.010909         0.0175   \n",
       "4        0.005000        0.013333    0.016667  0.016667         0.0275   \n",
       "5        0.006667        0.303333    0.177273  0.177273         0.0900   \n",
       "6        0.643333        0.686667    0.649091  0.649091         0.6125   \n",
       "7        0.713333        0.993333    0.836364  0.836364         0.7700   \n",
       "8        0.630000        0.720000    0.739167  0.739167         0.6500   \n",
       "9        0.880000        0.860000    0.834167  0.834167         0.7375   \n",
       "\n",
       "   SC.NO.average  SC.HY.average  \n",
       "0       0.012500       0.047500  \n",
       "1       0.010000       0.000000  \n",
       "2       0.092500       0.017500  \n",
       "3       0.006667       0.007500  \n",
       "4       0.017500       0.005000  \n",
       "5       0.137500       0.346667  \n",
       "6       0.727500       0.593333  \n",
       "7       0.872500       0.876667  \n",
       "8       0.810000       0.757500  \n",
       "9       0.877500       0.887500  \n",
       "\n",
       "[10 rows x 33 columns]"
      ]
     },
     "execution_count": 19,
     "metadata": {},
     "output_type": "execute_result"
    }
   ],
   "source": [
    "#Average all SC samples for total genome methylation information and save as a new column\n",
    "#Average all OC samples and save as a new column\n",
    "#Average all NO samples and save as a new column\n",
    "#Average all HY samples and save as a new column\n",
    "#NA are not included in averages\n",
    "#Check output\n",
    "df['SC.average'] = df['average'] = df[['S_OC-S1', 'S_OC-S2', 'S_OC-S3', 'S_OC-S5', 'S_20-S1', 'S_20-S3', 'S_20-S4', 'S_20-S2', 'S_5-S3', 'S_5-S4', 'S_5-S2', 'S_5-S1']].mean(axis=1)\n",
    "df['SC.OC.average'] = df[['S_OC-S1', 'S_OC-S2', 'S_OC-S3', 'S_OC-S5']].mean(axis=1)\n",
    "df['SC.NO.average'] = df[['S_20-S1', 'S_20-S3', 'S_20-S4', 'S_20-S2']].mean(axis=1)\n",
    "df['SC.HY.average'] = df[['S_5-S3', 'S_5-S4', 'S_5-S2', 'S_5-S1']].mean(axis=1)\n",
    "df.head(10)"
   ]
  },
  {
   "cell_type": "code",
   "execution_count": 20,
   "metadata": {},
   "outputs": [],
   "source": [
    "#Save dataframe in a tabular format and include N/As. Do not include quotes.\n",
    "df.to_csv(\"all-common-loci-averages.bedgraph\", sep = \"\\t\", na_rep = \"N/A\", quoting = 3)"
   ]
  },
  {
   "cell_type": "code",
   "execution_count": 21,
   "metadata": {
    "scrolled": true
   },
   "outputs": [
    {
     "name": "stdout",
     "output_type": "stream",
     "text": [
      "\tchr\tpos\tN_20-N4\tN_5-N1\tN_5-N2\tN_20-N2\tN_5-N3\tN_20-N1\tN_OC-N5\tN_OC-N1\tN_OC-N2\tN_OC-N4\tS_20-S1\tS_20-S3\tS_20-S4\tS_5-S3\tS_5-S4\tS_5-S2\tS_20-S2\tS_5-S1\tS_OC-S1\tS_OC-S2\tS_OC-S3\tS_OC-S5\tNBH.average\tNBH.OC.average\tNBH.NO.average\tNBH.HY.average\tSC.average\taverage\tSC.OC.average\tSC.NO.average\tSC.HY.average\n",
      "0\tNC_012312.1\t1062\t0.0\t0.0\t0.0\t0.0\t0.0\t0.0\t0.02\t0.08\t0.0\t0.04\t0.0\t0.02\t0.0\t0.04\t0.0\t0.09\t0.03\t0.06\t0.0\t0.02\t0.04\t0.04\t0.014000000000000002\t0.035\t0.0\t0.0\t0.028333333333333335\t0.028333333333333335\t0.025\t0.0125\t0.0475\n",
      "1\tNC_012312.1\t1063\t0.0\t0.0\t0.0\t0.0\t0.0\t0.0\t0.33\t0.0\t0.0\t0.0\t0.0\t0.0\t0.0\t0.0\t0.0\t0.0\t0.04\t0.0\t0.0\t0.03\t0.0\tN/A\t0.033\t0.0825\t0.0\t0.0\t0.006363636363636364\t0.006363636363636364\t0.01\t0.01\t0.0\n",
      "2\tNC_012312.1\t1073\t0.04\t0.05\t0.04\t0.06\t0.08\t0.09\t0.03\t0.41\t0.05\t0.04\t0.0\t0.14\t0.06\t0.07\t0.0\t0.0\t0.17\t0.0\t0.04\t0.02\t0.03\tN/A\t0.089\t0.13249999999999998\t0.06333333333333334\t0.056666666666666664\t0.04818181818181819\t0.04818181818181819\t0.03\t0.0925\t0.0175\n",
      "3\tNC_012312.1\t1999\t0.0\t0.0\t0.02\t0.0\t0.0\t0.03\t0.0\t0.0\t0.02\t0.02\t0.0\t0.0\t0.02\t0.0\t0.01\t0.02\tN/A\t0.0\t0.0\t0.03\t0.04\t0.0\t0.009000000000000001\t0.01\t0.01\t0.006666666666666667\t0.01090909090909091\t0.01090909090909091\t0.0175\t0.006666666666666667\t0.0075\n",
      "4\tNC_012312.1\t7746\t0.0\t0.0\t0.0\t0.01\t0.04\tN/A\t0.01\t0.01\t0.02\t0.01\t0.01\t0.05\t0.01\t0.01\t0.0\t0.01\t0.0\t0.0\t0.08\t0.0\t0.03\t0.0\t0.011111111111111112\t0.0125\t0.005\t0.013333333333333334\t0.016666666666666666\t0.016666666666666666\t0.0275\t0.0175\t0.005\n",
      "5\tNC_046361.1\t905\t0.02\t0.3\t0.28\t0.0\t0.33\t0.0\t0.02\t0.01\t0.16\t0.72\t0.34\t0.06\t0.07\t0.45\t0.22\t0.37\t0.08\tN/A\t0.02\t0.07\t0.09\t0.18\t0.184\t0.22749999999999998\t0.006666666666666667\t0.3033333333333334\t0.17727272727272728\t0.17727272727272728\t0.09\t0.1375\t0.3466666666666667\n",
      "6\tNC_046361.1\t924\t0.8\t0.43\t0.88\t0.14\t0.75\t0.99\t0.4\t0.62\t0.71\t0.7\t0.77\t0.83\t0.69\t0.68\t0.76\t0.34\t0.62\tN/A\t0.62\t0.83\t0.43\t0.57\t0.6419999999999999\t0.6074999999999999\t0.6433333333333334\t0.6866666666666666\t0.649090909090909\t0.649090909090909\t0.6124999999999999\t0.7275\t0.5933333333333334\n",
      "7\tNC_046361.1\t931\t0.95\t0.99\t0.99\t0.2\t1.0\t0.99\t0.97\t0.79\t0.76\t1.0\t0.99\t0.83\t0.73\t0.83\t0.98\t0.82\t0.94\tN/A\t0.96\t0.92\t0.63\t0.57\t0.8640000000000001\t0.88\t0.7133333333333333\t0.9933333333333333\t0.8363636363636363\t0.8363636363636363\t0.7699999999999999\t0.8724999999999999\t0.8766666666666666\n",
      "8\tNC_046361.1\t3080\t0.85\t0.72\t0.69\t0.77\t0.75\t0.27\t0.76\t0.73\t0.67\t0.89\t0.84\t0.64\t0.84\t0.75\t0.69\t0.79\t0.92\t0.8\t0.77\t0.52\t0.79\t0.52\t0.71\t0.7625000000000001\t0.63\t0.7200000000000001\t0.7391666666666667\t0.7391666666666667\t0.65\t0.8099999999999999\t0.7575000000000001\n",
      "  148753 all-common-loci-averages.bedgraph\n"
     ]
    }
   ],
   "source": [
    "!head all-common-loci-averages.bedgraph\n",
    "!wc -l all-common-loci-averages.bedgraph"
   ]
  },
  {
   "cell_type": "markdown",
   "metadata": {},
   "source": [
    "### 2b. New Bedford Harbor"
   ]
  },
  {
   "cell_type": "markdown",
   "metadata": {},
   "source": [
    "#### All NBH Samples"
   ]
  },
  {
   "cell_type": "code",
   "execution_count": 26,
   "metadata": {
    "scrolled": true
   },
   "outputs": [
    {
     "name": "stdout",
     "output_type": "stream",
     "text": [
      "NBH.average\n",
      "0.014000000000000002\n",
      "0.033\n",
      "0.089\n",
      "0.009000000000000001\n",
      "0.011111111111111112\n",
      "0.184\n",
      "0.6419999999999999\n",
      "0.8640000000000001\n",
      "0.71\n",
      "cut: stdout: Broken pipe\n"
     ]
    }
   ],
   "source": [
    "!cut -f26 all-common-loci-averages.bedgraph | head"
   ]
  },
  {
   "cell_type": "code",
   "execution_count": 27,
   "metadata": {},
   "outputs": [
    {
     "name": "stdout",
     "output_type": "stream",
     "text": [
      "  121017\r\n"
     ]
    }
   ],
   "source": [
    "#Remove header\n",
    "#Find CpGs with > 0% methylation\n",
    "#Count number of CpGs\n",
    "! tail -n+2 all-common-loci-averages.bedgraph \\\n",
    "| awk -F'\\t' -v OFS='\\t' '{if ($26 > 0) { print $26 }}' ${f} \\\n",
    "| wc -l"
   ]
  },
  {
   "cell_type": "code",
   "execution_count": 28,
   "metadata": {
    "scrolled": true
   },
   "outputs": [
    {
     "name": "stdout",
     "output_type": "stream",
     "text": [
      "  148752\r\n"
     ]
    }
   ],
   "source": [
    "#Remove header\n",
    "#Count number of CpGs\n",
    "! tail -n+2 all-common-loci-averages.bedgraph \\\n",
    "| wc -l"
   ]
  },
  {
   "cell_type": "code",
   "execution_count": 29,
   "metadata": {},
   "outputs": [
    {
     "data": {
      "text/plain": [
       "27735"
      ]
     },
     "execution_count": 29,
     "metadata": {},
     "output_type": "execute_result"
    }
   ],
   "source": [
    "#Number of unmethylated CpGs\n",
    "148752 - 121017"
   ]
  },
  {
   "cell_type": "code",
   "execution_count": 30,
   "metadata": {},
   "outputs": [
    {
     "name": "stdout",
     "output_type": "stream",
     "text": [
      "0.282805\r\n"
     ]
    }
   ],
   "source": [
    "#Calculate average methylation\n",
    "! tail -n+2 all-common-loci-averages.bedgraph \\\n",
    "| awk '{ total += $26; count++ } END { print total/count }'"
   ]
  },
  {
   "cell_type": "markdown",
   "metadata": {},
   "source": [
    "#### Outside control"
   ]
  },
  {
   "cell_type": "code",
   "execution_count": 31,
   "metadata": {
    "scrolled": true
   },
   "outputs": [
    {
     "name": "stdout",
     "output_type": "stream",
     "text": [
      "NBH.OC.average\n",
      "0.035\n",
      "0.0825\n",
      "0.13249999999999998\n",
      "0.01\n",
      "0.0125\n",
      "0.22749999999999998\n",
      "0.6074999999999999\n",
      "0.88\n",
      "0.7625000000000001\n",
      "cut: stdout: Broken pipe\n"
     ]
    }
   ],
   "source": [
    "!cut -f27 all-common-loci-averages.bedgraph | head"
   ]
  },
  {
   "cell_type": "code",
   "execution_count": 32,
   "metadata": {},
   "outputs": [
    {
     "name": "stdout",
     "output_type": "stream",
     "text": [
      "  101532\r\n"
     ]
    }
   ],
   "source": [
    "#Remove header\n",
    "#Find CpGs with > 0% methylation\n",
    "#Count number of CpGs\n",
    "! tail -n+2 all-common-loci-averages.bedgraph \\\n",
    "| awk -F'\\t' -v OFS='\\t' '{if ($27 > 0) { print $27 }}' ${f} \\\n",
    "| wc -l"
   ]
  },
  {
   "cell_type": "code",
   "execution_count": 28,
   "metadata": {
    "scrolled": true
   },
   "outputs": [
    {
     "name": "stdout",
     "output_type": "stream",
     "text": [
      "  148752\r\n"
     ]
    }
   ],
   "source": [
    "#Remove header\n",
    "#Count number of CpGs\n",
    "! tail -n+2 all-common-loci-averages.bedgraph \\\n",
    "| wc -l"
   ]
  },
  {
   "cell_type": "code",
   "execution_count": 33,
   "metadata": {},
   "outputs": [
    {
     "data": {
      "text/plain": [
       "47220"
      ]
     },
     "execution_count": 33,
     "metadata": {},
     "output_type": "execute_result"
    }
   ],
   "source": [
    "#Number of unmethylated CpGs\n",
    "148752 - 101532"
   ]
  },
  {
   "cell_type": "code",
   "execution_count": 34,
   "metadata": {},
   "outputs": [
    {
     "name": "stdout",
     "output_type": "stream",
     "text": [
      "0.279189\r\n"
     ]
    }
   ],
   "source": [
    "#Calculate average methylation\n",
    "! tail -n+2 all-common-loci-averages.bedgraph \\\n",
    "| awk '{ total += $27; count++ } END { print total/count }'"
   ]
  },
  {
   "cell_type": "markdown",
   "metadata": {},
   "source": [
    "#### Normoxia"
   ]
  },
  {
   "cell_type": "code",
   "execution_count": 35,
   "metadata": {
    "scrolled": true
   },
   "outputs": [
    {
     "name": "stdout",
     "output_type": "stream",
     "text": [
      "NBH.NO.average\n",
      "0.0\n",
      "0.0\n",
      "0.06333333333333334\n",
      "0.01\n",
      "0.005\n",
      "0.006666666666666667\n",
      "0.6433333333333334\n",
      "0.7133333333333333\n",
      "0.63\n",
      "cut: stdout: Broken pipe\n"
     ]
    }
   ],
   "source": [
    "!cut -f28 all-common-loci-averages.bedgraph | head"
   ]
  },
  {
   "cell_type": "code",
   "execution_count": 36,
   "metadata": {},
   "outputs": [
    {
     "name": "stdout",
     "output_type": "stream",
     "text": [
      "   92498\r\n"
     ]
    }
   ],
   "source": [
    "#Remove header\n",
    "#Find CpGs with > 0% methylation\n",
    "#Count number of CpGs\n",
    "! tail -n+2 all-common-loci-averages.bedgraph \\\n",
    "| awk -F'\\t' -v OFS='\\t' '{if ($28 > 0) { print $28 }}' ${f} \\\n",
    "| wc -l"
   ]
  },
  {
   "cell_type": "code",
   "execution_count": 37,
   "metadata": {
    "scrolled": true
   },
   "outputs": [
    {
     "name": "stdout",
     "output_type": "stream",
     "text": [
      "  148752\r\n"
     ]
    }
   ],
   "source": [
    "#Remove header\n",
    "#Count number of CpGs\n",
    "! tail -n+2 all-common-loci-averages.bedgraph \\\n",
    "| wc -l"
   ]
  },
  {
   "cell_type": "code",
   "execution_count": 38,
   "metadata": {},
   "outputs": [
    {
     "data": {
      "text/plain": [
       "56254"
      ]
     },
     "execution_count": 38,
     "metadata": {},
     "output_type": "execute_result"
    }
   ],
   "source": [
    "#Number of unmethylated CpGs\n",
    "148752 - 92498"
   ]
  },
  {
   "cell_type": "code",
   "execution_count": 39,
   "metadata": {},
   "outputs": [
    {
     "name": "stdout",
     "output_type": "stream",
     "text": [
      "0.272361\r\n"
     ]
    }
   ],
   "source": [
    "#Calculate average methylation\n",
    "! tail -n+2 all-common-loci-averages.bedgraph \\\n",
    "| awk '{ total += $28; count++ } END { print total/count }'"
   ]
  },
  {
   "cell_type": "markdown",
   "metadata": {},
   "source": [
    "#### Hypoxia"
   ]
  },
  {
   "cell_type": "code",
   "execution_count": 40,
   "metadata": {
    "scrolled": true
   },
   "outputs": [
    {
     "name": "stdout",
     "output_type": "stream",
     "text": [
      "NBH.HY.average\n",
      "0.0\n",
      "0.0\n",
      "0.056666666666666664\n",
      "0.006666666666666667\n",
      "0.013333333333333334\n",
      "0.3033333333333334\n",
      "0.6866666666666666\n",
      "0.9933333333333333\n",
      "0.7200000000000001\n",
      "cut: stdout: Broken pipe\n"
     ]
    }
   ],
   "source": [
    "!cut -f29 all-common-loci-averages.bedgraph | head"
   ]
  },
  {
   "cell_type": "code",
   "execution_count": 41,
   "metadata": {},
   "outputs": [
    {
     "name": "stdout",
     "output_type": "stream",
     "text": [
      "   96541\r\n"
     ]
    }
   ],
   "source": [
    "#Remove header\n",
    "#Find CpGs with > 0% methylation\n",
    "#Count number of CpGs\n",
    "! tail -n+2 all-common-loci-averages.bedgraph \\\n",
    "| awk -F'\\t' -v OFS='\\t' '{if ($29 > 0) { print $29 }}' ${f} \\\n",
    "| wc -l"
   ]
  },
  {
   "cell_type": "code",
   "execution_count": 28,
   "metadata": {
    "scrolled": true
   },
   "outputs": [
    {
     "name": "stdout",
     "output_type": "stream",
     "text": [
      "  148752\r\n"
     ]
    }
   ],
   "source": [
    "#Remove header\n",
    "#Count number of CpGs\n",
    "! tail -n+2 all-common-loci-averages.bedgraph \\\n",
    "| wc -l"
   ]
  },
  {
   "cell_type": "code",
   "execution_count": 42,
   "metadata": {},
   "outputs": [
    {
     "data": {
      "text/plain": [
       "52211"
      ]
     },
     "execution_count": 42,
     "metadata": {},
     "output_type": "execute_result"
    }
   ],
   "source": [
    "#Number of unmethylated CpGs\n",
    "148752 - 96541"
   ]
  },
  {
   "cell_type": "code",
   "execution_count": 43,
   "metadata": {},
   "outputs": [
    {
     "name": "stdout",
     "output_type": "stream",
     "text": [
      "0.297145\r\n"
     ]
    }
   ],
   "source": [
    "#Calculate average methylation\n",
    "! tail -n+2 all-common-loci-averages.bedgraph \\\n",
    "| awk '{ total += $29; count++ } END { print total/count }'"
   ]
  },
  {
   "cell_type": "markdown",
   "metadata": {},
   "source": [
    "### 2c. Scorton Creek"
   ]
  },
  {
   "cell_type": "markdown",
   "metadata": {},
   "source": [
    "#### All SC Samples"
   ]
  },
  {
   "cell_type": "code",
   "execution_count": 44,
   "metadata": {
    "scrolled": true
   },
   "outputs": [
    {
     "name": "stdout",
     "output_type": "stream",
     "text": [
      "SC.average\n",
      "0.028333333333333335\n",
      "0.006363636363636364\n",
      "0.04818181818181819\n",
      "0.01090909090909091\n",
      "0.016666666666666666\n",
      "0.17727272727272728\n",
      "0.649090909090909\n",
      "0.8363636363636363\n",
      "0.7391666666666667\n",
      "cut: stdout: Broken pipe\n"
     ]
    }
   ],
   "source": [
    "!cut -f30 all-common-loci-averages.bedgraph | head"
   ]
  },
  {
   "cell_type": "code",
   "execution_count": 45,
   "metadata": {},
   "outputs": [
    {
     "name": "stdout",
     "output_type": "stream",
     "text": [
      "  124001\r\n"
     ]
    }
   ],
   "source": [
    "#Remove header\n",
    "#Find CpGs with > 0% methylation\n",
    "#Count number of CpGs\n",
    "! tail -n+2 all-common-loci-averages.bedgraph \\\n",
    "| awk -F'\\t' -v OFS='\\t' '{if ($30 > 0) { print $30 }}' ${f} \\\n",
    "| wc -l"
   ]
  },
  {
   "cell_type": "code",
   "execution_count": 28,
   "metadata": {
    "scrolled": true
   },
   "outputs": [
    {
     "name": "stdout",
     "output_type": "stream",
     "text": [
      "  148752\r\n"
     ]
    }
   ],
   "source": [
    "#Remove header\n",
    "#Count number of CpGs\n",
    "! tail -n+2 all-common-loci-averages.bedgraph \\\n",
    "| wc -l"
   ]
  },
  {
   "cell_type": "code",
   "execution_count": 47,
   "metadata": {},
   "outputs": [
    {
     "data": {
      "text/plain": [
       "24751"
      ]
     },
     "execution_count": 47,
     "metadata": {},
     "output_type": "execute_result"
    }
   ],
   "source": [
    "#Number of unmethylated CpGs\n",
    "148752 - 124001"
   ]
  },
  {
   "cell_type": "code",
   "execution_count": 46,
   "metadata": {},
   "outputs": [
    {
     "name": "stdout",
     "output_type": "stream",
     "text": [
      "0.28804\r\n"
     ]
    }
   ],
   "source": [
    "#Calculate average methylation\n",
    "! tail -n+2 all-common-loci-averages.bedgraph \\\n",
    "| awk '{ total += $30; count++ } END { print total/count }'"
   ]
  },
  {
   "cell_type": "markdown",
   "metadata": {},
   "source": [
    "#### Outside control"
   ]
  },
  {
   "cell_type": "code",
   "execution_count": 48,
   "metadata": {
    "scrolled": true
   },
   "outputs": [
    {
     "name": "stdout",
     "output_type": "stream",
     "text": [
      "SC.OC.average\n",
      "0.025\n",
      "0.01\n",
      "0.03\n",
      "0.0175\n",
      "0.0275\n",
      "0.09\n",
      "0.6124999999999999\n",
      "0.7699999999999999\n",
      "0.65\n",
      "cut: stdout: Broken pipe\n"
     ]
    }
   ],
   "source": [
    "!cut -f32 all-common-loci-averages.bedgraph | head"
   ]
  },
  {
   "cell_type": "code",
   "execution_count": 49,
   "metadata": {},
   "outputs": [
    {
     "name": "stdout",
     "output_type": "stream",
     "text": [
      "  124001\r\n"
     ]
    }
   ],
   "source": [
    "#Remove header\n",
    "#Find CpGs with > 0% methylation\n",
    "#Count number of CpGs\n",
    "! tail -n+2 all-common-loci-averages.bedgraph \\\n",
    "| awk -F'\\t' -v OFS='\\t' '{if ($31 > 0) { print $31 }}' ${f} \\\n",
    "| wc -l"
   ]
  },
  {
   "cell_type": "code",
   "execution_count": 28,
   "metadata": {
    "scrolled": true
   },
   "outputs": [
    {
     "name": "stdout",
     "output_type": "stream",
     "text": [
      "  148752\r\n"
     ]
    }
   ],
   "source": [
    "#Remove header\n",
    "#Count number of CpGs\n",
    "! tail -n+2 all-common-loci-averages.bedgraph \\\n",
    "| wc -l"
   ]
  },
  {
   "cell_type": "code",
   "execution_count": 51,
   "metadata": {},
   "outputs": [
    {
     "data": {
      "text/plain": [
       "24751"
      ]
     },
     "execution_count": 51,
     "metadata": {},
     "output_type": "execute_result"
    }
   ],
   "source": [
    "#Number of unmethylated CpGs\n",
    "148752 - 124001"
   ]
  },
  {
   "cell_type": "code",
   "execution_count": 50,
   "metadata": {},
   "outputs": [
    {
     "name": "stdout",
     "output_type": "stream",
     "text": [
      "0.28804\r\n"
     ]
    }
   ],
   "source": [
    "#Calculate average methylation\n",
    "! tail -n+2 all-common-loci-averages.bedgraph \\\n",
    "| awk '{ total += $31; count++ } END { print total/count }'"
   ]
  },
  {
   "cell_type": "markdown",
   "metadata": {},
   "source": [
    "#### Normoxia"
   ]
  },
  {
   "cell_type": "code",
   "execution_count": 53,
   "metadata": {
    "scrolled": true
   },
   "outputs": [
    {
     "name": "stdout",
     "output_type": "stream",
     "text": [
      "SC.NO.average\n",
      "0.0125\n",
      "0.01\n",
      "0.0925\n",
      "0.006666666666666667\n",
      "0.0175\n",
      "0.1375\n",
      "0.7275\n",
      "0.8724999999999999\n",
      "0.8099999999999999\n",
      "cut: stdout: Broken pipe\n"
     ]
    }
   ],
   "source": [
    "!cut -f33 all-common-loci-averages.bedgraph | head"
   ]
  },
  {
   "cell_type": "code",
   "execution_count": 54,
   "metadata": {},
   "outputs": [
    {
     "name": "stdout",
     "output_type": "stream",
     "text": [
      "   99786\r\n"
     ]
    }
   ],
   "source": [
    "#Remove header\n",
    "#Find CpGs with > 0% methylation\n",
    "#Count number of CpGs\n",
    "! tail -n+2 all-common-loci-averages.bedgraph \\\n",
    "| awk -F'\\t' -v OFS='\\t' '{if ($33 > 0) { print $33 }}' ${f} \\\n",
    "| wc -l"
   ]
  },
  {
   "cell_type": "code",
   "execution_count": 37,
   "metadata": {
    "scrolled": true
   },
   "outputs": [
    {
     "name": "stdout",
     "output_type": "stream",
     "text": [
      "  148752\r\n"
     ]
    }
   ],
   "source": [
    "#Remove header\n",
    "#Count number of CpGs\n",
    "! tail -n+2 all-common-loci-averages.bedgraph \\\n",
    "| wc -l"
   ]
  },
  {
   "cell_type": "code",
   "execution_count": 56,
   "metadata": {},
   "outputs": [
    {
     "data": {
      "text/plain": [
       "48966"
      ]
     },
     "execution_count": 56,
     "metadata": {},
     "output_type": "execute_result"
    }
   ],
   "source": [
    "#Number of unmethylated CpGs\n",
    "148752 - 99786"
   ]
  },
  {
   "cell_type": "code",
   "execution_count": 55,
   "metadata": {},
   "outputs": [
    {
     "name": "stdout",
     "output_type": "stream",
     "text": [
      "0.288239\r\n"
     ]
    }
   ],
   "source": [
    "#Calculate average methylation\n",
    "! tail -n+2 all-common-loci-averages.bedgraph \\\n",
    "| awk '{ total += $33; count++ } END { print total/count }'"
   ]
  },
  {
   "cell_type": "markdown",
   "metadata": {},
   "source": [
    "#### Hypoxia"
   ]
  },
  {
   "cell_type": "code",
   "execution_count": 57,
   "metadata": {
    "scrolled": true
   },
   "outputs": [
    {
     "name": "stdout",
     "output_type": "stream",
     "text": [
      "SC.HY.average\n",
      "0.0475\n",
      "0.0\n",
      "0.0175\n",
      "0.0075\n",
      "0.005\n",
      "0.3466666666666667\n",
      "0.5933333333333334\n",
      "0.8766666666666666\n",
      "0.7575000000000001\n",
      "cut: stdout: Broken pipe\n"
     ]
    }
   ],
   "source": [
    "!cut -f34 all-common-loci-averages.bedgraph | head"
   ]
  },
  {
   "cell_type": "code",
   "execution_count": 58,
   "metadata": {},
   "outputs": [
    {
     "name": "stdout",
     "output_type": "stream",
     "text": [
      "  101036\r\n"
     ]
    }
   ],
   "source": [
    "#Remove header\n",
    "#Find CpGs with > 0% methylation\n",
    "#Count number of CpGs\n",
    "! tail -n+2 all-common-loci-averages.bedgraph \\\n",
    "| awk -F'\\t' -v OFS='\\t' '{if ($34 > 0) { print $34 }}' ${f} \\\n",
    "| wc -l"
   ]
  },
  {
   "cell_type": "code",
   "execution_count": 28,
   "metadata": {
    "scrolled": true
   },
   "outputs": [
    {
     "name": "stdout",
     "output_type": "stream",
     "text": [
      "  148752\r\n"
     ]
    }
   ],
   "source": [
    "#Remove header\n",
    "#Count number of CpGs\n",
    "! tail -n+2 all-common-loci-averages.bedgraph \\\n",
    "| wc -l"
   ]
  },
  {
   "cell_type": "code",
   "execution_count": 60,
   "metadata": {},
   "outputs": [
    {
     "data": {
      "text/plain": [
       "47716"
      ]
     },
     "execution_count": 60,
     "metadata": {},
     "output_type": "execute_result"
    }
   ],
   "source": [
    "#Number of unmethylated CpGs\n",
    "148752 - 101036"
   ]
  },
  {
   "cell_type": "code",
   "execution_count": 59,
   "metadata": {},
   "outputs": [
    {
     "name": "stdout",
     "output_type": "stream",
     "text": [
      "0.291675\r\n"
     ]
    }
   ],
   "source": [
    "#Calculate average methylation\n",
    "! tail -n+2 all-common-loci-averages.bedgraph \\\n",
    "| awk '{ total += $34; count++ } END { print total/count }'"
   ]
  },
  {
   "cell_type": "code",
   "execution_count": null,
   "metadata": {},
   "outputs": [],
   "source": []
  }
 ],
 "metadata": {
  "kernelspec": {
   "display_name": "Python 3",
   "language": "python",
   "name": "python3"
  },
  "language_info": {
   "codemirror_mode": {
    "name": "ipython",
    "version": 3
   },
   "file_extension": ".py",
   "mimetype": "text/x-python",
   "name": "python",
   "nbconvert_exporter": "python",
   "pygments_lexer": "ipython3",
   "version": "3.7.4"
  }
 },
 "nbformat": 4,
 "nbformat_minor": 2
}
