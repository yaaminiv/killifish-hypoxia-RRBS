{
 "cells": [
  {
   "cell_type": "markdown",
   "metadata": {},
   "source": [
    "# Methylation landscape analysis\n",
    "\n",
    "In this notebook, I'll characterize the methylation landscape using output from [`BAT_summarize`](https://github.com/yaaminiv/killifish-hypoxia-RRBS/tree/main/output/05-analysis/summarize)."
   ]
  },
  {
   "cell_type": "markdown",
   "metadata": {},
   "source": [
    "## 0. Prepare notebook for analysis"
   ]
  },
  {
   "cell_type": "code",
   "execution_count": 1,
   "metadata": {},
   "outputs": [
    {
     "name": "stdout",
     "output_type": "stream",
     "text": [
      "/Users/yaaminivenkataraman/Documents/killifish-hypoxia-RRBS/code\r\n"
     ]
    }
   ],
   "source": [
    "!pwd"
   ]
  },
  {
   "cell_type": "code",
   "execution_count": 2,
   "metadata": {},
   "outputs": [
    {
     "name": "stdout",
     "output_type": "stream",
     "text": [
      "/Users/yaaminivenkataraman/Documents/killifish-hypoxia-RRBS/output/05-analysis\n"
     ]
    }
   ],
   "source": [
    "cd ../output/05-analysis/"
   ]
  },
  {
   "cell_type": "code",
   "execution_count": 3,
   "metadata": {},
   "outputs": [],
   "source": [
    "#!mkdir methylation-landscape"
   ]
  },
  {
   "cell_type": "code",
   "execution_count": 4,
   "metadata": {},
   "outputs": [
    {
     "name": "stdout",
     "output_type": "stream",
     "text": [
      "/Users/yaaminivenkataraman/Documents/killifish-hypoxia-RRBS/output/05-analysis/methylation-landscape\n"
     ]
    }
   ],
   "source": [
    "cd methylation-landscape/"
   ]
  },
  {
   "cell_type": "code",
   "execution_count": 5,
   "metadata": {},
   "outputs": [
    {
     "name": "stdout",
     "output_type": "stream",
     "text": [
      "/opt/homebrew/bin/bedtools\r\n"
     ]
    }
   ],
   "source": [
    "!which bedtools"
   ]
  },
  {
   "cell_type": "code",
   "execution_count": 14,
   "metadata": {},
   "outputs": [],
   "source": [
    "bedtoolsDirectory = \"/opt/homebrew/bin/\""
   ]
  },
  {
   "cell_type": "markdown",
   "metadata": {},
   "source": [
    "## 1. Number of CpGs with 10-500x coverage"
   ]
  },
  {
   "cell_type": "code",
   "execution_count": 8,
   "metadata": {},
   "outputs": [
    {
     "name": "stdout",
     "output_type": "stream",
     "text": [
      "../../04-calling/filtered/190626_I114_FCH7TVNBBXY_L2_20-N4_CG.sort.bedgraph\r\n",
      "../../04-calling/filtered/190626_I114_FCH7TVNBBXY_L2_20-S1_CG.sort.bedgraph\r\n",
      "../../04-calling/filtered/190626_I114_FCH7TVNBBXY_L2_20-S3_CG.sort.bedgraph\r\n",
      "../../04-calling/filtered/190626_I114_FCH7TVNBBXY_L2_20-S4_CG.sort.bedgraph\r\n",
      "../../04-calling/filtered/190626_I114_FCH7TVNBBXY_L2_5-N1_CG.sort.bedgraph\r\n",
      "../../04-calling/filtered/190626_I114_FCH7TVNBBXY_L2_5-N2_CG.sort.bedgraph\r\n",
      "../../04-calling/filtered/190626_I114_FCH7TVNBBXY_L2_5-S3_CG.sort.bedgraph\r\n",
      "../../04-calling/filtered/190626_I114_FCH7TVNBBXY_L2_5-S4_CG.sort.bedgraph\r\n",
      "../../04-calling/filtered/190626_I114_FCH7TVNBBXY_L2_OC-S1_CG.sort.bedgraph\r\n",
      "../../04-calling/filtered/190626_I114_FCH7TVNBBXY_L3_20-N2_CG.sort.bedgraph\r\n",
      "../../04-calling/filtered/190626_I114_FCH7TVNBBXY_L3_5-N3_CG.sort.bedgraph\r\n",
      "../../04-calling/filtered/190626_I114_FCH7TVNBBXY_L3_5-S2_CG.sort.bedgraph\r\n",
      "../../04-calling/filtered/190626_I114_FCH7TVNBBXY_L3_OC-N1_CG.sort.bedgraph\r\n",
      "../../04-calling/filtered/190626_I114_FCH7TVNBBXY_L3_OC-N2_CG.sort.bedgraph\r\n",
      "../../04-calling/filtered/190626_I114_FCH7TVNBBXY_L3_OC-N4_CG.sort.bedgraph\r\n",
      "../../04-calling/filtered/190626_I114_FCH7TVNBBXY_L3_OC-N5_CG.sort.bedgraph\r\n",
      "../../04-calling/filtered/190626_I114_FCH7TVNBBXY_L3_OC-S2_CG.sort.bedgraph\r\n",
      "../../04-calling/filtered/190626_I114_FCH7TVNBBXY_L3_OC-S3_CG.sort.bedgraph\r\n",
      "../../04-calling/filtered/190626_I114_FCH7TVNBBXY_L4_20-N1_CG.sort.bedgraph\r\n",
      "../../04-calling/filtered/190626_I114_FCH7TVNBBXY_L4_20-S2_CG.sort.bedgraph\r\n",
      "../../04-calling/filtered/190626_I114_FCH7TVNBBXY_L4_5-S1_CG.sort.bedgraph\r\n",
      "../../04-calling/filtered/190626_I114_FCH7TVNBBXY_L4_OC-S5_CG.sort.bedgraph\r\n"
     ]
    }
   ],
   "source": [
    "#Find files to concatenate\n",
    "!find ../../04-calling/filtered/*sort.bedgraph"
   ]
  },
  {
   "cell_type": "code",
   "execution_count": 16,
   "metadata": {},
   "outputs": [
    {
     "name": "stdout",
     "output_type": "stream",
     "text": [
      " 5403483\r\n"
     ]
    }
   ],
   "source": [
    "#Create a union bedGraph\n",
    "#Use N/A when there is no data for a CpG in a sample\n",
    "#Define sample IDs\n",
    "#Use sorted bedgraphs\n",
    "#Cound the number of lines (CpGs) with data\n",
    "!{bedtoolsDirectory}unionBedGraphs \\\n",
    "-filler N/A \\\n",
    "-i ../../04-calling/filtered/*sort.bedgraph \\\n",
    "| wc -l"
   ]
  },
  {
   "cell_type": "markdown",
   "metadata": {},
   "source": [
    "## 2. Global methylation"
   ]
  },
  {
   "cell_type": "markdown",
   "metadata": {},
   "source": [
    "### 2a. Format data"
   ]
  },
  {
   "cell_type": "code",
   "execution_count": 83,
   "metadata": {},
   "outputs": [
    {
     "name": "stdout",
     "output_type": "stream",
     "text": [
      "chr\tpos\tN_20-N4\tN_5-N1\tN_5-N2\tN_20-N2\tN_5-N3\tN_20-N1\tN_OC-N5\tN_OC-N1\tN_OC-N2\tN_OC-N4\tS_20-S1\tS_20-S3\tS_20-S4\tS_5-S3\tS_5-S4\tS_5-S2\tS_20-S2\tS_5-S1\tS_OC-S1\tS_OC-S2\tS_OC-S3\tS_OC-S5\n",
      "JXMV01056319.1\t89\t0.15\t0.07\t0.00\t0.16\t0.05\t0.35\t0.22\t0.52\t0.09\t0.00\t0.06\t0.05\t0.06\t0.12\t0.03\t0.10\t0.00\t0.04\t0.02\t0.08\t0.02\t0.00\n",
      "JXMV01056319.1\t145\t0.00\t0.28\t0.00\t0.00\t0.35\t0.03\t0.00\t0.01\t0.01\t0.27\t0.08\t0.03\t0.01\t0.00\t0.01\t0.33\t0.00\t0.00\t0.02\t0.03\t0.34\t0.75\n",
      "JXMV01057363.1\t4077\t0.01\t0.00\t0.04\t0.00\t0.00\t0.00\t0.00\t0.00\t0.00\t0.00\t0.00\t0.17\t0.00\t0.00\t0.00\t0.00\t0.00\t0.00\t0.00\t0.00\t0.00\t0.00\n",
      "JXMV01057363.1\t4120\t0.13\t0.00\t0.00\t0.00\t0.00\t0.00\t0.00\t0.00\t0.00\t0.00\t0.00\t0.00\t0.00\t0.00\t0.00\t0.00\t0.00\t0.00\t0.00\t0.00\t0.00\t0.00\n",
      "JXMV01057451.1\t2455\t0.21\t0.10\t0.30\t0.00\t0.49\t0.00\t0.42\t0.16\t0.03\t0.31\t0.22\t0.03\t0.03\t0.01\t0.01\t0.12\t0.00\t0.00\t0.00\t0.38\t0.02\t0.08\n",
      "JXMV01058392.1\t169\t0.09\t0.00\t0.00\t0.21\t0.18\t0.00\t0.00\t0.00\t0.00\t0.00\t0.16\t0.11\t0.00\t0.00\t0.12\t0.09\t0.00\t0.99\t0.00\t0.00\t0.00\t0.00\n",
      "JXMV01058392.1\t174\t0.00\t0.00\t0.00\t0.00\t0.00\t0.00\t0.00\t0.00\t0.00\t0.00\t0.00\t0.00\t0.11\t0.00\t0.00\t0.00\t0.00\t0.00\t0.11\t0.60\t0.00\t0.00\n",
      "JXMV01058392.1\t183\t0.00\t0.00\t0.00\t0.00\t0.00\t0.00\t0.00\t0.00\t0.00\t0.22\t0.00\t0.00\t0.11\t0.00\t0.00\t0.00\t0.00\t0.00\t0.00\t0.00\t0.00\t0.00\n",
      "JXMV01058392.1\t190\t0.00\t0.00\t0.00\t0.06\t0.00\t0.00\t0.00\t0.00\t0.00\t0.00\t0.00\t0.00\t0.00\t0.00\t0.00\t0.08\t0.00\t0.00\t0.00\t0.00\t0.00\t0.00\n",
      "   14896 ../summarize/all_pop/all_pop_metilene_N_S.txt\n"
     ]
    }
   ],
   "source": [
    "#metilene output from all population comparison that includes all samples\n",
    "!head ../summarize/all_pop/all_pop_metilene_N_S.txt\n",
    "!wc -l ../summarize/all_pop/all_pop_metilene_N_S.txt"
   ]
  },
  {
   "cell_type": "code",
   "execution_count": 84,
   "metadata": {},
   "outputs": [
    {
     "data": {
      "text/html": [
       "<div>\n",
       "<style scoped>\n",
       "    .dataframe tbody tr th:only-of-type {\n",
       "        vertical-align: middle;\n",
       "    }\n",
       "\n",
       "    .dataframe tbody tr th {\n",
       "        vertical-align: top;\n",
       "    }\n",
       "\n",
       "    .dataframe thead th {\n",
       "        text-align: right;\n",
       "    }\n",
       "</style>\n",
       "<table border=\"1\" class=\"dataframe\">\n",
       "  <thead>\n",
       "    <tr style=\"text-align: right;\">\n",
       "      <th></th>\n",
       "      <th>chr</th>\n",
       "      <th>pos</th>\n",
       "      <th>N_20-N4</th>\n",
       "      <th>N_5-N1</th>\n",
       "      <th>N_5-N2</th>\n",
       "      <th>N_20-N2</th>\n",
       "      <th>N_5-N3</th>\n",
       "      <th>N_20-N1</th>\n",
       "      <th>N_OC-N5</th>\n",
       "      <th>N_OC-N1</th>\n",
       "      <th>...</th>\n",
       "      <th>S_20-S4</th>\n",
       "      <th>S_5-S3</th>\n",
       "      <th>S_5-S4</th>\n",
       "      <th>S_5-S2</th>\n",
       "      <th>S_20-S2</th>\n",
       "      <th>S_5-S1</th>\n",
       "      <th>S_OC-S1</th>\n",
       "      <th>S_OC-S2</th>\n",
       "      <th>S_OC-S3</th>\n",
       "      <th>S_OC-S5</th>\n",
       "    </tr>\n",
       "  </thead>\n",
       "  <tbody>\n",
       "    <tr>\n",
       "      <td>0</td>\n",
       "      <td>JXMV01056319.1</td>\n",
       "      <td>89</td>\n",
       "      <td>0.15</td>\n",
       "      <td>0.07</td>\n",
       "      <td>0.00</td>\n",
       "      <td>0.16</td>\n",
       "      <td>0.05</td>\n",
       "      <td>0.35</td>\n",
       "      <td>0.22</td>\n",
       "      <td>0.52</td>\n",
       "      <td>...</td>\n",
       "      <td>0.06</td>\n",
       "      <td>0.12</td>\n",
       "      <td>0.03</td>\n",
       "      <td>0.10</td>\n",
       "      <td>0.0</td>\n",
       "      <td>0.04</td>\n",
       "      <td>0.02</td>\n",
       "      <td>0.08</td>\n",
       "      <td>0.02</td>\n",
       "      <td>0.00</td>\n",
       "    </tr>\n",
       "    <tr>\n",
       "      <td>1</td>\n",
       "      <td>JXMV01056319.1</td>\n",
       "      <td>145</td>\n",
       "      <td>0.00</td>\n",
       "      <td>0.28</td>\n",
       "      <td>0.00</td>\n",
       "      <td>0.00</td>\n",
       "      <td>0.35</td>\n",
       "      <td>0.03</td>\n",
       "      <td>0.00</td>\n",
       "      <td>0.01</td>\n",
       "      <td>...</td>\n",
       "      <td>0.01</td>\n",
       "      <td>0.00</td>\n",
       "      <td>0.01</td>\n",
       "      <td>0.33</td>\n",
       "      <td>0.0</td>\n",
       "      <td>0.00</td>\n",
       "      <td>0.02</td>\n",
       "      <td>0.03</td>\n",
       "      <td>0.34</td>\n",
       "      <td>0.75</td>\n",
       "    </tr>\n",
       "    <tr>\n",
       "      <td>2</td>\n",
       "      <td>JXMV01057363.1</td>\n",
       "      <td>4077</td>\n",
       "      <td>0.01</td>\n",
       "      <td>0.00</td>\n",
       "      <td>0.04</td>\n",
       "      <td>0.00</td>\n",
       "      <td>0.00</td>\n",
       "      <td>0.00</td>\n",
       "      <td>0.00</td>\n",
       "      <td>0.00</td>\n",
       "      <td>...</td>\n",
       "      <td>0.00</td>\n",
       "      <td>0.00</td>\n",
       "      <td>0.00</td>\n",
       "      <td>0.00</td>\n",
       "      <td>0.0</td>\n",
       "      <td>0.00</td>\n",
       "      <td>0.00</td>\n",
       "      <td>0.00</td>\n",
       "      <td>0.00</td>\n",
       "      <td>0.00</td>\n",
       "    </tr>\n",
       "    <tr>\n",
       "      <td>3</td>\n",
       "      <td>JXMV01057363.1</td>\n",
       "      <td>4120</td>\n",
       "      <td>0.13</td>\n",
       "      <td>0.00</td>\n",
       "      <td>0.00</td>\n",
       "      <td>0.00</td>\n",
       "      <td>0.00</td>\n",
       "      <td>0.00</td>\n",
       "      <td>0.00</td>\n",
       "      <td>0.00</td>\n",
       "      <td>...</td>\n",
       "      <td>0.00</td>\n",
       "      <td>0.00</td>\n",
       "      <td>0.00</td>\n",
       "      <td>0.00</td>\n",
       "      <td>0.0</td>\n",
       "      <td>0.00</td>\n",
       "      <td>0.00</td>\n",
       "      <td>0.00</td>\n",
       "      <td>0.00</td>\n",
       "      <td>0.00</td>\n",
       "    </tr>\n",
       "    <tr>\n",
       "      <td>4</td>\n",
       "      <td>JXMV01057451.1</td>\n",
       "      <td>2455</td>\n",
       "      <td>0.21</td>\n",
       "      <td>0.10</td>\n",
       "      <td>0.30</td>\n",
       "      <td>0.00</td>\n",
       "      <td>0.49</td>\n",
       "      <td>0.00</td>\n",
       "      <td>0.42</td>\n",
       "      <td>0.16</td>\n",
       "      <td>...</td>\n",
       "      <td>0.03</td>\n",
       "      <td>0.01</td>\n",
       "      <td>0.01</td>\n",
       "      <td>0.12</td>\n",
       "      <td>0.0</td>\n",
       "      <td>0.00</td>\n",
       "      <td>0.00</td>\n",
       "      <td>0.38</td>\n",
       "      <td>0.02</td>\n",
       "      <td>0.08</td>\n",
       "    </tr>\n",
       "  </tbody>\n",
       "</table>\n",
       "<p>5 rows × 24 columns</p>\n",
       "</div>"
      ],
      "text/plain": [
       "              chr   pos  N_20-N4  N_5-N1  N_5-N2  N_20-N2  N_5-N3  N_20-N1  \\\n",
       "0  JXMV01056319.1    89     0.15    0.07    0.00     0.16    0.05     0.35   \n",
       "1  JXMV01056319.1   145     0.00    0.28    0.00     0.00    0.35     0.03   \n",
       "2  JXMV01057363.1  4077     0.01    0.00    0.04     0.00    0.00     0.00   \n",
       "3  JXMV01057363.1  4120     0.13    0.00    0.00     0.00    0.00     0.00   \n",
       "4  JXMV01057451.1  2455     0.21    0.10    0.30     0.00    0.49     0.00   \n",
       "\n",
       "   N_OC-N5  N_OC-N1  ...  S_20-S4  S_5-S3  S_5-S4  S_5-S2  S_20-S2  S_5-S1  \\\n",
       "0     0.22     0.52  ...     0.06    0.12    0.03    0.10      0.0    0.04   \n",
       "1     0.00     0.01  ...     0.01    0.00    0.01    0.33      0.0    0.00   \n",
       "2     0.00     0.00  ...     0.00    0.00    0.00    0.00      0.0    0.00   \n",
       "3     0.00     0.00  ...     0.00    0.00    0.00    0.00      0.0    0.00   \n",
       "4     0.42     0.16  ...     0.03    0.01    0.01    0.12      0.0    0.00   \n",
       "\n",
       "   S_OC-S1  S_OC-S2  S_OC-S3  S_OC-S5  \n",
       "0     0.02     0.08     0.02     0.00  \n",
       "1     0.02     0.03     0.34     0.75  \n",
       "2     0.00     0.00     0.00     0.00  \n",
       "3     0.00     0.00     0.00     0.00  \n",
       "4     0.00     0.38     0.02     0.08  \n",
       "\n",
       "[5 rows x 24 columns]"
      ]
     },
     "execution_count": 84,
     "metadata": {},
     "output_type": "execute_result"
    }
   ],
   "source": [
    "#Import data into pandas\n",
    "#Check head\n",
    "df = pd.read_table(\"../summarize/all_pop/all_pop_metilene_N_S.txt\")\n",
    "df.head(5)"
   ]
  },
  {
   "cell_type": "code",
   "execution_count": 85,
   "metadata": {
    "scrolled": true
   },
   "outputs": [
    {
     "data": {
      "text/html": [
       "<div>\n",
       "<style scoped>\n",
       "    .dataframe tbody tr th:only-of-type {\n",
       "        vertical-align: middle;\n",
       "    }\n",
       "\n",
       "    .dataframe tbody tr th {\n",
       "        vertical-align: top;\n",
       "    }\n",
       "\n",
       "    .dataframe thead th {\n",
       "        text-align: right;\n",
       "    }\n",
       "</style>\n",
       "<table border=\"1\" class=\"dataframe\">\n",
       "  <thead>\n",
       "    <tr style=\"text-align: right;\">\n",
       "      <th></th>\n",
       "      <th>chr</th>\n",
       "      <th>pos</th>\n",
       "      <th>N_20-N4</th>\n",
       "      <th>N_5-N1</th>\n",
       "      <th>N_5-N2</th>\n",
       "      <th>N_20-N2</th>\n",
       "      <th>N_5-N3</th>\n",
       "      <th>N_20-N1</th>\n",
       "      <th>N_OC-N5</th>\n",
       "      <th>N_OC-N1</th>\n",
       "      <th>...</th>\n",
       "      <th>S_5-S3</th>\n",
       "      <th>S_5-S4</th>\n",
       "      <th>S_5-S2</th>\n",
       "      <th>S_20-S2</th>\n",
       "      <th>S_5-S1</th>\n",
       "      <th>S_OC-S1</th>\n",
       "      <th>S_OC-S2</th>\n",
       "      <th>S_OC-S3</th>\n",
       "      <th>S_OC-S5</th>\n",
       "      <th>average</th>\n",
       "    </tr>\n",
       "  </thead>\n",
       "  <tbody>\n",
       "    <tr>\n",
       "      <td>0</td>\n",
       "      <td>JXMV01056319.1</td>\n",
       "      <td>89</td>\n",
       "      <td>0.15</td>\n",
       "      <td>0.07</td>\n",
       "      <td>0.00</td>\n",
       "      <td>0.16</td>\n",
       "      <td>0.05</td>\n",
       "      <td>0.35</td>\n",
       "      <td>0.22</td>\n",
       "      <td>0.52</td>\n",
       "      <td>...</td>\n",
       "      <td>0.12</td>\n",
       "      <td>0.03</td>\n",
       "      <td>0.10</td>\n",
       "      <td>0.0</td>\n",
       "      <td>0.04</td>\n",
       "      <td>0.02</td>\n",
       "      <td>0.08</td>\n",
       "      <td>0.02</td>\n",
       "      <td>0.00</td>\n",
       "      <td>0.099545</td>\n",
       "    </tr>\n",
       "    <tr>\n",
       "      <td>1</td>\n",
       "      <td>JXMV01056319.1</td>\n",
       "      <td>145</td>\n",
       "      <td>0.00</td>\n",
       "      <td>0.28</td>\n",
       "      <td>0.00</td>\n",
       "      <td>0.00</td>\n",
       "      <td>0.35</td>\n",
       "      <td>0.03</td>\n",
       "      <td>0.00</td>\n",
       "      <td>0.01</td>\n",
       "      <td>...</td>\n",
       "      <td>0.00</td>\n",
       "      <td>0.01</td>\n",
       "      <td>0.33</td>\n",
       "      <td>0.0</td>\n",
       "      <td>0.00</td>\n",
       "      <td>0.02</td>\n",
       "      <td>0.03</td>\n",
       "      <td>0.34</td>\n",
       "      <td>0.75</td>\n",
       "      <td>0.115909</td>\n",
       "    </tr>\n",
       "    <tr>\n",
       "      <td>2</td>\n",
       "      <td>JXMV01057363.1</td>\n",
       "      <td>4077</td>\n",
       "      <td>0.01</td>\n",
       "      <td>0.00</td>\n",
       "      <td>0.04</td>\n",
       "      <td>0.00</td>\n",
       "      <td>0.00</td>\n",
       "      <td>0.00</td>\n",
       "      <td>0.00</td>\n",
       "      <td>0.00</td>\n",
       "      <td>...</td>\n",
       "      <td>0.00</td>\n",
       "      <td>0.00</td>\n",
       "      <td>0.00</td>\n",
       "      <td>0.0</td>\n",
       "      <td>0.00</td>\n",
       "      <td>0.00</td>\n",
       "      <td>0.00</td>\n",
       "      <td>0.00</td>\n",
       "      <td>0.00</td>\n",
       "      <td>0.010000</td>\n",
       "    </tr>\n",
       "    <tr>\n",
       "      <td>3</td>\n",
       "      <td>JXMV01057363.1</td>\n",
       "      <td>4120</td>\n",
       "      <td>0.13</td>\n",
       "      <td>0.00</td>\n",
       "      <td>0.00</td>\n",
       "      <td>0.00</td>\n",
       "      <td>0.00</td>\n",
       "      <td>0.00</td>\n",
       "      <td>0.00</td>\n",
       "      <td>0.00</td>\n",
       "      <td>...</td>\n",
       "      <td>0.00</td>\n",
       "      <td>0.00</td>\n",
       "      <td>0.00</td>\n",
       "      <td>0.0</td>\n",
       "      <td>0.00</td>\n",
       "      <td>0.00</td>\n",
       "      <td>0.00</td>\n",
       "      <td>0.00</td>\n",
       "      <td>0.00</td>\n",
       "      <td>0.005909</td>\n",
       "    </tr>\n",
       "    <tr>\n",
       "      <td>4</td>\n",
       "      <td>JXMV01057451.1</td>\n",
       "      <td>2455</td>\n",
       "      <td>0.21</td>\n",
       "      <td>0.10</td>\n",
       "      <td>0.30</td>\n",
       "      <td>0.00</td>\n",
       "      <td>0.49</td>\n",
       "      <td>0.00</td>\n",
       "      <td>0.42</td>\n",
       "      <td>0.16</td>\n",
       "      <td>...</td>\n",
       "      <td>0.01</td>\n",
       "      <td>0.01</td>\n",
       "      <td>0.12</td>\n",
       "      <td>0.0</td>\n",
       "      <td>0.00</td>\n",
       "      <td>0.00</td>\n",
       "      <td>0.38</td>\n",
       "      <td>0.02</td>\n",
       "      <td>0.08</td>\n",
       "      <td>0.132727</td>\n",
       "    </tr>\n",
       "    <tr>\n",
       "      <td>5</td>\n",
       "      <td>JXMV01058392.1</td>\n",
       "      <td>169</td>\n",
       "      <td>0.09</td>\n",
       "      <td>0.00</td>\n",
       "      <td>0.00</td>\n",
       "      <td>0.21</td>\n",
       "      <td>0.18</td>\n",
       "      <td>0.00</td>\n",
       "      <td>0.00</td>\n",
       "      <td>0.00</td>\n",
       "      <td>...</td>\n",
       "      <td>0.00</td>\n",
       "      <td>0.12</td>\n",
       "      <td>0.09</td>\n",
       "      <td>0.0</td>\n",
       "      <td>0.99</td>\n",
       "      <td>0.00</td>\n",
       "      <td>0.00</td>\n",
       "      <td>0.00</td>\n",
       "      <td>0.00</td>\n",
       "      <td>0.088636</td>\n",
       "    </tr>\n",
       "    <tr>\n",
       "      <td>6</td>\n",
       "      <td>JXMV01058392.1</td>\n",
       "      <td>174</td>\n",
       "      <td>0.00</td>\n",
       "      <td>0.00</td>\n",
       "      <td>0.00</td>\n",
       "      <td>0.00</td>\n",
       "      <td>0.00</td>\n",
       "      <td>0.00</td>\n",
       "      <td>0.00</td>\n",
       "      <td>0.00</td>\n",
       "      <td>...</td>\n",
       "      <td>0.00</td>\n",
       "      <td>0.00</td>\n",
       "      <td>0.00</td>\n",
       "      <td>0.0</td>\n",
       "      <td>0.00</td>\n",
       "      <td>0.11</td>\n",
       "      <td>0.60</td>\n",
       "      <td>0.00</td>\n",
       "      <td>0.00</td>\n",
       "      <td>0.037273</td>\n",
       "    </tr>\n",
       "    <tr>\n",
       "      <td>7</td>\n",
       "      <td>JXMV01058392.1</td>\n",
       "      <td>183</td>\n",
       "      <td>0.00</td>\n",
       "      <td>0.00</td>\n",
       "      <td>0.00</td>\n",
       "      <td>0.00</td>\n",
       "      <td>0.00</td>\n",
       "      <td>0.00</td>\n",
       "      <td>0.00</td>\n",
       "      <td>0.00</td>\n",
       "      <td>...</td>\n",
       "      <td>0.00</td>\n",
       "      <td>0.00</td>\n",
       "      <td>0.00</td>\n",
       "      <td>0.0</td>\n",
       "      <td>0.00</td>\n",
       "      <td>0.00</td>\n",
       "      <td>0.00</td>\n",
       "      <td>0.00</td>\n",
       "      <td>0.00</td>\n",
       "      <td>0.015000</td>\n",
       "    </tr>\n",
       "    <tr>\n",
       "      <td>8</td>\n",
       "      <td>JXMV01058392.1</td>\n",
       "      <td>190</td>\n",
       "      <td>0.00</td>\n",
       "      <td>0.00</td>\n",
       "      <td>0.00</td>\n",
       "      <td>0.06</td>\n",
       "      <td>0.00</td>\n",
       "      <td>0.00</td>\n",
       "      <td>0.00</td>\n",
       "      <td>0.00</td>\n",
       "      <td>...</td>\n",
       "      <td>0.00</td>\n",
       "      <td>0.00</td>\n",
       "      <td>0.08</td>\n",
       "      <td>0.0</td>\n",
       "      <td>0.00</td>\n",
       "      <td>0.00</td>\n",
       "      <td>0.00</td>\n",
       "      <td>0.00</td>\n",
       "      <td>0.00</td>\n",
       "      <td>0.006364</td>\n",
       "    </tr>\n",
       "    <tr>\n",
       "      <td>9</td>\n",
       "      <td>JXMV01058392.1</td>\n",
       "      <td>197</td>\n",
       "      <td>0.00</td>\n",
       "      <td>0.00</td>\n",
       "      <td>0.00</td>\n",
       "      <td>0.00</td>\n",
       "      <td>0.00</td>\n",
       "      <td>0.00</td>\n",
       "      <td>0.00</td>\n",
       "      <td>0.00</td>\n",
       "      <td>...</td>\n",
       "      <td>0.00</td>\n",
       "      <td>0.00</td>\n",
       "      <td>0.05</td>\n",
       "      <td>0.0</td>\n",
       "      <td>0.00</td>\n",
       "      <td>0.13</td>\n",
       "      <td>0.00</td>\n",
       "      <td>0.00</td>\n",
       "      <td>0.00</td>\n",
       "      <td>0.008182</td>\n",
       "    </tr>\n",
       "  </tbody>\n",
       "</table>\n",
       "<p>10 rows × 25 columns</p>\n",
       "</div>"
      ],
      "text/plain": [
       "              chr   pos  N_20-N4  N_5-N1  N_5-N2  N_20-N2  N_5-N3  N_20-N1  \\\n",
       "0  JXMV01056319.1    89     0.15    0.07    0.00     0.16    0.05     0.35   \n",
       "1  JXMV01056319.1   145     0.00    0.28    0.00     0.00    0.35     0.03   \n",
       "2  JXMV01057363.1  4077     0.01    0.00    0.04     0.00    0.00     0.00   \n",
       "3  JXMV01057363.1  4120     0.13    0.00    0.00     0.00    0.00     0.00   \n",
       "4  JXMV01057451.1  2455     0.21    0.10    0.30     0.00    0.49     0.00   \n",
       "5  JXMV01058392.1   169     0.09    0.00    0.00     0.21    0.18     0.00   \n",
       "6  JXMV01058392.1   174     0.00    0.00    0.00     0.00    0.00     0.00   \n",
       "7  JXMV01058392.1   183     0.00    0.00    0.00     0.00    0.00     0.00   \n",
       "8  JXMV01058392.1   190     0.00    0.00    0.00     0.06    0.00     0.00   \n",
       "9  JXMV01058392.1   197     0.00    0.00    0.00     0.00    0.00     0.00   \n",
       "\n",
       "   N_OC-N5  N_OC-N1  ...  S_5-S3  S_5-S4  S_5-S2  S_20-S2  S_5-S1  S_OC-S1  \\\n",
       "0     0.22     0.52  ...    0.12    0.03    0.10      0.0    0.04     0.02   \n",
       "1     0.00     0.01  ...    0.00    0.01    0.33      0.0    0.00     0.02   \n",
       "2     0.00     0.00  ...    0.00    0.00    0.00      0.0    0.00     0.00   \n",
       "3     0.00     0.00  ...    0.00    0.00    0.00      0.0    0.00     0.00   \n",
       "4     0.42     0.16  ...    0.01    0.01    0.12      0.0    0.00     0.00   \n",
       "5     0.00     0.00  ...    0.00    0.12    0.09      0.0    0.99     0.00   \n",
       "6     0.00     0.00  ...    0.00    0.00    0.00      0.0    0.00     0.11   \n",
       "7     0.00     0.00  ...    0.00    0.00    0.00      0.0    0.00     0.00   \n",
       "8     0.00     0.00  ...    0.00    0.00    0.08      0.0    0.00     0.00   \n",
       "9     0.00     0.00  ...    0.00    0.00    0.05      0.0    0.00     0.13   \n",
       "\n",
       "   S_OC-S2  S_OC-S3  S_OC-S5   average  \n",
       "0     0.08     0.02     0.00  0.099545  \n",
       "1     0.03     0.34     0.75  0.115909  \n",
       "2     0.00     0.00     0.00  0.010000  \n",
       "3     0.00     0.00     0.00  0.005909  \n",
       "4     0.38     0.02     0.08  0.132727  \n",
       "5     0.00     0.00     0.00  0.088636  \n",
       "6     0.60     0.00     0.00  0.037273  \n",
       "7     0.00     0.00     0.00  0.015000  \n",
       "8     0.00     0.00     0.00  0.006364  \n",
       "9     0.00     0.00     0.00  0.008182  \n",
       "\n",
       "[10 rows x 25 columns]"
      ]
     },
     "execution_count": 85,
     "metadata": {},
     "output_type": "execute_result"
    }
   ],
   "source": [
    "#Average all samples for total genome methylation information and save as a new column\n",
    "#NA are not included in averages\n",
    "#Check output\n",
    "df['average'] = df[['N_20-N4', 'N_5-N1', 'N_5-N2', 'N_20-N2', 'N_5-N3', 'N_20-N1', 'N_OC-N5', 'N_OC-N1', 'N_OC-N2', 'N_OC-N4', 'S_20-S1', 'S_20-S3', 'S_20-S4', 'S_5-S3', 'S_5-S4', 'S_5-S2', 'S_20-S2', 'S_5-S1', 'S_OC-S1', 'S_OC-S2', 'S_OC-S3', 'S_OC-S5']].mean(axis=1)\n",
    "df.head(10)"
   ]
  },
  {
   "cell_type": "code",
   "execution_count": 86,
   "metadata": {},
   "outputs": [],
   "source": [
    "#Save dataframe in a tabular format and include N/As. Do not include quotes.\n",
    "df.to_csv(\"all-samples-averages.bedgraph\", sep = \"\\t\", na_rep = \"N/A\", quoting = 3)"
   ]
  },
  {
   "cell_type": "code",
   "execution_count": 87,
   "metadata": {},
   "outputs": [
    {
     "name": "stdout",
     "output_type": "stream",
     "text": [
      "\tchr\tpos\tN_20-N4\tN_5-N1\tN_5-N2\tN_20-N2\tN_5-N3\tN_20-N1\tN_OC-N5\tN_OC-N1\tN_OC-N2\tN_OC-N4\tS_20-S1\tS_20-S3\tS_20-S4\tS_5-S3\tS_5-S4\tS_5-S2\tS_20-S2\tS_5-S1\tS_OC-S1\tS_OC-S2\tS_OC-S3\tS_OC-S5\taverage\n",
      "0\tJXMV01056319.1\t89\t0.15\t0.07\t0.0\t0.16\t0.05\t0.35\t0.22\t0.52\t0.09\t0.0\t0.06\t0.05\t0.06\t0.12\t0.03\t0.1\t0.0\t0.04\t0.02\t0.08\t0.02\t0.0\t0.09954545454545456\n",
      "1\tJXMV01056319.1\t145\t0.0\t0.28\t0.0\t0.0\t0.35\t0.03\t0.0\t0.01\t0.01\t0.27\t0.08\t0.03\t0.01\t0.0\t0.01\t0.33\t0.0\t0.0\t0.02\t0.03\t0.34\t0.75\t0.11590909090909092\n",
      "2\tJXMV01057363.1\t4077\t0.01\t0.0\t0.04\t0.0\t0.0\t0.0\t0.0\t0.0\t0.0\t0.0\t0.0\t0.17\t0.0\t0.0\t0.0\t0.0\t0.0\t0.0\t0.0\t0.0\t0.0\t0.0\t0.010000000000000002\n",
      "3\tJXMV01057363.1\t4120\t0.13\t0.0\t0.0\t0.0\t0.0\t0.0\t0.0\t0.0\t0.0\t0.0\t0.0\t0.0\t0.0\t0.0\t0.0\t0.0\t0.0\t0.0\t0.0\t0.0\t0.0\t0.0\t0.005909090909090909\n",
      "4\tJXMV01057451.1\t2455\t0.21\t0.1\t0.3\t0.0\t0.49\t0.0\t0.42\t0.16\t0.03\t0.31\t0.22\t0.03\t0.03\t0.01\t0.01\t0.12\t0.0\t0.0\t0.0\t0.38\t0.02\t0.08\t0.1327272727272727\n",
      "5\tJXMV01058392.1\t169\t0.09\t0.0\t0.0\t0.21\t0.18\t0.0\t0.0\t0.0\t0.0\t0.0\t0.16\t0.11\t0.0\t0.0\t0.12\t0.09\t0.0\t0.99\t0.0\t0.0\t0.0\t0.0\t0.08863636363636364\n",
      "6\tJXMV01058392.1\t174\t0.0\t0.0\t0.0\t0.0\t0.0\t0.0\t0.0\t0.0\t0.0\t0.0\t0.0\t0.0\t0.11\t0.0\t0.0\t0.0\t0.0\t0.0\t0.11\t0.6\t0.0\t0.0\t0.03727272727272727\n",
      "7\tJXMV01058392.1\t183\t0.0\t0.0\t0.0\t0.0\t0.0\t0.0\t0.0\t0.0\t0.0\t0.22\t0.0\t0.0\t0.11\t0.0\t0.0\t0.0\t0.0\t0.0\t0.0\t0.0\t0.0\t0.0\t0.015000000000000001\n",
      "8\tJXMV01058392.1\t190\t0.0\t0.0\t0.0\t0.06\t0.0\t0.0\t0.0\t0.0\t0.0\t0.0\t0.0\t0.0\t0.0\t0.0\t0.0\t0.08\t0.0\t0.0\t0.0\t0.0\t0.0\t0.0\t0.006363636363636364\n",
      "   14896 all-samples-averages.bedgraph\n"
     ]
    }
   ],
   "source": [
    "!head all-samples-averages.bedgraph\n",
    "!wc -l all-samples-averages.bedgraph"
   ]
  },
  {
   "cell_type": "markdown",
   "metadata": {},
   "source": [
    "### 2b. Number of methylated and unmethylated CpGs"
   ]
  },
  {
   "cell_type": "code",
   "execution_count": 88,
   "metadata": {},
   "outputs": [
    {
     "name": "stdout",
     "output_type": "stream",
     "text": [
      "    5249\r\n"
     ]
    }
   ],
   "source": [
    "#Remove header\n",
    "#Find CpGs with > 10% methylation\n",
    "#Count number of CpGs\n",
    "! tail -n+2 all-samples-averages.bedgraph \\\n",
    "| awk -F'\\t' -v OFS='\\t' '{if ($4 > .1) { print $26 }}' ${f} \\\n",
    "| wc -l"
   ]
  },
  {
   "cell_type": "code",
   "execution_count": 89,
   "metadata": {},
   "outputs": [
    {
     "name": "stdout",
     "output_type": "stream",
     "text": [
      "    9646\r\n"
     ]
    }
   ],
   "source": [
    "#Remove header\n",
    "#Find CpGs with > 10% methylation\n",
    "#Count number of CpGs\n",
    "! tail -n+2 all-samples-averages.bedgraph \\\n",
    "| awk -F'\\t' -v OFS='\\t' '{if ($4 <= .1) { print $26 }}' ${f} \\\n",
    "| wc -l"
   ]
  },
  {
   "cell_type": "code",
   "execution_count": 98,
   "metadata": {},
   "outputs": [
    {
     "name": "stdout",
     "output_type": "stream",
     "text": [
      "0.206832\r\n"
     ]
    }
   ],
   "source": [
    "#Calculate average methylation\n",
    "! tail -n+2 all-samples-averages.bedgraph \\\n",
    "| awk '{ total += $26; count++ } END { print total/count }'"
   ]
  },
  {
   "cell_type": "markdown",
   "metadata": {},
   "source": [
    "## 3. Methylation by population"
   ]
  },
  {
   "cell_type": "markdown",
   "metadata": {},
   "source": [
    "### 3a. New Bedford Harbor"
   ]
  },
  {
   "cell_type": "code",
   "execution_count": 90,
   "metadata": {
    "scrolled": true
   },
   "outputs": [
    {
     "name": "stdout",
     "output_type": "stream",
     "text": [
      "#chr\tstart\tend\tmean_N\n",
      "JXMV01056319.1\t88\t89\t0.161\n",
      "JXMV01056319.1\t144\t145\t0.095\n",
      "JXMV01057363.1\t4076\t4077\t0.005\n",
      "JXMV01057363.1\t4119\t4120\t0.013\n",
      "JXMV01057451.1\t2454\t2455\t0.202\n",
      "JXMV01058392.1\t168\t169\t0.048\n",
      "JXMV01058392.1\t173\t174\t0\n",
      "JXMV01058392.1\t182\t183\t0.022\n",
      "JXMV01058392.1\t189\t190\t0.006\n",
      "   14896 ../summarize/all_pop/all_pop_mean_N.bedgraph\n"
     ]
    }
   ],
   "source": [
    "#metilene output from all population comparison that includes all samples\n",
    "!head ../summarize/all_pop/all_pop_mean_N.bedgraph\n",
    "!wc -l ../summarize/all_pop/all_pop_mean_N.bedgraph"
   ]
  },
  {
   "cell_type": "code",
   "execution_count": 91,
   "metadata": {},
   "outputs": [
    {
     "name": "stdout",
     "output_type": "stream",
     "text": [
      "    5291\r\n"
     ]
    }
   ],
   "source": [
    "#Remove header\n",
    "#Find CpGs with > 10% methylation\n",
    "#Count number of CpGs\n",
    "! tail -n+2 ../summarize/all_pop/all_pop_mean_N.bedgraph \\\n",
    "| awk -F'\\t' -v OFS='\\t' '{if ($4 > .1) { print $4 }}' ${f} \\\n",
    "| wc -l"
   ]
  },
  {
   "cell_type": "code",
   "execution_count": 94,
   "metadata": {
    "scrolled": true
   },
   "outputs": [
    {
     "name": "stdout",
     "output_type": "stream",
     "text": [
      "    9604\r\n"
     ]
    }
   ],
   "source": [
    "#Remove header\n",
    "#Find CpGs with > 10% methylation\n",
    "#Count number of CpGs\n",
    "! tail -n+2 ../summarize/all_pop/all_pop_mean_N.bedgraph \\\n",
    "| awk -F'\\t' -v OFS='\\t' '{if ($4 <= .1) { print $4 }}' ${f} \\\n",
    "| wc -l"
   ]
  },
  {
   "cell_type": "code",
   "execution_count": 99,
   "metadata": {},
   "outputs": [
    {
     "name": "stdout",
     "output_type": "stream",
     "text": [
      "0.206366\r\n"
     ]
    }
   ],
   "source": [
    "#Calculate average methylation\n",
    "! tail -n+2 ../summarize/all_pop/all_pop_mean_N.bedgraph \\\n",
    "| awk '{ total += $4; count++ } END { print total/count }'"
   ]
  },
  {
   "cell_type": "markdown",
   "metadata": {},
   "source": [
    "### 3b. Scorton Creek"
   ]
  },
  {
   "cell_type": "code",
   "execution_count": 93,
   "metadata": {
    "scrolled": true
   },
   "outputs": [
    {
     "name": "stdout",
     "output_type": "stream",
     "text": [
      "#chr\tstart\tend\tmean_S\n",
      "JXMV01056319.1\t88\t89\t0.0483333333333333\n",
      "JXMV01056319.1\t144\t145\t0.133333333333333\n",
      "JXMV01057363.1\t4076\t4077\t0.0141666666666667\n",
      "JXMV01057363.1\t4119\t4120\t0\n",
      "JXMV01057451.1\t2454\t2455\t0.075\n",
      "JXMV01058392.1\t168\t169\t0.1225\n",
      "JXMV01058392.1\t173\t174\t0.0683333333333333\n",
      "JXMV01058392.1\t182\t183\t0.00916666666666667\n",
      "JXMV01058392.1\t189\t190\t0.00666666666666667\n",
      "   14896 ../summarize/all_pop/all_pop_mean_S.bedgraph\n"
     ]
    }
   ],
   "source": [
    "#metilene output from all population comparison that includes all samples\n",
    "!head ../summarize/all_pop/all_pop_mean_S.bedgraph\n",
    "!wc -l ../summarize/all_pop/all_pop_mean_S.bedgraph"
   ]
  },
  {
   "cell_type": "code",
   "execution_count": 95,
   "metadata": {},
   "outputs": [
    {
     "name": "stdout",
     "output_type": "stream",
     "text": [
      "    5249\r\n"
     ]
    }
   ],
   "source": [
    "#Remove header\n",
    "#Find CpGs with > 10% methylation\n",
    "#Count number of CpGs\n",
    "! tail -n+2 ../summarize/all_pop/all_pop_mean_S.bedgraph \\\n",
    "| awk -F'\\t' -v OFS='\\t' '{if ($4 > .1) { print $4 }}' ${f} \\\n",
    "| wc -l"
   ]
  },
  {
   "cell_type": "code",
   "execution_count": 96,
   "metadata": {
    "scrolled": true
   },
   "outputs": [
    {
     "name": "stdout",
     "output_type": "stream",
     "text": [
      "    9646\r\n"
     ]
    }
   ],
   "source": [
    "#Remove header\n",
    "#Find CpGs with > 10% methylation\n",
    "#Count number of CpGs\n",
    "! tail -n+2 ../summarize/all_pop/all_pop_mean_S.bedgraph \\\n",
    "| awk -F'\\t' -v OFS='\\t' '{if ($4 <= .1) { print $4 }}' ${f} \\\n",
    "| wc -l"
   ]
  },
  {
   "cell_type": "code",
   "execution_count": 100,
   "metadata": {},
   "outputs": [
    {
     "name": "stdout",
     "output_type": "stream",
     "text": [
      "0.207221\r\n"
     ]
    }
   ],
   "source": [
    "#Calculate average methylation\n",
    "! tail -n+2 ../summarize/all_pop/all_pop_mean_S.bedgraph \\\n",
    "| awk '{ total += $4; count++ } END { print total/count }'"
   ]
  },
  {
   "cell_type": "markdown",
   "metadata": {},
   "source": [
    "## 4. Methylation by population and oxygen treatment"
   ]
  },
  {
   "cell_type": "markdown",
   "metadata": {},
   "source": [
    "### 4a. New Bedford Harbor"
   ]
  },
  {
   "cell_type": "markdown",
   "metadata": {},
   "source": [
    "#### Hypoxia"
   ]
  },
  {
   "cell_type": "code",
   "execution_count": 101,
   "metadata": {
    "scrolled": true
   },
   "outputs": [
    {
     "name": "stdout",
     "output_type": "stream",
     "text": [
      "#chr\tstart\tend\tmean_HY\n",
      "JXMV01051582.1\t7434\t7435\t0.79\n",
      "JXMV01051582.1\t7456\t7457\t0.793333333333333\n",
      "JXMV01051582.1\t7487\t7488\t0.743333333333334\n",
      "JXMV01051609.1\t3477\t3478\t0.533333333333333\n",
      "JXMV01051609.1\t3494\t3495\t0.993333333333333\n",
      "JXMV01051609.1\t3501\t3502\t0.786666666666667\n",
      "JXMV01051609.1\t3511\t3512\t0.906666666666667\n",
      "JXMV01051609.1\t3517\t3518\t0.903333333333333\n",
      "JXMV01051609.1\t3522\t3523\t0.556666666666667\n",
      "  176287 ../summarize/20_5_N/N_mean_HY.bedgraph\n"
     ]
    }
   ],
   "source": [
    "#metilene output from all population comparison that includes all samples\n",
    "!head ../summarize/20_5_N/N_mean_HY.bedgraph\n",
    "!wc -l ../summarize/20_5_N/N_mean_HY.bedgraph"
   ]
  },
  {
   "cell_type": "code",
   "execution_count": 104,
   "metadata": {},
   "outputs": [
    {
     "name": "stdout",
     "output_type": "stream",
     "text": [
      "   61776\r\n"
     ]
    }
   ],
   "source": [
    "#Remove header\n",
    "#Find CpGs with > 10% methylation\n",
    "#Count number of CpGs\n",
    "! tail -n+2 ../summarize/20_5_N/N_mean_HY.bedgraph \\\n",
    "| awk -F'\\t' -v OFS='\\t' '{if ($4 > .1) { print $4 }}' ${f} \\\n",
    "| wc -l"
   ]
  },
  {
   "cell_type": "code",
   "execution_count": 105,
   "metadata": {
    "scrolled": true
   },
   "outputs": [
    {
     "name": "stdout",
     "output_type": "stream",
     "text": [
      "  114510\r\n"
     ]
    }
   ],
   "source": [
    "#Remove header\n",
    "#Find CpGs with > 10% methylation\n",
    "#Count number of CpGs\n",
    "! tail -n+2 ../summarize/20_5_N/N_mean_HY.bedgraph \\\n",
    "| awk -F'\\t' -v OFS='\\t' '{if ($4 <= .1) { print $4 }}' ${f} \\\n",
    "| wc -l"
   ]
  },
  {
   "cell_type": "code",
   "execution_count": 106,
   "metadata": {},
   "outputs": [
    {
     "name": "stdout",
     "output_type": "stream",
     "text": [
      "0.220691\r\n"
     ]
    }
   ],
   "source": [
    "#Calculate average methylation\n",
    "! tail -n+2 ../summarize/20_5_N/N_mean_HY.bedgraph \\\n",
    "| awk '{ total += $4; count++ } END { print total/count }'"
   ]
  },
  {
   "cell_type": "markdown",
   "metadata": {},
   "source": [
    "#### Normoxia"
   ]
  },
  {
   "cell_type": "code",
   "execution_count": 107,
   "metadata": {
    "scrolled": true
   },
   "outputs": [
    {
     "name": "stdout",
     "output_type": "stream",
     "text": [
      "#chr\tstart\tend\tmean_NO\n",
      "JXMV01051582.1\t7434\t7435\t0.513333333333333\n",
      "JXMV01051582.1\t7456\t7457\t0.48\n",
      "JXMV01051582.1\t7487\t7488\t0.596666666666667\n",
      "JXMV01051609.1\t3477\t3478\t0.553333333333333\n",
      "JXMV01051609.1\t3494\t3495\t0.77\n",
      "JXMV01051609.1\t3501\t3502\t0.283333333333333\n",
      "JXMV01051609.1\t3511\t3512\t0.77\n",
      "JXMV01051609.1\t3517\t3518\t0.806666666666667\n",
      "JXMV01051609.1\t3522\t3523\t0.766666666666667\n",
      "  176287 ../summarize/20_5_N/N_mean_NO.bedgraph\n"
     ]
    }
   ],
   "source": [
    "#metilene output from all population comparison that includes all samples\n",
    "!head ../summarize/20_5_N/N_mean_NO.bedgraph\n",
    "!wc -l ../summarize/20_5_N/N_mean_NO.bedgraph"
   ]
  },
  {
   "cell_type": "code",
   "execution_count": 108,
   "metadata": {},
   "outputs": [
    {
     "name": "stdout",
     "output_type": "stream",
     "text": [
      "   58056\r\n"
     ]
    }
   ],
   "source": [
    "#Remove header\n",
    "#Find CpGs with > 10% methylation\n",
    "#Count number of CpGs\n",
    "! tail -n+2 ../summarize/20_5_N/N_mean_NO.bedgraph \\\n",
    "| awk -F'\\t' -v OFS='\\t' '{if ($4 > .1) { print $4 }}' ${f} \\\n",
    "| wc -l"
   ]
  },
  {
   "cell_type": "code",
   "execution_count": 109,
   "metadata": {
    "scrolled": true
   },
   "outputs": [
    {
     "name": "stdout",
     "output_type": "stream",
     "text": [
      "  118230\r\n"
     ]
    }
   ],
   "source": [
    "#Remove header\n",
    "#Find CpGs with > 10% methylation\n",
    "#Count number of CpGs\n",
    "! tail -n+2 ../summarize/20_5_N/N_mean_NO.bedgraph \\\n",
    "| awk -F'\\t' -v OFS='\\t' '{if ($4 <= .1) { print $4 }}' ${f} \\\n",
    "| wc -l"
   ]
  },
  {
   "cell_type": "code",
   "execution_count": 110,
   "metadata": {},
   "outputs": [
    {
     "name": "stdout",
     "output_type": "stream",
     "text": [
      "0.204056\r\n"
     ]
    }
   ],
   "source": [
    "#Calculate average methylation\n",
    "! tail -n+2 ../summarize/20_5_N/N_mean_NO.bedgraph \\\n",
    "| awk '{ total += $4; count++ } END { print total/count }'"
   ]
  },
  {
   "cell_type": "markdown",
   "metadata": {},
   "source": [
    "### 4b. Scorton Creek"
   ]
  },
  {
   "cell_type": "markdown",
   "metadata": {},
   "source": [
    "#### Hypoxia"
   ]
  },
  {
   "cell_type": "code",
   "execution_count": 112,
   "metadata": {
    "scrolled": true
   },
   "outputs": [
    {
     "name": "stdout",
     "output_type": "stream",
     "text": [
      "#chr\tstart\tend\tmean_HY\n",
      "JXMV01052040.1\t7873\t7874\t0.245\n",
      "JXMV01052596.1\t1404\t1405\t0.0025\n",
      "JXMV01052596.1\t16004\t16005\t0.0475\n",
      "JXMV01052596.1\t16037\t16038\t0.045\n",
      "JXMV01052596.1\t16083\t16084\t0.045\n",
      "JXMV01052596.1\t16087\t16088\t0.045\n",
      "JXMV01052596.1\t16094\t16095\t0\n",
      "JXMV01054326.1\t10897\t10898\t0.6475\n",
      "JXMV01054326.1\t10902\t10903\t0.835\n",
      "   82306 ../summarize/20_5_S/S_mean_HY.bedgraph\n"
     ]
    }
   ],
   "source": [
    "#metilene output from all population comparison that includes all samples\n",
    "!head ../summarize/20_5_S/S_mean_HY.bedgraph\n",
    "!wc -l ../summarize/20_5_S/S_mean_HY.bedgraph"
   ]
  },
  {
   "cell_type": "code",
   "execution_count": 113,
   "metadata": {},
   "outputs": [
    {
     "name": "stdout",
     "output_type": "stream",
     "text": [
      "   22694\r\n"
     ]
    }
   ],
   "source": [
    "#Remove header\n",
    "#Find CpGs with > 10% methylation\n",
    "#Count number of CpGs\n",
    "! tail -n+2 ../summarize/20_5_S/S_mean_HY.bedgraph \\\n",
    "| awk -F'\\t' -v OFS='\\t' '{if ($4 > .1) { print $4 }}' ${f} \\\n",
    "| wc -l"
   ]
  },
  {
   "cell_type": "code",
   "execution_count": 114,
   "metadata": {
    "scrolled": true
   },
   "outputs": [
    {
     "name": "stdout",
     "output_type": "stream",
     "text": [
      "   59611\r\n"
     ]
    }
   ],
   "source": [
    "#Remove header\n",
    "#Find CpGs with > 10% methylation\n",
    "#Count number of CpGs\n",
    "! tail -n+2 ../summarize/20_5_S/S_mean_HY.bedgraph \\\n",
    "| awk -F'\\t' -v OFS='\\t' '{if ($4 <= .1) { print $4 }}' ${f} \\\n",
    "| wc -l"
   ]
  },
  {
   "cell_type": "code",
   "execution_count": 115,
   "metadata": {},
   "outputs": [
    {
     "name": "stdout",
     "output_type": "stream",
     "text": [
      "0.164196\r\n"
     ]
    }
   ],
   "source": [
    "#Calculate average methylation\n",
    "! tail -n+2 ../summarize/20_5_S/S_mean_HY.bedgraph \\\n",
    "| awk '{ total += $4; count++ } END { print total/count }'"
   ]
  },
  {
   "cell_type": "markdown",
   "metadata": {},
   "source": [
    "#### Normoxia"
   ]
  },
  {
   "cell_type": "code",
   "execution_count": 116,
   "metadata": {
    "scrolled": true
   },
   "outputs": [
    {
     "name": "stdout",
     "output_type": "stream",
     "text": [
      "#chr\tstart\tend\tmean_NO\n",
      "JXMV01052040.1\t7873\t7874\t0.2175\n",
      "JXMV01052596.1\t1404\t1405\t0\n",
      "JXMV01052596.1\t16004\t16005\t0\n",
      "JXMV01052596.1\t16037\t16038\t0\n",
      "JXMV01052596.1\t16083\t16084\t0\n",
      "JXMV01052596.1\t16087\t16088\t0\n",
      "JXMV01052596.1\t16094\t16095\t0\n",
      "JXMV01054326.1\t10897\t10898\t0.6875\n",
      "JXMV01054326.1\t10902\t10903\t0.7925\n",
      "   82306 ../summarize/20_5_S/S_mean_NO.bedgraph\n"
     ]
    }
   ],
   "source": [
    "#metilene output from all population comparison that includes all samples\n",
    "!head ../summarize/20_5_S/S_mean_NO.bedgraph\n",
    "!wc -l ../summarize/20_5_S/S_mean_NO.bedgraph"
   ]
  },
  {
   "cell_type": "code",
   "execution_count": 117,
   "metadata": {},
   "outputs": [
    {
     "name": "stdout",
     "output_type": "stream",
     "text": [
      "   22822\r\n"
     ]
    }
   ],
   "source": [
    "#Remove header\n",
    "#Find CpGs with > 10% methylation\n",
    "#Count number of CpGs\n",
    "! tail -n+2 ../summarize/20_5_S/S_mean_NO.bedgraph \\\n",
    "| awk -F'\\t' -v OFS='\\t' '{if ($4 > .1) { print $4 }}' ${f} \\\n",
    "| wc -l"
   ]
  },
  {
   "cell_type": "code",
   "execution_count": 118,
   "metadata": {
    "scrolled": true
   },
   "outputs": [
    {
     "name": "stdout",
     "output_type": "stream",
     "text": [
      "   59483\r\n"
     ]
    }
   ],
   "source": [
    "#Remove header\n",
    "#Find CpGs with > 10% methylation\n",
    "#Count number of CpGs\n",
    "! tail -n+2 ../summarize/20_5_S/S_mean_NO.bedgraph \\\n",
    "| awk -F'\\t' -v OFS='\\t' '{if ($4 <= .1) { print $4 }}' ${f} \\\n",
    "| wc -l"
   ]
  },
  {
   "cell_type": "code",
   "execution_count": 119,
   "metadata": {},
   "outputs": [
    {
     "name": "stdout",
     "output_type": "stream",
     "text": [
      "0.161531\r\n"
     ]
    }
   ],
   "source": [
    "#Calculate average methylation\n",
    "! tail -n+2 ../summarize/20_5_S/S_mean_NO.bedgraph \\\n",
    "| awk '{ total += $4; count++ } END { print total/count }'"
   ]
  },
  {
   "cell_type": "code",
   "execution_count": null,
   "metadata": {},
   "outputs": [],
   "source": []
  }
 ],
 "metadata": {
  "kernelspec": {
   "display_name": "Python 3",
   "language": "python",
   "name": "python3"
  },
  "language_info": {
   "codemirror_mode": {
    "name": "ipython",
    "version": 3
   },
   "file_extension": ".py",
   "mimetype": "text/x-python",
   "name": "python",
   "nbconvert_exporter": "python",
   "pygments_lexer": "ipython3",
   "version": "3.7.4"
  }
 },
 "nbformat": 4,
 "nbformat_minor": 2
}
