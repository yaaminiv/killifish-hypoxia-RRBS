{
 "cells": [
  {
   "cell_type": "markdown",
   "metadata": {},
   "source": [
    "# Genomic Location of DMR"
   ]
  },
  {
   "cell_type": "markdown",
   "metadata": {},
   "source": [
    "In this notebook, I will identify the genomic locations of [DMR identified with `BAT_DMRcalling`](https://github.com/yaaminiv/killifish-hypoxia-RRBS/blob/main/code/06-DMR.sh). "
   ]
  },
  {
   "cell_type": "markdown",
   "metadata": {},
   "source": [
    "## 0. Set working directory"
   ]
  },
  {
   "cell_type": "code",
   "execution_count": 1,
   "metadata": {},
   "outputs": [
    {
     "data": {
      "text/plain": [
       "'/Users/yaaminivenkataraman/Documents/killifish-hypoxia-RRBS/code'"
      ]
     },
     "execution_count": 1,
     "metadata": {},
     "output_type": "execute_result"
    }
   ],
   "source": [
    "pwd"
   ]
  },
  {
   "cell_type": "code",
   "execution_count": 2,
   "metadata": {},
   "outputs": [
    {
     "name": "stdout",
     "output_type": "stream",
     "text": [
      "/Users/yaaminivenkataraman/Documents/killifish-hypoxia-RRBS/output\n"
     ]
    }
   ],
   "source": [
    "cd ../output/"
   ]
  },
  {
   "cell_type": "code",
   "execution_count": 3,
   "metadata": {},
   "outputs": [
    {
     "name": "stdout",
     "output_type": "stream",
     "text": [
      "mkdir: 08-annotate-DMR: File exists\r\n"
     ]
    }
   ],
   "source": [
    "!mkdir 08-annotate-DMR"
   ]
  },
  {
   "cell_type": "code",
   "execution_count": 4,
   "metadata": {},
   "outputs": [
    {
     "name": "stdout",
     "output_type": "stream",
     "text": [
      "/Users/yaaminivenkataraman/Documents/killifish-hypoxia-RRBS/output/08-annotate-DMR\n"
     ]
    }
   ],
   "source": [
    "cd 08-annotate-DMR/"
   ]
  },
  {
   "cell_type": "code",
   "execution_count": 5,
   "metadata": {},
   "outputs": [],
   "source": [
    "bedtoolsDirectory = \"/opt/homebrew/bin/\""
   ]
  },
  {
   "cell_type": "markdown",
   "metadata": {},
   "source": [
    "## 1. Identify overlaps between DML lists"
   ]
  },
  {
   "cell_type": "markdown",
   "metadata": {},
   "source": [
    "I identified DML with and without L4 samples for each contrast. I want to see if the DML identified are similar, irrespective of L4 sample inclusion."
   ]
  },
  {
   "cell_type": "markdown",
   "metadata": {},
   "source": [
    "### 1a. `20_pop_diff`"
   ]
  },
  {
   "cell_type": "code",
   "execution_count": 5,
   "metadata": {},
   "outputs": [
    {
     "name": "stdout",
     "output_type": "stream",
     "text": [
      "       1 ../06-DMR/20_pop_diff/20_pop_diff_qval.0.05.bed\n",
      "       1 ../06-DMR/no-L4/20_pop_diff/20_pop_diff_qval.0.05.bed\n"
     ]
    }
   ],
   "source": [
    "!wc -l ../06-DMR/20_pop_diff/20_pop_diff_qval.0.05.bed\n",
    "!wc -l ../06-DMR/no-L4/20_pop_diff/20_pop_diff_qval.0.05.bed"
   ]
  },
  {
   "cell_type": "code",
   "execution_count": 6,
   "metadata": {},
   "outputs": [
    {
     "name": "stdout",
     "output_type": "stream",
     "text": [
      "       1\r\n"
     ]
    }
   ],
   "source": [
    "!{bedtoolsDirectory}intersectBed \\\n",
    "-a ../06-DMR/20_pop_diff/20_pop_diff_qval.0.05.bed \\\n",
    "-b ../06-DMR/no-L4/20_pop_diff/20_pop_diff_qval.0.05.bed \\\n",
    "| wc -l"
   ]
  },
  {
   "cell_type": "code",
   "execution_count": 7,
   "metadata": {},
   "outputs": [
    {
     "name": "stdout",
     "output_type": "stream",
     "text": [
      "KN806932.1\t34456\t34729\tDMR_1\thypomethylated\r\n"
     ]
    }
   ],
   "source": [
    "!{bedtoolsDirectory}intersectBed \\\n",
    "-a ../06-DMR/20_pop_diff/20_pop_diff_qval.0.05.bed \\\n",
    "-b ../06-DMR/no-L4/20_pop_diff/20_pop_diff_qval.0.05.bed"
   ]
  },
  {
   "cell_type": "markdown",
   "metadata": {},
   "source": [
    "### 1b. `5_pop_diff`"
   ]
  },
  {
   "cell_type": "code",
   "execution_count": 8,
   "metadata": {},
   "outputs": [
    {
     "name": "stdout",
     "output_type": "stream",
     "text": [
      "       2 ../06-DMR/5_pop_diff/5_pop_diff_qval.0.05.bed\n",
      "       2 ../06-DMR/no-L4/5_pop_diff/5_pop_diff_qval.0.05.bed\n"
     ]
    }
   ],
   "source": [
    "!wc -l ../06-DMR/5_pop_diff/5_pop_diff_qval.0.05.bed\n",
    "!wc -l ../06-DMR/no-L4/5_pop_diff/5_pop_diff_qval.0.05.bed"
   ]
  },
  {
   "cell_type": "code",
   "execution_count": 9,
   "metadata": {},
   "outputs": [
    {
     "name": "stdout",
     "output_type": "stream",
     "text": [
      "       2\r\n"
     ]
    }
   ],
   "source": [
    "!{bedtoolsDirectory}intersectBed \\\n",
    "-a ../06-DMR/5_pop_diff/5_pop_diff_qval.0.05.bed \\\n",
    "-b ../06-DMR/no-L4/5_pop_diff/5_pop_diff_qval.0.05.bed \\\n",
    "| wc -l"
   ]
  },
  {
   "cell_type": "code",
   "execution_count": 10,
   "metadata": {},
   "outputs": [
    {
     "name": "stdout",
     "output_type": "stream",
     "text": [
      "KN805688.1\t500679\t500775\tDMR_1\thypomethylated\r\n",
      "KN811384.1\t437656\t437724\tDMR_2\thypermethylated\r\n"
     ]
    }
   ],
   "source": [
    "!{bedtoolsDirectory}intersectBed \\\n",
    "-a ../06-DMR/5_pop_diff/5_pop_diff_qval.0.05.bed \\\n",
    "-b ../06-DMR/no-L4/5_pop_diff/5_pop_diff_qval.0.05.bed"
   ]
  },
  {
   "cell_type": "markdown",
   "metadata": {},
   "source": [
    "### 1c. `OC_pop_diff`"
   ]
  },
  {
   "cell_type": "code",
   "execution_count": 11,
   "metadata": {},
   "outputs": [
    {
     "name": "stdout",
     "output_type": "stream",
     "text": [
      "       1 ../06-DMR/OC_pop_diff/OC_pop_diff_qval.0.05.bed\n",
      "       1 ../06-DMR/no-L4/OC_pop_diff/OC_pop_diff_qval.0.05.bed\n"
     ]
    }
   ],
   "source": [
    "!wc -l ../06-DMR/OC_pop_diff/OC_pop_diff_qval.0.05.bed\n",
    "!wc -l ../06-DMR/no-L4/OC_pop_diff/OC_pop_diff_qval.0.05.bed"
   ]
  },
  {
   "cell_type": "code",
   "execution_count": 12,
   "metadata": {},
   "outputs": [
    {
     "name": "stdout",
     "output_type": "stream",
     "text": [
      "       1\r\n"
     ]
    }
   ],
   "source": [
    "!{bedtoolsDirectory}intersectBed \\\n",
    "-a ../06-DMR/OC_pop_diff/OC_pop_diff_qval.0.05.bed \\\n",
    "-b ../06-DMR/no-L4/OC_pop_diff/OC_pop_diff_qval.0.05.bed \\\n",
    "| wc -l"
   ]
  },
  {
   "cell_type": "code",
   "execution_count": 13,
   "metadata": {},
   "outputs": [
    {
     "name": "stdout",
     "output_type": "stream",
     "text": [
      "KN805540.1\t286626\t286713\tDMR_1\thypermethylated\r\n"
     ]
    }
   ],
   "source": [
    "!{bedtoolsDirectory}intersectBed \\\n",
    "-a ../06-DMR/OC_pop_diff/OC_pop_diff_qval.0.05.bed \\\n",
    "-b ../06-DMR/no-L4/OC_pop_diff/OC_pop_diff_qval.0.05.bed"
   ]
  },
  {
   "cell_type": "markdown",
   "metadata": {},
   "source": [
    "### 1d. `20_5_N`"
   ]
  },
  {
   "cell_type": "code",
   "execution_count": 14,
   "metadata": {},
   "outputs": [
    {
     "name": "stdout",
     "output_type": "stream",
     "text": [
      "       2 ../06-DMR/20_5_N/20_5_N_qval.0.05.bed\n",
      "       2 ../06-DMR/no-L4/20_5_N/20_5_N_qval.0.05.bed\n"
     ]
    }
   ],
   "source": [
    "!wc -l ../06-DMR/20_5_N/20_5_N_qval.0.05.bed\n",
    "!wc -l ../06-DMR/no-L4/20_5_N/20_5_N_qval.0.05.bed"
   ]
  },
  {
   "cell_type": "code",
   "execution_count": 15,
   "metadata": {},
   "outputs": [
    {
     "name": "stdout",
     "output_type": "stream",
     "text": [
      "       2\r\n"
     ]
    }
   ],
   "source": [
    "!{bedtoolsDirectory}intersectBed \\\n",
    "-a ../06-DMR/20_5_N/20_5_N_qval.0.05.bed \\\n",
    "-b ../06-DMR/no-L4/20_5_N/20_5_N_qval.0.05.bed \\\n",
    "| wc -l"
   ]
  },
  {
   "cell_type": "code",
   "execution_count": 16,
   "metadata": {},
   "outputs": [
    {
     "name": "stdout",
     "output_type": "stream",
     "text": [
      "KN806487.1\t130260\t130476\tDMR_1\thypermethylated\r\n",
      "KN811321.1\t578486\t578795\tDMR_2\thypomethylated\r\n"
     ]
    }
   ],
   "source": [
    "!{bedtoolsDirectory}intersectBed \\\n",
    "-a ../06-DMR/20_5_N/20_5_N_qval.0.05.bed \\\n",
    "-b ../06-DMR/no-L4/20_5_N/20_5_N_qval.0.05.bed"
   ]
  },
  {
   "cell_type": "markdown",
   "metadata": {},
   "source": [
    "### 1e. `20_5_S`"
   ]
  },
  {
   "cell_type": "code",
   "execution_count": 17,
   "metadata": {},
   "outputs": [
    {
     "name": "stdout",
     "output_type": "stream",
     "text": [
      "       1 ../06-DMR/20_5_S/20_5_S_qval.0.05.bed\n",
      "       1 ../06-DMR/no-L4/20_5_S/20_5_S_qval.0.05.bed\n"
     ]
    }
   ],
   "source": [
    "!wc -l ../06-DMR/20_5_S/20_5_S_qval.0.05.bed\n",
    "!wc -l ../06-DMR/no-L4/20_5_S/20_5_S_qval.0.05.bed"
   ]
  },
  {
   "cell_type": "code",
   "execution_count": 18,
   "metadata": {},
   "outputs": [
    {
     "name": "stdout",
     "output_type": "stream",
     "text": [
      "       1\r\n"
     ]
    }
   ],
   "source": [
    "!{bedtoolsDirectory}intersectBed \\\n",
    "-a ../06-DMR/20_5_S/20_5_S_qval.0.05.bed \\\n",
    "-b ../06-DMR/no-L4/20_5_S/20_5_S_qval.0.05.bed \\\n",
    "| wc -l"
   ]
  },
  {
   "cell_type": "code",
   "execution_count": 19,
   "metadata": {},
   "outputs": [
    {
     "name": "stdout",
     "output_type": "stream",
     "text": [
      "KN811550.1\t428041\t428146\tDMR_1\thypermethylated\r\n"
     ]
    }
   ],
   "source": [
    "!{bedtoolsDirectory}intersectBed \\\n",
    "-a ../06-DMR/20_5_S/20_5_S_qval.0.05.bed \\\n",
    "-b ../06-DMR/no-L4/20_5_S/20_5_S_qval.0.05.bed"
   ]
  },
  {
   "cell_type": "markdown",
   "metadata": {},
   "source": [
    "### 1f. `20_OC_S`"
   ]
  },
  {
   "cell_type": "code",
   "execution_count": 20,
   "metadata": {},
   "outputs": [
    {
     "name": "stdout",
     "output_type": "stream",
     "text": [
      "       1 ../06-DMR/20_OC_S/20_OC_S_qval.0.05.bed\n",
      "       1 ../06-DMR/no-L4/20_OC_S/20_OC_S_qval.0.05.bed\n"
     ]
    }
   ],
   "source": [
    "!wc -l ../06-DMR/20_OC_S/20_OC_S_qval.0.05.bed\n",
    "!wc -l ../06-DMR/no-L4/20_OC_S/20_OC_S_qval.0.05.bed"
   ]
  },
  {
   "cell_type": "code",
   "execution_count": 21,
   "metadata": {},
   "outputs": [
    {
     "name": "stdout",
     "output_type": "stream",
     "text": [
      "       1\r\n"
     ]
    }
   ],
   "source": [
    "!{bedtoolsDirectory}intersectBed \\\n",
    "-a ../06-DMR/20_OC_S/20_OC_S_qval.0.05.bed \\\n",
    "-b ../06-DMR/no-L4/20_OC_S/20_OC_S_qval.0.05.bed \\\n",
    "| wc -l"
   ]
  },
  {
   "cell_type": "code",
   "execution_count": 22,
   "metadata": {},
   "outputs": [
    {
     "name": "stdout",
     "output_type": "stream",
     "text": [
      "KN811550.1\t428041\t428146\tDMR_1\thypermethylated\r\n"
     ]
    }
   ],
   "source": [
    "!{bedtoolsDirectory}intersectBed \\\n",
    "-a ../06-DMR/20_OC_S/20_OC_S_qval.0.05.bed \\\n",
    "-b ../06-DMR/no-L4/20_OC_S/20_OC_S_qval.0.05.bed"
   ]
  },
  {
   "cell_type": "markdown",
   "metadata": {},
   "source": [
    "## 2. Characterize genomic locations of DML"
   ]
  },
  {
   "cell_type": "markdown",
   "metadata": {},
   "source": [
    "I will identify the closest genome feature to DMR identified using L4 samples, since there were overlaps between what was identified. To use `closestBed`, all input files need to be sorted in the same order as the genome file."
   ]
  },
  {
   "cell_type": "code",
   "execution_count": 34,
   "metadata": {},
   "outputs": [
    {
     "name": "stdout",
     "output_type": "stream",
     "text": [
      "../06-DMR/20_5_N/20_5_N_qval.0.05.bed\r\n",
      "../06-DMR/20_5_S/20_5_S_qval.0.05.bed\r\n",
      "../06-DMR/20_OC_N/20_OC_N_qval.0.05.bed\r\n",
      "../06-DMR/20_OC_S/20_OC_S_qval.0.05.bed\r\n",
      "../06-DMR/20_pop_diff/20_pop_diff_qval.0.05.bed\r\n",
      "../06-DMR/5_pop_diff/5_pop_diff_qval.0.05.bed\r\n",
      "../06-DMR/OC_pop_diff/OC_pop_diff_qval.0.05.bed\r\n",
      "../06-DMR/all_pop/all_pop_qval.0.05.bed\r\n"
     ]
    }
   ],
   "source": [
    "!find ../06-DMR/*/*.bed"
   ]
  },
  {
   "cell_type": "code",
   "execution_count": 20,
   "metadata": {},
   "outputs": [],
   "source": [
    "%%bash \n",
    "\n",
    "for f in ../06-DMR/*/*.bed\n",
    "do\n",
    "   /opt/homebrew/bin/sortBed \\\n",
    "   -i ${f} \\\n",
    "   -faidx ../../genome-features/mummichog.chrom.length \\\n",
    "   > $(basename ${f%_qval.0.05.bed})_DMR.sort.bed\n",
    "done"
   ]
  },
  {
   "cell_type": "code",
   "execution_count": 21,
   "metadata": {},
   "outputs": [
    {
     "name": "stdout",
     "output_type": "stream",
     "text": [
      "==> 20_5_N_DMR.sort.bed <==\r\n",
      "KN811321.1\t578486\t578795\tDMR_2\thypomethylated\r\n",
      "KN806487.1\t130260\t130476\tDMR_1\thypermethylated\r\n",
      "\r\n",
      "==> 20_5_S_DMR.sort.bed <==\r\n",
      "KN811550.1\t428041\t428146\tDMR_1\thypermethylated\r\n",
      "\r\n",
      "==> 20_OC_N_DMR.sort.bed <==\r\n",
      "\r\n",
      "==> 20_OC_S_DMR.sort.bed <==\r\n",
      "KN811550.1\t428041\t428146\tDMR_1\thypermethylated\r\n",
      "\r\n",
      "==> 20_pop_diff_DMR.sort.bed <==\r\n",
      "KN806932.1\t34456\t34729\tDMR_1\thypomethylated\r\n",
      "\r\n",
      "==> 5_pop_diff_DMR.sort.bed <==\r\n",
      "KN811384.1\t437656\t437724\tDMR_2\thypermethylated\r\n",
      "KN805688.1\t500679\t500775\tDMR_1\thypomethylated\r\n",
      "\r\n",
      "==> OC_pop_diff_DMR.sort.bed <==\r\n",
      "KN805540.1\t286626\t286713\tDMR_1\thypermethylated\r\n",
      "\r\n",
      "==> all_pop_DMR.sort.bed <==\r\n"
     ]
    }
   ],
   "source": [
    "!head *DMR.sort.bed"
   ]
  },
  {
   "cell_type": "code",
   "execution_count": 22,
   "metadata": {},
   "outputs": [],
   "source": [
    "#Remove empty files (no DMR in those contrasts)\n",
    "!rm 20_OC_N_DMR.sort.bed all_pop_DMR.sort.bed"
   ]
  },
  {
   "cell_type": "code",
   "execution_count": 23,
   "metadata": {},
   "outputs": [
    {
     "name": "stdout",
     "output_type": "stream",
     "text": [
      "20_5_N_DMR.sort.bed      20_OC_S_DMR.sort.bed     5_pop_diff_DMR.sort.bed\r\n",
      "20_5_S_DMR.sort.bed      20_pop_diff_DMR.sort.bed OC_pop_diff_DMR.sort.bed\r\n"
     ]
    }
   ],
   "source": [
    "!ls *sort.bed"
   ]
  },
  {
   "cell_type": "markdown",
   "metadata": {},
   "source": [
    "### 2a. Gene"
   ]
  },
  {
   "cell_type": "code",
   "execution_count": 7,
   "metadata": {},
   "outputs": [],
   "source": [
    "%%bash\n",
    "\n",
    "for f in *DMR.sort.bed\n",
    "do\n",
    "   /opt/homebrew/bin/closestBed \\\n",
    "   -D \"ref\" \\\n",
    "   -a ${f} \\\n",
    "   -b ../../genome-features/Fundulus_heteroclitus-3.0.2.105-gene.gff \\\n",
    "   -g ../../genome-features/mummichog.chrom.length \\\n",
    "   > $(basename ${f%_DMR.sort.bed})_DMR.closestGene.bed\n",
    "done"
   ]
  },
  {
   "cell_type": "code",
   "execution_count": 8,
   "metadata": {},
   "outputs": [
    {
     "name": "stdout",
     "output_type": "stream",
     "text": [
      "20_5_N_DMR.closestGene.bed      20_pop_diff_DMR.closestGene.bed\r\n",
      "20_5_S_DMR.closestGene.bed      5_pop_diff_DMR.closestGene.bed\r\n",
      "20_OC_S_DMR.closestGene.bed     OC_pop_diff_DMR.closestGene.bed\r\n"
     ]
    }
   ],
   "source": [
    "!ls *DMR.closestGene.bed"
   ]
  },
  {
   "cell_type": "code",
   "execution_count": 9,
   "metadata": {},
   "outputs": [
    {
     "name": "stdout",
     "output_type": "stream",
     "text": [
      "==> 20_5_N_DMR.closestGene.bed <==\r\n",
      "KN811321.1\t578486\t578795\tDMR_2\thypomethylated\tKN811321.1\tensembl\tgene\t420684\t556476\t.\t+\t.\tgene_id \"ENSFHEG00000011518\"; gene_version \"1\"; gene_source \"ensembl\"; gene_biotype \"protein_coding\";\t-22011\r\n",
      "KN806487.1\t130260\t130476\tDMR_1\thypermethylated\t.\t.\t.\t-1\t-1\t.\t.\t.\t.\t-1\r\n",
      "\r\n",
      "==> 20_5_S_DMR.closestGene.bed <==\r\n",
      "KN811550.1\t428041\t428146\tDMR_1\thypermethylated\tKN811550.1\tensembl\tgene\t367696\t433322\t.\t-\t.\tgene_id \"ENSFHEG00000018186\"; gene_version \"1\"; gene_name \"iqgap1\"; gene_source \"ensembl\"; gene_biotype \"protein_coding\"; projection_parent_gene \"ENSDARG00000078888.5\";\t0\r\n",
      "\r\n",
      "==> 20_OC_S_DMR.closestGene.bed <==\r\n",
      "KN811550.1\t428041\t428146\tDMR_1\thypermethylated\tKN811550.1\tensembl\tgene\t367696\t433322\t.\t-\t.\tgene_id \"ENSFHEG00000018186\"; gene_version \"1\"; gene_name \"iqgap1\"; gene_source \"ensembl\"; gene_biotype \"protein_coding\"; projection_parent_gene \"ENSDARG00000078888.5\";\t0\r\n",
      "\r\n",
      "==> 20_pop_diff_DMR.closestGene.bed <==\r\n",
      "KN806932.1\t34456\t34729\tDMR_1\thypomethylated\tKN806932.1\tensembl\tgene\t1578\t9938\t.\t+\t.\tgene_id \"ENSFHEG00000021357\"; gene_version \"1\"; gene_source \"ensembl\"; gene_biotype \"protein_coding\";\t-24519\r\n",
      "\r\n",
      "==> 5_pop_diff_DMR.closestGene.bed <==\r\n",
      "KN811384.1\t437656\t437724\tDMR_2\thypermethylated\tKN811384.1\tensembl\tgene\t426481\t448512\t.\t-\t.\tgene_id \"ENSFHEG00000006153\"; gene_version \"1\"; gene_name \"aspa\"; gene_source \"ensembl\"; gene_biotype \"protein_coding\";\t0\r\n",
      "KN805688.1\t500679\t500775\tDMR_1\thypomethylated\tKN805688.1\tensembl\tgene\t438919\t445512\t.\t-\t.\tgene_id \"ENSFHEG00000009972\"; gene_version \"1\"; gene_name \"znf423\"; gene_source \"ensembl\"; gene_biotype \"protein_coding\";\t-55168\r\n",
      "\r\n",
      "==> OC_pop_diff_DMR.closestGene.bed <==\r\n",
      "KN805540.1\t286626\t286713\tDMR_1\thypermethylated\tKN805540.1\tensembl\tgene\t271056\t407855\t.\t-\t.\tgene_id \"ENSFHEG00000007469\"; gene_version \"1\"; gene_name \"SHISA6\"; gene_source \"ensembl\"; gene_biotype \"protein_coding\";\t0\r\n"
     ]
    }
   ],
   "source": [
    "!head *DMR.closestGene.bed"
   ]
  },
  {
   "cell_type": "markdown",
   "metadata": {},
   "source": [
    "### 2b. 5' UTR"
   ]
  },
  {
   "cell_type": "code",
   "execution_count": 10,
   "metadata": {},
   "outputs": [],
   "source": [
    "%%bash\n",
    "\n",
    "for f in *DMR.sort.bed\n",
    "do\n",
    "   /opt/homebrew/bin/closestBed \\\n",
    "   -D \"ref\" \\\n",
    "   -a ${f} \\\n",
    "   -b ../../genome-features/Fundulus_heteroclitus-3.0.2.105-five_prime_utr.gff \\\n",
    "   -g ../../genome-features/mummichog.chrom.length \\\n",
    "   > $(basename ${f%_DMR.sort.bed})_DMR.closest5UTR.bed\n",
    "done"
   ]
  },
  {
   "cell_type": "code",
   "execution_count": 11,
   "metadata": {},
   "outputs": [
    {
     "name": "stdout",
     "output_type": "stream",
     "text": [
      "20_5_N_DMR.closest5UTR.bed      20_pop_diff_DMR.closest5UTR.bed\r\n",
      "20_5_S_DMR.closest5UTR.bed      5_pop_diff_DMR.closest5UTR.bed\r\n",
      "20_OC_S_DMR.closest5UTR.bed     OC_pop_diff_DMR.closest5UTR.bed\r\n"
     ]
    }
   ],
   "source": [
    "!ls *DMR.closest5UTR.bed"
   ]
  },
  {
   "cell_type": "code",
   "execution_count": 12,
   "metadata": {
    "scrolled": false
   },
   "outputs": [
    {
     "name": "stdout",
     "output_type": "stream",
     "text": [
      "==> 20_5_N_DMR.closest5UTR.bed <==\r\n",
      "KN811321.1\t578486\t578795\tDMR_2\thypomethylated\tKN811321.1\tensembl\tfive_prime_utr\t776332\t776752\t.\t+\t.\tgene_id \"ENSFHEG00000011434\"; gene_version \"1\"; transcript_id \"ENSFHET00000016795\"; transcript_version \"1\"; gene_name \"ZNF503\"; gene_source \"ensembl\"; gene_biotype \"protein_coding\"; transcript_name \"ZNF503-201\"; transcript_source \"ensembl\"; transcript_biotype \"protein_coding\";\t197537\r\n",
      "KN806487.1\t130260\t130476\tDMR_1\thypermethylated\t.\t.\t.\t-1\t-1\t.\t.\t.\t.\t-1\r\n",
      "\r\n",
      "==> 20_5_S_DMR.closest5UTR.bed <==\r\n",
      "KN811550.1\t428041\t428146\tDMR_1\thypermethylated\tKN811550.1\tensembl\tfive_prime_utr\t432808\t433069\t.\t+\t.\tgene_id \"ENSFHEG00000017260\"; gene_version \"1\"; transcript_id \"ENSFHET00000023782\"; transcript_version \"1\"; gene_name \"si:ch73-380l10.2\"; gene_source \"ensembl\"; gene_biotype \"protein_coding\"; transcript_name \"si:ch73-380l10.2-201\"; transcript_source \"ensembl\"; transcript_biotype \"protein_coding\";\t4662\r\n",
      "\r\n",
      "==> 20_OC_S_DMR.closest5UTR.bed <==\r\n",
      "KN811550.1\t428041\t428146\tDMR_1\thypermethylated\tKN811550.1\tensembl\tfive_prime_utr\t432808\t433069\t.\t+\t.\tgene_id \"ENSFHEG00000017260\"; gene_version \"1\"; transcript_id \"ENSFHET00000023782\"; transcript_version \"1\"; gene_name \"si:ch73-380l10.2\"; gene_source \"ensembl\"; gene_biotype \"protein_coding\"; transcript_name \"si:ch73-380l10.2-201\"; transcript_source \"ensembl\"; transcript_biotype \"protein_coding\";\t4662\r\n",
      "\r\n",
      "==> 20_pop_diff_DMR.closest5UTR.bed <==\r\n",
      "KN806932.1\t34456\t34729\tDMR_1\thypomethylated\tKN806932.1\tensembl\tfive_prime_utr\t1578\t1631\t.\t+\t.\tgene_id \"ENSFHEG00000021357\"; gene_version \"1\"; transcript_id \"ENSFHET00000028692\"; transcript_version \"1\"; gene_source \"ensembl\"; gene_biotype \"protein_coding\"; transcript_source \"ensembl\"; transcript_biotype \"protein_coding\";\t-32826\r\n",
      "\r\n",
      "==> 5_pop_diff_DMR.closest5UTR.bed <==\r\n",
      "KN811384.1\t437656\t437724\tDMR_2\thypermethylated\tKN811384.1\tensembl\tfive_prime_utr\t444771\t445017\t.\t-\t.\tgene_id \"ENSFHEG00000006153\"; gene_version \"1\"; transcript_id \"ENSFHET00000007580\"; transcript_version \"1\"; gene_name \"aspa\"; gene_source \"ensembl\"; gene_biotype \"protein_coding\"; transcript_name \"aspa-201\"; transcript_source \"ensembl\"; transcript_biotype \"protein_coding\";\t7047\r\n",
      "KN805688.1\t500679\t500775\tDMR_1\thypomethylated\tKN805688.1\tensembl\tfive_prime_utr\t445447\t445512\t.\t-\t.\tgene_id \"ENSFHEG00000009972\"; gene_version \"1\"; transcript_id \"ENSFHET00000001619\"; transcript_version \"1\"; gene_name \"znf423\"; gene_source \"ensembl\"; gene_biotype \"protein_coding\"; transcript_name \"znf423-202\"; transcript_source \"ensembl\"; transcript_biotype \"protein_coding\";\t-55168\r\n",
      "\r\n",
      "==> OC_pop_diff_DMR.closest5UTR.bed <==\r\n",
      "KN805540.1\t286626\t286713\tDMR_1\thypermethylated\tKN805540.1\tensembl\tfive_prime_utr\t614057\t614396\t.\t-\t.\tgene_id \"ENSFHEG00000007344\"; gene_version \"1\"; transcript_id \"ENSFHET00000005719\"; transcript_version \"1\"; gene_source \"ensembl\"; gene_biotype \"protein_coding\"; transcript_source \"ensembl\"; transcript_biotype \"protein_coding\";\t327344\r\n"
     ]
    }
   ],
   "source": [
    "!head *DMR.closest5UTR.bed"
   ]
  },
  {
   "cell_type": "markdown",
   "metadata": {},
   "source": [
    "### 2c. CDS"
   ]
  },
  {
   "cell_type": "code",
   "execution_count": 13,
   "metadata": {},
   "outputs": [],
   "source": [
    "%%bash\n",
    "\n",
    "for f in *DMR.sort.bed\n",
    "do\n",
    "   /opt/homebrew/bin/closestBed \\\n",
    "   -D \"ref\" \\\n",
    "   -a ${f} \\\n",
    "   -b ../../genome-features/Fundulus_heteroclitus-3.0.2.105-CDS.gff \\\n",
    "   -g ../../genome-features/mummichog.chrom.length \\\n",
    "   > $(basename ${f%_DMR.sort.bed})_DMR.closestCDS.bed\n",
    "done"
   ]
  },
  {
   "cell_type": "code",
   "execution_count": 14,
   "metadata": {
    "scrolled": true
   },
   "outputs": [
    {
     "name": "stdout",
     "output_type": "stream",
     "text": [
      "20_5_N_DMR.closestCDS.bed      20_pop_diff_DMR.closestCDS.bed\r\n",
      "20_5_S_DMR.closestCDS.bed      5_pop_diff_DMR.closestCDS.bed\r\n",
      "20_OC_S_DMR.closestCDS.bed     OC_pop_diff_DMR.closestCDS.bed\r\n"
     ]
    }
   ],
   "source": [
    "!ls *DMR.closestCDS.bed"
   ]
  },
  {
   "cell_type": "code",
   "execution_count": 15,
   "metadata": {
    "scrolled": false
   },
   "outputs": [
    {
     "name": "stdout",
     "output_type": "stream",
     "text": [
      "==> 20_5_N_DMR.closestCDS.bed <==\r\n",
      "KN811321.1\t578486\t578795\tDMR_2\thypomethylated\tKN811321.1\tensembl\tCDS\t556239\t556473\t.\t+\t1\tgene_id \"ENSFHEG00000011518\"; gene_version \"1\"; transcript_id \"ENSFHET00000031086\"; transcript_version \"1\"; exon_number \"25\"; gene_source \"ensembl\"; gene_biotype \"protein_coding\"; transcript_source \"ensembl\"; transcript_biotype \"protein_coding\"; protein_id \"ENSFHEP00000027781\"; protein_version \"1\";\t-22014\r\n",
      "KN806487.1\t130260\t130476\tDMR_1\thypermethylated\t.\t.\t.\t-1\t-1\t.\t.\t.\t.\t-1\r\n",
      "\r\n",
      "==> 20_5_S_DMR.closestCDS.bed <==\r\n",
      "KN811550.1\t428041\t428146\tDMR_1\thypermethylated\tKN811550.1\tensembl\tCDS\t431664\t431766\t.\t-\t2\tgene_id \"ENSFHEG00000018186\"; gene_version \"1\"; transcript_id \"ENSFHET00000033408\"; transcript_version \"1\"; exon_number \"2\"; gene_name \"iqgap1\"; gene_source \"ensembl\"; gene_biotype \"protein_coding\"; projection_parent_gene \"ENSDARG00000078888.5\"; transcript_name \"iqgap1-201\"; transcript_source \"ensembl\"; transcript_biotype \"protein_coding\"; protein_id \"ENSFHEP00000031621\"; protein_version \"1\";\t3518\r\n",
      "\r\n",
      "==> 20_OC_S_DMR.closestCDS.bed <==\r\n",
      "KN811550.1\t428041\t428146\tDMR_1\thypermethylated\tKN811550.1\tensembl\tCDS\t431664\t431766\t.\t-\t2\tgene_id \"ENSFHEG00000018186\"; gene_version \"1\"; transcript_id \"ENSFHET00000033408\"; transcript_version \"1\"; exon_number \"2\"; gene_name \"iqgap1\"; gene_source \"ensembl\"; gene_biotype \"protein_coding\"; projection_parent_gene \"ENSDARG00000078888.5\"; transcript_name \"iqgap1-201\"; transcript_source \"ensembl\"; transcript_biotype \"protein_coding\"; protein_id \"ENSFHEP00000031621\"; protein_version \"1\";\t3518\r\n",
      "\r\n",
      "==> 20_pop_diff_DMR.closestCDS.bed <==\r\n",
      "KN806932.1\t34456\t34729\tDMR_1\thypomethylated\tKN806932.1\tensembl\tCDS\t9797\t9936\t.\t+\t2\tgene_id \"ENSFHEG00000021357\"; gene_version \"1\"; transcript_id \"ENSFHET00000028692\"; transcript_version \"1\"; exon_number \"5\"; gene_source \"ensembl\"; gene_biotype \"protein_coding\"; transcript_source \"ensembl\"; transcript_biotype \"protein_coding\"; protein_id \"ENSFHEP00000019447\"; protein_version \"1\";\t-24521\r\n",
      "\r\n",
      "==> 5_pop_diff_DMR.closestCDS.bed <==\r\n",
      "KN811384.1\t437656\t437724\tDMR_2\thypermethylated\tKN811384.1\tensembl\tCDS\t434994\t435087\t.\t-\t0\tgene_id \"ENSFHEG00000006153\"; gene_version \"1\"; transcript_id \"ENSFHET00000007580\"; transcript_version \"1\"; exon_number \"4\"; gene_name \"aspa\"; gene_source \"ensembl\"; gene_biotype \"protein_coding\"; transcript_name \"aspa-201\"; transcript_source \"ensembl\"; transcript_biotype \"protein_coding\"; protein_id \"ENSFHEP00000005197\"; protein_version \"1\";\t-2570\r\n",
      "KN805688.1\t500679\t500775\tDMR_1\thypomethylated\tKN805688.1\tensembl\tCDS\t445449\t445469\t.\t-\t0\tgene_id \"ENSFHEG00000009972\"; gene_version \"1\"; transcript_id \"ENSFHET00000001608\"; transcript_version \"1\"; exon_number \"1\"; gene_name \"znf423\"; gene_source \"ensembl\"; gene_biotype \"protein_coding\"; transcript_name \"znf423-201\"; transcript_source \"ensembl\"; transcript_biotype \"protein_coding\"; protein_id \"ENSFHEP00000026871\"; protein_version \"1\";\t-55211\r\n",
      "\r\n",
      "==> OC_pop_diff_DMR.closestCDS.bed <==\r\n",
      "KN805540.1\t286626\t286713\tDMR_1\thypermethylated\tKN805540.1\tensembl\tCDS\t282492\t282543\t.\t-\t0\tgene_id \"ENSFHEG00000007469\"; gene_version \"1\"; transcript_id \"ENSFHET00000005564\"; transcript_version \"1\"; exon_number \"3\"; gene_name \"SHISA6\"; gene_source \"ensembl\"; gene_biotype \"protein_coding\"; transcript_name \"SHISA6-201\"; transcript_source \"ensembl\"; transcript_biotype \"protein_coding\"; protein_id \"ENSFHEP00000006397\"; protein_version \"1\";\t-4084\r\n"
     ]
    }
   ],
   "source": [
    "!head *DMR.closestCDS.bed"
   ]
  },
  {
   "cell_type": "markdown",
   "metadata": {},
   "source": [
    "### 2d. 3' UTR "
   ]
  },
  {
   "cell_type": "code",
   "execution_count": 16,
   "metadata": {},
   "outputs": [],
   "source": [
    "%%bash\n",
    "\n",
    "for f in *DMR.sort.bed\n",
    "do\n",
    "   /opt/homebrew/bin/closestBed \\\n",
    "   -D \"ref\" \\\n",
    "   -a ${f} \\\n",
    "   -b ../../genome-features/Fundulus_heteroclitus-3.0.2.105-three_prime_utr.gff \\\n",
    "   -g ../../genome-features/mummichog.chrom.length \\\n",
    "   > $(basename ${f%_DMR.sort.bed})_DMR.closest3UTR.bed\n",
    "done"
   ]
  },
  {
   "cell_type": "code",
   "execution_count": 17,
   "metadata": {
    "scrolled": true
   },
   "outputs": [
    {
     "name": "stdout",
     "output_type": "stream",
     "text": [
      "20_5_N_DMR.closest3UTR.bed      20_pop_diff_DMR.closest3UTR.bed\r\n",
      "20_5_S_DMR.closest3UTR.bed      5_pop_diff_DMR.closest3UTR.bed\r\n",
      "20_OC_S_DMR.closest3UTR.bed     OC_pop_diff_DMR.closest3UTR.bed\r\n"
     ]
    }
   ],
   "source": [
    "!ls *DMR.closest3UTR.bed"
   ]
  },
  {
   "cell_type": "code",
   "execution_count": 18,
   "metadata": {
    "scrolled": false
   },
   "outputs": [
    {
     "name": "stdout",
     "output_type": "stream",
     "text": [
      "==> 20_5_N_DMR.closest3UTR.bed <==\r\n",
      "KN811321.1\t578486\t578795\tDMR_2\thypomethylated\tKN811321.1\tensembl\tthree_prime_utr\t409868\t409904\t.\t+\t.\tgene_id \"ENSFHEG00000011549\"; gene_version \"1\"; transcript_id \"ENSFHET00000016913\"; transcript_version \"1\"; gene_name \"dlg5b.1\"; gene_source \"ensembl\"; gene_biotype \"protein_coding\"; transcript_name \"dlg5b.1-202\"; transcript_source \"ensembl\"; transcript_biotype \"protein_coding\";\t-168583\r\n",
      "KN811321.1\t578486\t578795\tDMR_2\thypomethylated\tKN811321.1\tensembl\tthree_prime_utr\t409868\t409904\t.\t+\t.\tgene_id \"ENSFHEG00000011549\"; gene_version \"1\"; transcript_id \"ENSFHET00000016893\"; transcript_version \"1\"; gene_name \"dlg5b.1\"; gene_source \"ensembl\"; gene_biotype \"protein_coding\"; transcript_name \"dlg5b.1-203\"; transcript_source \"ensembl\"; transcript_biotype \"protein_coding\";\t-168583\r\n",
      "KN806487.1\t130260\t130476\tDMR_1\thypermethylated\t.\t.\t.\t-1\t-1\t.\t.\t.\t.\t-1\r\n",
      "\r\n",
      "==> 20_5_S_DMR.closest3UTR.bed <==\r\n",
      "KN811550.1\t428041\t428146\tDMR_1\thypermethylated\tKN811550.1\tensembl\tthree_prime_utr\t439068\t439270\t.\t+\t.\tgene_id \"ENSFHEG00000017260\"; gene_version \"1\"; transcript_id \"ENSFHET00000023782\"; transcript_version \"1\"; gene_name \"si:ch73-380l10.2\"; gene_source \"ensembl\"; gene_biotype \"protein_coding\"; transcript_name \"si:ch73-380l10.2-201\"; transcript_source \"ensembl\"; transcript_biotype \"protein_coding\";\t10922\r\n",
      "KN811550.1\t428041\t428146\tDMR_1\thypermethylated\tKN811550.1\tensembl\tthree_prime_utr\t439068\t439270\t.\t+\t.\tgene_id \"ENSFHEG00000017260\"; gene_version \"1\"; transcript_id \"ENSFHET00000033275\"; transcript_version \"1\"; gene_name \"si:ch73-380l10.2\"; gene_source \"ensembl\"; gene_biotype \"protein_coding\"; transcript_name \"si:ch73-380l10.2-202\"; transcript_source \"ensembl\"; transcript_biotype \"protein_coding\";\t10922\r\n",
      "\r\n",
      "==> 20_OC_S_DMR.closest3UTR.bed <==\r\n",
      "KN811550.1\t428041\t428146\tDMR_1\thypermethylated\tKN811550.1\tensembl\tthree_prime_utr\t439068\t439270\t.\t+\t.\tgene_id \"ENSFHEG00000017260\"; gene_version \"1\"; transcript_id \"ENSFHET00000023782\"; transcript_version \"1\"; gene_name \"si:ch73-380l10.2\"; gene_source \"ensembl\"; gene_biotype \"protein_coding\"; transcript_name \"si:ch73-380l10.2-201\"; transcript_source \"ensembl\"; transcript_biotype \"protein_coding\";\t10922\r\n",
      "KN811550.1\t428041\t428146\tDMR_1\thypermethylated\tKN811550.1\tensembl\tthree_prime_utr\t439068\t439270\t.\t+\t.\tgene_id \"ENSFHEG00000017260\"; gene_version \"1\"; transcript_id \"ENSFHET00000033275\"; transcript_version \"1\"; gene_name \"si:ch73-380l10.2\"; gene_source \"ensembl\"; gene_biotype \"protein_coding\"; transcript_name \"si:ch73-380l10.2-202\"; transcript_source \"ensembl\"; transcript_biotype \"protein_coding\";\t10922\r\n",
      "\r\n",
      "==> 20_pop_diff_DMR.closest3UTR.bed <==\r\n",
      "KN806932.1\t34456\t34729\tDMR_1\thypomethylated\tKN806932.1\tensembl\tthree_prime_utr\t9937\t9938\t.\t+\t.\tgene_id \"ENSFHEG00000021357\"; gene_version \"1\"; transcript_id \"ENSFHET00000028692\"; transcript_version \"1\"; gene_source \"ensembl\"; gene_biotype \"protein_coding\"; transcript_source \"ensembl\"; transcript_biotype \"protein_coding\";\t-24519\r\n",
      "\r\n",
      "==> 5_pop_diff_DMR.closest3UTR.bed <==\r\n",
      "KN811384.1\t437656\t437724\tDMR_2\thypermethylated\tKN811384.1\tensembl\tthree_prime_utr\t426481\t427666\t.\t-\t.\tgene_id \"ENSFHEG00000006153\"; gene_version \"1\"; transcript_id \"ENSFHET00000007580\"; transcript_version \"1\"; gene_name \"aspa\"; gene_source \"ensembl\"; gene_biotype \"protein_coding\"; transcript_name \"aspa-201\"; transcript_source \"ensembl\"; transcript_biotype \"protein_coding\";\t-9991\r\n",
      "KN805688.1\t500679\t500775\tDMR_1\thypomethylated\tKN805688.1\tensembl\tthree_prime_utr\t442383\t442433\t.\t-\t.\tgene_id \"ENSFHEG00000009972\"; gene_version \"1\"; transcript_id \"ENSFHET00000001619\"; transcript_version \"1\"; gene_name \"znf423\"; gene_source \"ensembl\"; gene_biotype \"protein_coding\"; transcript_name \"znf423-202\"; transcript_source \"ensembl\"; transcript_biotype \"protein_coding\";\t-58247\r\n",
      "\r\n",
      "==> OC_pop_diff_DMR.closest3UTR.bed <==\r\n",
      "KN805540.1\t286626\t286713\tDMR_1\thypermethylated\tKN805540.1\tensembl\tthree_prime_utr\t594099\t595571\t.\t-\t.\tgene_id \"ENSFHEG00000007374\"; gene_version \"1\"; transcript_id \"ENSFHET00000005683\"; transcript_version \"1\"; gene_name \"wdr45b\"; gene_source \"ensembl\"; gene_biotype \"protein_coding\"; transcript_name \"wdr45b-201\"; transcript_source \"ensembl\"; transcript_biotype \"protein_coding\";\t307386\r\n",
      "KN805540.1\t286626\t286713\tDMR_1\thypermethylated\tKN805540.1\tensembl\tthree_prime_utr\t594099\t595571\t.\t-\t.\tgene_id \"ENSFHEG00000007374\"; gene_version \"1\"; transcript_id \"ENSFHET00000005704\"; transcript_version \"1\"; gene_name \"wdr45b\"; gene_source \"ensembl\"; gene_biotype \"protein_coding\"; transcript_name \"wdr45b-202\"; transcript_source \"ensembl\"; transcript_biotype \"protein_coding\";\t307386\r\n"
     ]
    }
   ],
   "source": [
    "!head *DMR.closest3UTR.bed"
   ]
  },
  {
   "cell_type": "markdown",
   "metadata": {},
   "source": [
    "### 2e. Intron"
   ]
  },
  {
   "cell_type": "code",
   "execution_count": 19,
   "metadata": {},
   "outputs": [],
   "source": [
    "%%bash\n",
    "\n",
    "for f in *DMR.sort.bed\n",
    "do\n",
    "   /opt/homebrew/bin/closestBed \\\n",
    "   -D \"ref\" \\\n",
    "   -a ${f} \\\n",
    "   -b ../../genome-features/Fundulus_heteroclitus-3.0.2.105-intron.bed \\\n",
    "   -g ../../genome-features/mummichog.chrom.length \\\n",
    "   > $(basename ${f%_DMR.sort.bed})_DMR.closestIntron.bed\n",
    "done"
   ]
  },
  {
   "cell_type": "code",
   "execution_count": 20,
   "metadata": {
    "scrolled": true
   },
   "outputs": [
    {
     "name": "stdout",
     "output_type": "stream",
     "text": [
      "20_5_N_DMR.closestIntron.bed      20_pop_diff_DMR.closestIntron.bed\r\n",
      "20_5_S_DMR.closestIntron.bed      5_pop_diff_DMR.closestIntron.bed\r\n",
      "20_OC_S_DMR.closestIntron.bed     OC_pop_diff_DMR.closestIntron.bed\r\n"
     ]
    }
   ],
   "source": [
    "!ls *DMR.closestIntron.bed"
   ]
  },
  {
   "cell_type": "code",
   "execution_count": 21,
   "metadata": {
    "scrolled": true
   },
   "outputs": [
    {
     "name": "stdout",
     "output_type": "stream",
     "text": [
      "==> 20_5_N_DMR.closestIntron.bed <==\r\n",
      "KN811321.1\t578486\t578795\tDMR_2\thypomethylated\tKN811321.1\t555250\t556238\t-22249\r\n",
      "KN806487.1\t130260\t130476\tDMR_1\thypermethylated\t.\t-1\t-1\t-1\r\n",
      "\r\n",
      "==> 20_5_S_DMR.closestIntron.bed <==\r\n",
      "KN811550.1\t428041\t428146\tDMR_1\thypermethylated\tKN811550.1\t401394\t431663\t0\r\n",
      "\r\n",
      "==> 20_OC_S_DMR.closestIntron.bed <==\r\n",
      "KN811550.1\t428041\t428146\tDMR_1\thypermethylated\tKN811550.1\t401394\t431663\t0\r\n",
      "\r\n",
      "==> 20_pop_diff_DMR.closestIntron.bed <==\r\n",
      "KN806932.1\t34456\t34729\tDMR_1\thypomethylated\tKN806932.1\t8550\t9796\t-24661\r\n",
      "\r\n",
      "==> 5_pop_diff_DMR.closestIntron.bed <==\r\n",
      "KN811384.1\t437656\t437724\tDMR_2\thypermethylated\tKN811384.1\t435087\t440744\t0\r\n",
      "KN805688.1\t500679\t500775\tDMR_1\thypomethylated\tKN805688.1\t442591\t445289\t-55391\r\n",
      "\r\n",
      "==> OC_pop_diff_DMR.closestIntron.bed <==\r\n",
      "KN805540.1\t286626\t286713\tDMR_1\thypermethylated\tKN805540.1\t282543\t405593\t0\r\n"
     ]
    }
   ],
   "source": [
    "!head *DMR.closestIntron.bed"
   ]
  },
  {
   "cell_type": "markdown",
   "metadata": {},
   "source": [
    "### 2f. Start codon"
   ]
  },
  {
   "cell_type": "code",
   "execution_count": 22,
   "metadata": {},
   "outputs": [],
   "source": [
    "%%bash\n",
    "\n",
    "for f in *DMR.sort.bed\n",
    "do\n",
    "   /opt/homebrew/bin/closestBed \\\n",
    "   -D \"ref\" \\\n",
    "   -a ${f} \\\n",
    "   -b ../../genome-features/Fundulus_heteroclitus-3.0.2.105-start_codon.gff \\\n",
    "   -g ../../genome-features/mummichog.chrom.length \\\n",
    "   > $(basename ${f%_DMR.sort.bed})_DMR.closestStartCodon.bed\n",
    "done"
   ]
  },
  {
   "cell_type": "code",
   "execution_count": 23,
   "metadata": {
    "scrolled": true
   },
   "outputs": [
    {
     "name": "stdout",
     "output_type": "stream",
     "text": [
      "20_5_N_DMR.closestStartCodon.bed      20_pop_diff_DMR.closestStartCodon.bed\r\n",
      "20_5_S_DMR.closestStartCodon.bed      5_pop_diff_DMR.closestStartCodon.bed\r\n",
      "20_OC_S_DMR.closestStartCodon.bed     OC_pop_diff_DMR.closestStartCodon.bed\r\n"
     ]
    }
   ],
   "source": [
    "!ls *DMR.closestStartCodon.bed"
   ]
  },
  {
   "cell_type": "code",
   "execution_count": 24,
   "metadata": {
    "scrolled": false
   },
   "outputs": [
    {
     "name": "stdout",
     "output_type": "stream",
     "text": [
      "==> 20_5_N_DMR.closestStartCodon.bed <==\r\n",
      "KN811321.1\t578486\t578795\tDMR_2\thypomethylated\tKN811321.1\tensembl\tstart_codon\t420684\t420686\t.\t+\t0\tgene_id \"ENSFHEG00000011518\"; gene_version \"1\"; transcript_id \"ENSFHET00000031086\"; transcript_version \"1\"; exon_number \"1\"; gene_source \"ensembl\"; gene_biotype \"protein_coding\"; transcript_source \"ensembl\"; transcript_biotype \"protein_coding\";\t-157801\r\n",
      "KN806487.1\t130260\t130476\tDMR_1\thypermethylated\t.\t.\t.\t-1\t-1\t.\t.\t.\t.\t-1\r\n",
      "\r\n",
      "==> 20_5_S_DMR.closestStartCodon.bed <==\r\n",
      "KN811550.1\t428041\t428146\tDMR_1\thypermethylated\tKN811550.1\tensembl\tstart_codon\t433284\t433286\t.\t-\t0\tgene_id \"ENSFHEG00000018186\"; gene_version \"1\"; transcript_id \"ENSFHET00000023923\"; transcript_version \"1\"; exon_number \"1\"; gene_name \"iqgap1\"; gene_source \"ensembl\"; gene_biotype \"protein_coding\"; projection_parent_gene \"ENSDARG00000078888.5\"; transcript_name \"iqgap1-202\"; transcript_source \"ensembl\"; transcript_biotype \"protein_coding\"; projection_parent_transcript \"ENSDART00000110283.5\";\t5138\r\n",
      "\r\n",
      "==> 20_OC_S_DMR.closestStartCodon.bed <==\r\n",
      "KN811550.1\t428041\t428146\tDMR_1\thypermethylated\tKN811550.1\tensembl\tstart_codon\t433284\t433286\t.\t-\t0\tgene_id \"ENSFHEG00000018186\"; gene_version \"1\"; transcript_id \"ENSFHET00000023923\"; transcript_version \"1\"; exon_number \"1\"; gene_name \"iqgap1\"; gene_source \"ensembl\"; gene_biotype \"protein_coding\"; projection_parent_gene \"ENSDARG00000078888.5\"; transcript_name \"iqgap1-202\"; transcript_source \"ensembl\"; transcript_biotype \"protein_coding\"; projection_parent_transcript \"ENSDART00000110283.5\";\t5138\r\n",
      "\r\n",
      "==> 20_pop_diff_DMR.closestStartCodon.bed <==\r\n",
      "KN806932.1\t34456\t34729\tDMR_1\thypomethylated\tKN806932.1\tensembl\tstart_codon\t1632\t1634\t.\t+\t0\tgene_id \"ENSFHEG00000021357\"; gene_version \"1\"; transcript_id \"ENSFHET00000028692\"; transcript_version \"1\"; exon_number \"1\"; gene_source \"ensembl\"; gene_biotype \"protein_coding\"; transcript_source \"ensembl\"; transcript_biotype \"protein_coding\";\t-32823\r\n",
      "\r\n",
      "==> 5_pop_diff_DMR.closestStartCodon.bed <==\r\n",
      "KN811384.1\t437656\t437724\tDMR_2\thypermethylated\tKN811384.1\tensembl\tstart_codon\t444768\t444770\t.\t-\t0\tgene_id \"ENSFHEG00000006153\"; gene_version \"1\"; transcript_id \"ENSFHET00000007580\"; transcript_version \"1\"; exon_number \"2\"; gene_name \"aspa\"; gene_source \"ensembl\"; gene_biotype \"protein_coding\"; transcript_name \"aspa-201\"; transcript_source \"ensembl\"; transcript_biotype \"protein_coding\";\t7044\r\n",
      "KN805688.1\t500679\t500775\tDMR_1\thypomethylated\tKN805688.1\tensembl\tstart_codon\t445467\t445469\t.\t-\t0\tgene_id \"ENSFHEG00000009972\"; gene_version \"1\"; transcript_id \"ENSFHET00000001608\"; transcript_version \"1\"; exon_number \"1\"; gene_name \"znf423\"; gene_source \"ensembl\"; gene_biotype \"protein_coding\"; transcript_name \"znf423-201\"; transcript_source \"ensembl\"; transcript_biotype \"protein_coding\";\t-55211\r\n",
      "\r\n",
      "==> OC_pop_diff_DMR.closestStartCodon.bed <==\r\n",
      "KN805540.1\t286626\t286713\tDMR_1\thypermethylated\tKN805540.1\tensembl\tstart_codon\t407853\t407855\t.\t-\t0\tgene_id \"ENSFHEG00000007469\"; gene_version \"1\"; transcript_id \"ENSFHET00000005564\"; transcript_version \"1\"; exon_number \"1\"; gene_name \"SHISA6\"; gene_source \"ensembl\"; gene_biotype \"protein_coding\"; transcript_name \"SHISA6-201\"; transcript_source \"ensembl\"; transcript_biotype \"protein_coding\";\t121140\r\n"
     ]
    }
   ],
   "source": [
    "!head *DMR.closestStartCodon.bed"
   ]
  },
  {
   "cell_type": "markdown",
   "metadata": {},
   "source": [
    "### 2g. Stop codon"
   ]
  },
  {
   "cell_type": "code",
   "execution_count": 25,
   "metadata": {},
   "outputs": [],
   "source": [
    "%%bash\n",
    "\n",
    "for f in *DMR.sort.bed\n",
    "do\n",
    "   /opt/homebrew/bin/closestBed \\\n",
    "   -D \"ref\" \\\n",
    "   -a ${f} \\\n",
    "   -b ../../genome-features/Fundulus_heteroclitus-3.0.2.105-stop_codon.gff \\\n",
    "   -g ../../genome-features/mummichog.chrom.length \\\n",
    "   > $(basename ${f%_DMR.sort.bed})_DMR.closestStopCodon.bed\n",
    "done"
   ]
  },
  {
   "cell_type": "code",
   "execution_count": 26,
   "metadata": {
    "scrolled": true
   },
   "outputs": [
    {
     "name": "stdout",
     "output_type": "stream",
     "text": [
      "20_5_N_DMR.closestStopCodon.bed      20_pop_diff_DMR.closestStopCodon.bed\r\n",
      "20_5_S_DMR.closestStopCodon.bed      5_pop_diff_DMR.closestStopCodon.bed\r\n",
      "20_OC_S_DMR.closestStopCodon.bed     OC_pop_diff_DMR.closestStopCodon.bed\r\n"
     ]
    }
   ],
   "source": [
    "!ls *DMR.closestStopCodon.bed"
   ]
  },
  {
   "cell_type": "code",
   "execution_count": 27,
   "metadata": {
    "scrolled": false
   },
   "outputs": [
    {
     "name": "stdout",
     "output_type": "stream",
     "text": [
      "==> 20_5_N_DMR.closestStopCodon.bed <==\r\n",
      "KN811321.1\t578486\t578795\tDMR_2\thypomethylated\tKN811321.1\tensembl\tstop_codon\t556474\t556476\t.\t+\t0\tgene_id \"ENSFHEG00000011518\"; gene_version \"1\"; transcript_id \"ENSFHET00000031086\"; transcript_version \"1\"; exon_number \"25\"; gene_source \"ensembl\"; gene_biotype \"protein_coding\"; transcript_source \"ensembl\"; transcript_biotype \"protein_coding\";\t-22011\r\n",
      "KN806487.1\t130260\t130476\tDMR_1\thypermethylated\t.\t.\t.\t-1\t-1\t.\t.\t.\t.\t-1\r\n",
      "\r\n",
      "==> 20_5_S_DMR.closestStopCodon.bed <==\r\n",
      "KN811550.1\t428041\t428146\tDMR_1\thypermethylated\tKN811550.1\tensembl\tstop_codon\t439065\t439067\t.\t+\t0\tgene_id \"ENSFHEG00000017260\"; gene_version \"1\"; transcript_id \"ENSFHET00000023782\"; transcript_version \"1\"; exon_number \"4\"; gene_name \"si:ch73-380l10.2\"; gene_source \"ensembl\"; gene_biotype \"protein_coding\"; transcript_name \"si:ch73-380l10.2-201\"; transcript_source \"ensembl\"; transcript_biotype \"protein_coding\";\t10919\r\n",
      "KN811550.1\t428041\t428146\tDMR_1\thypermethylated\tKN811550.1\tensembl\tstop_codon\t439065\t439067\t.\t+\t0\tgene_id \"ENSFHEG00000017260\"; gene_version \"1\"; transcript_id \"ENSFHET00000033275\"; transcript_version \"1\"; exon_number \"3\"; gene_name \"si:ch73-380l10.2\"; gene_source \"ensembl\"; gene_biotype \"protein_coding\"; transcript_name \"si:ch73-380l10.2-202\"; transcript_source \"ensembl\"; transcript_biotype \"protein_coding\";\t10919\r\n",
      "\r\n",
      "==> 20_OC_S_DMR.closestStopCodon.bed <==\r\n",
      "KN811550.1\t428041\t428146\tDMR_1\thypermethylated\tKN811550.1\tensembl\tstop_codon\t439065\t439067\t.\t+\t0\tgene_id \"ENSFHEG00000017260\"; gene_version \"1\"; transcript_id \"ENSFHET00000023782\"; transcript_version \"1\"; exon_number \"4\"; gene_name \"si:ch73-380l10.2\"; gene_source \"ensembl\"; gene_biotype \"protein_coding\"; transcript_name \"si:ch73-380l10.2-201\"; transcript_source \"ensembl\"; transcript_biotype \"protein_coding\";\t10919\r\n",
      "KN811550.1\t428041\t428146\tDMR_1\thypermethylated\tKN811550.1\tensembl\tstop_codon\t439065\t439067\t.\t+\t0\tgene_id \"ENSFHEG00000017260\"; gene_version \"1\"; transcript_id \"ENSFHET00000033275\"; transcript_version \"1\"; exon_number \"3\"; gene_name \"si:ch73-380l10.2\"; gene_source \"ensembl\"; gene_biotype \"protein_coding\"; transcript_name \"si:ch73-380l10.2-202\"; transcript_source \"ensembl\"; transcript_biotype \"protein_coding\";\t10919\r\n",
      "\r\n",
      "==> 20_pop_diff_DMR.closestStopCodon.bed <==\r\n",
      "KN806932.1\t34456\t34729\tDMR_1\thypomethylated\t.\t.\t.\t-1\t-1\t.\t.\t.\t.\t-1\r\n",
      "\r\n",
      "==> 5_pop_diff_DMR.closestStopCodon.bed <==\r\n",
      "KN811384.1\t437656\t437724\tDMR_2\thypermethylated\tKN811384.1\tensembl\tstop_codon\t427667\t427669\t.\t-\t0\tgene_id \"ENSFHEG00000006153\"; gene_version \"1\"; transcript_id \"ENSFHET00000007580\"; transcript_version \"1\"; exon_number \"7\"; gene_name \"aspa\"; gene_source \"ensembl\"; gene_biotype \"protein_coding\"; transcript_name \"aspa-201\"; transcript_source \"ensembl\"; transcript_biotype \"protein_coding\";\t-9988\r\n",
      "KN805688.1\t500679\t500775\tDMR_1\thypomethylated\tKN805688.1\tensembl\tstop_codon\t442434\t442436\t.\t-\t0\tgene_id \"ENSFHEG00000009972\"; gene_version \"1\"; transcript_id \"ENSFHET00000001619\"; transcript_version \"1\"; exon_number \"2\"; gene_name \"znf423\"; gene_source \"ensembl\"; gene_biotype \"protein_coding\"; transcript_name \"znf423-202\"; transcript_source \"ensembl\"; transcript_biotype \"protein_coding\";\t-58244\r\n",
      "\r\n",
      "==> OC_pop_diff_DMR.closestStopCodon.bed <==\r\n",
      "KN805540.1\t286626\t286713\tDMR_1\thypermethylated\tKN805540.1\tensembl\tstop_codon\t271056\t271058\t.\t-\t0\tgene_id \"ENSFHEG00000007469\"; gene_version \"1\"; transcript_id \"ENSFHET00000005564\"; transcript_version \"1\"; exon_number \"8\"; gene_name \"SHISA6\"; gene_source \"ensembl\"; gene_biotype \"protein_coding\"; transcript_name \"SHISA6-201\"; transcript_source \"ensembl\"; transcript_biotype \"protein_coding\";\t-15569\r\n"
     ]
    }
   ],
   "source": [
    "!head *DMR.closestStopCodon.bed"
   ]
  },
  {
   "cell_type": "markdown",
   "metadata": {},
   "source": [
    "### 2h. Intergenic regions"
   ]
  },
  {
   "cell_type": "code",
   "execution_count": 28,
   "metadata": {},
   "outputs": [],
   "source": [
    "%%bash\n",
    "\n",
    "for f in *DMR.sort.bed\n",
    "do\n",
    "   /opt/homebrew/bin/closestBed \\\n",
    "   -D \"ref\" \\\n",
    "   -a ${f} \\\n",
    "   -b ../../genome-features/Fundulus_heteroclitus-3.0.2.105-intergenic.bed \\\n",
    "   -g ../../genome-features/mummichog.chrom.length \\\n",
    "   > $(basename ${f%_DMR.sort.bed})_DMR.closestIntergenic.bed\n",
    "done"
   ]
  },
  {
   "cell_type": "code",
   "execution_count": 29,
   "metadata": {
    "scrolled": true
   },
   "outputs": [
    {
     "name": "stdout",
     "output_type": "stream",
     "text": [
      "20_5_N_DMR.closestIntergenic.bed      20_pop_diff_DMR.closestIntergenic.bed\r\n",
      "20_5_S_DMR.closestIntergenic.bed      5_pop_diff_DMR.closestIntergenic.bed\r\n",
      "20_OC_S_DMR.closestIntergenic.bed     OC_pop_diff_DMR.closestIntergenic.bed\r\n"
     ]
    }
   ],
   "source": [
    "!ls *DMR.closestIntergenic.bed"
   ]
  },
  {
   "cell_type": "code",
   "execution_count": 30,
   "metadata": {
    "scrolled": true
   },
   "outputs": [
    {
     "name": "stdout",
     "output_type": "stream",
     "text": [
      "==> 20_5_N_DMR.closestIntergenic.bed <==\r\n",
      "KN811321.1\t578486\t578795\tDMR_2\thypomethylated\tKN811321.1\t556476\t776331\t0\r\n",
      "KN806487.1\t130260\t130476\tDMR_1\thypermethylated\tKN806487.1\t0\t131200\t0\r\n",
      "\r\n",
      "==> 20_5_S_DMR.closestIntergenic.bed <==\r\n",
      "KN811550.1\t428041\t428146\tDMR_1\thypermethylated\tKN811550.1\t439270\t467331\t11125\r\n",
      "\r\n",
      "==> 20_OC_S_DMR.closestIntergenic.bed <==\r\n",
      "KN811550.1\t428041\t428146\tDMR_1\thypermethylated\tKN811550.1\t439270\t467331\t11125\r\n",
      "\r\n",
      "==> 20_pop_diff_DMR.closestIntergenic.bed <==\r\n",
      "KN806932.1\t34456\t34729\tDMR_1\thypomethylated\tKN806932.1\t9938\t34851\t0\r\n",
      "\r\n",
      "==> 5_pop_diff_DMR.closestIntergenic.bed <==\r\n",
      "KN811384.1\t437656\t437724\tDMR_2\thypermethylated\tKN811384.1\t448512\t457563\t10789\r\n",
      "KN805688.1\t500679\t500775\tDMR_1\thypomethylated\tKN805688.1\t445512\t534190\t0\r\n",
      "\r\n",
      "==> OC_pop_diff_DMR.closestIntergenic.bed <==\r\n",
      "KN805540.1\t286626\t286713\tDMR_1\thypermethylated\tKN805540.1\t254484\t271055\t-15572\r\n"
     ]
    }
   ],
   "source": [
    "!head *DMR.closestIntergenic.bed"
   ]
  },
  {
   "cell_type": "code",
   "execution_count": null,
   "metadata": {},
   "outputs": [],
   "source": []
  }
 ],
 "metadata": {
  "anaconda-cloud": {},
  "kernelspec": {
   "display_name": "Python 3",
   "language": "python",
   "name": "python3"
  },
  "language_info": {
   "codemirror_mode": {
    "name": "ipython",
    "version": 3
   },
   "file_extension": ".py",
   "mimetype": "text/x-python",
   "name": "python",
   "nbconvert_exporter": "python",
   "pygments_lexer": "ipython3",
   "version": "3.7.4"
  }
 },
 "nbformat": 4,
 "nbformat_minor": 1
}
