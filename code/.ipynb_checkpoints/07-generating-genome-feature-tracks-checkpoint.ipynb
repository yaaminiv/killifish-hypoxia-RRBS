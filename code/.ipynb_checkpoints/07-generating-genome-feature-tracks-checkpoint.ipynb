{
 "cells": [
  {
   "cell_type": "markdown",
   "metadata": {},
   "source": [
    "# Generating Genome Feature Tracks"
   ]
  },
  {
   "cell_type": "markdown",
   "metadata": {},
   "source": [
    "In this notebook, I'll use the [NCBI assembly](https://www.ncbi.nlm.nih.gov/assembly/247141) to create genome feature tracks for *Fundulus heteroclitus*"
   ]
  },
  {
   "cell_type": "markdown",
   "metadata": {},
   "source": [
    "## 0. Set working directory and variables"
   ]
  },
  {
   "cell_type": "code",
   "execution_count": 1,
   "metadata": {},
   "outputs": [
    {
     "name": "stdout",
     "output_type": "stream",
     "text": [
      "/Users/yaaminivenkataraman/Documents/killifish-hypoxia-RRBS/code\r\n"
     ]
    }
   ],
   "source": [
    "!pwd"
   ]
  },
  {
   "cell_type": "code",
   "execution_count": 2,
   "metadata": {},
   "outputs": [
    {
     "name": "stdout",
     "output_type": "stream",
     "text": [
      "/Users/yaaminivenkataraman/Documents/killifish-hypoxia-RRBS\n"
     ]
    }
   ],
   "source": [
    "cd .."
   ]
  },
  {
   "cell_type": "code",
   "execution_count": 3,
   "metadata": {},
   "outputs": [
    {
     "name": "stdout",
     "output_type": "stream",
     "text": [
      "mkdir: genome-features: File exists\r\n"
     ]
    }
   ],
   "source": [
    "!mkdir genome-features"
   ]
  },
  {
   "cell_type": "code",
   "execution_count": 4,
   "metadata": {
    "scrolled": false
   },
   "outputs": [
    {
     "name": "stdout",
     "output_type": "stream",
     "text": [
      "/Users/yaaminivenkataraman/Documents/killifish-hypoxia-RRBS/genome-features\n"
     ]
    }
   ],
   "source": [
    "cd genome-features"
   ]
  },
  {
   "cell_type": "code",
   "execution_count": 5,
   "metadata": {},
   "outputs": [
    {
     "name": "stdout",
     "output_type": "stream",
     "text": [
      "/opt/homebrew/bin/bedtools\r\n"
     ]
    }
   ],
   "source": [
    "!which bedtools"
   ]
  },
  {
   "cell_type": "code",
   "execution_count": 6,
   "metadata": {},
   "outputs": [],
   "source": [
    "bedtoolsDirectory = \"/opt/homebrew/bin\""
   ]
  },
  {
   "cell_type": "markdown",
   "metadata": {},
   "source": [
    "## 1. Download NCBI assembly"
   ]
  },
  {
   "cell_type": "markdown",
   "metadata": {},
   "source": [
    "I downloaded the GFF from [this link](https://ftp.ncbi.nlm.nih.gov/genomes/all/GCF/011/125/445/GCF_011125445.2_MU-UCD_Fhet_4.1/)."
   ]
  },
  {
   "cell_type": "code",
   "execution_count": 19,
   "metadata": {
    "scrolled": true
   },
   "outputs": [
    {
     "name": "stdout",
     "output_type": "stream",
     "text": [
      "  % Total    % Received % Xferd  Average Speed   Time    Time     Time  Current\n",
      "                                 Dload  Upload   Total   Spent    Left  Speed\n",
      "100 16.5M  100 16.5M    0     0  14.0M      0  0:00:01  0:00:01 --:--:-- 14.0M\n"
     ]
    }
   ],
   "source": [
    "!curl https://ftp.ncbi.nlm.nih.gov/genomes/all/GCF/011/125/445/GCF_011125445.2_MU-UCD_Fhet_4.1/GCF_011125445.2_MU-UCD_Fhet_4.1_genomic.gff.gz > GCF_011125445.2_MU-UCD_Fhet_4.1_genomic.gff.gz"
   ]
  },
  {
   "cell_type": "code",
   "execution_count": 31,
   "metadata": {},
   "outputs": [],
   "source": [
    "!gunzip Fundulus_heteroclitus.Fundulus_heteroclitus-3.0.2.105.gtf.gz"
   ]
  },
  {
   "cell_type": "code",
   "execution_count": 33,
   "metadata": {
    "scrolled": true
   },
   "outputs": [
    {
     "name": "stdout",
     "output_type": "stream",
     "text": [
      "#!genome-build Fundulus_heteroclitus-3.0.2\r\n",
      "#!genome-version Fundulus_heteroclitus-3.0.2\r\n",
      "#!genome-date 2015-01\r\n",
      "#!genome-build-accession GCA_000826765.1\r\n",
      "#!genebuild-last-updated 2018-07\r\n",
      "KN805525.1\tensembl\tgene\t2500\t10348\t.\t-\t.\tgene_id \"ENSFHEG00000014345\"; gene_version \"1\"; gene_name \"cdx1a\"; gene_source \"ensembl\"; gene_biotype \"protein_coding\";\r\n",
      "KN805525.1\tensembl\ttranscript\t2500\t10348\t.\t-\t.\tgene_id \"ENSFHEG00000014345\"; gene_version \"1\"; transcript_id \"ENSFHET00000020248\"; transcript_version \"1\"; gene_name \"cdx1a\"; gene_source \"ensembl\"; gene_biotype \"protein_coding\"; transcript_name \"cdx1a-201\"; transcript_source \"ensembl\"; transcript_biotype \"protein_coding\";\r\n",
      "KN805525.1\tensembl\texon\t10201\t10348\t.\t-\t.\tgene_id \"ENSFHEG00000014345\"; gene_version \"1\"; transcript_id \"ENSFHET00000020248\"; transcript_version \"1\"; exon_number \"1\"; gene_name \"cdx1a\"; gene_source \"ensembl\"; gene_biotype \"protein_coding\"; transcript_name \"cdx1a-201\"; transcript_source \"ensembl\"; transcript_biotype \"protein_coding\"; exon_id \"ENSFHEE00000072050\"; exon_version \"1\";\r\n",
      "KN805525.1\tensembl\tCDS\t10201\t10348\t.\t-\t0\tgene_id \"ENSFHEG00000014345\"; gene_version \"1\"; transcript_id \"ENSFHET00000020248\"; transcript_version \"1\"; exon_number \"1\"; gene_name \"cdx1a\"; gene_source \"ensembl\"; gene_biotype \"protein_coding\"; transcript_name \"cdx1a-201\"; transcript_source \"ensembl\"; transcript_biotype \"protein_coding\"; protein_id \"ENSFHEP00000012884\"; protein_version \"1\";\r\n",
      "KN805525.1\tensembl\tstart_codon\t10346\t10348\t.\t-\t0\tgene_id \"ENSFHEG00000014345\"; gene_version \"1\"; transcript_id \"ENSFHET00000020248\"; transcript_version \"1\"; exon_number \"1\"; gene_name \"cdx1a\"; gene_source \"ensembl\"; gene_biotype \"protein_coding\"; transcript_name \"cdx1a-201\"; transcript_source \"ensembl\"; transcript_biotype \"protein_coding\";\r\n",
      "KN805525.1\tensembl\texon\t8335\t8483\t.\t-\t.\tgene_id \"ENSFHEG00000014345\"; gene_version \"1\"; transcript_id \"ENSFHET00000020248\"; transcript_version \"1\"; exon_number \"2\"; gene_name \"cdx1a\"; gene_source \"ensembl\"; gene_biotype \"protein_coding\"; transcript_name \"cdx1a-201\"; transcript_source \"ensembl\"; transcript_biotype \"protein_coding\"; exon_id \"ENSFHEE00000192263\"; exon_version \"1\";\r\n",
      "KN805525.1\tensembl\tCDS\t8335\t8483\t.\t-\t2\tgene_id \"ENSFHEG00000014345\"; gene_version \"1\"; transcript_id \"ENSFHET00000020248\"; transcript_version \"1\"; exon_number \"2\"; gene_name \"cdx1a\"; gene_source \"ensembl\"; gene_biotype \"protein_coding\"; transcript_name \"cdx1a-201\"; transcript_source \"ensembl\"; transcript_biotype \"protein_coding\"; protein_id \"ENSFHEP00000012884\"; protein_version \"1\";\r\n",
      "KN805525.1\tensembl\texon\t5166\t5274\t.\t-\t.\tgene_id \"ENSFHEG00000014345\"; gene_version \"1\"; transcript_id \"ENSFHET00000020248\"; transcript_version \"1\"; exon_number \"3\"; gene_name \"cdx1a\"; gene_source \"ensembl\"; gene_biotype \"protein_coding\"; transcript_name \"cdx1a-201\"; transcript_source \"ensembl\"; transcript_biotype \"protein_coding\"; exon_id \"ENSFHEE00000072033\"; exon_version \"1\";\r\n",
      "KN805525.1\tensembl\tCDS\t5166\t5274\t.\t-\t0\tgene_id \"ENSFHEG00000014345\"; gene_version \"1\"; transcript_id \"ENSFHET00000020248\"; transcript_version \"1\"; exon_number \"3\"; gene_name \"cdx1a\"; gene_source \"ensembl\"; gene_biotype \"protein_coding\"; transcript_name \"cdx1a-201\"; transcript_source \"ensembl\"; transcript_biotype \"protein_coding\"; protein_id \"ENSFHEP00000012884\"; protein_version \"1\";\r\n",
      "KN805525.1\tensembl\texon\t2500\t2651\t.\t-\t.\tgene_id \"ENSFHEG00000014345\"; gene_version \"1\"; transcript_id \"ENSFHET00000020248\"; transcript_version \"1\"; exon_number \"4\"; gene_name \"cdx1a\"; gene_source \"ensembl\"; gene_biotype \"protein_coding\"; transcript_name \"cdx1a-201\"; transcript_source \"ensembl\"; transcript_biotype \"protein_coding\"; exon_id \"ENSFHEE00000192221\"; exon_version \"1\";\r\n",
      "KN805525.1\tensembl\tCDS\t2503\t2651\t.\t-\t2\tgene_id \"ENSFHEG00000014345\"; gene_version \"1\"; transcript_id \"ENSFHET00000020248\"; transcript_version \"1\"; exon_number \"4\"; gene_name \"cdx1a\"; gene_source \"ensembl\"; gene_biotype \"protein_coding\"; transcript_name \"cdx1a-201\"; transcript_source \"ensembl\"; transcript_biotype \"protein_coding\"; protein_id \"ENSFHEP00000012884\"; protein_version \"1\";\r\n",
      "KN805525.1\tensembl\tstop_codon\t2500\t2502\t.\t-\t0\tgene_id \"ENSFHEG00000014345\"; gene_version \"1\"; transcript_id \"ENSFHET00000020248\"; transcript_version \"1\"; exon_number \"4\"; gene_name \"cdx1a\"; gene_source \"ensembl\"; gene_biotype \"protein_coding\"; transcript_name \"cdx1a-201\"; transcript_source \"ensembl\"; transcript_biotype \"protein_coding\";\r\n",
      "KN805525.1\tensembl\tgene\t38959\t57020\t.\t+\t.\tgene_id \"ENSFHEG00000014326\"; gene_version \"1\"; gene_name \"pdgfrb\"; gene_source \"ensembl\"; gene_biotype \"protein_coding\";\r\n",
      "KN805525.1\tensembl\ttranscript\t38959\t57020\t.\t+\t.\tgene_id \"ENSFHEG00000014326\"; gene_version \"1\"; transcript_id \"ENSFHET00000020197\"; transcript_version \"1\"; gene_name \"pdgfrb\"; gene_source \"ensembl\"; gene_biotype \"protein_coding\"; transcript_name \"pdgfrb-201\"; transcript_source \"ensembl\"; transcript_biotype \"protein_coding\";\r\n",
      "KN805525.1\tensembl\texon\t38959\t38960\t.\t+\t.\tgene_id \"ENSFHEG00000014326\"; gene_version \"1\"; transcript_id \"ENSFHET00000020197\"; transcript_version \"1\"; exon_number \"1\"; gene_name \"pdgfrb\"; gene_source \"ensembl\"; gene_biotype \"protein_coding\"; transcript_name \"pdgfrb-201\"; transcript_source \"ensembl\"; transcript_biotype \"protein_coding\"; exon_id \"ENSFHEE00000192162\"; exon_version \"1\";\r\n",
      "KN805525.1\tensembl\tCDS\t38959\t38960\t.\t+\t0\tgene_id \"ENSFHEG00000014326\"; gene_version \"1\"; transcript_id \"ENSFHET00000020197\"; transcript_version \"1\"; exon_number \"1\"; gene_name \"pdgfrb\"; gene_source \"ensembl\"; gene_biotype \"protein_coding\"; transcript_name \"pdgfrb-201\"; transcript_source \"ensembl\"; transcript_biotype \"protein_coding\"; protein_id \"ENSFHEP00000012823\"; protein_version \"1\";\r\n",
      "KN805525.1\tensembl\texon\t39613\t39736\t.\t+\t.\tgene_id \"ENSFHEG00000014326\"; gene_version \"1\"; transcript_id \"ENSFHET00000020197\"; transcript_version \"1\"; exon_number \"2\"; gene_name \"pdgfrb\"; gene_source \"ensembl\"; gene_biotype \"protein_coding\"; transcript_name \"pdgfrb-201\"; transcript_source \"ensembl\"; transcript_biotype \"protein_coding\"; exon_id \"ENSFHEE00000192199\"; exon_version \"1\";\r\n",
      "KN805525.1\tensembl\tCDS\t39613\t39736\t.\t+\t1\tgene_id \"ENSFHEG00000014326\"; gene_version \"1\"; transcript_id \"ENSFHET00000020197\"; transcript_version \"1\"; exon_number \"2\"; gene_name \"pdgfrb\"; gene_source \"ensembl\"; gene_biotype \"protein_coding\"; transcript_name \"pdgfrb-201\"; transcript_source \"ensembl\"; transcript_biotype \"protein_coding\"; protein_id \"ENSFHEP00000012823\"; protein_version \"1\";\r\n",
      "KN805525.1\tensembl\texon\t39794\t39899\t.\t+\t.\tgene_id \"ENSFHEG00000014326\"; gene_version \"1\"; transcript_id \"ENSFHET00000020197\"; transcript_version \"1\"; exon_number \"3\"; gene_name \"pdgfrb\"; gene_source \"ensembl\"; gene_biotype \"protein_coding\"; transcript_name \"pdgfrb-201\"; transcript_source \"ensembl\"; transcript_biotype \"protein_coding\"; exon_id \"ENSFHEE00000071965\"; exon_version \"1\";\r\n",
      "KN805525.1\tensembl\tCDS\t39794\t39899\t.\t+\t0\tgene_id \"ENSFHEG00000014326\"; gene_version \"1\"; transcript_id \"ENSFHET00000020197\"; transcript_version \"1\"; exon_number \"3\"; gene_name \"pdgfrb\"; gene_source \"ensembl\"; gene_biotype \"protein_coding\"; transcript_name \"pdgfrb-201\"; transcript_source \"ensembl\"; transcript_biotype \"protein_coding\"; protein_id \"ENSFHEP00000012823\"; protein_version \"1\";\r\n",
      "KN805525.1\tensembl\texon\t39984\t40241\t.\t+\t.\tgene_id \"ENSFHEG00000014326\"; gene_version \"1\"; transcript_id \"ENSFHET00000020197\"; transcript_version \"1\"; exon_number \"4\"; gene_name \"pdgfrb\"; gene_source \"ensembl\"; gene_biotype \"protein_coding\"; transcript_name \"pdgfrb-201\"; transcript_source \"ensembl\"; transcript_biotype \"protein_coding\"; exon_id \"ENSFHEE00000192136\"; exon_version \"1\";\r\n",
      "KN805525.1\tensembl\tCDS\t39984\t40241\t.\t+\t2\tgene_id \"ENSFHEG00000014326\"; gene_version \"1\"; transcript_id \"ENSFHET00000020197\"; transcript_version \"1\"; exon_number \"4\"; gene_name \"pdgfrb\"; gene_source \"ensembl\"; gene_biotype \"protein_coding\"; transcript_name \"pdgfrb-201\"; transcript_source \"ensembl\"; transcript_biotype \"protein_coding\"; protein_id \"ENSFHEP00000012823\"; protein_version \"1\";\r\n",
      "KN805525.1\tensembl\texon\t40742\t40887\t.\t+\t.\tgene_id \"ENSFHEG00000014326\"; gene_version \"1\"; transcript_id \"ENSFHET00000020197\"; transcript_version \"1\"; exon_number \"5\"; gene_name \"pdgfrb\"; gene_source \"ensembl\"; gene_biotype \"protein_coding\"; transcript_name \"pdgfrb-201\"; transcript_source \"ensembl\"; transcript_biotype \"protein_coding\"; exon_id \"ENSFHEE00000192119\"; exon_version \"1\";\r\n",
      "KN805525.1\tensembl\tCDS\t40742\t40887\t.\t+\t2\tgene_id \"ENSFHEG00000014326\"; gene_version \"1\"; transcript_id \"ENSFHET00000020197\"; transcript_version \"1\"; exon_number \"5\"; gene_name \"pdgfrb\"; gene_source \"ensembl\"; gene_biotype \"protein_coding\"; transcript_name \"pdgfrb-201\"; transcript_source \"ensembl\"; transcript_biotype \"protein_coding\"; protein_id \"ENSFHEP00000012823\"; protein_version \"1\";\r\n",
      "KN805525.1\tensembl\texon\t41874\t41997\t.\t+\t.\tgene_id \"ENSFHEG00000014326\"; gene_version \"1\"; transcript_id \"ENSFHET00000020197\"; transcript_version \"1\"; exon_number \"6\"; gene_name \"pdgfrb\"; gene_source \"ensembl\"; gene_biotype \"protein_coding\"; transcript_name \"pdgfrb-201\"; transcript_source \"ensembl\"; transcript_biotype \"protein_coding\"; exon_id \"ENSFHEE00000071938\"; exon_version \"1\";\r\n",
      "KN805525.1\tensembl\tCDS\t41874\t41997\t.\t+\t0\tgene_id \"ENSFHEG00000014326\"; gene_version \"1\"; transcript_id \"ENSFHET00000020197\"; transcript_version \"1\"; exon_number \"6\"; gene_name \"pdgfrb\"; gene_source \"ensembl\"; gene_biotype \"protein_coding\"; transcript_name \"pdgfrb-201\"; transcript_source \"ensembl\"; transcript_biotype \"protein_coding\"; protein_id \"ENSFHEP00000012823\"; protein_version \"1\";\r\n",
      "KN805525.1\tensembl\texon\t43747\t43927\t.\t+\t.\tgene_id \"ENSFHEG00000014326\"; gene_version \"1\"; transcript_id \"ENSFHET00000020197\"; transcript_version \"1\"; exon_number \"7\"; gene_name \"pdgfrb\"; gene_source \"ensembl\"; gene_biotype \"protein_coding\"; transcript_name \"pdgfrb-201\"; transcript_source \"ensembl\"; transcript_biotype \"protein_coding\"; exon_id \"ENSFHEE00000071932\"; exon_version \"1\";\r\n",
      "KN805525.1\tensembl\tCDS\t43747\t43927\t.\t+\t2\tgene_id \"ENSFHEG00000014326\"; gene_version \"1\"; transcript_id \"ENSFHET00000020197\"; transcript_version \"1\"; exon_number \"7\"; gene_name \"pdgfrb\"; gene_source \"ensembl\"; gene_biotype \"protein_coding\"; transcript_name \"pdgfrb-201\"; transcript_source \"ensembl\"; transcript_biotype \"protein_coding\"; protein_id \"ENSFHEP00000012823\"; protein_version \"1\";\r\n",
      "KN805525.1\tensembl\texon\t45301\t45416\t.\t+\t.\tgene_id \"ENSFHEG00000014326\"; gene_version \"1\"; transcript_id \"ENSFHET00000020197\"; transcript_version \"1\"; exon_number \"8\"; gene_name \"pdgfrb\"; gene_source \"ensembl\"; gene_biotype \"protein_coding\"; transcript_name \"pdgfrb-201\"; transcript_source \"ensembl\"; transcript_biotype \"protein_coding\"; exon_id \"ENSFHEE00000192107\"; exon_version \"1\";\r\n",
      "KN805525.1\tensembl\tCDS\t45301\t45416\t.\t+\t1\tgene_id \"ENSFHEG00000014326\"; gene_version \"1\"; transcript_id \"ENSFHET00000020197\"; transcript_version \"1\"; exon_number \"8\"; gene_name \"pdgfrb\"; gene_source \"ensembl\"; gene_biotype \"protein_coding\"; transcript_name \"pdgfrb-201\"; transcript_source \"ensembl\"; transcript_biotype \"protein_coding\"; protein_id \"ENSFHEP00000012823\"; protein_version \"1\";\r\n",
      "KN805525.1\tensembl\texon\t45574\t45697\t.\t+\t.\tgene_id \"ENSFHEG00000014326\"; gene_version \"1\"; transcript_id \"ENSFHET00000020197\"; transcript_version \"1\"; exon_number \"9\"; gene_name \"pdgfrb\"; gene_source \"ensembl\"; gene_biotype \"protein_coding\"; transcript_name \"pdgfrb-201\"; transcript_source \"ensembl\"; transcript_biotype \"protein_coding\"; exon_id \"ENSFHEE00000192101\"; exon_version \"1\";\r\n",
      "KN805525.1\tensembl\tCDS\t45574\t45697\t.\t+\t2\tgene_id \"ENSFHEG00000014326\"; gene_version \"1\"; transcript_id \"ENSFHET00000020197\"; transcript_version \"1\"; exon_number \"9\"; gene_name \"pdgfrb\"; gene_source \"ensembl\"; gene_biotype \"protein_coding\"; transcript_name \"pdgfrb-201\"; transcript_source \"ensembl\"; transcript_biotype \"protein_coding\"; protein_id \"ENSFHEP00000012823\"; protein_version \"1\";\r\n",
      "KN805525.1\tensembl\texon\t45853\t46064\t.\t+\t.\tgene_id \"ENSFHEG00000014326\"; gene_version \"1\"; transcript_id \"ENSFHET00000020197\"; transcript_version \"1\"; exon_number \"10\"; gene_name \"pdgfrb\"; gene_source \"ensembl\"; gene_biotype \"protein_coding\"; transcript_name \"pdgfrb-201\"; transcript_source \"ensembl\"; transcript_biotype \"protein_coding\"; exon_id \"ENSFHEE00000192090\"; exon_version \"1\";\r\n",
      "KN805525.1\tensembl\tCDS\t45853\t46064\t.\t+\t1\tgene_id \"ENSFHEG00000014326\"; gene_version \"1\"; transcript_id \"ENSFHET00000020197\"; transcript_version \"1\"; exon_number \"10\"; gene_name \"pdgfrb\"; gene_source \"ensembl\"; gene_biotype \"protein_coding\"; transcript_name \"pdgfrb-201\"; transcript_source \"ensembl\"; transcript_biotype \"protein_coding\"; protein_id \"ENSFHEP00000012823\"; protein_version \"1\";\r\n",
      "KN805525.1\tensembl\texon\t46442\t46536\t.\t+\t.\tgene_id \"ENSFHEG00000014326\"; gene_version \"1\"; transcript_id \"ENSFHET00000020197\"; transcript_version \"1\"; exon_number \"11\"; gene_name \"pdgfrb\"; gene_source \"ensembl\"; gene_biotype \"protein_coding\"; transcript_name \"pdgfrb-201\"; transcript_source \"ensembl\"; transcript_biotype \"protein_coding\"; exon_id \"ENSFHEE00000192081\"; exon_version \"1\";\r\n",
      "KN805525.1\tensembl\tCDS\t46442\t46536\t.\t+\t2\tgene_id \"ENSFHEG00000014326\"; gene_version \"1\"; transcript_id \"ENSFHET00000020197\"; transcript_version \"1\"; exon_number \"11\"; gene_name \"pdgfrb\"; gene_source \"ensembl\"; gene_biotype \"protein_coding\"; transcript_name \"pdgfrb-201\"; transcript_source \"ensembl\"; transcript_biotype \"protein_coding\"; protein_id \"ENSFHEP00000012823\"; protein_version \"1\";\r\n",
      "KN805525.1\tensembl\texon\t46650\t46782\t.\t+\t.\tgene_id \"ENSFHEG00000014326\"; gene_version \"1\"; transcript_id \"ENSFHET00000020197\"; transcript_version \"1\"; exon_number \"12\"; gene_name \"pdgfrb\"; gene_source \"ensembl\"; gene_biotype \"protein_coding\"; transcript_name \"pdgfrb-201\"; transcript_source \"ensembl\"; transcript_biotype \"protein_coding\"; exon_id \"ENSFHEE00000192065\"; exon_version \"1\";\r\n",
      "KN805525.1\tensembl\tCDS\t46650\t46782\t.\t+\t0\tgene_id \"ENSFHEG00000014326\"; gene_version \"1\"; transcript_id \"ENSFHET00000020197\"; transcript_version \"1\"; exon_number \"12\"; gene_name \"pdgfrb\"; gene_source \"ensembl\"; gene_biotype \"protein_coding\"; transcript_name \"pdgfrb-201\"; transcript_source \"ensembl\"; transcript_biotype \"protein_coding\"; protein_id \"ENSFHEP00000012823\"; protein_version \"1\";\r\n",
      "KN805525.1\tensembl\texon\t48954\t49058\t.\t+\t.\tgene_id \"ENSFHEG00000014326\"; gene_version \"1\"; transcript_id \"ENSFHET00000020197\"; transcript_version \"1\"; exon_number \"13\"; gene_name \"pdgfrb\"; gene_source \"ensembl\"; gene_biotype \"protein_coding\"; transcript_name \"pdgfrb-201\"; transcript_source \"ensembl\"; transcript_biotype \"protein_coding\"; exon_id \"ENSFHEE00000071856\"; exon_version \"1\";\r\n",
      "KN805525.1\tensembl\tCDS\t48954\t49058\t.\t+\t2\tgene_id \"ENSFHEG00000014326\"; gene_version \"1\"; transcript_id \"ENSFHET00000020197\"; transcript_version \"1\"; exon_number \"13\"; gene_name \"pdgfrb\"; gene_source \"ensembl\"; gene_biotype \"protein_coding\"; transcript_name \"pdgfrb-201\"; transcript_source \"ensembl\"; transcript_biotype \"protein_coding\"; protein_id \"ENSFHEP00000012823\"; protein_version \"1\";\r\n",
      "KN805525.1\tensembl\texon\t49385\t49495\t.\t+\t.\tgene_id \"ENSFHEG00000014326\"; gene_version \"1\"; transcript_id \"ENSFHET00000020197\"; transcript_version \"1\"; exon_number \"14\"; gene_name \"pdgfrb\"; gene_source \"ensembl\"; gene_biotype \"protein_coding\"; transcript_name \"pdgfrb-201\"; transcript_source \"ensembl\"; transcript_biotype \"protein_coding\"; exon_id \"ENSFHEE00000071842\"; exon_version \"1\";\r\n",
      "KN805525.1\tensembl\tCDS\t49385\t49495\t.\t+\t2\tgene_id \"ENSFHEG00000014326\"; gene_version \"1\"; transcript_id \"ENSFHET00000020197\"; transcript_version \"1\"; exon_number \"14\"; gene_name \"pdgfrb\"; gene_source \"ensembl\"; gene_biotype \"protein_coding\"; transcript_name \"pdgfrb-201\"; transcript_source \"ensembl\"; transcript_biotype \"protein_coding\"; protein_id \"ENSFHEP00000012823\"; protein_version \"1\";\r\n",
      "KN805525.1\tensembl\texon\t51202\t51309\t.\t+\t.\tgene_id \"ENSFHEG00000014326\"; gene_version \"1\"; transcript_id \"ENSFHET00000020197\"; transcript_version \"1\"; exon_number \"15\"; gene_name \"pdgfrb\"; gene_source \"ensembl\"; gene_biotype \"protein_coding\"; transcript_name \"pdgfrb-201\"; transcript_source \"ensembl\"; transcript_biotype \"protein_coding\"; exon_id \"ENSFHEE00000071833\"; exon_version \"1\";\r\n",
      "KN805525.1\tensembl\tCDS\t51202\t51309\t.\t+\t2\tgene_id \"ENSFHEG00000014326\"; gene_version \"1\"; transcript_id \"ENSFHET00000020197\"; transcript_version \"1\"; exon_number \"15\"; gene_name \"pdgfrb\"; gene_source \"ensembl\"; gene_biotype \"protein_coding\"; transcript_name \"pdgfrb-201\"; transcript_source \"ensembl\"; transcript_biotype \"protein_coding\"; protein_id \"ENSFHEP00000012823\"; protein_version \"1\";\r\n",
      "KN805525.1\tensembl\texon\t51548\t51748\t.\t+\t.\tgene_id \"ENSFHEG00000014326\"; gene_version \"1\"; transcript_id \"ENSFHET00000020197\"; transcript_version \"1\"; exon_number \"16\"; gene_name \"pdgfrb\"; gene_source \"ensembl\"; gene_biotype \"protein_coding\"; transcript_name \"pdgfrb-201\"; transcript_source \"ensembl\"; transcript_biotype \"protein_coding\"; exon_id \"ENSFHEE00000071824\"; exon_version \"1\";\r\n",
      "KN805525.1\tensembl\tCDS\t51548\t51748\t.\t+\t2\tgene_id \"ENSFHEG00000014326\"; gene_version \"1\"; transcript_id \"ENSFHET00000020197\"; transcript_version \"1\"; exon_number \"16\"; gene_name \"pdgfrb\"; gene_source \"ensembl\"; gene_biotype \"protein_coding\"; transcript_name \"pdgfrb-201\"; transcript_source \"ensembl\"; transcript_biotype \"protein_coding\"; protein_id \"ENSFHEP00000012823\"; protein_version \"1\";\r\n",
      "KN805525.1\tensembl\texon\t52152\t52258\t.\t+\t.\tgene_id \"ENSFHEG00000014326\"; gene_version \"1\"; transcript_id \"ENSFHET00000020197\"; transcript_version \"1\"; exon_number \"17\"; gene_name \"pdgfrb\"; gene_source \"ensembl\"; gene_biotype \"protein_coding\"; transcript_name \"pdgfrb-201\"; transcript_source \"ensembl\"; transcript_biotype \"protein_coding\"; exon_id \"ENSFHEE00000071814\"; exon_version \"1\";\r\n",
      "KN805525.1\tensembl\tCDS\t52152\t52258\t.\t+\t2\tgene_id \"ENSFHEG00000014326\"; gene_version \"1\"; transcript_id \"ENSFHET00000020197\"; transcript_version \"1\"; exon_number \"17\"; gene_name \"pdgfrb\"; gene_source \"ensembl\"; gene_biotype \"protein_coding\"; transcript_name \"pdgfrb-201\"; transcript_source \"ensembl\"; transcript_biotype \"protein_coding\"; protein_id \"ENSFHEP00000012823\"; protein_version \"1\";\r\n",
      "KN805525.1\tensembl\texon\t52360\t52482\t.\t+\t.\tgene_id \"ENSFHEG00000014326\"; gene_version \"1\"; transcript_id \"ENSFHET00000020197\"; transcript_version \"1\"; exon_number \"18\"; gene_name \"pdgfrb\"; gene_source \"ensembl\"; gene_biotype \"protein_coding\"; transcript_name \"pdgfrb-201\"; transcript_source \"ensembl\"; transcript_biotype \"protein_coding\"; exon_id \"ENSFHEE00000071780\"; exon_version \"1\";\r\n",
      "KN805525.1\tensembl\tCDS\t52360\t52482\t.\t+\t0\tgene_id \"ENSFHEG00000014326\"; gene_version \"1\"; transcript_id \"ENSFHET00000020197\"; transcript_version \"1\"; exon_number \"18\"; gene_name \"pdgfrb\"; gene_source \"ensembl\"; gene_biotype \"protein_coding\"; transcript_name \"pdgfrb-201\"; transcript_source \"ensembl\"; transcript_biotype \"protein_coding\"; protein_id \"ENSFHEP00000012823\"; protein_version \"1\";\r\n",
      "KN805525.1\tensembl\texon\t53480\t53591\t.\t+\t.\tgene_id \"ENSFHEG00000014326\"; gene_version \"1\"; transcript_id \"ENSFHET00000020197\"; transcript_version \"1\"; exon_number \"19\"; gene_name \"pdgfrb\"; gene_source \"ensembl\"; gene_biotype \"protein_coding\"; transcript_name \"pdgfrb-201\"; transcript_source \"ensembl\"; transcript_biotype \"protein_coding\"; exon_id \"ENSFHEE00000191984\"; exon_version \"1\";\r\n",
      "KN805525.1\tensembl\tCDS\t53480\t53591\t.\t+\t0\tgene_id \"ENSFHEG00000014326\"; gene_version \"1\"; transcript_id \"ENSFHET00000020197\"; transcript_version \"1\"; exon_number \"19\"; gene_name \"pdgfrb\"; gene_source \"ensembl\"; gene_biotype \"protein_coding\"; transcript_name \"pdgfrb-201\"; transcript_source \"ensembl\"; transcript_biotype \"protein_coding\"; protein_id \"ENSFHEP00000012823\"; protein_version \"1\";\r\n",
      "KN805525.1\tensembl\texon\t54153\t54252\t.\t+\t.\tgene_id \"ENSFHEG00000014326\"; gene_version \"1\"; transcript_id \"ENSFHET00000020197\"; transcript_version \"1\"; exon_number \"20\"; gene_name \"pdgfrb\"; gene_source \"ensembl\"; gene_biotype \"protein_coding\"; transcript_name \"pdgfrb-201\"; transcript_source \"ensembl\"; transcript_biotype \"protein_coding\"; exon_id \"ENSFHEE00000191962\"; exon_version \"1\";\r\n",
      "KN805525.1\tensembl\tCDS\t54153\t54252\t.\t+\t2\tgene_id \"ENSFHEG00000014326\"; gene_version \"1\"; transcript_id \"ENSFHET00000020197\"; transcript_version \"1\"; exon_number \"20\"; gene_name \"pdgfrb\"; gene_source \"ensembl\"; gene_biotype \"protein_coding\"; transcript_name \"pdgfrb-201\"; transcript_source \"ensembl\"; transcript_biotype \"protein_coding\"; protein_id \"ENSFHEP00000012823\"; protein_version \"1\";\r\n",
      "KN805525.1\tensembl\texon\t54335\t54440\t.\t+\t.\tgene_id \"ENSFHEG00000014326\"; gene_version \"1\"; transcript_id \"ENSFHET00000020197\"; transcript_version \"1\"; exon_number \"21\"; gene_name \"pdgfrb\"; gene_source \"ensembl\"; gene_biotype \"protein_coding\"; transcript_name \"pdgfrb-201\"; transcript_source \"ensembl\"; transcript_biotype \"protein_coding\"; exon_id \"ENSFHEE00000071753\"; exon_version \"1\";\r\n",
      "KN805525.1\tensembl\tCDS\t54335\t54440\t.\t+\t1\tgene_id \"ENSFHEG00000014326\"; gene_version \"1\"; transcript_id \"ENSFHET00000020197\"; transcript_version \"1\"; exon_number \"21\"; gene_name \"pdgfrb\"; gene_source \"ensembl\"; gene_biotype \"protein_coding\"; transcript_name \"pdgfrb-201\"; transcript_source \"ensembl\"; transcript_biotype \"protein_coding\"; protein_id \"ENSFHEP00000012823\"; protein_version \"1\";\r\n",
      "KN805525.1\tensembl\texon\t55993\t56277\t.\t+\t.\tgene_id \"ENSFHEG00000014326\"; gene_version \"1\"; transcript_id \"ENSFHET00000020197\"; transcript_version \"1\"; exon_number \"22\"; gene_name \"pdgfrb\"; gene_source \"ensembl\"; gene_biotype \"protein_coding\"; transcript_name \"pdgfrb-201\"; transcript_source \"ensembl\"; transcript_biotype \"protein_coding\"; exon_id \"ENSFHEE00000191929\"; exon_version \"1\";\r\n",
      "KN805525.1\tensembl\tCDS\t55993\t56277\t.\t+\t0\tgene_id \"ENSFHEG00000014326\"; gene_version \"1\"; transcript_id \"ENSFHET00000020197\"; transcript_version \"1\"; exon_number \"22\"; gene_name \"pdgfrb\"; gene_source \"ensembl\"; gene_biotype \"protein_coding\"; transcript_name \"pdgfrb-201\"; transcript_source \"ensembl\"; transcript_biotype \"protein_coding\"; protein_id \"ENSFHEP00000012823\"; protein_version \"1\";\r\n",
      "KN805525.1\tensembl\texon\t56937\t57020\t.\t+\t.\tgene_id \"ENSFHEG00000014326\"; gene_version \"1\"; transcript_id \"ENSFHET00000020197\"; transcript_version \"1\"; exon_number \"23\"; gene_name \"pdgfrb\"; gene_source \"ensembl\"; gene_biotype \"protein_coding\"; transcript_name \"pdgfrb-201\"; transcript_source \"ensembl\"; transcript_biotype \"protein_coding\"; exon_id \"ENSFHEE00000071730\"; exon_version \"1\";\r\n",
      "KN805525.1\tensembl\tCDS\t56937\t57017\t.\t+\t0\tgene_id \"ENSFHEG00000014326\"; gene_version \"1\"; transcript_id \"ENSFHET00000020197\"; transcript_version \"1\"; exon_number \"23\"; gene_name \"pdgfrb\"; gene_source \"ensembl\"; gene_biotype \"protein_coding\"; transcript_name \"pdgfrb-201\"; transcript_source \"ensembl\"; transcript_biotype \"protein_coding\"; protein_id \"ENSFHEP00000012823\"; protein_version \"1\";\r\n",
      "KN805525.1\tensembl\tstop_codon\t57018\t57020\t.\t+\t0\tgene_id \"ENSFHEG00000014326\"; gene_version \"1\"; transcript_id \"ENSFHET00000020197\"; transcript_version \"1\"; exon_number \"23\"; gene_name \"pdgfrb\"; gene_source \"ensembl\"; gene_biotype \"protein_coding\"; transcript_name \"pdgfrb-201\"; transcript_source \"ensembl\"; transcript_biotype \"protein_coding\";\r\n",
      "KN805525.1\tensembl\tgene\t62194\t78208\t.\t+\t.\tgene_id \"ENSFHEG00000014282\"; gene_version \"1\"; gene_name \"csf1ra\"; gene_source \"ensembl\"; gene_biotype \"protein_coding\";\r\n",
      "KN805525.1\tensembl\ttranscript\t62194\t78208\t.\t+\t.\tgene_id \"ENSFHEG00000014282\"; gene_version \"1\"; transcript_id \"ENSFHET00000020149\"; transcript_version \"1\"; gene_name \"csf1ra\"; gene_source \"ensembl\"; gene_biotype \"protein_coding\"; transcript_name \"csf1ra-201\"; transcript_source \"ensembl\"; transcript_biotype \"protein_coding\";\r\n",
      "KN805525.1\tensembl\texon\t62194\t62306\t.\t+\t.\tgene_id \"ENSFHEG00000014282\"; gene_version \"1\"; transcript_id \"ENSFHET00000020149\"; transcript_version \"1\"; exon_number \"1\"; gene_name \"csf1ra\"; gene_source \"ensembl\"; gene_biotype \"protein_coding\"; transcript_name \"csf1ra-201\"; transcript_source \"ensembl\"; transcript_biotype \"protein_coding\"; exon_id \"ENSFHEE00000191859\"; exon_version \"1\";\r\n",
      "KN805525.1\tensembl\texon\t62562\t62634\t.\t+\t.\tgene_id \"ENSFHEG00000014282\"; gene_version \"1\"; transcript_id \"ENSFHET00000020149\"; transcript_version \"1\"; exon_number \"2\"; gene_name \"csf1ra\"; gene_source \"ensembl\"; gene_biotype \"protein_coding\"; transcript_name \"csf1ra-201\"; transcript_source \"ensembl\"; transcript_biotype \"protein_coding\"; exon_id \"ENSFHEE00000191857\"; exon_version \"1\";\r\n",
      "KN805525.1\tensembl\tCDS\t62580\t62634\t.\t+\t0\tgene_id \"ENSFHEG00000014282\"; gene_version \"1\"; transcript_id \"ENSFHET00000020149\"; transcript_version \"1\"; exon_number \"2\"; gene_name \"csf1ra\"; gene_source \"ensembl\"; gene_biotype \"protein_coding\"; transcript_name \"csf1ra-201\"; transcript_source \"ensembl\"; transcript_biotype \"protein_coding\"; protein_id \"ENSFHEP00000012780\"; protein_version \"1\";\r\n",
      "KN805525.1\tensembl\tstart_codon\t62580\t62582\t.\t+\t0\tgene_id \"ENSFHEG00000014282\"; gene_version \"1\"; transcript_id \"ENSFHET00000020149\"; transcript_version \"1\"; exon_number \"2\"; gene_name \"csf1ra\"; gene_source \"ensembl\"; gene_biotype \"protein_coding\"; transcript_name \"csf1ra-201\"; transcript_source \"ensembl\"; transcript_biotype \"protein_coding\";\r\n",
      "KN805525.1\tensembl\texon\t63886\t64173\t.\t+\t.\tgene_id \"ENSFHEG00000014282\"; gene_version \"1\"; transcript_id \"ENSFHET00000020149\"; transcript_version \"1\"; exon_number \"3\"; gene_name \"csf1ra\"; gene_source \"ensembl\"; gene_biotype \"protein_coding\"; transcript_name \"csf1ra-201\"; transcript_source \"ensembl\"; transcript_biotype \"protein_coding\"; exon_id \"ENSFHEE00000191833\"; exon_version \"1\";\r\n",
      "KN805525.1\tensembl\tCDS\t63886\t64173\t.\t+\t2\tgene_id \"ENSFHEG00000014282\"; gene_version \"1\"; transcript_id \"ENSFHET00000020149\"; transcript_version \"1\"; exon_number \"3\"; gene_name \"csf1ra\"; gene_source \"ensembl\"; gene_biotype \"protein_coding\"; transcript_name \"csf1ra-201\"; transcript_source \"ensembl\"; transcript_biotype \"protein_coding\"; protein_id \"ENSFHEP00000012780\"; protein_version \"1\";\r\n",
      "KN805525.1\tensembl\texon\t64260\t64547\t.\t+\t.\tgene_id \"ENSFHEG00000014282\"; gene_version \"1\"; transcript_id \"ENSFHET00000020149\"; transcript_version \"1\"; exon_number \"4\"; gene_name \"csf1ra\"; gene_source \"ensembl\"; gene_biotype \"protein_coding\"; transcript_name \"csf1ra-201\"; transcript_source \"ensembl\"; transcript_biotype \"protein_coding\"; exon_id \"ENSFHEE00000191823\"; exon_version \"1\";\r\n",
      "KN805525.1\tensembl\tCDS\t64260\t64547\t.\t+\t2\tgene_id \"ENSFHEG00000014282\"; gene_version \"1\"; transcript_id \"ENSFHET00000020149\"; transcript_version \"1\"; exon_number \"4\"; gene_name \"csf1ra\"; gene_source \"ensembl\"; gene_biotype \"protein_coding\"; transcript_name \"csf1ra-201\"; transcript_source \"ensembl\"; transcript_biotype \"protein_coding\"; protein_id \"ENSFHEP00000012780\"; protein_version \"1\";\r\n",
      "KN805525.1\tensembl\texon\t64630\t64766\t.\t+\t.\tgene_id \"ENSFHEG00000014282\"; gene_version \"1\"; transcript_id \"ENSFHET00000020149\"; transcript_version \"1\"; exon_number \"5\"; gene_name \"csf1ra\"; gene_source \"ensembl\"; gene_biotype \"protein_coding\"; transcript_name \"csf1ra-201\"; transcript_source \"ensembl\"; transcript_biotype \"protein_coding\"; exon_id \"ENSFHEE00000191822\"; exon_version \"1\";\r\n",
      "KN805525.1\tensembl\tCDS\t64630\t64766\t.\t+\t2\tgene_id \"ENSFHEG00000014282\"; gene_version \"1\"; transcript_id \"ENSFHET00000020149\"; transcript_version \"1\"; exon_number \"5\"; gene_name \"csf1ra\"; gene_source \"ensembl\"; gene_biotype \"protein_coding\"; transcript_name \"csf1ra-201\"; transcript_source \"ensembl\"; transcript_biotype \"protein_coding\"; protein_id \"ENSFHEP00000012780\"; protein_version \"1\";\r\n",
      "KN805525.1\tensembl\texon\t64845\t65010\t.\t+\t.\tgene_id \"ENSFHEG00000014282\"; gene_version \"1\"; transcript_id \"ENSFHET00000020149\"; transcript_version \"1\"; exon_number \"6\"; gene_name \"csf1ra\"; gene_source \"ensembl\"; gene_biotype \"protein_coding\"; transcript_name \"csf1ra-201\"; transcript_source \"ensembl\"; transcript_biotype \"protein_coding\"; exon_id \"ENSFHEE00000071810\"; exon_version \"1\";\r\n",
      "KN805525.1\tensembl\tCDS\t64845\t65010\t.\t+\t0\tgene_id \"ENSFHEG00000014282\"; gene_version \"1\"; transcript_id \"ENSFHET00000020149\"; transcript_version \"1\"; exon_number \"6\"; gene_name \"csf1ra\"; gene_source \"ensembl\"; gene_biotype \"protein_coding\"; transcript_name \"csf1ra-201\"; transcript_source \"ensembl\"; transcript_biotype \"protein_coding\"; protein_id \"ENSFHEP00000012780\"; protein_version \"1\";\r\n",
      "KN805525.1\tensembl\texon\t65097\t65298\t.\t+\t.\tgene_id \"ENSFHEG00000014282\"; gene_version \"1\"; transcript_id \"ENSFHET00000020149\"; transcript_version \"1\"; exon_number \"7\"; gene_name \"csf1ra\"; gene_source \"ensembl\"; gene_biotype \"protein_coding\"; transcript_name \"csf1ra-201\"; transcript_source \"ensembl\"; transcript_biotype \"protein_coding\"; exon_id \"ENSFHEE00000191991\"; exon_version \"1\";\r\n",
      "KN805525.1\tensembl\tCDS\t65097\t65298\t.\t+\t2\tgene_id \"ENSFHEG00000014282\"; gene_version \"1\"; transcript_id \"ENSFHET00000020149\"; transcript_version \"1\"; exon_number \"7\"; gene_name \"csf1ra\"; gene_source \"ensembl\"; gene_biotype \"protein_coding\"; transcript_name \"csf1ra-201\"; transcript_source \"ensembl\"; transcript_biotype \"protein_coding\"; protein_id \"ENSFHEP00000012780\"; protein_version \"1\";\r\n",
      "KN805525.1\tensembl\texon\t65621\t65736\t.\t+\t.\tgene_id \"ENSFHEG00000014282\"; gene_version \"1\"; transcript_id \"ENSFHET00000020149\"; transcript_version \"1\"; exon_number \"8\"; gene_name \"csf1ra\"; gene_source \"ensembl\"; gene_biotype \"protein_coding\"; transcript_name \"csf1ra-201\"; transcript_source \"ensembl\"; transcript_biotype \"protein_coding\"; exon_id \"ENSFHEE00000191990\"; exon_version \"1\";\r\n",
      "KN805525.1\tensembl\tCDS\t65621\t65736\t.\t+\t1\tgene_id \"ENSFHEG00000014282\"; gene_version \"1\"; transcript_id \"ENSFHET00000020149\"; transcript_version \"1\"; exon_number \"8\"; gene_name \"csf1ra\"; gene_source \"ensembl\"; gene_biotype \"protein_coding\"; transcript_name \"csf1ra-201\"; transcript_source \"ensembl\"; transcript_biotype \"protein_coding\"; protein_id \"ENSFHEP00000012780\"; protein_version \"1\";\r\n",
      "KN805525.1\tensembl\texon\t66372\t66483\t.\t+\t.\tgene_id \"ENSFHEG00000014282\"; gene_version \"1\"; transcript_id \"ENSFHET00000020149\"; transcript_version \"1\"; exon_number \"9\"; gene_name \"csf1ra\"; gene_source \"ensembl\"; gene_biotype \"protein_coding\"; transcript_name \"csf1ra-201\"; transcript_source \"ensembl\"; transcript_biotype \"protein_coding\"; exon_id \"ENSFHEE00000071579\"; exon_version \"1\";\r\n",
      "KN805525.1\tensembl\tCDS\t66372\t66483\t.\t+\t2\tgene_id \"ENSFHEG00000014282\"; gene_version \"1\"; transcript_id \"ENSFHET00000020149\"; transcript_version \"1\"; exon_number \"9\"; gene_name \"csf1ra\"; gene_source \"ensembl\"; gene_biotype \"protein_coding\"; transcript_name \"csf1ra-201\"; transcript_source \"ensembl\"; transcript_biotype \"protein_coding\"; protein_id \"ENSFHEP00000012780\"; protein_version \"1\";\r\n",
      "KN805525.1\tensembl\texon\t66593\t66792\t.\t+\t.\tgene_id \"ENSFHEG00000014282\"; gene_version \"1\"; transcript_id \"ENSFHET00000020149\"; transcript_version \"1\"; exon_number \"10\"; gene_name \"csf1ra\"; gene_source \"ensembl\"; gene_biotype \"protein_coding\"; transcript_name \"csf1ra-201\"; transcript_source \"ensembl\"; transcript_biotype \"protein_coding\"; exon_id \"ENSFHEE00000192290\"; exon_version \"1\";\r\n",
      "KN805525.1\tensembl\tCDS\t66593\t66792\t.\t+\t1\tgene_id \"ENSFHEG00000014282\"; gene_version \"1\"; transcript_id \"ENSFHET00000020149\"; transcript_version \"1\"; exon_number \"10\"; gene_name \"csf1ra\"; gene_source \"ensembl\"; gene_biotype \"protein_coding\"; transcript_name \"csf1ra-201\"; transcript_source \"ensembl\"; transcript_biotype \"protein_coding\"; protein_id \"ENSFHEP00000012780\"; protein_version \"1\";\r\n",
      "KN805525.1\tensembl\texon\t66899\t66990\t.\t+\t.\tgene_id \"ENSFHEG00000014282\"; gene_version \"1\"; transcript_id \"ENSFHET00000020149\"; transcript_version \"1\"; exon_number \"11\"; gene_name \"csf1ra\"; gene_source \"ensembl\"; gene_biotype \"protein_coding\"; transcript_name \"csf1ra-201\"; transcript_source \"ensembl\"; transcript_biotype \"protein_coding\"; exon_id \"ENSFHEE00000191758\"; exon_version \"1\";\r\n",
      "KN805525.1\tensembl\tCDS\t66899\t66990\t.\t+\t2\tgene_id \"ENSFHEG00000014282\"; gene_version \"1\"; transcript_id \"ENSFHET00000020149\"; transcript_version \"1\"; exon_number \"11\"; gene_name \"csf1ra\"; gene_source \"ensembl\"; gene_biotype \"protein_coding\"; transcript_name \"csf1ra-201\"; transcript_source \"ensembl\"; transcript_biotype \"protein_coding\"; protein_id \"ENSFHEP00000012780\"; protein_version \"1\";\r\n",
      "KN805525.1\tensembl\texon\t67114\t67240\t.\t+\t.\tgene_id \"ENSFHEG00000014282\"; gene_version \"1\"; transcript_id \"ENSFHET00000020149\"; transcript_version \"1\"; exon_number \"12\"; gene_name \"csf1ra\"; gene_source \"ensembl\"; gene_biotype \"protein_coding\"; transcript_name \"csf1ra-201\"; transcript_source \"ensembl\"; transcript_biotype \"protein_coding\"; exon_id \"ENSFHEE00000191781\"; exon_version \"1\";\r\n",
      "KN805525.1\tensembl\tCDS\t67114\t67240\t.\t+\t0\tgene_id \"ENSFHEG00000014282\"; gene_version \"1\"; transcript_id \"ENSFHET00000020149\"; transcript_version \"1\"; exon_number \"12\"; gene_name \"csf1ra\"; gene_source \"ensembl\"; gene_biotype \"protein_coding\"; transcript_name \"csf1ra-201\"; transcript_source \"ensembl\"; transcript_biotype \"protein_coding\"; protein_id \"ENSFHEP00000012780\"; protein_version \"1\";\r\n",
      "KN805525.1\tensembl\texon\t67818\t67922\t.\t+\t.\tgene_id \"ENSFHEG00000014282\"; gene_version \"1\"; transcript_id \"ENSFHET00000020149\"; transcript_version \"1\"; exon_number \"13\"; gene_name \"csf1ra\"; gene_source \"ensembl\"; gene_biotype \"protein_coding\"; transcript_name \"csf1ra-201\"; transcript_source \"ensembl\"; transcript_biotype \"protein_coding\"; exon_id \"ENSFHEE00000071539\"; exon_version \"1\";\r\n",
      "KN805525.1\tensembl\tCDS\t67818\t67922\t.\t+\t2\tgene_id \"ENSFHEG00000014282\"; gene_version \"1\"; transcript_id \"ENSFHET00000020149\"; transcript_version \"1\"; exon_number \"13\"; gene_name \"csf1ra\"; gene_source \"ensembl\"; gene_biotype \"protein_coding\"; transcript_name \"csf1ra-201\"; transcript_source \"ensembl\"; transcript_biotype \"protein_coding\"; protein_id \"ENSFHEP00000012780\"; protein_version \"1\";\r\n",
      "KN805525.1\tensembl\texon\t68034\t68144\t.\t+\t.\tgene_id \"ENSFHEG00000014282\"; gene_version \"1\"; transcript_id \"ENSFHET00000020149\"; transcript_version \"1\"; exon_number \"14\"; gene_name \"csf1ra\"; gene_source \"ensembl\"; gene_biotype \"protein_coding\"; transcript_name \"csf1ra-201\"; transcript_source \"ensembl\"; transcript_biotype \"protein_coding\"; exon_id \"ENSFHEE00000071725\"; exon_version \"1\";\r\n",
      "KN805525.1\tensembl\tCDS\t68034\t68144\t.\t+\t2\tgene_id \"ENSFHEG00000014282\"; gene_version \"1\"; transcript_id \"ENSFHET00000020149\"; transcript_version \"1\"; exon_number \"14\"; gene_name \"csf1ra\"; gene_source \"ensembl\"; gene_biotype \"protein_coding\"; transcript_name \"csf1ra-201\"; transcript_source \"ensembl\"; transcript_biotype \"protein_coding\"; protein_id \"ENSFHEP00000012780\"; protein_version \"1\";\r\n",
      "KN805525.1\tensembl\texon\t68257\t68419\t.\t+\t.\tgene_id \"ENSFHEG00000014282\"; gene_version \"1\"; transcript_id \"ENSFHET00000020149\"; transcript_version \"1\"; exon_number \"15\"; gene_name \"csf1ra\"; gene_source \"ensembl\"; gene_biotype \"protein_coding\"; transcript_name \"csf1ra-201\"; transcript_source \"ensembl\"; transcript_biotype \"protein_coding\"; exon_id \"ENSFHEE00000191745\"; exon_version \"1\";\r\n",
      "KN805525.1\tensembl\tCDS\t68257\t68419\t.\t+\t2\tgene_id \"ENSFHEG00000014282\"; gene_version \"1\"; transcript_id \"ENSFHET00000020149\"; transcript_version \"1\"; exon_number \"15\"; gene_name \"csf1ra\"; gene_source \"ensembl\"; gene_biotype \"protein_coding\"; transcript_name \"csf1ra-201\"; transcript_source \"ensembl\"; transcript_biotype \"protein_coding\"; protein_id \"ENSFHEP00000012780\"; protein_version \"1\";\r\n",
      "KN805525.1\tensembl\texon\t68504\t68586\t.\t+\t.\tgene_id \"ENSFHEG00000014282\"; gene_version \"1\"; transcript_id \"ENSFHET00000020149\"; transcript_version \"1\"; exon_number \"16\"; gene_name \"csf1ra\"; gene_source \"ensembl\"; gene_biotype \"protein_coding\"; transcript_name \"csf1ra-201\"; transcript_source \"ensembl\"; transcript_biotype \"protein_coding\"; exon_id \"ENSFHEE00000071536\"; exon_version \"1\";\r\n",
      "KN805525.1\tensembl\tCDS\t68504\t68586\t.\t+\t1\tgene_id \"ENSFHEG00000014282\"; gene_version \"1\"; transcript_id \"ENSFHET00000020149\"; transcript_version \"1\"; exon_number \"16\"; gene_name \"csf1ra\"; gene_source \"ensembl\"; gene_biotype \"protein_coding\"; transcript_name \"csf1ra-201\"; transcript_source \"ensembl\"; transcript_biotype \"protein_coding\"; protein_id \"ENSFHEP00000012780\"; protein_version \"1\";\r\n"
     ]
    }
   ],
   "source": [
    "!head -n100 Fundulus_heteroclitus.Fundulus_heteroclitus-3.0.2.105.gtf"
   ]
  },
  {
   "cell_type": "markdown",
   "metadata": {},
   "source": [
    "## 2. Prepare for feature track creation"
   ]
  },
  {
   "cell_type": "markdown",
   "metadata": {},
   "source": [
    "Before I pull out feature tracks, I need to know which databases were used for annotation, which features I can expect and how many of them there are, and identify chromosome lengths."
   ]
  },
  {
   "cell_type": "code",
   "execution_count": 35,
   "metadata": {
    "scrolled": false
   },
   "outputs": [
    {
     "name": "stdout",
     "output_type": "stream",
     "text": [
      "   1 #!genebuild-last-updated 2018-07\r\n",
      "   1 #!genome-build Fundulus_heteroclitus-3.0.2\r\n",
      "   1 #!genome-build-accession GCA_000826765.1\r\n",
      "   1 #!genome-date 2015-01\r\n",
      "   1 #!genome-version Fundulus_heteroclitus-3.0.2\r\n",
      " 145 RefSeq\r\n",
      "860089 ensembl\r\n"
     ]
    }
   ],
   "source": [
    "#Database identifiers for extracting features\n",
    "!cut -f2 Fundulus_heteroclitus.Fundulus_heteroclitus-3.0.2.105.gtf | sort | uniq -c | tail"
   ]
  },
  {
   "cell_type": "code",
   "execution_count": 37,
   "metadata": {},
   "outputs": [
    {
     "name": "stdout",
     "output_type": "stream",
     "text": [
      "   1 #!genebuild-last-updated 2018-07\n",
      "   1 #!genome-build Fundulus_heteroclitus-3.0.2\n",
      "   1 #!genome-build-accession GCA_000826765.1\n",
      "   1 #!genome-date 2015-01\n",
      "   1 #!genome-version Fundulus_heteroclitus-3.0.2\n",
      "341549 CDS\n",
      "   2 Selenocysteine\n",
      "350439 exon\n",
      "25788 five_prime_utr\n",
      "23469 gene\n",
      "30408 start_codon\n",
      "34476 stop_codon\n",
      "18506 three_prime_utr\n",
      "35597 transcript\n"
     ]
    }
   ],
   "source": [
    "#Count the number of unique features in the GFF\n",
    "!cut -f3 Fundulus_heteroclitus.Fundulus_heteroclitus-3.0.2.105.gtf | sort | uniq -c"
   ]
  },
  {
   "cell_type": "code",
   "execution_count": 30,
   "metadata": {},
   "outputs": [
    {
     "name": "stdout",
     "output_type": "stream",
     "text": [
      "KN805525.1\t6356336\r\n",
      "KN805526.1\t6250690\r\n",
      "KN811289.1\t6115441\r\n",
      "KN811310.1\t5246820\r\n",
      "KN811405.1\t5058772\r\n",
      "KN811340.1\t5018176\r\n",
      "KN811371.1\t4958163\r\n",
      "KN811339.1\t4925094\r\n",
      "KN811372.1\t4897111\r\n",
      "KN811406.1\t4652060\r\n"
     ]
    }
   ],
   "source": [
    "#Chromosome length information\n",
    "!head mummichog.chrom.length"
   ]
  },
  {
   "cell_type": "markdown",
   "metadata": {},
   "source": [
    "## 2. Generate genome feature tracks"
   ]
  },
  {
   "cell_type": "markdown",
   "metadata": {},
   "source": [
    "I will extract CDS, exon, gene, lncRNA and mRNA tracks. I can then use those existing tracks to produce intron and  intergenic tracks, as well as 1 kb upstream and downstream flanking regions with `bedtools`. I will also use the RepeatMasker output from NCBI for my transposable element track."
   ]
  },
  {
   "cell_type": "code",
   "execution_count": 27,
   "metadata": {
    "scrolled": true
   },
   "outputs": [
    {
     "name": "stdout",
     "output_type": "stream",
     "text": [
      "bedtools v2.30.0\r\n"
     ]
    }
   ],
   "source": [
    "!{bedtoolsDirectory}/bedtools --version"
   ]
  },
  {
   "cell_type": "markdown",
   "metadata": {},
   "source": [
    "### 2a. Gene"
   ]
  },
  {
   "cell_type": "code",
   "execution_count": 40,
   "metadata": {},
   "outputs": [],
   "source": [
    "#Isolate gene entries from multiple annotation databses. Tab mus be included between database and feature\n",
    "#Sort output for downstream use\n",
    "#Include chromosome name information\n",
    "!grep -e \"RefSeq\tgene\" -e \"ensembl\tgene\" \\\n",
    "Fundulus_heteroclitus.Fundulus_heteroclitus-3.0.2.105.gtf \\\n",
    "| {bedtoolsDirectory}/sortBed \\\n",
    "-faidx mummichog.chrom.length \\\n",
    "> Fundulus_heteroclitus-3.0.2.105-gene.gff"
   ]
  },
  {
   "cell_type": "code",
   "execution_count": 41,
   "metadata": {
    "scrolled": true
   },
   "outputs": [
    {
     "name": "stdout",
     "output_type": "stream",
     "text": [
      "KN805525.1\tensembl\tgene\t2500\t10348\t.\t-\t.\tgene_id \"ENSFHEG00000014345\"; gene_version \"1\"; gene_name \"cdx1a\"; gene_source \"ensembl\"; gene_biotype \"protein_coding\";\n",
      "KN805525.1\tensembl\tgene\t38959\t57020\t.\t+\t.\tgene_id \"ENSFHEG00000014326\"; gene_version \"1\"; gene_name \"pdgfrb\"; gene_source \"ensembl\"; gene_biotype \"protein_coding\";\n",
      "KN805525.1\tensembl\tgene\t62194\t78208\t.\t+\t.\tgene_id \"ENSFHEG00000014282\"; gene_version \"1\"; gene_name \"csf1ra\"; gene_source \"ensembl\"; gene_biotype \"protein_coding\";\n",
      "KN805525.1\tensembl\tgene\t85895\t96387\t.\t-\t.\tgene_id \"ENSFHEG00000014227\"; gene_version \"1\"; gene_name \"hmgxb3\"; gene_source \"ensembl\"; gene_biotype \"protein_coding\";\n",
      "KN805525.1\tensembl\tgene\t96807\t105515\t.\t+\t.\tgene_id \"ENSFHEG00000014113\"; gene_version \"1\"; gene_name \"si:ch73-42p12.2\"; gene_source \"ensembl\"; gene_biotype \"protein_coding\";\n",
      "KN805525.1\tensembl\tgene\t103755\t106513\t.\t+\t.\tgene_id \"ENSFHEG00000014098\"; gene_version \"1\"; gene_name \"SLC35A4\"; gene_source \"ensembl\"; gene_biotype \"protein_coding\";\n",
      "KN805525.1\tensembl\tgene\t107710\t111142\t.\t-\t.\tgene_id \"ENSFHEG00000014086\"; gene_version \"1\"; gene_name \"si:dkey-201i24.3\"; gene_source \"ensembl\"; gene_biotype \"protein_coding\"; projection_parent_gene \"ENSDARG00000103572.2\";\n",
      "KN805525.1\tensembl\tgene\t130424\t137024\t.\t-\t.\tgene_id \"ENSFHEG00000014072\"; gene_version \"1\"; gene_source \"ensembl\"; gene_biotype \"protein_coding\";\n",
      "KN805525.1\tensembl\tgene\t142524\t211966\t.\t-\t.\tgene_id \"ENSFHEG00000014058\"; gene_version \"1\"; gene_name \"ndst1a\"; gene_source \"ensembl\"; gene_biotype \"protein_coding\";\n",
      "KN805525.1\tensembl\tgene\t214865\t220266\t.\t+\t.\tgene_id \"ENSFHEG00000014032\"; gene_version \"1\"; gene_name \"rbm22\"; gene_source \"ensembl\"; gene_biotype \"protein_coding\";\n",
      "   23469 Fundulus_heteroclitus-3.0.2.105-gene.gff\n"
     ]
    }
   ],
   "source": [
    "!head Fundulus_heteroclitus-3.0.2.105-gene.gff\n",
    "!wc -l Fundulus_heteroclitus-3.0.2.105-gene.gff"
   ]
  },
  {
   "cell_type": "markdown",
   "metadata": {},
   "source": [
    "### 2b. CDS"
   ]
  },
  {
   "cell_type": "code",
   "execution_count": 42,
   "metadata": {},
   "outputs": [],
   "source": [
    "!grep -e \"RefSeq\tCDS\" -e \"ensembl\tCDS\" \\\n",
    "Fundulus_heteroclitus.Fundulus_heteroclitus-3.0.2.105.gtf \\\n",
    "| {bedtoolsDirectory}/sortBed \\\n",
    "-faidx mummichog.chrom.length \\\n",
    "> Fundulus_heteroclitus-3.0.2.105-CDS.gff"
   ]
  },
  {
   "cell_type": "code",
   "execution_count": 43,
   "metadata": {
    "scrolled": true
   },
   "outputs": [
    {
     "name": "stdout",
     "output_type": "stream",
     "text": [
      "KN805525.1\tensembl\tCDS\t2503\t2651\t.\t-\t2\tgene_id \"ENSFHEG00000014345\"; gene_version \"1\"; transcript_id \"ENSFHET00000020248\"; transcript_version \"1\"; exon_number \"4\"; gene_name \"cdx1a\"; gene_source \"ensembl\"; gene_biotype \"protein_coding\"; transcript_name \"cdx1a-201\"; transcript_source \"ensembl\"; transcript_biotype \"protein_coding\"; protein_id \"ENSFHEP00000012884\"; protein_version \"1\";\n",
      "KN805525.1\tensembl\tCDS\t5166\t5274\t.\t-\t0\tgene_id \"ENSFHEG00000014345\"; gene_version \"1\"; transcript_id \"ENSFHET00000020248\"; transcript_version \"1\"; exon_number \"3\"; gene_name \"cdx1a\"; gene_source \"ensembl\"; gene_biotype \"protein_coding\"; transcript_name \"cdx1a-201\"; transcript_source \"ensembl\"; transcript_biotype \"protein_coding\"; protein_id \"ENSFHEP00000012884\"; protein_version \"1\";\n",
      "KN805525.1\tensembl\tCDS\t8335\t8483\t.\t-\t2\tgene_id \"ENSFHEG00000014345\"; gene_version \"1\"; transcript_id \"ENSFHET00000020248\"; transcript_version \"1\"; exon_number \"2\"; gene_name \"cdx1a\"; gene_source \"ensembl\"; gene_biotype \"protein_coding\"; transcript_name \"cdx1a-201\"; transcript_source \"ensembl\"; transcript_biotype \"protein_coding\"; protein_id \"ENSFHEP00000012884\"; protein_version \"1\";\n",
      "KN805525.1\tensembl\tCDS\t10201\t10348\t.\t-\t0\tgene_id \"ENSFHEG00000014345\"; gene_version \"1\"; transcript_id \"ENSFHET00000020248\"; transcript_version \"1\"; exon_number \"1\"; gene_name \"cdx1a\"; gene_source \"ensembl\"; gene_biotype \"protein_coding\"; transcript_name \"cdx1a-201\"; transcript_source \"ensembl\"; transcript_biotype \"protein_coding\"; protein_id \"ENSFHEP00000012884\"; protein_version \"1\";\n",
      "KN805525.1\tensembl\tCDS\t38959\t38960\t.\t+\t0\tgene_id \"ENSFHEG00000014326\"; gene_version \"1\"; transcript_id \"ENSFHET00000020197\"; transcript_version \"1\"; exon_number \"1\"; gene_name \"pdgfrb\"; gene_source \"ensembl\"; gene_biotype \"protein_coding\"; transcript_name \"pdgfrb-201\"; transcript_source \"ensembl\"; transcript_biotype \"protein_coding\"; protein_id \"ENSFHEP00000012823\"; protein_version \"1\";\n",
      "KN805525.1\tensembl\tCDS\t39613\t39736\t.\t+\t1\tgene_id \"ENSFHEG00000014326\"; gene_version \"1\"; transcript_id \"ENSFHET00000020197\"; transcript_version \"1\"; exon_number \"2\"; gene_name \"pdgfrb\"; gene_source \"ensembl\"; gene_biotype \"protein_coding\"; transcript_name \"pdgfrb-201\"; transcript_source \"ensembl\"; transcript_biotype \"protein_coding\"; protein_id \"ENSFHEP00000012823\"; protein_version \"1\";\n",
      "KN805525.1\tensembl\tCDS\t39794\t39899\t.\t+\t0\tgene_id \"ENSFHEG00000014326\"; gene_version \"1\"; transcript_id \"ENSFHET00000020197\"; transcript_version \"1\"; exon_number \"3\"; gene_name \"pdgfrb\"; gene_source \"ensembl\"; gene_biotype \"protein_coding\"; transcript_name \"pdgfrb-201\"; transcript_source \"ensembl\"; transcript_biotype \"protein_coding\"; protein_id \"ENSFHEP00000012823\"; protein_version \"1\";\n",
      "KN805525.1\tensembl\tCDS\t39984\t40241\t.\t+\t2\tgene_id \"ENSFHEG00000014326\"; gene_version \"1\"; transcript_id \"ENSFHET00000020197\"; transcript_version \"1\"; exon_number \"4\"; gene_name \"pdgfrb\"; gene_source \"ensembl\"; gene_biotype \"protein_coding\"; transcript_name \"pdgfrb-201\"; transcript_source \"ensembl\"; transcript_biotype \"protein_coding\"; protein_id \"ENSFHEP00000012823\"; protein_version \"1\";\n",
      "KN805525.1\tensembl\tCDS\t40742\t40887\t.\t+\t2\tgene_id \"ENSFHEG00000014326\"; gene_version \"1\"; transcript_id \"ENSFHET00000020197\"; transcript_version \"1\"; exon_number \"5\"; gene_name \"pdgfrb\"; gene_source \"ensembl\"; gene_biotype \"protein_coding\"; transcript_name \"pdgfrb-201\"; transcript_source \"ensembl\"; transcript_biotype \"protein_coding\"; protein_id \"ENSFHEP00000012823\"; protein_version \"1\";\n",
      "KN805525.1\tensembl\tCDS\t41874\t41997\t.\t+\t0\tgene_id \"ENSFHEG00000014326\"; gene_version \"1\"; transcript_id \"ENSFHET00000020197\"; transcript_version \"1\"; exon_number \"6\"; gene_name \"pdgfrb\"; gene_source \"ensembl\"; gene_biotype \"protein_coding\"; transcript_name \"pdgfrb-201\"; transcript_source \"ensembl\"; transcript_biotype \"protein_coding\"; protein_id \"ENSFHEP00000012823\"; protein_version \"1\";\n",
      "  341549 Fundulus_heteroclitus-3.0.2.105-CDS.gff\n"
     ]
    }
   ],
   "source": [
    "!head Fundulus_heteroclitus-3.0.2.105-CDS.gff\n",
    "!wc -l Fundulus_heteroclitus-3.0.2.105-CDS.gff"
   ]
  },
  {
   "cell_type": "markdown",
   "metadata": {},
   "source": [
    "### 2c. Exon"
   ]
  },
  {
   "cell_type": "code",
   "execution_count": 45,
   "metadata": {},
   "outputs": [],
   "source": [
    "!grep -e \"RefSeq\texon\" -e \"ensembl\texon\" \\\n",
    "Fundulus_heteroclitus.Fundulus_heteroclitus-3.0.2.105.gtf \\\n",
    "| {bedtoolsDirectory}/sortBed \\\n",
    "-faidx mummichog.chrom.length \\\n",
    "> Fundulus_heteroclitus-3.0.2.105-exon.gff"
   ]
  },
  {
   "cell_type": "code",
   "execution_count": 46,
   "metadata": {
    "scrolled": true
   },
   "outputs": [
    {
     "name": "stdout",
     "output_type": "stream",
     "text": [
      "KN805525.1\tensembl\texon\t2500\t2651\t.\t-\t.\tgene_id \"ENSFHEG00000014345\"; gene_version \"1\"; transcript_id \"ENSFHET00000020248\"; transcript_version \"1\"; exon_number \"4\"; gene_name \"cdx1a\"; gene_source \"ensembl\"; gene_biotype \"protein_coding\"; transcript_name \"cdx1a-201\"; transcript_source \"ensembl\"; transcript_biotype \"protein_coding\"; exon_id \"ENSFHEE00000192221\"; exon_version \"1\";\n",
      "KN805525.1\tensembl\texon\t5166\t5274\t.\t-\t.\tgene_id \"ENSFHEG00000014345\"; gene_version \"1\"; transcript_id \"ENSFHET00000020248\"; transcript_version \"1\"; exon_number \"3\"; gene_name \"cdx1a\"; gene_source \"ensembl\"; gene_biotype \"protein_coding\"; transcript_name \"cdx1a-201\"; transcript_source \"ensembl\"; transcript_biotype \"protein_coding\"; exon_id \"ENSFHEE00000072033\"; exon_version \"1\";\n",
      "KN805525.1\tensembl\texon\t8335\t8483\t.\t-\t.\tgene_id \"ENSFHEG00000014345\"; gene_version \"1\"; transcript_id \"ENSFHET00000020248\"; transcript_version \"1\"; exon_number \"2\"; gene_name \"cdx1a\"; gene_source \"ensembl\"; gene_biotype \"protein_coding\"; transcript_name \"cdx1a-201\"; transcript_source \"ensembl\"; transcript_biotype \"protein_coding\"; exon_id \"ENSFHEE00000192263\"; exon_version \"1\";\n",
      "KN805525.1\tensembl\texon\t10201\t10348\t.\t-\t.\tgene_id \"ENSFHEG00000014345\"; gene_version \"1\"; transcript_id \"ENSFHET00000020248\"; transcript_version \"1\"; exon_number \"1\"; gene_name \"cdx1a\"; gene_source \"ensembl\"; gene_biotype \"protein_coding\"; transcript_name \"cdx1a-201\"; transcript_source \"ensembl\"; transcript_biotype \"protein_coding\"; exon_id \"ENSFHEE00000072050\"; exon_version \"1\";\n",
      "KN805525.1\tensembl\texon\t38959\t38960\t.\t+\t.\tgene_id \"ENSFHEG00000014326\"; gene_version \"1\"; transcript_id \"ENSFHET00000020197\"; transcript_version \"1\"; exon_number \"1\"; gene_name \"pdgfrb\"; gene_source \"ensembl\"; gene_biotype \"protein_coding\"; transcript_name \"pdgfrb-201\"; transcript_source \"ensembl\"; transcript_biotype \"protein_coding\"; exon_id \"ENSFHEE00000192162\"; exon_version \"1\";\n",
      "KN805525.1\tensembl\texon\t39613\t39736\t.\t+\t.\tgene_id \"ENSFHEG00000014326\"; gene_version \"1\"; transcript_id \"ENSFHET00000020197\"; transcript_version \"1\"; exon_number \"2\"; gene_name \"pdgfrb\"; gene_source \"ensembl\"; gene_biotype \"protein_coding\"; transcript_name \"pdgfrb-201\"; transcript_source \"ensembl\"; transcript_biotype \"protein_coding\"; exon_id \"ENSFHEE00000192199\"; exon_version \"1\";\n",
      "KN805525.1\tensembl\texon\t39794\t39899\t.\t+\t.\tgene_id \"ENSFHEG00000014326\"; gene_version \"1\"; transcript_id \"ENSFHET00000020197\"; transcript_version \"1\"; exon_number \"3\"; gene_name \"pdgfrb\"; gene_source \"ensembl\"; gene_biotype \"protein_coding\"; transcript_name \"pdgfrb-201\"; transcript_source \"ensembl\"; transcript_biotype \"protein_coding\"; exon_id \"ENSFHEE00000071965\"; exon_version \"1\";\n",
      "KN805525.1\tensembl\texon\t39984\t40241\t.\t+\t.\tgene_id \"ENSFHEG00000014326\"; gene_version \"1\"; transcript_id \"ENSFHET00000020197\"; transcript_version \"1\"; exon_number \"4\"; gene_name \"pdgfrb\"; gene_source \"ensembl\"; gene_biotype \"protein_coding\"; transcript_name \"pdgfrb-201\"; transcript_source \"ensembl\"; transcript_biotype \"protein_coding\"; exon_id \"ENSFHEE00000192136\"; exon_version \"1\";\n",
      "KN805525.1\tensembl\texon\t40742\t40887\t.\t+\t.\tgene_id \"ENSFHEG00000014326\"; gene_version \"1\"; transcript_id \"ENSFHET00000020197\"; transcript_version \"1\"; exon_number \"5\"; gene_name \"pdgfrb\"; gene_source \"ensembl\"; gene_biotype \"protein_coding\"; transcript_name \"pdgfrb-201\"; transcript_source \"ensembl\"; transcript_biotype \"protein_coding\"; exon_id \"ENSFHEE00000192119\"; exon_version \"1\";\n",
      "KN805525.1\tensembl\texon\t41874\t41997\t.\t+\t.\tgene_id \"ENSFHEG00000014326\"; gene_version \"1\"; transcript_id \"ENSFHET00000020197\"; transcript_version \"1\"; exon_number \"6\"; gene_name \"pdgfrb\"; gene_source \"ensembl\"; gene_biotype \"protein_coding\"; transcript_name \"pdgfrb-201\"; transcript_source \"ensembl\"; transcript_biotype \"protein_coding\"; exon_id \"ENSFHEE00000071938\"; exon_version \"1\";\n",
      "  350439 Fundulus_heteroclitus-3.0.2.105-exon.gff\n"
     ]
    }
   ],
   "source": [
    "!head Fundulus_heteroclitus-3.0.2.105-exon.gff\n",
    "!wc -l Fundulus_heteroclitus-3.0.2.105-exon.gff"
   ]
  },
  {
   "cell_type": "markdown",
   "metadata": {},
   "source": [
    "### 2d. 5' UTR"
   ]
  },
  {
   "cell_type": "code",
   "execution_count": 47,
   "metadata": {},
   "outputs": [],
   "source": [
    "!grep -e \"RefSeq\tfive_prime_utr\" -e \"ensembl\tfive_prime_utr\" \\\n",
    "Fundulus_heteroclitus.Fundulus_heteroclitus-3.0.2.105.gtf \\\n",
    "| {bedtoolsDirectory}/sortBed \\\n",
    "-faidx mummichog.chrom.length \\\n",
    "> Fundulus_heteroclitus-3.0.2.105-five_prime_utr.gff"
   ]
  },
  {
   "cell_type": "code",
   "execution_count": 48,
   "metadata": {
    "scrolled": true
   },
   "outputs": [
    {
     "name": "stdout",
     "output_type": "stream",
     "text": [
      "KN805525.1\tensembl\tfive_prime_utr\t62194\t62306\t.\t+\t.\tgene_id \"ENSFHEG00000014282\"; gene_version \"1\"; transcript_id \"ENSFHET00000020149\"; transcript_version \"1\"; gene_name \"csf1ra\"; gene_source \"ensembl\"; gene_biotype \"protein_coding\"; transcript_name \"csf1ra-201\"; transcript_source \"ensembl\"; transcript_biotype \"protein_coding\";\n",
      "KN805525.1\tensembl\tfive_prime_utr\t62562\t62579\t.\t+\t.\tgene_id \"ENSFHEG00000014282\"; gene_version \"1\"; transcript_id \"ENSFHET00000020149\"; transcript_version \"1\"; gene_name \"csf1ra\"; gene_source \"ensembl\"; gene_biotype \"protein_coding\"; transcript_name \"csf1ra-201\"; transcript_source \"ensembl\"; transcript_biotype \"protein_coding\";\n",
      "KN805525.1\tensembl\tfive_prime_utr\t96807\t96912\t.\t+\t.\tgene_id \"ENSFHEG00000014113\"; gene_version \"1\"; transcript_id \"ENSFHET00000019976\"; transcript_version \"1\"; gene_name \"si:ch73-42p12.2\"; gene_source \"ensembl\"; gene_biotype \"protein_coding\"; transcript_name \"si:ch73-42p12.2-201\"; transcript_source \"ensembl\"; transcript_biotype \"protein_coding\";\n",
      "KN805525.1\tensembl\tfive_prime_utr\t97412\t97506\t.\t+\t.\tgene_id \"ENSFHEG00000014113\"; gene_version \"1\"; transcript_id \"ENSFHET00000032071\"; transcript_version \"1\"; gene_name \"si:ch73-42p12.2\"; gene_source \"ensembl\"; gene_biotype \"protein_coding\"; transcript_name \"si:ch73-42p12.2-202\"; transcript_source \"ensembl\"; transcript_biotype \"protein_coding\";\n",
      "KN805525.1\tensembl\tfive_prime_utr\t97490\t97506\t.\t+\t.\tgene_id \"ENSFHEG00000014113\"; gene_version \"1\"; transcript_id \"ENSFHET00000019976\"; transcript_version \"1\"; gene_name \"si:ch73-42p12.2\"; gene_source \"ensembl\"; gene_biotype \"protein_coding\"; transcript_name \"si:ch73-42p12.2-201\"; transcript_source \"ensembl\"; transcript_biotype \"protein_coding\";\n",
      "KN805525.1\tensembl\tfive_prime_utr\t97787\t97787\t.\t+\t.\tgene_id \"ENSFHEG00000014113\"; gene_version \"1\"; transcript_id \"ENSFHET00000019954\"; transcript_version \"1\"; gene_name \"si:ch73-42p12.2\"; gene_source \"ensembl\"; gene_biotype \"protein_coding\"; transcript_name \"si:ch73-42p12.2-203\"; transcript_source \"ensembl\"; transcript_biotype \"protein_coding\";\n",
      "KN805525.1\tensembl\tfive_prime_utr\t136847\t137024\t.\t-\t.\tgene_id \"ENSFHEG00000014072\"; gene_version \"1\"; transcript_id \"ENSFHET00000019911\"; transcript_version \"1\"; gene_source \"ensembl\"; gene_biotype \"protein_coding\"; transcript_source \"ensembl\"; transcript_biotype \"protein_coding\";\n",
      "KN805525.1\tensembl\tfive_prime_utr\t165976\t166019\t.\t-\t.\tgene_id \"ENSFHEG00000014058\"; gene_version \"1\"; transcript_id \"ENSFHET00000019891\"; transcript_version \"1\"; gene_name \"ndst1a\"; gene_source \"ensembl\"; gene_biotype \"protein_coding\"; transcript_name \"ndst1a-201\"; transcript_source \"ensembl\"; transcript_biotype \"protein_coding\";\n",
      "KN805525.1\tensembl\tfive_prime_utr\t165976\t166452\t.\t-\t.\tgene_id \"ENSFHEG00000014058\"; gene_version \"1\"; transcript_id \"ENSFHET00000019886\"; transcript_version \"1\"; gene_name \"ndst1a\"; gene_source \"ensembl\"; gene_biotype \"protein_coding\"; transcript_name \"ndst1a-202\"; transcript_source \"ensembl\"; transcript_biotype \"protein_coding\";\n",
      "KN805525.1\tensembl\tfive_prime_utr\t166091\t166452\t.\t-\t.\tgene_id \"ENSFHEG00000014058\"; gene_version \"1\"; transcript_id \"ENSFHET00000019891\"; transcript_version \"1\"; gene_name \"ndst1a\"; gene_source \"ensembl\"; gene_biotype \"protein_coding\"; transcript_name \"ndst1a-201\"; transcript_source \"ensembl\"; transcript_biotype \"protein_coding\";\n",
      "   25788 Fundulus_heteroclitus-3.0.2.105-five_prime_utr.gff\n"
     ]
    }
   ],
   "source": [
    "!head Fundulus_heteroclitus-3.0.2.105-five_prime_utr.gff\n",
    "!wc -l Fundulus_heteroclitus-3.0.2.105-five_prime_utr.gff"
   ]
  },
  {
   "cell_type": "markdown",
   "metadata": {},
   "source": [
    "### 2e. 3' UTR"
   ]
  },
  {
   "cell_type": "code",
   "execution_count": 49,
   "metadata": {},
   "outputs": [],
   "source": [
    "!grep -e \"RefSeq\tthree_prime_utr\" -e \"ensembl\tthree_prime_utr\" \\\n",
    "Fundulus_heteroclitus.Fundulus_heteroclitus-3.0.2.105.gtf \\\n",
    "| {bedtoolsDirectory}/sortBed \\\n",
    "-faidx mummichog.chrom.length \\\n",
    "> Fundulus_heteroclitus-3.0.2.105-three_prime_utr.gff"
   ]
  },
  {
   "cell_type": "code",
   "execution_count": 50,
   "metadata": {
    "scrolled": true
   },
   "outputs": [
    {
     "name": "stdout",
     "output_type": "stream",
     "text": [
      "KN805525.1\tensembl\tthree_prime_utr\t76711\t78208\t.\t+\t.\tgene_id \"ENSFHEG00000014282\"; gene_version \"1\"; transcript_id \"ENSFHET00000020149\"; transcript_version \"1\"; gene_name \"csf1ra\"; gene_source \"ensembl\"; gene_biotype \"protein_coding\"; transcript_name \"csf1ra-201\"; transcript_source \"ensembl\"; transcript_biotype \"protein_coding\";\n",
      "KN805525.1\tensembl\tthree_prime_utr\t105041\t105515\t.\t+\t.\tgene_id \"ENSFHEG00000014113\"; gene_version \"1\"; transcript_id \"ENSFHET00000032071\"; transcript_version \"1\"; gene_name \"si:ch73-42p12.2\"; gene_source \"ensembl\"; gene_biotype \"protein_coding\"; transcript_name \"si:ch73-42p12.2-202\"; transcript_source \"ensembl\"; transcript_biotype \"protein_coding\";\n",
      "KN805525.1\tensembl\tthree_prime_utr\t105041\t105515\t.\t+\t.\tgene_id \"ENSFHEG00000014113\"; gene_version \"1\"; transcript_id \"ENSFHET00000019954\"; transcript_version \"1\"; gene_name \"si:ch73-42p12.2\"; gene_source \"ensembl\"; gene_biotype \"protein_coding\"; transcript_name \"si:ch73-42p12.2-203\"; transcript_source \"ensembl\"; transcript_biotype \"protein_coding\";\n",
      "KN805525.1\tensembl\tthree_prime_utr\t130424\t132434\t.\t-\t.\tgene_id \"ENSFHEG00000014072\"; gene_version \"1\"; transcript_id \"ENSFHET00000019911\"; transcript_version \"1\"; gene_source \"ensembl\"; gene_biotype \"protein_coding\"; transcript_source \"ensembl\"; transcript_biotype \"protein_coding\";\n",
      "KN805525.1\tensembl\tthree_prime_utr\t142524\t144974\t.\t-\t.\tgene_id \"ENSFHEG00000014058\"; gene_version \"1\"; transcript_id \"ENSFHET00000019891\"; transcript_version \"1\"; gene_name \"ndst1a\"; gene_source \"ensembl\"; gene_biotype \"protein_coding\"; transcript_name \"ndst1a-201\"; transcript_source \"ensembl\"; transcript_biotype \"protein_coding\";\n",
      "KN805525.1\tensembl\tthree_prime_utr\t142524\t144974\t.\t-\t.\tgene_id \"ENSFHEG00000014058\"; gene_version \"1\"; transcript_id \"ENSFHET00000019886\"; transcript_version \"1\"; gene_name \"ndst1a\"; gene_source \"ensembl\"; gene_biotype \"protein_coding\"; transcript_name \"ndst1a-202\"; transcript_source \"ensembl\"; transcript_biotype \"protein_coding\";\n",
      "KN805525.1\tensembl\tthree_prime_utr\t217873\t221874\t.\t-\t.\tgene_id \"ENSFHEG00000013967\"; gene_version \"1\"; transcript_id \"ENSFHET00000019785\"; transcript_version \"1\"; gene_name \"myoz3a\"; gene_source \"ensembl\"; gene_biotype \"protein_coding\"; transcript_name \"myoz3a-201\"; transcript_source \"ensembl\"; transcript_biotype \"protein_coding\";\n",
      "KN805525.1\tensembl\tthree_prime_utr\t280486\t283868\t.\t+\t.\tgene_id \"ENSFHEG00000013942\"; gene_version \"1\"; transcript_id \"ENSFHET00000019705\"; transcript_version \"1\"; gene_name \"rgs14a\"; gene_source \"ensembl\"; gene_biotype \"protein_coding\"; transcript_name \"rgs14a-201\"; transcript_source \"ensembl\"; transcript_biotype \"protein_coding\";\n",
      "KN805525.1\tensembl\tthree_prime_utr\t280486\t280786\t.\t+\t.\tgene_id \"ENSFHEG00000013942\"; gene_version \"1\"; transcript_id \"ENSFHET00000031989\"; transcript_version \"1\"; gene_name \"rgs14a\"; gene_source \"ensembl\"; gene_biotype \"protein_coding\"; transcript_name \"rgs14a-202\"; transcript_source \"ensembl\"; transcript_biotype \"protein_coding\";\n",
      "KN805525.1\tensembl\tthree_prime_utr\t413715\t415741\t.\t+\t.\tgene_id \"ENSFHEG00000013774\"; gene_version \"1\"; transcript_id \"ENSFHET00000019571\"; transcript_version \"1\"; gene_name \"si:ch211-199b20.3\"; gene_source \"ensembl\"; gene_biotype \"protein_coding\"; transcript_name \"si:ch211-199b20.3-201\"; transcript_source \"ensembl\"; transcript_biotype \"protein_coding\";\n",
      "   18506 Fundulus_heteroclitus-3.0.2.105-three_prime_utr.gff\n"
     ]
    }
   ],
   "source": [
    "!head Fundulus_heteroclitus-3.0.2.105-three_prime_utr.gff\n",
    "!wc -l Fundulus_heteroclitus-3.0.2.105-three_prime_utr.gff"
   ]
  },
  {
   "cell_type": "markdown",
   "metadata": {},
   "source": [
    "### 2f. Non-coding sequences"
   ]
  },
  {
   "cell_type": "code",
   "execution_count": 7,
   "metadata": {},
   "outputs": [],
   "source": [
    "#Find the complement to the exon track (non-coding sequences)\n",
    "#Create a BEDfile of IGV\n",
    "!{bedtoolsDirectory}/complementBed \\\n",
    "-i Fundulus_heteroclitus-3.0.2.105-exon.gff \\\n",
    "-g mummichog.chrom.length \\\n",
    "> Fundulus_heteroclitus-3.0.2.105-nonCDS.bed"
   ]
  },
  {
   "cell_type": "code",
   "execution_count": 8,
   "metadata": {
    "scrolled": true
   },
   "outputs": [
    {
     "name": "stdout",
     "output_type": "stream",
     "text": [
      "KN805525.1\t0\t2499\n",
      "KN805525.1\t2651\t5165\n",
      "KN805525.1\t5274\t8334\n",
      "KN805525.1\t8483\t10200\n",
      "KN805525.1\t10348\t38958\n",
      "KN805525.1\t38960\t39612\n",
      "KN805525.1\t39736\t39793\n",
      "KN805525.1\t39899\t39983\n",
      "KN805525.1\t40241\t40741\n",
      "KN805525.1\t40887\t41873\n",
      "  223862 Fundulus_heteroclitus-3.0.2.105-nonCDS.bed\n"
     ]
    }
   ],
   "source": [
    "!head Fundulus_heteroclitus-3.0.2.105-nonCDS.bed\n",
    "!wc -l Fundulus_heteroclitus-3.0.2.105-nonCDS.bed"
   ]
  },
  {
   "cell_type": "markdown",
   "metadata": {},
   "source": [
    "### 2g. Intron"
   ]
  },
  {
   "cell_type": "code",
   "execution_count": 9,
   "metadata": {},
   "outputs": [],
   "source": [
    "#Find the intersection between the non-coding sequences and genes (introns)\n",
    "!{bedtoolsDirectory}/intersectBed \\\n",
    "-a Fundulus_heteroclitus-3.0.2.105-nonCDS.bed \\\n",
    "-b Fundulus_heteroclitus-3.0.2.105-gene.gff -sorted \\\n",
    "> Fundulus_heteroclitus-3.0.2.105-intron.bed"
   ]
  },
  {
   "cell_type": "code",
   "execution_count": 10,
   "metadata": {
    "scrolled": true
   },
   "outputs": [
    {
     "name": "stdout",
     "output_type": "stream",
     "text": [
      "KN805525.1\t2651\t5165\n",
      "KN805525.1\t5274\t8334\n",
      "KN805525.1\t8483\t10200\n",
      "KN805525.1\t38960\t39612\n",
      "KN805525.1\t39736\t39793\n",
      "KN805525.1\t39899\t39983\n",
      "KN805525.1\t40241\t40741\n",
      "KN805525.1\t40887\t41873\n",
      "KN805525.1\t41997\t43746\n",
      "KN805525.1\t43927\t45300\n",
      "  198417 Fundulus_heteroclitus-3.0.2.105-intron.bed\n"
     ]
    }
   ],
   "source": [
    "!head Fundulus_heteroclitus-3.0.2.105-intron.bed\n",
    "!wc -l Fundulus_heteroclitus-3.0.2.105-intron.bed"
   ]
  },
  {
   "cell_type": "markdown",
   "metadata": {},
   "source": [
    "### 2h. Start codon"
   ]
  },
  {
   "cell_type": "code",
   "execution_count": 7,
   "metadata": {},
   "outputs": [],
   "source": [
    "!grep -e \"RefSeq\tstart_codon\" -e \"ensembl\tstart_codon\" \\\n",
    "Fundulus_heteroclitus.Fundulus_heteroclitus-3.0.2.105.gtf \\\n",
    "| {bedtoolsDirectory}/sortBed \\\n",
    "-faidx mummichog.chrom.length \\\n",
    "> Fundulus_heteroclitus-3.0.2.105-start_codon.gff"
   ]
  },
  {
   "cell_type": "code",
   "execution_count": 8,
   "metadata": {
    "scrolled": true
   },
   "outputs": [
    {
     "name": "stdout",
     "output_type": "stream",
     "text": [
      "KN805525.1\tensembl\tstart_codon\t10346\t10348\t.\t-\t0\tgene_id \"ENSFHEG00000014345\"; gene_version \"1\"; transcript_id \"ENSFHET00000020248\"; transcript_version \"1\"; exon_number \"1\"; gene_name \"cdx1a\"; gene_source \"ensembl\"; gene_biotype \"protein_coding\"; transcript_name \"cdx1a-201\"; transcript_source \"ensembl\"; transcript_biotype \"protein_coding\";\n",
      "KN805525.1\tensembl\tstart_codon\t62580\t62582\t.\t+\t0\tgene_id \"ENSFHEG00000014282\"; gene_version \"1\"; transcript_id \"ENSFHET00000020149\"; transcript_version \"1\"; exon_number \"2\"; gene_name \"csf1ra\"; gene_source \"ensembl\"; gene_biotype \"protein_coding\"; transcript_name \"csf1ra-201\"; transcript_source \"ensembl\"; transcript_biotype \"protein_coding\";\n",
      "KN805525.1\tensembl\tstart_codon\t92374\t92376\t.\t-\t0\tgene_id \"ENSFHEG00000014227\"; gene_version \"1\"; transcript_id \"ENSFHET00000019973\"; transcript_version \"1\"; exon_number \"1\"; gene_name \"hmgxb3\"; gene_source \"ensembl\"; gene_biotype \"protein_coding\"; transcript_name \"hmgxb3-202\"; transcript_source \"ensembl\"; transcript_biotype \"protein_coding\";\n",
      "KN805525.1\tensembl\tstart_codon\t96385\t96387\t.\t-\t0\tgene_id \"ENSFHEG00000014227\"; gene_version \"1\"; transcript_id \"ENSFHET00000020027\"; transcript_version \"1\"; exon_number \"1\"; gene_name \"hmgxb3\"; gene_source \"ensembl\"; gene_biotype \"protein_coding\"; transcript_name \"hmgxb3-201\"; transcript_source \"ensembl\"; transcript_biotype \"protein_coding\";\n",
      "KN805525.1\tensembl\tstart_codon\t97507\t97509\t.\t+\t0\tgene_id \"ENSFHEG00000014113\"; gene_version \"1\"; transcript_id \"ENSFHET00000019976\"; transcript_version \"1\"; exon_number \"2\"; gene_name \"si:ch73-42p12.2\"; gene_source \"ensembl\"; gene_biotype \"protein_coding\"; transcript_name \"si:ch73-42p12.2-201\"; transcript_source \"ensembl\"; transcript_biotype \"protein_coding\";\n",
      "KN805525.1\tensembl\tstart_codon\t97507\t97509\t.\t+\t0\tgene_id \"ENSFHEG00000014113\"; gene_version \"1\"; transcript_id \"ENSFHET00000032071\"; transcript_version \"1\"; exon_number \"1\"; gene_name \"si:ch73-42p12.2\"; gene_source \"ensembl\"; gene_biotype \"protein_coding\"; transcript_name \"si:ch73-42p12.2-202\"; transcript_source \"ensembl\"; transcript_biotype \"protein_coding\";\n",
      "KN805525.1\tensembl\tstart_codon\t136844\t136846\t.\t-\t0\tgene_id \"ENSFHEG00000014072\"; gene_version \"1\"; transcript_id \"ENSFHET00000019911\"; transcript_version \"1\"; exon_number \"1\"; gene_source \"ensembl\"; gene_biotype \"protein_coding\"; transcript_source \"ensembl\"; transcript_biotype \"protein_coding\";\n",
      "KN805525.1\tensembl\tstart_codon\t165973\t165975\t.\t-\t0\tgene_id \"ENSFHEG00000014058\"; gene_version \"1\"; transcript_id \"ENSFHET00000019891\"; transcript_version \"1\"; exon_number \"3\"; gene_name \"ndst1a\"; gene_source \"ensembl\"; gene_biotype \"protein_coding\"; transcript_name \"ndst1a-201\"; transcript_source \"ensembl\"; transcript_biotype \"protein_coding\";\n",
      "KN805525.1\tensembl\tstart_codon\t165973\t165975\t.\t-\t0\tgene_id \"ENSFHEG00000014058\"; gene_version \"1\"; transcript_id \"ENSFHET00000019886\"; transcript_version \"1\"; exon_number \"2\"; gene_name \"ndst1a\"; gene_source \"ensembl\"; gene_biotype \"protein_coding\"; transcript_name \"ndst1a-202\"; transcript_source \"ensembl\"; transcript_biotype \"protein_coding\";\n",
      "KN805525.1\tensembl\tstart_codon\t215270\t215272\t.\t+\t0\tgene_id \"ENSFHEG00000014032\"; gene_version \"1\"; transcript_id \"ENSFHET00000019815\"; transcript_version \"1\"; exon_number \"1\"; gene_name \"rbm22\"; gene_source \"ensembl\"; gene_biotype \"protein_coding\"; transcript_name \"rbm22-201\"; transcript_source \"ensembl\"; transcript_biotype \"protein_coding\";\n",
      "   30408 Fundulus_heteroclitus-3.0.2.105-start_codon.gff\n"
     ]
    }
   ],
   "source": [
    "!head Fundulus_heteroclitus-3.0.2.105-start_codon.gff\n",
    "!wc -l Fundulus_heteroclitus-3.0.2.105-start_codon.gff"
   ]
  },
  {
   "cell_type": "markdown",
   "metadata": {},
   "source": [
    "### 2i. Stop codon"
   ]
  },
  {
   "cell_type": "code",
   "execution_count": 9,
   "metadata": {},
   "outputs": [],
   "source": [
    "!grep -e \"RefSeq\tstop_codon\" -e \"ensembl\tstop_codon\" \\\n",
    "Fundulus_heteroclitus.Fundulus_heteroclitus-3.0.2.105.gtf \\\n",
    "| {bedtoolsDirectory}/sortBed \\\n",
    "-faidx mummichog.chrom.length \\\n",
    "> Fundulus_heteroclitus-3.0.2.105-stop_codon.gff"
   ]
  },
  {
   "cell_type": "code",
   "execution_count": 10,
   "metadata": {
    "scrolled": true
   },
   "outputs": [
    {
     "name": "stdout",
     "output_type": "stream",
     "text": [
      "KN805525.1\tensembl\tstop_codon\t2500\t2502\t.\t-\t0\tgene_id \"ENSFHEG00000014345\"; gene_version \"1\"; transcript_id \"ENSFHET00000020248\"; transcript_version \"1\"; exon_number \"4\"; gene_name \"cdx1a\"; gene_source \"ensembl\"; gene_biotype \"protein_coding\"; transcript_name \"cdx1a-201\"; transcript_source \"ensembl\"; transcript_biotype \"protein_coding\";\n",
      "KN805525.1\tensembl\tstop_codon\t57018\t57020\t.\t+\t0\tgene_id \"ENSFHEG00000014326\"; gene_version \"1\"; transcript_id \"ENSFHET00000020197\"; transcript_version \"1\"; exon_number \"23\"; gene_name \"pdgfrb\"; gene_source \"ensembl\"; gene_biotype \"protein_coding\"; transcript_name \"pdgfrb-201\"; transcript_source \"ensembl\"; transcript_biotype \"protein_coding\";\n",
      "KN805525.1\tensembl\tstop_codon\t76708\t76710\t.\t+\t0\tgene_id \"ENSFHEG00000014282\"; gene_version \"1\"; transcript_id \"ENSFHET00000020149\"; transcript_version \"1\"; exon_number \"22\"; gene_name \"csf1ra\"; gene_source \"ensembl\"; gene_biotype \"protein_coding\"; transcript_name \"csf1ra-201\"; transcript_source \"ensembl\"; transcript_biotype \"protein_coding\";\n",
      "KN805525.1\tensembl\tstop_codon\t85895\t85897\t.\t-\t0\tgene_id \"ENSFHEG00000014227\"; gene_version \"1\"; transcript_id \"ENSFHET00000020027\"; transcript_version \"1\"; exon_number \"17\"; gene_name \"hmgxb3\"; gene_source \"ensembl\"; gene_biotype \"protein_coding\"; transcript_name \"hmgxb3-201\"; transcript_source \"ensembl\"; transcript_biotype \"protein_coding\";\n",
      "KN805525.1\tensembl\tstop_codon\t85895\t85897\t.\t-\t0\tgene_id \"ENSFHEG00000014227\"; gene_version \"1\"; transcript_id \"ENSFHET00000019973\"; transcript_version \"1\"; exon_number \"12\"; gene_name \"hmgxb3\"; gene_source \"ensembl\"; gene_biotype \"protein_coding\"; transcript_name \"hmgxb3-202\"; transcript_source \"ensembl\"; transcript_biotype \"protein_coding\";\n",
      "KN805525.1\tensembl\tstop_codon\t105038\t105040\t.\t+\t0\tgene_id \"ENSFHEG00000014113\"; gene_version \"1\"; transcript_id \"ENSFHET00000019976\"; transcript_version \"1\"; exon_number \"4\"; gene_name \"si:ch73-42p12.2\"; gene_source \"ensembl\"; gene_biotype \"protein_coding\"; transcript_name \"si:ch73-42p12.2-201\"; transcript_source \"ensembl\"; transcript_biotype \"protein_coding\";\n",
      "KN805525.1\tensembl\tstop_codon\t105038\t105040\t.\t+\t0\tgene_id \"ENSFHEG00000014113\"; gene_version \"1\"; transcript_id \"ENSFHET00000032071\"; transcript_version \"1\"; exon_number \"3\"; gene_name \"si:ch73-42p12.2\"; gene_source \"ensembl\"; gene_biotype \"protein_coding\"; transcript_name \"si:ch73-42p12.2-202\"; transcript_source \"ensembl\"; transcript_biotype \"protein_coding\";\n",
      "KN805525.1\tensembl\tstop_codon\t105038\t105040\t.\t+\t0\tgene_id \"ENSFHEG00000014113\"; gene_version \"1\"; transcript_id \"ENSFHET00000019954\"; transcript_version \"1\"; exon_number \"3\"; gene_name \"si:ch73-42p12.2\"; gene_source \"ensembl\"; gene_biotype \"protein_coding\"; transcript_name \"si:ch73-42p12.2-203\"; transcript_source \"ensembl\"; transcript_biotype \"protein_coding\";\n",
      "KN805525.1\tensembl\tstop_codon\t106511\t106513\t.\t+\t0\tgene_id \"ENSFHEG00000014098\"; gene_version \"1\"; transcript_id \"ENSFHET00000019940\"; transcript_version \"1\"; exon_number \"2\"; gene_name \"SLC35A4\"; gene_source \"ensembl\"; gene_biotype \"protein_coding\"; transcript_name \"SLC35A4-201\"; transcript_source \"ensembl\"; transcript_biotype \"protein_coding\";\n",
      "KN805525.1\tensembl\tstop_codon\t132435\t132437\t.\t-\t0\tgene_id \"ENSFHEG00000014072\"; gene_version \"1\"; transcript_id \"ENSFHET00000019911\"; transcript_version \"1\"; exon_number \"9\"; gene_source \"ensembl\"; gene_biotype \"protein_coding\"; transcript_source \"ensembl\"; transcript_biotype \"protein_coding\";\n",
      "   34476 Fundulus_heteroclitus-3.0.2.105-stop_codon.gff\n"
     ]
    }
   ],
   "source": [
    "!head Fundulus_heteroclitus-3.0.2.105-stop_codon.gff\n",
    "!wc -l Fundulus_heteroclitus-3.0.2.105-stop_codon.gff"
   ]
  },
  {
   "cell_type": "markdown",
   "metadata": {},
   "source": [
    "### 2j. Intergenic regions"
   ]
  },
  {
   "cell_type": "code",
   "execution_count": 11,
   "metadata": {},
   "outputs": [],
   "source": [
    "#Find the complement of genes to obtain intergenic regions\n",
    "!{bedtoolsDirectory}/complementBed \\\n",
    "-i Fundulus_heteroclitus-3.0.2.105-gene.gff -sorted \\\n",
    "-g mummichog.chrom.length \\\n",
    "> Fundulus_heteroclitus-3.0.2.105-intergenic.bed"
   ]
  },
  {
   "cell_type": "code",
   "execution_count": 12,
   "metadata": {
    "scrolled": true
   },
   "outputs": [
    {
     "name": "stdout",
     "output_type": "stream",
     "text": [
      "KN805525.1\t0\t2499\n",
      "KN805525.1\t10348\t38958\n",
      "KN805525.1\t57020\t62193\n",
      "KN805525.1\t78208\t85894\n",
      "KN805525.1\t96387\t96806\n",
      "KN805525.1\t106513\t107709\n",
      "KN805525.1\t111142\t130423\n",
      "KN805525.1\t137024\t142523\n",
      "KN805525.1\t211966\t214864\n",
      "KN805525.1\t229810\t250423\n",
      "   30648 Fundulus_heteroclitus-3.0.2.105-intergenic.bed\n"
     ]
    }
   ],
   "source": [
    "!head Fundulus_heteroclitus-3.0.2.105-intergenic.bed\n",
    "!wc -l Fundulus_heteroclitus-3.0.2.105-intergenic.bed"
   ]
  },
  {
   "cell_type": "markdown",
   "metadata": {},
   "source": [
    "### 2k. Transcripts"
   ]
  },
  {
   "cell_type": "code",
   "execution_count": 10,
   "metadata": {},
   "outputs": [],
   "source": [
    "!grep -e \"RefSeq\ttranscript\" -e \"ensembl\ttranscript\" \\\n",
    "Fundulus_heteroclitus.Fundulus_heteroclitus-3.0.2.105.gtf \\\n",
    "| {bedtoolsDirectory}/sortBed \\\n",
    "-faidx mummichog.chrom.length \\\n",
    "> Fundulus_heteroclitus-3.0.2.105-transcript.gff"
   ]
  },
  {
   "cell_type": "code",
   "execution_count": 11,
   "metadata": {
    "scrolled": true
   },
   "outputs": [
    {
     "name": "stdout",
     "output_type": "stream",
     "text": [
      "KN805525.1\tensembl\ttranscript\t2500\t10348\t.\t-\t.\tgene_id \"ENSFHEG00000014345\"; gene_version \"1\"; transcript_id \"ENSFHET00000020248\"; transcript_version \"1\"; gene_name \"cdx1a\"; gene_source \"ensembl\"; gene_biotype \"protein_coding\"; transcript_name \"cdx1a-201\"; transcript_source \"ensembl\"; transcript_biotype \"protein_coding\";\n",
      "KN805525.1\tensembl\ttranscript\t38959\t57020\t.\t+\t.\tgene_id \"ENSFHEG00000014326\"; gene_version \"1\"; transcript_id \"ENSFHET00000020197\"; transcript_version \"1\"; gene_name \"pdgfrb\"; gene_source \"ensembl\"; gene_biotype \"protein_coding\"; transcript_name \"pdgfrb-201\"; transcript_source \"ensembl\"; transcript_biotype \"protein_coding\";\n",
      "KN805525.1\tensembl\ttranscript\t62194\t78208\t.\t+\t.\tgene_id \"ENSFHEG00000014282\"; gene_version \"1\"; transcript_id \"ENSFHET00000020149\"; transcript_version \"1\"; gene_name \"csf1ra\"; gene_source \"ensembl\"; gene_biotype \"protein_coding\"; transcript_name \"csf1ra-201\"; transcript_source \"ensembl\"; transcript_biotype \"protein_coding\";\n",
      "KN805525.1\tensembl\ttranscript\t85895\t96387\t.\t-\t.\tgene_id \"ENSFHEG00000014227\"; gene_version \"1\"; transcript_id \"ENSFHET00000020027\"; transcript_version \"1\"; gene_name \"hmgxb3\"; gene_source \"ensembl\"; gene_biotype \"protein_coding\"; transcript_name \"hmgxb3-201\"; transcript_source \"ensembl\"; transcript_biotype \"protein_coding\";\n",
      "KN805525.1\tensembl\ttranscript\t85895\t92376\t.\t-\t.\tgene_id \"ENSFHEG00000014227\"; gene_version \"1\"; transcript_id \"ENSFHET00000019973\"; transcript_version \"1\"; gene_name \"hmgxb3\"; gene_source \"ensembl\"; gene_biotype \"protein_coding\"; transcript_name \"hmgxb3-202\"; transcript_source \"ensembl\"; transcript_biotype \"protein_coding\";\n",
      "KN805525.1\tensembl\ttranscript\t96807\t105040\t.\t+\t.\tgene_id \"ENSFHEG00000014113\"; gene_version \"1\"; transcript_id \"ENSFHET00000019976\"; transcript_version \"1\"; gene_name \"si:ch73-42p12.2\"; gene_source \"ensembl\"; gene_biotype \"protein_coding\"; transcript_name \"si:ch73-42p12.2-201\"; transcript_source \"ensembl\"; transcript_biotype \"protein_coding\";\n",
      "KN805525.1\tensembl\ttranscript\t97412\t105515\t.\t+\t.\tgene_id \"ENSFHEG00000014113\"; gene_version \"1\"; transcript_id \"ENSFHET00000032071\"; transcript_version \"1\"; gene_name \"si:ch73-42p12.2\"; gene_source \"ensembl\"; gene_biotype \"protein_coding\"; transcript_name \"si:ch73-42p12.2-202\"; transcript_source \"ensembl\"; transcript_biotype \"protein_coding\";\n",
      "KN805525.1\tensembl\ttranscript\t97787\t105515\t.\t+\t.\tgene_id \"ENSFHEG00000014113\"; gene_version \"1\"; transcript_id \"ENSFHET00000019954\"; transcript_version \"1\"; gene_name \"si:ch73-42p12.2\"; gene_source \"ensembl\"; gene_biotype \"protein_coding\"; transcript_name \"si:ch73-42p12.2-203\"; transcript_source \"ensembl\"; transcript_biotype \"protein_coding\";\n",
      "KN805525.1\tensembl\ttranscript\t103755\t106513\t.\t+\t.\tgene_id \"ENSFHEG00000014098\"; gene_version \"1\"; transcript_id \"ENSFHET00000019940\"; transcript_version \"1\"; gene_name \"SLC35A4\"; gene_source \"ensembl\"; gene_biotype \"protein_coding\"; transcript_name \"SLC35A4-201\"; transcript_source \"ensembl\"; transcript_biotype \"protein_coding\";\n",
      "KN805525.1\tensembl\ttranscript\t107710\t111142\t.\t-\t.\tgene_id \"ENSFHEG00000014086\"; gene_version \"1\"; transcript_id \"ENSFHET00000019927\"; transcript_version \"1\"; gene_name \"si:dkey-201i24.3\"; gene_source \"ensembl\"; gene_biotype \"protein_coding\"; projection_parent_gene \"ENSDARG00000103572.2\"; transcript_name \"si:dkey-201i24.3-201\"; transcript_source \"ensembl\"; transcript_biotype \"protein_coding\"; projection_parent_transcript \"ENSDART00000165745.2\";\n",
      "   35597 Fundulus_heteroclitus-3.0.2.105-transcript.gff\n"
     ]
    }
   ],
   "source": [
    "!head Fundulus_heteroclitus-3.0.2.105-transcript.gff\n",
    "!wc -l Fundulus_heteroclitus-3.0.2.105-transcript.gff"
   ]
  },
  {
   "cell_type": "code",
   "execution_count": null,
   "metadata": {},
   "outputs": [],
   "source": []
  }
 ],
 "metadata": {
  "anaconda-cloud": {},
  "kernelspec": {
   "display_name": "Python 3",
   "language": "python",
   "name": "python3"
  },
  "language_info": {
   "codemirror_mode": {
    "name": "ipython",
    "version": 3
   },
   "file_extension": ".py",
   "mimetype": "text/x-python",
   "name": "python",
   "nbconvert_exporter": "python",
   "pygments_lexer": "ipython3",
   "version": "3.7.4"
  }
 },
 "nbformat": 4,
 "nbformat_minor": 1
}
