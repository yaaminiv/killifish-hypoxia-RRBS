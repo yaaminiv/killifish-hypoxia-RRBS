{
 "cells": [
  {
   "cell_type": "markdown",
   "metadata": {},
   "source": [
    "# Generating Genome Feature Tracks"
   ]
  },
  {
   "cell_type": "markdown",
   "metadata": {},
   "source": [
    "In this notebook, I'll use the [NCBI assembly](https://www.ncbi.nlm.nih.gov/assembly/247141) to create genome feature tracks for *Fundulus heteroclitus*"
   ]
  },
  {
   "cell_type": "markdown",
   "metadata": {},
   "source": [
    "## 0. Set working directory and variables"
   ]
  },
  {
   "cell_type": "code",
   "execution_count": 14,
   "metadata": {},
   "outputs": [
    {
     "name": "stdout",
     "output_type": "stream",
     "text": [
      "/Users/yaaminivenkataraman/Documents/killifish-hypoxia-RRBS/code\r\n"
     ]
    }
   ],
   "source": [
    "!pwd"
   ]
  },
  {
   "cell_type": "code",
   "execution_count": 15,
   "metadata": {},
   "outputs": [
    {
     "name": "stdout",
     "output_type": "stream",
     "text": [
      "/Users/yaaminivenkataraman/Documents/killifish-hypoxia-RRBS\n"
     ]
    }
   ],
   "source": [
    "cd .."
   ]
  },
  {
   "cell_type": "code",
   "execution_count": 17,
   "metadata": {},
   "outputs": [],
   "source": [
    "!mkdir genome-features"
   ]
  },
  {
   "cell_type": "code",
   "execution_count": 18,
   "metadata": {
    "scrolled": false
   },
   "outputs": [
    {
     "name": "stdout",
     "output_type": "stream",
     "text": [
      "/Users/yaaminivenkataraman/Documents/killifish-hypoxia-RRBS/genome-features\n"
     ]
    }
   ],
   "source": [
    "cd genome-features"
   ]
  },
  {
   "cell_type": "code",
   "execution_count": 6,
   "metadata": {},
   "outputs": [
    {
     "name": "stdout",
     "output_type": "stream",
     "text": [
      "/opt/homebrew/bin/bedtools\r\n"
     ]
    }
   ],
   "source": [
    "!which bedtools"
   ]
  },
  {
   "cell_type": "code",
   "execution_count": 7,
   "metadata": {},
   "outputs": [],
   "source": [
    "bedtoolsDirectory = \"/opt/homebrew/bin\""
   ]
  },
  {
   "cell_type": "markdown",
   "metadata": {},
   "source": [
    "## 1. Download NCBI assembly"
   ]
  },
  {
   "cell_type": "markdown",
   "metadata": {},
   "source": [
    "I downloaded the GFF from [this link](https://ftp.ncbi.nlm.nih.gov/genomes/all/GCF/011/125/445/GCF_011125445.2_MU-UCD_Fhet_4.1/)."
   ]
  },
  {
   "cell_type": "code",
   "execution_count": 19,
   "metadata": {
    "scrolled": true
   },
   "outputs": [
    {
     "name": "stdout",
     "output_type": "stream",
     "text": [
      "  % Total    % Received % Xferd  Average Speed   Time    Time     Time  Current\n",
      "                                 Dload  Upload   Total   Spent    Left  Speed\n",
      "100 16.5M  100 16.5M    0     0  14.0M      0  0:00:01  0:00:01 --:--:-- 14.0M\n"
     ]
    }
   ],
   "source": [
    "!curl https://ftp.ncbi.nlm.nih.gov/genomes/all/GCF/011/125/445/GCF_011125445.2_MU-UCD_Fhet_4.1/GCF_011125445.2_MU-UCD_Fhet_4.1_genomic.gff.gz > GCF_011125445.2_MU-UCD_Fhet_4.1_genomic.gff.gz"
   ]
  },
  {
   "cell_type": "code",
   "execution_count": 31,
   "metadata": {},
   "outputs": [],
   "source": [
    "!gunzip Fundulus_heteroclitus.Fundulus_heteroclitus-3.0.2.105.gtf.gz"
   ]
  },
  {
   "cell_type": "code",
   "execution_count": 33,
   "metadata": {
    "scrolled": true
   },
   "outputs": [
    {
     "name": "stdout",
     "output_type": "stream",
     "text": [
      "#!genome-build Fundulus_heteroclitus-3.0.2\r\n",
      "#!genome-version Fundulus_heteroclitus-3.0.2\r\n",
      "#!genome-date 2015-01\r\n",
      "#!genome-build-accession GCA_000826765.1\r\n",
      "#!genebuild-last-updated 2018-07\r\n",
      "KN805525.1\tensembl\tgene\t2500\t10348\t.\t-\t.\tgene_id \"ENSFHEG00000014345\"; gene_version \"1\"; gene_name \"cdx1a\"; gene_source \"ensembl\"; gene_biotype \"protein_coding\";\r\n",
      "KN805525.1\tensembl\ttranscript\t2500\t10348\t.\t-\t.\tgene_id \"ENSFHEG00000014345\"; gene_version \"1\"; transcript_id \"ENSFHET00000020248\"; transcript_version \"1\"; gene_name \"cdx1a\"; gene_source \"ensembl\"; gene_biotype \"protein_coding\"; transcript_name \"cdx1a-201\"; transcript_source \"ensembl\"; transcript_biotype \"protein_coding\";\r\n",
      "KN805525.1\tensembl\texon\t10201\t10348\t.\t-\t.\tgene_id \"ENSFHEG00000014345\"; gene_version \"1\"; transcript_id \"ENSFHET00000020248\"; transcript_version \"1\"; exon_number \"1\"; gene_name \"cdx1a\"; gene_source \"ensembl\"; gene_biotype \"protein_coding\"; transcript_name \"cdx1a-201\"; transcript_source \"ensembl\"; transcript_biotype \"protein_coding\"; exon_id \"ENSFHEE00000072050\"; exon_version \"1\";\r\n",
      "KN805525.1\tensembl\tCDS\t10201\t10348\t.\t-\t0\tgene_id \"ENSFHEG00000014345\"; gene_version \"1\"; transcript_id \"ENSFHET00000020248\"; transcript_version \"1\"; exon_number \"1\"; gene_name \"cdx1a\"; gene_source \"ensembl\"; gene_biotype \"protein_coding\"; transcript_name \"cdx1a-201\"; transcript_source \"ensembl\"; transcript_biotype \"protein_coding\"; protein_id \"ENSFHEP00000012884\"; protein_version \"1\";\r\n",
      "KN805525.1\tensembl\tstart_codon\t10346\t10348\t.\t-\t0\tgene_id \"ENSFHEG00000014345\"; gene_version \"1\"; transcript_id \"ENSFHET00000020248\"; transcript_version \"1\"; exon_number \"1\"; gene_name \"cdx1a\"; gene_source \"ensembl\"; gene_biotype \"protein_coding\"; transcript_name \"cdx1a-201\"; transcript_source \"ensembl\"; transcript_biotype \"protein_coding\";\r\n",
      "KN805525.1\tensembl\texon\t8335\t8483\t.\t-\t.\tgene_id \"ENSFHEG00000014345\"; gene_version \"1\"; transcript_id \"ENSFHET00000020248\"; transcript_version \"1\"; exon_number \"2\"; gene_name \"cdx1a\"; gene_source \"ensembl\"; gene_biotype \"protein_coding\"; transcript_name \"cdx1a-201\"; transcript_source \"ensembl\"; transcript_biotype \"protein_coding\"; exon_id \"ENSFHEE00000192263\"; exon_version \"1\";\r\n",
      "KN805525.1\tensembl\tCDS\t8335\t8483\t.\t-\t2\tgene_id \"ENSFHEG00000014345\"; gene_version \"1\"; transcript_id \"ENSFHET00000020248\"; transcript_version \"1\"; exon_number \"2\"; gene_name \"cdx1a\"; gene_source \"ensembl\"; gene_biotype \"protein_coding\"; transcript_name \"cdx1a-201\"; transcript_source \"ensembl\"; transcript_biotype \"protein_coding\"; protein_id \"ENSFHEP00000012884\"; protein_version \"1\";\r\n",
      "KN805525.1\tensembl\texon\t5166\t5274\t.\t-\t.\tgene_id \"ENSFHEG00000014345\"; gene_version \"1\"; transcript_id \"ENSFHET00000020248\"; transcript_version \"1\"; exon_number \"3\"; gene_name \"cdx1a\"; gene_source \"ensembl\"; gene_biotype \"protein_coding\"; transcript_name \"cdx1a-201\"; transcript_source \"ensembl\"; transcript_biotype \"protein_coding\"; exon_id \"ENSFHEE00000072033\"; exon_version \"1\";\r\n",
      "KN805525.1\tensembl\tCDS\t5166\t5274\t.\t-\t0\tgene_id \"ENSFHEG00000014345\"; gene_version \"1\"; transcript_id \"ENSFHET00000020248\"; transcript_version \"1\"; exon_number \"3\"; gene_name \"cdx1a\"; gene_source \"ensembl\"; gene_biotype \"protein_coding\"; transcript_name \"cdx1a-201\"; transcript_source \"ensembl\"; transcript_biotype \"protein_coding\"; protein_id \"ENSFHEP00000012884\"; protein_version \"1\";\r\n",
      "KN805525.1\tensembl\texon\t2500\t2651\t.\t-\t.\tgene_id \"ENSFHEG00000014345\"; gene_version \"1\"; transcript_id \"ENSFHET00000020248\"; transcript_version \"1\"; exon_number \"4\"; gene_name \"cdx1a\"; gene_source \"ensembl\"; gene_biotype \"protein_coding\"; transcript_name \"cdx1a-201\"; transcript_source \"ensembl\"; transcript_biotype \"protein_coding\"; exon_id \"ENSFHEE00000192221\"; exon_version \"1\";\r\n",
      "KN805525.1\tensembl\tCDS\t2503\t2651\t.\t-\t2\tgene_id \"ENSFHEG00000014345\"; gene_version \"1\"; transcript_id \"ENSFHET00000020248\"; transcript_version \"1\"; exon_number \"4\"; gene_name \"cdx1a\"; gene_source \"ensembl\"; gene_biotype \"protein_coding\"; transcript_name \"cdx1a-201\"; transcript_source \"ensembl\"; transcript_biotype \"protein_coding\"; protein_id \"ENSFHEP00000012884\"; protein_version \"1\";\r\n",
      "KN805525.1\tensembl\tstop_codon\t2500\t2502\t.\t-\t0\tgene_id \"ENSFHEG00000014345\"; gene_version \"1\"; transcript_id \"ENSFHET00000020248\"; transcript_version \"1\"; exon_number \"4\"; gene_name \"cdx1a\"; gene_source \"ensembl\"; gene_biotype \"protein_coding\"; transcript_name \"cdx1a-201\"; transcript_source \"ensembl\"; transcript_biotype \"protein_coding\";\r\n",
      "KN805525.1\tensembl\tgene\t38959\t57020\t.\t+\t.\tgene_id \"ENSFHEG00000014326\"; gene_version \"1\"; gene_name \"pdgfrb\"; gene_source \"ensembl\"; gene_biotype \"protein_coding\";\r\n",
      "KN805525.1\tensembl\ttranscript\t38959\t57020\t.\t+\t.\tgene_id \"ENSFHEG00000014326\"; gene_version \"1\"; transcript_id \"ENSFHET00000020197\"; transcript_version \"1\"; gene_name \"pdgfrb\"; gene_source \"ensembl\"; gene_biotype \"protein_coding\"; transcript_name \"pdgfrb-201\"; transcript_source \"ensembl\"; transcript_biotype \"protein_coding\";\r\n",
      "KN805525.1\tensembl\texon\t38959\t38960\t.\t+\t.\tgene_id \"ENSFHEG00000014326\"; gene_version \"1\"; transcript_id \"ENSFHET00000020197\"; transcript_version \"1\"; exon_number \"1\"; gene_name \"pdgfrb\"; gene_source \"ensembl\"; gene_biotype \"protein_coding\"; transcript_name \"pdgfrb-201\"; transcript_source \"ensembl\"; transcript_biotype \"protein_coding\"; exon_id \"ENSFHEE00000192162\"; exon_version \"1\";\r\n",
      "KN805525.1\tensembl\tCDS\t38959\t38960\t.\t+\t0\tgene_id \"ENSFHEG00000014326\"; gene_version \"1\"; transcript_id \"ENSFHET00000020197\"; transcript_version \"1\"; exon_number \"1\"; gene_name \"pdgfrb\"; gene_source \"ensembl\"; gene_biotype \"protein_coding\"; transcript_name \"pdgfrb-201\"; transcript_source \"ensembl\"; transcript_biotype \"protein_coding\"; protein_id \"ENSFHEP00000012823\"; protein_version \"1\";\r\n",
      "KN805525.1\tensembl\texon\t39613\t39736\t.\t+\t.\tgene_id \"ENSFHEG00000014326\"; gene_version \"1\"; transcript_id \"ENSFHET00000020197\"; transcript_version \"1\"; exon_number \"2\"; gene_name \"pdgfrb\"; gene_source \"ensembl\"; gene_biotype \"protein_coding\"; transcript_name \"pdgfrb-201\"; transcript_source \"ensembl\"; transcript_biotype \"protein_coding\"; exon_id \"ENSFHEE00000192199\"; exon_version \"1\";\r\n",
      "KN805525.1\tensembl\tCDS\t39613\t39736\t.\t+\t1\tgene_id \"ENSFHEG00000014326\"; gene_version \"1\"; transcript_id \"ENSFHET00000020197\"; transcript_version \"1\"; exon_number \"2\"; gene_name \"pdgfrb\"; gene_source \"ensembl\"; gene_biotype \"protein_coding\"; transcript_name \"pdgfrb-201\"; transcript_source \"ensembl\"; transcript_biotype \"protein_coding\"; protein_id \"ENSFHEP00000012823\"; protein_version \"1\";\r\n",
      "KN805525.1\tensembl\texon\t39794\t39899\t.\t+\t.\tgene_id \"ENSFHEG00000014326\"; gene_version \"1\"; transcript_id \"ENSFHET00000020197\"; transcript_version \"1\"; exon_number \"3\"; gene_name \"pdgfrb\"; gene_source \"ensembl\"; gene_biotype \"protein_coding\"; transcript_name \"pdgfrb-201\"; transcript_source \"ensembl\"; transcript_biotype \"protein_coding\"; exon_id \"ENSFHEE00000071965\"; exon_version \"1\";\r\n",
      "KN805525.1\tensembl\tCDS\t39794\t39899\t.\t+\t0\tgene_id \"ENSFHEG00000014326\"; gene_version \"1\"; transcript_id \"ENSFHET00000020197\"; transcript_version \"1\"; exon_number \"3\"; gene_name \"pdgfrb\"; gene_source \"ensembl\"; gene_biotype \"protein_coding\"; transcript_name \"pdgfrb-201\"; transcript_source \"ensembl\"; transcript_biotype \"protein_coding\"; protein_id \"ENSFHEP00000012823\"; protein_version \"1\";\r\n",
      "KN805525.1\tensembl\texon\t39984\t40241\t.\t+\t.\tgene_id \"ENSFHEG00000014326\"; gene_version \"1\"; transcript_id \"ENSFHET00000020197\"; transcript_version \"1\"; exon_number \"4\"; gene_name \"pdgfrb\"; gene_source \"ensembl\"; gene_biotype \"protein_coding\"; transcript_name \"pdgfrb-201\"; transcript_source \"ensembl\"; transcript_biotype \"protein_coding\"; exon_id \"ENSFHEE00000192136\"; exon_version \"1\";\r\n",
      "KN805525.1\tensembl\tCDS\t39984\t40241\t.\t+\t2\tgene_id \"ENSFHEG00000014326\"; gene_version \"1\"; transcript_id \"ENSFHET00000020197\"; transcript_version \"1\"; exon_number \"4\"; gene_name \"pdgfrb\"; gene_source \"ensembl\"; gene_biotype \"protein_coding\"; transcript_name \"pdgfrb-201\"; transcript_source \"ensembl\"; transcript_biotype \"protein_coding\"; protein_id \"ENSFHEP00000012823\"; protein_version \"1\";\r\n",
      "KN805525.1\tensembl\texon\t40742\t40887\t.\t+\t.\tgene_id \"ENSFHEG00000014326\"; gene_version \"1\"; transcript_id \"ENSFHET00000020197\"; transcript_version \"1\"; exon_number \"5\"; gene_name \"pdgfrb\"; gene_source \"ensembl\"; gene_biotype \"protein_coding\"; transcript_name \"pdgfrb-201\"; transcript_source \"ensembl\"; transcript_biotype \"protein_coding\"; exon_id \"ENSFHEE00000192119\"; exon_version \"1\";\r\n",
      "KN805525.1\tensembl\tCDS\t40742\t40887\t.\t+\t2\tgene_id \"ENSFHEG00000014326\"; gene_version \"1\"; transcript_id \"ENSFHET00000020197\"; transcript_version \"1\"; exon_number \"5\"; gene_name \"pdgfrb\"; gene_source \"ensembl\"; gene_biotype \"protein_coding\"; transcript_name \"pdgfrb-201\"; transcript_source \"ensembl\"; transcript_biotype \"protein_coding\"; protein_id \"ENSFHEP00000012823\"; protein_version \"1\";\r\n",
      "KN805525.1\tensembl\texon\t41874\t41997\t.\t+\t.\tgene_id \"ENSFHEG00000014326\"; gene_version \"1\"; transcript_id \"ENSFHET00000020197\"; transcript_version \"1\"; exon_number \"6\"; gene_name \"pdgfrb\"; gene_source \"ensembl\"; gene_biotype \"protein_coding\"; transcript_name \"pdgfrb-201\"; transcript_source \"ensembl\"; transcript_biotype \"protein_coding\"; exon_id \"ENSFHEE00000071938\"; exon_version \"1\";\r\n",
      "KN805525.1\tensembl\tCDS\t41874\t41997\t.\t+\t0\tgene_id \"ENSFHEG00000014326\"; gene_version \"1\"; transcript_id \"ENSFHET00000020197\"; transcript_version \"1\"; exon_number \"6\"; gene_name \"pdgfrb\"; gene_source \"ensembl\"; gene_biotype \"protein_coding\"; transcript_name \"pdgfrb-201\"; transcript_source \"ensembl\"; transcript_biotype \"protein_coding\"; protein_id \"ENSFHEP00000012823\"; protein_version \"1\";\r\n",
      "KN805525.1\tensembl\texon\t43747\t43927\t.\t+\t.\tgene_id \"ENSFHEG00000014326\"; gene_version \"1\"; transcript_id \"ENSFHET00000020197\"; transcript_version \"1\"; exon_number \"7\"; gene_name \"pdgfrb\"; gene_source \"ensembl\"; gene_biotype \"protein_coding\"; transcript_name \"pdgfrb-201\"; transcript_source \"ensembl\"; transcript_biotype \"protein_coding\"; exon_id \"ENSFHEE00000071932\"; exon_version \"1\";\r\n",
      "KN805525.1\tensembl\tCDS\t43747\t43927\t.\t+\t2\tgene_id \"ENSFHEG00000014326\"; gene_version \"1\"; transcript_id \"ENSFHET00000020197\"; transcript_version \"1\"; exon_number \"7\"; gene_name \"pdgfrb\"; gene_source \"ensembl\"; gene_biotype \"protein_coding\"; transcript_name \"pdgfrb-201\"; transcript_source \"ensembl\"; transcript_biotype \"protein_coding\"; protein_id \"ENSFHEP00000012823\"; protein_version \"1\";\r\n",
      "KN805525.1\tensembl\texon\t45301\t45416\t.\t+\t.\tgene_id \"ENSFHEG00000014326\"; gene_version \"1\"; transcript_id \"ENSFHET00000020197\"; transcript_version \"1\"; exon_number \"8\"; gene_name \"pdgfrb\"; gene_source \"ensembl\"; gene_biotype \"protein_coding\"; transcript_name \"pdgfrb-201\"; transcript_source \"ensembl\"; transcript_biotype \"protein_coding\"; exon_id \"ENSFHEE00000192107\"; exon_version \"1\";\r\n",
      "KN805525.1\tensembl\tCDS\t45301\t45416\t.\t+\t1\tgene_id \"ENSFHEG00000014326\"; gene_version \"1\"; transcript_id \"ENSFHET00000020197\"; transcript_version \"1\"; exon_number \"8\"; gene_name \"pdgfrb\"; gene_source \"ensembl\"; gene_biotype \"protein_coding\"; transcript_name \"pdgfrb-201\"; transcript_source \"ensembl\"; transcript_biotype \"protein_coding\"; protein_id \"ENSFHEP00000012823\"; protein_version \"1\";\r\n",
      "KN805525.1\tensembl\texon\t45574\t45697\t.\t+\t.\tgene_id \"ENSFHEG00000014326\"; gene_version \"1\"; transcript_id \"ENSFHET00000020197\"; transcript_version \"1\"; exon_number \"9\"; gene_name \"pdgfrb\"; gene_source \"ensembl\"; gene_biotype \"protein_coding\"; transcript_name \"pdgfrb-201\"; transcript_source \"ensembl\"; transcript_biotype \"protein_coding\"; exon_id \"ENSFHEE00000192101\"; exon_version \"1\";\r\n",
      "KN805525.1\tensembl\tCDS\t45574\t45697\t.\t+\t2\tgene_id \"ENSFHEG00000014326\"; gene_version \"1\"; transcript_id \"ENSFHET00000020197\"; transcript_version \"1\"; exon_number \"9\"; gene_name \"pdgfrb\"; gene_source \"ensembl\"; gene_biotype \"protein_coding\"; transcript_name \"pdgfrb-201\"; transcript_source \"ensembl\"; transcript_biotype \"protein_coding\"; protein_id \"ENSFHEP00000012823\"; protein_version \"1\";\r\n",
      "KN805525.1\tensembl\texon\t45853\t46064\t.\t+\t.\tgene_id \"ENSFHEG00000014326\"; gene_version \"1\"; transcript_id \"ENSFHET00000020197\"; transcript_version \"1\"; exon_number \"10\"; gene_name \"pdgfrb\"; gene_source \"ensembl\"; gene_biotype \"protein_coding\"; transcript_name \"pdgfrb-201\"; transcript_source \"ensembl\"; transcript_biotype \"protein_coding\"; exon_id \"ENSFHEE00000192090\"; exon_version \"1\";\r\n",
      "KN805525.1\tensembl\tCDS\t45853\t46064\t.\t+\t1\tgene_id \"ENSFHEG00000014326\"; gene_version \"1\"; transcript_id \"ENSFHET00000020197\"; transcript_version \"1\"; exon_number \"10\"; gene_name \"pdgfrb\"; gene_source \"ensembl\"; gene_biotype \"protein_coding\"; transcript_name \"pdgfrb-201\"; transcript_source \"ensembl\"; transcript_biotype \"protein_coding\"; protein_id \"ENSFHEP00000012823\"; protein_version \"1\";\r\n",
      "KN805525.1\tensembl\texon\t46442\t46536\t.\t+\t.\tgene_id \"ENSFHEG00000014326\"; gene_version \"1\"; transcript_id \"ENSFHET00000020197\"; transcript_version \"1\"; exon_number \"11\"; gene_name \"pdgfrb\"; gene_source \"ensembl\"; gene_biotype \"protein_coding\"; transcript_name \"pdgfrb-201\"; transcript_source \"ensembl\"; transcript_biotype \"protein_coding\"; exon_id \"ENSFHEE00000192081\"; exon_version \"1\";\r\n",
      "KN805525.1\tensembl\tCDS\t46442\t46536\t.\t+\t2\tgene_id \"ENSFHEG00000014326\"; gene_version \"1\"; transcript_id \"ENSFHET00000020197\"; transcript_version \"1\"; exon_number \"11\"; gene_name \"pdgfrb\"; gene_source \"ensembl\"; gene_biotype \"protein_coding\"; transcript_name \"pdgfrb-201\"; transcript_source \"ensembl\"; transcript_biotype \"protein_coding\"; protein_id \"ENSFHEP00000012823\"; protein_version \"1\";\r\n",
      "KN805525.1\tensembl\texon\t46650\t46782\t.\t+\t.\tgene_id \"ENSFHEG00000014326\"; gene_version \"1\"; transcript_id \"ENSFHET00000020197\"; transcript_version \"1\"; exon_number \"12\"; gene_name \"pdgfrb\"; gene_source \"ensembl\"; gene_biotype \"protein_coding\"; transcript_name \"pdgfrb-201\"; transcript_source \"ensembl\"; transcript_biotype \"protein_coding\"; exon_id \"ENSFHEE00000192065\"; exon_version \"1\";\r\n",
      "KN805525.1\tensembl\tCDS\t46650\t46782\t.\t+\t0\tgene_id \"ENSFHEG00000014326\"; gene_version \"1\"; transcript_id \"ENSFHET00000020197\"; transcript_version \"1\"; exon_number \"12\"; gene_name \"pdgfrb\"; gene_source \"ensembl\"; gene_biotype \"protein_coding\"; transcript_name \"pdgfrb-201\"; transcript_source \"ensembl\"; transcript_biotype \"protein_coding\"; protein_id \"ENSFHEP00000012823\"; protein_version \"1\";\r\n",
      "KN805525.1\tensembl\texon\t48954\t49058\t.\t+\t.\tgene_id \"ENSFHEG00000014326\"; gene_version \"1\"; transcript_id \"ENSFHET00000020197\"; transcript_version \"1\"; exon_number \"13\"; gene_name \"pdgfrb\"; gene_source \"ensembl\"; gene_biotype \"protein_coding\"; transcript_name \"pdgfrb-201\"; transcript_source \"ensembl\"; transcript_biotype \"protein_coding\"; exon_id \"ENSFHEE00000071856\"; exon_version \"1\";\r\n",
      "KN805525.1\tensembl\tCDS\t48954\t49058\t.\t+\t2\tgene_id \"ENSFHEG00000014326\"; gene_version \"1\"; transcript_id \"ENSFHET00000020197\"; transcript_version \"1\"; exon_number \"13\"; gene_name \"pdgfrb\"; gene_source \"ensembl\"; gene_biotype \"protein_coding\"; transcript_name \"pdgfrb-201\"; transcript_source \"ensembl\"; transcript_biotype \"protein_coding\"; protein_id \"ENSFHEP00000012823\"; protein_version \"1\";\r\n",
      "KN805525.1\tensembl\texon\t49385\t49495\t.\t+\t.\tgene_id \"ENSFHEG00000014326\"; gene_version \"1\"; transcript_id \"ENSFHET00000020197\"; transcript_version \"1\"; exon_number \"14\"; gene_name \"pdgfrb\"; gene_source \"ensembl\"; gene_biotype \"protein_coding\"; transcript_name \"pdgfrb-201\"; transcript_source \"ensembl\"; transcript_biotype \"protein_coding\"; exon_id \"ENSFHEE00000071842\"; exon_version \"1\";\r\n",
      "KN805525.1\tensembl\tCDS\t49385\t49495\t.\t+\t2\tgene_id \"ENSFHEG00000014326\"; gene_version \"1\"; transcript_id \"ENSFHET00000020197\"; transcript_version \"1\"; exon_number \"14\"; gene_name \"pdgfrb\"; gene_source \"ensembl\"; gene_biotype \"protein_coding\"; transcript_name \"pdgfrb-201\"; transcript_source \"ensembl\"; transcript_biotype \"protein_coding\"; protein_id \"ENSFHEP00000012823\"; protein_version \"1\";\r\n",
      "KN805525.1\tensembl\texon\t51202\t51309\t.\t+\t.\tgene_id \"ENSFHEG00000014326\"; gene_version \"1\"; transcript_id \"ENSFHET00000020197\"; transcript_version \"1\"; exon_number \"15\"; gene_name \"pdgfrb\"; gene_source \"ensembl\"; gene_biotype \"protein_coding\"; transcript_name \"pdgfrb-201\"; transcript_source \"ensembl\"; transcript_biotype \"protein_coding\"; exon_id \"ENSFHEE00000071833\"; exon_version \"1\";\r\n",
      "KN805525.1\tensembl\tCDS\t51202\t51309\t.\t+\t2\tgene_id \"ENSFHEG00000014326\"; gene_version \"1\"; transcript_id \"ENSFHET00000020197\"; transcript_version \"1\"; exon_number \"15\"; gene_name \"pdgfrb\"; gene_source \"ensembl\"; gene_biotype \"protein_coding\"; transcript_name \"pdgfrb-201\"; transcript_source \"ensembl\"; transcript_biotype \"protein_coding\"; protein_id \"ENSFHEP00000012823\"; protein_version \"1\";\r\n",
      "KN805525.1\tensembl\texon\t51548\t51748\t.\t+\t.\tgene_id \"ENSFHEG00000014326\"; gene_version \"1\"; transcript_id \"ENSFHET00000020197\"; transcript_version \"1\"; exon_number \"16\"; gene_name \"pdgfrb\"; gene_source \"ensembl\"; gene_biotype \"protein_coding\"; transcript_name \"pdgfrb-201\"; transcript_source \"ensembl\"; transcript_biotype \"protein_coding\"; exon_id \"ENSFHEE00000071824\"; exon_version \"1\";\r\n",
      "KN805525.1\tensembl\tCDS\t51548\t51748\t.\t+\t2\tgene_id \"ENSFHEG00000014326\"; gene_version \"1\"; transcript_id \"ENSFHET00000020197\"; transcript_version \"1\"; exon_number \"16\"; gene_name \"pdgfrb\"; gene_source \"ensembl\"; gene_biotype \"protein_coding\"; transcript_name \"pdgfrb-201\"; transcript_source \"ensembl\"; transcript_biotype \"protein_coding\"; protein_id \"ENSFHEP00000012823\"; protein_version \"1\";\r\n",
      "KN805525.1\tensembl\texon\t52152\t52258\t.\t+\t.\tgene_id \"ENSFHEG00000014326\"; gene_version \"1\"; transcript_id \"ENSFHET00000020197\"; transcript_version \"1\"; exon_number \"17\"; gene_name \"pdgfrb\"; gene_source \"ensembl\"; gene_biotype \"protein_coding\"; transcript_name \"pdgfrb-201\"; transcript_source \"ensembl\"; transcript_biotype \"protein_coding\"; exon_id \"ENSFHEE00000071814\"; exon_version \"1\";\r\n",
      "KN805525.1\tensembl\tCDS\t52152\t52258\t.\t+\t2\tgene_id \"ENSFHEG00000014326\"; gene_version \"1\"; transcript_id \"ENSFHET00000020197\"; transcript_version \"1\"; exon_number \"17\"; gene_name \"pdgfrb\"; gene_source \"ensembl\"; gene_biotype \"protein_coding\"; transcript_name \"pdgfrb-201\"; transcript_source \"ensembl\"; transcript_biotype \"protein_coding\"; protein_id \"ENSFHEP00000012823\"; protein_version \"1\";\r\n",
      "KN805525.1\tensembl\texon\t52360\t52482\t.\t+\t.\tgene_id \"ENSFHEG00000014326\"; gene_version \"1\"; transcript_id \"ENSFHET00000020197\"; transcript_version \"1\"; exon_number \"18\"; gene_name \"pdgfrb\"; gene_source \"ensembl\"; gene_biotype \"protein_coding\"; transcript_name \"pdgfrb-201\"; transcript_source \"ensembl\"; transcript_biotype \"protein_coding\"; exon_id \"ENSFHEE00000071780\"; exon_version \"1\";\r\n",
      "KN805525.1\tensembl\tCDS\t52360\t52482\t.\t+\t0\tgene_id \"ENSFHEG00000014326\"; gene_version \"1\"; transcript_id \"ENSFHET00000020197\"; transcript_version \"1\"; exon_number \"18\"; gene_name \"pdgfrb\"; gene_source \"ensembl\"; gene_biotype \"protein_coding\"; transcript_name \"pdgfrb-201\"; transcript_source \"ensembl\"; transcript_biotype \"protein_coding\"; protein_id \"ENSFHEP00000012823\"; protein_version \"1\";\r\n",
      "KN805525.1\tensembl\texon\t53480\t53591\t.\t+\t.\tgene_id \"ENSFHEG00000014326\"; gene_version \"1\"; transcript_id \"ENSFHET00000020197\"; transcript_version \"1\"; exon_number \"19\"; gene_name \"pdgfrb\"; gene_source \"ensembl\"; gene_biotype \"protein_coding\"; transcript_name \"pdgfrb-201\"; transcript_source \"ensembl\"; transcript_biotype \"protein_coding\"; exon_id \"ENSFHEE00000191984\"; exon_version \"1\";\r\n",
      "KN805525.1\tensembl\tCDS\t53480\t53591\t.\t+\t0\tgene_id \"ENSFHEG00000014326\"; gene_version \"1\"; transcript_id \"ENSFHET00000020197\"; transcript_version \"1\"; exon_number \"19\"; gene_name \"pdgfrb\"; gene_source \"ensembl\"; gene_biotype \"protein_coding\"; transcript_name \"pdgfrb-201\"; transcript_source \"ensembl\"; transcript_biotype \"protein_coding\"; protein_id \"ENSFHEP00000012823\"; protein_version \"1\";\r\n",
      "KN805525.1\tensembl\texon\t54153\t54252\t.\t+\t.\tgene_id \"ENSFHEG00000014326\"; gene_version \"1\"; transcript_id \"ENSFHET00000020197\"; transcript_version \"1\"; exon_number \"20\"; gene_name \"pdgfrb\"; gene_source \"ensembl\"; gene_biotype \"protein_coding\"; transcript_name \"pdgfrb-201\"; transcript_source \"ensembl\"; transcript_biotype \"protein_coding\"; exon_id \"ENSFHEE00000191962\"; exon_version \"1\";\r\n",
      "KN805525.1\tensembl\tCDS\t54153\t54252\t.\t+\t2\tgene_id \"ENSFHEG00000014326\"; gene_version \"1\"; transcript_id \"ENSFHET00000020197\"; transcript_version \"1\"; exon_number \"20\"; gene_name \"pdgfrb\"; gene_source \"ensembl\"; gene_biotype \"protein_coding\"; transcript_name \"pdgfrb-201\"; transcript_source \"ensembl\"; transcript_biotype \"protein_coding\"; protein_id \"ENSFHEP00000012823\"; protein_version \"1\";\r\n",
      "KN805525.1\tensembl\texon\t54335\t54440\t.\t+\t.\tgene_id \"ENSFHEG00000014326\"; gene_version \"1\"; transcript_id \"ENSFHET00000020197\"; transcript_version \"1\"; exon_number \"21\"; gene_name \"pdgfrb\"; gene_source \"ensembl\"; gene_biotype \"protein_coding\"; transcript_name \"pdgfrb-201\"; transcript_source \"ensembl\"; transcript_biotype \"protein_coding\"; exon_id \"ENSFHEE00000071753\"; exon_version \"1\";\r\n",
      "KN805525.1\tensembl\tCDS\t54335\t54440\t.\t+\t1\tgene_id \"ENSFHEG00000014326\"; gene_version \"1\"; transcript_id \"ENSFHET00000020197\"; transcript_version \"1\"; exon_number \"21\"; gene_name \"pdgfrb\"; gene_source \"ensembl\"; gene_biotype \"protein_coding\"; transcript_name \"pdgfrb-201\"; transcript_source \"ensembl\"; transcript_biotype \"protein_coding\"; protein_id \"ENSFHEP00000012823\"; protein_version \"1\";\r\n",
      "KN805525.1\tensembl\texon\t55993\t56277\t.\t+\t.\tgene_id \"ENSFHEG00000014326\"; gene_version \"1\"; transcript_id \"ENSFHET00000020197\"; transcript_version \"1\"; exon_number \"22\"; gene_name \"pdgfrb\"; gene_source \"ensembl\"; gene_biotype \"protein_coding\"; transcript_name \"pdgfrb-201\"; transcript_source \"ensembl\"; transcript_biotype \"protein_coding\"; exon_id \"ENSFHEE00000191929\"; exon_version \"1\";\r\n",
      "KN805525.1\tensembl\tCDS\t55993\t56277\t.\t+\t0\tgene_id \"ENSFHEG00000014326\"; gene_version \"1\"; transcript_id \"ENSFHET00000020197\"; transcript_version \"1\"; exon_number \"22\"; gene_name \"pdgfrb\"; gene_source \"ensembl\"; gene_biotype \"protein_coding\"; transcript_name \"pdgfrb-201\"; transcript_source \"ensembl\"; transcript_biotype \"protein_coding\"; protein_id \"ENSFHEP00000012823\"; protein_version \"1\";\r\n",
      "KN805525.1\tensembl\texon\t56937\t57020\t.\t+\t.\tgene_id \"ENSFHEG00000014326\"; gene_version \"1\"; transcript_id \"ENSFHET00000020197\"; transcript_version \"1\"; exon_number \"23\"; gene_name \"pdgfrb\"; gene_source \"ensembl\"; gene_biotype \"protein_coding\"; transcript_name \"pdgfrb-201\"; transcript_source \"ensembl\"; transcript_biotype \"protein_coding\"; exon_id \"ENSFHEE00000071730\"; exon_version \"1\";\r\n",
      "KN805525.1\tensembl\tCDS\t56937\t57017\t.\t+\t0\tgene_id \"ENSFHEG00000014326\"; gene_version \"1\"; transcript_id \"ENSFHET00000020197\"; transcript_version \"1\"; exon_number \"23\"; gene_name \"pdgfrb\"; gene_source \"ensembl\"; gene_biotype \"protein_coding\"; transcript_name \"pdgfrb-201\"; transcript_source \"ensembl\"; transcript_biotype \"protein_coding\"; protein_id \"ENSFHEP00000012823\"; protein_version \"1\";\r\n",
      "KN805525.1\tensembl\tstop_codon\t57018\t57020\t.\t+\t0\tgene_id \"ENSFHEG00000014326\"; gene_version \"1\"; transcript_id \"ENSFHET00000020197\"; transcript_version \"1\"; exon_number \"23\"; gene_name \"pdgfrb\"; gene_source \"ensembl\"; gene_biotype \"protein_coding\"; transcript_name \"pdgfrb-201\"; transcript_source \"ensembl\"; transcript_biotype \"protein_coding\";\r\n",
      "KN805525.1\tensembl\tgene\t62194\t78208\t.\t+\t.\tgene_id \"ENSFHEG00000014282\"; gene_version \"1\"; gene_name \"csf1ra\"; gene_source \"ensembl\"; gene_biotype \"protein_coding\";\r\n",
      "KN805525.1\tensembl\ttranscript\t62194\t78208\t.\t+\t.\tgene_id \"ENSFHEG00000014282\"; gene_version \"1\"; transcript_id \"ENSFHET00000020149\"; transcript_version \"1\"; gene_name \"csf1ra\"; gene_source \"ensembl\"; gene_biotype \"protein_coding\"; transcript_name \"csf1ra-201\"; transcript_source \"ensembl\"; transcript_biotype \"protein_coding\";\r\n",
      "KN805525.1\tensembl\texon\t62194\t62306\t.\t+\t.\tgene_id \"ENSFHEG00000014282\"; gene_version \"1\"; transcript_id \"ENSFHET00000020149\"; transcript_version \"1\"; exon_number \"1\"; gene_name \"csf1ra\"; gene_source \"ensembl\"; gene_biotype \"protein_coding\"; transcript_name \"csf1ra-201\"; transcript_source \"ensembl\"; transcript_biotype \"protein_coding\"; exon_id \"ENSFHEE00000191859\"; exon_version \"1\";\r\n",
      "KN805525.1\tensembl\texon\t62562\t62634\t.\t+\t.\tgene_id \"ENSFHEG00000014282\"; gene_version \"1\"; transcript_id \"ENSFHET00000020149\"; transcript_version \"1\"; exon_number \"2\"; gene_name \"csf1ra\"; gene_source \"ensembl\"; gene_biotype \"protein_coding\"; transcript_name \"csf1ra-201\"; transcript_source \"ensembl\"; transcript_biotype \"protein_coding\"; exon_id \"ENSFHEE00000191857\"; exon_version \"1\";\r\n",
      "KN805525.1\tensembl\tCDS\t62580\t62634\t.\t+\t0\tgene_id \"ENSFHEG00000014282\"; gene_version \"1\"; transcript_id \"ENSFHET00000020149\"; transcript_version \"1\"; exon_number \"2\"; gene_name \"csf1ra\"; gene_source \"ensembl\"; gene_biotype \"protein_coding\"; transcript_name \"csf1ra-201\"; transcript_source \"ensembl\"; transcript_biotype \"protein_coding\"; protein_id \"ENSFHEP00000012780\"; protein_version \"1\";\r\n",
      "KN805525.1\tensembl\tstart_codon\t62580\t62582\t.\t+\t0\tgene_id \"ENSFHEG00000014282\"; gene_version \"1\"; transcript_id \"ENSFHET00000020149\"; transcript_version \"1\"; exon_number \"2\"; gene_name \"csf1ra\"; gene_source \"ensembl\"; gene_biotype \"protein_coding\"; transcript_name \"csf1ra-201\"; transcript_source \"ensembl\"; transcript_biotype \"protein_coding\";\r\n",
      "KN805525.1\tensembl\texon\t63886\t64173\t.\t+\t.\tgene_id \"ENSFHEG00000014282\"; gene_version \"1\"; transcript_id \"ENSFHET00000020149\"; transcript_version \"1\"; exon_number \"3\"; gene_name \"csf1ra\"; gene_source \"ensembl\"; gene_biotype \"protein_coding\"; transcript_name \"csf1ra-201\"; transcript_source \"ensembl\"; transcript_biotype \"protein_coding\"; exon_id \"ENSFHEE00000191833\"; exon_version \"1\";\r\n",
      "KN805525.1\tensembl\tCDS\t63886\t64173\t.\t+\t2\tgene_id \"ENSFHEG00000014282\"; gene_version \"1\"; transcript_id \"ENSFHET00000020149\"; transcript_version \"1\"; exon_number \"3\"; gene_name \"csf1ra\"; gene_source \"ensembl\"; gene_biotype \"protein_coding\"; transcript_name \"csf1ra-201\"; transcript_source \"ensembl\"; transcript_biotype \"protein_coding\"; protein_id \"ENSFHEP00000012780\"; protein_version \"1\";\r\n",
      "KN805525.1\tensembl\texon\t64260\t64547\t.\t+\t.\tgene_id \"ENSFHEG00000014282\"; gene_version \"1\"; transcript_id \"ENSFHET00000020149\"; transcript_version \"1\"; exon_number \"4\"; gene_name \"csf1ra\"; gene_source \"ensembl\"; gene_biotype \"protein_coding\"; transcript_name \"csf1ra-201\"; transcript_source \"ensembl\"; transcript_biotype \"protein_coding\"; exon_id \"ENSFHEE00000191823\"; exon_version \"1\";\r\n",
      "KN805525.1\tensembl\tCDS\t64260\t64547\t.\t+\t2\tgene_id \"ENSFHEG00000014282\"; gene_version \"1\"; transcript_id \"ENSFHET00000020149\"; transcript_version \"1\"; exon_number \"4\"; gene_name \"csf1ra\"; gene_source \"ensembl\"; gene_biotype \"protein_coding\"; transcript_name \"csf1ra-201\"; transcript_source \"ensembl\"; transcript_biotype \"protein_coding\"; protein_id \"ENSFHEP00000012780\"; protein_version \"1\";\r\n",
      "KN805525.1\tensembl\texon\t64630\t64766\t.\t+\t.\tgene_id \"ENSFHEG00000014282\"; gene_version \"1\"; transcript_id \"ENSFHET00000020149\"; transcript_version \"1\"; exon_number \"5\"; gene_name \"csf1ra\"; gene_source \"ensembl\"; gene_biotype \"protein_coding\"; transcript_name \"csf1ra-201\"; transcript_source \"ensembl\"; transcript_biotype \"protein_coding\"; exon_id \"ENSFHEE00000191822\"; exon_version \"1\";\r\n",
      "KN805525.1\tensembl\tCDS\t64630\t64766\t.\t+\t2\tgene_id \"ENSFHEG00000014282\"; gene_version \"1\"; transcript_id \"ENSFHET00000020149\"; transcript_version \"1\"; exon_number \"5\"; gene_name \"csf1ra\"; gene_source \"ensembl\"; gene_biotype \"protein_coding\"; transcript_name \"csf1ra-201\"; transcript_source \"ensembl\"; transcript_biotype \"protein_coding\"; protein_id \"ENSFHEP00000012780\"; protein_version \"1\";\r\n",
      "KN805525.1\tensembl\texon\t64845\t65010\t.\t+\t.\tgene_id \"ENSFHEG00000014282\"; gene_version \"1\"; transcript_id \"ENSFHET00000020149\"; transcript_version \"1\"; exon_number \"6\"; gene_name \"csf1ra\"; gene_source \"ensembl\"; gene_biotype \"protein_coding\"; transcript_name \"csf1ra-201\"; transcript_source \"ensembl\"; transcript_biotype \"protein_coding\"; exon_id \"ENSFHEE00000071810\"; exon_version \"1\";\r\n",
      "KN805525.1\tensembl\tCDS\t64845\t65010\t.\t+\t0\tgene_id \"ENSFHEG00000014282\"; gene_version \"1\"; transcript_id \"ENSFHET00000020149\"; transcript_version \"1\"; exon_number \"6\"; gene_name \"csf1ra\"; gene_source \"ensembl\"; gene_biotype \"protein_coding\"; transcript_name \"csf1ra-201\"; transcript_source \"ensembl\"; transcript_biotype \"protein_coding\"; protein_id \"ENSFHEP00000012780\"; protein_version \"1\";\r\n",
      "KN805525.1\tensembl\texon\t65097\t65298\t.\t+\t.\tgene_id \"ENSFHEG00000014282\"; gene_version \"1\"; transcript_id \"ENSFHET00000020149\"; transcript_version \"1\"; exon_number \"7\"; gene_name \"csf1ra\"; gene_source \"ensembl\"; gene_biotype \"protein_coding\"; transcript_name \"csf1ra-201\"; transcript_source \"ensembl\"; transcript_biotype \"protein_coding\"; exon_id \"ENSFHEE00000191991\"; exon_version \"1\";\r\n",
      "KN805525.1\tensembl\tCDS\t65097\t65298\t.\t+\t2\tgene_id \"ENSFHEG00000014282\"; gene_version \"1\"; transcript_id \"ENSFHET00000020149\"; transcript_version \"1\"; exon_number \"7\"; gene_name \"csf1ra\"; gene_source \"ensembl\"; gene_biotype \"protein_coding\"; transcript_name \"csf1ra-201\"; transcript_source \"ensembl\"; transcript_biotype \"protein_coding\"; protein_id \"ENSFHEP00000012780\"; protein_version \"1\";\r\n",
      "KN805525.1\tensembl\texon\t65621\t65736\t.\t+\t.\tgene_id \"ENSFHEG00000014282\"; gene_version \"1\"; transcript_id \"ENSFHET00000020149\"; transcript_version \"1\"; exon_number \"8\"; gene_name \"csf1ra\"; gene_source \"ensembl\"; gene_biotype \"protein_coding\"; transcript_name \"csf1ra-201\"; transcript_source \"ensembl\"; transcript_biotype \"protein_coding\"; exon_id \"ENSFHEE00000191990\"; exon_version \"1\";\r\n",
      "KN805525.1\tensembl\tCDS\t65621\t65736\t.\t+\t1\tgene_id \"ENSFHEG00000014282\"; gene_version \"1\"; transcript_id \"ENSFHET00000020149\"; transcript_version \"1\"; exon_number \"8\"; gene_name \"csf1ra\"; gene_source \"ensembl\"; gene_biotype \"protein_coding\"; transcript_name \"csf1ra-201\"; transcript_source \"ensembl\"; transcript_biotype \"protein_coding\"; protein_id \"ENSFHEP00000012780\"; protein_version \"1\";\r\n",
      "KN805525.1\tensembl\texon\t66372\t66483\t.\t+\t.\tgene_id \"ENSFHEG00000014282\"; gene_version \"1\"; transcript_id \"ENSFHET00000020149\"; transcript_version \"1\"; exon_number \"9\"; gene_name \"csf1ra\"; gene_source \"ensembl\"; gene_biotype \"protein_coding\"; transcript_name \"csf1ra-201\"; transcript_source \"ensembl\"; transcript_biotype \"protein_coding\"; exon_id \"ENSFHEE00000071579\"; exon_version \"1\";\r\n",
      "KN805525.1\tensembl\tCDS\t66372\t66483\t.\t+\t2\tgene_id \"ENSFHEG00000014282\"; gene_version \"1\"; transcript_id \"ENSFHET00000020149\"; transcript_version \"1\"; exon_number \"9\"; gene_name \"csf1ra\"; gene_source \"ensembl\"; gene_biotype \"protein_coding\"; transcript_name \"csf1ra-201\"; transcript_source \"ensembl\"; transcript_biotype \"protein_coding\"; protein_id \"ENSFHEP00000012780\"; protein_version \"1\";\r\n",
      "KN805525.1\tensembl\texon\t66593\t66792\t.\t+\t.\tgene_id \"ENSFHEG00000014282\"; gene_version \"1\"; transcript_id \"ENSFHET00000020149\"; transcript_version \"1\"; exon_number \"10\"; gene_name \"csf1ra\"; gene_source \"ensembl\"; gene_biotype \"protein_coding\"; transcript_name \"csf1ra-201\"; transcript_source \"ensembl\"; transcript_biotype \"protein_coding\"; exon_id \"ENSFHEE00000192290\"; exon_version \"1\";\r\n",
      "KN805525.1\tensembl\tCDS\t66593\t66792\t.\t+\t1\tgene_id \"ENSFHEG00000014282\"; gene_version \"1\"; transcript_id \"ENSFHET00000020149\"; transcript_version \"1\"; exon_number \"10\"; gene_name \"csf1ra\"; gene_source \"ensembl\"; gene_biotype \"protein_coding\"; transcript_name \"csf1ra-201\"; transcript_source \"ensembl\"; transcript_biotype \"protein_coding\"; protein_id \"ENSFHEP00000012780\"; protein_version \"1\";\r\n",
      "KN805525.1\tensembl\texon\t66899\t66990\t.\t+\t.\tgene_id \"ENSFHEG00000014282\"; gene_version \"1\"; transcript_id \"ENSFHET00000020149\"; transcript_version \"1\"; exon_number \"11\"; gene_name \"csf1ra\"; gene_source \"ensembl\"; gene_biotype \"protein_coding\"; transcript_name \"csf1ra-201\"; transcript_source \"ensembl\"; transcript_biotype \"protein_coding\"; exon_id \"ENSFHEE00000191758\"; exon_version \"1\";\r\n",
      "KN805525.1\tensembl\tCDS\t66899\t66990\t.\t+\t2\tgene_id \"ENSFHEG00000014282\"; gene_version \"1\"; transcript_id \"ENSFHET00000020149\"; transcript_version \"1\"; exon_number \"11\"; gene_name \"csf1ra\"; gene_source \"ensembl\"; gene_biotype \"protein_coding\"; transcript_name \"csf1ra-201\"; transcript_source \"ensembl\"; transcript_biotype \"protein_coding\"; protein_id \"ENSFHEP00000012780\"; protein_version \"1\";\r\n",
      "KN805525.1\tensembl\texon\t67114\t67240\t.\t+\t.\tgene_id \"ENSFHEG00000014282\"; gene_version \"1\"; transcript_id \"ENSFHET00000020149\"; transcript_version \"1\"; exon_number \"12\"; gene_name \"csf1ra\"; gene_source \"ensembl\"; gene_biotype \"protein_coding\"; transcript_name \"csf1ra-201\"; transcript_source \"ensembl\"; transcript_biotype \"protein_coding\"; exon_id \"ENSFHEE00000191781\"; exon_version \"1\";\r\n",
      "KN805525.1\tensembl\tCDS\t67114\t67240\t.\t+\t0\tgene_id \"ENSFHEG00000014282\"; gene_version \"1\"; transcript_id \"ENSFHET00000020149\"; transcript_version \"1\"; exon_number \"12\"; gene_name \"csf1ra\"; gene_source \"ensembl\"; gene_biotype \"protein_coding\"; transcript_name \"csf1ra-201\"; transcript_source \"ensembl\"; transcript_biotype \"protein_coding\"; protein_id \"ENSFHEP00000012780\"; protein_version \"1\";\r\n",
      "KN805525.1\tensembl\texon\t67818\t67922\t.\t+\t.\tgene_id \"ENSFHEG00000014282\"; gene_version \"1\"; transcript_id \"ENSFHET00000020149\"; transcript_version \"1\"; exon_number \"13\"; gene_name \"csf1ra\"; gene_source \"ensembl\"; gene_biotype \"protein_coding\"; transcript_name \"csf1ra-201\"; transcript_source \"ensembl\"; transcript_biotype \"protein_coding\"; exon_id \"ENSFHEE00000071539\"; exon_version \"1\";\r\n",
      "KN805525.1\tensembl\tCDS\t67818\t67922\t.\t+\t2\tgene_id \"ENSFHEG00000014282\"; gene_version \"1\"; transcript_id \"ENSFHET00000020149\"; transcript_version \"1\"; exon_number \"13\"; gene_name \"csf1ra\"; gene_source \"ensembl\"; gene_biotype \"protein_coding\"; transcript_name \"csf1ra-201\"; transcript_source \"ensembl\"; transcript_biotype \"protein_coding\"; protein_id \"ENSFHEP00000012780\"; protein_version \"1\";\r\n",
      "KN805525.1\tensembl\texon\t68034\t68144\t.\t+\t.\tgene_id \"ENSFHEG00000014282\"; gene_version \"1\"; transcript_id \"ENSFHET00000020149\"; transcript_version \"1\"; exon_number \"14\"; gene_name \"csf1ra\"; gene_source \"ensembl\"; gene_biotype \"protein_coding\"; transcript_name \"csf1ra-201\"; transcript_source \"ensembl\"; transcript_biotype \"protein_coding\"; exon_id \"ENSFHEE00000071725\"; exon_version \"1\";\r\n",
      "KN805525.1\tensembl\tCDS\t68034\t68144\t.\t+\t2\tgene_id \"ENSFHEG00000014282\"; gene_version \"1\"; transcript_id \"ENSFHET00000020149\"; transcript_version \"1\"; exon_number \"14\"; gene_name \"csf1ra\"; gene_source \"ensembl\"; gene_biotype \"protein_coding\"; transcript_name \"csf1ra-201\"; transcript_source \"ensembl\"; transcript_biotype \"protein_coding\"; protein_id \"ENSFHEP00000012780\"; protein_version \"1\";\r\n",
      "KN805525.1\tensembl\texon\t68257\t68419\t.\t+\t.\tgene_id \"ENSFHEG00000014282\"; gene_version \"1\"; transcript_id \"ENSFHET00000020149\"; transcript_version \"1\"; exon_number \"15\"; gene_name \"csf1ra\"; gene_source \"ensembl\"; gene_biotype \"protein_coding\"; transcript_name \"csf1ra-201\"; transcript_source \"ensembl\"; transcript_biotype \"protein_coding\"; exon_id \"ENSFHEE00000191745\"; exon_version \"1\";\r\n",
      "KN805525.1\tensembl\tCDS\t68257\t68419\t.\t+\t2\tgene_id \"ENSFHEG00000014282\"; gene_version \"1\"; transcript_id \"ENSFHET00000020149\"; transcript_version \"1\"; exon_number \"15\"; gene_name \"csf1ra\"; gene_source \"ensembl\"; gene_biotype \"protein_coding\"; transcript_name \"csf1ra-201\"; transcript_source \"ensembl\"; transcript_biotype \"protein_coding\"; protein_id \"ENSFHEP00000012780\"; protein_version \"1\";\r\n",
      "KN805525.1\tensembl\texon\t68504\t68586\t.\t+\t.\tgene_id \"ENSFHEG00000014282\"; gene_version \"1\"; transcript_id \"ENSFHET00000020149\"; transcript_version \"1\"; exon_number \"16\"; gene_name \"csf1ra\"; gene_source \"ensembl\"; gene_biotype \"protein_coding\"; transcript_name \"csf1ra-201\"; transcript_source \"ensembl\"; transcript_biotype \"protein_coding\"; exon_id \"ENSFHEE00000071536\"; exon_version \"1\";\r\n",
      "KN805525.1\tensembl\tCDS\t68504\t68586\t.\t+\t1\tgene_id \"ENSFHEG00000014282\"; gene_version \"1\"; transcript_id \"ENSFHET00000020149\"; transcript_version \"1\"; exon_number \"16\"; gene_name \"csf1ra\"; gene_source \"ensembl\"; gene_biotype \"protein_coding\"; transcript_name \"csf1ra-201\"; transcript_source \"ensembl\"; transcript_biotype \"protein_coding\"; protein_id \"ENSFHEP00000012780\"; protein_version \"1\";\r\n"
     ]
    }
   ],
   "source": [
    "!head -n100 Fundulus_heteroclitus.Fundulus_heteroclitus-3.0.2.105.gtf"
   ]
  },
  {
   "cell_type": "markdown",
   "metadata": {},
   "source": [
    "## 2. Prepare for feature track creation"
   ]
  },
  {
   "cell_type": "markdown",
   "metadata": {},
   "source": [
    "Before I pull out feature tracks, I need to know which databases were used for annotation, which features I can expect and how many of them there are, and identify chromosome lengths."
   ]
  },
  {
   "cell_type": "code",
   "execution_count": 35,
   "metadata": {
    "scrolled": false
   },
   "outputs": [
    {
     "name": "stdout",
     "output_type": "stream",
     "text": [
      "   1 #!genebuild-last-updated 2018-07\r\n",
      "   1 #!genome-build Fundulus_heteroclitus-3.0.2\r\n",
      "   1 #!genome-build-accession GCA_000826765.1\r\n",
      "   1 #!genome-date 2015-01\r\n",
      "   1 #!genome-version Fundulus_heteroclitus-3.0.2\r\n",
      " 145 RefSeq\r\n",
      "860089 ensembl\r\n"
     ]
    }
   ],
   "source": [
    "#Database identifiers for extracting features\n",
    "!cut -f2 Fundulus_heteroclitus.Fundulus_heteroclitus-3.0.2.105.gtf | sort | uniq -c | tail"
   ]
  },
  {
   "cell_type": "code",
   "execution_count": 37,
   "metadata": {},
   "outputs": [
    {
     "name": "stdout",
     "output_type": "stream",
     "text": [
      "   1 #!genebuild-last-updated 2018-07\n",
      "   1 #!genome-build Fundulus_heteroclitus-3.0.2\n",
      "   1 #!genome-build-accession GCA_000826765.1\n",
      "   1 #!genome-date 2015-01\n",
      "   1 #!genome-version Fundulus_heteroclitus-3.0.2\n",
      "341549 CDS\n",
      "   2 Selenocysteine\n",
      "350439 exon\n",
      "25788 five_prime_utr\n",
      "23469 gene\n",
      "30408 start_codon\n",
      "34476 stop_codon\n",
      "18506 three_prime_utr\n",
      "35597 transcript\n"
     ]
    }
   ],
   "source": [
    "#Count the number of unique features in the GFF\n",
    "!cut -f3 Fundulus_heteroclitus.Fundulus_heteroclitus-3.0.2.105.gtf | sort | uniq -c"
   ]
  },
  {
   "cell_type": "code",
   "execution_count": 30,
   "metadata": {},
   "outputs": [
    {
     "name": "stdout",
     "output_type": "stream",
     "text": [
      "KN805525.1\t6356336\r\n",
      "KN805526.1\t6250690\r\n",
      "KN811289.1\t6115441\r\n",
      "KN811310.1\t5246820\r\n",
      "KN811405.1\t5058772\r\n",
      "KN811340.1\t5018176\r\n",
      "KN811371.1\t4958163\r\n",
      "KN811339.1\t4925094\r\n",
      "KN811372.1\t4897111\r\n",
      "KN811406.1\t4652060\r\n"
     ]
    }
   ],
   "source": [
    "#Chromosome length information\n",
    "!head mummichog.chrom.length"
   ]
  },
  {
   "cell_type": "markdown",
   "metadata": {},
   "source": [
    "## 2. Generate genome feature tracks"
   ]
  },
  {
   "cell_type": "markdown",
   "metadata": {},
   "source": [
    "I will extract CDS, exon, gene, lncRNA and mRNA tracks. I can then use those existing tracks to produce intron and  intergenic tracks, as well as 1 kb upstream and downstream flanking regions with `bedtools`. I will also use the RepeatMasker output from NCBI for my transposable element track."
   ]
  },
  {
   "cell_type": "code",
   "execution_count": 27,
   "metadata": {
    "scrolled": true
   },
   "outputs": [
    {
     "name": "stdout",
     "output_type": "stream",
     "text": [
      "bedtools v2.30.0\r\n"
     ]
    }
   ],
   "source": [
    "!{bedtoolsDirectory}/bedtools --version"
   ]
  },
  {
   "cell_type": "markdown",
   "metadata": {},
   "source": [
    "### 2a. Gene"
   ]
  },
  {
   "cell_type": "code",
   "execution_count": 40,
   "metadata": {},
   "outputs": [],
   "source": [
    "#Isolate gene entries from multiple annotation databses. Tab mus be included between database and feature\n",
    "#Sort output for downstream use\n",
    "#Include chromosome name information\n",
    "!grep -e \"RefSeq\tgene\" -e \"ensembl\tgene\" \\\n",
    "Fundulus_heteroclitus.Fundulus_heteroclitus-3.0.2.105.gtf \\\n",
    "| {bedtoolsDirectory}/sortBed \\\n",
    "-faidx mummichog.chrom.length \\\n",
    "> Fundulus_heteroclitus-3.0.2.105-gene.gff"
   ]
  },
  {
   "cell_type": "code",
   "execution_count": 41,
   "metadata": {
    "scrolled": true
   },
   "outputs": [
    {
     "name": "stdout",
     "output_type": "stream",
     "text": [
      "KN805525.1\tensembl\tgene\t2500\t10348\t.\t-\t.\tgene_id \"ENSFHEG00000014345\"; gene_version \"1\"; gene_name \"cdx1a\"; gene_source \"ensembl\"; gene_biotype \"protein_coding\";\n",
      "KN805525.1\tensembl\tgene\t38959\t57020\t.\t+\t.\tgene_id \"ENSFHEG00000014326\"; gene_version \"1\"; gene_name \"pdgfrb\"; gene_source \"ensembl\"; gene_biotype \"protein_coding\";\n",
      "KN805525.1\tensembl\tgene\t62194\t78208\t.\t+\t.\tgene_id \"ENSFHEG00000014282\"; gene_version \"1\"; gene_name \"csf1ra\"; gene_source \"ensembl\"; gene_biotype \"protein_coding\";\n",
      "KN805525.1\tensembl\tgene\t85895\t96387\t.\t-\t.\tgene_id \"ENSFHEG00000014227\"; gene_version \"1\"; gene_name \"hmgxb3\"; gene_source \"ensembl\"; gene_biotype \"protein_coding\";\n",
      "KN805525.1\tensembl\tgene\t96807\t105515\t.\t+\t.\tgene_id \"ENSFHEG00000014113\"; gene_version \"1\"; gene_name \"si:ch73-42p12.2\"; gene_source \"ensembl\"; gene_biotype \"protein_coding\";\n",
      "KN805525.1\tensembl\tgene\t103755\t106513\t.\t+\t.\tgene_id \"ENSFHEG00000014098\"; gene_version \"1\"; gene_name \"SLC35A4\"; gene_source \"ensembl\"; gene_biotype \"protein_coding\";\n",
      "KN805525.1\tensembl\tgene\t107710\t111142\t.\t-\t.\tgene_id \"ENSFHEG00000014086\"; gene_version \"1\"; gene_name \"si:dkey-201i24.3\"; gene_source \"ensembl\"; gene_biotype \"protein_coding\"; projection_parent_gene \"ENSDARG00000103572.2\";\n",
      "KN805525.1\tensembl\tgene\t130424\t137024\t.\t-\t.\tgene_id \"ENSFHEG00000014072\"; gene_version \"1\"; gene_source \"ensembl\"; gene_biotype \"protein_coding\";\n",
      "KN805525.1\tensembl\tgene\t142524\t211966\t.\t-\t.\tgene_id \"ENSFHEG00000014058\"; gene_version \"1\"; gene_name \"ndst1a\"; gene_source \"ensembl\"; gene_biotype \"protein_coding\";\n",
      "KN805525.1\tensembl\tgene\t214865\t220266\t.\t+\t.\tgene_id \"ENSFHEG00000014032\"; gene_version \"1\"; gene_name \"rbm22\"; gene_source \"ensembl\"; gene_biotype \"protein_coding\";\n",
      "   23469 Fundulus_heteroclitus-3.0.2.105-gene.gff\n"
     ]
    }
   ],
   "source": [
    "!head Fundulus_heteroclitus-3.0.2.105-gene.gff\n",
    "!wc -l Fundulus_heteroclitus-3.0.2.105-gene.gff"
   ]
  },
  {
   "cell_type": "markdown",
   "metadata": {},
   "source": [
    "### 2b. CDS"
   ]
  },
  {
   "cell_type": "code",
   "execution_count": 42,
   "metadata": {},
   "outputs": [],
   "source": [
    "!grep -e \"RefSeq\tCDS\" -e \"ensembl\tCDS\" \\\n",
    "Fundulus_heteroclitus.Fundulus_heteroclitus-3.0.2.105.gtf \\\n",
    "| {bedtoolsDirectory}/sortBed \\\n",
    "-faidx mummichog.chrom.length \\\n",
    "> Fundulus_heteroclitus-3.0.2.105-CDS.gff"
   ]
  },
  {
   "cell_type": "code",
   "execution_count": 43,
   "metadata": {
    "scrolled": true
   },
   "outputs": [
    {
     "name": "stdout",
     "output_type": "stream",
     "text": [
      "KN805525.1\tensembl\tCDS\t2503\t2651\t.\t-\t2\tgene_id \"ENSFHEG00000014345\"; gene_version \"1\"; transcript_id \"ENSFHET00000020248\"; transcript_version \"1\"; exon_number \"4\"; gene_name \"cdx1a\"; gene_source \"ensembl\"; gene_biotype \"protein_coding\"; transcript_name \"cdx1a-201\"; transcript_source \"ensembl\"; transcript_biotype \"protein_coding\"; protein_id \"ENSFHEP00000012884\"; protein_version \"1\";\n",
      "KN805525.1\tensembl\tCDS\t5166\t5274\t.\t-\t0\tgene_id \"ENSFHEG00000014345\"; gene_version \"1\"; transcript_id \"ENSFHET00000020248\"; transcript_version \"1\"; exon_number \"3\"; gene_name \"cdx1a\"; gene_source \"ensembl\"; gene_biotype \"protein_coding\"; transcript_name \"cdx1a-201\"; transcript_source \"ensembl\"; transcript_biotype \"protein_coding\"; protein_id \"ENSFHEP00000012884\"; protein_version \"1\";\n",
      "KN805525.1\tensembl\tCDS\t8335\t8483\t.\t-\t2\tgene_id \"ENSFHEG00000014345\"; gene_version \"1\"; transcript_id \"ENSFHET00000020248\"; transcript_version \"1\"; exon_number \"2\"; gene_name \"cdx1a\"; gene_source \"ensembl\"; gene_biotype \"protein_coding\"; transcript_name \"cdx1a-201\"; transcript_source \"ensembl\"; transcript_biotype \"protein_coding\"; protein_id \"ENSFHEP00000012884\"; protein_version \"1\";\n",
      "KN805525.1\tensembl\tCDS\t10201\t10348\t.\t-\t0\tgene_id \"ENSFHEG00000014345\"; gene_version \"1\"; transcript_id \"ENSFHET00000020248\"; transcript_version \"1\"; exon_number \"1\"; gene_name \"cdx1a\"; gene_source \"ensembl\"; gene_biotype \"protein_coding\"; transcript_name \"cdx1a-201\"; transcript_source \"ensembl\"; transcript_biotype \"protein_coding\"; protein_id \"ENSFHEP00000012884\"; protein_version \"1\";\n",
      "KN805525.1\tensembl\tCDS\t38959\t38960\t.\t+\t0\tgene_id \"ENSFHEG00000014326\"; gene_version \"1\"; transcript_id \"ENSFHET00000020197\"; transcript_version \"1\"; exon_number \"1\"; gene_name \"pdgfrb\"; gene_source \"ensembl\"; gene_biotype \"protein_coding\"; transcript_name \"pdgfrb-201\"; transcript_source \"ensembl\"; transcript_biotype \"protein_coding\"; protein_id \"ENSFHEP00000012823\"; protein_version \"1\";\n",
      "KN805525.1\tensembl\tCDS\t39613\t39736\t.\t+\t1\tgene_id \"ENSFHEG00000014326\"; gene_version \"1\"; transcript_id \"ENSFHET00000020197\"; transcript_version \"1\"; exon_number \"2\"; gene_name \"pdgfrb\"; gene_source \"ensembl\"; gene_biotype \"protein_coding\"; transcript_name \"pdgfrb-201\"; transcript_source \"ensembl\"; transcript_biotype \"protein_coding\"; protein_id \"ENSFHEP00000012823\"; protein_version \"1\";\n",
      "KN805525.1\tensembl\tCDS\t39794\t39899\t.\t+\t0\tgene_id \"ENSFHEG00000014326\"; gene_version \"1\"; transcript_id \"ENSFHET00000020197\"; transcript_version \"1\"; exon_number \"3\"; gene_name \"pdgfrb\"; gene_source \"ensembl\"; gene_biotype \"protein_coding\"; transcript_name \"pdgfrb-201\"; transcript_source \"ensembl\"; transcript_biotype \"protein_coding\"; protein_id \"ENSFHEP00000012823\"; protein_version \"1\";\n",
      "KN805525.1\tensembl\tCDS\t39984\t40241\t.\t+\t2\tgene_id \"ENSFHEG00000014326\"; gene_version \"1\"; transcript_id \"ENSFHET00000020197\"; transcript_version \"1\"; exon_number \"4\"; gene_name \"pdgfrb\"; gene_source \"ensembl\"; gene_biotype \"protein_coding\"; transcript_name \"pdgfrb-201\"; transcript_source \"ensembl\"; transcript_biotype \"protein_coding\"; protein_id \"ENSFHEP00000012823\"; protein_version \"1\";\n",
      "KN805525.1\tensembl\tCDS\t40742\t40887\t.\t+\t2\tgene_id \"ENSFHEG00000014326\"; gene_version \"1\"; transcript_id \"ENSFHET00000020197\"; transcript_version \"1\"; exon_number \"5\"; gene_name \"pdgfrb\"; gene_source \"ensembl\"; gene_biotype \"protein_coding\"; transcript_name \"pdgfrb-201\"; transcript_source \"ensembl\"; transcript_biotype \"protein_coding\"; protein_id \"ENSFHEP00000012823\"; protein_version \"1\";\n",
      "KN805525.1\tensembl\tCDS\t41874\t41997\t.\t+\t0\tgene_id \"ENSFHEG00000014326\"; gene_version \"1\"; transcript_id \"ENSFHET00000020197\"; transcript_version \"1\"; exon_number \"6\"; gene_name \"pdgfrb\"; gene_source \"ensembl\"; gene_biotype \"protein_coding\"; transcript_name \"pdgfrb-201\"; transcript_source \"ensembl\"; transcript_biotype \"protein_coding\"; protein_id \"ENSFHEP00000012823\"; protein_version \"1\";\n",
      "  341549 Fundulus_heteroclitus-3.0.2.105-CDS.gff\n"
     ]
    }
   ],
   "source": [
    "!head Fundulus_heteroclitus-3.0.2.105-CDS.gff\n",
    "!wc -l Fundulus_heteroclitus-3.0.2.105-CDS.gff"
   ]
  },
  {
   "cell_type": "markdown",
   "metadata": {},
   "source": [
    "### 2c. Exon"
   ]
  },
  {
   "cell_type": "code",
   "execution_count": 45,
   "metadata": {},
   "outputs": [],
   "source": [
    "!grep -e \"RefSeq\texon\" -e \"ensembl\texon\" \\\n",
    "Fundulus_heteroclitus.Fundulus_heteroclitus-3.0.2.105.gtf \\\n",
    "| {bedtoolsDirectory}/sortBed \\\n",
    "-faidx mummichog.chrom.length \\\n",
    "> Fundulus_heteroclitus-3.0.2.105-exon.gff"
   ]
  },
  {
   "cell_type": "code",
   "execution_count": 46,
   "metadata": {
    "scrolled": true
   },
   "outputs": [
    {
     "name": "stdout",
     "output_type": "stream",
     "text": [
      "KN805525.1\tensembl\texon\t2500\t2651\t.\t-\t.\tgene_id \"ENSFHEG00000014345\"; gene_version \"1\"; transcript_id \"ENSFHET00000020248\"; transcript_version \"1\"; exon_number \"4\"; gene_name \"cdx1a\"; gene_source \"ensembl\"; gene_biotype \"protein_coding\"; transcript_name \"cdx1a-201\"; transcript_source \"ensembl\"; transcript_biotype \"protein_coding\"; exon_id \"ENSFHEE00000192221\"; exon_version \"1\";\n",
      "KN805525.1\tensembl\texon\t5166\t5274\t.\t-\t.\tgene_id \"ENSFHEG00000014345\"; gene_version \"1\"; transcript_id \"ENSFHET00000020248\"; transcript_version \"1\"; exon_number \"3\"; gene_name \"cdx1a\"; gene_source \"ensembl\"; gene_biotype \"protein_coding\"; transcript_name \"cdx1a-201\"; transcript_source \"ensembl\"; transcript_biotype \"protein_coding\"; exon_id \"ENSFHEE00000072033\"; exon_version \"1\";\n",
      "KN805525.1\tensembl\texon\t8335\t8483\t.\t-\t.\tgene_id \"ENSFHEG00000014345\"; gene_version \"1\"; transcript_id \"ENSFHET00000020248\"; transcript_version \"1\"; exon_number \"2\"; gene_name \"cdx1a\"; gene_source \"ensembl\"; gene_biotype \"protein_coding\"; transcript_name \"cdx1a-201\"; transcript_source \"ensembl\"; transcript_biotype \"protein_coding\"; exon_id \"ENSFHEE00000192263\"; exon_version \"1\";\n",
      "KN805525.1\tensembl\texon\t10201\t10348\t.\t-\t.\tgene_id \"ENSFHEG00000014345\"; gene_version \"1\"; transcript_id \"ENSFHET00000020248\"; transcript_version \"1\"; exon_number \"1\"; gene_name \"cdx1a\"; gene_source \"ensembl\"; gene_biotype \"protein_coding\"; transcript_name \"cdx1a-201\"; transcript_source \"ensembl\"; transcript_biotype \"protein_coding\"; exon_id \"ENSFHEE00000072050\"; exon_version \"1\";\n",
      "KN805525.1\tensembl\texon\t38959\t38960\t.\t+\t.\tgene_id \"ENSFHEG00000014326\"; gene_version \"1\"; transcript_id \"ENSFHET00000020197\"; transcript_version \"1\"; exon_number \"1\"; gene_name \"pdgfrb\"; gene_source \"ensembl\"; gene_biotype \"protein_coding\"; transcript_name \"pdgfrb-201\"; transcript_source \"ensembl\"; transcript_biotype \"protein_coding\"; exon_id \"ENSFHEE00000192162\"; exon_version \"1\";\n",
      "KN805525.1\tensembl\texon\t39613\t39736\t.\t+\t.\tgene_id \"ENSFHEG00000014326\"; gene_version \"1\"; transcript_id \"ENSFHET00000020197\"; transcript_version \"1\"; exon_number \"2\"; gene_name \"pdgfrb\"; gene_source \"ensembl\"; gene_biotype \"protein_coding\"; transcript_name \"pdgfrb-201\"; transcript_source \"ensembl\"; transcript_biotype \"protein_coding\"; exon_id \"ENSFHEE00000192199\"; exon_version \"1\";\n",
      "KN805525.1\tensembl\texon\t39794\t39899\t.\t+\t.\tgene_id \"ENSFHEG00000014326\"; gene_version \"1\"; transcript_id \"ENSFHET00000020197\"; transcript_version \"1\"; exon_number \"3\"; gene_name \"pdgfrb\"; gene_source \"ensembl\"; gene_biotype \"protein_coding\"; transcript_name \"pdgfrb-201\"; transcript_source \"ensembl\"; transcript_biotype \"protein_coding\"; exon_id \"ENSFHEE00000071965\"; exon_version \"1\";\n",
      "KN805525.1\tensembl\texon\t39984\t40241\t.\t+\t.\tgene_id \"ENSFHEG00000014326\"; gene_version \"1\"; transcript_id \"ENSFHET00000020197\"; transcript_version \"1\"; exon_number \"4\"; gene_name \"pdgfrb\"; gene_source \"ensembl\"; gene_biotype \"protein_coding\"; transcript_name \"pdgfrb-201\"; transcript_source \"ensembl\"; transcript_biotype \"protein_coding\"; exon_id \"ENSFHEE00000192136\"; exon_version \"1\";\n",
      "KN805525.1\tensembl\texon\t40742\t40887\t.\t+\t.\tgene_id \"ENSFHEG00000014326\"; gene_version \"1\"; transcript_id \"ENSFHET00000020197\"; transcript_version \"1\"; exon_number \"5\"; gene_name \"pdgfrb\"; gene_source \"ensembl\"; gene_biotype \"protein_coding\"; transcript_name \"pdgfrb-201\"; transcript_source \"ensembl\"; transcript_biotype \"protein_coding\"; exon_id \"ENSFHEE00000192119\"; exon_version \"1\";\n",
      "KN805525.1\tensembl\texon\t41874\t41997\t.\t+\t.\tgene_id \"ENSFHEG00000014326\"; gene_version \"1\"; transcript_id \"ENSFHET00000020197\"; transcript_version \"1\"; exon_number \"6\"; gene_name \"pdgfrb\"; gene_source \"ensembl\"; gene_biotype \"protein_coding\"; transcript_name \"pdgfrb-201\"; transcript_source \"ensembl\"; transcript_biotype \"protein_coding\"; exon_id \"ENSFHEE00000071938\"; exon_version \"1\";\n",
      "  350439 Fundulus_heteroclitus-3.0.2.105-exon.gff\n"
     ]
    }
   ],
   "source": [
    "!head Fundulus_heteroclitus-3.0.2.105-exon.gff\n",
    "!wc -l Fundulus_heteroclitus-3.0.2.105-exon.gff"
   ]
  },
  {
   "cell_type": "markdown",
   "metadata": {},
   "source": [
    "### 2d. 5' UTR"
   ]
  },
  {
   "cell_type": "code",
   "execution_count": 47,
   "metadata": {},
   "outputs": [],
   "source": [
    "!grep -e \"RefSeq\tfive_prime_utr\" -e \"ensembl\tfive_prime_utr\" \\\n",
    "Fundulus_heteroclitus.Fundulus_heteroclitus-3.0.2.105.gtf \\\n",
    "| {bedtoolsDirectory}/sortBed \\\n",
    "-faidx mummichog.chrom.length \\\n",
    "> Fundulus_heteroclitus-3.0.2.105-five_prime_utr.gff"
   ]
  },
  {
   "cell_type": "code",
   "execution_count": 48,
   "metadata": {
    "scrolled": true
   },
   "outputs": [
    {
     "name": "stdout",
     "output_type": "stream",
     "text": [
      "KN805525.1\tensembl\tfive_prime_utr\t62194\t62306\t.\t+\t.\tgene_id \"ENSFHEG00000014282\"; gene_version \"1\"; transcript_id \"ENSFHET00000020149\"; transcript_version \"1\"; gene_name \"csf1ra\"; gene_source \"ensembl\"; gene_biotype \"protein_coding\"; transcript_name \"csf1ra-201\"; transcript_source \"ensembl\"; transcript_biotype \"protein_coding\";\n",
      "KN805525.1\tensembl\tfive_prime_utr\t62562\t62579\t.\t+\t.\tgene_id \"ENSFHEG00000014282\"; gene_version \"1\"; transcript_id \"ENSFHET00000020149\"; transcript_version \"1\"; gene_name \"csf1ra\"; gene_source \"ensembl\"; gene_biotype \"protein_coding\"; transcript_name \"csf1ra-201\"; transcript_source \"ensembl\"; transcript_biotype \"protein_coding\";\n",
      "KN805525.1\tensembl\tfive_prime_utr\t96807\t96912\t.\t+\t.\tgene_id \"ENSFHEG00000014113\"; gene_version \"1\"; transcript_id \"ENSFHET00000019976\"; transcript_version \"1\"; gene_name \"si:ch73-42p12.2\"; gene_source \"ensembl\"; gene_biotype \"protein_coding\"; transcript_name \"si:ch73-42p12.2-201\"; transcript_source \"ensembl\"; transcript_biotype \"protein_coding\";\n",
      "KN805525.1\tensembl\tfive_prime_utr\t97412\t97506\t.\t+\t.\tgene_id \"ENSFHEG00000014113\"; gene_version \"1\"; transcript_id \"ENSFHET00000032071\"; transcript_version \"1\"; gene_name \"si:ch73-42p12.2\"; gene_source \"ensembl\"; gene_biotype \"protein_coding\"; transcript_name \"si:ch73-42p12.2-202\"; transcript_source \"ensembl\"; transcript_biotype \"protein_coding\";\n",
      "KN805525.1\tensembl\tfive_prime_utr\t97490\t97506\t.\t+\t.\tgene_id \"ENSFHEG00000014113\"; gene_version \"1\"; transcript_id \"ENSFHET00000019976\"; transcript_version \"1\"; gene_name \"si:ch73-42p12.2\"; gene_source \"ensembl\"; gene_biotype \"protein_coding\"; transcript_name \"si:ch73-42p12.2-201\"; transcript_source \"ensembl\"; transcript_biotype \"protein_coding\";\n",
      "KN805525.1\tensembl\tfive_prime_utr\t97787\t97787\t.\t+\t.\tgene_id \"ENSFHEG00000014113\"; gene_version \"1\"; transcript_id \"ENSFHET00000019954\"; transcript_version \"1\"; gene_name \"si:ch73-42p12.2\"; gene_source \"ensembl\"; gene_biotype \"protein_coding\"; transcript_name \"si:ch73-42p12.2-203\"; transcript_source \"ensembl\"; transcript_biotype \"protein_coding\";\n",
      "KN805525.1\tensembl\tfive_prime_utr\t136847\t137024\t.\t-\t.\tgene_id \"ENSFHEG00000014072\"; gene_version \"1\"; transcript_id \"ENSFHET00000019911\"; transcript_version \"1\"; gene_source \"ensembl\"; gene_biotype \"protein_coding\"; transcript_source \"ensembl\"; transcript_biotype \"protein_coding\";\n",
      "KN805525.1\tensembl\tfive_prime_utr\t165976\t166019\t.\t-\t.\tgene_id \"ENSFHEG00000014058\"; gene_version \"1\"; transcript_id \"ENSFHET00000019891\"; transcript_version \"1\"; gene_name \"ndst1a\"; gene_source \"ensembl\"; gene_biotype \"protein_coding\"; transcript_name \"ndst1a-201\"; transcript_source \"ensembl\"; transcript_biotype \"protein_coding\";\n",
      "KN805525.1\tensembl\tfive_prime_utr\t165976\t166452\t.\t-\t.\tgene_id \"ENSFHEG00000014058\"; gene_version \"1\"; transcript_id \"ENSFHET00000019886\"; transcript_version \"1\"; gene_name \"ndst1a\"; gene_source \"ensembl\"; gene_biotype \"protein_coding\"; transcript_name \"ndst1a-202\"; transcript_source \"ensembl\"; transcript_biotype \"protein_coding\";\n",
      "KN805525.1\tensembl\tfive_prime_utr\t166091\t166452\t.\t-\t.\tgene_id \"ENSFHEG00000014058\"; gene_version \"1\"; transcript_id \"ENSFHET00000019891\"; transcript_version \"1\"; gene_name \"ndst1a\"; gene_source \"ensembl\"; gene_biotype \"protein_coding\"; transcript_name \"ndst1a-201\"; transcript_source \"ensembl\"; transcript_biotype \"protein_coding\";\n",
      "   25788 Fundulus_heteroclitus-3.0.2.105-five_prime_utr.gff\n"
     ]
    }
   ],
   "source": [
    "!head Fundulus_heteroclitus-3.0.2.105-five_prime_utr.gff\n",
    "!wc -l Fundulus_heteroclitus-3.0.2.105-five_prime_utr.gff"
   ]
  },
  {
   "cell_type": "markdown",
   "metadata": {},
   "source": [
    "### 2e. 3' UTR"
   ]
  },
  {
   "cell_type": "code",
   "execution_count": 49,
   "metadata": {},
   "outputs": [],
   "source": [
    "!grep -e \"RefSeq\tthree_prime_utr\" -e \"ensembl\tthree_prime_utr\" \\\n",
    "Fundulus_heteroclitus.Fundulus_heteroclitus-3.0.2.105.gtf \\\n",
    "| {bedtoolsDirectory}/sortBed \\\n",
    "-faidx mummichog.chrom.length \\\n",
    "> Fundulus_heteroclitus-3.0.2.105-three_prime_utr.gff"
   ]
  },
  {
   "cell_type": "code",
   "execution_count": 50,
   "metadata": {
    "scrolled": true
   },
   "outputs": [
    {
     "name": "stdout",
     "output_type": "stream",
     "text": [
      "KN805525.1\tensembl\tthree_prime_utr\t76711\t78208\t.\t+\t.\tgene_id \"ENSFHEG00000014282\"; gene_version \"1\"; transcript_id \"ENSFHET00000020149\"; transcript_version \"1\"; gene_name \"csf1ra\"; gene_source \"ensembl\"; gene_biotype \"protein_coding\"; transcript_name \"csf1ra-201\"; transcript_source \"ensembl\"; transcript_biotype \"protein_coding\";\n",
      "KN805525.1\tensembl\tthree_prime_utr\t105041\t105515\t.\t+\t.\tgene_id \"ENSFHEG00000014113\"; gene_version \"1\"; transcript_id \"ENSFHET00000032071\"; transcript_version \"1\"; gene_name \"si:ch73-42p12.2\"; gene_source \"ensembl\"; gene_biotype \"protein_coding\"; transcript_name \"si:ch73-42p12.2-202\"; transcript_source \"ensembl\"; transcript_biotype \"protein_coding\";\n",
      "KN805525.1\tensembl\tthree_prime_utr\t105041\t105515\t.\t+\t.\tgene_id \"ENSFHEG00000014113\"; gene_version \"1\"; transcript_id \"ENSFHET00000019954\"; transcript_version \"1\"; gene_name \"si:ch73-42p12.2\"; gene_source \"ensembl\"; gene_biotype \"protein_coding\"; transcript_name \"si:ch73-42p12.2-203\"; transcript_source \"ensembl\"; transcript_biotype \"protein_coding\";\n",
      "KN805525.1\tensembl\tthree_prime_utr\t130424\t132434\t.\t-\t.\tgene_id \"ENSFHEG00000014072\"; gene_version \"1\"; transcript_id \"ENSFHET00000019911\"; transcript_version \"1\"; gene_source \"ensembl\"; gene_biotype \"protein_coding\"; transcript_source \"ensembl\"; transcript_biotype \"protein_coding\";\n",
      "KN805525.1\tensembl\tthree_prime_utr\t142524\t144974\t.\t-\t.\tgene_id \"ENSFHEG00000014058\"; gene_version \"1\"; transcript_id \"ENSFHET00000019891\"; transcript_version \"1\"; gene_name \"ndst1a\"; gene_source \"ensembl\"; gene_biotype \"protein_coding\"; transcript_name \"ndst1a-201\"; transcript_source \"ensembl\"; transcript_biotype \"protein_coding\";\n",
      "KN805525.1\tensembl\tthree_prime_utr\t142524\t144974\t.\t-\t.\tgene_id \"ENSFHEG00000014058\"; gene_version \"1\"; transcript_id \"ENSFHET00000019886\"; transcript_version \"1\"; gene_name \"ndst1a\"; gene_source \"ensembl\"; gene_biotype \"protein_coding\"; transcript_name \"ndst1a-202\"; transcript_source \"ensembl\"; transcript_biotype \"protein_coding\";\n",
      "KN805525.1\tensembl\tthree_prime_utr\t217873\t221874\t.\t-\t.\tgene_id \"ENSFHEG00000013967\"; gene_version \"1\"; transcript_id \"ENSFHET00000019785\"; transcript_version \"1\"; gene_name \"myoz3a\"; gene_source \"ensembl\"; gene_biotype \"protein_coding\"; transcript_name \"myoz3a-201\"; transcript_source \"ensembl\"; transcript_biotype \"protein_coding\";\n",
      "KN805525.1\tensembl\tthree_prime_utr\t280486\t283868\t.\t+\t.\tgene_id \"ENSFHEG00000013942\"; gene_version \"1\"; transcript_id \"ENSFHET00000019705\"; transcript_version \"1\"; gene_name \"rgs14a\"; gene_source \"ensembl\"; gene_biotype \"protein_coding\"; transcript_name \"rgs14a-201\"; transcript_source \"ensembl\"; transcript_biotype \"protein_coding\";\n",
      "KN805525.1\tensembl\tthree_prime_utr\t280486\t280786\t.\t+\t.\tgene_id \"ENSFHEG00000013942\"; gene_version \"1\"; transcript_id \"ENSFHET00000031989\"; transcript_version \"1\"; gene_name \"rgs14a\"; gene_source \"ensembl\"; gene_biotype \"protein_coding\"; transcript_name \"rgs14a-202\"; transcript_source \"ensembl\"; transcript_biotype \"protein_coding\";\n",
      "KN805525.1\tensembl\tthree_prime_utr\t413715\t415741\t.\t+\t.\tgene_id \"ENSFHEG00000013774\"; gene_version \"1\"; transcript_id \"ENSFHET00000019571\"; transcript_version \"1\"; gene_name \"si:ch211-199b20.3\"; gene_source \"ensembl\"; gene_biotype \"protein_coding\"; transcript_name \"si:ch211-199b20.3-201\"; transcript_source \"ensembl\"; transcript_biotype \"protein_coding\";\n",
      "   18506 Fundulus_heteroclitus-3.0.2.105-three_prime_utr.gff\n"
     ]
    }
   ],
   "source": [
    "!head Fundulus_heteroclitus-3.0.2.105-three_prime_utr.gff\n",
    "!wc -l Fundulus_heteroclitus-3.0.2.105-three_prime_utr.gff"
   ]
  },
  {
   "cell_type": "markdown",
   "metadata": {},
   "source": [
    "### 2f. Non-coding sequences"
   ]
  },
  {
   "cell_type": "code",
   "execution_count": 59,
   "metadata": {},
   "outputs": [],
   "source": [
    "!grep \":primary\" Fundulus_heteroclitus-3.0.2.105-exon.gff"
   ]
  },
  {
   "cell_type": "code",
   "execution_count": 65,
   "metadata": {},
   "outputs": [
    {
     "name": "stdout",
     "output_type": "stream",
     "text": [
      "***** ERROR: illegal number \":primary\". Exiting...\r\n"
     ]
    }
   ],
   "source": [
    "#Find the complement to the exon track (non-coding sequences)\n",
    "#Create a BEDfile of IGV\n",
    "!{bedtoolsDirectory}/complementBed \\\n",
    "-i Fundulus_heteroclitus-3.0.2.105-exon.gff \\\n",
    "-g mummichog.chrom.length \\\n",
    "> Fundulus_heteroclitus-3.0.2.105-nonCDS.bed"
   ]
  },
  {
   "cell_type": "code",
   "execution_count": 52,
   "metadata": {
    "scrolled": true
   },
   "outputs": [
    {
     "name": "stdout",
     "output_type": "stream",
     "text": [
      "       0 Fundulus_heteroclitus-3.0.2.105-nonCDS.bed\r\n"
     ]
    }
   ],
   "source": [
    "!head Fundulus_heteroclitus-3.0.2.105-nonCDS.bed\n",
    "!wc -l Fundulus_heteroclitus-3.0.2.105-nonCDS.bed"
   ]
  },
  {
   "cell_type": "markdown",
   "metadata": {},
   "source": [
    "### 2g. Intron"
   ]
  },
  {
   "cell_type": "code",
   "execution_count": 18,
   "metadata": {},
   "outputs": [],
   "source": [
    "#Find the intersection between the non-coding sequences and genes (introns)\n",
    "!{bedtoolsDirectory}/intersectBed \\\n",
    "-a Fundulus_heteroclitus-3.0.2.105-nonCDS.bed \\\n",
    "-b Fundulus_heteroclitus-3.0.2.105-gene.gff -sorted \\\n",
    "> Fundulus_heteroclitus-3.0.2.105-intron.bed"
   ]
  },
  {
   "cell_type": "code",
   "execution_count": 19,
   "metadata": {},
   "outputs": [
    {
     "name": "stdout",
     "output_type": "stream",
     "text": [
      "NC_035780.1\t13603\t14236\n",
      "NC_035780.1\t14290\t14556\n",
      "NC_035780.1\t29073\t30523\n",
      "NC_035780.1\t31557\t31735\n",
      "NC_035780.1\t31887\t31976\n",
      "NC_035780.1\t32565\t32958\n",
      "NC_035780.1\t44358\t45912\n",
      "NC_035780.1\t46506\t64122\n",
      "NC_035780.1\t64334\t66868\n",
      "NC_035780.1\t85777\t88422\n",
      "  311341 C_virginica-3.0-intron.bed\n"
     ]
    }
   ],
   "source": [
    "!head Fundulus_heteroclitus-3.0.2.105-intron.bed\n",
    "!wc -l Fundulus_heteroclitus-3.0.2.105-intron.bed"
   ]
  },
  {
   "cell_type": "markdown",
   "metadata": {},
   "source": [
    "### 2i. Flanking regions (1 kb)"
   ]
  },
  {
   "cell_type": "markdown",
   "metadata": {},
   "source": [
    "#### All flanks"
   ]
  },
  {
   "cell_type": "code",
   "execution_count": 22,
   "metadata": {},
   "outputs": [],
   "source": [
    "#Create 1 kb flanking regions\n",
    "#Subtract existing genes from artificial flanks\n",
    "!{bedtoolsDirectory}/flankBed \\\n",
    "-i C_virginica-3.0-gene.gff \\\n",
    "-g C_virginica-3.0-sequence-lengths.txt \\\n",
    "-b 1000 \\\n",
    "| {bedtoolsDirectory}/subtractBed \\\n",
    "-a - \\\n",
    "-b C_virginica-3.0-gene.gff \\\n",
    "> C_virginica-3.0-flanks.gff"
   ]
  },
  {
   "cell_type": "code",
   "execution_count": 23,
   "metadata": {
    "scrolled": true
   },
   "outputs": [
    {
     "name": "stdout",
     "output_type": "stream",
     "text": [
      "NC_035780.1\tGnomon\tgene\t12578\t13577\t.\t+\t.\tID=gene-LOC111116054;Dbxref=GeneID:111116054;Name=LOC111116054;gbkey=Gene;gene=LOC111116054;gene_biotype=lncRNA\n",
      "NC_035780.1\tGnomon\tgene\t14595\t15594\t.\t+\t.\tID=gene-LOC111116054;Dbxref=GeneID:111116054;Name=LOC111116054;gbkey=Gene;gene=LOC111116054;gene_biotype=lncRNA\n",
      "NC_035780.1\tGnomon\tgene\t27961\t28960\t.\t+\t.\tID=gene-LOC111126949;Dbxref=GeneID:111126949;Name=LOC111126949;gbkey=Gene;gene=LOC111126949;gene_biotype=protein_coding\n",
      "NC_035780.1\tGnomon\tgene\t33325\t34324\t.\t+\t.\tID=gene-LOC111126949;Dbxref=GeneID:111126949;Name=LOC111126949;gbkey=Gene;gene=LOC111126949;gene_biotype=protein_coding\n",
      "NC_035780.1\tGnomon\tgene\t42111\t43110\t.\t-\t.\tID=gene-LOC111110729;Dbxref=GeneID:111110729;Name=LOC111110729;gbkey=Gene;gene=LOC111110729;gene_biotype=protein_coding\n",
      "NC_035780.1\tGnomon\tgene\t66898\t67897\t.\t-\t.\tID=gene-LOC111110729;Dbxref=GeneID:111110729;Name=LOC111110729;gbkey=Gene;gene=LOC111110729;gene_biotype=protein_coding\n",
      "NC_035780.1\tGnomon\tgene\t84606\t85605\t.\t-\t.\tID=gene-LOC111112434;Dbxref=GeneID:111112434;Name=LOC111112434;gbkey=Gene;gene=LOC111112434;gene_biotype=protein_coding\n",
      "NC_035780.1\tGnomon\tgene\t95255\t96254\t.\t-\t.\tID=gene-LOC111112434;Dbxref=GeneID:111112434;Name=LOC111112434;gbkey=Gene;gene=LOC111112434;gene_biotype=protein_coding\n",
      "NC_035780.1\tGnomon\tgene\t98840\t99839\t.\t+\t.\tID=gene-LOC111120752;Dbxref=GeneID:111120752;Name=LOC111120752;gbkey=Gene;gene=LOC111120752;gene_biotype=protein_coding\n",
      "NC_035780.1\tGnomon\tgene\t106461\t107460\t.\t+\t.\tID=gene-LOC111120752;Dbxref=GeneID:111120752;Name=LOC111120752;gbkey=Gene;gene=LOC111120752;gene_biotype=protein_coding\n",
      "   70041 C_virginica-3.0-flanks.gff\n"
     ]
    }
   ],
   "source": [
    "!head C_virginica-3.0-flanks.gff\n",
    "!wc -l C_virginica-3.0-flanks.gff"
   ]
  },
  {
   "cell_type": "markdown",
   "metadata": {},
   "source": [
    "#### Upstream flanks"
   ]
  },
  {
   "cell_type": "code",
   "execution_count": 24,
   "metadata": {},
   "outputs": [],
   "source": [
    "#Create 1 kb upstream flanking regions (-l) based on strand (-s)\n",
    "#Subtract existing genes from artificial flanks\n",
    "!{bedtoolsDirectory}/flankBed \\\n",
    "-i C_virginica-3.0-gene.gff \\\n",
    "-g C_virginica-3.0-sequence-lengths.txt \\\n",
    "-l 1000 \\\n",
    "-r 0 \\\n",
    "-s \\\n",
    "| {bedtoolsDirectory}/subtractBed \\\n",
    "-a - \\\n",
    "-b C_virginica-3.0-gene.gff \\\n",
    "> C_virginica-3.0-upstream.gff"
   ]
  },
  {
   "cell_type": "code",
   "execution_count": 25,
   "metadata": {},
   "outputs": [
    {
     "name": "stdout",
     "output_type": "stream",
     "text": [
      "NC_035780.1\tGnomon\tgene\t12578\t13577\t.\t+\t.\tID=gene-LOC111116054;Dbxref=GeneID:111116054;Name=LOC111116054;gbkey=Gene;gene=LOC111116054;gene_biotype=lncRNA\n",
      "NC_035780.1\tGnomon\tgene\t27961\t28960\t.\t+\t.\tID=gene-LOC111126949;Dbxref=GeneID:111126949;Name=LOC111126949;gbkey=Gene;gene=LOC111126949;gene_biotype=protein_coding\n",
      "NC_035780.1\tGnomon\tgene\t66898\t67897\t.\t-\t.\tID=gene-LOC111110729;Dbxref=GeneID:111110729;Name=LOC111110729;gbkey=Gene;gene=LOC111110729;gene_biotype=protein_coding\n",
      "NC_035780.1\tGnomon\tgene\t95255\t96254\t.\t-\t.\tID=gene-LOC111112434;Dbxref=GeneID:111112434;Name=LOC111112434;gbkey=Gene;gene=LOC111112434;gene_biotype=protein_coding\n",
      "NC_035780.1\tGnomon\tgene\t98840\t99839\t.\t+\t.\tID=gene-LOC111120752;Dbxref=GeneID:111120752;Name=LOC111120752;gbkey=Gene;gene=LOC111120752;gene_biotype=protein_coding\n",
      "NC_035780.1\tGnomon\tgene\t110078\t111077\t.\t-\t.\tID=gene-LOC111128944;Dbxref=GeneID:111128944;Name=LOC111128944;gbkey=Gene;gene=LOC111128944;gene_biotype=protein_coding;partial=true;start_range=.,108305\n",
      "NC_035780.1\tGnomon\tgene\t150859\t151858\t.\t+\t.\tID=gene-LOC111128953;Dbxref=GeneID:111128953;Name=LOC111128953;gbkey=Gene;gene=LOC111128953;gene_biotype=protein_coding\n",
      "NC_035780.1\tGnomon\tgene\t183799\t184798\t.\t-\t.\tID=gene-LOC111105691;Dbxref=GeneID:111105691;Name=LOC111105691;gbkey=Gene;gene=LOC111105691;gene_biotype=protein_coding\n",
      "NC_035780.1\tGnomon\tgene\t193595\t194594\t.\t-\t.\tID=gene-LOC111133554;Dbxref=GeneID:111133554;Name=LOC111133554;gbkey=Gene;gene=LOC111133554;gene_biotype=protein_coding\n",
      "NC_035780.1\tGnomon\tgene\t207744\t208743\t.\t-\t.\tID=gene-LOC111125466;Dbxref=GeneID:111125466;Name=LOC111125466;gbkey=Gene;gene=LOC111125466;gene_biotype=protein_coding\n",
      "   34817 C_virginica-3.0-upstream.gff\n"
     ]
    }
   ],
   "source": [
    "!head C_virginica-3.0-upstream.gff\n",
    "!wc -l C_virginica-3.0-upstream.gff"
   ]
  },
  {
   "cell_type": "markdown",
   "metadata": {},
   "source": [
    "#### Downstream flanks"
   ]
  },
  {
   "cell_type": "code",
   "execution_count": 26,
   "metadata": {},
   "outputs": [],
   "source": [
    "#Create 1 kb upstream flanking regions (-l) based on strand (-s)\n",
    "#Subtract existing genes from artificial flanks\n",
    "!{bedtoolsDirectory}/flankBed \\\n",
    "-i C_virginica-3.0-gene.gff \\\n",
    "-g C_virginica-3.0-sequence-lengths.txt \\\n",
    "-l 0 \\\n",
    "-r 1000 \\\n",
    "-s \\\n",
    "| {bedtoolsDirectory}/subtractBed \\\n",
    "-a - \\\n",
    "-b C_virginica-3.0-gene.gff \\\n",
    "> C_virginica-3.0-downstream.gff"
   ]
  },
  {
   "cell_type": "code",
   "execution_count": 27,
   "metadata": {},
   "outputs": [
    {
     "name": "stdout",
     "output_type": "stream",
     "text": [
      "NC_035780.1\tGnomon\tgene\t14595\t15594\t.\t+\t.\tID=gene-LOC111116054;Dbxref=GeneID:111116054;Name=LOC111116054;gbkey=Gene;gene=LOC111116054;gene_biotype=lncRNA\n",
      "NC_035780.1\tGnomon\tgene\t33325\t34324\t.\t+\t.\tID=gene-LOC111126949;Dbxref=GeneID:111126949;Name=LOC111126949;gbkey=Gene;gene=LOC111126949;gene_biotype=protein_coding\n",
      "NC_035780.1\tGnomon\tgene\t42111\t43110\t.\t-\t.\tID=gene-LOC111110729;Dbxref=GeneID:111110729;Name=LOC111110729;gbkey=Gene;gene=LOC111110729;gene_biotype=protein_coding\n",
      "NC_035780.1\tGnomon\tgene\t84606\t85605\t.\t-\t.\tID=gene-LOC111112434;Dbxref=GeneID:111112434;Name=LOC111112434;gbkey=Gene;gene=LOC111112434;gene_biotype=protein_coding\n",
      "NC_035780.1\tGnomon\tgene\t106461\t107460\t.\t+\t.\tID=gene-LOC111120752;Dbxref=GeneID:111120752;Name=LOC111120752;gbkey=Gene;gene=LOC111120752;gene_biotype=protein_coding\n",
      "NC_035780.1\tGnomon\tgene\t107305\t108304\t.\t-\t.\tID=gene-LOC111128944;Dbxref=GeneID:111128944;Name=LOC111128944;gbkey=Gene;gene=LOC111128944;gene_biotype=protein_coding;partial=true;start_range=.,108305\n",
      "NC_035780.1\tGnomon\tgene\t157537\t158536\t.\t+\t.\tID=gene-LOC111128953;Dbxref=GeneID:111128953;Name=LOC111128953;gbkey=Gene;gene=LOC111128953;gene_biotype=protein_coding\n",
      "NC_035780.1\tGnomon\tgene\t162809\t163808\t.\t-\t.\tID=gene-LOC111105691;Dbxref=GeneID:111105691;Name=LOC111105691;gbkey=Gene;gene=LOC111105691;gene_biotype=protein_coding\n",
      "NC_035780.1\tGnomon\tgene\t189449\t190448\t.\t-\t.\tID=gene-LOC111133554;Dbxref=GeneID:111133554;Name=LOC111133554;gbkey=Gene;gene=LOC111133554;gene_biotype=protein_coding\n",
      "NC_035780.1\tGnomon\tgene\t203243\t204242\t.\t-\t.\tID=gene-LOC111125466;Dbxref=GeneID:111125466;Name=LOC111125466;gbkey=Gene;gene=LOC111125466;gene_biotype=protein_coding\n",
      "   35224 C_virginica-3.0-downstream.gff\n"
     ]
    }
   ],
   "source": [
    "!head C_virginica-3.0-downstream.gff\n",
    "!wc -l C_virginica-3.0-downstream.gff"
   ]
  },
  {
   "cell_type": "markdown",
   "metadata": {},
   "source": [
    "### 2j. Intergenic regions"
   ]
  },
  {
   "cell_type": "code",
   "execution_count": 28,
   "metadata": {},
   "outputs": [],
   "source": [
    "#Find the complement of genes, then subtract flanks to obtain intergenic regions\n",
    "!{bedtoolsDirectory}/complementBed \\\n",
    "-i C_virginica-3.0-gene.gff -sorted \\\n",
    "-g C_virginica-3.0-sequence-lengths.txt \\\n",
    "| {bedtoolsDirectory}/subtractBed \\\n",
    "-a - \\\n",
    "-b C_virginica-3.0-flanks.gff \\\n",
    "> C_virginica-3.0-intergenic.bed"
   ]
  },
  {
   "cell_type": "code",
   "execution_count": 29,
   "metadata": {
    "scrolled": false
   },
   "outputs": [
    {
     "name": "stdout",
     "output_type": "stream",
     "text": [
      "NC_035780.1\t0\t12577\n",
      "NC_035780.1\t15594\t27960\n",
      "NC_035780.1\t34324\t42110\n",
      "NC_035780.1\t67897\t84605\n",
      "NC_035780.1\t96254\t98839\n",
      "NC_035780.1\t111077\t150858\n",
      "NC_035780.1\t158536\t162808\n",
      "NC_035780.1\t184798\t189448\n",
      "NC_035780.1\t194594\t203242\n",
      "NC_035780.1\t208743\t213890\n",
      "   23949 C_virginica-3.0-intergenic.bed\n"
     ]
    }
   ],
   "source": [
    "!head C_virginica-3.0-intergenic.bed\n",
    "!wc -l C_virginica-3.0-intergenic.bed"
   ]
  },
  {
   "cell_type": "code",
   "execution_count": null,
   "metadata": {
    "collapsed": true
   },
   "outputs": [],
   "source": []
  },
  {
   "cell_type": "code",
   "execution_count": null,
   "metadata": {},
   "outputs": [],
   "source": []
  }
 ],
 "metadata": {
  "anaconda-cloud": {},
  "kernelspec": {
   "display_name": "Python 3",
   "language": "python",
   "name": "python3"
  },
  "language_info": {
   "codemirror_mode": {
    "name": "ipython",
    "version": 3
   },
   "file_extension": ".py",
   "mimetype": "text/x-python",
   "name": "python",
   "nbconvert_exporter": "python",
   "pygments_lexer": "ipython3",
   "version": "3.7.4"
  }
 },
 "nbformat": 4,
 "nbformat_minor": 1
}
