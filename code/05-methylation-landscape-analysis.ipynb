{
 "cells": [
  {
   "cell_type": "markdown",
   "metadata": {},
   "source": [
    "# Methylation landscape analysis\n",
    "\n",
    "In this notebook, I'll characterize the methylation landscape using output from [`BAT_summarize`](https://github.com/yaaminiv/killifish-hypoxia-RRBS/tree/main/output/05-analysis/summarize)."
   ]
  },
  {
   "cell_type": "markdown",
   "metadata": {},
   "source": [
    "## 0. Prepare notebook for analysis"
   ]
  },
  {
   "cell_type": "code",
   "execution_count": 1,
   "metadata": {},
   "outputs": [
    {
     "name": "stdout",
     "output_type": "stream",
     "text": [
      "/Users/yaaminivenkataraman/Documents/killifish-hypoxia-RRBS/code\r\n"
     ]
    }
   ],
   "source": [
    "!pwd"
   ]
  },
  {
   "cell_type": "code",
   "execution_count": 2,
   "metadata": {},
   "outputs": [
    {
     "name": "stdout",
     "output_type": "stream",
     "text": [
      "/Users/yaaminivenkataraman/Documents/killifish-hypoxia-RRBS/output/05-analysis\n"
     ]
    }
   ],
   "source": [
    "cd ../output/05-analysis/"
   ]
  },
  {
   "cell_type": "code",
   "execution_count": 3,
   "metadata": {},
   "outputs": [
    {
     "name": "stdout",
     "output_type": "stream",
     "text": [
      "/Users/yaaminivenkataraman/Documents/killifish-hypoxia-RRBS/output/05-analysis/new-genome\n"
     ]
    }
   ],
   "source": [
    "cd new-genome/"
   ]
  },
  {
   "cell_type": "code",
   "execution_count": 4,
   "metadata": {},
   "outputs": [],
   "source": [
    "!mkdir methylation-landscape"
   ]
  },
  {
   "cell_type": "code",
   "execution_count": 5,
   "metadata": {},
   "outputs": [
    {
     "name": "stdout",
     "output_type": "stream",
     "text": [
      "/Users/yaaminivenkataraman/Documents/killifish-hypoxia-RRBS/output/05-analysis/new-genome/methylation-landscape\n"
     ]
    }
   ],
   "source": [
    "cd methylation-landscape/"
   ]
  },
  {
   "cell_type": "code",
   "execution_count": 6,
   "metadata": {
    "scrolled": true
   },
   "outputs": [
    {
     "name": "stdout",
     "output_type": "stream",
     "text": [
      "/opt/homebrew/bin/bedtools\r\n"
     ]
    }
   ],
   "source": [
    "!which bedtools"
   ]
  },
  {
   "cell_type": "code",
   "execution_count": 7,
   "metadata": {},
   "outputs": [],
   "source": [
    "bedtoolsDirectory = \"/opt/homebrew/bin/\""
   ]
  },
  {
   "cell_type": "code",
   "execution_count": 8,
   "metadata": {},
   "outputs": [
    {
     "name": "stdout",
     "output_type": "stream",
     "text": [
      "0.25.1\n"
     ]
    }
   ],
   "source": [
    "#Install pandas for this notebook\n",
    "import pandas as pd\n",
    "print(pd.__version__)"
   ]
  },
  {
   "cell_type": "markdown",
   "metadata": {},
   "source": [
    "## 1. Create union file"
   ]
  },
  {
   "cell_type": "markdown",
   "metadata": {},
   "source": [
    "I want to understand the data in two different ways: one with missing values, and one without. I will use `unionBedGraphs` to create a file with missing data for methylation landscape analysis."
   ]
  },
  {
   "cell_type": "code",
   "execution_count": 17,
   "metadata": {
    "scrolled": true
   },
   "outputs": [
    {
     "name": "stdout",
     "output_type": "stream",
     "text": [
      "/Volumes/yaamini.venkataraman/killifish-hypoxia-RRBS/output/04-calling/new-genome/filtered/190626_I114_FCH7TVNBBXY_L2_20-N4_CG.sort.bedgraph\r\n",
      "/Volumes/yaamini.venkataraman/killifish-hypoxia-RRBS/output/04-calling/new-genome/filtered/190626_I114_FCH7TVNBBXY_L2_20-S1_CG.sort.bedgraph\r\n",
      "/Volumes/yaamini.venkataraman/killifish-hypoxia-RRBS/output/04-calling/new-genome/filtered/190626_I114_FCH7TVNBBXY_L2_20-S3_CG.sort.bedgraph\r\n",
      "/Volumes/yaamini.venkataraman/killifish-hypoxia-RRBS/output/04-calling/new-genome/filtered/190626_I114_FCH7TVNBBXY_L2_20-S4_CG.sort.bedgraph\r\n",
      "/Volumes/yaamini.venkataraman/killifish-hypoxia-RRBS/output/04-calling/new-genome/filtered/190626_I114_FCH7TVNBBXY_L2_5-N1_CG.sort.bedgraph\r\n",
      "/Volumes/yaamini.venkataraman/killifish-hypoxia-RRBS/output/04-calling/new-genome/filtered/190626_I114_FCH7TVNBBXY_L2_5-N2_CG.sort.bedgraph\r\n",
      "/Volumes/yaamini.venkataraman/killifish-hypoxia-RRBS/output/04-calling/new-genome/filtered/190626_I114_FCH7TVNBBXY_L2_5-S3_CG.sort.bedgraph\r\n",
      "/Volumes/yaamini.venkataraman/killifish-hypoxia-RRBS/output/04-calling/new-genome/filtered/190626_I114_FCH7TVNBBXY_L2_5-S4_CG.sort.bedgraph\r\n",
      "/Volumes/yaamini.venkataraman/killifish-hypoxia-RRBS/output/04-calling/new-genome/filtered/190626_I114_FCH7TVNBBXY_L2_OC-S1_CG.sort.bedgraph\r\n",
      "/Volumes/yaamini.venkataraman/killifish-hypoxia-RRBS/output/04-calling/new-genome/filtered/190626_I114_FCH7TVNBBXY_L3_20-N2_CG.sort.bedgraph\r\n",
      "/Volumes/yaamini.venkataraman/killifish-hypoxia-RRBS/output/04-calling/new-genome/filtered/190626_I114_FCH7TVNBBXY_L3_5-N3_CG.sort.bedgraph\r\n",
      "/Volumes/yaamini.venkataraman/killifish-hypoxia-RRBS/output/04-calling/new-genome/filtered/190626_I114_FCH7TVNBBXY_L3_5-S2_CG.sort.bedgraph\r\n",
      "/Volumes/yaamini.venkataraman/killifish-hypoxia-RRBS/output/04-calling/new-genome/filtered/190626_I114_FCH7TVNBBXY_L3_OC-N1_CG.sort.bedgraph\r\n",
      "/Volumes/yaamini.venkataraman/killifish-hypoxia-RRBS/output/04-calling/new-genome/filtered/190626_I114_FCH7TVNBBXY_L3_OC-N2_CG.sort.bedgraph\r\n",
      "/Volumes/yaamini.venkataraman/killifish-hypoxia-RRBS/output/04-calling/new-genome/filtered/190626_I114_FCH7TVNBBXY_L3_OC-N4_CG.sort.bedgraph\r\n",
      "/Volumes/yaamini.venkataraman/killifish-hypoxia-RRBS/output/04-calling/new-genome/filtered/190626_I114_FCH7TVNBBXY_L3_OC-N5_CG.sort.bedgraph\r\n",
      "/Volumes/yaamini.venkataraman/killifish-hypoxia-RRBS/output/04-calling/new-genome/filtered/190626_I114_FCH7TVNBBXY_L3_OC-S2_CG.sort.bedgraph\r\n",
      "/Volumes/yaamini.venkataraman/killifish-hypoxia-RRBS/output/04-calling/new-genome/filtered/190626_I114_FCH7TVNBBXY_L3_OC-S3_CG.sort.bedgraph\r\n",
      "/Volumes/yaamini.venkataraman/killifish-hypoxia-RRBS/output/04-calling/new-genome/filtered/190626_I114_FCH7TVNBBXY_L4_20-N1_CG.sort.bedgraph\r\n",
      "/Volumes/yaamini.venkataraman/killifish-hypoxia-RRBS/output/04-calling/new-genome/filtered/190626_I114_FCH7TVNBBXY_L4_20-S2_CG.sort.bedgraph\r\n",
      "/Volumes/yaamini.venkataraman/killifish-hypoxia-RRBS/output/04-calling/new-genome/filtered/190626_I114_FCH7TVNBBXY_L4_5-S1_CG.sort.bedgraph\r\n",
      "/Volumes/yaamini.venkataraman/killifish-hypoxia-RRBS/output/04-calling/new-genome/filtered/190626_I114_FCH7TVNBBXY_L4_OC-S5_CG.sort.bedgraph\r\n"
     ]
    }
   ],
   "source": [
    "#Find files to concatenate\n",
    "!find /Volumes/yaamini.venkataraman/killifish-hypoxia-RRBS/output/04-calling/new-genome/filtered/*sort.bedgraph"
   ]
  },
  {
   "cell_type": "code",
   "execution_count": 16,
   "metadata": {
    "scrolled": true
   },
   "outputs": [
    {
     "name": "stdout",
     "output_type": "stream",
     "text": [
      "NW_023397471.1\t20968\t20969\t0.00\r\n",
      "NW_023397471.1\t20977\t20978\t0.00\r\n",
      "NW_023397471.1\t22730\t22731\t0.50\r\n",
      "NW_023397471.1\t22762\t22763\t0.33\r\n",
      "NW_023397471.1\t22789\t22790\t0.94\r\n",
      "NW_023397471.1\t22797\t22798\t1.00\r\n",
      "NW_023397471.1\t22824\t22825\t0.78\r\n",
      "NW_023397471.1\t22879\t22880\t0.97\r\n",
      "NW_023397471.1\t22892\t22893\t0.99\r\n",
      "NW_023397471.1\t22914\t22915\t0.81\r\n"
     ]
    }
   ],
   "source": [
    "!tail /Volumes/yaamini.venkataraman/killifish-hypoxia-RRBS/output/04-calling/new-genome/filtered/190626_I114_FCH7TVNBBXY_L2_20-N4_CG.sort.bedgraph"
   ]
  },
  {
   "cell_type": "code",
   "execution_count": 18,
   "metadata": {},
   "outputs": [],
   "source": [
    "#Create a union bedGraph\n",
    "#Use N/A when there is no data for a CpG in a sample\n",
    "#Define sample IDs\n",
    "#Use sorted bedgraphs\n",
    "#Cound the number of lines (CpGs) with data\n",
    "!{bedtoolsDirectory}unionBedGraphs \\\n",
    "-header \\\n",
    "-filler N/A \\\n",
    "-names N_20-N4 N_5-N1 N_5-N2 N_20-N2 N_5-N3 N_20-N1 N_OC-N5 N_OC-N1 N_OC-N2 N_OC-N4 S_20-S1 S_20-S3 S_20-S4 S_5-S3 S_5-S4 S_5-S2 S_20-S2 S_5-S1 S_OC-S1 S_OC-S2 S_OC-S3 S_OC-S5 \\\n",
    "-i /Volumes/yaamini.venkataraman/killifish-hypoxia-RRBS/output/04-calling/new-genome/filtered/*sort.bedgraph \\\n",
    "> union_10x.bedgraph"
   ]
  },
  {
   "cell_type": "code",
   "execution_count": 19,
   "metadata": {
    "scrolled": true
   },
   "outputs": [
    {
     "name": "stdout",
     "output_type": "stream",
     "text": [
      "chrom\tstart\tend\tN_20-N4\tN_5-N1\tN_5-N2\tN_20-N2\tN_5-N3\tN_20-N1\tN_OC-N5\tN_OC-N1\tN_OC-N2\tN_OC-N4\tS_20-S1\tS_20-S3\tS_20-S4\tS_5-S3\tS_5-S4\tS_5-S2\tS_20-S2\tS_5-S1\tS_OC-S1\tS_OC-S2\tS_OC-S3\tS_OC-S5\n",
      "NC_012312.1\t60\t61\tN/A\tN/A\tN/A\tN/A\tN/A\tN/A\tN/A\tN/A\tN/A\t0.00\tN/A\t0.00\t0.00\tN/A\tN/A\tN/A\tN/A\tN/A\tN/A\tN/A\tN/A\tN/A\n",
      "NC_012312.1\t61\t62\t0.00\tN/A\tN/A\t0.00\tN/A\tN/A\tN/A\tN/A\tN/A\tN/A\tN/A\tN/A\tN/A\tN/A\tN/A\t0.00\tN/A\tN/A\tN/A\tN/A\tN/A\tN/A\n",
      "NC_012312.1\t126\t127\tN/A\t0.00\tN/A\t0.00\tN/A\tN/A\tN/A\tN/A\tN/A\tN/A\t0.00\tN/A\t0.00\tN/A\tN/A\tN/A\tN/A\tN/A\tN/A\tN/A\tN/A\tN/A\n",
      "NC_012312.1\t127\t128\tN/A\tN/A\t0.00\tN/A\tN/A\tN/A\t0.00\t0.00\tN/A\tN/A\tN/A\t0.00\t0.00\tN/A\tN/A\tN/A\t0.00\tN/A\tN/A\tN/A\tN/A\tN/A\n",
      "NC_012312.1\t296\t297\tN/A\tN/A\tN/A\tN/A\tN/A\tN/A\tN/A\tN/A\tN/A\t0.01\t0.01\t0.02\t0.05\t0.01\t0.02\t0.04\t0.03\t0.01\t0.01\t0.01\tN/A\t0.03\n",
      "NC_012312.1\t307\t308\tN/A\t0.00\tN/A\tN/A\t0.00\tN/A\tN/A\tN/A\t0.00\tN/A\tN/A\t0.55\t0.00\tN/A\tN/A\tN/A\t0.00\t0.00\tN/A\tN/A\t0.00\tN/A\n",
      "NC_012312.1\t308\t309\t0.00\t0.07\t0.00\t0.00\t0.00\t0.00\tN/A\t0.00\t0.00\tN/A\t0.00\tN/A\t0.00\tN/A\tN/A\t0.00\t0.00\tN/A\tN/A\t0.01\tN/A\tN/A\n",
      "NC_012312.1\t319\t320\tN/A\tN/A\tN/A\tN/A\t0.00\tN/A\tN/A\tN/A\t0.00\tN/A\tN/A\t0.00\t0.00\tN/A\tN/A\tN/A\t0.00\t0.00\tN/A\tN/A\t0.00\tN/A\n",
      "NC_012312.1\t320\t321\t0.00\t0.00\t0.00\t0.08\t0.00\t0.00\tN/A\t0.00\t0.00\tN/A\t0.00\tN/A\t0.00\tN/A\tN/A\t0.00\t0.00\tN/A\tN/A\t0.00\tN/A\tN/A\n",
      "  439470 union_10x.bedgraph\n"
     ]
    }
   ],
   "source": [
    "#Check output\n",
    "!head union_10x.bedgraph\n",
    "!wc -l union_10x.bedgraph"
   ]
  },
  {
   "cell_type": "code",
   "execution_count": 20,
   "metadata": {},
   "outputs": [
    {
     "data": {
      "text/html": [
       "<div>\n",
       "<style scoped>\n",
       "    .dataframe tbody tr th:only-of-type {\n",
       "        vertical-align: middle;\n",
       "    }\n",
       "\n",
       "    .dataframe tbody tr th {\n",
       "        vertical-align: top;\n",
       "    }\n",
       "\n",
       "    .dataframe thead th {\n",
       "        text-align: right;\n",
       "    }\n",
       "</style>\n",
       "<table border=\"1\" class=\"dataframe\">\n",
       "  <thead>\n",
       "    <tr style=\"text-align: right;\">\n",
       "      <th></th>\n",
       "      <th>chrom</th>\n",
       "      <th>start</th>\n",
       "      <th>end</th>\n",
       "      <th>N_20-N4</th>\n",
       "      <th>N_5-N1</th>\n",
       "      <th>N_5-N2</th>\n",
       "      <th>N_20-N2</th>\n",
       "      <th>N_5-N3</th>\n",
       "      <th>N_20-N1</th>\n",
       "      <th>N_OC-N5</th>\n",
       "      <th>...</th>\n",
       "      <th>S_20-S4</th>\n",
       "      <th>S_5-S3</th>\n",
       "      <th>S_5-S4</th>\n",
       "      <th>S_5-S2</th>\n",
       "      <th>S_20-S2</th>\n",
       "      <th>S_5-S1</th>\n",
       "      <th>S_OC-S1</th>\n",
       "      <th>S_OC-S2</th>\n",
       "      <th>S_OC-S3</th>\n",
       "      <th>S_OC-S5</th>\n",
       "    </tr>\n",
       "  </thead>\n",
       "  <tbody>\n",
       "    <tr>\n",
       "      <td>0</td>\n",
       "      <td>NC_012312.1</td>\n",
       "      <td>60</td>\n",
       "      <td>61</td>\n",
       "      <td>NaN</td>\n",
       "      <td>NaN</td>\n",
       "      <td>NaN</td>\n",
       "      <td>NaN</td>\n",
       "      <td>NaN</td>\n",
       "      <td>NaN</td>\n",
       "      <td>NaN</td>\n",
       "      <td>...</td>\n",
       "      <td>0.00</td>\n",
       "      <td>NaN</td>\n",
       "      <td>NaN</td>\n",
       "      <td>NaN</td>\n",
       "      <td>NaN</td>\n",
       "      <td>NaN</td>\n",
       "      <td>NaN</td>\n",
       "      <td>NaN</td>\n",
       "      <td>NaN</td>\n",
       "      <td>NaN</td>\n",
       "    </tr>\n",
       "    <tr>\n",
       "      <td>1</td>\n",
       "      <td>NC_012312.1</td>\n",
       "      <td>61</td>\n",
       "      <td>62</td>\n",
       "      <td>0.0</td>\n",
       "      <td>NaN</td>\n",
       "      <td>NaN</td>\n",
       "      <td>0.0</td>\n",
       "      <td>NaN</td>\n",
       "      <td>NaN</td>\n",
       "      <td>NaN</td>\n",
       "      <td>...</td>\n",
       "      <td>NaN</td>\n",
       "      <td>NaN</td>\n",
       "      <td>NaN</td>\n",
       "      <td>0.00</td>\n",
       "      <td>NaN</td>\n",
       "      <td>NaN</td>\n",
       "      <td>NaN</td>\n",
       "      <td>NaN</td>\n",
       "      <td>NaN</td>\n",
       "      <td>NaN</td>\n",
       "    </tr>\n",
       "    <tr>\n",
       "      <td>2</td>\n",
       "      <td>NC_012312.1</td>\n",
       "      <td>126</td>\n",
       "      <td>127</td>\n",
       "      <td>NaN</td>\n",
       "      <td>0.0</td>\n",
       "      <td>NaN</td>\n",
       "      <td>0.0</td>\n",
       "      <td>NaN</td>\n",
       "      <td>NaN</td>\n",
       "      <td>NaN</td>\n",
       "      <td>...</td>\n",
       "      <td>0.00</td>\n",
       "      <td>NaN</td>\n",
       "      <td>NaN</td>\n",
       "      <td>NaN</td>\n",
       "      <td>NaN</td>\n",
       "      <td>NaN</td>\n",
       "      <td>NaN</td>\n",
       "      <td>NaN</td>\n",
       "      <td>NaN</td>\n",
       "      <td>NaN</td>\n",
       "    </tr>\n",
       "    <tr>\n",
       "      <td>3</td>\n",
       "      <td>NC_012312.1</td>\n",
       "      <td>127</td>\n",
       "      <td>128</td>\n",
       "      <td>NaN</td>\n",
       "      <td>NaN</td>\n",
       "      <td>0.0</td>\n",
       "      <td>NaN</td>\n",
       "      <td>NaN</td>\n",
       "      <td>NaN</td>\n",
       "      <td>0.0</td>\n",
       "      <td>...</td>\n",
       "      <td>0.00</td>\n",
       "      <td>NaN</td>\n",
       "      <td>NaN</td>\n",
       "      <td>NaN</td>\n",
       "      <td>0.00</td>\n",
       "      <td>NaN</td>\n",
       "      <td>NaN</td>\n",
       "      <td>NaN</td>\n",
       "      <td>NaN</td>\n",
       "      <td>NaN</td>\n",
       "    </tr>\n",
       "    <tr>\n",
       "      <td>4</td>\n",
       "      <td>NC_012312.1</td>\n",
       "      <td>296</td>\n",
       "      <td>297</td>\n",
       "      <td>NaN</td>\n",
       "      <td>NaN</td>\n",
       "      <td>NaN</td>\n",
       "      <td>NaN</td>\n",
       "      <td>NaN</td>\n",
       "      <td>NaN</td>\n",
       "      <td>NaN</td>\n",
       "      <td>...</td>\n",
       "      <td>0.05</td>\n",
       "      <td>0.01</td>\n",
       "      <td>0.02</td>\n",
       "      <td>0.04</td>\n",
       "      <td>0.03</td>\n",
       "      <td>0.01</td>\n",
       "      <td>0.01</td>\n",
       "      <td>0.01</td>\n",
       "      <td>NaN</td>\n",
       "      <td>0.03</td>\n",
       "    </tr>\n",
       "  </tbody>\n",
       "</table>\n",
       "<p>5 rows × 25 columns</p>\n",
       "</div>"
      ],
      "text/plain": [
       "         chrom  start  end  N_20-N4  N_5-N1  N_5-N2  N_20-N2  N_5-N3  N_20-N1  \\\n",
       "0  NC_012312.1     60   61      NaN     NaN     NaN      NaN     NaN      NaN   \n",
       "1  NC_012312.1     61   62      0.0     NaN     NaN      0.0     NaN      NaN   \n",
       "2  NC_012312.1    126  127      NaN     0.0     NaN      0.0     NaN      NaN   \n",
       "3  NC_012312.1    127  128      NaN     NaN     0.0      NaN     NaN      NaN   \n",
       "4  NC_012312.1    296  297      NaN     NaN     NaN      NaN     NaN      NaN   \n",
       "\n",
       "   N_OC-N5  ...  S_20-S4  S_5-S3  S_5-S4  S_5-S2  S_20-S2  S_5-S1  S_OC-S1  \\\n",
       "0      NaN  ...     0.00     NaN     NaN     NaN      NaN     NaN      NaN   \n",
       "1      NaN  ...      NaN     NaN     NaN    0.00      NaN     NaN      NaN   \n",
       "2      NaN  ...     0.00     NaN     NaN     NaN      NaN     NaN      NaN   \n",
       "3      0.0  ...     0.00     NaN     NaN     NaN     0.00     NaN      NaN   \n",
       "4      NaN  ...     0.05    0.01    0.02    0.04     0.03    0.01     0.01   \n",
       "\n",
       "   S_OC-S2  S_OC-S3  S_OC-S5  \n",
       "0      NaN      NaN      NaN  \n",
       "1      NaN      NaN      NaN  \n",
       "2      NaN      NaN      NaN  \n",
       "3      NaN      NaN      NaN  \n",
       "4     0.01      NaN     0.03  \n",
       "\n",
       "[5 rows x 25 columns]"
      ]
     },
     "execution_count": 20,
     "metadata": {},
     "output_type": "execute_result"
    }
   ],
   "source": [
    "#Import data into pandas\n",
    "#Check head\n",
    "df = pd.read_table(\"union_10x.bedgraph\")\n",
    "df.head(5)"
   ]
  },
  {
   "cell_type": "code",
   "execution_count": 21,
   "metadata": {
    "scrolled": true
   },
   "outputs": [
    {
     "data": {
      "text/html": [
       "<div>\n",
       "<style scoped>\n",
       "    .dataframe tbody tr th:only-of-type {\n",
       "        vertical-align: middle;\n",
       "    }\n",
       "\n",
       "    .dataframe tbody tr th {\n",
       "        vertical-align: top;\n",
       "    }\n",
       "\n",
       "    .dataframe thead th {\n",
       "        text-align: right;\n",
       "    }\n",
       "</style>\n",
       "<table border=\"1\" class=\"dataframe\">\n",
       "  <thead>\n",
       "    <tr style=\"text-align: right;\">\n",
       "      <th></th>\n",
       "      <th>chrom</th>\n",
       "      <th>start</th>\n",
       "      <th>end</th>\n",
       "      <th>N_20-N4</th>\n",
       "      <th>N_5-N1</th>\n",
       "      <th>N_5-N2</th>\n",
       "      <th>N_20-N2</th>\n",
       "      <th>N_5-N3</th>\n",
       "      <th>N_20-N1</th>\n",
       "      <th>N_OC-N5</th>\n",
       "      <th>...</th>\n",
       "      <th>S_5-S3</th>\n",
       "      <th>S_5-S4</th>\n",
       "      <th>S_5-S2</th>\n",
       "      <th>S_20-S2</th>\n",
       "      <th>S_5-S1</th>\n",
       "      <th>S_OC-S1</th>\n",
       "      <th>S_OC-S2</th>\n",
       "      <th>S_OC-S3</th>\n",
       "      <th>S_OC-S5</th>\n",
       "      <th>average</th>\n",
       "    </tr>\n",
       "  </thead>\n",
       "  <tbody>\n",
       "    <tr>\n",
       "      <td>0</td>\n",
       "      <td>NC_012312.1</td>\n",
       "      <td>60</td>\n",
       "      <td>61</td>\n",
       "      <td>NaN</td>\n",
       "      <td>NaN</td>\n",
       "      <td>NaN</td>\n",
       "      <td>NaN</td>\n",
       "      <td>NaN</td>\n",
       "      <td>NaN</td>\n",
       "      <td>NaN</td>\n",
       "      <td>...</td>\n",
       "      <td>NaN</td>\n",
       "      <td>NaN</td>\n",
       "      <td>NaN</td>\n",
       "      <td>NaN</td>\n",
       "      <td>NaN</td>\n",
       "      <td>NaN</td>\n",
       "      <td>NaN</td>\n",
       "      <td>NaN</td>\n",
       "      <td>NaN</td>\n",
       "      <td>0.000000</td>\n",
       "    </tr>\n",
       "    <tr>\n",
       "      <td>1</td>\n",
       "      <td>NC_012312.1</td>\n",
       "      <td>61</td>\n",
       "      <td>62</td>\n",
       "      <td>0.0</td>\n",
       "      <td>NaN</td>\n",
       "      <td>NaN</td>\n",
       "      <td>0.00</td>\n",
       "      <td>NaN</td>\n",
       "      <td>NaN</td>\n",
       "      <td>NaN</td>\n",
       "      <td>...</td>\n",
       "      <td>NaN</td>\n",
       "      <td>NaN</td>\n",
       "      <td>0.00</td>\n",
       "      <td>NaN</td>\n",
       "      <td>NaN</td>\n",
       "      <td>NaN</td>\n",
       "      <td>NaN</td>\n",
       "      <td>NaN</td>\n",
       "      <td>NaN</td>\n",
       "      <td>0.000000</td>\n",
       "    </tr>\n",
       "    <tr>\n",
       "      <td>2</td>\n",
       "      <td>NC_012312.1</td>\n",
       "      <td>126</td>\n",
       "      <td>127</td>\n",
       "      <td>NaN</td>\n",
       "      <td>0.00</td>\n",
       "      <td>NaN</td>\n",
       "      <td>0.00</td>\n",
       "      <td>NaN</td>\n",
       "      <td>NaN</td>\n",
       "      <td>NaN</td>\n",
       "      <td>...</td>\n",
       "      <td>NaN</td>\n",
       "      <td>NaN</td>\n",
       "      <td>NaN</td>\n",
       "      <td>NaN</td>\n",
       "      <td>NaN</td>\n",
       "      <td>NaN</td>\n",
       "      <td>NaN</td>\n",
       "      <td>NaN</td>\n",
       "      <td>NaN</td>\n",
       "      <td>0.000000</td>\n",
       "    </tr>\n",
       "    <tr>\n",
       "      <td>3</td>\n",
       "      <td>NC_012312.1</td>\n",
       "      <td>127</td>\n",
       "      <td>128</td>\n",
       "      <td>NaN</td>\n",
       "      <td>NaN</td>\n",
       "      <td>0.0</td>\n",
       "      <td>NaN</td>\n",
       "      <td>NaN</td>\n",
       "      <td>NaN</td>\n",
       "      <td>0.0</td>\n",
       "      <td>...</td>\n",
       "      <td>NaN</td>\n",
       "      <td>NaN</td>\n",
       "      <td>NaN</td>\n",
       "      <td>0.00</td>\n",
       "      <td>NaN</td>\n",
       "      <td>NaN</td>\n",
       "      <td>NaN</td>\n",
       "      <td>NaN</td>\n",
       "      <td>NaN</td>\n",
       "      <td>0.000000</td>\n",
       "    </tr>\n",
       "    <tr>\n",
       "      <td>4</td>\n",
       "      <td>NC_012312.1</td>\n",
       "      <td>296</td>\n",
       "      <td>297</td>\n",
       "      <td>NaN</td>\n",
       "      <td>NaN</td>\n",
       "      <td>NaN</td>\n",
       "      <td>NaN</td>\n",
       "      <td>NaN</td>\n",
       "      <td>NaN</td>\n",
       "      <td>NaN</td>\n",
       "      <td>...</td>\n",
       "      <td>0.01</td>\n",
       "      <td>0.02</td>\n",
       "      <td>0.04</td>\n",
       "      <td>0.03</td>\n",
       "      <td>0.01</td>\n",
       "      <td>0.01</td>\n",
       "      <td>0.01</td>\n",
       "      <td>NaN</td>\n",
       "      <td>0.03</td>\n",
       "      <td>0.020833</td>\n",
       "    </tr>\n",
       "    <tr>\n",
       "      <td>5</td>\n",
       "      <td>NC_012312.1</td>\n",
       "      <td>307</td>\n",
       "      <td>308</td>\n",
       "      <td>NaN</td>\n",
       "      <td>0.00</td>\n",
       "      <td>NaN</td>\n",
       "      <td>NaN</td>\n",
       "      <td>0.00</td>\n",
       "      <td>NaN</td>\n",
       "      <td>NaN</td>\n",
       "      <td>...</td>\n",
       "      <td>NaN</td>\n",
       "      <td>NaN</td>\n",
       "      <td>NaN</td>\n",
       "      <td>0.00</td>\n",
       "      <td>0.00</td>\n",
       "      <td>NaN</td>\n",
       "      <td>NaN</td>\n",
       "      <td>0.0</td>\n",
       "      <td>NaN</td>\n",
       "      <td>0.068750</td>\n",
       "    </tr>\n",
       "    <tr>\n",
       "      <td>6</td>\n",
       "      <td>NC_012312.1</td>\n",
       "      <td>308</td>\n",
       "      <td>309</td>\n",
       "      <td>0.0</td>\n",
       "      <td>0.07</td>\n",
       "      <td>0.0</td>\n",
       "      <td>0.00</td>\n",
       "      <td>0.00</td>\n",
       "      <td>0.0</td>\n",
       "      <td>NaN</td>\n",
       "      <td>...</td>\n",
       "      <td>NaN</td>\n",
       "      <td>NaN</td>\n",
       "      <td>0.00</td>\n",
       "      <td>0.00</td>\n",
       "      <td>NaN</td>\n",
       "      <td>NaN</td>\n",
       "      <td>0.01</td>\n",
       "      <td>NaN</td>\n",
       "      <td>NaN</td>\n",
       "      <td>0.006154</td>\n",
       "    </tr>\n",
       "    <tr>\n",
       "      <td>7</td>\n",
       "      <td>NC_012312.1</td>\n",
       "      <td>319</td>\n",
       "      <td>320</td>\n",
       "      <td>NaN</td>\n",
       "      <td>NaN</td>\n",
       "      <td>NaN</td>\n",
       "      <td>NaN</td>\n",
       "      <td>0.00</td>\n",
       "      <td>NaN</td>\n",
       "      <td>NaN</td>\n",
       "      <td>...</td>\n",
       "      <td>NaN</td>\n",
       "      <td>NaN</td>\n",
       "      <td>NaN</td>\n",
       "      <td>0.00</td>\n",
       "      <td>0.00</td>\n",
       "      <td>NaN</td>\n",
       "      <td>NaN</td>\n",
       "      <td>0.0</td>\n",
       "      <td>NaN</td>\n",
       "      <td>0.000000</td>\n",
       "    </tr>\n",
       "    <tr>\n",
       "      <td>8</td>\n",
       "      <td>NC_012312.1</td>\n",
       "      <td>320</td>\n",
       "      <td>321</td>\n",
       "      <td>0.0</td>\n",
       "      <td>0.00</td>\n",
       "      <td>0.0</td>\n",
       "      <td>0.08</td>\n",
       "      <td>0.00</td>\n",
       "      <td>0.0</td>\n",
       "      <td>NaN</td>\n",
       "      <td>...</td>\n",
       "      <td>NaN</td>\n",
       "      <td>NaN</td>\n",
       "      <td>0.00</td>\n",
       "      <td>0.00</td>\n",
       "      <td>NaN</td>\n",
       "      <td>NaN</td>\n",
       "      <td>0.00</td>\n",
       "      <td>NaN</td>\n",
       "      <td>NaN</td>\n",
       "      <td>0.006154</td>\n",
       "    </tr>\n",
       "    <tr>\n",
       "      <td>9</td>\n",
       "      <td>NC_012312.1</td>\n",
       "      <td>321</td>\n",
       "      <td>322</td>\n",
       "      <td>NaN</td>\n",
       "      <td>NaN</td>\n",
       "      <td>NaN</td>\n",
       "      <td>NaN</td>\n",
       "      <td>0.01</td>\n",
       "      <td>NaN</td>\n",
       "      <td>NaN</td>\n",
       "      <td>...</td>\n",
       "      <td>NaN</td>\n",
       "      <td>NaN</td>\n",
       "      <td>NaN</td>\n",
       "      <td>0.03</td>\n",
       "      <td>0.00</td>\n",
       "      <td>NaN</td>\n",
       "      <td>NaN</td>\n",
       "      <td>0.0</td>\n",
       "      <td>NaN</td>\n",
       "      <td>0.005714</td>\n",
       "    </tr>\n",
       "  </tbody>\n",
       "</table>\n",
       "<p>10 rows × 26 columns</p>\n",
       "</div>"
      ],
      "text/plain": [
       "         chrom  start  end  N_20-N4  N_5-N1  N_5-N2  N_20-N2  N_5-N3  N_20-N1  \\\n",
       "0  NC_012312.1     60   61      NaN     NaN     NaN      NaN     NaN      NaN   \n",
       "1  NC_012312.1     61   62      0.0     NaN     NaN     0.00     NaN      NaN   \n",
       "2  NC_012312.1    126  127      NaN    0.00     NaN     0.00     NaN      NaN   \n",
       "3  NC_012312.1    127  128      NaN     NaN     0.0      NaN     NaN      NaN   \n",
       "4  NC_012312.1    296  297      NaN     NaN     NaN      NaN     NaN      NaN   \n",
       "5  NC_012312.1    307  308      NaN    0.00     NaN      NaN    0.00      NaN   \n",
       "6  NC_012312.1    308  309      0.0    0.07     0.0     0.00    0.00      0.0   \n",
       "7  NC_012312.1    319  320      NaN     NaN     NaN      NaN    0.00      NaN   \n",
       "8  NC_012312.1    320  321      0.0    0.00     0.0     0.08    0.00      0.0   \n",
       "9  NC_012312.1    321  322      NaN     NaN     NaN      NaN    0.01      NaN   \n",
       "\n",
       "   N_OC-N5  ...  S_5-S3  S_5-S4  S_5-S2  S_20-S2  S_5-S1  S_OC-S1  S_OC-S2  \\\n",
       "0      NaN  ...     NaN     NaN     NaN      NaN     NaN      NaN      NaN   \n",
       "1      NaN  ...     NaN     NaN    0.00      NaN     NaN      NaN      NaN   \n",
       "2      NaN  ...     NaN     NaN     NaN      NaN     NaN      NaN      NaN   \n",
       "3      0.0  ...     NaN     NaN     NaN     0.00     NaN      NaN      NaN   \n",
       "4      NaN  ...    0.01    0.02    0.04     0.03    0.01     0.01     0.01   \n",
       "5      NaN  ...     NaN     NaN     NaN     0.00    0.00      NaN      NaN   \n",
       "6      NaN  ...     NaN     NaN    0.00     0.00     NaN      NaN     0.01   \n",
       "7      NaN  ...     NaN     NaN     NaN     0.00    0.00      NaN      NaN   \n",
       "8      NaN  ...     NaN     NaN    0.00     0.00     NaN      NaN     0.00   \n",
       "9      NaN  ...     NaN     NaN     NaN     0.03    0.00      NaN      NaN   \n",
       "\n",
       "   S_OC-S3  S_OC-S5   average  \n",
       "0      NaN      NaN  0.000000  \n",
       "1      NaN      NaN  0.000000  \n",
       "2      NaN      NaN  0.000000  \n",
       "3      NaN      NaN  0.000000  \n",
       "4      NaN     0.03  0.020833  \n",
       "5      0.0      NaN  0.068750  \n",
       "6      NaN      NaN  0.006154  \n",
       "7      0.0      NaN  0.000000  \n",
       "8      NaN      NaN  0.006154  \n",
       "9      0.0      NaN  0.005714  \n",
       "\n",
       "[10 rows x 26 columns]"
      ]
     },
     "execution_count": 21,
     "metadata": {},
     "output_type": "execute_result"
    }
   ],
   "source": [
    "#Average all samples for total genome methylation information and save as a new column\n",
    "#NA are not included in averages\n",
    "#Check output\n",
    "df['average'] = df[['N_20-N4', 'N_5-N1', 'N_5-N2', 'N_20-N2', 'N_5-N3', 'N_20-N1', 'N_OC-N5', 'N_OC-N1', 'N_OC-N2', 'N_OC-N4', 'S_20-S1', 'S_20-S3', 'S_20-S4', 'S_5-S3', 'S_5-S4', 'S_5-S2', 'S_20-S2', 'S_5-S1', 'S_OC-S1', 'S_OC-S2', 'S_OC-S3', 'S_OC-S5']].mean(axis=1)\n",
    "df.head(10)"
   ]
  },
  {
   "cell_type": "code",
   "execution_count": 22,
   "metadata": {},
   "outputs": [],
   "source": [
    "#Save dataframe in a tabular format and include N/As. Do not include quotes.\n",
    "df.to_csv(\"all-samples-averages-union.bedgraph\", sep = \"\\t\", na_rep = \"N/A\", quoting = 3)"
   ]
  },
  {
   "cell_type": "code",
   "execution_count": 23,
   "metadata": {
    "scrolled": true
   },
   "outputs": [
    {
     "name": "stdout",
     "output_type": "stream",
     "text": [
      "\tchrom\tstart\tend\tN_20-N4\tN_5-N1\tN_5-N2\tN_20-N2\tN_5-N3\tN_20-N1\tN_OC-N5\tN_OC-N1\tN_OC-N2\tN_OC-N4\tS_20-S1\tS_20-S3\tS_20-S4\tS_5-S3\tS_5-S4\tS_5-S2\tS_20-S2\tS_5-S1\tS_OC-S1\tS_OC-S2\tS_OC-S3\tS_OC-S5\taverage\n",
      "0\tNC_012312.1\t60\t61\tN/A\tN/A\tN/A\tN/A\tN/A\tN/A\tN/A\tN/A\tN/A\t0.0\tN/A\t0.0\t0.0\tN/A\tN/A\tN/A\tN/A\tN/A\tN/A\tN/A\tN/A\tN/A\t0.0\n",
      "1\tNC_012312.1\t61\t62\t0.0\tN/A\tN/A\t0.0\tN/A\tN/A\tN/A\tN/A\tN/A\tN/A\tN/A\tN/A\tN/A\tN/A\tN/A\t0.0\tN/A\tN/A\tN/A\tN/A\tN/A\tN/A\t0.0\n",
      "2\tNC_012312.1\t126\t127\tN/A\t0.0\tN/A\t0.0\tN/A\tN/A\tN/A\tN/A\tN/A\tN/A\t0.0\tN/A\t0.0\tN/A\tN/A\tN/A\tN/A\tN/A\tN/A\tN/A\tN/A\tN/A\t0.0\n",
      "3\tNC_012312.1\t127\t128\tN/A\tN/A\t0.0\tN/A\tN/A\tN/A\t0.0\t0.0\tN/A\tN/A\tN/A\t0.0\t0.0\tN/A\tN/A\tN/A\t0.0\tN/A\tN/A\tN/A\tN/A\tN/A\t0.0\n",
      "4\tNC_012312.1\t296\t297\tN/A\tN/A\tN/A\tN/A\tN/A\tN/A\tN/A\tN/A\tN/A\t0.01\t0.01\t0.02\t0.05\t0.01\t0.02\t0.04\t0.03\t0.01\t0.01\t0.01\tN/A\t0.03\t0.020833333333333332\n",
      "5\tNC_012312.1\t307\t308\tN/A\t0.0\tN/A\tN/A\t0.0\tN/A\tN/A\tN/A\t0.0\tN/A\tN/A\t0.55\t0.0\tN/A\tN/A\tN/A\t0.0\t0.0\tN/A\tN/A\t0.0\tN/A\t0.06875\n",
      "6\tNC_012312.1\t308\t309\t0.0\t0.07\t0.0\t0.0\t0.0\t0.0\tN/A\t0.0\t0.0\tN/A\t0.0\tN/A\t0.0\tN/A\tN/A\t0.0\t0.0\tN/A\tN/A\t0.01\tN/A\tN/A\t0.006153846153846154\n",
      "7\tNC_012312.1\t319\t320\tN/A\tN/A\tN/A\tN/A\t0.0\tN/A\tN/A\tN/A\t0.0\tN/A\tN/A\t0.0\t0.0\tN/A\tN/A\tN/A\t0.0\t0.0\tN/A\tN/A\t0.0\tN/A\t0.0\n",
      "8\tNC_012312.1\t320\t321\t0.0\t0.0\t0.0\t0.08\t0.0\t0.0\tN/A\t0.0\t0.0\tN/A\t0.0\tN/A\t0.0\tN/A\tN/A\t0.0\t0.0\tN/A\tN/A\t0.0\tN/A\tN/A\t0.006153846153846154\n",
      "  439470 all-samples-averages-union.bedgraph\n"
     ]
    }
   ],
   "source": [
    "!head all-samples-averages-union.bedgraph\n",
    "!wc -l all-samples-averages-union.bedgraph"
   ]
  },
  {
   "cell_type": "code",
   "execution_count": 24,
   "metadata": {},
   "outputs": [
    {
     "name": "stdout",
     "output_type": "stream",
     "text": [
      "average\n",
      "0.0\n",
      "0.0\n",
      "0.0\n",
      "0.0\n",
      "0.020833333333333332\n",
      "0.06875\n",
      "0.006153846153846154\n",
      "0.0\n",
      "0.006153846153846154\n",
      "cut: stdout: Broken pipe\n"
     ]
    }
   ],
   "source": [
    "#Confirm column number with average methylation information\n",
    "!cut -f27 all-samples-averages-union.bedgraph | head"
   ]
  },
  {
   "cell_type": "code",
   "execution_count": 25,
   "metadata": {},
   "outputs": [
    {
     "name": "stdout",
     "output_type": "stream",
     "text": [
      "  354151\r\n"
     ]
    }
   ],
   "source": [
    "#Remove header\n",
    "#Find CpGs with > 0% methylation\n",
    "#Count number of CpGs\n",
    "! tail -n+2 all-samples-averages-union.bedgraph \\\n",
    "| awk -F'\\t' -v OFS='\\t' '{if ($27 > 0) { print $27 }}' ${f} \\\n",
    "| wc -l"
   ]
  },
  {
   "cell_type": "code",
   "execution_count": 16,
   "metadata": {
    "scrolled": true
   },
   "outputs": [
    {
     "data": {
      "text/plain": [
       "1073548"
      ]
     },
     "execution_count": 16,
     "metadata": {},
     "output_type": "execute_result"
    }
   ],
   "source": [
    "#Number of unmethylated CpGs\n",
    "5413382 - 4339834"
   ]
  },
  {
   "cell_type": "code",
   "execution_count": 14,
   "metadata": {},
   "outputs": [
    {
     "data": {
      "text/plain": [
       "average    0.588945\n",
       "dtype: float64"
      ]
     },
     "execution_count": 14,
     "metadata": {},
     "output_type": "execute_result"
    }
   ],
   "source": [
    "#Import data into pandas\n",
    "#Calculate average methylation (pandas ignores NAs)\n",
    "df = pd.read_table(\"all-samples-averages-union.bedgraph\")\n",
    "df[['average']].mean()"
   ]
  },
  {
   "cell_type": "code",
   "execution_count": 10,
   "metadata": {},
   "outputs": [
    {
     "name": "stdout",
     "output_type": "stream",
     "text": [
      "0.588945\r\n"
     ]
    }
   ],
   "source": [
    "#Calculate average methylation using awk\n",
    "#Answer matches with pandas, so awk also ignores NAs\n",
    "! tail -n+2 all-samples-averages-union.bedgraph \\\n",
    "| awk '{ total += $27; count++ } END { print total/count }'"
   ]
  },
  {
   "cell_type": "markdown",
   "metadata": {},
   "source": [
    "## 2. Global methylation"
   ]
  },
  {
   "cell_type": "markdown",
   "metadata": {},
   "source": [
    "### 2a. Format data"
   ]
  },
  {
   "cell_type": "code",
   "execution_count": 83,
   "metadata": {},
   "outputs": [
    {
     "name": "stdout",
     "output_type": "stream",
     "text": [
      "chr\tpos\tN_20-N4\tN_5-N1\tN_5-N2\tN_20-N2\tN_5-N3\tN_20-N1\tN_OC-N5\tN_OC-N1\tN_OC-N2\tN_OC-N4\tS_20-S1\tS_20-S3\tS_20-S4\tS_5-S3\tS_5-S4\tS_5-S2\tS_20-S2\tS_5-S1\tS_OC-S1\tS_OC-S2\tS_OC-S3\tS_OC-S5\n",
      "JXMV01056319.1\t89\t0.15\t0.07\t0.00\t0.16\t0.05\t0.35\t0.22\t0.52\t0.09\t0.00\t0.06\t0.05\t0.06\t0.12\t0.03\t0.10\t0.00\t0.04\t0.02\t0.08\t0.02\t0.00\n",
      "JXMV01056319.1\t145\t0.00\t0.28\t0.00\t0.00\t0.35\t0.03\t0.00\t0.01\t0.01\t0.27\t0.08\t0.03\t0.01\t0.00\t0.01\t0.33\t0.00\t0.00\t0.02\t0.03\t0.34\t0.75\n",
      "JXMV01057363.1\t4077\t0.01\t0.00\t0.04\t0.00\t0.00\t0.00\t0.00\t0.00\t0.00\t0.00\t0.00\t0.17\t0.00\t0.00\t0.00\t0.00\t0.00\t0.00\t0.00\t0.00\t0.00\t0.00\n",
      "JXMV01057363.1\t4120\t0.13\t0.00\t0.00\t0.00\t0.00\t0.00\t0.00\t0.00\t0.00\t0.00\t0.00\t0.00\t0.00\t0.00\t0.00\t0.00\t0.00\t0.00\t0.00\t0.00\t0.00\t0.00\n",
      "JXMV01057451.1\t2455\t0.21\t0.10\t0.30\t0.00\t0.49\t0.00\t0.42\t0.16\t0.03\t0.31\t0.22\t0.03\t0.03\t0.01\t0.01\t0.12\t0.00\t0.00\t0.00\t0.38\t0.02\t0.08\n",
      "JXMV01058392.1\t169\t0.09\t0.00\t0.00\t0.21\t0.18\t0.00\t0.00\t0.00\t0.00\t0.00\t0.16\t0.11\t0.00\t0.00\t0.12\t0.09\t0.00\t0.99\t0.00\t0.00\t0.00\t0.00\n",
      "JXMV01058392.1\t174\t0.00\t0.00\t0.00\t0.00\t0.00\t0.00\t0.00\t0.00\t0.00\t0.00\t0.00\t0.00\t0.11\t0.00\t0.00\t0.00\t0.00\t0.00\t0.11\t0.60\t0.00\t0.00\n",
      "JXMV01058392.1\t183\t0.00\t0.00\t0.00\t0.00\t0.00\t0.00\t0.00\t0.00\t0.00\t0.22\t0.00\t0.00\t0.11\t0.00\t0.00\t0.00\t0.00\t0.00\t0.00\t0.00\t0.00\t0.00\n",
      "JXMV01058392.1\t190\t0.00\t0.00\t0.00\t0.06\t0.00\t0.00\t0.00\t0.00\t0.00\t0.00\t0.00\t0.00\t0.00\t0.00\t0.00\t0.08\t0.00\t0.00\t0.00\t0.00\t0.00\t0.00\n",
      "   14896 ../summarize/all_pop/all_pop_metilene_N_S.txt\n"
     ]
    }
   ],
   "source": [
    "#metilene output from all population comparison that includes all samples\n",
    "!head ../summarize/all_pop/all_pop_metilene_N_S.txt\n",
    "!wc -l ../summarize/all_pop/all_pop_metilene_N_S.txt"
   ]
  },
  {
   "cell_type": "code",
   "execution_count": 84,
   "metadata": {},
   "outputs": [
    {
     "data": {
      "text/html": [
       "<div>\n",
       "<style scoped>\n",
       "    .dataframe tbody tr th:only-of-type {\n",
       "        vertical-align: middle;\n",
       "    }\n",
       "\n",
       "    .dataframe tbody tr th {\n",
       "        vertical-align: top;\n",
       "    }\n",
       "\n",
       "    .dataframe thead th {\n",
       "        text-align: right;\n",
       "    }\n",
       "</style>\n",
       "<table border=\"1\" class=\"dataframe\">\n",
       "  <thead>\n",
       "    <tr style=\"text-align: right;\">\n",
       "      <th></th>\n",
       "      <th>chr</th>\n",
       "      <th>pos</th>\n",
       "      <th>N_20-N4</th>\n",
       "      <th>N_5-N1</th>\n",
       "      <th>N_5-N2</th>\n",
       "      <th>N_20-N2</th>\n",
       "      <th>N_5-N3</th>\n",
       "      <th>N_20-N1</th>\n",
       "      <th>N_OC-N5</th>\n",
       "      <th>N_OC-N1</th>\n",
       "      <th>...</th>\n",
       "      <th>S_20-S4</th>\n",
       "      <th>S_5-S3</th>\n",
       "      <th>S_5-S4</th>\n",
       "      <th>S_5-S2</th>\n",
       "      <th>S_20-S2</th>\n",
       "      <th>S_5-S1</th>\n",
       "      <th>S_OC-S1</th>\n",
       "      <th>S_OC-S2</th>\n",
       "      <th>S_OC-S3</th>\n",
       "      <th>S_OC-S5</th>\n",
       "    </tr>\n",
       "  </thead>\n",
       "  <tbody>\n",
       "    <tr>\n",
       "      <td>0</td>\n",
       "      <td>JXMV01056319.1</td>\n",
       "      <td>89</td>\n",
       "      <td>0.15</td>\n",
       "      <td>0.07</td>\n",
       "      <td>0.00</td>\n",
       "      <td>0.16</td>\n",
       "      <td>0.05</td>\n",
       "      <td>0.35</td>\n",
       "      <td>0.22</td>\n",
       "      <td>0.52</td>\n",
       "      <td>...</td>\n",
       "      <td>0.06</td>\n",
       "      <td>0.12</td>\n",
       "      <td>0.03</td>\n",
       "      <td>0.10</td>\n",
       "      <td>0.0</td>\n",
       "      <td>0.04</td>\n",
       "      <td>0.02</td>\n",
       "      <td>0.08</td>\n",
       "      <td>0.02</td>\n",
       "      <td>0.00</td>\n",
       "    </tr>\n",
       "    <tr>\n",
       "      <td>1</td>\n",
       "      <td>JXMV01056319.1</td>\n",
       "      <td>145</td>\n",
       "      <td>0.00</td>\n",
       "      <td>0.28</td>\n",
       "      <td>0.00</td>\n",
       "      <td>0.00</td>\n",
       "      <td>0.35</td>\n",
       "      <td>0.03</td>\n",
       "      <td>0.00</td>\n",
       "      <td>0.01</td>\n",
       "      <td>...</td>\n",
       "      <td>0.01</td>\n",
       "      <td>0.00</td>\n",
       "      <td>0.01</td>\n",
       "      <td>0.33</td>\n",
       "      <td>0.0</td>\n",
       "      <td>0.00</td>\n",
       "      <td>0.02</td>\n",
       "      <td>0.03</td>\n",
       "      <td>0.34</td>\n",
       "      <td>0.75</td>\n",
       "    </tr>\n",
       "    <tr>\n",
       "      <td>2</td>\n",
       "      <td>JXMV01057363.1</td>\n",
       "      <td>4077</td>\n",
       "      <td>0.01</td>\n",
       "      <td>0.00</td>\n",
       "      <td>0.04</td>\n",
       "      <td>0.00</td>\n",
       "      <td>0.00</td>\n",
       "      <td>0.00</td>\n",
       "      <td>0.00</td>\n",
       "      <td>0.00</td>\n",
       "      <td>...</td>\n",
       "      <td>0.00</td>\n",
       "      <td>0.00</td>\n",
       "      <td>0.00</td>\n",
       "      <td>0.00</td>\n",
       "      <td>0.0</td>\n",
       "      <td>0.00</td>\n",
       "      <td>0.00</td>\n",
       "      <td>0.00</td>\n",
       "      <td>0.00</td>\n",
       "      <td>0.00</td>\n",
       "    </tr>\n",
       "    <tr>\n",
       "      <td>3</td>\n",
       "      <td>JXMV01057363.1</td>\n",
       "      <td>4120</td>\n",
       "      <td>0.13</td>\n",
       "      <td>0.00</td>\n",
       "      <td>0.00</td>\n",
       "      <td>0.00</td>\n",
       "      <td>0.00</td>\n",
       "      <td>0.00</td>\n",
       "      <td>0.00</td>\n",
       "      <td>0.00</td>\n",
       "      <td>...</td>\n",
       "      <td>0.00</td>\n",
       "      <td>0.00</td>\n",
       "      <td>0.00</td>\n",
       "      <td>0.00</td>\n",
       "      <td>0.0</td>\n",
       "      <td>0.00</td>\n",
       "      <td>0.00</td>\n",
       "      <td>0.00</td>\n",
       "      <td>0.00</td>\n",
       "      <td>0.00</td>\n",
       "    </tr>\n",
       "    <tr>\n",
       "      <td>4</td>\n",
       "      <td>JXMV01057451.1</td>\n",
       "      <td>2455</td>\n",
       "      <td>0.21</td>\n",
       "      <td>0.10</td>\n",
       "      <td>0.30</td>\n",
       "      <td>0.00</td>\n",
       "      <td>0.49</td>\n",
       "      <td>0.00</td>\n",
       "      <td>0.42</td>\n",
       "      <td>0.16</td>\n",
       "      <td>...</td>\n",
       "      <td>0.03</td>\n",
       "      <td>0.01</td>\n",
       "      <td>0.01</td>\n",
       "      <td>0.12</td>\n",
       "      <td>0.0</td>\n",
       "      <td>0.00</td>\n",
       "      <td>0.00</td>\n",
       "      <td>0.38</td>\n",
       "      <td>0.02</td>\n",
       "      <td>0.08</td>\n",
       "    </tr>\n",
       "  </tbody>\n",
       "</table>\n",
       "<p>5 rows × 24 columns</p>\n",
       "</div>"
      ],
      "text/plain": [
       "              chr   pos  N_20-N4  N_5-N1  N_5-N2  N_20-N2  N_5-N3  N_20-N1  \\\n",
       "0  JXMV01056319.1    89     0.15    0.07    0.00     0.16    0.05     0.35   \n",
       "1  JXMV01056319.1   145     0.00    0.28    0.00     0.00    0.35     0.03   \n",
       "2  JXMV01057363.1  4077     0.01    0.00    0.04     0.00    0.00     0.00   \n",
       "3  JXMV01057363.1  4120     0.13    0.00    0.00     0.00    0.00     0.00   \n",
       "4  JXMV01057451.1  2455     0.21    0.10    0.30     0.00    0.49     0.00   \n",
       "\n",
       "   N_OC-N5  N_OC-N1  ...  S_20-S4  S_5-S3  S_5-S4  S_5-S2  S_20-S2  S_5-S1  \\\n",
       "0     0.22     0.52  ...     0.06    0.12    0.03    0.10      0.0    0.04   \n",
       "1     0.00     0.01  ...     0.01    0.00    0.01    0.33      0.0    0.00   \n",
       "2     0.00     0.00  ...     0.00    0.00    0.00    0.00      0.0    0.00   \n",
       "3     0.00     0.00  ...     0.00    0.00    0.00    0.00      0.0    0.00   \n",
       "4     0.42     0.16  ...     0.03    0.01    0.01    0.12      0.0    0.00   \n",
       "\n",
       "   S_OC-S1  S_OC-S2  S_OC-S3  S_OC-S5  \n",
       "0     0.02     0.08     0.02     0.00  \n",
       "1     0.02     0.03     0.34     0.75  \n",
       "2     0.00     0.00     0.00     0.00  \n",
       "3     0.00     0.00     0.00     0.00  \n",
       "4     0.00     0.38     0.02     0.08  \n",
       "\n",
       "[5 rows x 24 columns]"
      ]
     },
     "execution_count": 84,
     "metadata": {},
     "output_type": "execute_result"
    }
   ],
   "source": [
    "#Import data into pandas\n",
    "#Check head\n",
    "df = pd.read_table(\"../summarize/all_pop/all_pop_metilene_N_S.txt\")\n",
    "df.head(5)"
   ]
  },
  {
   "cell_type": "code",
   "execution_count": 85,
   "metadata": {
    "scrolled": true
   },
   "outputs": [
    {
     "data": {
      "text/html": [
       "<div>\n",
       "<style scoped>\n",
       "    .dataframe tbody tr th:only-of-type {\n",
       "        vertical-align: middle;\n",
       "    }\n",
       "\n",
       "    .dataframe tbody tr th {\n",
       "        vertical-align: top;\n",
       "    }\n",
       "\n",
       "    .dataframe thead th {\n",
       "        text-align: right;\n",
       "    }\n",
       "</style>\n",
       "<table border=\"1\" class=\"dataframe\">\n",
       "  <thead>\n",
       "    <tr style=\"text-align: right;\">\n",
       "      <th></th>\n",
       "      <th>chr</th>\n",
       "      <th>pos</th>\n",
       "      <th>N_20-N4</th>\n",
       "      <th>N_5-N1</th>\n",
       "      <th>N_5-N2</th>\n",
       "      <th>N_20-N2</th>\n",
       "      <th>N_5-N3</th>\n",
       "      <th>N_20-N1</th>\n",
       "      <th>N_OC-N5</th>\n",
       "      <th>N_OC-N1</th>\n",
       "      <th>...</th>\n",
       "      <th>S_5-S3</th>\n",
       "      <th>S_5-S4</th>\n",
       "      <th>S_5-S2</th>\n",
       "      <th>S_20-S2</th>\n",
       "      <th>S_5-S1</th>\n",
       "      <th>S_OC-S1</th>\n",
       "      <th>S_OC-S2</th>\n",
       "      <th>S_OC-S3</th>\n",
       "      <th>S_OC-S5</th>\n",
       "      <th>average</th>\n",
       "    </tr>\n",
       "  </thead>\n",
       "  <tbody>\n",
       "    <tr>\n",
       "      <td>0</td>\n",
       "      <td>JXMV01056319.1</td>\n",
       "      <td>89</td>\n",
       "      <td>0.15</td>\n",
       "      <td>0.07</td>\n",
       "      <td>0.00</td>\n",
       "      <td>0.16</td>\n",
       "      <td>0.05</td>\n",
       "      <td>0.35</td>\n",
       "      <td>0.22</td>\n",
       "      <td>0.52</td>\n",
       "      <td>...</td>\n",
       "      <td>0.12</td>\n",
       "      <td>0.03</td>\n",
       "      <td>0.10</td>\n",
       "      <td>0.0</td>\n",
       "      <td>0.04</td>\n",
       "      <td>0.02</td>\n",
       "      <td>0.08</td>\n",
       "      <td>0.02</td>\n",
       "      <td>0.00</td>\n",
       "      <td>0.099545</td>\n",
       "    </tr>\n",
       "    <tr>\n",
       "      <td>1</td>\n",
       "      <td>JXMV01056319.1</td>\n",
       "      <td>145</td>\n",
       "      <td>0.00</td>\n",
       "      <td>0.28</td>\n",
       "      <td>0.00</td>\n",
       "      <td>0.00</td>\n",
       "      <td>0.35</td>\n",
       "      <td>0.03</td>\n",
       "      <td>0.00</td>\n",
       "      <td>0.01</td>\n",
       "      <td>...</td>\n",
       "      <td>0.00</td>\n",
       "      <td>0.01</td>\n",
       "      <td>0.33</td>\n",
       "      <td>0.0</td>\n",
       "      <td>0.00</td>\n",
       "      <td>0.02</td>\n",
       "      <td>0.03</td>\n",
       "      <td>0.34</td>\n",
       "      <td>0.75</td>\n",
       "      <td>0.115909</td>\n",
       "    </tr>\n",
       "    <tr>\n",
       "      <td>2</td>\n",
       "      <td>JXMV01057363.1</td>\n",
       "      <td>4077</td>\n",
       "      <td>0.01</td>\n",
       "      <td>0.00</td>\n",
       "      <td>0.04</td>\n",
       "      <td>0.00</td>\n",
       "      <td>0.00</td>\n",
       "      <td>0.00</td>\n",
       "      <td>0.00</td>\n",
       "      <td>0.00</td>\n",
       "      <td>...</td>\n",
       "      <td>0.00</td>\n",
       "      <td>0.00</td>\n",
       "      <td>0.00</td>\n",
       "      <td>0.0</td>\n",
       "      <td>0.00</td>\n",
       "      <td>0.00</td>\n",
       "      <td>0.00</td>\n",
       "      <td>0.00</td>\n",
       "      <td>0.00</td>\n",
       "      <td>0.010000</td>\n",
       "    </tr>\n",
       "    <tr>\n",
       "      <td>3</td>\n",
       "      <td>JXMV01057363.1</td>\n",
       "      <td>4120</td>\n",
       "      <td>0.13</td>\n",
       "      <td>0.00</td>\n",
       "      <td>0.00</td>\n",
       "      <td>0.00</td>\n",
       "      <td>0.00</td>\n",
       "      <td>0.00</td>\n",
       "      <td>0.00</td>\n",
       "      <td>0.00</td>\n",
       "      <td>...</td>\n",
       "      <td>0.00</td>\n",
       "      <td>0.00</td>\n",
       "      <td>0.00</td>\n",
       "      <td>0.0</td>\n",
       "      <td>0.00</td>\n",
       "      <td>0.00</td>\n",
       "      <td>0.00</td>\n",
       "      <td>0.00</td>\n",
       "      <td>0.00</td>\n",
       "      <td>0.005909</td>\n",
       "    </tr>\n",
       "    <tr>\n",
       "      <td>4</td>\n",
       "      <td>JXMV01057451.1</td>\n",
       "      <td>2455</td>\n",
       "      <td>0.21</td>\n",
       "      <td>0.10</td>\n",
       "      <td>0.30</td>\n",
       "      <td>0.00</td>\n",
       "      <td>0.49</td>\n",
       "      <td>0.00</td>\n",
       "      <td>0.42</td>\n",
       "      <td>0.16</td>\n",
       "      <td>...</td>\n",
       "      <td>0.01</td>\n",
       "      <td>0.01</td>\n",
       "      <td>0.12</td>\n",
       "      <td>0.0</td>\n",
       "      <td>0.00</td>\n",
       "      <td>0.00</td>\n",
       "      <td>0.38</td>\n",
       "      <td>0.02</td>\n",
       "      <td>0.08</td>\n",
       "      <td>0.132727</td>\n",
       "    </tr>\n",
       "    <tr>\n",
       "      <td>5</td>\n",
       "      <td>JXMV01058392.1</td>\n",
       "      <td>169</td>\n",
       "      <td>0.09</td>\n",
       "      <td>0.00</td>\n",
       "      <td>0.00</td>\n",
       "      <td>0.21</td>\n",
       "      <td>0.18</td>\n",
       "      <td>0.00</td>\n",
       "      <td>0.00</td>\n",
       "      <td>0.00</td>\n",
       "      <td>...</td>\n",
       "      <td>0.00</td>\n",
       "      <td>0.12</td>\n",
       "      <td>0.09</td>\n",
       "      <td>0.0</td>\n",
       "      <td>0.99</td>\n",
       "      <td>0.00</td>\n",
       "      <td>0.00</td>\n",
       "      <td>0.00</td>\n",
       "      <td>0.00</td>\n",
       "      <td>0.088636</td>\n",
       "    </tr>\n",
       "    <tr>\n",
       "      <td>6</td>\n",
       "      <td>JXMV01058392.1</td>\n",
       "      <td>174</td>\n",
       "      <td>0.00</td>\n",
       "      <td>0.00</td>\n",
       "      <td>0.00</td>\n",
       "      <td>0.00</td>\n",
       "      <td>0.00</td>\n",
       "      <td>0.00</td>\n",
       "      <td>0.00</td>\n",
       "      <td>0.00</td>\n",
       "      <td>...</td>\n",
       "      <td>0.00</td>\n",
       "      <td>0.00</td>\n",
       "      <td>0.00</td>\n",
       "      <td>0.0</td>\n",
       "      <td>0.00</td>\n",
       "      <td>0.11</td>\n",
       "      <td>0.60</td>\n",
       "      <td>0.00</td>\n",
       "      <td>0.00</td>\n",
       "      <td>0.037273</td>\n",
       "    </tr>\n",
       "    <tr>\n",
       "      <td>7</td>\n",
       "      <td>JXMV01058392.1</td>\n",
       "      <td>183</td>\n",
       "      <td>0.00</td>\n",
       "      <td>0.00</td>\n",
       "      <td>0.00</td>\n",
       "      <td>0.00</td>\n",
       "      <td>0.00</td>\n",
       "      <td>0.00</td>\n",
       "      <td>0.00</td>\n",
       "      <td>0.00</td>\n",
       "      <td>...</td>\n",
       "      <td>0.00</td>\n",
       "      <td>0.00</td>\n",
       "      <td>0.00</td>\n",
       "      <td>0.0</td>\n",
       "      <td>0.00</td>\n",
       "      <td>0.00</td>\n",
       "      <td>0.00</td>\n",
       "      <td>0.00</td>\n",
       "      <td>0.00</td>\n",
       "      <td>0.015000</td>\n",
       "    </tr>\n",
       "    <tr>\n",
       "      <td>8</td>\n",
       "      <td>JXMV01058392.1</td>\n",
       "      <td>190</td>\n",
       "      <td>0.00</td>\n",
       "      <td>0.00</td>\n",
       "      <td>0.00</td>\n",
       "      <td>0.06</td>\n",
       "      <td>0.00</td>\n",
       "      <td>0.00</td>\n",
       "      <td>0.00</td>\n",
       "      <td>0.00</td>\n",
       "      <td>...</td>\n",
       "      <td>0.00</td>\n",
       "      <td>0.00</td>\n",
       "      <td>0.08</td>\n",
       "      <td>0.0</td>\n",
       "      <td>0.00</td>\n",
       "      <td>0.00</td>\n",
       "      <td>0.00</td>\n",
       "      <td>0.00</td>\n",
       "      <td>0.00</td>\n",
       "      <td>0.006364</td>\n",
       "    </tr>\n",
       "    <tr>\n",
       "      <td>9</td>\n",
       "      <td>JXMV01058392.1</td>\n",
       "      <td>197</td>\n",
       "      <td>0.00</td>\n",
       "      <td>0.00</td>\n",
       "      <td>0.00</td>\n",
       "      <td>0.00</td>\n",
       "      <td>0.00</td>\n",
       "      <td>0.00</td>\n",
       "      <td>0.00</td>\n",
       "      <td>0.00</td>\n",
       "      <td>...</td>\n",
       "      <td>0.00</td>\n",
       "      <td>0.00</td>\n",
       "      <td>0.05</td>\n",
       "      <td>0.0</td>\n",
       "      <td>0.00</td>\n",
       "      <td>0.13</td>\n",
       "      <td>0.00</td>\n",
       "      <td>0.00</td>\n",
       "      <td>0.00</td>\n",
       "      <td>0.008182</td>\n",
       "    </tr>\n",
       "  </tbody>\n",
       "</table>\n",
       "<p>10 rows × 25 columns</p>\n",
       "</div>"
      ],
      "text/plain": [
       "              chr   pos  N_20-N4  N_5-N1  N_5-N2  N_20-N2  N_5-N3  N_20-N1  \\\n",
       "0  JXMV01056319.1    89     0.15    0.07    0.00     0.16    0.05     0.35   \n",
       "1  JXMV01056319.1   145     0.00    0.28    0.00     0.00    0.35     0.03   \n",
       "2  JXMV01057363.1  4077     0.01    0.00    0.04     0.00    0.00     0.00   \n",
       "3  JXMV01057363.1  4120     0.13    0.00    0.00     0.00    0.00     0.00   \n",
       "4  JXMV01057451.1  2455     0.21    0.10    0.30     0.00    0.49     0.00   \n",
       "5  JXMV01058392.1   169     0.09    0.00    0.00     0.21    0.18     0.00   \n",
       "6  JXMV01058392.1   174     0.00    0.00    0.00     0.00    0.00     0.00   \n",
       "7  JXMV01058392.1   183     0.00    0.00    0.00     0.00    0.00     0.00   \n",
       "8  JXMV01058392.1   190     0.00    0.00    0.00     0.06    0.00     0.00   \n",
       "9  JXMV01058392.1   197     0.00    0.00    0.00     0.00    0.00     0.00   \n",
       "\n",
       "   N_OC-N5  N_OC-N1  ...  S_5-S3  S_5-S4  S_5-S2  S_20-S2  S_5-S1  S_OC-S1  \\\n",
       "0     0.22     0.52  ...    0.12    0.03    0.10      0.0    0.04     0.02   \n",
       "1     0.00     0.01  ...    0.00    0.01    0.33      0.0    0.00     0.02   \n",
       "2     0.00     0.00  ...    0.00    0.00    0.00      0.0    0.00     0.00   \n",
       "3     0.00     0.00  ...    0.00    0.00    0.00      0.0    0.00     0.00   \n",
       "4     0.42     0.16  ...    0.01    0.01    0.12      0.0    0.00     0.00   \n",
       "5     0.00     0.00  ...    0.00    0.12    0.09      0.0    0.99     0.00   \n",
       "6     0.00     0.00  ...    0.00    0.00    0.00      0.0    0.00     0.11   \n",
       "7     0.00     0.00  ...    0.00    0.00    0.00      0.0    0.00     0.00   \n",
       "8     0.00     0.00  ...    0.00    0.00    0.08      0.0    0.00     0.00   \n",
       "9     0.00     0.00  ...    0.00    0.00    0.05      0.0    0.00     0.13   \n",
       "\n",
       "   S_OC-S2  S_OC-S3  S_OC-S5   average  \n",
       "0     0.08     0.02     0.00  0.099545  \n",
       "1     0.03     0.34     0.75  0.115909  \n",
       "2     0.00     0.00     0.00  0.010000  \n",
       "3     0.00     0.00     0.00  0.005909  \n",
       "4     0.38     0.02     0.08  0.132727  \n",
       "5     0.00     0.00     0.00  0.088636  \n",
       "6     0.60     0.00     0.00  0.037273  \n",
       "7     0.00     0.00     0.00  0.015000  \n",
       "8     0.00     0.00     0.00  0.006364  \n",
       "9     0.00     0.00     0.00  0.008182  \n",
       "\n",
       "[10 rows x 25 columns]"
      ]
     },
     "execution_count": 85,
     "metadata": {},
     "output_type": "execute_result"
    }
   ],
   "source": [
    "#Average all samples for total genome methylation information and save as a new column\n",
    "#NA are not included in averages\n",
    "#Check output\n",
    "df['average'] = df[['N_20-N4', 'N_5-N1', 'N_5-N2', 'N_20-N2', 'N_5-N3', 'N_20-N1', 'N_OC-N5', 'N_OC-N1', 'N_OC-N2', 'N_OC-N4', 'S_20-S1', 'S_20-S3', 'S_20-S4', 'S_5-S3', 'S_5-S4', 'S_5-S2', 'S_20-S2', 'S_5-S1', 'S_OC-S1', 'S_OC-S2', 'S_OC-S3', 'S_OC-S5']].mean(axis=1)\n",
    "df.head(10)"
   ]
  },
  {
   "cell_type": "code",
   "execution_count": 86,
   "metadata": {},
   "outputs": [],
   "source": [
    "#Save dataframe in a tabular format and include N/As. Do not include quotes.\n",
    "df.to_csv(\"all-samples-averages.bedgraph\", sep = \"\\t\", na_rep = \"N/A\", quoting = 3)"
   ]
  },
  {
   "cell_type": "code",
   "execution_count": 87,
   "metadata": {
    "scrolled": true
   },
   "outputs": [
    {
     "name": "stdout",
     "output_type": "stream",
     "text": [
      "\tchr\tpos\tN_20-N4\tN_5-N1\tN_5-N2\tN_20-N2\tN_5-N3\tN_20-N1\tN_OC-N5\tN_OC-N1\tN_OC-N2\tN_OC-N4\tS_20-S1\tS_20-S3\tS_20-S4\tS_5-S3\tS_5-S4\tS_5-S2\tS_20-S2\tS_5-S1\tS_OC-S1\tS_OC-S2\tS_OC-S3\tS_OC-S5\taverage\n",
      "0\tJXMV01056319.1\t89\t0.15\t0.07\t0.0\t0.16\t0.05\t0.35\t0.22\t0.52\t0.09\t0.0\t0.06\t0.05\t0.06\t0.12\t0.03\t0.1\t0.0\t0.04\t0.02\t0.08\t0.02\t0.0\t0.09954545454545456\n",
      "1\tJXMV01056319.1\t145\t0.0\t0.28\t0.0\t0.0\t0.35\t0.03\t0.0\t0.01\t0.01\t0.27\t0.08\t0.03\t0.01\t0.0\t0.01\t0.33\t0.0\t0.0\t0.02\t0.03\t0.34\t0.75\t0.11590909090909092\n",
      "2\tJXMV01057363.1\t4077\t0.01\t0.0\t0.04\t0.0\t0.0\t0.0\t0.0\t0.0\t0.0\t0.0\t0.0\t0.17\t0.0\t0.0\t0.0\t0.0\t0.0\t0.0\t0.0\t0.0\t0.0\t0.0\t0.010000000000000002\n",
      "3\tJXMV01057363.1\t4120\t0.13\t0.0\t0.0\t0.0\t0.0\t0.0\t0.0\t0.0\t0.0\t0.0\t0.0\t0.0\t0.0\t0.0\t0.0\t0.0\t0.0\t0.0\t0.0\t0.0\t0.0\t0.0\t0.005909090909090909\n",
      "4\tJXMV01057451.1\t2455\t0.21\t0.1\t0.3\t0.0\t0.49\t0.0\t0.42\t0.16\t0.03\t0.31\t0.22\t0.03\t0.03\t0.01\t0.01\t0.12\t0.0\t0.0\t0.0\t0.38\t0.02\t0.08\t0.1327272727272727\n",
      "5\tJXMV01058392.1\t169\t0.09\t0.0\t0.0\t0.21\t0.18\t0.0\t0.0\t0.0\t0.0\t0.0\t0.16\t0.11\t0.0\t0.0\t0.12\t0.09\t0.0\t0.99\t0.0\t0.0\t0.0\t0.0\t0.08863636363636364\n",
      "6\tJXMV01058392.1\t174\t0.0\t0.0\t0.0\t0.0\t0.0\t0.0\t0.0\t0.0\t0.0\t0.0\t0.0\t0.0\t0.11\t0.0\t0.0\t0.0\t0.0\t0.0\t0.11\t0.6\t0.0\t0.0\t0.03727272727272727\n",
      "7\tJXMV01058392.1\t183\t0.0\t0.0\t0.0\t0.0\t0.0\t0.0\t0.0\t0.0\t0.0\t0.22\t0.0\t0.0\t0.11\t0.0\t0.0\t0.0\t0.0\t0.0\t0.0\t0.0\t0.0\t0.0\t0.015000000000000001\n",
      "8\tJXMV01058392.1\t190\t0.0\t0.0\t0.0\t0.06\t0.0\t0.0\t0.0\t0.0\t0.0\t0.0\t0.0\t0.0\t0.0\t0.0\t0.0\t0.08\t0.0\t0.0\t0.0\t0.0\t0.0\t0.0\t0.006363636363636364\n",
      "   14896 all-samples-averages.bedgraph\n"
     ]
    }
   ],
   "source": [
    "!head all-samples-averages.bedgraph\n",
    "!wc -l all-samples-averages.bedgraph"
   ]
  },
  {
   "cell_type": "markdown",
   "metadata": {},
   "source": [
    "### 2b. Number of methylated and unmethylated CpGs"
   ]
  },
  {
   "cell_type": "code",
   "execution_count": 18,
   "metadata": {},
   "outputs": [
    {
     "name": "stdout",
     "output_type": "stream",
     "text": [
      "average\r\n",
      "0.09954545454545456\r\n",
      "0.11590909090909092\r\n",
      "0.010000000000000002\r\n",
      "0.005909090909090909\r\n",
      "0.1327272727272727\r\n",
      "0.08863636363636364\r\n",
      "0.03727272727272727\r\n",
      "0.015000000000000001\r\n",
      "0.006363636363636364\r\n"
     ]
    }
   ],
   "source": [
    "#Confirm which column has the average methylation information\n",
    "!cut -f26 all-samples-averages.bedgraph | head"
   ]
  },
  {
   "cell_type": "code",
   "execution_count": 19,
   "metadata": {},
   "outputs": [
    {
     "name": "stdout",
     "output_type": "stream",
     "text": [
      "   13723\r\n"
     ]
    }
   ],
   "source": [
    "#Remove header\n",
    "#Find CpGs with > 0% methylation\n",
    "#Count number of CpGs\n",
    "! tail -n+2 all-samples-averages.bedgraph \\\n",
    "| awk -F'\\t' -v OFS='\\t' '{if ($26 > 0) { print $26 }}' ${f} \\\n",
    "| wc -l"
   ]
  },
  {
   "cell_type": "code",
   "execution_count": 13,
   "metadata": {},
   "outputs": [
    {
     "name": "stdout",
     "output_type": "stream",
     "text": [
      "   14895\r\n"
     ]
    }
   ],
   "source": [
    "#Remove header\n",
    "#Count number of CpGs\n",
    "! tail -n+2 all-samples-averages.bedgraph \\\n",
    "| wc -l"
   ]
  },
  {
   "cell_type": "code",
   "execution_count": 20,
   "metadata": {},
   "outputs": [
    {
     "data": {
      "text/plain": [
       "1172"
      ]
     },
     "execution_count": 20,
     "metadata": {},
     "output_type": "execute_result"
    }
   ],
   "source": [
    "#Number of unmethylated CpGs\n",
    "14895 - 13723"
   ]
  },
  {
   "cell_type": "code",
   "execution_count": 21,
   "metadata": {},
   "outputs": [
    {
     "name": "stdout",
     "output_type": "stream",
     "text": [
      "0.206832\r\n"
     ]
    }
   ],
   "source": [
    "#Calculate average methylation\n",
    "! tail -n+2 all-samples-averages.bedgraph \\\n",
    "| awk '{ total += $26; count++ } END { print total/count }'"
   ]
  },
  {
   "cell_type": "markdown",
   "metadata": {},
   "source": [
    "## 3. Methylation by population"
   ]
  },
  {
   "cell_type": "markdown",
   "metadata": {},
   "source": [
    "### 3a. New Bedford Harbor"
   ]
  },
  {
   "cell_type": "code",
   "execution_count": 27,
   "metadata": {
    "scrolled": false
   },
   "outputs": [
    {
     "name": "stdout",
     "output_type": "stream",
     "text": [
      "\u001b[31mN_20-N1.bedgraph\u001b[m\u001b[m         \u001b[31mN_5-N1.bw\u001b[m\u001b[m                \u001b[31mN_mean_HY.bedgraph\u001b[m\u001b[m\r\n",
      "\u001b[31mN_20-N1.bw\u001b[m\u001b[m               \u001b[31mN_5-N2.bedgraph\u001b[m\u001b[m          \u001b[31mN_mean_HY.bw\u001b[m\u001b[m\r\n",
      "\u001b[31mN_20-N2.bedgraph\u001b[m\u001b[m         \u001b[31mN_5-N2.bw\u001b[m\u001b[m                \u001b[31mN_mean_NO.bedgraph\u001b[m\u001b[m\r\n",
      "\u001b[31mN_20-N2.bw\u001b[m\u001b[m               \u001b[31mN_5-N3.bedgraph\u001b[m\u001b[m          \u001b[31mN_mean_NO.bw\u001b[m\u001b[m\r\n",
      "\u001b[31mN_20-N4.bedgraph\u001b[m\u001b[m         \u001b[31mN_5-N3.bw\u001b[m\u001b[m                \u001b[31mN_metilene_NO_HY.txt\u001b[m\u001b[m\r\n",
      "\u001b[31mN_20-N4.bw\u001b[m\u001b[m               \u001b[31mN_diff_NO_HY.bedgraph\u001b[m\u001b[m    \u001b[31mN_summary_NO_HY.bedgraph\u001b[m\u001b[m\r\n",
      "\u001b[31mN_5-N1.bedgraph\u001b[m\u001b[m          \u001b[31mN_diff_NO_HY.bw\u001b[m\u001b[m\r\n"
     ]
    }
   ],
   "source": [
    "!ls ../summarize/20_5_N/"
   ]
  },
  {
   "cell_type": "code",
   "execution_count": 29,
   "metadata": {},
   "outputs": [
    {
     "name": "stdout",
     "output_type": "stream",
     "text": [
      "chr\tpos\tNO_20-N4\tNO_20-N2\tNO_20-N1\tHY_5-N1\tHY_5-N2\tHY_5-N3\n",
      "JXMV01051582.1\t7435\t0.93\t0.51\t0.10\t0.80\t0.77\t0.80\n",
      "JXMV01051582.1\t7457\t0.52\t0.62\t0.30\t0.78\t0.61\t0.99\n",
      "JXMV01051582.1\t7488\t0.19\t1.00\t0.60\t0.93\t0.52\t0.78\n",
      "JXMV01051609.1\t3478\t0.02\t0.67\t0.97\t0.12\t0.63\t0.85\n",
      "JXMV01051609.1\t3495\t0.48\t0.83\t1.00\t1.00\t0.98\t1.00\n",
      "JXMV01051609.1\t3502\t0.07\t0.75\t0.03\t1.00\t0.37\t0.99\n",
      "JXMV01051609.1\t3512\t0.48\t0.83\t1.00\t1.00\t0.72\t1.00\n",
      "JXMV01051609.1\t3518\t0.59\t0.83\t1.00\t1.00\t0.72\t0.99\n",
      "JXMV01051609.1\t3523\t0.47\t0.83\t1.00\t0.08\t0.59\t1.00\n",
      "  176287 ../summarize/20_5_N/N_metilene_NO_HY.txt\n"
     ]
    }
   ],
   "source": [
    "#metilene output from NBH comparison of hypoxia and normoxia samples\n",
    "!head ../summarize/20_5_N/N_metilene_NO_HY.txt\n",
    "!wc -l ../summarize/20_5_N/N_metilene_NO_HY.txt"
   ]
  },
  {
   "cell_type": "code",
   "execution_count": 30,
   "metadata": {},
   "outputs": [
    {
     "data": {
      "text/html": [
       "<div>\n",
       "<style scoped>\n",
       "    .dataframe tbody tr th:only-of-type {\n",
       "        vertical-align: middle;\n",
       "    }\n",
       "\n",
       "    .dataframe tbody tr th {\n",
       "        vertical-align: top;\n",
       "    }\n",
       "\n",
       "    .dataframe thead th {\n",
       "        text-align: right;\n",
       "    }\n",
       "</style>\n",
       "<table border=\"1\" class=\"dataframe\">\n",
       "  <thead>\n",
       "    <tr style=\"text-align: right;\">\n",
       "      <th></th>\n",
       "      <th>chr</th>\n",
       "      <th>pos</th>\n",
       "      <th>NO_20-N4</th>\n",
       "      <th>NO_20-N2</th>\n",
       "      <th>NO_20-N1</th>\n",
       "      <th>HY_5-N1</th>\n",
       "      <th>HY_5-N2</th>\n",
       "      <th>HY_5-N3</th>\n",
       "    </tr>\n",
       "  </thead>\n",
       "  <tbody>\n",
       "    <tr>\n",
       "      <td>0</td>\n",
       "      <td>JXMV01051582.1</td>\n",
       "      <td>7435</td>\n",
       "      <td>0.93</td>\n",
       "      <td>0.51</td>\n",
       "      <td>0.10</td>\n",
       "      <td>0.80</td>\n",
       "      <td>0.77</td>\n",
       "      <td>0.80</td>\n",
       "    </tr>\n",
       "    <tr>\n",
       "      <td>1</td>\n",
       "      <td>JXMV01051582.1</td>\n",
       "      <td>7457</td>\n",
       "      <td>0.52</td>\n",
       "      <td>0.62</td>\n",
       "      <td>0.30</td>\n",
       "      <td>0.78</td>\n",
       "      <td>0.61</td>\n",
       "      <td>0.99</td>\n",
       "    </tr>\n",
       "    <tr>\n",
       "      <td>2</td>\n",
       "      <td>JXMV01051582.1</td>\n",
       "      <td>7488</td>\n",
       "      <td>0.19</td>\n",
       "      <td>1.00</td>\n",
       "      <td>0.60</td>\n",
       "      <td>0.93</td>\n",
       "      <td>0.52</td>\n",
       "      <td>0.78</td>\n",
       "    </tr>\n",
       "    <tr>\n",
       "      <td>3</td>\n",
       "      <td>JXMV01051609.1</td>\n",
       "      <td>3478</td>\n",
       "      <td>0.02</td>\n",
       "      <td>0.67</td>\n",
       "      <td>0.97</td>\n",
       "      <td>0.12</td>\n",
       "      <td>0.63</td>\n",
       "      <td>0.85</td>\n",
       "    </tr>\n",
       "    <tr>\n",
       "      <td>4</td>\n",
       "      <td>JXMV01051609.1</td>\n",
       "      <td>3495</td>\n",
       "      <td>0.48</td>\n",
       "      <td>0.83</td>\n",
       "      <td>1.00</td>\n",
       "      <td>1.00</td>\n",
       "      <td>0.98</td>\n",
       "      <td>1.00</td>\n",
       "    </tr>\n",
       "  </tbody>\n",
       "</table>\n",
       "</div>"
      ],
      "text/plain": [
       "              chr   pos  NO_20-N4  NO_20-N2  NO_20-N1  HY_5-N1  HY_5-N2  \\\n",
       "0  JXMV01051582.1  7435      0.93      0.51      0.10     0.80     0.77   \n",
       "1  JXMV01051582.1  7457      0.52      0.62      0.30     0.78     0.61   \n",
       "2  JXMV01051582.1  7488      0.19      1.00      0.60     0.93     0.52   \n",
       "3  JXMV01051609.1  3478      0.02      0.67      0.97     0.12     0.63   \n",
       "4  JXMV01051609.1  3495      0.48      0.83      1.00     1.00     0.98   \n",
       "\n",
       "   HY_5-N3  \n",
       "0     0.80  \n",
       "1     0.99  \n",
       "2     0.78  \n",
       "3     0.85  \n",
       "4     1.00  "
      ]
     },
     "execution_count": 30,
     "metadata": {},
     "output_type": "execute_result"
    }
   ],
   "source": [
    "#Import data into pandas\n",
    "#Check head\n",
    "df = pd.read_table(\"../summarize/20_5_N/N_metilene_NO_HY.txt\")\n",
    "df.head(5)"
   ]
  },
  {
   "cell_type": "code",
   "execution_count": 31,
   "metadata": {
    "scrolled": true
   },
   "outputs": [
    {
     "data": {
      "text/html": [
       "<div>\n",
       "<style scoped>\n",
       "    .dataframe tbody tr th:only-of-type {\n",
       "        vertical-align: middle;\n",
       "    }\n",
       "\n",
       "    .dataframe tbody tr th {\n",
       "        vertical-align: top;\n",
       "    }\n",
       "\n",
       "    .dataframe thead th {\n",
       "        text-align: right;\n",
       "    }\n",
       "</style>\n",
       "<table border=\"1\" class=\"dataframe\">\n",
       "  <thead>\n",
       "    <tr style=\"text-align: right;\">\n",
       "      <th></th>\n",
       "      <th>chr</th>\n",
       "      <th>pos</th>\n",
       "      <th>NO_20-N4</th>\n",
       "      <th>NO_20-N2</th>\n",
       "      <th>NO_20-N1</th>\n",
       "      <th>HY_5-N1</th>\n",
       "      <th>HY_5-N2</th>\n",
       "      <th>HY_5-N3</th>\n",
       "      <th>average</th>\n",
       "    </tr>\n",
       "  </thead>\n",
       "  <tbody>\n",
       "    <tr>\n",
       "      <td>0</td>\n",
       "      <td>JXMV01051582.1</td>\n",
       "      <td>7435</td>\n",
       "      <td>0.93</td>\n",
       "      <td>0.51</td>\n",
       "      <td>0.10</td>\n",
       "      <td>0.80</td>\n",
       "      <td>0.77</td>\n",
       "      <td>0.80</td>\n",
       "      <td>0.651667</td>\n",
       "    </tr>\n",
       "    <tr>\n",
       "      <td>1</td>\n",
       "      <td>JXMV01051582.1</td>\n",
       "      <td>7457</td>\n",
       "      <td>0.52</td>\n",
       "      <td>0.62</td>\n",
       "      <td>0.30</td>\n",
       "      <td>0.78</td>\n",
       "      <td>0.61</td>\n",
       "      <td>0.99</td>\n",
       "      <td>0.636667</td>\n",
       "    </tr>\n",
       "    <tr>\n",
       "      <td>2</td>\n",
       "      <td>JXMV01051582.1</td>\n",
       "      <td>7488</td>\n",
       "      <td>0.19</td>\n",
       "      <td>1.00</td>\n",
       "      <td>0.60</td>\n",
       "      <td>0.93</td>\n",
       "      <td>0.52</td>\n",
       "      <td>0.78</td>\n",
       "      <td>0.670000</td>\n",
       "    </tr>\n",
       "    <tr>\n",
       "      <td>3</td>\n",
       "      <td>JXMV01051609.1</td>\n",
       "      <td>3478</td>\n",
       "      <td>0.02</td>\n",
       "      <td>0.67</td>\n",
       "      <td>0.97</td>\n",
       "      <td>0.12</td>\n",
       "      <td>0.63</td>\n",
       "      <td>0.85</td>\n",
       "      <td>0.543333</td>\n",
       "    </tr>\n",
       "    <tr>\n",
       "      <td>4</td>\n",
       "      <td>JXMV01051609.1</td>\n",
       "      <td>3495</td>\n",
       "      <td>0.48</td>\n",
       "      <td>0.83</td>\n",
       "      <td>1.00</td>\n",
       "      <td>1.00</td>\n",
       "      <td>0.98</td>\n",
       "      <td>1.00</td>\n",
       "      <td>0.881667</td>\n",
       "    </tr>\n",
       "    <tr>\n",
       "      <td>5</td>\n",
       "      <td>JXMV01051609.1</td>\n",
       "      <td>3502</td>\n",
       "      <td>0.07</td>\n",
       "      <td>0.75</td>\n",
       "      <td>0.03</td>\n",
       "      <td>1.00</td>\n",
       "      <td>0.37</td>\n",
       "      <td>0.99</td>\n",
       "      <td>0.535000</td>\n",
       "    </tr>\n",
       "    <tr>\n",
       "      <td>6</td>\n",
       "      <td>JXMV01051609.1</td>\n",
       "      <td>3512</td>\n",
       "      <td>0.48</td>\n",
       "      <td>0.83</td>\n",
       "      <td>1.00</td>\n",
       "      <td>1.00</td>\n",
       "      <td>0.72</td>\n",
       "      <td>1.00</td>\n",
       "      <td>0.838333</td>\n",
       "    </tr>\n",
       "    <tr>\n",
       "      <td>7</td>\n",
       "      <td>JXMV01051609.1</td>\n",
       "      <td>3518</td>\n",
       "      <td>0.59</td>\n",
       "      <td>0.83</td>\n",
       "      <td>1.00</td>\n",
       "      <td>1.00</td>\n",
       "      <td>0.72</td>\n",
       "      <td>0.99</td>\n",
       "      <td>0.855000</td>\n",
       "    </tr>\n",
       "    <tr>\n",
       "      <td>8</td>\n",
       "      <td>JXMV01051609.1</td>\n",
       "      <td>3523</td>\n",
       "      <td>0.47</td>\n",
       "      <td>0.83</td>\n",
       "      <td>1.00</td>\n",
       "      <td>0.08</td>\n",
       "      <td>0.59</td>\n",
       "      <td>1.00</td>\n",
       "      <td>0.661667</td>\n",
       "    </tr>\n",
       "    <tr>\n",
       "      <td>9</td>\n",
       "      <td>JXMV01051609.1</td>\n",
       "      <td>12744</td>\n",
       "      <td>0.98</td>\n",
       "      <td>1.00</td>\n",
       "      <td>0.00</td>\n",
       "      <td>1.00</td>\n",
       "      <td>0.79</td>\n",
       "      <td>1.00</td>\n",
       "      <td>0.795000</td>\n",
       "    </tr>\n",
       "  </tbody>\n",
       "</table>\n",
       "</div>"
      ],
      "text/plain": [
       "              chr    pos  NO_20-N4  NO_20-N2  NO_20-N1  HY_5-N1  HY_5-N2  \\\n",
       "0  JXMV01051582.1   7435      0.93      0.51      0.10     0.80     0.77   \n",
       "1  JXMV01051582.1   7457      0.52      0.62      0.30     0.78     0.61   \n",
       "2  JXMV01051582.1   7488      0.19      1.00      0.60     0.93     0.52   \n",
       "3  JXMV01051609.1   3478      0.02      0.67      0.97     0.12     0.63   \n",
       "4  JXMV01051609.1   3495      0.48      0.83      1.00     1.00     0.98   \n",
       "5  JXMV01051609.1   3502      0.07      0.75      0.03     1.00     0.37   \n",
       "6  JXMV01051609.1   3512      0.48      0.83      1.00     1.00     0.72   \n",
       "7  JXMV01051609.1   3518      0.59      0.83      1.00     1.00     0.72   \n",
       "8  JXMV01051609.1   3523      0.47      0.83      1.00     0.08     0.59   \n",
       "9  JXMV01051609.1  12744      0.98      1.00      0.00     1.00     0.79   \n",
       "\n",
       "   HY_5-N3   average  \n",
       "0     0.80  0.651667  \n",
       "1     0.99  0.636667  \n",
       "2     0.78  0.670000  \n",
       "3     0.85  0.543333  \n",
       "4     1.00  0.881667  \n",
       "5     0.99  0.535000  \n",
       "6     1.00  0.838333  \n",
       "7     0.99  0.855000  \n",
       "8     1.00  0.661667  \n",
       "9     1.00  0.795000  "
      ]
     },
     "execution_count": 31,
     "metadata": {},
     "output_type": "execute_result"
    }
   ],
   "source": [
    "#Average all samples for total genome methylation information and save as a new column\n",
    "#NA are not included in averages\n",
    "#Check output\n",
    "df['average'] = df[['NO_20-N4', 'NO_20-N2', 'NO_20-N1', 'HY_5-N1', 'HY_5-N2', 'HY_5-N3']].mean(axis=1)\n",
    "df.head(10)"
   ]
  },
  {
   "cell_type": "code",
   "execution_count": 32,
   "metadata": {},
   "outputs": [],
   "source": [
    "#Save dataframe in a tabular format and include N/As. Do not include quotes.\n",
    "df.to_csv(\"N-samples-averages.bedgraph\", sep = \"\\t\", na_rep = \"N/A\", quoting = 3)"
   ]
  },
  {
   "cell_type": "code",
   "execution_count": 33,
   "metadata": {
    "scrolled": true
   },
   "outputs": [
    {
     "name": "stdout",
     "output_type": "stream",
     "text": [
      "\tchr\tpos\tNO_20-N4\tNO_20-N2\tNO_20-N1\tHY_5-N1\tHY_5-N2\tHY_5-N3\taverage\n",
      "0\tJXMV01051582.1\t7435\t0.93\t0.51\t0.1\t0.8\t0.77\t0.8\t0.6516666666666667\n",
      "1\tJXMV01051582.1\t7457\t0.52\t0.62\t0.3\t0.78\t0.61\t0.99\t0.6366666666666667\n",
      "2\tJXMV01051582.1\t7488\t0.19\t1.0\t0.6\t0.93\t0.52\t0.78\t0.67\n",
      "3\tJXMV01051609.1\t3478\t0.02\t0.67\t0.97\t0.12\t0.63\t0.85\t0.5433333333333333\n",
      "4\tJXMV01051609.1\t3495\t0.48\t0.83\t1.0\t1.0\t0.98\t1.0\t0.8816666666666667\n",
      "5\tJXMV01051609.1\t3502\t0.07\t0.75\t0.03\t1.0\t0.37\t0.99\t0.535\n",
      "6\tJXMV01051609.1\t3512\t0.48\t0.83\t1.0\t1.0\t0.72\t1.0\t0.8383333333333334\n",
      "7\tJXMV01051609.1\t3518\t0.59\t0.83\t1.0\t1.0\t0.72\t0.99\t0.855\n",
      "8\tJXMV01051609.1\t3523\t0.47\t0.83\t1.0\t0.08\t0.59\t1.0\t0.6616666666666666\n",
      "  176287 N-samples-averages.bedgraph\n"
     ]
    }
   ],
   "source": [
    "!head N-samples-averages.bedgraph\n",
    "!wc -l N-samples-averages.bedgraph"
   ]
  },
  {
   "cell_type": "code",
   "execution_count": 34,
   "metadata": {},
   "outputs": [
    {
     "name": "stdout",
     "output_type": "stream",
     "text": [
      "  116821\r\n"
     ]
    }
   ],
   "source": [
    "#Remove header\n",
    "#Find CpGs with > 0% methylation\n",
    "#Count number of CpGs\n",
    "! tail -n+2 N-samples-averages.bedgraph \\\n",
    "| awk -F'\\t' -v OFS='\\t' '{if ($10 > 0) { print $10 }}' ${f} \\\n",
    "| wc -l"
   ]
  },
  {
   "cell_type": "code",
   "execution_count": 35,
   "metadata": {
    "scrolled": true
   },
   "outputs": [
    {
     "name": "stdout",
     "output_type": "stream",
     "text": [
      "  176286\r\n"
     ]
    }
   ],
   "source": [
    "#Remove header\n",
    "#Count number of CpGs\n",
    "! tail -n+2 N-samples-averages.bedgraph \\\n",
    "| wc -l"
   ]
  },
  {
   "cell_type": "code",
   "execution_count": 36,
   "metadata": {},
   "outputs": [
    {
     "data": {
      "text/plain": [
       "59465"
      ]
     },
     "execution_count": 36,
     "metadata": {},
     "output_type": "execute_result"
    }
   ],
   "source": [
    "#Number of unmethylated CpGs\n",
    "176286 - 116821"
   ]
  },
  {
   "cell_type": "code",
   "execution_count": 37,
   "metadata": {},
   "outputs": [
    {
     "name": "stdout",
     "output_type": "stream",
     "text": [
      "0.212373\r\n"
     ]
    }
   ],
   "source": [
    "#Calculate average methylation\n",
    "! tail -n+2 N-samples-averages.bedgraph \\\n",
    "| awk '{ total += $10; count++ } END { print total/count }'"
   ]
  },
  {
   "cell_type": "markdown",
   "metadata": {},
   "source": [
    "### 3b. Scorton Creek"
   ]
  },
  {
   "cell_type": "code",
   "execution_count": 38,
   "metadata": {
    "scrolled": false
   },
   "outputs": [
    {
     "name": "stdout",
     "output_type": "stream",
     "text": [
      "\u001b[31mS_20-S1.bedgraph\u001b[m\u001b[m         \u001b[31mS_5-S1.bedgraph\u001b[m\u001b[m          \u001b[31mS_diff_NO_HY.bedgraph\u001b[m\u001b[m\r\n",
      "\u001b[31mS_20-S1.bw\u001b[m\u001b[m               \u001b[31mS_5-S1.bw\u001b[m\u001b[m                \u001b[31mS_diff_NO_HY.bw\u001b[m\u001b[m\r\n",
      "\u001b[31mS_20-S2.bedgraph\u001b[m\u001b[m         \u001b[31mS_5-S2.bedgraph\u001b[m\u001b[m          \u001b[31mS_mean_HY.bedgraph\u001b[m\u001b[m\r\n",
      "\u001b[31mS_20-S2.bw\u001b[m\u001b[m               \u001b[31mS_5-S2.bw\u001b[m\u001b[m                \u001b[31mS_mean_HY.bw\u001b[m\u001b[m\r\n",
      "\u001b[31mS_20-S3.bedgraph\u001b[m\u001b[m         \u001b[31mS_5-S3.bedgraph\u001b[m\u001b[m          \u001b[31mS_mean_NO.bedgraph\u001b[m\u001b[m\r\n",
      "\u001b[31mS_20-S3.bw\u001b[m\u001b[m               \u001b[31mS_5-S3.bw\u001b[m\u001b[m                \u001b[31mS_mean_NO.bw\u001b[m\u001b[m\r\n",
      "\u001b[31mS_20-S4.bedgraph\u001b[m\u001b[m         \u001b[31mS_5-S4.bedgraph\u001b[m\u001b[m          \u001b[31mS_metilene_NO_HY.txt\u001b[m\u001b[m\r\n",
      "\u001b[31mS_20-S4.bw\u001b[m\u001b[m               \u001b[31mS_5-S4.bw\u001b[m\u001b[m                \u001b[31mS_summary_NO_HY.bedgraph\u001b[m\u001b[m\r\n"
     ]
    }
   ],
   "source": [
    "!ls ../summarize/20_5_S/"
   ]
  },
  {
   "cell_type": "code",
   "execution_count": 39,
   "metadata": {},
   "outputs": [
    {
     "name": "stdout",
     "output_type": "stream",
     "text": [
      "chr\tpos\tNO_20-S1\tNO_20-S3\tNO_20-S4\tNO_20-S2\tHY_5-S3\tHY_5-S4\tHY_5-S2\tHY_5-S1\n",
      "JXMV01052040.1\t7874\t0.29\t0.06\t0.19\t0.33\t0.25\t0.35\t0.07\t0.31\n",
      "JXMV01052596.1\t1405\t0.00\t0.00\t0.00\t0.00\t0.01\t0.00\t0.00\t0.00\n",
      "JXMV01052596.1\t16005\t0.00\t0.00\t0.00\t0.00\t0.18\t0.01\t0.00\t0.00\n",
      "JXMV01052596.1\t16038\t0.00\t0.00\t0.00\t0.00\t0.18\t0.00\t0.00\t0.00\n",
      "JXMV01052596.1\t16084\t0.00\t0.00\t0.00\t0.00\t0.18\t0.00\t0.00\t0.00\n",
      "JXMV01052596.1\t16088\t0.00\t0.00\t0.00\t0.00\t0.18\t0.00\t0.00\t0.00\n",
      "JXMV01052596.1\t16095\t0.00\t0.00\t0.00\t0.00\t0.00\t0.00\t0.00\t0.00\n",
      "JXMV01054326.1\t10898\t0.68\t0.45\t0.72\t0.90\t0.99\t0.83\t0.74\t0.03\n",
      "JXMV01054326.1\t10903\t0.83\t0.45\t0.99\t0.90\t0.84\t0.91\t0.59\t1.00\n",
      "   82306 ../summarize/20_5_S/S_metilene_NO_HY.txt\n"
     ]
    }
   ],
   "source": [
    "#metilene output from NBH comparison of hypoxia and normoxia samples\n",
    "!head ../summarize/20_5_S/S_metilene_NO_HY.txt\n",
    "!wc -l ../summarize/20_5_S/S_metilene_NO_HY.txt"
   ]
  },
  {
   "cell_type": "code",
   "execution_count": 40,
   "metadata": {},
   "outputs": [
    {
     "data": {
      "text/html": [
       "<div>\n",
       "<style scoped>\n",
       "    .dataframe tbody tr th:only-of-type {\n",
       "        vertical-align: middle;\n",
       "    }\n",
       "\n",
       "    .dataframe tbody tr th {\n",
       "        vertical-align: top;\n",
       "    }\n",
       "\n",
       "    .dataframe thead th {\n",
       "        text-align: right;\n",
       "    }\n",
       "</style>\n",
       "<table border=\"1\" class=\"dataframe\">\n",
       "  <thead>\n",
       "    <tr style=\"text-align: right;\">\n",
       "      <th></th>\n",
       "      <th>chr</th>\n",
       "      <th>pos</th>\n",
       "      <th>NO_20-S1</th>\n",
       "      <th>NO_20-S3</th>\n",
       "      <th>NO_20-S4</th>\n",
       "      <th>NO_20-S2</th>\n",
       "      <th>HY_5-S3</th>\n",
       "      <th>HY_5-S4</th>\n",
       "      <th>HY_5-S2</th>\n",
       "      <th>HY_5-S1</th>\n",
       "    </tr>\n",
       "  </thead>\n",
       "  <tbody>\n",
       "    <tr>\n",
       "      <td>0</td>\n",
       "      <td>JXMV01052040.1</td>\n",
       "      <td>7874</td>\n",
       "      <td>0.29</td>\n",
       "      <td>0.06</td>\n",
       "      <td>0.19</td>\n",
       "      <td>0.33</td>\n",
       "      <td>0.25</td>\n",
       "      <td>0.35</td>\n",
       "      <td>0.07</td>\n",
       "      <td>0.31</td>\n",
       "    </tr>\n",
       "    <tr>\n",
       "      <td>1</td>\n",
       "      <td>JXMV01052596.1</td>\n",
       "      <td>1405</td>\n",
       "      <td>0.00</td>\n",
       "      <td>0.00</td>\n",
       "      <td>0.00</td>\n",
       "      <td>0.00</td>\n",
       "      <td>0.01</td>\n",
       "      <td>0.00</td>\n",
       "      <td>0.00</td>\n",
       "      <td>0.00</td>\n",
       "    </tr>\n",
       "    <tr>\n",
       "      <td>2</td>\n",
       "      <td>JXMV01052596.1</td>\n",
       "      <td>16005</td>\n",
       "      <td>0.00</td>\n",
       "      <td>0.00</td>\n",
       "      <td>0.00</td>\n",
       "      <td>0.00</td>\n",
       "      <td>0.18</td>\n",
       "      <td>0.01</td>\n",
       "      <td>0.00</td>\n",
       "      <td>0.00</td>\n",
       "    </tr>\n",
       "    <tr>\n",
       "      <td>3</td>\n",
       "      <td>JXMV01052596.1</td>\n",
       "      <td>16038</td>\n",
       "      <td>0.00</td>\n",
       "      <td>0.00</td>\n",
       "      <td>0.00</td>\n",
       "      <td>0.00</td>\n",
       "      <td>0.18</td>\n",
       "      <td>0.00</td>\n",
       "      <td>0.00</td>\n",
       "      <td>0.00</td>\n",
       "    </tr>\n",
       "    <tr>\n",
       "      <td>4</td>\n",
       "      <td>JXMV01052596.1</td>\n",
       "      <td>16084</td>\n",
       "      <td>0.00</td>\n",
       "      <td>0.00</td>\n",
       "      <td>0.00</td>\n",
       "      <td>0.00</td>\n",
       "      <td>0.18</td>\n",
       "      <td>0.00</td>\n",
       "      <td>0.00</td>\n",
       "      <td>0.00</td>\n",
       "    </tr>\n",
       "  </tbody>\n",
       "</table>\n",
       "</div>"
      ],
      "text/plain": [
       "              chr    pos  NO_20-S1  NO_20-S3  NO_20-S4  NO_20-S2  HY_5-S3  \\\n",
       "0  JXMV01052040.1   7874      0.29      0.06      0.19      0.33     0.25   \n",
       "1  JXMV01052596.1   1405      0.00      0.00      0.00      0.00     0.01   \n",
       "2  JXMV01052596.1  16005      0.00      0.00      0.00      0.00     0.18   \n",
       "3  JXMV01052596.1  16038      0.00      0.00      0.00      0.00     0.18   \n",
       "4  JXMV01052596.1  16084      0.00      0.00      0.00      0.00     0.18   \n",
       "\n",
       "   HY_5-S4  HY_5-S2  HY_5-S1  \n",
       "0     0.35     0.07     0.31  \n",
       "1     0.00     0.00     0.00  \n",
       "2     0.01     0.00     0.00  \n",
       "3     0.00     0.00     0.00  \n",
       "4     0.00     0.00     0.00  "
      ]
     },
     "execution_count": 40,
     "metadata": {},
     "output_type": "execute_result"
    }
   ],
   "source": [
    "#Import data into pandas\n",
    "#Check head\n",
    "df = pd.read_table(\"../summarize/20_5_S/S_metilene_NO_HY.txt\")\n",
    "df.head(5)"
   ]
  },
  {
   "cell_type": "code",
   "execution_count": 41,
   "metadata": {
    "scrolled": true
   },
   "outputs": [
    {
     "data": {
      "text/html": [
       "<div>\n",
       "<style scoped>\n",
       "    .dataframe tbody tr th:only-of-type {\n",
       "        vertical-align: middle;\n",
       "    }\n",
       "\n",
       "    .dataframe tbody tr th {\n",
       "        vertical-align: top;\n",
       "    }\n",
       "\n",
       "    .dataframe thead th {\n",
       "        text-align: right;\n",
       "    }\n",
       "</style>\n",
       "<table border=\"1\" class=\"dataframe\">\n",
       "  <thead>\n",
       "    <tr style=\"text-align: right;\">\n",
       "      <th></th>\n",
       "      <th>chr</th>\n",
       "      <th>pos</th>\n",
       "      <th>NO_20-S1</th>\n",
       "      <th>NO_20-S3</th>\n",
       "      <th>NO_20-S4</th>\n",
       "      <th>NO_20-S2</th>\n",
       "      <th>HY_5-S3</th>\n",
       "      <th>HY_5-S4</th>\n",
       "      <th>HY_5-S2</th>\n",
       "      <th>HY_5-S1</th>\n",
       "      <th>average</th>\n",
       "    </tr>\n",
       "  </thead>\n",
       "  <tbody>\n",
       "    <tr>\n",
       "      <td>0</td>\n",
       "      <td>JXMV01052040.1</td>\n",
       "      <td>7874</td>\n",
       "      <td>0.29</td>\n",
       "      <td>0.06</td>\n",
       "      <td>0.19</td>\n",
       "      <td>0.33</td>\n",
       "      <td>0.25</td>\n",
       "      <td>0.35</td>\n",
       "      <td>0.07</td>\n",
       "      <td>0.31</td>\n",
       "      <td>0.23125</td>\n",
       "    </tr>\n",
       "    <tr>\n",
       "      <td>1</td>\n",
       "      <td>JXMV01052596.1</td>\n",
       "      <td>1405</td>\n",
       "      <td>0.00</td>\n",
       "      <td>0.00</td>\n",
       "      <td>0.00</td>\n",
       "      <td>0.00</td>\n",
       "      <td>0.01</td>\n",
       "      <td>0.00</td>\n",
       "      <td>0.00</td>\n",
       "      <td>0.00</td>\n",
       "      <td>0.00125</td>\n",
       "    </tr>\n",
       "    <tr>\n",
       "      <td>2</td>\n",
       "      <td>JXMV01052596.1</td>\n",
       "      <td>16005</td>\n",
       "      <td>0.00</td>\n",
       "      <td>0.00</td>\n",
       "      <td>0.00</td>\n",
       "      <td>0.00</td>\n",
       "      <td>0.18</td>\n",
       "      <td>0.01</td>\n",
       "      <td>0.00</td>\n",
       "      <td>0.00</td>\n",
       "      <td>0.02375</td>\n",
       "    </tr>\n",
       "    <tr>\n",
       "      <td>3</td>\n",
       "      <td>JXMV01052596.1</td>\n",
       "      <td>16038</td>\n",
       "      <td>0.00</td>\n",
       "      <td>0.00</td>\n",
       "      <td>0.00</td>\n",
       "      <td>0.00</td>\n",
       "      <td>0.18</td>\n",
       "      <td>0.00</td>\n",
       "      <td>0.00</td>\n",
       "      <td>0.00</td>\n",
       "      <td>0.02250</td>\n",
       "    </tr>\n",
       "    <tr>\n",
       "      <td>4</td>\n",
       "      <td>JXMV01052596.1</td>\n",
       "      <td>16084</td>\n",
       "      <td>0.00</td>\n",
       "      <td>0.00</td>\n",
       "      <td>0.00</td>\n",
       "      <td>0.00</td>\n",
       "      <td>0.18</td>\n",
       "      <td>0.00</td>\n",
       "      <td>0.00</td>\n",
       "      <td>0.00</td>\n",
       "      <td>0.02250</td>\n",
       "    </tr>\n",
       "    <tr>\n",
       "      <td>5</td>\n",
       "      <td>JXMV01052596.1</td>\n",
       "      <td>16088</td>\n",
       "      <td>0.00</td>\n",
       "      <td>0.00</td>\n",
       "      <td>0.00</td>\n",
       "      <td>0.00</td>\n",
       "      <td>0.18</td>\n",
       "      <td>0.00</td>\n",
       "      <td>0.00</td>\n",
       "      <td>0.00</td>\n",
       "      <td>0.02250</td>\n",
       "    </tr>\n",
       "    <tr>\n",
       "      <td>6</td>\n",
       "      <td>JXMV01052596.1</td>\n",
       "      <td>16095</td>\n",
       "      <td>0.00</td>\n",
       "      <td>0.00</td>\n",
       "      <td>0.00</td>\n",
       "      <td>0.00</td>\n",
       "      <td>0.00</td>\n",
       "      <td>0.00</td>\n",
       "      <td>0.00</td>\n",
       "      <td>0.00</td>\n",
       "      <td>0.00000</td>\n",
       "    </tr>\n",
       "    <tr>\n",
       "      <td>7</td>\n",
       "      <td>JXMV01054326.1</td>\n",
       "      <td>10898</td>\n",
       "      <td>0.68</td>\n",
       "      <td>0.45</td>\n",
       "      <td>0.72</td>\n",
       "      <td>0.90</td>\n",
       "      <td>0.99</td>\n",
       "      <td>0.83</td>\n",
       "      <td>0.74</td>\n",
       "      <td>0.03</td>\n",
       "      <td>0.66750</td>\n",
       "    </tr>\n",
       "    <tr>\n",
       "      <td>8</td>\n",
       "      <td>JXMV01054326.1</td>\n",
       "      <td>10903</td>\n",
       "      <td>0.83</td>\n",
       "      <td>0.45</td>\n",
       "      <td>0.99</td>\n",
       "      <td>0.90</td>\n",
       "      <td>0.84</td>\n",
       "      <td>0.91</td>\n",
       "      <td>0.59</td>\n",
       "      <td>1.00</td>\n",
       "      <td>0.81375</td>\n",
       "    </tr>\n",
       "    <tr>\n",
       "      <td>9</td>\n",
       "      <td>JXMV01054326.1</td>\n",
       "      <td>10905</td>\n",
       "      <td>0.88</td>\n",
       "      <td>0.45</td>\n",
       "      <td>0.69</td>\n",
       "      <td>0.90</td>\n",
       "      <td>0.56</td>\n",
       "      <td>0.78</td>\n",
       "      <td>0.48</td>\n",
       "      <td>0.99</td>\n",
       "      <td>0.71625</td>\n",
       "    </tr>\n",
       "  </tbody>\n",
       "</table>\n",
       "</div>"
      ],
      "text/plain": [
       "              chr    pos  NO_20-S1  NO_20-S3  NO_20-S4  NO_20-S2  HY_5-S3  \\\n",
       "0  JXMV01052040.1   7874      0.29      0.06      0.19      0.33     0.25   \n",
       "1  JXMV01052596.1   1405      0.00      0.00      0.00      0.00     0.01   \n",
       "2  JXMV01052596.1  16005      0.00      0.00      0.00      0.00     0.18   \n",
       "3  JXMV01052596.1  16038      0.00      0.00      0.00      0.00     0.18   \n",
       "4  JXMV01052596.1  16084      0.00      0.00      0.00      0.00     0.18   \n",
       "5  JXMV01052596.1  16088      0.00      0.00      0.00      0.00     0.18   \n",
       "6  JXMV01052596.1  16095      0.00      0.00      0.00      0.00     0.00   \n",
       "7  JXMV01054326.1  10898      0.68      0.45      0.72      0.90     0.99   \n",
       "8  JXMV01054326.1  10903      0.83      0.45      0.99      0.90     0.84   \n",
       "9  JXMV01054326.1  10905      0.88      0.45      0.69      0.90     0.56   \n",
       "\n",
       "   HY_5-S4  HY_5-S2  HY_5-S1  average  \n",
       "0     0.35     0.07     0.31  0.23125  \n",
       "1     0.00     0.00     0.00  0.00125  \n",
       "2     0.01     0.00     0.00  0.02375  \n",
       "3     0.00     0.00     0.00  0.02250  \n",
       "4     0.00     0.00     0.00  0.02250  \n",
       "5     0.00     0.00     0.00  0.02250  \n",
       "6     0.00     0.00     0.00  0.00000  \n",
       "7     0.83     0.74     0.03  0.66750  \n",
       "8     0.91     0.59     1.00  0.81375  \n",
       "9     0.78     0.48     0.99  0.71625  "
      ]
     },
     "execution_count": 41,
     "metadata": {},
     "output_type": "execute_result"
    }
   ],
   "source": [
    "#Average all samples for total genome methylation information and save as a new column\n",
    "#NA are not included in averages\n",
    "#Check output\n",
    "df['average'] = df[['NO_20-S1', 'NO_20-S3', 'NO_20-S4', 'NO_20-S2', 'HY_5-S3', 'HY_5-S4', 'HY_5-S2', 'HY_5-S1']].mean(axis=1)\n",
    "df.head(10)"
   ]
  },
  {
   "cell_type": "code",
   "execution_count": 42,
   "metadata": {},
   "outputs": [],
   "source": [
    "#Save dataframe in a tabular format and include N/As. Do not include quotes.\n",
    "df.to_csv(\"S-samples-averages.bedgraph\", sep = \"\\t\", na_rep = \"N/A\", quoting = 3)"
   ]
  },
  {
   "cell_type": "code",
   "execution_count": 43,
   "metadata": {
    "scrolled": true
   },
   "outputs": [
    {
     "name": "stdout",
     "output_type": "stream",
     "text": [
      "\tchr\tpos\tNO_20-S1\tNO_20-S3\tNO_20-S4\tNO_20-S2\tHY_5-S3\tHY_5-S4\tHY_5-S2\tHY_5-S1\taverage\n",
      "0\tJXMV01052040.1\t7874\t0.29\t0.06\t0.19\t0.33\t0.25\t0.35\t0.07\t0.31\t0.23125000000000004\n",
      "1\tJXMV01052596.1\t1405\t0.0\t0.0\t0.0\t0.0\t0.01\t0.0\t0.0\t0.0\t0.00125\n",
      "2\tJXMV01052596.1\t16005\t0.0\t0.0\t0.0\t0.0\t0.18\t0.01\t0.0\t0.0\t0.02375\n",
      "3\tJXMV01052596.1\t16038\t0.0\t0.0\t0.0\t0.0\t0.18\t0.0\t0.0\t0.0\t0.0225\n",
      "4\tJXMV01052596.1\t16084\t0.0\t0.0\t0.0\t0.0\t0.18\t0.0\t0.0\t0.0\t0.0225\n",
      "5\tJXMV01052596.1\t16088\t0.0\t0.0\t0.0\t0.0\t0.18\t0.0\t0.0\t0.0\t0.0225\n",
      "6\tJXMV01052596.1\t16095\t0.0\t0.0\t0.0\t0.0\t0.0\t0.0\t0.0\t0.0\t0.0\n",
      "7\tJXMV01054326.1\t10898\t0.68\t0.45\t0.72\t0.9\t0.99\t0.83\t0.74\t0.03\t0.6675000000000001\n",
      "8\tJXMV01054326.1\t10903\t0.83\t0.45\t0.99\t0.9\t0.84\t0.91\t0.59\t1.0\t0.81375\n",
      "   82306 S-samples-averages.bedgraph\n"
     ]
    }
   ],
   "source": [
    "!head S-samples-averages.bedgraph\n",
    "!wc -l S-samples-averages.bedgraph"
   ]
  },
  {
   "cell_type": "code",
   "execution_count": 44,
   "metadata": {},
   "outputs": [
    {
     "name": "stdout",
     "output_type": "stream",
     "text": [
      "   57338\r\n"
     ]
    }
   ],
   "source": [
    "#Remove header\n",
    "#Find CpGs with > 0% methylation\n",
    "#Count number of CpGs\n",
    "! tail -n+2 S-samples-averages.bedgraph \\\n",
    "| awk -F'\\t' -v OFS='\\t' '{if ($12 > 0) { print $12 }}' ${f} \\\n",
    "| wc -l"
   ]
  },
  {
   "cell_type": "code",
   "execution_count": 45,
   "metadata": {
    "scrolled": true
   },
   "outputs": [
    {
     "name": "stdout",
     "output_type": "stream",
     "text": [
      "   82305\r\n"
     ]
    }
   ],
   "source": [
    "#Remove header\n",
    "#Count number of CpGs\n",
    "! tail -n+2 S-samples-averages.bedgraph \\\n",
    "| wc -l"
   ]
  },
  {
   "cell_type": "code",
   "execution_count": 46,
   "metadata": {},
   "outputs": [
    {
     "data": {
      "text/plain": [
       "24967"
      ]
     },
     "execution_count": 46,
     "metadata": {},
     "output_type": "execute_result"
    }
   ],
   "source": [
    "#Number of unmethylated CpGs\n",
    "82305 - 57338"
   ]
  },
  {
   "cell_type": "code",
   "execution_count": 47,
   "metadata": {},
   "outputs": [
    {
     "name": "stdout",
     "output_type": "stream",
     "text": [
      "0.162864\r\n"
     ]
    }
   ],
   "source": [
    "#Calculate average methylation\n",
    "! tail -n+2 S-samples-averages.bedgraph \\\n",
    "| awk '{ total += $12; count++ } END { print total/count }'"
   ]
  },
  {
   "cell_type": "markdown",
   "metadata": {},
   "source": [
    "## 4. Methylation by population and oxygen treatment"
   ]
  },
  {
   "cell_type": "markdown",
   "metadata": {},
   "source": [
    "### 4a. New Bedford Harbor"
   ]
  },
  {
   "cell_type": "markdown",
   "metadata": {},
   "source": [
    "#### Hypoxia"
   ]
  },
  {
   "cell_type": "code",
   "execution_count": 101,
   "metadata": {
    "scrolled": true
   },
   "outputs": [
    {
     "name": "stdout",
     "output_type": "stream",
     "text": [
      "#chr\tstart\tend\tmean_HY\n",
      "JXMV01051582.1\t7434\t7435\t0.79\n",
      "JXMV01051582.1\t7456\t7457\t0.793333333333333\n",
      "JXMV01051582.1\t7487\t7488\t0.743333333333334\n",
      "JXMV01051609.1\t3477\t3478\t0.533333333333333\n",
      "JXMV01051609.1\t3494\t3495\t0.993333333333333\n",
      "JXMV01051609.1\t3501\t3502\t0.786666666666667\n",
      "JXMV01051609.1\t3511\t3512\t0.906666666666667\n",
      "JXMV01051609.1\t3517\t3518\t0.903333333333333\n",
      "JXMV01051609.1\t3522\t3523\t0.556666666666667\n",
      "  176287 ../summarize/20_5_N/N_mean_HY.bedgraph\n"
     ]
    }
   ],
   "source": [
    "#metilene output from all population comparison that includes all samples\n",
    "!head ../summarize/20_5_N/N_mean_HY.bedgraph\n",
    "!wc -l ../summarize/20_5_N/N_mean_HY.bedgraph"
   ]
  },
  {
   "cell_type": "code",
   "execution_count": 26,
   "metadata": {},
   "outputs": [
    {
     "name": "stdout",
     "output_type": "stream",
     "text": [
      "   96857\r\n"
     ]
    }
   ],
   "source": [
    "#Remove header\n",
    "#Find CpGs with > 0% methylation\n",
    "#Count number of CpGs\n",
    "! tail -n+2 ../summarize/20_5_N/N_mean_HY.bedgraph \\\n",
    "| awk -F'\\t' -v OFS='\\t' '{if ($4 > 0) { print $4 }}' ${f} \\\n",
    "| wc -l"
   ]
  },
  {
   "cell_type": "code",
   "execution_count": 27,
   "metadata": {
    "scrolled": true
   },
   "outputs": [
    {
     "name": "stdout",
     "output_type": "stream",
     "text": [
      "  176286\r\n"
     ]
    }
   ],
   "source": [
    "#Remove header\n",
    "#Count number of CpGs\n",
    "! tail -n+2 ../summarize/20_5_N/N_mean_HY.bedgraph \\\n",
    "| wc -l"
   ]
  },
  {
   "cell_type": "code",
   "execution_count": 28,
   "metadata": {},
   "outputs": [
    {
     "data": {
      "text/plain": [
       "79429"
      ]
     },
     "execution_count": 28,
     "metadata": {},
     "output_type": "execute_result"
    }
   ],
   "source": [
    "#Count the number of unmethylated CpGs\n",
    "176286 - 96857"
   ]
  },
  {
   "cell_type": "code",
   "execution_count": 106,
   "metadata": {
    "scrolled": true
   },
   "outputs": [
    {
     "name": "stdout",
     "output_type": "stream",
     "text": [
      "0.220691\r\n"
     ]
    }
   ],
   "source": [
    "#Calculate average methylation\n",
    "! tail -n+2 ../summarize/20_5_N/N_mean_HY.bedgraph \\\n",
    "| awk '{ total += $4; count++ } END { print total/count }'"
   ]
  },
  {
   "cell_type": "markdown",
   "metadata": {},
   "source": [
    "#### Normoxia"
   ]
  },
  {
   "cell_type": "code",
   "execution_count": 107,
   "metadata": {
    "scrolled": true
   },
   "outputs": [
    {
     "name": "stdout",
     "output_type": "stream",
     "text": [
      "#chr\tstart\tend\tmean_NO\n",
      "JXMV01051582.1\t7434\t7435\t0.513333333333333\n",
      "JXMV01051582.1\t7456\t7457\t0.48\n",
      "JXMV01051582.1\t7487\t7488\t0.596666666666667\n",
      "JXMV01051609.1\t3477\t3478\t0.553333333333333\n",
      "JXMV01051609.1\t3494\t3495\t0.77\n",
      "JXMV01051609.1\t3501\t3502\t0.283333333333333\n",
      "JXMV01051609.1\t3511\t3512\t0.77\n",
      "JXMV01051609.1\t3517\t3518\t0.806666666666667\n",
      "JXMV01051609.1\t3522\t3523\t0.766666666666667\n",
      "  176287 ../summarize/20_5_N/N_mean_NO.bedgraph\n"
     ]
    }
   ],
   "source": [
    "#metilene output from all population comparison that includes all samples\n",
    "!head ../summarize/20_5_N/N_mean_NO.bedgraph\n",
    "!wc -l ../summarize/20_5_N/N_mean_NO.bedgraph"
   ]
  },
  {
   "cell_type": "code",
   "execution_count": 29,
   "metadata": {},
   "outputs": [
    {
     "name": "stdout",
     "output_type": "stream",
     "text": [
      "   93895\r\n"
     ]
    }
   ],
   "source": [
    "#Remove header\n",
    "#Find CpGs with > 0% methylation\n",
    "#Count number of CpGs\n",
    "! tail -n+2 ../summarize/20_5_N/N_mean_NO.bedgraph \\\n",
    "| awk -F'\\t' -v OFS='\\t' '{if ($4 > 0) { print $4 }}' ${f} \\\n",
    "| wc -l"
   ]
  },
  {
   "cell_type": "code",
   "execution_count": 30,
   "metadata": {
    "scrolled": true
   },
   "outputs": [
    {
     "name": "stdout",
     "output_type": "stream",
     "text": [
      "  176286\r\n"
     ]
    }
   ],
   "source": [
    "#Remove header\n",
    "#Count number of CpGs\n",
    "! tail -n+2 ../summarize/20_5_N/N_mean_NO.bedgraph \\\n",
    "| wc -l"
   ]
  },
  {
   "cell_type": "code",
   "execution_count": 31,
   "metadata": {
    "scrolled": true
   },
   "outputs": [
    {
     "data": {
      "text/plain": [
       "82391"
      ]
     },
     "execution_count": 31,
     "metadata": {},
     "output_type": "execute_result"
    }
   ],
   "source": [
    "#Count the number of unmethylated CpGs\n",
    "176286 - 93895"
   ]
  },
  {
   "cell_type": "code",
   "execution_count": 110,
   "metadata": {},
   "outputs": [
    {
     "name": "stdout",
     "output_type": "stream",
     "text": [
      "0.204056\r\n"
     ]
    }
   ],
   "source": [
    "#Calculate average methylation\n",
    "! tail -n+2 ../summarize/20_5_N/N_mean_NO.bedgraph \\\n",
    "| awk '{ total += $4; count++ } END { print total/count }'"
   ]
  },
  {
   "cell_type": "markdown",
   "metadata": {},
   "source": [
    "### 4b. Scorton Creek"
   ]
  },
  {
   "cell_type": "markdown",
   "metadata": {},
   "source": [
    "#### Hypoxia"
   ]
  },
  {
   "cell_type": "code",
   "execution_count": 112,
   "metadata": {
    "scrolled": true
   },
   "outputs": [
    {
     "name": "stdout",
     "output_type": "stream",
     "text": [
      "#chr\tstart\tend\tmean_HY\n",
      "JXMV01052040.1\t7873\t7874\t0.245\n",
      "JXMV01052596.1\t1404\t1405\t0.0025\n",
      "JXMV01052596.1\t16004\t16005\t0.0475\n",
      "JXMV01052596.1\t16037\t16038\t0.045\n",
      "JXMV01052596.1\t16083\t16084\t0.045\n",
      "JXMV01052596.1\t16087\t16088\t0.045\n",
      "JXMV01052596.1\t16094\t16095\t0\n",
      "JXMV01054326.1\t10897\t10898\t0.6475\n",
      "JXMV01054326.1\t10902\t10903\t0.835\n",
      "   82306 ../summarize/20_5_S/S_mean_HY.bedgraph\n"
     ]
    }
   ],
   "source": [
    "#metilene output from all population comparison that includes all samples\n",
    "!head ../summarize/20_5_S/S_mean_HY.bedgraph\n",
    "!wc -l ../summarize/20_5_S/S_mean_HY.bedgraph"
   ]
  },
  {
   "cell_type": "code",
   "execution_count": 32,
   "metadata": {},
   "outputs": [
    {
     "name": "stdout",
     "output_type": "stream",
     "text": [
      "   22694\r\n"
     ]
    }
   ],
   "source": [
    "#Remove header\n",
    "#Find CpGs with > 0% methylation\n",
    "#Count number of CpGs\n",
    "! tail -n+2 ../summarize/20_5_S/S_mean_HY.bedgraph \\\n",
    "| awk -F'\\t' -v OFS='\\t' '{if ($4 > .1) { print $4 }}' ${f} \\\n",
    "| wc -l"
   ]
  },
  {
   "cell_type": "code",
   "execution_count": 33,
   "metadata": {
    "scrolled": true
   },
   "outputs": [
    {
     "name": "stdout",
     "output_type": "stream",
     "text": [
      "   82305\r\n"
     ]
    }
   ],
   "source": [
    "#Remove header\n",
    "#Count number of CpGs\n",
    "! tail -n+2 ../summarize/20_5_S/S_mean_HY.bedgraph \\\n",
    "| wc -l"
   ]
  },
  {
   "cell_type": "code",
   "execution_count": 34,
   "metadata": {},
   "outputs": [
    {
     "data": {
      "text/plain": [
       "59611"
      ]
     },
     "execution_count": 34,
     "metadata": {},
     "output_type": "execute_result"
    }
   ],
   "source": [
    "#Count the number of unmethylated CpGs\n",
    "82305 - 22694"
   ]
  },
  {
   "cell_type": "code",
   "execution_count": 115,
   "metadata": {},
   "outputs": [
    {
     "name": "stdout",
     "output_type": "stream",
     "text": [
      "0.164196\r\n"
     ]
    }
   ],
   "source": [
    "#Calculate average methylation\n",
    "! tail -n+2 ../summarize/20_5_S/S_mean_HY.bedgraph \\\n",
    "| awk '{ total += $4; count++ } END { print total/count }'"
   ]
  },
  {
   "cell_type": "markdown",
   "metadata": {},
   "source": [
    "#### Normoxia"
   ]
  },
  {
   "cell_type": "code",
   "execution_count": 116,
   "metadata": {
    "scrolled": true
   },
   "outputs": [
    {
     "name": "stdout",
     "output_type": "stream",
     "text": [
      "#chr\tstart\tend\tmean_NO\n",
      "JXMV01052040.1\t7873\t7874\t0.2175\n",
      "JXMV01052596.1\t1404\t1405\t0\n",
      "JXMV01052596.1\t16004\t16005\t0\n",
      "JXMV01052596.1\t16037\t16038\t0\n",
      "JXMV01052596.1\t16083\t16084\t0\n",
      "JXMV01052596.1\t16087\t16088\t0\n",
      "JXMV01052596.1\t16094\t16095\t0\n",
      "JXMV01054326.1\t10897\t10898\t0.6875\n",
      "JXMV01054326.1\t10902\t10903\t0.7925\n",
      "   82306 ../summarize/20_5_S/S_mean_NO.bedgraph\n"
     ]
    }
   ],
   "source": [
    "#metilene output from all population comparison that includes all samples\n",
    "!head ../summarize/20_5_S/S_mean_NO.bedgraph\n",
    "!wc -l ../summarize/20_5_S/S_mean_NO.bedgraph"
   ]
  },
  {
   "cell_type": "code",
   "execution_count": 35,
   "metadata": {},
   "outputs": [
    {
     "name": "stdout",
     "output_type": "stream",
     "text": [
      "   45661\r\n"
     ]
    }
   ],
   "source": [
    "#Remove header\n",
    "#Find CpGs with > 0% methylation\n",
    "#Count number of CpGs\n",
    "! tail -n+2 ../summarize/20_5_S/S_mean_NO.bedgraph \\\n",
    "| awk -F'\\t' -v OFS='\\t' '{if ($4 > 0) { print $4 }}' ${f} \\\n",
    "| wc -l"
   ]
  },
  {
   "cell_type": "code",
   "execution_count": 36,
   "metadata": {
    "scrolled": true
   },
   "outputs": [
    {
     "name": "stdout",
     "output_type": "stream",
     "text": [
      "   82305\r\n"
     ]
    }
   ],
   "source": [
    "#Remove header\n",
    "#Count number of CpGs\n",
    "! tail -n+2 ../summarize/20_5_S/S_mean_NO.bedgraph \\\n",
    "| wc -l"
   ]
  },
  {
   "cell_type": "code",
   "execution_count": 37,
   "metadata": {},
   "outputs": [
    {
     "data": {
      "text/plain": [
       "36644"
      ]
     },
     "execution_count": 37,
     "metadata": {},
     "output_type": "execute_result"
    }
   ],
   "source": [
    "#Count the number of unmethylated CpGs\n",
    "82305 - 45661"
   ]
  },
  {
   "cell_type": "code",
   "execution_count": 119,
   "metadata": {},
   "outputs": [
    {
     "name": "stdout",
     "output_type": "stream",
     "text": [
      "0.161531\r\n"
     ]
    }
   ],
   "source": [
    "#Calculate average methylation\n",
    "! tail -n+2 ../summarize/20_5_S/S_mean_NO.bedgraph \\\n",
    "| awk '{ total += $4; count++ } END { print total/count }'"
   ]
  },
  {
   "cell_type": "code",
   "execution_count": null,
   "metadata": {},
   "outputs": [],
   "source": []
  }
 ],
 "metadata": {
  "kernelspec": {
   "display_name": "Python 3",
   "language": "python",
   "name": "python3"
  },
  "language_info": {
   "codemirror_mode": {
    "name": "ipython",
    "version": 3
   },
   "file_extension": ".py",
   "mimetype": "text/x-python",
   "name": "python",
   "nbconvert_exporter": "python",
   "pygments_lexer": "ipython3",
   "version": "3.7.4"
  }
 },
 "nbformat": 4,
 "nbformat_minor": 2
}
